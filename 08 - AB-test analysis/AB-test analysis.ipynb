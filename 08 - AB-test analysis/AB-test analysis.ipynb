{
 "cells": [
  {
   "cell_type": "markdown",
   "metadata": {},
   "source": [
    "# Приоритизация гипотез по увеличению выручки интернет-магазина и анализ результатов проведённого A/B-теста"
   ]
  },
  {
   "cell_type": "markdown",
   "metadata": {},
   "source": [
    "---"
   ]
  },
  {
   "cell_type": "markdown",
   "metadata": {
    "toc": true
   },
   "source": [
    "<h1>Содержание<span class=\"tocSkip\"></span></h1>\n",
    "<div class=\"toc\"><ul class=\"toc-item\"><li><span><a href=\"#Импорт-библиотек-и-определение-функций-проекта\" data-toc-modified-id=\"Импорт-библиотек-и-определение-функций-проекта-1\"><span class=\"toc-item-num\">1&nbsp;&nbsp;</span>Импорт библиотек и определение функций проекта</a></span><ul class=\"toc-item\"><li><span><a href=\"#Импорт-библиотек\" data-toc-modified-id=\"Импорт-библиотек-1.1\"><span class=\"toc-item-num\">1.1&nbsp;&nbsp;</span>Импорт библиотек</a></span></li><li><span><a href=\"#Функции-загрузки-и-обзора-данных\" data-toc-modified-id=\"Функции-загрузки-и-обзора-данных-1.2\"><span class=\"toc-item-num\">1.2&nbsp;&nbsp;</span>Функции загрузки и обзора данных</a></span></li><li><span><a href=\"#Функция-расчёта-кумулятивных-метрик\" data-toc-modified-id=\"Функция-расчёта-кумулятивных-метрик-1.3\"><span class=\"toc-item-num\">1.3&nbsp;&nbsp;</span>Функция расчёта кумулятивных метрик</a></span></li></ul></li><li><span><a href=\"#Приоритизация-гипотез-по-увеличению-выручки\" data-toc-modified-id=\"Приоритизация-гипотез-по-увеличению-выручки-2\"><span class=\"toc-item-num\">2&nbsp;&nbsp;</span>Приоритизация гипотез по увеличению выручки</a></span><ul class=\"toc-item\"><li><span><a href=\"#Обзор-данных\" data-toc-modified-id=\"Обзор-данных-2.1\"><span class=\"toc-item-num\">2.1&nbsp;&nbsp;</span>Обзор данных</a></span></li><li><span><a href=\"#Предварительная-обработка\" data-toc-modified-id=\"Предварительная-обработка-2.2\"><span class=\"toc-item-num\">2.2&nbsp;&nbsp;</span>Предварительная обработка</a></span></li><li><span><a href=\"#Приоритизация-гипотез\" data-toc-modified-id=\"Приоритизация-гипотез-2.3\"><span class=\"toc-item-num\">2.3&nbsp;&nbsp;</span>Приоритизация гипотез</a></span><ul class=\"toc-item\"><li><span><a href=\"#Приоритизация-с-помошью-фреймворка-ICE\" data-toc-modified-id=\"Приоритизация-с-помошью-фреймворка-ICE-2.3.1\"><span class=\"toc-item-num\">2.3.1&nbsp;&nbsp;</span>Приоритизация с помошью фреймворка ICE</a></span></li><li><span><a href=\"#Приоритизация-с-помошью-фреймворка-RICE\" data-toc-modified-id=\"Приоритизация-с-помошью-фреймворка-RICE-2.3.2\"><span class=\"toc-item-num\">2.3.2&nbsp;&nbsp;</span>Приоритизация с помошью фреймворка RICE</a></span></li></ul></li><li><span><a href=\"#Выводы\" data-toc-modified-id=\"Выводы-2.4\"><span class=\"toc-item-num\">2.4&nbsp;&nbsp;</span>Выводы</a></span></li></ul></li><li><span><a href=\"#Анализ-результатов-A/B-теста\" data-toc-modified-id=\"Анализ-результатов-A/B-теста-3\"><span class=\"toc-item-num\">3&nbsp;&nbsp;</span>Анализ результатов A/B-теста</a></span><ul class=\"toc-item\"><li><span><a href=\"#Обзор-данных\" data-toc-modified-id=\"Обзор-данных-3.1\"><span class=\"toc-item-num\">3.1&nbsp;&nbsp;</span>Обзор данных</a></span></li><li><span><a href=\"#Предварительная-обработка-данных-проведённого-А/В-теста\" data-toc-modified-id=\"Предварительная-обработка-данных-проведённого-А/В-теста-3.2\"><span class=\"toc-item-num\">3.2&nbsp;&nbsp;</span>Предварительная обработка данных проведённого А/В-теста</a></span></li><li><span><a href=\"#Исследование-аномалий-данных-A/B-теста\" data-toc-modified-id=\"Исследование-аномалий-данных-A/B-теста-3.3\"><span class=\"toc-item-num\">3.3&nbsp;&nbsp;</span>Исследование аномалий данных A/B-теста</a></span></li><li><span><a href=\"#Определение-динамики-кумулятивной-выручки-по-группам\" data-toc-modified-id=\"Определение-динамики-кумулятивной-выручки-по-группам-3.4\"><span class=\"toc-item-num\">3.4&nbsp;&nbsp;</span>Определение динамики кумулятивной выручки по группам</a></span></li><li><span><a href=\"#Определение-динамики-кумулятивного-среднего-чека-по-группам\" data-toc-modified-id=\"Определение-динамики-кумулятивного-среднего-чека-по-группам-3.5\"><span class=\"toc-item-num\">3.5&nbsp;&nbsp;</span>Определение динамики кумулятивного среднего чека по группам</a></span></li><li><span><a href=\"#Определение-динамики-относительного-изменения-кумулятивного-среднего-чека-группы-B-к-группе-A\" data-toc-modified-id=\"Определение-динамики-относительного-изменения-кумулятивного-среднего-чека-группы-B-к-группе-A-3.6\"><span class=\"toc-item-num\">3.6&nbsp;&nbsp;</span>Определение динамики относительного изменения кумулятивного среднего чека группы B к группе A</a></span></li><li><span><a href=\"#Определение-динамики-кумулятивной-конверсии-по-группам\" data-toc-modified-id=\"Определение-динамики-кумулятивной-конверсии-по-группам-3.7\"><span class=\"toc-item-num\">3.7&nbsp;&nbsp;</span>Определение динамики кумулятивной конверсии по группам</a></span></li><li><span><a href=\"#Определение-динамики-относительного-изменения-кумулятивной-конверсии-группы-B-к-группе-A\" data-toc-modified-id=\"Определение-динамики-относительного-изменения-кумулятивной-конверсии-группы-B-к-группе-A-3.8\"><span class=\"toc-item-num\">3.8&nbsp;&nbsp;</span>Определение динамики относительного изменения кумулятивной конверсии группы B к группе A</a></span></li><li><span><a href=\"#Определение-статистических-выбросов-в-A/B-тесте\" data-toc-modified-id=\"Определение-статистических-выбросов-в-A/B-тесте-3.9\"><span class=\"toc-item-num\">3.9&nbsp;&nbsp;</span>Определение статистических выбросов в A/B-тесте</a></span></li><li><span><a href=\"#Определение-статистической-значимости-различий-в-конверсии-между-группами-по-«сырым»-данным\" data-toc-modified-id=\"Определение-статистической-значимости-различий-в-конверсии-между-группами-по-«сырым»-данным-3.10\"><span class=\"toc-item-num\">3.10&nbsp;&nbsp;</span>Определение статистической значимости различий в конверсии между группами по «сырым» данным</a></span></li><li><span><a href=\"#Определение-статистической-значимости-различий-в-среднем-чеке-заказа-между-группами-по-«сырым»-данным\" data-toc-modified-id=\"Определение-статистической-значимости-различий-в-среднем-чеке-заказа-между-группами-по-«сырым»-данным-3.11\"><span class=\"toc-item-num\">3.11&nbsp;&nbsp;</span>Определение статистической значимости различий в среднем чеке заказа между группами по «сырым» данным</a></span></li><li><span><a href=\"#Определение-статистической-значимости-различий-в-конверсии-между-группами-по-«очищенным»-данным\" data-toc-modified-id=\"Определение-статистической-значимости-различий-в-конверсии-между-группами-по-«очищенным»-данным-3.12\"><span class=\"toc-item-num\">3.12&nbsp;&nbsp;</span>Определение статистической значимости различий в конверсии между группами по «очищенным» данным</a></span></li><li><span><a href=\"#Определение-статистической-значимости-различий-в-среднем-чеке-заказа-между-группами-по-«очищенным»-данным\" data-toc-modified-id=\"Определение-статистической-значимости-различий-в-среднем-чеке-заказа-между-группами-по-«очищенным»-данным-3.13\"><span class=\"toc-item-num\">3.13&nbsp;&nbsp;</span>Определение статистической значимости различий в среднем чеке заказа между группами по «очищенным» данным</a></span></li><li><span><a href=\"#Решение-по-результатам-теста\" data-toc-modified-id=\"Решение-по-результатам-теста-3.14\"><span class=\"toc-item-num\">3.14&nbsp;&nbsp;</span>Решение по результатам теста</a></span></li></ul></li><li><span><a href=\"#Общий-вывод\" data-toc-modified-id=\"Общий-вывод-4\"><span class=\"toc-item-num\">4&nbsp;&nbsp;</span>Общий вывод</a></span></li></ul></div>"
   ]
  },
  {
   "cell_type": "markdown",
   "metadata": {},
   "source": [
    "---"
   ]
  },
  {
   "cell_type": "markdown",
   "metadata": {},
   "source": [
    "Вместе с отделом маркетинга крупного интернет-магазина подготовлен список гипотез для увеличения выручки.\n",
    "\n",
    "**Требуется:**\n",
    "1. Приоритизировать гипотезы в списке.\n",
    "2. Запустить A/B-тест и проанализировать его результаты.\n",
    "\n",
    "\n",
    "**Данные хранятся в следующих файлах:**\n",
    "- В файле `hypothesis.csv` перечислены характеристики 9 гипотез по увеличению выручки интернет-магазина.\n",
    "- Результаты проведённого A/B-теста описаны в файлах `orders.csv` и `visitors.csv`."
   ]
  },
  {
   "cell_type": "markdown",
   "metadata": {},
   "source": [
    "---"
   ]
  },
  {
   "cell_type": "markdown",
   "metadata": {},
   "source": [
    "## Импорт библиотек и определение функций проекта"
   ]
  },
  {
   "cell_type": "markdown",
   "metadata": {},
   "source": [
    "### Импорт библиотек"
   ]
  },
  {
   "cell_type": "code",
   "execution_count": 1,
   "metadata": {
    "ExecuteTime": {
     "end_time": "2022-06-27T15:28:48.854288Z",
     "start_time": "2022-06-27T15:28:45.493207Z"
    }
   },
   "outputs": [],
   "source": [
    "import os\n",
    "import pandas as pd\n",
    "import numpy as np\n",
    "import matplotlib.pyplot as plt\n",
    "import datetime as dt\n",
    "from scipy import stats as st\n",
    "import seaborn as sns"
   ]
  },
  {
   "cell_type": "markdown",
   "metadata": {},
   "source": [
    "### Функции загрузки и обзора данных"
   ]
  },
  {
   "cell_type": "code",
   "execution_count": 2,
   "metadata": {
    "ExecuteTime": {
     "end_time": "2022-06-27T15:28:48.884028Z",
     "start_time": "2022-06-27T15:28:48.854288Z"
    },
    "code_folding": []
   },
   "outputs": [],
   "source": [
    "# определение функции обзора данных\n",
    "# ===============================================\n",
    "# на вход подаётся датафрейм df\n",
    "# на выходе:\n",
    "#     - 10 случайных строк df\n",
    "#     - информация df.info()\n",
    "#     - количество явных дубликатов в строках df\n",
    "#     - процент пропусков данных в столбцах df\n",
    "# ===============================================\n",
    "def data_observe(df):\n",
    "    row_num = 5    # количество отображаемых строк таблицы\n",
    "    \n",
    "    print('Произвольные строки таблицы:')\n",
    "    print('============================')\n",
    "    if len(df) >= row_num:\n",
    "        display(df.sample(row_num))\n",
    "    else:\n",
    "        display(df)\n",
    "\n",
    "    print('\\nИнформация о таблице:')\n",
    "    print('=====================')\n",
    "    df.info()\n",
    "    \n",
    "    print('\\nКоличество явных дубликатов в таблице:')\n",
    "    print('======================================')\n",
    "    print(df.duplicated().sum())\n",
    "    \n",
    "    print('\\nПроцент пропусков в столбцах:')\n",
    "    print('=============================')\n",
    "    display(pd.DataFrame(\n",
    "                round((df.isna().mean()*100),2), columns=['NaNs, %'])\n",
    "                .sort_values(by='NaNs, %', ascending=False\n",
    "            )\n",
    "        .style.format('{:.2f}')\n",
    "        .background_gradient('coolwarm')\n",
    "    )"
   ]
  },
  {
   "cell_type": "code",
   "execution_count": 3,
   "metadata": {
    "ExecuteTime": {
     "end_time": "2022-06-27T15:28:48.932048Z",
     "start_time": "2022-06-27T15:28:48.908027Z"
    },
    "code_folding": []
   },
   "outputs": [],
   "source": [
    "# определение кроссплатформенной функции загрузки данных\n",
    "# ======================================================\n",
    "# на вход подаётся:\n",
    "#     file_name - имя файла\n",
    "# на выходе - датафрейм с загруженными данными\n",
    "# ======================================================\n",
    "def open_file(file_name, sep=','):\n",
    "    pth1 = '/datasets/' + file_name             # яндексовский путь\n",
    "    pth2 = os.path.join('datasets', file_name)  # мой путь\n",
    "    \n",
    "    if os.path.exists(pth1):\n",
    "        return pd.read_csv(pth1, sep=sep)\n",
    "    elif os.path.exists(pth2):\n",
    "        return pd.read_csv(pth2, sep=sep)\n",
    "    else:\n",
    "        print(\"ERROR: Neither Yandex nor local path is reacable...\")\n",
    "    \n",
    "    return pd.DataFrame() # в случае ошибки чтения вернём пустой DataFrame"
   ]
  },
  {
   "cell_type": "markdown",
   "metadata": {},
   "source": [
    "### Функция расчёта кумулятивных метрик"
   ]
  },
  {
   "cell_type": "code",
   "execution_count": 4,
   "metadata": {
    "ExecuteTime": {
     "end_time": "2022-06-27T15:28:48.972024Z",
     "start_time": "2022-06-27T15:28:48.932048Z"
    },
    "code_folding": [
     10
    ]
   },
   "outputs": [],
   "source": [
    "# определение кроссплатформенной функции расчёта \n",
    "# кумулятивных метрик А/В-теста\n",
    "# =========================================================\n",
    "# на вход подаются:\n",
    "#     orders - информация о заказах\n",
    "#     visitors - информация о посетителях интернет-магазина\n",
    "# на выходе - датафрейм с посчитанными метриками:\n",
    "#     кумулятивный средний чек по группам тестирования\n",
    "#     кумулятивная конверсия по группам тестирования\n",
    "# =========================================================\n",
    "def get_cummulative_data(orders, visitors):\n",
    "    # выделим массив уникальных пар значений дат и групп для последующей \n",
    "    # индексации при подсчёте кумулятивной выручки\n",
    "    dates_and_groups = orders[['date', 'group']].drop_duplicates()\n",
    "\n",
    "    # агрегируем значения с накоплением\n",
    "    orders_agg = (\n",
    "        dates_and_groups\n",
    "        .apply(\n",
    "            # для каждой строки dates_and_groups агрегируем orders по условию\n",
    "            lambda x : orders[np.logical_and(\n",
    "                orders['date'] <= x['date'],\n",
    "                orders['group'] == x['group']\n",
    "            )]\n",
    "            .agg(\n",
    "                {\n",
    "                    'date' : 'max',\n",
    "                    'group': 'max',\n",
    "                    'transaction_id' : 'nunique',\n",
    "                    'visitor_id' : 'nunique',\n",
    "                    'revenue' : 'sum'\n",
    "                }\n",
    "            ),\n",
    "            axis=1\n",
    "        )\n",
    "        .sort_values(by=['date', 'group'])\n",
    "    )\n",
    "\n",
    "    # переименуем колонки\n",
    "    orders_agg.columns = ['date', 'group', 'num_orders', \n",
    "                          'num_buyers', 'revenue']\n",
    "\n",
    "    # агрегируем количество посетителей с накоплением\n",
    "    visitors_agg = (\n",
    "        dates_and_groups\n",
    "        .apply(\n",
    "            # для каждой строки dates_and_groups агрегируем orders по условию\n",
    "            lambda x : visitors[np.logical_and(\n",
    "                visitors['date'] <= x['date'],\n",
    "                visitors['group'] == x['group']\n",
    "            )]\n",
    "            .agg(\n",
    "                {\n",
    "                    'date' : 'max',\n",
    "                    'group': 'max',\n",
    "                    'visitors' : 'sum'\n",
    "                }\n",
    "            ),\n",
    "            axis=1\n",
    "        )\n",
    "        .sort_values(by=['date', 'group'])\n",
    "    )\n",
    "\n",
    "    # переименуем колонки\n",
    "    visitors_agg.columns = ['date', 'group', 'num_visitors']\n",
    "\n",
    "    # объединяем с orders_agg\n",
    "    cummulative_data = orders_agg.merge(\n",
    "        visitors_agg, left_on=['date', 'group'], right_on=['date', 'group']\n",
    "    )\n",
    "\n",
    "    # вычисляем сумулятивную конверсию по группам\n",
    "    cummulative_data['conversion'] = (\n",
    "        cummulative_data['num_buyers'] / cummulative_data['num_visitors']\n",
    "    )\n",
    "    \n",
    "    return cummulative_data"
   ]
  },
  {
   "cell_type": "markdown",
   "metadata": {},
   "source": [
    "---"
   ]
  },
  {
   "cell_type": "markdown",
   "metadata": {},
   "source": [
    "## Приоритизация гипотез по увеличению выручки"
   ]
  },
  {
   "cell_type": "markdown",
   "metadata": {},
   "source": [
    "На первом этапе необходимо расставить приоритеты для 9 гипотез по увеличению выручки интернет-магазина."
   ]
  },
  {
   "cell_type": "markdown",
   "metadata": {},
   "source": [
    "### Обзор данных"
   ]
  },
  {
   "cell_type": "markdown",
   "metadata": {},
   "source": [
    "Откроем и изучим файл `hypothesis.csv`, в котором перечислены характеристики 9 гипотез по увеличению выручки:"
   ]
  },
  {
   "cell_type": "code",
   "execution_count": 5,
   "metadata": {
    "ExecuteTime": {
     "end_time": "2022-06-27T15:28:49.236000Z",
     "start_time": "2022-06-27T15:28:48.972024Z"
    }
   },
   "outputs": [
    {
     "name": "stdout",
     "output_type": "stream",
     "text": [
      "Произвольные строки таблицы:\n",
      "============================\n"
     ]
    },
    {
     "data": {
      "text/html": [
       "<div>\n",
       "<style scoped>\n",
       "    .dataframe tbody tr th:only-of-type {\n",
       "        vertical-align: middle;\n",
       "    }\n",
       "\n",
       "    .dataframe tbody tr th {\n",
       "        vertical-align: top;\n",
       "    }\n",
       "\n",
       "    .dataframe thead th {\n",
       "        text-align: right;\n",
       "    }\n",
       "</style>\n",
       "<table border=\"1\" class=\"dataframe\">\n",
       "  <thead>\n",
       "    <tr style=\"text-align: right;\">\n",
       "      <th></th>\n",
       "      <th>Hypothesis</th>\n",
       "      <th>Reach</th>\n",
       "      <th>Impact</th>\n",
       "      <th>Confidence</th>\n",
       "      <th>Efforts</th>\n",
       "    </tr>\n",
       "  </thead>\n",
       "  <tbody>\n",
       "    <tr>\n",
       "      <th>5</th>\n",
       "      <td>Добавить страницу отзывов клиентов о магазине,...</td>\n",
       "      <td>3</td>\n",
       "      <td>2</td>\n",
       "      <td>2</td>\n",
       "      <td>3</td>\n",
       "    </tr>\n",
       "    <tr>\n",
       "      <th>1</th>\n",
       "      <td>Запустить собственную службу доставки, что сок...</td>\n",
       "      <td>2</td>\n",
       "      <td>5</td>\n",
       "      <td>4</td>\n",
       "      <td>10</td>\n",
       "    </tr>\n",
       "    <tr>\n",
       "      <th>8</th>\n",
       "      <td>Запустить акцию, дающую скидку на товар в день...</td>\n",
       "      <td>1</td>\n",
       "      <td>9</td>\n",
       "      <td>9</td>\n",
       "      <td>5</td>\n",
       "    </tr>\n",
       "    <tr>\n",
       "      <th>7</th>\n",
       "      <td>Добавить форму подписки на все основные страни...</td>\n",
       "      <td>10</td>\n",
       "      <td>7</td>\n",
       "      <td>8</td>\n",
       "      <td>5</td>\n",
       "    </tr>\n",
       "    <tr>\n",
       "      <th>2</th>\n",
       "      <td>Добавить блоки рекомендаций товаров на сайт ин...</td>\n",
       "      <td>8</td>\n",
       "      <td>3</td>\n",
       "      <td>7</td>\n",
       "      <td>3</td>\n",
       "    </tr>\n",
       "  </tbody>\n",
       "</table>\n",
       "</div>"
      ],
      "text/plain": [
       "                                          Hypothesis  Reach  Impact  \\\n",
       "5  Добавить страницу отзывов клиентов о магазине,...      3       2   \n",
       "1  Запустить собственную службу доставки, что сок...      2       5   \n",
       "8  Запустить акцию, дающую скидку на товар в день...      1       9   \n",
       "7  Добавить форму подписки на все основные страни...     10       7   \n",
       "2  Добавить блоки рекомендаций товаров на сайт ин...      8       3   \n",
       "\n",
       "   Confidence  Efforts  \n",
       "5           2        3  \n",
       "1           4       10  \n",
       "8           9        5  \n",
       "7           8        5  \n",
       "2           7        3  "
      ]
     },
     "metadata": {},
     "output_type": "display_data"
    },
    {
     "name": "stdout",
     "output_type": "stream",
     "text": [
      "\n",
      "Информация о таблице:\n",
      "=====================\n",
      "<class 'pandas.core.frame.DataFrame'>\n",
      "RangeIndex: 9 entries, 0 to 8\n",
      "Data columns (total 5 columns):\n",
      " #   Column      Non-Null Count  Dtype \n",
      "---  ------      --------------  ----- \n",
      " 0   Hypothesis  9 non-null      object\n",
      " 1   Reach       9 non-null      int64 \n",
      " 2   Impact      9 non-null      int64 \n",
      " 3   Confidence  9 non-null      int64 \n",
      " 4   Efforts     9 non-null      int64 \n",
      "dtypes: int64(4), object(1)\n",
      "memory usage: 488.0+ bytes\n",
      "\n",
      "Количество явных дубликатов в таблице:\n",
      "======================================\n",
      "0\n",
      "\n",
      "Процент пропусков в столбцах:\n",
      "=============================\n"
     ]
    },
    {
     "data": {
      "text/html": [
       "<style  type=\"text/css\" >\n",
       "#T_febff_row0_col0,#T_febff_row1_col0,#T_febff_row2_col0,#T_febff_row3_col0,#T_febff_row4_col0{\n",
       "            background-color:  #3b4cc0;\n",
       "            color:  #f1f1f1;\n",
       "        }</style><table id=\"T_febff_\" ><thead>    <tr>        <th class=\"blank level0\" ></th>        <th class=\"col_heading level0 col0\" >NaNs, %</th>    </tr></thead><tbody>\n",
       "                <tr>\n",
       "                        <th id=\"T_febff_level0_row0\" class=\"row_heading level0 row0\" >Hypothesis</th>\n",
       "                        <td id=\"T_febff_row0_col0\" class=\"data row0 col0\" >0.00</td>\n",
       "            </tr>\n",
       "            <tr>\n",
       "                        <th id=\"T_febff_level0_row1\" class=\"row_heading level0 row1\" >Reach</th>\n",
       "                        <td id=\"T_febff_row1_col0\" class=\"data row1 col0\" >0.00</td>\n",
       "            </tr>\n",
       "            <tr>\n",
       "                        <th id=\"T_febff_level0_row2\" class=\"row_heading level0 row2\" >Impact</th>\n",
       "                        <td id=\"T_febff_row2_col0\" class=\"data row2 col0\" >0.00</td>\n",
       "            </tr>\n",
       "            <tr>\n",
       "                        <th id=\"T_febff_level0_row3\" class=\"row_heading level0 row3\" >Confidence</th>\n",
       "                        <td id=\"T_febff_row3_col0\" class=\"data row3 col0\" >0.00</td>\n",
       "            </tr>\n",
       "            <tr>\n",
       "                        <th id=\"T_febff_level0_row4\" class=\"row_heading level0 row4\" >Efforts</th>\n",
       "                        <td id=\"T_febff_row4_col0\" class=\"data row4 col0\" >0.00</td>\n",
       "            </tr>\n",
       "    </tbody></table>"
      ],
      "text/plain": [
       "<pandas.io.formats.style.Styler at 0x7fba7a7a2cd0>"
      ]
     },
     "metadata": {},
     "output_type": "display_data"
    }
   ],
   "source": [
    "hypothesis = open_file('hypothesis.csv', sep=',')\n",
    "if not hypothesis.empty:\n",
    "    data_observe(hypothesis)"
   ]
  },
  {
   "cell_type": "code",
   "execution_count": null,
   "metadata": {},
   "outputs": [],
   "source": []
  },
  {
   "cell_type": "markdown",
   "metadata": {},
   "source": [
    "Таблица `hypothesis` состоит из 9 строк, 5 столбцов. Типы данных в столбцах - object, int64.\n",
    "\n",
    "Согласно описанию данных, столбцы хранят следующую информацию:\n",
    "- `Hypothesis` — краткое описание гипотезы;\n",
    "- `Reach` — охват пользователей по 10-балльной шкале;\n",
    "- `Impact` — влияние на пользователей по 10-балльной шкале;\n",
    "- `Confidence` — уверенность в гипотезе по 10-балльной шкале;\n",
    "- `Efforts` — затраты ресурсов на проверку гипотезы по 10-балльной шкале. Чем больше значение `Efforts`, тем дороже проверка гипотезы.\n",
    "\n",
    "\n",
    "Столбцы поименованы в смешаном стиле - целесообразно привести названия к нижнему регистру.\n",
    "\n",
    "Для оценок, хранимых в столбцах `Reach`, `Impact`, `Confidence`, `Efforts` тип int64, очевидно, избыточен. Тем не менее, ввиду малого размера таблицы не будем менять тип столбцов для экономии памяти.\n",
    "\n",
    "В таблице отсутствуют явные дубликаты и пропуски данных."
   ]
  },
  {
   "cell_type": "markdown",
   "metadata": {},
   "source": [
    "### Предварительная обработка"
   ]
  },
  {
   "cell_type": "markdown",
   "metadata": {},
   "source": [
    "По результатам обзора данных таблицы `hypothesis` приведём названия столбцов к нижнему регистру:"
   ]
  },
  {
   "cell_type": "code",
   "execution_count": 6,
   "metadata": {
    "ExecuteTime": {
     "end_time": "2022-06-27T15:28:49.267992Z",
     "start_time": "2022-06-27T15:28:49.236000Z"
    }
   },
   "outputs": [
    {
     "data": {
      "text/plain": [
       "Index(['hypothesis', 'reach', 'impact', 'confidence', 'efforts'], dtype='object')"
      ]
     },
     "execution_count": 6,
     "metadata": {},
     "output_type": "execute_result"
    }
   ],
   "source": [
    "hypothesis.columns = hypothesis.columns.str.lower()\n",
    "hypothesis.columns"
   ]
  },
  {
   "cell_type": "markdown",
   "metadata": {},
   "source": [
    "Столбцы поименованы в хорошем стиле."
   ]
  },
  {
   "cell_type": "markdown",
   "metadata": {},
   "source": [
    "### Приоритизация гипотез"
   ]
  },
  {
   "cell_type": "markdown",
   "metadata": {},
   "source": [
    "Таблица `hypothesis` содержит данные об охвате пользователей, влиянии на них, уверенности в гипотезе и затратах ресурсов на её проверку. Воспользуемся фреймворками `ICE` и `RICE` для расстановки приоритетов."
   ]
  },
  {
   "cell_type": "markdown",
   "metadata": {},
   "source": [
    "#### Приоритизация с помошью фреймворка ICE"
   ]
  },
  {
   "cell_type": "markdown",
   "metadata": {},
   "source": [
    "Посчитаем оценку гипотез в рамках фреймворка `ICE` по следубщей формуле:\n",
    "\n",
    "$$\n",
    "ICE = \\frac{Impact \\times Confidence}{Efforts}.\n",
    "$$"
   ]
  },
  {
   "cell_type": "code",
   "execution_count": 7,
   "metadata": {
    "ExecuteTime": {
     "end_time": "2022-06-27T15:28:49.307991Z",
     "start_time": "2022-06-27T15:28:49.267992Z"
    }
   },
   "outputs": [
    {
     "data": {
      "text/html": [
       "<div>\n",
       "<style scoped>\n",
       "    .dataframe tbody tr th:only-of-type {\n",
       "        vertical-align: middle;\n",
       "    }\n",
       "\n",
       "    .dataframe tbody tr th {\n",
       "        vertical-align: top;\n",
       "    }\n",
       "\n",
       "    .dataframe thead th {\n",
       "        text-align: right;\n",
       "    }\n",
       "</style>\n",
       "<table border=\"1\" class=\"dataframe\">\n",
       "  <thead>\n",
       "    <tr style=\"text-align: right;\">\n",
       "      <th></th>\n",
       "      <th>hypothesis</th>\n",
       "      <th>ice</th>\n",
       "    </tr>\n",
       "  </thead>\n",
       "  <tbody>\n",
       "    <tr>\n",
       "      <th>8</th>\n",
       "      <td>Запустить акцию, дающую скидку на товар в день рождения</td>\n",
       "      <td>16.2</td>\n",
       "    </tr>\n",
       "    <tr>\n",
       "      <th>0</th>\n",
       "      <td>Добавить два новых канала привлечения трафика, что позволит привлекать на 30% больше пользователей</td>\n",
       "      <td>13.3</td>\n",
       "    </tr>\n",
       "    <tr>\n",
       "      <th>7</th>\n",
       "      <td>Добавить форму подписки на все основные страницы, чтобы собрать базу клиентов для email-рассылок</td>\n",
       "      <td>11.2</td>\n",
       "    </tr>\n",
       "    <tr>\n",
       "      <th>6</th>\n",
       "      <td>Показать на главной странице баннеры с актуальными акциями и распродажами, чтобы увеличить конверсию</td>\n",
       "      <td>8.0</td>\n",
       "    </tr>\n",
       "    <tr>\n",
       "      <th>2</th>\n",
       "      <td>Добавить блоки рекомендаций товаров на сайт интернет магазина, чтобы повысить конверсию и средний чек заказа</td>\n",
       "      <td>7.0</td>\n",
       "    </tr>\n",
       "    <tr>\n",
       "      <th>1</th>\n",
       "      <td>Запустить собственную службу доставки, что сократит срок доставки заказов</td>\n",
       "      <td>2.0</td>\n",
       "    </tr>\n",
       "    <tr>\n",
       "      <th>5</th>\n",
       "      <td>Добавить страницу отзывов клиентов о магазине, что позволит увеличить количество заказов</td>\n",
       "      <td>1.3</td>\n",
       "    </tr>\n",
       "    <tr>\n",
       "      <th>3</th>\n",
       "      <td>Изменить структура категорий, что увеличит конверсию, т.к. пользователи быстрее найдут нужный товар</td>\n",
       "      <td>1.1</td>\n",
       "    </tr>\n",
       "    <tr>\n",
       "      <th>4</th>\n",
       "      <td>Изменить цвет фона главной страницы, чтобы увеличить вовлеченность пользователей</td>\n",
       "      <td>1.0</td>\n",
       "    </tr>\n",
       "  </tbody>\n",
       "</table>\n",
       "</div>"
      ],
      "text/plain": [
       "                                                                                                     hypothesis  \\\n",
       "8                                                       Запустить акцию, дающую скидку на товар в день рождения   \n",
       "0            Добавить два новых канала привлечения трафика, что позволит привлекать на 30% больше пользователей   \n",
       "7              Добавить форму подписки на все основные страницы, чтобы собрать базу клиентов для email-рассылок   \n",
       "6          Показать на главной странице баннеры с актуальными акциями и распродажами, чтобы увеличить конверсию   \n",
       "2  Добавить блоки рекомендаций товаров на сайт интернет магазина, чтобы повысить конверсию и средний чек заказа   \n",
       "1                                     Запустить собственную службу доставки, что сократит срок доставки заказов   \n",
       "5                      Добавить страницу отзывов клиентов о магазине, что позволит увеличить количество заказов   \n",
       "3           Изменить структура категорий, что увеличит конверсию, т.к. пользователи быстрее найдут нужный товар   \n",
       "4                              Изменить цвет фона главной страницы, чтобы увеличить вовлеченность пользователей   \n",
       "\n",
       "    ice  \n",
       "8  16.2  \n",
       "0  13.3  \n",
       "7  11.2  \n",
       "6   8.0  \n",
       "2   7.0  \n",
       "1   2.0  \n",
       "5   1.3  \n",
       "3   1.1  \n",
       "4   1.0  "
      ]
     },
     "execution_count": 7,
     "metadata": {},
     "output_type": "execute_result"
    }
   ],
   "source": [
    "# посчитаем метрику ice\n",
    "hypothesis['ice'] = (\n",
    "    round(\n",
    "        hypothesis['impact'] * hypothesis['confidence'] / hypothesis['efforts'],\n",
    "        1\n",
    "    )\n",
    ")\n",
    "# ранжируем гипотезы\n",
    "pd.options.display.max_colwidth = 150\n",
    "hypothesis[['hypothesis','ice']].sort_values(by='ice', ascending=False)"
   ]
  },
  {
   "cell_type": "markdown",
   "metadata": {},
   "source": [
    "В рамках фреймворка `ICE` наиболее перспективными с точки зрения увеличения выручки представляются гипотезы (в порядке убывания приоритета):\n",
    "1. Запустить акцию, дающую скидку на товар в день рождения\n",
    "\n",
    "\n",
    "2. Добавить два новых канала привлечения трафика, что позволит привлекать на 30% больше пользователей\n",
    "\n",
    "\n",
    "3. Добавить форму подписки на все основные страницы, чтобы собрать базу клиентов для email-рассылок\n",
    "\n",
    "\n",
    "4. Показать на главной странице баннеры с актуальными акциями и распродажами, чтобы увеличить конверсию\t\n",
    "\n",
    "\n",
    "5. Добавить блоки рекомендаций товаров на сайт интернет магазина, чтобы повысить конверсию и средний чек заказа\t\n",
    "\n",
    "\n",
    "Остальные гипотезы получили ранг, более чем в 3 раза меньший по сравнению с перечисленными.\n",
    "\n",
    "Учтём при расчёте приоритетов параметр охвата пользователей `Reach`."
   ]
  },
  {
   "cell_type": "markdown",
   "metadata": {},
   "source": [
    "#### Приоритизация с помошью фреймворка RICE"
   ]
  },
  {
   "cell_type": "markdown",
   "metadata": {},
   "source": [
    "Рассчитаем оценку гипотез в рамках фреймворка `RICE` по следубщей формуле:\n",
    "\n",
    "$$\n",
    "RICE = \\frac{Reach \\times Impact \\times Confidence}{Efforts}.\n",
    "$$"
   ]
  },
  {
   "cell_type": "code",
   "execution_count": 8,
   "metadata": {
    "ExecuteTime": {
     "end_time": "2022-06-27T15:28:49.364007Z",
     "start_time": "2022-06-27T15:28:49.307991Z"
    },
    "scrolled": true
   },
   "outputs": [
    {
     "data": {
      "text/html": [
       "<div>\n",
       "<style scoped>\n",
       "    .dataframe tbody tr th:only-of-type {\n",
       "        vertical-align: middle;\n",
       "    }\n",
       "\n",
       "    .dataframe tbody tr th {\n",
       "        vertical-align: top;\n",
       "    }\n",
       "\n",
       "    .dataframe thead th {\n",
       "        text-align: right;\n",
       "    }\n",
       "</style>\n",
       "<table border=\"1\" class=\"dataframe\">\n",
       "  <thead>\n",
       "    <tr style=\"text-align: right;\">\n",
       "      <th></th>\n",
       "      <th>hypothesis</th>\n",
       "      <th>ice</th>\n",
       "      <th>rice</th>\n",
       "    </tr>\n",
       "  </thead>\n",
       "  <tbody>\n",
       "    <tr>\n",
       "      <th>7</th>\n",
       "      <td>Добавить форму подписки на все основные страницы, чтобы собрать базу клиентов для email-рассылок</td>\n",
       "      <td>11.2</td>\n",
       "      <td>112.0</td>\n",
       "    </tr>\n",
       "    <tr>\n",
       "      <th>2</th>\n",
       "      <td>Добавить блоки рекомендаций товаров на сайт интернет магазина, чтобы повысить конверсию и средний чек заказа</td>\n",
       "      <td>7.0</td>\n",
       "      <td>56.0</td>\n",
       "    </tr>\n",
       "    <tr>\n",
       "      <th>0</th>\n",
       "      <td>Добавить два новых канала привлечения трафика, что позволит привлекать на 30% больше пользователей</td>\n",
       "      <td>13.3</td>\n",
       "      <td>40.0</td>\n",
       "    </tr>\n",
       "    <tr>\n",
       "      <th>6</th>\n",
       "      <td>Показать на главной странице баннеры с актуальными акциями и распродажами, чтобы увеличить конверсию</td>\n",
       "      <td>8.0</td>\n",
       "      <td>40.0</td>\n",
       "    </tr>\n",
       "    <tr>\n",
       "      <th>8</th>\n",
       "      <td>Запустить акцию, дающую скидку на товар в день рождения</td>\n",
       "      <td>16.2</td>\n",
       "      <td>16.2</td>\n",
       "    </tr>\n",
       "    <tr>\n",
       "      <th>3</th>\n",
       "      <td>Изменить структура категорий, что увеличит конверсию, т.к. пользователи быстрее найдут нужный товар</td>\n",
       "      <td>1.1</td>\n",
       "      <td>9.0</td>\n",
       "    </tr>\n",
       "    <tr>\n",
       "      <th>1</th>\n",
       "      <td>Запустить собственную службу доставки, что сократит срок доставки заказов</td>\n",
       "      <td>2.0</td>\n",
       "      <td>4.0</td>\n",
       "    </tr>\n",
       "    <tr>\n",
       "      <th>5</th>\n",
       "      <td>Добавить страницу отзывов клиентов о магазине, что позволит увеличить количество заказов</td>\n",
       "      <td>1.3</td>\n",
       "      <td>4.0</td>\n",
       "    </tr>\n",
       "    <tr>\n",
       "      <th>4</th>\n",
       "      <td>Изменить цвет фона главной страницы, чтобы увеличить вовлеченность пользователей</td>\n",
       "      <td>1.0</td>\n",
       "      <td>3.0</td>\n",
       "    </tr>\n",
       "  </tbody>\n",
       "</table>\n",
       "</div>"
      ],
      "text/plain": [
       "                                                                                                     hypothesis  \\\n",
       "7              Добавить форму подписки на все основные страницы, чтобы собрать базу клиентов для email-рассылок   \n",
       "2  Добавить блоки рекомендаций товаров на сайт интернет магазина, чтобы повысить конверсию и средний чек заказа   \n",
       "0            Добавить два новых канала привлечения трафика, что позволит привлекать на 30% больше пользователей   \n",
       "6          Показать на главной странице баннеры с актуальными акциями и распродажами, чтобы увеличить конверсию   \n",
       "8                                                       Запустить акцию, дающую скидку на товар в день рождения   \n",
       "3           Изменить структура категорий, что увеличит конверсию, т.к. пользователи быстрее найдут нужный товар   \n",
       "1                                     Запустить собственную службу доставки, что сократит срок доставки заказов   \n",
       "5                      Добавить страницу отзывов клиентов о магазине, что позволит увеличить количество заказов   \n",
       "4                              Изменить цвет фона главной страницы, чтобы увеличить вовлеченность пользователей   \n",
       "\n",
       "    ice   rice  \n",
       "7  11.2  112.0  \n",
       "2   7.0   56.0  \n",
       "0  13.3   40.0  \n",
       "6   8.0   40.0  \n",
       "8  16.2   16.2  \n",
       "3   1.1    9.0  \n",
       "1   2.0    4.0  \n",
       "5   1.3    4.0  \n",
       "4   1.0    3.0  "
      ]
     },
     "execution_count": 8,
     "metadata": {},
     "output_type": "execute_result"
    }
   ],
   "source": [
    "# посчитаем метрику rice\n",
    "hypothesis['rice'] = (\n",
    "    round(\n",
    "        hypothesis['reach'] * hypothesis['impact'] * hypothesis['confidence'] / \n",
    "        hypothesis['efforts'],\n",
    "        1\n",
    "    )\n",
    ")\n",
    "\n",
    "# ранжируем гипотезы\n",
    "pd.options.display.max_colwidth = 150\n",
    "hypothesis[['hypothesis','ice','rice']].sort_values(by='rice', ascending=False)"
   ]
  },
  {
   "cell_type": "markdown",
   "metadata": {},
   "source": [
    "С учётом охвата пользователей ситуация изменилась:\n",
    "1. Ярким лидером стала занимавшая в оценке `ICE` 3-ю позицию гипотеза \"Добавить форму подписки на все основные страницы, чтобы собрать базу клиентов для email-рассылок\" (лидирует с 2-кратным перевесом относительно 2 позиции)\n",
    "\n",
    "\n",
    "2. На втроре место поднялась замыкавшая top-5 по версии `ICE` гипотеза \"Добавить блоки рекомендаций товаров на сайт интернет магазина, чтобы повысить конверсию и средний чек заказа\"\n",
    "\n",
    "\n",
    "3. Гипотезы \"Добавить два новых канала привлечения трафика, что позволит привлекать на 30% больше пользователей\" и \"Показать на главной странице баннеры с актуальными акциями и распродажами, чтобы увеличить конверсию\" по-прежнему занимают средние строчки top-5\n",
    "\n",
    "\n",
    "4. Замыкает top-5 по версии `RICE` прошлый лидер - гипотеза \"Запустить акцию, дающую скидку на товар в день рождения\" (очевидно, из-за низкого мгновенного охвата пользователей, родившихся в конкретный день)\n",
    "\n",
    "\n",
    "5. Прочие гипотезы имеют низкий приоритет в рамках обоих фреймворков\n",
    "\n",
    "\n",
    "Отобразим приоритеты на точечной диаграмме:"
   ]
  },
  {
   "cell_type": "code",
   "execution_count": 9,
   "metadata": {},
   "outputs": [
    {
     "data": {
      "image/png": "[encoded data removed]",
      "text/plain": [
       "<Figure size 720x360 with 1 Axes>"
      ]
     },
     "metadata": {
      "needs_background": "light"
     },
     "output_type": "display_data"
    }
   ],
   "source": [
    "# отобразим распределение в виде точечной диаграммы\n",
    "x_values = hypothesis.index # порядковые номера (замена id)\n",
    "plt.figure(figsize=(10, 5))\n",
    "plt.scatter(x_values, hypothesis['ice'], label='ice', alpha=.5)\n",
    "plt.scatter(x_values, hypothesis['rice'], label='rice', alpha=.5)\n",
    "plt.title('Результаты приоритизации гипотез')\n",
    "plt.xlabel('Номер гипотезы (индекс)')\n",
    "plt.ylabel('Приоритет')\n",
    "plt.grid()\n",
    "plt.legend()\n",
    "plt.show()\n"
   ]
  },
  {
   "cell_type": "markdown",
   "metadata": {},
   "source": [
    "### Выводы"
   ]
  },
  {
   "cell_type": "markdown",
   "metadata": {},
   "source": [
    "По итогу приоритизации бизнес-гипотез по увеличению выручки интернет-магазина можно заключить:\n",
    "1. Состав top-5 гипотез в рамках фреймворков `ICE` и `RICE` совпадает.\n",
    "\n",
    "\n",
    "2. Введение в рассмотрение охвата пользователей существенно перераспределяет приоритеты.\n",
    "\n",
    "\n",
    "3. В рамках фреймворка `ICE` сложнее определить, с какой именно гипотезы начать проверку - первые три гипотезы имеют близкие приоритеты.\n",
    "\n",
    "\n",
    "4. Фреймворк `RICE` исправляет эту ситуацию, выделив ярко лидирующую гипотезу под номером 7.\n",
    "\n",
    "\n",
    "5. Проверку представляется целесообразным начинать с гипотезы **\"Добавить форму подписки на все основные страницы, чтобы собрать базу клиентов для email-рассылок\".**"
   ]
  },
  {
   "cell_type": "markdown",
   "metadata": {},
   "source": [
    "---"
   ]
  },
  {
   "cell_type": "markdown",
   "metadata": {},
   "source": [
    "## Анализ результатов A/B-теста"
   ]
  },
  {
   "cell_type": "markdown",
   "metadata": {},
   "source": [
    "Теперь необходимо проанализировать результаты проведённого A/B-теста гипотезы \"Добавить форму подписки на все основные страницы, чтобы собрать базу клиентов для email-рассылок\", описанные в файлах `orders.csv` и `visitors.csv`, содержащих данные о заказах и количестве посетителей интернет-магазина пользователями.\n",
    "\n",
    "Основные статистические гипотезы, которые проверялись в ходе теста:\n",
    "1. О различии конверсии пользователей групп А и В (статистическая гипотеза H0 - конверсии групп А и В одинаковы).\n",
    "2. О различии среднего чека пользователей групп А и В (статистическая гипотеза H0 - средние чеки групп А и В одинаковы).\n",
    "\n",
    "\n",
    "Начнём с изучения данных."
   ]
  },
  {
   "cell_type": "markdown",
   "metadata": {},
   "source": [
    "### Обзор данных"
   ]
  },
  {
   "cell_type": "markdown",
   "metadata": {},
   "source": [
    "Откроем и изучим файл `orders.csv`:"
   ]
  },
  {
   "cell_type": "code",
   "execution_count": 10,
   "metadata": {
    "ExecuteTime": {
     "end_time": "2022-06-27T15:28:49.467997Z",
     "start_time": "2022-06-27T15:28:49.371982Z"
    }
   },
   "outputs": [
    {
     "name": "stdout",
     "output_type": "stream",
     "text": [
      "Произвольные строки таблицы:\n",
      "============================\n"
     ]
    },
    {
     "data": {
      "text/html": [
       "<div>\n",
       "<style scoped>\n",
       "    .dataframe tbody tr th:only-of-type {\n",
       "        vertical-align: middle;\n",
       "    }\n",
       "\n",
       "    .dataframe tbody tr th {\n",
       "        vertical-align: top;\n",
       "    }\n",
       "\n",
       "    .dataframe thead th {\n",
       "        text-align: right;\n",
       "    }\n",
       "</style>\n",
       "<table border=\"1\" class=\"dataframe\">\n",
       "  <thead>\n",
       "    <tr style=\"text-align: right;\">\n",
       "      <th></th>\n",
       "      <th>transactionId</th>\n",
       "      <th>visitorId</th>\n",
       "      <th>date</th>\n",
       "      <th>revenue</th>\n",
       "      <th>group</th>\n",
       "    </tr>\n",
       "  </thead>\n",
       "  <tbody>\n",
       "    <tr>\n",
       "      <th>487</th>\n",
       "      <td>2786000406</td>\n",
       "      <td>2744017357</td>\n",
       "      <td>2019-08-19</td>\n",
       "      <td>1490</td>\n",
       "      <td>A</td>\n",
       "    </tr>\n",
       "    <tr>\n",
       "      <th>848</th>\n",
       "      <td>1063646926</td>\n",
       "      <td>102981183</td>\n",
       "      <td>2019-08-05</td>\n",
       "      <td>14489</td>\n",
       "      <td>B</td>\n",
       "    </tr>\n",
       "    <tr>\n",
       "      <th>846</th>\n",
       "      <td>4256972642</td>\n",
       "      <td>3281496343</td>\n",
       "      <td>2019-08-05</td>\n",
       "      <td>1990</td>\n",
       "      <td>A</td>\n",
       "    </tr>\n",
       "    <tr>\n",
       "      <th>455</th>\n",
       "      <td>2781850870</td>\n",
       "      <td>2954449915</td>\n",
       "      <td>2019-08-06</td>\n",
       "      <td>3070</td>\n",
       "      <td>B</td>\n",
       "    </tr>\n",
       "    <tr>\n",
       "      <th>730</th>\n",
       "      <td>3335803766</td>\n",
       "      <td>477780734</td>\n",
       "      <td>2019-08-30</td>\n",
       "      <td>7300</td>\n",
       "      <td>A</td>\n",
       "    </tr>\n",
       "  </tbody>\n",
       "</table>\n",
       "</div>"
      ],
      "text/plain": [
       "     transactionId   visitorId        date  revenue group\n",
       "487     2786000406  2744017357  2019-08-19     1490     A\n",
       "848     1063646926   102981183  2019-08-05    14489     B\n",
       "846     4256972642  3281496343  2019-08-05     1990     A\n",
       "455     2781850870  2954449915  2019-08-06     3070     B\n",
       "730     3335803766   477780734  2019-08-30     7300     A"
      ]
     },
     "metadata": {},
     "output_type": "display_data"
    },
    {
     "name": "stdout",
     "output_type": "stream",
     "text": [
      "\n",
      "Информация о таблице:\n",
      "=====================\n",
      "<class 'pandas.core.frame.DataFrame'>\n",
      "RangeIndex: 1197 entries, 0 to 1196\n",
      "Data columns (total 5 columns):\n",
      " #   Column         Non-Null Count  Dtype \n",
      "---  ------         --------------  ----- \n",
      " 0   transactionId  1197 non-null   int64 \n",
      " 1   visitorId      1197 non-null   int64 \n",
      " 2   date           1197 non-null   object\n",
      " 3   revenue        1197 non-null   int64 \n",
      " 4   group          1197 non-null   object\n",
      "dtypes: int64(3), object(2)\n",
      "memory usage: 46.9+ KB\n",
      "\n",
      "Количество явных дубликатов в таблице:\n",
      "======================================\n",
      "0\n",
      "\n",
      "Процент пропусков в столбцах:\n",
      "=============================\n"
     ]
    },
    {
     "data": {
      "text/html": [
       "<style  type=\"text/css\" >\n",
       "#T_75c70_row0_col0,#T_75c70_row1_col0,#T_75c70_row2_col0,#T_75c70_row3_col0,#T_75c70_row4_col0{\n",
       "            background-color:  #3b4cc0;\n",
       "            color:  #f1f1f1;\n",
       "        }</style><table id=\"T_75c70_\" ><thead>    <tr>        <th class=\"blank level0\" ></th>        <th class=\"col_heading level0 col0\" >NaNs, %</th>    </tr></thead><tbody>\n",
       "                <tr>\n",
       "                        <th id=\"T_75c70_level0_row0\" class=\"row_heading level0 row0\" >transactionId</th>\n",
       "                        <td id=\"T_75c70_row0_col0\" class=\"data row0 col0\" >0.00</td>\n",
       "            </tr>\n",
       "            <tr>\n",
       "                        <th id=\"T_75c70_level0_row1\" class=\"row_heading level0 row1\" >visitorId</th>\n",
       "                        <td id=\"T_75c70_row1_col0\" class=\"data row1 col0\" >0.00</td>\n",
       "            </tr>\n",
       "            <tr>\n",
       "                        <th id=\"T_75c70_level0_row2\" class=\"row_heading level0 row2\" >date</th>\n",
       "                        <td id=\"T_75c70_row2_col0\" class=\"data row2 col0\" >0.00</td>\n",
       "            </tr>\n",
       "            <tr>\n",
       "                        <th id=\"T_75c70_level0_row3\" class=\"row_heading level0 row3\" >revenue</th>\n",
       "                        <td id=\"T_75c70_row3_col0\" class=\"data row3 col0\" >0.00</td>\n",
       "            </tr>\n",
       "            <tr>\n",
       "                        <th id=\"T_75c70_level0_row4\" class=\"row_heading level0 row4\" >group</th>\n",
       "                        <td id=\"T_75c70_row4_col0\" class=\"data row4 col0\" >0.00</td>\n",
       "            </tr>\n",
       "    </tbody></table>"
      ],
      "text/plain": [
       "<pandas.io.formats.style.Styler at 0x7fba724dbd60>"
      ]
     },
     "metadata": {},
     "output_type": "display_data"
    }
   ],
   "source": [
    "orders = open_file('orders.csv', sep=',')\n",
    "if not orders.empty:\n",
    "    data_observe(orders)"
   ]
  },
  {
   "cell_type": "markdown",
   "metadata": {},
   "source": [
    "Таблица `orders` состоит из 1197 строк, 5 столбцов. Типы данных в столбцах - object, int64.\n",
    "\n",
    "Согласно описанию данных, столбцы хранят следующую информацию:\n",
    "- `transactionId` — идентификатор заказа;\n",
    "- `visitorId` — идентификатор пользователя, совершившего заказ;\n",
    "- `date` — дата, когда был совершён заказ;\n",
    "- `revenue` — выручка заказа;\n",
    "- `group` — группа A/B-теста, в которую попал заказ.\n",
    "\n",
    "\n",
    "Столбцы поименованы в смешаном стиле - целесообразно привести названия к стилю \"snake_case\".\n",
    "\n",
    "Для значений, хранимых в столбцах `transactionId`, `visitorId`, `revenue` тип int64, очевидно, достаточен.\n",
    "\n",
    "На этапе предварительной обработки целесообразно достоверно обеспечить формат даты в столбце `date` путём преобразования типов.\n",
    "\n",
    "В таблице отсутствуют явные дубликаты и пропуски данных."
   ]
  },
  {
   "cell_type": "markdown",
   "metadata": {},
   "source": [
    "Откроем и изучим файл `visitors.csv`:"
   ]
  },
  {
   "cell_type": "code",
   "execution_count": 11,
   "metadata": {
    "ExecuteTime": {
     "end_time": "2022-06-27T15:28:49.547971Z",
     "start_time": "2022-06-27T15:28:49.467997Z"
    }
   },
   "outputs": [
    {
     "name": "stdout",
     "output_type": "stream",
     "text": [
      "Произвольные строки таблицы:\n",
      "============================\n"
     ]
    },
    {
     "data": {
      "text/html": [
       "<div>\n",
       "<style scoped>\n",
       "    .dataframe tbody tr th:only-of-type {\n",
       "        vertical-align: middle;\n",
       "    }\n",
       "\n",
       "    .dataframe tbody tr th {\n",
       "        vertical-align: top;\n",
       "    }\n",
       "\n",
       "    .dataframe thead th {\n",
       "        text-align: right;\n",
       "    }\n",
       "</style>\n",
       "<table border=\"1\" class=\"dataframe\">\n",
       "  <thead>\n",
       "    <tr style=\"text-align: right;\">\n",
       "      <th></th>\n",
       "      <th>date</th>\n",
       "      <th>group</th>\n",
       "      <th>visitors</th>\n",
       "    </tr>\n",
       "  </thead>\n",
       "  <tbody>\n",
       "    <tr>\n",
       "      <th>19</th>\n",
       "      <td>2019-08-20</td>\n",
       "      <td>A</td>\n",
       "      <td>575</td>\n",
       "    </tr>\n",
       "    <tr>\n",
       "      <th>58</th>\n",
       "      <td>2019-08-28</td>\n",
       "      <td>B</td>\n",
       "      <td>654</td>\n",
       "    </tr>\n",
       "    <tr>\n",
       "      <th>46</th>\n",
       "      <td>2019-08-16</td>\n",
       "      <td>B</td>\n",
       "      <td>413</td>\n",
       "    </tr>\n",
       "    <tr>\n",
       "      <th>24</th>\n",
       "      <td>2019-08-25</td>\n",
       "      <td>A</td>\n",
       "      <td>621</td>\n",
       "    </tr>\n",
       "    <tr>\n",
       "      <th>22</th>\n",
       "      <td>2019-08-23</td>\n",
       "      <td>A</td>\n",
       "      <td>468</td>\n",
       "    </tr>\n",
       "  </tbody>\n",
       "</table>\n",
       "</div>"
      ],
      "text/plain": [
       "          date group  visitors\n",
       "19  2019-08-20     A       575\n",
       "58  2019-08-28     B       654\n",
       "46  2019-08-16     B       413\n",
       "24  2019-08-25     A       621\n",
       "22  2019-08-23     A       468"
      ]
     },
     "metadata": {},
     "output_type": "display_data"
    },
    {
     "name": "stdout",
     "output_type": "stream",
     "text": [
      "\n",
      "Информация о таблице:\n",
      "=====================\n",
      "<class 'pandas.core.frame.DataFrame'>\n",
      "RangeIndex: 62 entries, 0 to 61\n",
      "Data columns (total 3 columns):\n",
      " #   Column    Non-Null Count  Dtype \n",
      "---  ------    --------------  ----- \n",
      " 0   date      62 non-null     object\n",
      " 1   group     62 non-null     object\n",
      " 2   visitors  62 non-null     int64 \n",
      "dtypes: int64(1), object(2)\n",
      "memory usage: 1.6+ KB\n",
      "\n",
      "Количество явных дубликатов в таблице:\n",
      "======================================\n",
      "0\n",
      "\n",
      "Процент пропусков в столбцах:\n",
      "=============================\n"
     ]
    },
    {
     "data": {
      "text/html": [
       "<style  type=\"text/css\" >\n",
       "#T_8a589_row0_col0,#T_8a589_row1_col0,#T_8a589_row2_col0{\n",
       "            background-color:  #3b4cc0;\n",
       "            color:  #f1f1f1;\n",
       "        }</style><table id=\"T_8a589_\" ><thead>    <tr>        <th class=\"blank level0\" ></th>        <th class=\"col_heading level0 col0\" >NaNs, %</th>    </tr></thead><tbody>\n",
       "                <tr>\n",
       "                        <th id=\"T_8a589_level0_row0\" class=\"row_heading level0 row0\" >date</th>\n",
       "                        <td id=\"T_8a589_row0_col0\" class=\"data row0 col0\" >0.00</td>\n",
       "            </tr>\n",
       "            <tr>\n",
       "                        <th id=\"T_8a589_level0_row1\" class=\"row_heading level0 row1\" >group</th>\n",
       "                        <td id=\"T_8a589_row1_col0\" class=\"data row1 col0\" >0.00</td>\n",
       "            </tr>\n",
       "            <tr>\n",
       "                        <th id=\"T_8a589_level0_row2\" class=\"row_heading level0 row2\" >visitors</th>\n",
       "                        <td id=\"T_8a589_row2_col0\" class=\"data row2 col0\" >0.00</td>\n",
       "            </tr>\n",
       "    </tbody></table>"
      ],
      "text/plain": [
       "<pandas.io.formats.style.Styler at 0x7fba72469fd0>"
      ]
     },
     "metadata": {},
     "output_type": "display_data"
    }
   ],
   "source": [
    "visitors = open_file('visitors.csv', sep=',')\n",
    "if not visitors.empty:\n",
    "    data_observe(visitors)"
   ]
  },
  {
   "cell_type": "markdown",
   "metadata": {},
   "source": [
    "Таблица `visitors` состоит из 62 строк, 3 столбцов. Типы данных в столбцах - object, int64.\n",
    "\n",
    "Согласно описанию данных, столбцы хранят следующую информацию:\n",
    "- `date` — дата;\n",
    "- `group` — группа A/B-теста;\n",
    "- `visitors` — количество пользователей в указанную дату в указанной группе A/B-теста.\n",
    "\n",
    "\n",
    "Столбцы поименованы в хорошем стиле.\n",
    "\n",
    "Для значений, хранимых в столбце `visitors` тип int64, очевидно, избыточен. Тем не менее, ввиду малого размера таблицы не будем менять тип столбца для экономии памяти.\n",
    "\n",
    "На этапе предварительной обработки целесообразно достоверно обеспечить формат даты в столбце `date` путём преобразования типов.\n",
    "\n",
    "В таблице отсутствуют явные дубликаты и пропуски данных."
   ]
  },
  {
   "cell_type": "markdown",
   "metadata": {},
   "source": [
    "### Предварительная обработка данных проведённого А/В-теста"
   ]
  },
  {
   "cell_type": "markdown",
   "metadata": {},
   "source": [
    "По результатам обзора данных таблицы `orders` приведём названия столбцов к стилю \"snake_case\":"
   ]
  },
  {
   "cell_type": "code",
   "execution_count": 12,
   "metadata": {
    "ExecuteTime": {
     "end_time": "2022-06-27T15:28:49.571985Z",
     "start_time": "2022-06-27T15:28:49.547971Z"
    }
   },
   "outputs": [
    {
     "data": {
      "text/plain": [
       "Index(['transaction_id', 'visitor_id', 'date', 'revenue', 'group'], dtype='object')"
      ]
     },
     "execution_count": 12,
     "metadata": {},
     "output_type": "execute_result"
    }
   ],
   "source": [
    "orders.rename(\n",
    "    columns={'transactionId' : 'transaction_id',\n",
    "             'visitorId' : 'visitor_id'},\n",
    "    inplace=True\n",
    ")\n",
    "orders.columns"
   ]
  },
  {
   "cell_type": "markdown",
   "metadata": {},
   "source": [
    "Столбцы поименованы в хорошем стиле."
   ]
  },
  {
   "cell_type": "markdown",
   "metadata": {},
   "source": [
    "Обеспечим формат даты в соответствующих столбцах таблиц `orders` и `visitors`:"
   ]
  },
  {
   "cell_type": "code",
   "execution_count": 13,
   "metadata": {
    "ExecuteTime": {
     "end_time": "2022-06-27T15:28:49.635959Z",
     "start_time": "2022-06-27T15:28:49.571985Z"
    }
   },
   "outputs": [],
   "source": [
    "orders['date'] = orders['date'].map(\n",
    "    lambda x: dt.datetime.strptime(x, '%Y-%m-%d')\n",
    ")\n",
    "visitors['date'] = visitors['date'].map(\n",
    "    lambda x: dt.datetime.strptime(x, '%Y-%m-%d')\n",
    ")"
   ]
  },
  {
   "cell_type": "markdown",
   "metadata": {},
   "source": [
    "Предварительная обработка завершена."
   ]
  },
  {
   "cell_type": "markdown",
   "metadata": {},
   "source": [
    "### Исследование аномалий данных A/B-теста"
   ]
  },
  {
   "cell_type": "markdown",
   "metadata": {},
   "source": [
    "Прежде чем проверять и интерпретировать результаты проведённого A/B-теста выясним, не закрались ли ошибки в итоговые данные. Обзор данных показал, что явные дубликаты и пропуски отсутствуют, однако ***возможны*** следующие проблемы в данных:\n",
    "1. Для одинаковых уникальных комбинаций даты и группы в таблице `visitors` указаны различные значения количества посетителей.\n",
    "2. Для одинаковых уникальных комбинаций `transaction_id`, `visitor_id`, `date` и `group` в таблице `orders` указаны различные значения `revenue`.\n",
    "3. Одни и те же пользователи попали в обе группы теста.\n",
    "\n",
    "Проверим данные на наличие этих проблем:"
   ]
  },
  {
   "cell_type": "code",
   "execution_count": 14,
   "metadata": {
    "ExecuteTime": {
     "end_time": "2022-06-27T15:28:49.691975Z",
     "start_time": "2022-06-27T15:28:49.635959Z"
    }
   },
   "outputs": [
    {
     "data": {
      "text/plain": [
       "0"
      ]
     },
     "execution_count": 14,
     "metadata": {},
     "output_type": "execute_result"
    }
   ],
   "source": [
    "# 1 проблема\n",
    "(\n",
    "    visitors.groupby(by=['date', 'group'])\n",
    "    .agg({'visitors':'count'}) # считаем количество visitors в группировке\n",
    "    .reset_index()\n",
    "    .query('visitors > 1')\n",
    "    .shape[0] # считаем количество строк\n",
    ")"
   ]
  },
  {
   "cell_type": "code",
   "execution_count": 15,
   "metadata": {
    "ExecuteTime": {
     "end_time": "2022-06-27T15:28:49.739969Z",
     "start_time": "2022-06-27T15:28:49.691975Z"
    }
   },
   "outputs": [
    {
     "data": {
      "text/plain": [
       "0"
      ]
     },
     "execution_count": 15,
     "metadata": {},
     "output_type": "execute_result"
    }
   ],
   "source": [
    "# 2 проблема\n",
    "(\n",
    "    orders.groupby(by=['transaction_id', 'visitor_id', 'date', 'group'])\n",
    "    .agg({'revenue':'count'}) # считаем количество revenue в группировке\n",
    "    .reset_index()\n",
    "    .query('revenue > 1')\n",
    "    .shape[0] # считаем количество строк\n",
    ")"
   ]
  },
  {
   "cell_type": "markdown",
   "metadata": {},
   "source": [
    "Первая и вторая потенциальные проблемы в данных не обнаружены.\n",
    "\n",
    "Проверим наличие пользователей, попавших в обе группы:"
   ]
  },
  {
   "cell_type": "code",
   "execution_count": 16,
   "metadata": {
    "ExecuteTime": {
     "end_time": "2022-06-27T15:28:49.795965Z",
     "start_time": "2022-06-27T15:28:49.747950Z"
    }
   },
   "outputs": [
    {
     "name": "stdout",
     "output_type": "stream",
     "text": [
      "58 пользователей попали в обе группы:\n",
      "11.53 % от объёма группы А\n",
      "9.9 % от объёма группы B\n"
     ]
    }
   ],
   "source": [
    "# 3 проблема\n",
    "group_a_users = list(orders.query('group == \"A\"')['visitor_id'].unique())\n",
    "group_b_users = list(orders.query('group == \"B\"')['visitor_id'].unique())\n",
    "\n",
    "intersection = []\n",
    "for user in group_a_users:\n",
    "    if user in group_b_users:\n",
    "        intersection.append(user)\n",
    "# вывод результата\n",
    "print(f'{len(intersection)} пользователей попали в обе группы:')\n",
    "print(\n",
    "    round(len(intersection) * 100 / len(group_a_users), 2),\n",
    "    '% от объёма группы А'\n",
    ")\n",
    "print(\n",
    "    round(len(intersection) * 100 / len(group_b_users), 2),\n",
    "    '% от объёма группы B'\n",
    ")"
   ]
  },
  {
   "cell_type": "markdown",
   "metadata": {},
   "source": [
    "Действительно, 58 посетителей интернет-магазина по какой-то причине попали в обе группы теста. Данные по ним могут исказить результат A/B-теста, поэтому представляется целесообразным удалить их из таблицы `orders`:"
   ]
  },
  {
   "cell_type": "code",
   "execution_count": 17,
   "metadata": {
    "ExecuteTime": {
     "end_time": "2022-06-27T15:28:49.827948Z",
     "start_time": "2022-06-27T15:28:49.795965Z"
    }
   },
   "outputs": [],
   "source": [
    "orders = orders.query('visitor_id not in @intersection')"
   ]
  },
  {
   "cell_type": "markdown",
   "metadata": {},
   "source": [
    "Перейдём к проверке результатов A/B-теста."
   ]
  },
  {
   "cell_type": "markdown",
   "metadata": {},
   "source": [
    "### Определение динамики кумулятивной выручки по группам"
   ]
  },
  {
   "cell_type": "markdown",
   "metadata": {},
   "source": [
    "Проследим динамику кумулятивной выручки по группам за период тестирования. Данная метрика напрямую связана с целевой метрикой \"размер среднего чека\".\n",
    "\n",
    "Для нахождения кумулятивной выручки просумминуем на каждую дату теста выручку по группам за текущую и предыдущие даты.\n",
    "\n",
    "Определим и визуализируем кумулятивную выручку по группам теста:"
   ]
  },
  {
   "cell_type": "code",
   "execution_count": 18,
   "metadata": {
    "ExecuteTime": {
     "end_time": "2022-06-27T15:28:51.305264Z",
     "start_time": "2022-06-27T15:28:49.827948Z"
    }
   },
   "outputs": [
    {
     "data": {
      "image/png": "[encoded data removed]",
      "text/plain": [
       "<Figure size 936x576 with 1 Axes>"
      ]
     },
     "metadata": {
      "needs_background": "light"
     },
     "output_type": "display_data"
    }
   ],
   "source": [
    "# агрегируем значения с накоплением и посчитаем кумулятивные метрики\n",
    "cummulative_data = get_cummulative_data(orders, visitors)\n",
    "\n",
    "# построим графики кумулятивной выручки по группам тестирования\n",
    "plt.figure(figsize=(13, 8))\n",
    "# для группы А\n",
    "plt.plot(\n",
    "    cummulative_data.query('group == \"A\"')['date'],\n",
    "    cummulative_data.query('group == \"A\"')['revenue'],\n",
    "    label='A'\n",
    ")\n",
    "# для группы B\n",
    "plt.plot(\n",
    "    cummulative_data.query('group == \"B\"')['date'],\n",
    "    cummulative_data.query('group == \"B\"')['revenue'],\n",
    "    label='B'\n",
    ")\n",
    "plt.legend()\n",
    "plt.title('Динамика кумулятивной выручки по группам тестирования')\n",
    "plt.ylabel('Кумулятивная выручка')\n",
    "plt.grid()\n",
    "plt.show()"
   ]
  },
  {
   "cell_type": "markdown",
   "metadata": {},
   "source": [
    "В течение первых 5 дней теста выручка групп практически не отличалась. Затем с 6 по 12 августа выручка группы В стабильно превышала группу А. 13 августа значения метрики у групп сравнялись, а в дальнейшем выручка группы В стабильно превышает группу А.\n",
    "\n",
    "Отметим, что в периоды 12-13 и 18-19 августа наблюдаются скачки метрики для групп А и В соответственно. Это может свидетельствовать об аномальных покупках (с высокой выручкой) в эти дни."
   ]
  },
  {
   "cell_type": "markdown",
   "metadata": {},
   "source": [
    "### Определение динамики кумулятивного среднего чека по группам"
   ]
  },
  {
   "cell_type": "markdown",
   "metadata": {},
   "source": [
    "Посчитаем целевую метрику теста - размер кумулятивного среднего чека по группам. Для этого разделим кумулятивную выручку на агрегированное количество заказов на каждую дату.\n",
    "\n",
    "Визуализируем динамику кумулятивного среднего чека по группам теста:"
   ]
  },
  {
   "cell_type": "code",
   "execution_count": 19,
   "metadata": {
    "ExecuteTime": {
     "end_time": "2022-06-27T15:28:51.876372Z",
     "start_time": "2022-06-27T15:28:51.305264Z"
    }
   },
   "outputs": [
    {
     "data": {
      "image/png": "[encoded data removed]",
      "text/plain": [
       "<Figure size 936x576 with 1 Axes>"
      ]
     },
     "metadata": {
      "needs_background": "light"
     },
     "output_type": "display_data"
    }
   ],
   "source": [
    "# построим графики кумулятивного среднего чека по группам тестирования\n",
    "plt.figure(figsize=(13, 8))\n",
    "# для группы А\n",
    "plt.plot(\n",
    "    cummulative_data.query('group == \"A\"')['date'],\n",
    "    cummulative_data.query('group == \"A\"')['revenue'] /\n",
    "    cummulative_data.query('group == \"A\"')['num_orders'],\n",
    "    label='A'\n",
    ")\n",
    "# для группы B\n",
    "plt.plot(\n",
    "    cummulative_data.query('group == \"B\"')['date'],\n",
    "    cummulative_data.query('group == \"B\"')['revenue'] /\n",
    "    cummulative_data.query('group == \"B\"')['num_orders'],\n",
    "    label='B'\n",
    ")\n",
    "plt.legend()\n",
    "plt.title('Динамика кумулятивного среднего чека по группам тестирования')\n",
    "plt.ylabel('Кумулятивный средний чек')\n",
    "plt.grid()\n",
    "plt.show()"
   ]
  },
  {
   "cell_type": "markdown",
   "metadata": {},
   "source": [
    "Как видно из графика, кумулятивный средний чек контрольной группы А после падения в начале тестирования растёт, начиная с 7 августа, до отметки 7000, возле которой колеблется с 13 августа и до окончания тестирования.\n",
    "\n",
    "Средний чек в группе В с самого начала бурно растёт, затем слегка снижается, колеблется в районе 6800-6900 (около установившегося среднего чека группы А).\n",
    "\n",
    "Затем, 19 августа, наблюдается резкий скачкообразный рост среднего чека группы В до значения более чем 10000, после чего средний чек группы В до конца среза данных плавно снижался в направлении установившегося значения группы А.\n",
    "\n",
    "Это подтверждает наши предположения о наличии 19 августа одного или более заказов с аномально высокой выручкой."
   ]
  },
  {
   "cell_type": "markdown",
   "metadata": {},
   "source": [
    "### Определение динамики относительного изменения кумулятивного среднего чека группы B к группе A"
   ]
  },
  {
   "cell_type": "markdown",
   "metadata": {},
   "source": [
    "Посмотрим на отношение кумулятивного среднего чека группы B к группе A в динамике по ходу тестирования. Для этого разделим кумулятивный средний чек группы В на кумулятивный средний чек группы А:"
   ]
  },
  {
   "cell_type": "code",
   "execution_count": 20,
   "metadata": {
    "ExecuteTime": {
     "end_time": "2022-06-27T15:28:52.372343Z",
     "start_time": "2022-06-27T15:28:51.876372Z"
    }
   },
   "outputs": [
    {
     "data": {
      "image/png": "[encoded data removed]",
      "text/plain": [
       "<Figure size 936x576 with 1 Axes>"
      ]
     },
     "metadata": {
      "needs_background": "light"
     },
     "output_type": "display_data"
    }
   ],
   "source": [
    "# собираем данные по группам в один датафрейм\n",
    "total_cumulative_revenue = (\n",
    "    cummulative_data.query('group == \"A\"')\n",
    "    .merge(\n",
    "        cummulative_data.query('group == \"B\"'),\n",
    "        left_on='date',\n",
    "        right_on='date',\n",
    "        how='left',\n",
    "        suffixes=['_a', '_b']\n",
    "    )\n",
    ")\n",
    "\n",
    "# строим график отношения средних чеков\n",
    "plt.figure(figsize=(13, 8))\n",
    "\n",
    "plt.plot(\n",
    "    total_cumulative_revenue['date'],\n",
    "    (total_cumulative_revenue['revenue_b'] / total_cumulative_revenue['num_orders_b']) / \n",
    "    (total_cumulative_revenue['revenue_a'] / total_cumulative_revenue['num_orders_a']) - 1  \n",
    "    # вычитаем 1, чтобы получить превышение / занижение\n",
    ")\n",
    "plt.title('Динамика относительного изменения кумулятивного среднего чека группы B к группе A')\n",
    "plt.grid()\n",
    "plt.axhline(y=0, color='red', linestyle='--')\n",
    "plt.show()"
   ]
  },
  {
   "cell_type": "markdown",
   "metadata": {},
   "source": [
    "На рисунке красным пунктиром отмечена условная граница кумулятивного среднего чека контрольной группы А. График отражает динамику относительного превышения среднего чека группы В над средним чеком группы А.\n",
    "\n",
    "Можно видеть, что в первый день теста группа В показала себя на примерно 40% хуже группы А. Затем к концу первой недели уверенно обгоняла контрольную группу. Затем всю вторую неделю превышение среднего чека группы В снижалось, и к 13 августа она проигрывала контрольной группе 15%. Вероятно, это связано с наличием в этот период аномальных покупок в группе А, или опережающей конверсией в ней и увеличением количества заказов.\n",
    "\n",
    "С 13 по 18 день теста средний чек группы В стабилизируется и приближается к группе А.\n",
    "\n",
    "19 августа в группе В происходит резкий скачок, отмеченный нами ранее, после чего превышение среднего чека начинает стабилизацию в направлении границы группв А.\n",
    "\n",
    "Вероятно, 19 августа имели место один или несколько очень дорогих заказов в группе В."
   ]
  },
  {
   "cell_type": "markdown",
   "metadata": {},
   "source": [
    "### Определение динамики кумулятивной конверсии по группам"
   ]
  },
  {
   "cell_type": "markdown",
   "metadata": {},
   "source": [
    "Конверсией будем считать превращение посетителей в уникальных покупателей. Кумулятивные метрики, в том числе и конверсию, мы рассчитали ранее.\n",
    "\n",
    "Визуализируем динамику кумулятивной конверсии по группам тестирования:"
   ]
  },
  {
   "cell_type": "code",
   "execution_count": 21,
   "metadata": {
    "ExecuteTime": {
     "end_time": "2022-06-27T15:28:52.987654Z",
     "start_time": "2022-06-27T15:28:52.372343Z"
    },
    "scrolled": false
   },
   "outputs": [
    {
     "data": {
      "image/png": "[encoded data removed]",
      "text/plain": [
       "<Figure size 936x576 with 1 Axes>"
      ]
     },
     "metadata": {
      "needs_background": "light"
     },
     "output_type": "display_data"
    }
   ],
   "source": [
    "# построим графики кумулятивной выручки по группам тестирования\n",
    "plt.figure(figsize=(13, 8))\n",
    "# для группы А\n",
    "plt.plot(\n",
    "    cummulative_data.query('group == \"A\"')['date'],\n",
    "    cummulative_data.query('group == \"A\"')['conversion'],\n",
    "    label='A'\n",
    ")\n",
    "# для группы B\n",
    "plt.plot(\n",
    "    cummulative_data.query('group == \"B\"')['date'],\n",
    "    cummulative_data.query('group == \"B\"')['conversion'],\n",
    "    label='B'\n",
    ")\n",
    "plt.legend()\n",
    "plt.title('Динамика кумулятивной конверсии по группам тестирования')\n",
    "plt.ylabel('Кумулятивная конверсия')\n",
    "plt.grid()\n",
    "plt.show()"
   ]
  },
  {
   "cell_type": "markdown",
   "metadata": {},
   "source": [
    "В начале теста кумулятивная конверсия группы В растёт в среднем медленнее, чем в контрольной группе А. При этом 5-6 августа конверсии обеих групп примерно сравниваются, после чего наблюдается достаточно резкий рост кумулятивной конверсии группы В на фоне постепенного спада и стабилизации конверсии группы А.\n",
    "\n",
    "Кумулятивная конверсия контрольной группы А к концу 2 недели теста стабилизируется на уровне 2.4%.\n",
    "\n",
    "Конверсия в группе В в течение второй и третьей недель теста переживает скачкообразные колебания в районе отметки 3%, после чего к концу среза тестирования наблюдаются признаки её стабилизации в районе 2.8%.\n",
    "\n",
    "Предварительно можно заключить, что конверсия группы В по результатам теста превышает конверсию группы А."
   ]
  },
  {
   "cell_type": "markdown",
   "metadata": {},
   "source": [
    "### Определение динамики относительного изменения кумулятивной конверсии группы B к группе A"
   ]
  },
  {
   "cell_type": "markdown",
   "metadata": {},
   "source": [
    "Аналогично среднему чеку, определим и визуализируем динамику относительного изменения кумулятивной конверсии группы B к группе A:"
   ]
  },
  {
   "cell_type": "code",
   "execution_count": 22,
   "metadata": {
    "ExecuteTime": {
     "end_time": "2022-06-27T15:28:53.499606Z",
     "start_time": "2022-06-27T15:28:52.987654Z"
    },
    "scrolled": false
   },
   "outputs": [
    {
     "data": {
      "image/png": "[encoded data removed]",
      "text/plain": [
       "<Figure size 936x576 with 1 Axes>"
      ]
     },
     "metadata": {
      "needs_background": "light"
     },
     "output_type": "display_data"
    }
   ],
   "source": [
    "# собираем данные по группам в один датафрейм\n",
    "cumulative_conversion = (\n",
    "    cummulative_data.query('group == \"A\"')\n",
    "    .merge(\n",
    "        cummulative_data.query('group == \"B\"'),\n",
    "        left_on='date',\n",
    "        right_on='date',\n",
    "        how='left',\n",
    "        suffixes=['_a', '_b']\n",
    "    )\n",
    ")\n",
    "\n",
    "# строим график отношения средних чеков\n",
    "plt.figure(figsize=(13, 8))\n",
    "\n",
    "plt.plot(\n",
    "    cumulative_conversion['date'],\n",
    "    (cumulative_conversion['conversion_b'] / cumulative_conversion['conversion_a']) - 1  \n",
    "    # вычитаем 1, чтобы получить превышение / занижение\n",
    ")\n",
    "plt.title('Динамика относительного изменения кумулятивной конверсии группы B к группе A')\n",
    "plt.grid()\n",
    "plt.axhline(y=0, color='red', linestyle='--')\n",
    "plt.axhline(y=.15, color='black', linestyle='--')\n",
    "plt.show()"
   ]
  },
  {
   "cell_type": "markdown",
   "metadata": {},
   "source": [
    "Динамика относительного изменения конверсии группы В к группе А подтверждает сделанные выше выводы:\n",
    "- в первую неделю тестирования, не считая однодневного выброса, конверсия группы В ниже группы А на 5-10%;\n",
    "- начиная с 6 августа, конверсия группы В стабильно превышает конверсию группы А;\n",
    "- при этом к концу второй недели она пытается закрепиться на уровне 20%, на третьей неделе увеличивается до 25% и начинает плавно снижаться;\n",
    "- на четвёртой неделе тестирования превышение конверсии группы В над конверсией группы А стабилизируется на уровне 15%.\n",
    "\n",
    "***Вывод: кумулятивная конверсия тестовой группы превышает конверсию контрольной в среднем на 15%.***"
   ]
  },
  {
   "cell_type": "markdown",
   "metadata": {},
   "source": [
    "### Определение статистических выбросов в A/B-тесте"
   ]
  },
  {
   "cell_type": "markdown",
   "metadata": {},
   "source": [
    "Выше мы определили, что на имеющемся срезе данных А/В-теста средний чек и конверсия для тестовой группы В превышают значения этих метрик для контрольной группы. Вместе с тем, была зафиксирована возможность наличия аномальных покупок.\n",
    "\n",
    "Определим статистические выбросы в результатах теста. Рассмотрим, как распределено количество заказов для уникальных покупателей:"
   ]
  },
  {
   "cell_type": "code",
   "execution_count": 23,
   "metadata": {
    "ExecuteTime": {
     "end_time": "2022-06-27T15:28:53.970071Z",
     "start_time": "2022-06-27T15:28:53.507607Z"
    }
   },
   "outputs": [
    {
     "data": {
      "image/png": "[encoded data removed]",
      "text/plain": [
       "<Figure size 720x360 with 1 Axes>"
      ]
     },
     "metadata": {
      "needs_background": "light"
     },
     "output_type": "display_data"
    },
    {
     "name": "stdout",
     "output_type": "stream",
     "text": [
      "Перцентили 90, 95, 99: [1. 1. 2.]\n"
     ]
    }
   ],
   "source": [
    "# посчитаем количество заказов для каждого покупателя\n",
    "orders_by_visitors = (\n",
    "    orders\n",
    "    .groupby(by='visitor_id', as_index=False)\n",
    "    .agg({'transaction_id':'nunique',\n",
    "          'group':'max'})\n",
    ")\n",
    "orders_by_visitors.columns = ['visitor_id', 'num_orders', 'group']\n",
    "\n",
    "# отобразим распределение в виде точечной диаграммы\n",
    "plt.figure(figsize=(10, 5))\n",
    "\n",
    "x_values = orders_by_visitors.index \n",
    "plt.title('Распределение количества заказов для разных посетителей, сделавших заказ (по группам)')\n",
    "sns.scatterplot(\n",
    "    x=x_values,\n",
    "    y='num_orders',\n",
    "    hue=\"group\",\n",
    "    data=orders_by_visitors\n",
    ")\n",
    "plt.show()\n",
    "\n",
    "# выведем перцентили 90, 95, 99\n",
    "print('Перцентили 90, 95, 99:', np.percentile(orders_by_visitors['num_orders'], [90, 95, 99]))"
   ]
  },
  {
   "cell_type": "markdown",
   "metadata": {},
   "source": [
    "Очевидно, даже 2 заказа - достаточно редкое событие в данном тесте. будем учитывать это при оценке статистической значимости полученных результатов. А именно - будем считать выбросами 2 заказа и более."
   ]
  },
  {
   "cell_type": "markdown",
   "metadata": {},
   "source": [
    "Рассмотрим, как распределена стоимость заказов:"
   ]
  },
  {
   "cell_type": "code",
   "execution_count": 24,
   "metadata": {
    "ExecuteTime": {
     "end_time": "2022-06-27T15:28:54.450308Z",
     "start_time": "2022-06-27T15:28:53.978067Z"
    }
   },
   "outputs": [
    {
     "data": {
      "image/png": "[encoded data removed]",
      "text/plain": [
       "<Figure size 720x576 with 1 Axes>"
      ]
     },
     "metadata": {
      "needs_background": "light"
     },
     "output_type": "display_data"
    },
    {
     "name": "stdout",
     "output_type": "stream",
     "text": [
      "Перцентили 90, 95, 99: [17990. 26785. 53904.]\n"
     ]
    }
   ],
   "source": [
    "# отобразим распределение в виде точечной диаграммы\n",
    "plt.figure(figsize=(10, 8))\n",
    "x_values = orders.index \n",
    "plt.title('Распределение стоимости заказов (по группам)')\n",
    "sns.scatterplot(\n",
    "    x=x_values,\n",
    "    y='revenue',\n",
    "    hue=\"group\",\n",
    "    data=orders\n",
    ")\n",
    "plt.show()\n",
    "\n",
    "# выведем перцентили 90, 95, 99\n",
    "print('Перцентили 90, 95, 99:', np.percentile(orders['revenue'], [90, 95, 99]))"
   ]
  },
  {
   "cell_type": "markdown",
   "metadata": {},
   "source": [
    "А вот и аномальные заказы в группе В - на 200000 и на 1.2 млн. При этом 95% заказов были сделаны на сумму до 27000, а 99% - на сумму до 54000. Будем считать выбросами заказы на сумму 27000 и более и проверим повлияет ли их исключение на статистическую значимость результатов теста."
   ]
  },
  {
   "cell_type": "markdown",
   "metadata": {},
   "source": [
    "### Определение статистической значимости различий в конверсии между группами по «сырым» данным"
   ]
  },
  {
   "cell_type": "markdown",
   "metadata": {},
   "source": [
    "Для начала определим статистическую значимость различий в конверсии между группами по исходным, \"сырым\" данным. Для этого воспользуемся непараметрическим статистическим тестом Манна-Уитни.\n",
    "\n",
    "Напомним, проверяется статистическая гипотеза о равенстве конверсии между группами."
   ]
  },
  {
   "cell_type": "code",
   "execution_count": 25,
   "metadata": {
    "ExecuteTime": {
     "end_time": "2022-06-27T15:28:54.498310Z",
     "start_time": "2022-06-27T15:28:54.458287Z"
    }
   },
   "outputs": [
    {
     "name": "stdout",
     "output_type": "stream",
     "text": [
      "raw conversion p-value: 0.000000012\n"
     ]
    }
   ],
   "source": [
    "# рассчитаем статистическую значимость различий в конверсии\n",
    "print(\n",
    "    'raw conversion p-value:',\n",
    "    '{0:.9f}'\n",
    "    .format(\n",
    "        st.mannwhitneyu(cummulative_data.query('group == \"A\"')['conversion'], \n",
    "                        cummulative_data.query('group == \"B\"')['conversion'])[1]\n",
    "    )\n",
    ")"
   ]
  },
  {
   "cell_type": "markdown",
   "metadata": {},
   "source": [
    "Напомним, что мы проверяем гипотезу о различии конверсии пользователей групп А и В:\n",
    "- статистическая гипотеза H0 - конверсии групп А и В одинаковы;\n",
    "- альтернатива H1 - конверсии групп А и В не одинаковы.\n",
    "\n",
    "Очевидно, полученное значение p-value заведомо меньше любого разумного уровня статистической значимости, и нам следует отвергнуть гипотезу о равенстве конверсий в группах. \n",
    "\n",
    "Поскольку ранее мы выяснили, что **конверсия целевой группы В установилась на уровне, на 15% превышающем конверсию группы А, то можно утверждать, что это статистически обоснованный результат**."
   ]
  },
  {
   "cell_type": "markdown",
   "metadata": {},
   "source": [
    "### Определение статистической значимости различий в среднем чеке заказа между группами по «сырым» данным"
   ]
  },
  {
   "cell_type": "markdown",
   "metadata": {},
   "source": [
    "Другой метрикой, которую мы оценивали в тесте, является значение среднего чека. Для начала определим статистическую значимость различий в чеке между группами по исходным, \"сырым\" данным. Для этого воспользуемся непараметрическим статистическим тестом Манна-Уитни.\n",
    "\n",
    "Напомним, проверяется статистическая гипотеза о равенстве средних чеков между группами."
   ]
  },
  {
   "cell_type": "code",
   "execution_count": 26,
   "metadata": {
    "ExecuteTime": {
     "end_time": "2022-06-27T15:28:54.546298Z",
     "start_time": "2022-06-27T15:28:54.506282Z"
    }
   },
   "outputs": [
    {
     "name": "stdout",
     "output_type": "stream",
     "text": [
      "raw orders mean check p-value: 0.829\n"
     ]
    }
   ],
   "source": [
    "# рассчитаем статистическую значимость различий в чеках\n",
    "print(\n",
    "    'raw orders mean check p-value:',\n",
    "    '{0:.3f}'\n",
    "    .format(\n",
    "        st.mannwhitneyu(orders.query('group == \"A\"')['revenue'], \n",
    "                        orders.query('group == \"B\"')['revenue'])[1]\n",
    "    )\n",
    ")"
   ]
  },
  {
   "cell_type": "markdown",
   "metadata": {},
   "source": [
    "При таком уровне статистической значимости мы не можем отвергнуть нулевую гипотезу о равенстве средних чеков. Возможно, велико влияние выбросов. Очистим данные и повторно оценим статистическую значимость."
   ]
  },
  {
   "cell_type": "markdown",
   "metadata": {},
   "source": [
    "### Определение статистической значимости различий в конверсии между группами по «очищенным» данным"
   ]
  },
  {
   "cell_type": "markdown",
   "metadata": {},
   "source": [
    "Очистим данные от выбросов - удалим пользователей, сделавших 2 и более заказов, а также тех, кто заказывал на сумму 27000 и более:"
   ]
  },
  {
   "cell_type": "code",
   "execution_count": 27,
   "metadata": {
    "ExecuteTime": {
     "end_time": "2022-06-27T15:28:54.594295Z",
     "start_time": "2022-06-27T15:28:54.554277Z"
    }
   },
   "outputs": [
    {
     "data": {
      "text/plain": [
       "86"
      ]
     },
     "execution_count": 27,
     "metadata": {},
     "output_type": "execute_result"
    }
   ],
   "source": [
    "# выделим идентификаторы анормальных пользователей\n",
    "abnormal_visitors = pd.concat(\n",
    "    [\n",
    "        # аномальные конверсии\n",
    "        orders_by_visitors.query('num_orders >= 2')['visitor_id'],\n",
    "        # аномальные суммы заказов\n",
    "        orders.query('revenue >= 27000')['visitor_id']\n",
    "    ],\n",
    "    axis=0\n",
    ").drop_duplicates().sort_values()\n",
    "\n",
    "# выведем количество аномальных покупателей\n",
    "abnormal_visitors.shape[0]"
   ]
  },
  {
   "cell_type": "markdown",
   "metadata": {},
   "source": [
    "Итак, в разряд аномальных покупателей попали 86 человек."
   ]
  },
  {
   "cell_type": "code",
   "execution_count": 28,
   "metadata": {
    "ExecuteTime": {
     "end_time": "2022-06-27T15:28:54.658291Z",
     "start_time": "2022-06-27T15:28:54.618272Z"
    }
   },
   "outputs": [
    {
     "name": "stdout",
     "output_type": "stream",
     "text": [
      "1016\n",
      "887\n"
     ]
    }
   ],
   "source": [
    "# выведем количество заказов в \"сырых\" данных\n",
    "print(orders.shape[0])\n",
    "\n",
    "clean_orders = orders.query('visitor_id not in @abnormal_visitors')\n",
    "\n",
    "# выведем количество заказов в очищенных данных\n",
    "print(clean_orders.shape[0])"
   ]
  },
  {
   "cell_type": "markdown",
   "metadata": {},
   "source": [
    "После очистки количество заказов сократилось с 1016 до 887. Проверим, как очистка повлияла на уровни статистической значимости:"
   ]
  },
  {
   "cell_type": "code",
   "execution_count": 29,
   "metadata": {
    "ExecuteTime": {
     "end_time": "2022-06-27T15:28:55.517883Z",
     "start_time": "2022-06-27T15:28:54.666268Z"
    }
   },
   "outputs": [
    {
     "name": "stdout",
     "output_type": "stream",
     "text": [
      "clean conversion p-value: 0.0000000004\n"
     ]
    }
   ],
   "source": [
    "# агрегируем значения с накоплением и посчитаем кумулятивные метрики\n",
    "# для \"чистых\" данных\n",
    "clean_cummulative_data = get_cummulative_data(clean_orders, visitors)\n",
    "\n",
    "# рассчитаем статистическую значимость различий в конверсии\n",
    "print(\n",
    "    'clean conversion p-value:',\n",
    "    '{0:.10f}'\n",
    "    .format(\n",
    "        st.mannwhitneyu(clean_cummulative_data.query('group == \"A\"')['conversion'], \n",
    "                        clean_cummulative_data.query('group == \"B\"')['conversion'])[1]\n",
    "    )\n",
    ")"
   ]
  },
  {
   "cell_type": "markdown",
   "metadata": {},
   "source": [
    "Вероятность признать конверсии одинаковыми еще более сократилась!"
   ]
  },
  {
   "cell_type": "markdown",
   "metadata": {},
   "source": [
    "### Определение статистической значимости различий в среднем чеке заказа между группами по «очищенным» данным"
   ]
  },
  {
   "cell_type": "markdown",
   "metadata": {},
   "source": [
    " Определим статистическую значимость различий в чеке между группами по очищенным данным:"
   ]
  },
  {
   "cell_type": "code",
   "execution_count": 30,
   "metadata": {
    "ExecuteTime": {
     "end_time": "2022-06-27T15:28:55.557902Z",
     "start_time": "2022-06-27T15:28:55.517883Z"
    }
   },
   "outputs": [
    {
     "name": "stdout",
     "output_type": "stream",
     "text": [
      "clean orders mean check p-value: 0.727\n"
     ]
    }
   ],
   "source": [
    "# рассчитаем статистическую значимость различий в чеке\n",
    "print(\n",
    "    'clean orders mean check p-value:',\n",
    "    '{0:.3f}'\n",
    "    .format(\n",
    "        st.mannwhitneyu(clean_orders.query('group == \"A\"')['revenue'], \n",
    "                        clean_orders.query('group == \"B\"')['revenue'])[1]\n",
    "    )\n",
    ")"
   ]
  },
  {
   "cell_type": "markdown",
   "metadata": {},
   "source": [
    "Вероятность, с которой можно считать чеки групп А и В одинаковым, сократилась с 82.9% до 72.7%. Однако при таком уровне статистической значимости мы по-прежнему не можем считать чеки групп А и В различными."
   ]
  },
  {
   "cell_type": "markdown",
   "metadata": {},
   "source": [
    "### Решение по результатам теста"
   ]
  },
  {
   "cell_type": "markdown",
   "metadata": {},
   "source": [
    "Основной целью гипотезы, проверяемой с помощью А/В-теста, являлось увеличение выручки. В ходе анализа среза результатов мы выяснили что:\n",
    "\n",
    "1. С достаточным уровнем статистической значимости установившаяся конверсия в группе В превышает установившуюся конверсию в группе А на 15%.\n",
    "\n",
    "\n",
    "2. Средний чек в группе В к концу рассматриваемого среза теста превышает средний чек в группе А на порядка 30%.\n",
    "\n",
    "\n",
    "3. Однако графики демонстрируют продолжающуюся тенденцию к снижению как непосредственно среднего чека в группе В, так и его превышения по отношению к установившемуся на уровне 7000 среднему чеку группы А.\n",
    "\n",
    "\n",
    "4. Оцененный уровень статистической значимости не позволяет считать средние чеки групп А и В различными.\n",
    "\n",
    "\n",
    "**В этих условиях представляется целесообразным продолжить тест еще по крайней мере на 1 неделю.**"
   ]
  },
  {
   "cell_type": "markdown",
   "metadata": {},
   "source": [
    "---"
   ]
  },
  {
   "cell_type": "markdown",
   "metadata": {},
   "source": [
    "## Общий вывод"
   ]
  },
  {
   "cell_type": "markdown",
   "metadata": {},
   "source": [
    "В рамках проведённого исследования мы:\n",
    "- приоритизировали и выбрали наиболее приоритетную гипотезу для А/В-теста;\n",
    "- провели А/В-тест и проанализировали его результаты.\n",
    "\n",
    "1. С учётом охвата пользователей (фреймворк `RICE`) наиболее приоритетной призана следующая гипотеза о путях увеличения выручки интернет-магазина: **\"Добавить форму подписки на все основные страницы, чтобы собрать базу клиентов для email-рассылок\"**.\n",
    "\n",
    "\n",
    "2. Проведённый А/В-тест гипотезы показал:\n",
    "    1. С достаточным уровнем статистической значимости установившаяся конверсия в группе В превышает установившуюся конверсию в группе А на 15%.\n",
    "    2. Средний чек в группе В к концу рассматриваемого среза теста превышает средний чек в группе А на 30%.\n",
    "    3. Однако графики демонстрируют продолжающуюся тенденцию к снижению как непосредственно среднего чека в группе В, так и его превышения по отношению к установившемуся на уровне 7000 среднему чеку группы А.\n",
    "    4. Оцененный уровень статистической значимости не позволяет считать средние чеки групп А и В различными.\n",
    "\n",
    "\n",
    "3. **В этих условиях представляется целесообразным продолжить А/В-тест еще по крайней мере на 1 неделю.**"
   ]
  }
 ],
 "metadata": {
  "ExecuteTimeLog": [
   {
    "duration": 965,
    "start_time": "2022-06-28T15:14:10.696Z"
   },
   {
    "duration": 4,
    "start_time": "2022-06-28T15:14:11.663Z"
   },
   {
    "duration": 8,
    "start_time": "2022-06-28T15:14:11.668Z"
   },
   {
    "duration": 4,
    "start_time": "2022-06-28T15:14:11.677Z"
   },
   {
    "duration": 9,
    "start_time": "2022-06-28T15:14:11.682Z"
   },
   {
    "duration": 85,
    "start_time": "2022-06-28T15:14:11.692Z"
   },
   {
    "duration": 5,
    "start_time": "2022-06-28T15:14:11.778Z"
   },
   {
    "duration": 15,
    "start_time": "2022-06-28T15:14:11.784Z"
   },
   {
    "duration": 11,
    "start_time": "2022-06-28T15:14:11.800Z"
   },
   {
    "duration": 43,
    "start_time": "2022-06-28T15:14:11.813Z"
   },
   {
    "duration": 29,
    "start_time": "2022-06-28T15:14:11.858Z"
   },
   {
    "duration": 5,
    "start_time": "2022-06-28T15:14:11.888Z"
   },
   {
    "duration": 13,
    "start_time": "2022-06-28T15:14:11.895Z"
   },
   {
    "duration": 12,
    "start_time": "2022-06-28T15:14:11.909Z"
   },
   {
    "duration": 34,
    "start_time": "2022-06-28T15:14:11.922Z"
   },
   {
    "duration": 22,
    "start_time": "2022-06-28T15:14:11.958Z"
   },
   {
    "duration": 4,
    "start_time": "2022-06-28T15:14:11.981Z"
   },
   {
    "duration": 500,
    "start_time": "2022-06-28T15:14:11.986Z"
   },
   {
    "duration": 202,
    "start_time": "2022-06-28T15:14:12.487Z"
   },
   {
    "duration": 269,
    "start_time": "2022-06-28T15:14:12.691Z"
   },
   {
    "duration": 194,
    "start_time": "2022-06-28T15:14:12.961Z"
   },
   {
    "duration": 298,
    "start_time": "2022-06-28T15:14:13.156Z"
   },
   {
    "duration": 131,
    "start_time": "2022-06-28T15:14:13.455Z"
   },
   {
    "duration": 129,
    "start_time": "2022-06-28T15:14:13.587Z"
   },
   {
    "duration": 7,
    "start_time": "2022-06-28T15:14:13.718Z"
   },
   {
    "duration": 12,
    "start_time": "2022-06-28T15:14:13.726Z"
   },
   {
    "duration": 18,
    "start_time": "2022-06-28T15:14:13.739Z"
   },
   {
    "duration": 5,
    "start_time": "2022-06-28T15:14:13.760Z"
   },
   {
    "duration": 318,
    "start_time": "2022-06-28T15:14:13.766Z"
   },
   {
    "duration": 8,
    "start_time": "2022-06-28T15:14:14.085Z"
   },
   {
    "duration": 1183,
    "start_time": "2022-06-28T19:19:32.893Z"
   },
   {
    "duration": 6,
    "start_time": "2022-06-28T19:19:34.078Z"
   },
   {
    "duration": 8,
    "start_time": "2022-06-28T19:19:34.086Z"
   },
   {
    "duration": 12,
    "start_time": "2022-06-28T19:19:34.095Z"
   },
   {
    "duration": 6,
    "start_time": "2022-06-28T19:19:34.109Z"
   },
   {
    "duration": 112,
    "start_time": "2022-06-28T19:19:34.116Z"
   },
   {
    "duration": 4,
    "start_time": "2022-06-28T19:19:34.230Z"
   },
   {
    "duration": 14,
    "start_time": "2022-06-28T19:19:34.236Z"
   },
   {
    "duration": 17,
    "start_time": "2022-06-28T19:19:34.251Z"
   },
   {
    "duration": 103,
    "start_time": "2022-06-28T19:19:34.271Z"
   },
   {
    "duration": 57,
    "start_time": "2022-06-28T19:19:34.375Z"
   },
   {
    "duration": 5,
    "start_time": "2022-06-28T19:19:34.434Z"
   },
   {
    "duration": 20,
    "start_time": "2022-06-28T19:19:34.440Z"
   },
   {
    "duration": 17,
    "start_time": "2022-06-28T19:19:34.461Z"
   },
   {
    "duration": 20,
    "start_time": "2022-06-28T19:19:34.480Z"
   },
   {
    "duration": 28,
    "start_time": "2022-06-28T19:19:34.502Z"
   },
   {
    "duration": 5,
    "start_time": "2022-06-28T19:19:34.531Z"
   },
   {
    "duration": 565,
    "start_time": "2022-06-28T19:19:34.537Z"
   },
   {
    "duration": 228,
    "start_time": "2022-06-28T19:19:35.104Z"
   },
   {
    "duration": 346,
    "start_time": "2022-06-28T19:19:35.334Z"
   },
   {
    "duration": 231,
    "start_time": "2022-06-28T19:19:35.682Z"
   },
   {
    "duration": 329,
    "start_time": "2022-06-28T19:19:35.914Z"
   },
   {
    "duration": 153,
    "start_time": "2022-06-28T19:19:36.244Z"
   },
   {
    "duration": 154,
    "start_time": "2022-06-28T19:19:36.400Z"
   },
   {
    "duration": 9,
    "start_time": "2022-06-28T19:19:36.556Z"
   },
   {
    "duration": 20,
    "start_time": "2022-06-28T19:19:36.567Z"
   },
   {
    "duration": 17,
    "start_time": "2022-06-28T19:19:36.589Z"
   },
   {
    "duration": 21,
    "start_time": "2022-06-28T19:19:36.609Z"
   },
   {
    "duration": 345,
    "start_time": "2022-06-28T19:19:36.632Z"
   },
   {
    "duration": 9,
    "start_time": "2022-06-28T19:19:36.978Z"
   },
   {
    "duration": 1017,
    "start_time": "2022-06-28T19:24:04.856Z"
   },
   {
    "duration": 4,
    "start_time": "2022-06-28T19:24:05.875Z"
   },
   {
    "duration": 9,
    "start_time": "2022-06-28T19:24:05.881Z"
   },
   {
    "duration": 20,
    "start_time": "2022-06-28T19:24:05.892Z"
   },
   {
    "duration": 16,
    "start_time": "2022-06-28T19:24:05.914Z"
   },
   {
    "duration": 85,
    "start_time": "2022-06-28T19:24:05.931Z"
   },
   {
    "duration": 5,
    "start_time": "2022-06-28T19:24:06.017Z"
   },
   {
    "duration": 27,
    "start_time": "2022-06-28T19:24:06.023Z"
   },
   {
    "duration": 16,
    "start_time": "2022-06-28T19:24:06.052Z"
   },
   {
    "duration": 58,
    "start_time": "2022-06-28T19:24:06.070Z"
   },
   {
    "duration": 29,
    "start_time": "2022-06-28T19:24:06.129Z"
   },
   {
    "duration": 5,
    "start_time": "2022-06-28T19:24:06.160Z"
   },
   {
    "duration": 25,
    "start_time": "2022-06-28T19:24:06.166Z"
   },
   {
    "duration": 17,
    "start_time": "2022-06-28T19:24:06.192Z"
   },
   {
    "duration": 21,
    "start_time": "2022-06-28T19:24:06.211Z"
   },
   {
    "duration": 18,
    "start_time": "2022-06-28T19:24:06.233Z"
   },
   {
    "duration": 6,
    "start_time": "2022-06-28T19:24:06.253Z"
   },
   {
    "duration": 585,
    "start_time": "2022-06-28T19:24:06.260Z"
   },
   {
    "duration": 237,
    "start_time": "2022-06-28T19:24:06.847Z"
   },
   {
    "duration": 304,
    "start_time": "2022-06-28T19:24:07.086Z"
   },
   {
    "duration": 240,
    "start_time": "2022-06-28T19:24:07.392Z"
   },
   {
    "duration": 324,
    "start_time": "2022-06-28T19:24:07.633Z"
   },
   {
    "duration": 151,
    "start_time": "2022-06-28T19:24:07.959Z"
   },
   {
    "duration": 147,
    "start_time": "2022-06-28T19:24:08.112Z"
   },
   {
    "duration": 9,
    "start_time": "2022-06-28T19:24:08.261Z"
   },
   {
    "duration": 10,
    "start_time": "2022-06-28T19:24:08.271Z"
   },
   {
    "duration": 12,
    "start_time": "2022-06-28T19:24:08.283Z"
   },
   {
    "duration": 7,
    "start_time": "2022-06-28T19:24:08.297Z"
   },
   {
    "duration": 351,
    "start_time": "2022-06-28T19:24:08.326Z"
   },
   {
    "duration": 8,
    "start_time": "2022-06-28T19:24:08.678Z"
   },
   {
    "duration": 140,
    "start_time": "2022-06-28T19:32:28.684Z"
   },
   {
    "duration": 156,
    "start_time": "2022-06-28T19:32:50.596Z"
   },
   {
    "duration": 168,
    "start_time": "2022-06-28T19:42:57.162Z"
   },
   {
    "duration": 146,
    "start_time": "2022-06-28T19:43:13.262Z"
   },
   {
    "duration": 139,
    "start_time": "2022-06-28T19:43:46.896Z"
   },
   {
    "duration": 171,
    "start_time": "2022-06-28T19:43:58.036Z"
   },
   {
    "duration": 183,
    "start_time": "2022-06-28T19:44:35.883Z"
   },
   {
    "duration": 189,
    "start_time": "2022-06-28T19:46:29.314Z"
   },
   {
    "duration": 225,
    "start_time": "2022-06-28T19:54:44.739Z"
   },
   {
    "duration": 214,
    "start_time": "2022-06-28T19:56:18.225Z"
   },
   {
    "duration": 258,
    "start_time": "2022-06-28T19:57:01.303Z"
   },
   {
    "duration": 317,
    "start_time": "2022-06-28T19:58:50.356Z"
   },
   {
    "duration": 321,
    "start_time": "2022-06-28T19:59:32.194Z"
   },
   {
    "duration": 55,
    "start_time": "2022-06-28T20:01:14.058Z"
   },
   {
    "duration": 87,
    "start_time": "2022-06-28T20:03:24.676Z"
   },
   {
    "duration": 89,
    "start_time": "2022-06-28T20:05:12.415Z"
   },
   {
    "duration": 294,
    "start_time": "2022-06-28T20:06:24.795Z"
   },
   {
    "duration": 275,
    "start_time": "2022-06-28T20:06:40.806Z"
   },
   {
    "duration": 285,
    "start_time": "2022-06-28T20:07:07.534Z"
   },
   {
    "duration": 282,
    "start_time": "2022-06-28T20:07:27.053Z"
   },
   {
    "duration": 296,
    "start_time": "2022-06-28T20:07:35.380Z"
   },
   {
    "duration": 291,
    "start_time": "2022-06-28T20:07:43.315Z"
   },
   {
    "duration": 218,
    "start_time": "2022-06-28T20:11:10.535Z"
   },
   {
    "duration": 238,
    "start_time": "2022-06-28T20:12:06.450Z"
   },
   {
    "duration": 314,
    "start_time": "2022-06-28T20:12:25.005Z"
   },
   {
    "duration": 1046,
    "start_time": "2022-06-28T20:13:44.275Z"
   },
   {
    "duration": 6,
    "start_time": "2022-06-28T20:13:45.323Z"
   },
   {
    "duration": 8,
    "start_time": "2022-06-28T20:13:45.330Z"
   },
   {
    "duration": 7,
    "start_time": "2022-06-28T20:13:45.340Z"
   },
   {
    "duration": 81,
    "start_time": "2022-06-28T20:13:45.348Z"
   },
   {
    "duration": 4,
    "start_time": "2022-06-28T20:13:45.431Z"
   },
   {
    "duration": 15,
    "start_time": "2022-06-28T20:13:45.437Z"
   },
   {
    "duration": 13,
    "start_time": "2022-06-28T20:13:45.454Z"
   },
   {
    "duration": 217,
    "start_time": "2022-06-28T20:13:45.468Z"
   },
   {
    "duration": 46,
    "start_time": "2022-06-28T20:13:45.687Z"
   },
   {
    "duration": 30,
    "start_time": "2022-06-28T20:13:45.735Z"
   },
   {
    "duration": 5,
    "start_time": "2022-06-28T20:13:45.767Z"
   },
   {
    "duration": 14,
    "start_time": "2022-06-28T20:13:45.774Z"
   },
   {
    "duration": 12,
    "start_time": "2022-06-28T20:13:45.790Z"
   },
   {
    "duration": 15,
    "start_time": "2022-06-28T20:13:45.827Z"
   },
   {
    "duration": 16,
    "start_time": "2022-06-28T20:13:45.844Z"
   },
   {
    "duration": 5,
    "start_time": "2022-06-28T20:13:45.862Z"
   },
   {
    "duration": 560,
    "start_time": "2022-06-28T20:13:45.869Z"
   },
   {
    "duration": 235,
    "start_time": "2022-06-28T20:13:46.431Z"
   },
   {
    "duration": 279,
    "start_time": "2022-06-28T20:13:46.668Z"
   },
   {
    "duration": 231,
    "start_time": "2022-06-28T20:13:46.949Z"
   },
   {
    "duration": 340,
    "start_time": "2022-06-28T20:13:47.181Z"
   },
   {
    "duration": 367,
    "start_time": "2022-06-28T20:13:47.523Z"
   },
   {
    "duration": 229,
    "start_time": "2022-06-28T20:13:47.892Z"
   },
   {
    "duration": 12,
    "start_time": "2022-06-28T20:13:48.123Z"
   },
   {
    "duration": 18,
    "start_time": "2022-06-28T20:13:48.136Z"
   },
   {
    "duration": 11,
    "start_time": "2022-06-28T20:13:48.156Z"
   },
   {
    "duration": 6,
    "start_time": "2022-06-28T20:13:48.170Z"
   },
   {
    "duration": 299,
    "start_time": "2022-06-28T20:13:48.178Z"
   },
   {
    "duration": 9,
    "start_time": "2022-06-28T20:13:48.479Z"
   }
  ],
  "kernelspec": {
   "display_name": "Python 3 (ipykernel)",
   "language": "python",
   "name": "python3"
  },
  "language_info": {
   "codemirror_mode": {
    "name": "ipython",
    "version": 3
   },
   "file_extension": ".py",
   "mimetype": "text/x-python",
   "name": "python",
   "nbconvert_exporter": "python",
   "pygments_lexer": "ipython3",
   "version": "3.9.12"
  },
  "toc": {
   "base_numbering": 1,
   "nav_menu": {},
   "number_sections": true,
   "sideBar": true,
   "skip_h1_title": true,
   "title_cell": "Содержание",
   "title_sidebar": "Содержание",
   "toc_cell": true,
   "toc_position": {
    "height": "calc(100% - 180px)",
    "left": "10px",
    "top": "150px",
    "width": "296px"
   },
   "toc_section_display": true,
   "toc_window_display": false
  },
  "varInspector": {
   "cols": {
    "lenName": 16,
    "lenType": 16,
    "lenVar": 40
   },
   "kernels_config": {
    "python": {
     "delete_cmd_postfix": "",
     "delete_cmd_prefix": "del ",
     "library": "var_list.py",
     "varRefreshCmd": "print(var_dic_list())"
    },
    "r": {
     "delete_cmd_postfix": ") ",
     "delete_cmd_prefix": "rm(",
     "library": "var_list.r",
     "varRefreshCmd": "cat(var_dic_list()) "
    }
   },
   "types_to_exclude": [
    "module",
    "function",
    "builtin_function_or_method",
    "instance",
    "_Feature"
   ],
   "window_display": false
  }
 },
 "nbformat": 4,
 "nbformat_minor": 2
}
