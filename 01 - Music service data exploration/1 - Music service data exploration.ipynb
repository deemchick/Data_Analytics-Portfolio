{
 "cells": [
  {
   "cell_type": "markdown",
   "metadata": {
    "id": "E0vqbgi9ay0H"
   },
   "source": [
    "# Исследование данных музыкального сервиса - сравнение музыкальных предпочтений пользователей двух городов"
   ]
  },
  {
   "cell_type": "markdown",
   "metadata": {},
   "source": [
    "---"
   ]
  },
  {
   "cell_type": "markdown",
   "metadata": {
    "toc": true
   },
   "source": [
    "<h1>Содержание<span class=\"tocSkip\"></span></h1>\n",
    "<div class=\"toc\"><ul class=\"toc-item\"><li><span><a href=\"#Обзор-данных\" data-toc-modified-id=\"Обзор-данных-1\"><span class=\"toc-item-num\">1&nbsp;&nbsp;</span>Обзор данных</a></span></li><li><span><a href=\"#Предобработка-данных\" data-toc-modified-id=\"Предобработка-данных-2\"><span class=\"toc-item-num\">2&nbsp;&nbsp;</span>Предобработка данных</a></span><ul class=\"toc-item\"><li><span><a href=\"#Стиль-заголовков\" data-toc-modified-id=\"Стиль-заголовков-2.1\"><span class=\"toc-item-num\">2.1&nbsp;&nbsp;</span>Стиль заголовков</a></span></li><li><span><a href=\"#Пропуски-значений\" data-toc-modified-id=\"Пропуски-значений-2.2\"><span class=\"toc-item-num\">2.2&nbsp;&nbsp;</span>Пропуски значений</a></span></li><li><span><a href=\"#Дубликаты\" data-toc-modified-id=\"Дубликаты-2.3\"><span class=\"toc-item-num\">2.3&nbsp;&nbsp;</span>Дубликаты</a></span></li></ul></li><li><span><a href=\"#Проверка-гипотез\" data-toc-modified-id=\"Проверка-гипотез-3\"><span class=\"toc-item-num\">3&nbsp;&nbsp;</span>Проверка гипотез</a></span><ul class=\"toc-item\"><li><span><a href=\"#Сравнение-поведения-пользователей-двух-столиц\" data-toc-modified-id=\"Сравнение-поведения-пользователей-двух-столиц-3.1\"><span class=\"toc-item-num\">3.1&nbsp;&nbsp;</span>Сравнение поведения пользователей двух столиц</a></span></li><li><span><a href=\"#Музыка-в-начале-и-в-конце-недели\" data-toc-modified-id=\"Музыка-в-начале-и-в-конце-недели-3.2\"><span class=\"toc-item-num\">3.2&nbsp;&nbsp;</span>Музыка в начале и в конце недели</a></span></li><li><span><a href=\"#Жанровые-предпочтения-в-Москве-и-Петербурге\" data-toc-modified-id=\"Жанровые-предпочтения-в-Москве-и-Петербурге-3.3\"><span class=\"toc-item-num\">3.3&nbsp;&nbsp;</span>Жанровые предпочтения в Москве и Петербурге</a></span></li></ul></li><li><span><a href=\"#Итоги-исследования\" data-toc-modified-id=\"Итоги-исследования-4\"><span class=\"toc-item-num\">4&nbsp;&nbsp;</span>Итоги исследования</a></span></li></ul></div>"
   ]
  },
  {
   "cell_type": "markdown",
   "metadata": {},
   "source": [
    "---"
   ]
  },
  {
   "cell_type": "markdown",
   "metadata": {
    "id": "VUC88oWjTJw2"
   },
   "source": [
    "Сравнение Москвы и Петербурга окружено мифами. Например:\n",
    " * Москва — мегаполис, подчинённый жёсткому ритму рабочей недели;\n",
    " * Петербург — культурная столица, со своими вкусами.\n",
    "\n",
    "На данных Яндекс.Музыки сравним поведение пользователей двух столиц.\n",
    "\n",
    "**Цель исследования** — проверка трёх гипотез:\n",
    "1. Активность пользователей зависит от дня недели. Причём в Москве и Петербурге это проявляется по-разному.\n",
    "2. В понедельник утром в Москве преобладают одни жанры, а в Петербурге — другие. Так же и вечером пятницы преобладают разные жанры — в зависимости от города. \n",
    "3. Москва и Петербург предпочитают разные жанры музыки. В Москве чаще слушают поп-музыку, в Петербурге — русский рэп.\n",
    "\n",
    "**Ход исследования**\n",
    "\n",
    "Данные о поведении пользователей хранятся в файле `yandex_music_project.csv`. О качестве данных ничего не известно. Поэтому перед проверкой гипотез понадобится обзор данных. \n",
    "\n",
    "Необходимо проверить данные на ошибки и оценить их влияние на исследование. Затем, на этапе предобработки следует поискать возможность исправить самые критичные ошибки данных.\n",
    " \n",
    "Таким образом, исследование пройдёт в три этапа:\n",
    " 1. Обзор данных.\n",
    " 2. Предобработка данных.\n",
    " 3. Проверка гипотез.\n",
    "\n"
   ]
  },
  {
   "cell_type": "markdown",
   "metadata": {},
   "source": [
    "---"
   ]
  },
  {
   "cell_type": "markdown",
   "metadata": {
    "id": "Ml1hmfXC_Zcs"
   },
   "source": [
    "## Обзор данных\n",
    "\n",
    "Составим первое представление о данных Яндекс.Музыки.\n",
    "\n",
    "\n"
   ]
  },
  {
   "cell_type": "markdown",
   "metadata": {
    "id": "57eAOGIz_Zcs"
   },
   "source": [
    "Основной инструмент аналитика — `pandas`. Импортируем эту библиотеку."
   ]
  },
  {
   "cell_type": "code",
   "execution_count": 1,
   "metadata": {
    "id": "AXN7PHPN_Zcs"
   },
   "outputs": [],
   "source": [
    "# импорт библиотеки pandas\n",
    "import pandas as pd"
   ]
  },
  {
   "cell_type": "markdown",
   "metadata": {
    "id": "SG23P8tt_Zcs"
   },
   "source": [
    "Прочитаем файл `yandex_music_project.csv` из папки `/datasets` и сохраним его в переменной `df`:"
   ]
  },
  {
   "cell_type": "code",
   "execution_count": 2,
   "metadata": {
    "id": "fFVu7vqh_Zct"
   },
   "outputs": [],
   "source": [
    "# чтение файла с данными и сохранение в df\n",
    "df = pd.read_csv('/datasets/yandex_music_project.csv')"
   ]
  },
  {
   "cell_type": "markdown",
   "metadata": {
    "id": "rDoOMd3uTqnZ"
   },
   "source": [
    "Выведем на экран первые десять строк таблицы:"
   ]
  },
  {
   "cell_type": "code",
   "execution_count": 3,
   "metadata": {
    "id": "oWTVX3gW_Zct"
   },
   "outputs": [
    {
     "data": {
      "text/html": [
       "<div>\n",
       "<style scoped>\n",
       "    .dataframe tbody tr th:only-of-type {\n",
       "        vertical-align: middle;\n",
       "    }\n",
       "\n",
       "    .dataframe tbody tr th {\n",
       "        vertical-align: top;\n",
       "    }\n",
       "\n",
       "    .dataframe thead th {\n",
       "        text-align: right;\n",
       "    }\n",
       "</style>\n",
       "<table border=\"1\" class=\"dataframe\">\n",
       "  <thead>\n",
       "    <tr style=\"text-align: right;\">\n",
       "      <th></th>\n",
       "      <th>userID</th>\n",
       "      <th>Track</th>\n",
       "      <th>artist</th>\n",
       "      <th>genre</th>\n",
       "      <th>City</th>\n",
       "      <th>time</th>\n",
       "      <th>Day</th>\n",
       "    </tr>\n",
       "  </thead>\n",
       "  <tbody>\n",
       "    <tr>\n",
       "      <th>0</th>\n",
       "      <td>FFB692EC</td>\n",
       "      <td>Kamigata To Boots</td>\n",
       "      <td>The Mass Missile</td>\n",
       "      <td>rock</td>\n",
       "      <td>Saint-Petersburg</td>\n",
       "      <td>20:28:33</td>\n",
       "      <td>Wednesday</td>\n",
       "    </tr>\n",
       "    <tr>\n",
       "      <th>1</th>\n",
       "      <td>55204538</td>\n",
       "      <td>Delayed Because of Accident</td>\n",
       "      <td>Andreas Rönnberg</td>\n",
       "      <td>rock</td>\n",
       "      <td>Moscow</td>\n",
       "      <td>14:07:09</td>\n",
       "      <td>Friday</td>\n",
       "    </tr>\n",
       "    <tr>\n",
       "      <th>2</th>\n",
       "      <td>20EC38</td>\n",
       "      <td>Funiculì funiculà</td>\n",
       "      <td>Mario Lanza</td>\n",
       "      <td>pop</td>\n",
       "      <td>Saint-Petersburg</td>\n",
       "      <td>20:58:07</td>\n",
       "      <td>Wednesday</td>\n",
       "    </tr>\n",
       "    <tr>\n",
       "      <th>3</th>\n",
       "      <td>A3DD03C9</td>\n",
       "      <td>Dragons in the Sunset</td>\n",
       "      <td>Fire + Ice</td>\n",
       "      <td>folk</td>\n",
       "      <td>Saint-Petersburg</td>\n",
       "      <td>08:37:09</td>\n",
       "      <td>Monday</td>\n",
       "    </tr>\n",
       "    <tr>\n",
       "      <th>4</th>\n",
       "      <td>E2DC1FAE</td>\n",
       "      <td>Soul People</td>\n",
       "      <td>Space Echo</td>\n",
       "      <td>dance</td>\n",
       "      <td>Moscow</td>\n",
       "      <td>08:34:34</td>\n",
       "      <td>Monday</td>\n",
       "    </tr>\n",
       "    <tr>\n",
       "      <th>5</th>\n",
       "      <td>842029A1</td>\n",
       "      <td>Преданная</td>\n",
       "      <td>IMPERVTOR</td>\n",
       "      <td>rusrap</td>\n",
       "      <td>Saint-Petersburg</td>\n",
       "      <td>13:09:41</td>\n",
       "      <td>Friday</td>\n",
       "    </tr>\n",
       "    <tr>\n",
       "      <th>6</th>\n",
       "      <td>4CB90AA5</td>\n",
       "      <td>True</td>\n",
       "      <td>Roman Messer</td>\n",
       "      <td>dance</td>\n",
       "      <td>Moscow</td>\n",
       "      <td>13:00:07</td>\n",
       "      <td>Wednesday</td>\n",
       "    </tr>\n",
       "    <tr>\n",
       "      <th>7</th>\n",
       "      <td>F03E1C1F</td>\n",
       "      <td>Feeling This Way</td>\n",
       "      <td>Polina Griffith</td>\n",
       "      <td>dance</td>\n",
       "      <td>Moscow</td>\n",
       "      <td>20:47:49</td>\n",
       "      <td>Wednesday</td>\n",
       "    </tr>\n",
       "    <tr>\n",
       "      <th>8</th>\n",
       "      <td>8FA1D3BE</td>\n",
       "      <td>И вновь продолжается бой</td>\n",
       "      <td>NaN</td>\n",
       "      <td>ruspop</td>\n",
       "      <td>Moscow</td>\n",
       "      <td>09:17:40</td>\n",
       "      <td>Friday</td>\n",
       "    </tr>\n",
       "    <tr>\n",
       "      <th>9</th>\n",
       "      <td>E772D5C0</td>\n",
       "      <td>Pessimist</td>\n",
       "      <td>NaN</td>\n",
       "      <td>dance</td>\n",
       "      <td>Saint-Petersburg</td>\n",
       "      <td>21:20:49</td>\n",
       "      <td>Wednesday</td>\n",
       "    </tr>\n",
       "  </tbody>\n",
       "</table>\n",
       "</div>"
      ],
      "text/plain": [
       "     userID                        Track            artist   genre  \\\n",
       "0  FFB692EC            Kamigata To Boots  The Mass Missile    rock   \n",
       "1  55204538  Delayed Because of Accident  Andreas Rönnberg    rock   \n",
       "2    20EC38            Funiculì funiculà       Mario Lanza     pop   \n",
       "3  A3DD03C9        Dragons in the Sunset        Fire + Ice    folk   \n",
       "4  E2DC1FAE                  Soul People        Space Echo   dance   \n",
       "5  842029A1                    Преданная         IMPERVTOR  rusrap   \n",
       "6  4CB90AA5                         True      Roman Messer   dance   \n",
       "7  F03E1C1F             Feeling This Way   Polina Griffith   dance   \n",
       "8  8FA1D3BE     И вновь продолжается бой               NaN  ruspop   \n",
       "9  E772D5C0                    Pessimist               NaN   dance   \n",
       "\n",
       "             City        time        Day  \n",
       "0  Saint-Petersburg  20:28:33  Wednesday  \n",
       "1            Moscow  14:07:09     Friday  \n",
       "2  Saint-Petersburg  20:58:07  Wednesday  \n",
       "3  Saint-Petersburg  08:37:09     Monday  \n",
       "4            Moscow  08:34:34     Monday  \n",
       "5  Saint-Petersburg  13:09:41     Friday  \n",
       "6            Moscow  13:00:07  Wednesday  \n",
       "7            Moscow  20:47:49  Wednesday  \n",
       "8            Moscow  09:17:40     Friday  \n",
       "9  Saint-Petersburg  21:20:49  Wednesday  "
      ]
     },
     "execution_count": 3,
     "metadata": {},
     "output_type": "execute_result"
    }
   ],
   "source": [
    "# получение первых 10 строк таблицы df\n",
    "df.head(10)"
   ]
  },
  {
   "cell_type": "markdown",
   "metadata": {
    "id": "EO73Kwic_Zct"
   },
   "source": [
    "Получим общую информацию о таблице:"
   ]
  },
  {
   "cell_type": "code",
   "execution_count": 4,
   "metadata": {
    "id": "DSf2kIb-_Zct"
   },
   "outputs": [
    {
     "name": "stdout",
     "output_type": "stream",
     "text": [
      "<class 'pandas.core.frame.DataFrame'>\n",
      "RangeIndex: 65079 entries, 0 to 65078\n",
      "Data columns (total 7 columns):\n",
      " #   Column    Non-Null Count  Dtype \n",
      "---  ------    --------------  ----- \n",
      " 0     userID  65079 non-null  object\n",
      " 1   Track     63848 non-null  object\n",
      " 2   artist    57876 non-null  object\n",
      " 3   genre     63881 non-null  object\n",
      " 4     City    65079 non-null  object\n",
      " 5   time      65079 non-null  object\n",
      " 6   Day       65079 non-null  object\n",
      "dtypes: object(7)\n",
      "memory usage: 3.5+ MB\n"
     ]
    }
   ],
   "source": [
    "# получение общей информации о данных в таблице df\n",
    "df.info()"
   ]
  },
  {
   "cell_type": "markdown",
   "metadata": {
    "id": "TaQ2Iwbr_Zct"
   },
   "source": [
    "Итак, в таблице семь столбцов. Тип данных во всех столбцах — `object`.\n",
    "\n",
    "Согласно документации к данным:\n",
    "* `userID` — идентификатор пользователя;\n",
    "* `Track` — название трека;  \n",
    "* `artist` — имя исполнителя;\n",
    "* `genre` — название жанра;\n",
    "* `City` — город пользователя;\n",
    "* `time` — время начала прослушивания;\n",
    "* `Day` — день недели.\n",
    "\n",
    "В названиях колонок видны три нарушения стиля:\n",
    "1. Строчные буквы сочетаются с прописными.\n",
    "2. Встречаются пробелы.\n",
    "3. Название колонки `userID` написано не в snake_case.\n",
    "\n",
    "\n",
    "\n",
    "Количество значений в столбцах различается. Значит, в данных есть пропущенные значения.\n"
   ]
  },
  {
   "cell_type": "markdown",
   "metadata": {
    "id": "MCB6-dXG_Zct"
   },
   "source": [
    "**Выводы**\n",
    "\n",
    "В каждой строке таблицы — данные о прослушанном треке. Часть колонок описывает саму композицию: название, исполнителя и жанр. Остальные данные рассказывают о пользователе: из какого он города, когда он слушал музыку. \n",
    "\n",
    "Предварительно можно утверждать, что, данных достаточно для проверки гипотез. Но встречаются пропуски в данных, а в названиях колонок — расхождения с хорошим стилем.\n",
    "\n",
    "Пропуски в данных наблюдаются только в колонках, описывающих саму композицию, что может свидетельствовать об ошибках при извлечении данных о композициях, либо о том, что в системе поля `Track`, `artist` и `genre` являются необязательными и теоретически возможна ситуация, когда все три поля будут пропущены одновременно. *Целесообразно проконсультироваться с разработчиками.*\n",
    "\n",
    "С точки зрения постановки задачи наиболее важным является столбец `genre`. Предварительно, он содержит меньше всего пропусков данных.\n",
    "\n",
    "Чтобы двигаться дальше, устраним проблемы в данных."
   ]
  },
  {
   "cell_type": "markdown",
   "metadata": {},
   "source": [
    "---"
   ]
  },
  {
   "cell_type": "markdown",
   "metadata": {
    "id": "SjYF6Ub9_Zct"
   },
   "source": [
    "## Предобработка данных\n",
    "Исправим стиль в заголовках столбцов, исключим пропуски. Затем проверим данные на дубликаты."
   ]
  },
  {
   "cell_type": "markdown",
   "metadata": {
    "id": "dIaKXr29_Zct"
   },
   "source": [
    "### Стиль заголовков\n",
    "Выведем на экран названия столбцов:"
   ]
  },
  {
   "cell_type": "code",
   "execution_count": 5,
   "metadata": {
    "id": "oKOTdF_Q_Zct"
   },
   "outputs": [
    {
     "data": {
      "text/plain": [
       "Index(['  userID', 'Track', 'artist', 'genre', '  City  ', 'time', 'Day'], dtype='object')"
      ]
     },
     "execution_count": 5,
     "metadata": {},
     "output_type": "execute_result"
    }
   ],
   "source": [
    "# перечень названий столбцов таблицы df\n",
    "df.columns"
   ]
  },
  {
   "cell_type": "markdown",
   "metadata": {
    "id": "zj5534cv_Zct"
   },
   "source": [
    "Приведём названия в соответствие с хорошим стилем:\n",
    "* несколько слов в названии запишите в «змеином_регистре»,\n",
    "* все символы сделайте строчными,\n",
    "* устраните пробелы.\n",
    "\n",
    "Для этого переименуем колонки:\n",
    "* `'  userID'` → `'user_id'`;\n",
    "* `'Track'` → `'track'`;\n",
    "* `'  City  '` → `'city'`;\n",
    "* `'Day'` → `'day'`."
   ]
  },
  {
   "cell_type": "code",
   "execution_count": 6,
   "metadata": {
    "id": "ISlFqs5y_Zct"
   },
   "outputs": [],
   "source": [
    "# переименование столбцов\n",
    "df = df.rename(\n",
    "    columns={\n",
    "        '  userID' : 'user_id',\n",
    "        'Track' : 'track',\n",
    "        '  City  ' : 'city',\n",
    "        'Day' : 'day'    \n",
    "    }\n",
    ")"
   ]
  },
  {
   "cell_type": "markdown",
   "metadata": {
    "id": "1dqbh00J_Zct"
   },
   "source": [
    "Проверим результат:"
   ]
  },
  {
   "cell_type": "code",
   "execution_count": 7,
   "metadata": {
    "id": "d4NOAmTW_Zct"
   },
   "outputs": [
    {
     "data": {
      "text/plain": [
       "Index(['user_id', 'track', 'artist', 'genre', 'city', 'time', 'day'], dtype='object')"
      ]
     },
     "execution_count": 7,
     "metadata": {},
     "output_type": "execute_result"
    }
   ],
   "source": [
    "# проверка результатов - перечень названий столбцов\n",
    "df.columns"
   ]
  },
  {
   "cell_type": "markdown",
   "metadata": {
    "id": "5ISfbcfY_Zct"
   },
   "source": [
    "### Пропуски значений\n",
    "Сначала посчитаем, сколько в таблице пропущенных значений:"
   ]
  },
  {
   "cell_type": "code",
   "execution_count": 8,
   "metadata": {
    "id": "RskX29qr_Zct"
   },
   "outputs": [
    {
     "data": {
      "text/plain": [
       "user_id       0\n",
       "track      1231\n",
       "artist     7203\n",
       "genre      1198\n",
       "city          0\n",
       "time          0\n",
       "day           0\n",
       "dtype: int64"
      ]
     },
     "execution_count": 8,
     "metadata": {},
     "output_type": "execute_result"
    }
   ],
   "source": [
    "# подсчёт пропусков\n",
    "df.isna().sum()"
   ]
  },
  {
   "cell_type": "markdown",
   "metadata": {
    "id": "qubhgnlO_Zct"
   },
   "source": [
    "Не все пропущенные значения влияют на исследование. Так в `track` и `artist` пропуски не важны, достаточно заменить их явными обозначениями.\n",
    "\n",
    "Но пропуски в `genre` могут помешать сравнению музыкальных вкусов в Москве и Санкт-Петербурге. На практике было бы правильно установить причину пропусков и восстановить данные, однако такой возможности нет, поэтому придётся:\n",
    "* заполнить и эти пропуски явными обозначениями,\n",
    "* оценить, насколько они повредят расчётам. "
   ]
  },
  {
   "cell_type": "markdown",
   "metadata": {
    "id": "fSv2laPA_Zct"
   },
   "source": [
    "Заменим пропущенные значения в столбцах `track`, `artist` и `genre` на строку `'unknown'`."
   ]
  },
  {
   "cell_type": "code",
   "execution_count": 9,
   "metadata": {
    "id": "KplB5qWs_Zct"
   },
   "outputs": [],
   "source": [
    "# перебор названий столбцов в цикле и замена пропущенных значений на 'unknown'\n",
    "columns_to_replace = ['track', 'artist', 'genre']\n",
    "\n",
    "for col in columns_to_replace:\n",
    "    df[col] = df[col].fillna('unknown')"
   ]
  },
  {
   "cell_type": "markdown",
   "metadata": {
    "id": "Ilsm-MZo_Zct"
   },
   "source": [
    "Убедимся, что в таблице не осталось пропусков."
   ]
  },
  {
   "cell_type": "code",
   "execution_count": 10,
   "metadata": {
    "id": "Tq4nYRX4_Zct"
   },
   "outputs": [
    {
     "data": {
      "text/plain": [
       "user_id    0\n",
       "track      0\n",
       "artist     0\n",
       "genre      0\n",
       "city       0\n",
       "time       0\n",
       "day        0\n",
       "dtype: int64"
      ]
     },
     "execution_count": 10,
     "metadata": {},
     "output_type": "execute_result"
    }
   ],
   "source": [
    "# подсчёт пропусков\n",
    "df.isna().sum()"
   ]
  },
  {
   "cell_type": "markdown",
   "metadata": {
    "id": "BWKRtBJ3_Zct"
   },
   "source": [
    "### Дубликаты\n",
    "Посчитаем явные дубликаты в таблице:"
   ]
  },
  {
   "cell_type": "code",
   "execution_count": 11,
   "metadata": {
    "id": "36eES_S0_Zct"
   },
   "outputs": [
    {
     "data": {
      "text/plain": [
       "3826"
      ]
     },
     "execution_count": 11,
     "metadata": {},
     "output_type": "execute_result"
    }
   ],
   "source": [
    "# подсчёт явных дубликатов\n",
    "df.duplicated().sum()"
   ]
  },
  {
   "cell_type": "markdown",
   "metadata": {
    "id": "Ot25h6XR_Zct"
   },
   "source": [
    "Удалим явные дубликаты:"
   ]
  },
  {
   "cell_type": "code",
   "execution_count": 12,
   "metadata": {
    "id": "exFHq6tt_Zct"
   },
   "outputs": [],
   "source": [
    "# удаление явных дубликатов\n",
    "df = df.drop_duplicates()"
   ]
  },
  {
   "cell_type": "markdown",
   "metadata": {
    "id": "Im2YwBEG_Zct"
   },
   "source": [
    "Ещё раз посчитаем явные дубликаты, чтобы убедиться, что полностью от них избавились:"
   ]
  },
  {
   "cell_type": "code",
   "execution_count": 13,
   "metadata": {
    "id": "-8PuNWQ0_Zct"
   },
   "outputs": [
    {
     "data": {
      "text/plain": [
       "0"
      ]
     },
     "execution_count": 13,
     "metadata": {},
     "output_type": "execute_result"
    }
   ],
   "source": [
    "# проверка на отсутствие дубликатов\n",
    "df.duplicated().sum()"
   ]
  },
  {
   "cell_type": "markdown",
   "metadata": {
    "id": "QlFBsxAr_Zct"
   },
   "source": [
    "Теперь избавимся от неявных дубликатов в колонке `genre`. Например, название одного и того же жанра может быть записано немного по-разному. Такие ошибки тоже повлияют на результат исследования."
   ]
  },
  {
   "cell_type": "markdown",
   "metadata": {
    "id": "eSjWwsOh_Zct"
   },
   "source": [
    "Выведем на экран список уникальных названий жанров, отсортированный в алфавитном порядке. Для этого:\n",
    "* извлеките нужный столбец датафрейма, \n",
    "* примените к нему метод сортировки,\n",
    "* для отсортированного столбца вызовите метод, который вернёт уникальные значения из столбца."
   ]
  },
  {
   "cell_type": "code",
   "execution_count": 14,
   "metadata": {
    "id": "JIUcqzZN_Zct"
   },
   "outputs": [
    {
     "data": {
      "text/plain": [
       "array(['acid', 'acoustic', 'action', 'adult', 'africa', 'afrikaans',\n",
       "       'alternative', 'alternativepunk', 'ambient', 'americana',\n",
       "       'animated', 'anime', 'arabesk', 'arabic', 'arena',\n",
       "       'argentinetango', 'art', 'audiobook', 'author', 'avantgarde',\n",
       "       'axé', 'baile', 'balkan', 'beats', 'bigroom', 'black', 'bluegrass',\n",
       "       'blues', 'bollywood', 'bossa', 'brazilian', 'breakbeat', 'breaks',\n",
       "       'broadway', 'cantautori', 'cantopop', 'canzone', 'caribbean',\n",
       "       'caucasian', 'celtic', 'chamber', 'chanson', 'children', 'chill',\n",
       "       'chinese', 'choral', 'christian', 'christmas', 'classical',\n",
       "       'classicmetal', 'club', 'colombian', 'comedy', 'conjazz',\n",
       "       'contemporary', 'country', 'cuban', 'dance', 'dancehall',\n",
       "       'dancepop', 'dark', 'death', 'deep', 'deutschrock', 'deutschspr',\n",
       "       'dirty', 'disco', 'dnb', 'documentary', 'downbeat', 'downtempo',\n",
       "       'drum', 'dub', 'dubstep', 'eastern', 'easy', 'electronic',\n",
       "       'electropop', 'emo', 'entehno', 'epicmetal', 'estrada', 'ethnic',\n",
       "       'eurofolk', 'european', 'experimental', 'extrememetal', 'fado',\n",
       "       'fairytail', 'film', 'fitness', 'flamenco', 'folk', 'folklore',\n",
       "       'folkmetal', 'folkrock', 'folktronica', 'forró', 'frankreich',\n",
       "       'französisch', 'french', 'funk', 'future', 'gangsta', 'garage',\n",
       "       'german', 'ghazal', 'gitarre', 'glitch', 'gospel', 'gothic',\n",
       "       'grime', 'grunge', 'gypsy', 'handsup', \"hard'n'heavy\", 'hardcore',\n",
       "       'hardstyle', 'hardtechno', 'hip', 'hip-hop', 'hiphop',\n",
       "       'historisch', 'holiday', 'hop', 'horror', 'house', 'hymn', 'idm',\n",
       "       'independent', 'indian', 'indie', 'indipop', 'industrial',\n",
       "       'inspirational', 'instrumental', 'international', 'irish', 'jam',\n",
       "       'japanese', 'jazz', 'jewish', 'jpop', 'jungle', 'k-pop',\n",
       "       'karadeniz', 'karaoke', 'kayokyoku', 'korean', 'laiko', 'latin',\n",
       "       'latino', 'leftfield', 'local', 'lounge', 'loungeelectronic',\n",
       "       'lovers', 'malaysian', 'mandopop', 'marschmusik', 'meditative',\n",
       "       'mediterranean', 'melodic', 'metal', 'metalcore', 'mexican',\n",
       "       'middle', 'minimal', 'miscellaneous', 'modern', 'mood', 'mpb',\n",
       "       'muslim', 'native', 'neoklassik', 'neue', 'new', 'newage',\n",
       "       'newwave', 'nu', 'nujazz', 'numetal', 'oceania', 'old', 'opera',\n",
       "       'orchestral', 'other', 'piano', 'podcasts', 'pop', 'popdance',\n",
       "       'popelectronic', 'popeurodance', 'poprussian', 'post',\n",
       "       'posthardcore', 'postrock', 'power', 'progmetal', 'progressive',\n",
       "       'psychedelic', 'punjabi', 'punk', 'quebecois', 'ragga', 'ram',\n",
       "       'rancheras', 'rap', 'rave', 'reggae', 'reggaeton', 'regional',\n",
       "       'relax', 'religious', 'retro', 'rhythm', 'rnb', 'rnr', 'rock',\n",
       "       'rockabilly', 'rockalternative', 'rockindie', 'rockother',\n",
       "       'romance', 'roots', 'ruspop', 'rusrap', 'rusrock', 'russian',\n",
       "       'salsa', 'samba', 'scenic', 'schlager', 'self', 'sertanejo',\n",
       "       'shanson', 'shoegazing', 'showtunes', 'singer', 'ska', 'skarock',\n",
       "       'slow', 'smooth', 'soft', 'soul', 'soulful', 'sound', 'soundtrack',\n",
       "       'southern', 'specialty', 'speech', 'spiritual', 'sport',\n",
       "       'stonerrock', 'surf', 'swing', 'synthpop', 'synthrock',\n",
       "       'sängerportrait', 'tango', 'tanzorchester', 'taraftar', 'tatar',\n",
       "       'tech', 'techno', 'teen', 'thrash', 'top', 'traditional',\n",
       "       'tradjazz', 'trance', 'tribal', 'trip', 'triphop', 'tropical',\n",
       "       'türk', 'türkçe', 'ukrrock', 'unknown', 'urban', 'uzbek',\n",
       "       'variété', 'vi', 'videogame', 'vocal', 'western', 'world',\n",
       "       'worldbeat', 'ïîï', 'электроника'], dtype=object)"
      ]
     },
     "execution_count": 14,
     "metadata": {},
     "output_type": "execute_result"
    }
   ],
   "source": [
    "# Просмотр уникальных названий жанров\n",
    "df['genre'].sort_values().unique()"
   ]
  },
  {
   "cell_type": "markdown",
   "metadata": {
    "id": "qej-Qmuo_Zct"
   },
   "source": [
    "В списке выявлены следующие неявные дубликаты:\n",
    "1. Альтернативные названия и названия с ошибками одного и того же жанра:\n",
    "        * *hip*,\n",
    "        * *hop*,\n",
    "        * *hiphop*,\n",
    "        * *hip-hop*.\n",
    "2. Названия одного и того же жанра на разных языках:\n",
    "        * *электроника*\n",
    "        * *electronic*\n",
    "\n",
    "Чтобы очистить от них таблицу, напишем функцию `replace_wrong_genres()` с двумя параметрами: \n",
    "* `wrong_genres` — список дубликатов,\n",
    "* `correct_genre` — строка с правильным значением.\n",
    "\n",
    "Функция исправляет колонку `genre` в таблице `df`: заменяет каждое значение из списка `wrong_genres` на значение из `correct_genre`."
   ]
  },
  {
   "cell_type": "code",
   "execution_count": 15,
   "metadata": {
    "id": "ErNDkmns_Zct"
   },
   "outputs": [],
   "source": [
    "# функция для замены неявных дубликатов\n",
    "def replace_wrong_genres(wrong_genres, correct_genre):\n",
    "    for wrong_genre in wrong_genres:\n",
    "        df['genre'] = df['genre'].replace(wrong_genre, correct_genre)"
   ]
  },
  {
   "cell_type": "markdown",
   "metadata": {
    "id": "aDoBJxbA_Zct"
   },
   "source": [
    "Устраним неявные дубликаты: вместо `hip`, `hop` и `hip-hop` в таблице должно быть значение `hiphop`; вместо `электроника` - `electronic`:"
   ]
  },
  {
   "cell_type": "code",
   "execution_count": 16,
   "metadata": {
    "id": "YN5i2hpmSo09"
   },
   "outputs": [],
   "source": [
    "# Устранение неявных дубликатов\n",
    "\n",
    "genres_to_replace = {\n",
    "    'hiphop' : ['hip', 'hop', 'hip-hop'],\n",
    "    'electronic' : ['электроника']\n",
    "}\n",
    "\n",
    "for correct_value in genres_to_replace:\n",
    "    replace_wrong_genres(genres_to_replace[correct_value], correct_value)"
   ]
  },
  {
   "cell_type": "markdown",
   "metadata": {
    "id": "zQKF16_RG15m"
   },
   "source": [
    "Проверим корректность устранения неявных дубликатов. Выведем отсортированный список уникальных значений столбца `genre`:"
   ]
  },
  {
   "cell_type": "code",
   "execution_count": 17,
   "metadata": {
    "id": "wvixALnFG15m"
   },
   "outputs": [
    {
     "data": {
      "text/plain": [
       "array(['acid', 'acoustic', 'action', 'adult', 'africa', 'afrikaans',\n",
       "       'alternative', 'alternativepunk', 'ambient', 'americana',\n",
       "       'animated', 'anime', 'arabesk', 'arabic', 'arena',\n",
       "       'argentinetango', 'art', 'audiobook', 'author', 'avantgarde',\n",
       "       'axé', 'baile', 'balkan', 'beats', 'bigroom', 'black', 'bluegrass',\n",
       "       'blues', 'bollywood', 'bossa', 'brazilian', 'breakbeat', 'breaks',\n",
       "       'broadway', 'cantautori', 'cantopop', 'canzone', 'caribbean',\n",
       "       'caucasian', 'celtic', 'chamber', 'chanson', 'children', 'chill',\n",
       "       'chinese', 'choral', 'christian', 'christmas', 'classical',\n",
       "       'classicmetal', 'club', 'colombian', 'comedy', 'conjazz',\n",
       "       'contemporary', 'country', 'cuban', 'dance', 'dancehall',\n",
       "       'dancepop', 'dark', 'death', 'deep', 'deutschrock', 'deutschspr',\n",
       "       'dirty', 'disco', 'dnb', 'documentary', 'downbeat', 'downtempo',\n",
       "       'drum', 'dub', 'dubstep', 'eastern', 'easy', 'electronic',\n",
       "       'electropop', 'emo', 'entehno', 'epicmetal', 'estrada', 'ethnic',\n",
       "       'eurofolk', 'european', 'experimental', 'extrememetal', 'fado',\n",
       "       'fairytail', 'film', 'fitness', 'flamenco', 'folk', 'folklore',\n",
       "       'folkmetal', 'folkrock', 'folktronica', 'forró', 'frankreich',\n",
       "       'französisch', 'french', 'funk', 'future', 'gangsta', 'garage',\n",
       "       'german', 'ghazal', 'gitarre', 'glitch', 'gospel', 'gothic',\n",
       "       'grime', 'grunge', 'gypsy', 'handsup', \"hard'n'heavy\", 'hardcore',\n",
       "       'hardstyle', 'hardtechno', 'hiphop', 'historisch', 'holiday',\n",
       "       'horror', 'house', 'hymn', 'idm', 'independent', 'indian', 'indie',\n",
       "       'indipop', 'industrial', 'inspirational', 'instrumental',\n",
       "       'international', 'irish', 'jam', 'japanese', 'jazz', 'jewish',\n",
       "       'jpop', 'jungle', 'k-pop', 'karadeniz', 'karaoke', 'kayokyoku',\n",
       "       'korean', 'laiko', 'latin', 'latino', 'leftfield', 'local',\n",
       "       'lounge', 'loungeelectronic', 'lovers', 'malaysian', 'mandopop',\n",
       "       'marschmusik', 'meditative', 'mediterranean', 'melodic', 'metal',\n",
       "       'metalcore', 'mexican', 'middle', 'minimal', 'miscellaneous',\n",
       "       'modern', 'mood', 'mpb', 'muslim', 'native', 'neoklassik', 'neue',\n",
       "       'new', 'newage', 'newwave', 'nu', 'nujazz', 'numetal', 'oceania',\n",
       "       'old', 'opera', 'orchestral', 'other', 'piano', 'podcasts', 'pop',\n",
       "       'popdance', 'popelectronic', 'popeurodance', 'poprussian', 'post',\n",
       "       'posthardcore', 'postrock', 'power', 'progmetal', 'progressive',\n",
       "       'psychedelic', 'punjabi', 'punk', 'quebecois', 'ragga', 'ram',\n",
       "       'rancheras', 'rap', 'rave', 'reggae', 'reggaeton', 'regional',\n",
       "       'relax', 'religious', 'retro', 'rhythm', 'rnb', 'rnr', 'rock',\n",
       "       'rockabilly', 'rockalternative', 'rockindie', 'rockother',\n",
       "       'romance', 'roots', 'ruspop', 'rusrap', 'rusrock', 'russian',\n",
       "       'salsa', 'samba', 'scenic', 'schlager', 'self', 'sertanejo',\n",
       "       'shanson', 'shoegazing', 'showtunes', 'singer', 'ska', 'skarock',\n",
       "       'slow', 'smooth', 'soft', 'soul', 'soulful', 'sound', 'soundtrack',\n",
       "       'southern', 'specialty', 'speech', 'spiritual', 'sport',\n",
       "       'stonerrock', 'surf', 'swing', 'synthpop', 'synthrock',\n",
       "       'sängerportrait', 'tango', 'tanzorchester', 'taraftar', 'tatar',\n",
       "       'tech', 'techno', 'teen', 'thrash', 'top', 'traditional',\n",
       "       'tradjazz', 'trance', 'tribal', 'trip', 'triphop', 'tropical',\n",
       "       'türk', 'türkçe', 'ukrrock', 'unknown', 'urban', 'uzbek',\n",
       "       'variété', 'vi', 'videogame', 'vocal', 'western', 'world',\n",
       "       'worldbeat', 'ïîï'], dtype=object)"
      ]
     },
     "execution_count": 17,
     "metadata": {},
     "output_type": "execute_result"
    }
   ],
   "source": [
    "# Проверка на неявные дубликаты\n",
    "df['genre'].sort_values().unique()"
   ]
  },
  {
   "cell_type": "markdown",
   "metadata": {
    "id": "jz6a9-7HQUDd"
   },
   "source": [
    "**Выводы**\n",
    "\n",
    "Предобработка обнаружила три проблемы в данных:\n",
    "\n",
    "- нарушения в стиле заголовков,\n",
    "- пропущенные значения,\n",
    "- дубликаты — явные и неявные.\n",
    "\n",
    "Мы исправили заголовки, чтобы упростить работу с таблицей. Без дубликатов исследование станет более точным.\n",
    "\n",
    "Пропущенные значения мы заменили на `'unknown'`. Ещё предстоит увидеть, не повредят ли исследованию пропуски в колонке `genre`.\n",
    "\n",
    "Теперь можно перейти к проверке гипотез. "
   ]
  },
  {
   "cell_type": "markdown",
   "metadata": {},
   "source": [
    "---"
   ]
  },
  {
   "cell_type": "markdown",
   "metadata": {
    "id": "WttZHXH0SqKk"
   },
   "source": [
    "## Проверка гипотез"
   ]
  },
  {
   "cell_type": "markdown",
   "metadata": {
    "id": "Im936VVi_Zcu"
   },
   "source": [
    "### Сравнение поведения пользователей двух столиц"
   ]
  },
  {
   "cell_type": "markdown",
   "metadata": {
    "id": "nwt_MuaL_Zcu"
   },
   "source": [
    "Первая гипотеза утверждает, что пользователи по-разному слушают музыку в Москве и Санкт-Петербурге. Проверим это предположение по данным о трёх днях недели — понедельнике, среде и пятнице. Для этого:\n",
    "\n",
    "* Разделим пользователей Москвы и Санкт-Петербурга\n",
    "* Сравним, сколько треков послушала каждая группа пользователей в понедельник, среду и пятницу.\n"
   ]
  },
  {
   "cell_type": "markdown",
   "metadata": {
    "id": "8Dw_YMmT_Zcu"
   },
   "source": [
    "Оценим активность пользователей в каждом городе. Сгруппируем данные по городу и посчитаем прослушивания в каждой группе.\n",
    "\n"
   ]
  },
  {
   "cell_type": "code",
   "execution_count": 18,
   "metadata": {
    "id": "0_Qs96oh_Zcu"
   },
   "outputs": [
    {
     "data": {
      "text/plain": [
       "city\n",
       "Moscow              42741\n",
       "Saint-Petersburg    18512\n",
       "Name: user_id, dtype: int64"
      ]
     },
     "execution_count": 18,
     "metadata": {},
     "output_type": "execute_result"
    }
   ],
   "source": [
    "# Подсчёт прослушиваний в каждом городе\n",
    "df.groupby('city')['user_id'].count()"
   ]
  },
  {
   "cell_type": "markdown",
   "metadata": {
    "id": "dzli3w8o_Zcu"
   },
   "source": [
    "В Москве прослушиваний больше, чем в Петербурге. Из этого не следует, что московские пользователи чаще слушают музыку. Просто самих пользователей в Москве больше.\n",
    "\n",
    "Теперь сгруппируем данные по дню недели и подсчитаем прослушивания в понедельник, среду и пятницу.\n"
   ]
  },
  {
   "cell_type": "code",
   "execution_count": 19,
   "metadata": {
    "id": "uZMKjiJz_Zcu"
   },
   "outputs": [
    {
     "data": {
      "text/plain": [
       "day\n",
       "Friday       21840\n",
       "Monday       21354\n",
       "Wednesday    18059\n",
       "Name: user_id, dtype: int64"
      ]
     },
     "execution_count": 19,
     "metadata": {},
     "output_type": "execute_result"
    }
   ],
   "source": [
    "# Подсчёт прослушиваний в каждый из трёх дней\n",
    "df.groupby('day')['user_id'].count()"
   ]
  },
  {
   "cell_type": "markdown",
   "metadata": {
    "id": "cC2tNrlL_Zcu"
   },
   "source": [
    "В среднем пользователи из двух городов менее активны по средам. Но картина может измениться, если рассмотреть каждый город в отдельности."
   ]
  },
  {
   "cell_type": "markdown",
   "metadata": {
    "id": "POzs8bGa_Zcu"
   },
   "source": [
    "Объединим эти два расчёта. Создадим функцию `number_tracks()`, которая посчитает прослушивания для заданного дня и города. Ей понадобятся два параметра:\n",
    "* день недели (`day`),\n",
    "* название города (`city`).\n",
    "\n",
    "Функция возвращает количество значений в столбце `user_id` для заданных `day` и `city`."
   ]
  },
  {
   "cell_type": "code",
   "execution_count": 20,
   "metadata": {
    "id": "Nz3GdQB1_Zcu"
   },
   "outputs": [],
   "source": [
    "# Функция для подсчёта прослушиваний для конкретного города и дня.\n",
    "def number_tracks(day, city):\n",
    "    track_list = df[df['day'] == day]\n",
    "    track_list = track_list[track_list['city'] == city]\n",
    "    \n",
    "    track_list_count = track_list['user_id'].count()\n",
    "    return track_list_count"
   ]
  },
  {
   "cell_type": "markdown",
   "metadata": {
    "id": "ytf7xFrFJQ2r"
   },
   "source": [
    "Вызовем `number_tracks()`, меняя значение параметров так, чтобы получить данные для каждого города в каждый из трёх дней."
   ]
  },
  {
   "cell_type": "code",
   "execution_count": 21,
   "metadata": {
    "id": "rJcRATNQ_Zcu"
   },
   "outputs": [
    {
     "data": {
      "text/plain": [
       "15740"
      ]
     },
     "execution_count": 21,
     "metadata": {},
     "output_type": "execute_result"
    }
   ],
   "source": [
    "# количество прослушиваний в Москве по понедельникам\n",
    "number_tracks('Monday', 'Moscow')"
   ]
  },
  {
   "cell_type": "code",
   "execution_count": 22,
   "metadata": {
    "id": "hq_ncZ5T_Zcu"
   },
   "outputs": [
    {
     "data": {
      "text/plain": [
       "5614"
      ]
     },
     "execution_count": 22,
     "metadata": {},
     "output_type": "execute_result"
    }
   ],
   "source": [
    "# количество прослушиваний в Санкт-Петербурге по понедельникам\n",
    "number_tracks('Monday', 'Saint-Petersburg')"
   ]
  },
  {
   "cell_type": "code",
   "execution_count": 23,
   "metadata": {
    "id": "_NTy2VPU_Zcu"
   },
   "outputs": [
    {
     "data": {
      "text/plain": [
       "11056"
      ]
     },
     "execution_count": 23,
     "metadata": {},
     "output_type": "execute_result"
    }
   ],
   "source": [
    "# количество прослушиваний в Москве по средам\n",
    "number_tracks('Wednesday', 'Moscow')"
   ]
  },
  {
   "cell_type": "code",
   "execution_count": 24,
   "metadata": {
    "id": "j2y3TAwo_Zcu"
   },
   "outputs": [
    {
     "data": {
      "text/plain": [
       "7003"
      ]
     },
     "execution_count": 24,
     "metadata": {},
     "output_type": "execute_result"
    }
   ],
   "source": [
    "# количество прослушиваний в Санкт-Петербурге по средам\n",
    "number_tracks('Wednesday', 'Saint-Petersburg')"
   ]
  },
  {
   "cell_type": "code",
   "execution_count": 25,
   "metadata": {
    "id": "vYDw5u_K_Zcu"
   },
   "outputs": [
    {
     "data": {
      "text/plain": [
       "15945"
      ]
     },
     "execution_count": 25,
     "metadata": {},
     "output_type": "execute_result"
    }
   ],
   "source": [
    "# количество прослушиваний в Москве по пятницам\n",
    "number_tracks('Friday', 'Moscow')"
   ]
  },
  {
   "cell_type": "code",
   "execution_count": 26,
   "metadata": {
    "id": "8_yzFtW3_Zcu"
   },
   "outputs": [
    {
     "data": {
      "text/plain": [
       "5895"
      ]
     },
     "execution_count": 26,
     "metadata": {},
     "output_type": "execute_result"
    }
   ],
   "source": [
    "# количество прослушиваний в Санкт-Петербурге по пятницам\n",
    "number_tracks('Friday', 'Saint-Petersburg')"
   ]
  },
  {
   "cell_type": "markdown",
   "metadata": {
    "id": "7QXffbO-_Zcu"
   },
   "source": [
    "Создадим c помощью конструктора `pd.DataFrame` таблицу, где\n",
    "* названия колонок — `['city', 'monday', 'wednesday', 'friday']`;\n",
    "* данные — результаты, которые вы получили с помощью `number_tracks`."
   ]
  },
  {
   "cell_type": "code",
   "execution_count": 27,
   "metadata": {
    "id": "APAcLpOr_Zcu"
   },
   "outputs": [
    {
     "data": {
      "text/html": [
       "<div>\n",
       "<style scoped>\n",
       "    .dataframe tbody tr th:only-of-type {\n",
       "        vertical-align: middle;\n",
       "    }\n",
       "\n",
       "    .dataframe tbody tr th {\n",
       "        vertical-align: top;\n",
       "    }\n",
       "\n",
       "    .dataframe thead th {\n",
       "        text-align: right;\n",
       "    }\n",
       "</style>\n",
       "<table border=\"1\" class=\"dataframe\">\n",
       "  <thead>\n",
       "    <tr style=\"text-align: right;\">\n",
       "      <th></th>\n",
       "      <th>city</th>\n",
       "      <th>monday</th>\n",
       "      <th>wednesday</th>\n",
       "      <th>friday</th>\n",
       "    </tr>\n",
       "  </thead>\n",
       "  <tbody>\n",
       "    <tr>\n",
       "      <th>0</th>\n",
       "      <td>Moscow</td>\n",
       "      <td>15740</td>\n",
       "      <td>11056</td>\n",
       "      <td>15945</td>\n",
       "    </tr>\n",
       "    <tr>\n",
       "      <th>1</th>\n",
       "      <td>Saint-Petersburg</td>\n",
       "      <td>5614</td>\n",
       "      <td>7003</td>\n",
       "      <td>5895</td>\n",
       "    </tr>\n",
       "  </tbody>\n",
       "</table>\n",
       "</div>"
      ],
      "text/plain": [
       "               city  monday  wednesday  friday\n",
       "0            Moscow   15740      11056   15945\n",
       "1  Saint-Petersburg    5614       7003    5895"
      ]
     },
     "execution_count": 27,
     "metadata": {},
     "output_type": "execute_result"
    }
   ],
   "source": [
    "# Таблица с результатами\n",
    "data = [['Moscow', 15740, 11056, 15945], \n",
    "        ['Saint-Petersburg', 5614, 7003, 5895]]\n",
    "col = ['city', 'monday', 'wednesday', 'friday']\n",
    "\n",
    "pd.DataFrame(data, columns=col)"
   ]
  },
  {
   "cell_type": "markdown",
   "metadata": {
    "id": "-EgPIHYu_Zcu"
   },
   "source": [
    "**Выводы**\n",
    "\n",
    "Данные показывают разницу поведения пользователей:\n",
    "\n",
    "- В Москве пик прослушиваний приходится на понедельник и пятницу, а в среду заметен спад.\n",
    "- В Петербурге, наоборот, больше слушают музыку по средам. Активность в понедельник и пятницу здесь почти в равной мере уступает среде.\n",
    "\n",
    "Значит, данные говорят в пользу первой гипотезы."
   ]
  },
  {
   "cell_type": "markdown",
   "metadata": {
    "id": "atZAxtq4_Zcu"
   },
   "source": [
    "### Музыка в начале и в конце недели"
   ]
  },
  {
   "cell_type": "markdown",
   "metadata": {
    "id": "eXrQqXFH_Zcu"
   },
   "source": [
    "Согласно второй гипотезе, утром в понедельник в Москве преобладают одни жанры, а в Петербурге — другие. Так же и вечером пятницы преобладают разные жанры — в зависимости от города."
   ]
  },
  {
   "cell_type": "markdown",
   "metadata": {
    "id": "S8UcW6Hw_Zcu"
   },
   "source": [
    "Сохраним таблицы с данными в две переменные:\n",
    "* по Москве — в `moscow_general`;\n",
    "* по Санкт-Петербургу — в `spb_general`."
   ]
  },
  {
   "cell_type": "code",
   "execution_count": 28,
   "metadata": {
    "id": "qeaFfM_P_Zcu"
   },
   "outputs": [],
   "source": [
    "# получение таблицы moscow_general из тех строк таблицы df, \n",
    "# для которых значение в столбце 'city' равно 'Moscow'\n",
    "moscow_general = df[df['city'] == 'Moscow']"
   ]
  },
  {
   "cell_type": "code",
   "execution_count": 29,
   "metadata": {
    "id": "ORaVRKto_Zcu"
   },
   "outputs": [],
   "source": [
    "# получение таблицы spb_general из тех строк таблицы df,\n",
    "# для которых значение в столбце 'city' равно 'Saint-Petersburg'\n",
    "spb_general = df[df['city'] == 'Saint-Petersburg']"
   ]
  },
  {
   "cell_type": "markdown",
   "metadata": {
    "id": "MEJV-CX2_Zcu"
   },
   "source": [
    "Создадим функцию `genre_weekday()` с четырьмя параметрами:\n",
    "* таблица (датафрейм) с данными,\n",
    "* день недели,\n",
    "* начальная временная метка в формате 'hh:mm', \n",
    "* последняя временная метка в формате 'hh:mm'.\n",
    "\n",
    "Функция должна вернуть информацию о топ-10 жанров тех треков, которые прослушивали в указанный день, в промежутке между двумя отметками времени."
   ]
  },
  {
   "cell_type": "code",
   "execution_count": 30,
   "metadata": {
    "id": "laJT9BYl_Zcu"
   },
   "outputs": [],
   "source": [
    "# Объявление функции которая возвращает информацию о самых популярных жанрах \n",
    "# в указанный день в заданное время\n",
    "def genre_weekday(table, day, time1, time2):\n",
    "    genre_df = table[table['day'] == day]\n",
    "    genre_df = genre_df[genre_df['time'] > time1]\n",
    "    genre_df = genre_df[genre_df['time'] < time2]\n",
    "    \n",
    "    genre_df_count = genre_df.groupby('genre')['genre'].count()\n",
    "    genre_df_sorted = genre_df_count.sort_values(ascending=False)\n",
    "    return genre_df_sorted.head(10)"
   ]
  },
  {
   "cell_type": "markdown",
   "metadata": {
    "id": "la2s2_PF_Zcu"
   },
   "source": [
    "Cравним результаты функции `genre_weekday()` для Москвы и Санкт-Петербурга в понедельник утром (с 7:00 до 11:00) и в пятницу вечером (с 17:00 до 23:00):"
   ]
  },
  {
   "cell_type": "code",
   "execution_count": 31,
   "metadata": {
    "id": "yz7itPUQ_Zcu"
   },
   "outputs": [
    {
     "data": {
      "text/plain": [
       "genre\n",
       "pop            781\n",
       "dance          549\n",
       "electronic     480\n",
       "rock           474\n",
       "hiphop         286\n",
       "ruspop         186\n",
       "world          181\n",
       "rusrap         175\n",
       "alternative    164\n",
       "unknown        161\n",
       "Name: genre, dtype: int64"
      ]
     },
     "execution_count": 31,
     "metadata": {},
     "output_type": "execute_result"
    }
   ],
   "source": [
    "# вызов функции для утра понедельника в Москве \n",
    "genre_weekday(moscow_general, 'Monday', '07:00', '11:00')"
   ]
  },
  {
   "cell_type": "code",
   "execution_count": 32,
   "metadata": {
    "id": "kwUcHPdy_Zcu"
   },
   "outputs": [
    {
     "data": {
      "text/plain": [
       "genre\n",
       "pop            218\n",
       "dance          182\n",
       "rock           162\n",
       "electronic     147\n",
       "hiphop          80\n",
       "ruspop          64\n",
       "alternative     58\n",
       "rusrap          55\n",
       "jazz            44\n",
       "classical       40\n",
       "Name: genre, dtype: int64"
      ]
     },
     "execution_count": 32,
     "metadata": {},
     "output_type": "execute_result"
    }
   ],
   "source": [
    "# вызов функции для утра понедельника в Петербурге (вместо df — таблица spb_general)\n",
    "genre_weekday(spb_general, 'Monday', '07:00', '11:00')"
   ]
  },
  {
   "cell_type": "code",
   "execution_count": 33,
   "metadata": {
    "id": "EzXVRE1o_Zcu"
   },
   "outputs": [
    {
     "data": {
      "text/plain": [
       "genre\n",
       "pop            713\n",
       "rock           517\n",
       "dance          495\n",
       "electronic     482\n",
       "hiphop         273\n",
       "world          208\n",
       "ruspop         170\n",
       "alternative    163\n",
       "classical      163\n",
       "rusrap         142\n",
       "Name: genre, dtype: int64"
      ]
     },
     "execution_count": 33,
     "metadata": {},
     "output_type": "execute_result"
    }
   ],
   "source": [
    "# вызов функции для вечера пятницы в Москве\n",
    "genre_weekday(moscow_general, 'Friday', '17:00', '23:00')"
   ]
  },
  {
   "cell_type": "code",
   "execution_count": 34,
   "metadata": {
    "id": "JZaEKu5v_Zcu"
   },
   "outputs": [
    {
     "data": {
      "text/plain": [
       "genre\n",
       "pop            256\n",
       "electronic     216\n",
       "rock           216\n",
       "dance          210\n",
       "hiphop          97\n",
       "alternative     63\n",
       "jazz            61\n",
       "classical       60\n",
       "rusrap          59\n",
       "world           54\n",
       "Name: genre, dtype: int64"
      ]
     },
     "execution_count": 34,
     "metadata": {},
     "output_type": "execute_result"
    }
   ],
   "source": [
    "# вызов функции для вечера пятницы в Петербурге\n",
    "genre_weekday(spb_general, 'Friday', '17:00', '23:00')"
   ]
  },
  {
   "cell_type": "markdown",
   "metadata": {
    "id": "wrCe4MNX_Zcu"
   },
   "source": [
    "**Выводы**\n",
    "\n",
    "Если сравнить топ-10 жанров в понедельник утром, можно сделать такие выводы:\n",
    "\n",
    "1. В Москве и Петербурге слушают похожую музыку. Единственное отличие — в московский рейтинг вошёл жанр “world”, а в петербургский — джаз и классика.\n",
    "\n",
    "2. В Москве пропущенных значений оказалось так много, что значение `'unknown'` заняло десятое место среди самых популярных жанров. Значит, пропущенные значения занимают существенную долю в данных и угрожают достоверности исследования.\n",
    "\n",
    "Вечер пятницы не меняет эту картину. Некоторые жанры поднимаются немного выше, другие спускаются, но в целом топ-10 остаётся тем же самым.\n",
    "\n",
    "Таким образом, вторая гипотеза подтвердилась лишь частично:\n",
    "* Пользователи слушают похожую музыку в начале недели и в конце.\n",
    "* Разница между Москвой и Петербургом не слишком выражена. В Москве чаще слушают русскую популярную музыку, в Петербурге — джаз.\n",
    "\n",
    "Однако пропуски в данных ставят под сомнение этот результат. В Москве их так много, что рейтинг топ-10 мог бы выглядеть иначе, если бы не утерянные  данные о жанрах."
   ]
  },
  {
   "cell_type": "markdown",
   "metadata": {
    "id": "JolODAqr_Zcu"
   },
   "source": [
    "### Жанровые предпочтения в Москве и Петербурге\n",
    "\n",
    "Гипотеза: Петербург — столица рэпа, музыку этого жанра там слушают чаще, чем в Москве.  А Москва — город контрастов, в котором, тем не менее, преобладает поп-музыка."
   ]
  },
  {
   "cell_type": "markdown",
   "metadata": {
    "id": "DlegSvaT_Zcu"
   },
   "source": [
    "Сгруппируем таблицу `moscow_general` по жанру и посчитаем прослушивания треков каждого жанра методом `count()`. Затем отсортируем результат в порядке убывания и сохраним его в таблице `moscow_genres`."
   ]
  },
  {
   "cell_type": "code",
   "execution_count": 35,
   "metadata": {
    "id": "r19lIPke_Zcu"
   },
   "outputs": [],
   "source": [
    "# группировка таблицы moscow_general \n",
    "moscow_genres = moscow_general.groupby('genre')['genre'].count().sort_values(ascending=False)"
   ]
  },
  {
   "cell_type": "markdown",
   "metadata": {
    "id": "6kMuomxTiIr8"
   },
   "source": [
    "Выведем на экран первые десять строк `moscow_genres`:"
   ]
  },
  {
   "cell_type": "code",
   "execution_count": 36,
   "metadata": {
    "id": "WhCSooF8_Zcv"
   },
   "outputs": [
    {
     "data": {
      "text/plain": [
       "genre\n",
       "pop            5892\n",
       "dance          4435\n",
       "rock           3965\n",
       "electronic     3786\n",
       "hiphop         2096\n",
       "classical      1616\n",
       "world          1432\n",
       "alternative    1379\n",
       "ruspop         1372\n",
       "rusrap         1161\n",
       "Name: genre, dtype: int64"
      ]
     },
     "execution_count": 36,
     "metadata": {},
     "output_type": "execute_result"
    }
   ],
   "source": [
    "# просмотр первых 10 строк moscow_genres\n",
    "moscow_genres.head(10)"
   ]
  },
  {
   "cell_type": "markdown",
   "metadata": {
    "id": "cnPG2vnN_Zcv"
   },
   "source": [
    "Теперь повторим то же для Петербурга.\n",
    "\n",
    "Сгруппируем таблицу `spb_general` по жанру. Посчитаем прослушивания треков каждого жанра. Результат отсортируем в порядке убывания и сохраним в таблице `spb_genres`:\n"
   ]
  },
  {
   "cell_type": "code",
   "execution_count": 37,
   "metadata": {
    "id": "gluLIpE7_Zcv"
   },
   "outputs": [],
   "source": [
    "# группировка таблицы spb_general\n",
    "spb_genres = spb_general.groupby('genre')['genre'].count().sort_values(ascending=False)"
   ]
  },
  {
   "cell_type": "markdown",
   "metadata": {
    "id": "5Doha_ODgyQ8"
   },
   "source": [
    "Выведем на экран первые десять строк `spb_genres`:"
   ]
  },
  {
   "cell_type": "code",
   "execution_count": 38,
   "metadata": {
    "id": "uaGJHjVU_Zcv"
   },
   "outputs": [
    {
     "data": {
      "text/plain": [
       "genre\n",
       "pop            2431\n",
       "dance          1932\n",
       "rock           1879\n",
       "electronic     1737\n",
       "hiphop          960\n",
       "alternative     649\n",
       "classical       646\n",
       "rusrap          564\n",
       "ruspop          538\n",
       "world           515\n",
       "Name: genre, dtype: int64"
      ]
     },
     "execution_count": 38,
     "metadata": {},
     "output_type": "execute_result"
    }
   ],
   "source": [
    "# просмотр первых 10 строк spb_genres\n",
    "spb_genres.head(10)"
   ]
  },
  {
   "cell_type": "markdown",
   "metadata": {
    "id": "RY51YJYu_Zcv"
   },
   "source": [
    "**Выводы**"
   ]
  },
  {
   "cell_type": "markdown",
   "metadata": {
    "id": "nVhnJEm__Zcv"
   },
   "source": [
    "Гипотеза частично подтвердилась:\n",
    "* Поп-музыка — самый популярный жанр в Москве, как и предполагала гипотеза. Более того, в топ-10 жанров встречается близкий жанр — русская популярная музыка.\n",
    "* Вопреки ожиданиям, рэп приблизительно одинаково популярен в Москве и Петербурге. В Москве данный жанр замыкает ТОП-10, в Петербурге - входит в его вторую половину, т.е. незначительно популярнее.\n"
   ]
  },
  {
   "cell_type": "markdown",
   "metadata": {},
   "source": [
    "---"
   ]
  },
  {
   "cell_type": "markdown",
   "metadata": {
    "id": "ykKQ0N65_Zcv"
   },
   "source": [
    "## Итоги исследования"
   ]
  },
  {
   "cell_type": "markdown",
   "metadata": {
    "id": "tjUwbHb3_Zcv"
   },
   "source": [
    "Мы проверили три гипотезы и установили:\n",
    "\n",
    "1. День недели по-разному влияет на активность пользователей в Москве и Петербурге. \n",
    "\n",
    "Первая гипотеза полностью подтвердилась.\n",
    "\n",
    "2. Музыкальные предпочтения не сильно меняются в течение недели — будь то Москва или Петербург. Небольшие различия заметны в начале недели, по понедельникам:\n",
    "* в Москве слушают музыку жанра “world”,\n",
    "* в Петербурге — джаз и классику.\n",
    "\n",
    "Таким образом, вторая гипотеза подтвердилась лишь отчасти. Этот результат мог оказаться иным, если бы не пропуски в данных.\n",
    "\n",
    "3. Во вкусах пользователей Москвы и Петербурга больше общего чем различий. Вопреки ожиданиям, предпочтения жанров в Петербурге напоминают московские.\n",
    "\n",
    "Третья гипотеза не подтвердилась. Если различия в предпочтениях и существуют, на основной массе пользователей они незаметны.\n",
    "\n",
    "**На практике исследования содержат проверки статистических гипотез.**\n",
    "Из данных одного сервиса не всегда можно сделать вывод о всех жителях города.\n",
    "Проверки статистических гипотез покажут, насколько они достоверны, исходя из имеющихся данных. \n",
    "С методами проверок гипотез вы ещё познакомитесь в следующих темах."
   ]
  }
 ],
 "metadata": {
  "ExecuteTimeLog": [
   {
    "duration": 422,
    "start_time": "2022-03-18T13:02:54.202Z"
   },
   {
    "duration": 162,
    "start_time": "2022-03-18T13:03:40.921Z"
   },
   {
    "duration": 17,
    "start_time": "2022-03-18T13:04:15.427Z"
   },
   {
    "duration": 32,
    "start_time": "2022-03-18T13:05:48.759Z"
   },
   {
    "duration": 11,
    "start_time": "2022-03-18T13:27:09.370Z"
   },
   {
    "duration": 37,
    "start_time": "2022-03-18T13:27:32.603Z"
   },
   {
    "duration": 3,
    "start_time": "2022-03-18T13:33:48.538Z"
   },
   {
    "duration": 13,
    "start_time": "2022-03-18T13:38:09.600Z"
   },
   {
    "duration": 3,
    "start_time": "2022-03-18T13:38:42.178Z"
   },
   {
    "duration": 26,
    "start_time": "2022-03-18T13:51:19.235Z"
   },
   {
    "duration": 47,
    "start_time": "2022-03-19T15:57:56.550Z"
   },
   {
    "duration": 374,
    "start_time": "2022-03-19T15:58:22.697Z"
   },
   {
    "duration": 149,
    "start_time": "2022-03-19T15:58:23.073Z"
   },
   {
    "duration": 16,
    "start_time": "2022-03-19T15:58:23.224Z"
   },
   {
    "duration": 27,
    "start_time": "2022-03-19T15:58:23.242Z"
   },
   {
    "duration": 3,
    "start_time": "2022-03-19T15:58:23.272Z"
   },
   {
    "duration": 17,
    "start_time": "2022-03-19T15:58:23.276Z"
   },
   {
    "duration": 7,
    "start_time": "2022-03-19T15:58:23.295Z"
   },
   {
    "duration": 47,
    "start_time": "2022-03-19T15:58:23.304Z"
   },
   {
    "duration": 5,
    "start_time": "2022-03-19T15:58:23.353Z"
   },
   {
    "duration": 5,
    "start_time": "2022-03-19T15:58:23.359Z"
   },
   {
    "duration": 6,
    "start_time": "2022-03-19T15:58:23.365Z"
   },
   {
    "duration": 5,
    "start_time": "2022-03-19T15:58:23.373Z"
   },
   {
    "duration": 6,
    "start_time": "2022-03-19T15:58:23.380Z"
   },
   {
    "duration": 6,
    "start_time": "2022-03-19T15:58:23.389Z"
   },
   {
    "duration": 6,
    "start_time": "2022-03-19T15:58:23.397Z"
   },
   {
    "duration": 6,
    "start_time": "2022-03-19T15:58:23.404Z"
   },
   {
    "duration": 5,
    "start_time": "2022-03-19T15:58:23.412Z"
   },
   {
    "duration": 19,
    "start_time": "2022-03-19T15:58:23.419Z"
   },
   {
    "duration": 7,
    "start_time": "2022-03-19T15:58:23.439Z"
   },
   {
    "duration": 11,
    "start_time": "2022-03-19T15:58:23.447Z"
   },
   {
    "duration": 11,
    "start_time": "2022-03-19T15:58:23.460Z"
   },
   {
    "duration": 6,
    "start_time": "2022-03-19T15:58:23.473Z"
   },
   {
    "duration": 6,
    "start_time": "2022-03-19T15:58:23.480Z"
   },
   {
    "duration": 12,
    "start_time": "2022-03-19T15:58:23.489Z"
   },
   {
    "duration": 6,
    "start_time": "2022-03-19T15:58:23.502Z"
   },
   {
    "duration": 8,
    "start_time": "2022-03-19T15:58:23.509Z"
   },
   {
    "duration": 5,
    "start_time": "2022-03-19T15:58:23.518Z"
   },
   {
    "duration": 13,
    "start_time": "2022-03-19T15:58:23.525Z"
   },
   {
    "duration": 7,
    "start_time": "2022-03-19T15:58:23.539Z"
   },
   {
    "duration": 5,
    "start_time": "2022-03-19T15:58:23.548Z"
   },
   {
    "duration": 7,
    "start_time": "2022-03-19T15:58:23.555Z"
   },
   {
    "duration": 7,
    "start_time": "2022-03-19T15:58:23.563Z"
   },
   {
    "duration": 9,
    "start_time": "2022-03-19T15:58:23.571Z"
   },
   {
    "duration": 8,
    "start_time": "2022-03-19T15:58:23.581Z"
   },
   {
    "duration": 9,
    "start_time": "2022-03-19T15:58:23.591Z"
   },
   {
    "duration": 5,
    "start_time": "2022-03-19T15:58:23.602Z"
   },
   {
    "duration": 5,
    "start_time": "2022-03-19T15:58:23.609Z"
   },
   {
    "duration": 6,
    "start_time": "2022-03-19T15:58:23.616Z"
   },
   {
    "duration": 17,
    "start_time": "2022-03-19T16:05:28.853Z"
   },
   {
    "duration": 25,
    "start_time": "2022-03-19T16:05:45.551Z"
   },
   {
    "duration": 117,
    "start_time": "2022-03-19T16:08:29.840Z"
   },
   {
    "duration": 62,
    "start_time": "2022-03-19T16:08:46.723Z"
   },
   {
    "duration": 65,
    "start_time": "2022-03-19T16:11:06.195Z"
   },
   {
    "duration": 73,
    "start_time": "2022-03-19T16:11:15.553Z"
   },
   {
    "duration": 61,
    "start_time": "2022-03-19T16:11:57.711Z"
   },
   {
    "duration": 385,
    "start_time": "2022-03-19T16:16:54.693Z"
   },
   {
    "duration": 172,
    "start_time": "2022-03-19T16:16:55.080Z"
   },
   {
    "duration": 17,
    "start_time": "2022-03-19T16:16:55.254Z"
   },
   {
    "duration": 31,
    "start_time": "2022-03-19T16:16:55.272Z"
   },
   {
    "duration": 9,
    "start_time": "2022-03-19T16:16:55.305Z"
   },
   {
    "duration": 28,
    "start_time": "2022-03-19T16:16:55.316Z"
   },
   {
    "duration": 13,
    "start_time": "2022-03-19T16:16:55.345Z"
   },
   {
    "duration": 44,
    "start_time": "2022-03-19T16:16:55.360Z"
   },
   {
    "duration": 35,
    "start_time": "2022-03-19T16:16:55.405Z"
   },
   {
    "duration": 31,
    "start_time": "2022-03-19T16:16:55.442Z"
   },
   {
    "duration": 85,
    "start_time": "2022-03-19T16:16:55.475Z"
   },
   {
    "duration": 70,
    "start_time": "2022-03-19T16:16:55.562Z"
   },
   {
    "duration": 62,
    "start_time": "2022-03-19T16:16:55.634Z"
   },
   {
    "duration": 3,
    "start_time": "2022-03-19T16:16:55.700Z"
   },
   {
    "duration": 5,
    "start_time": "2022-03-19T16:16:55.705Z"
   },
   {
    "duration": 5,
    "start_time": "2022-03-19T16:16:55.712Z"
   },
   {
    "duration": 2,
    "start_time": "2022-03-19T16:16:55.739Z"
   },
   {
    "duration": 6,
    "start_time": "2022-03-19T16:16:55.743Z"
   },
   {
    "duration": 5,
    "start_time": "2022-03-19T16:16:55.750Z"
   },
   {
    "duration": 8,
    "start_time": "2022-03-19T16:16:55.757Z"
   },
   {
    "duration": 4,
    "start_time": "2022-03-19T16:16:55.767Z"
   },
   {
    "duration": 7,
    "start_time": "2022-03-19T16:16:55.772Z"
   },
   {
    "duration": 6,
    "start_time": "2022-03-19T16:16:55.781Z"
   },
   {
    "duration": 6,
    "start_time": "2022-03-19T16:16:55.788Z"
   },
   {
    "duration": 9,
    "start_time": "2022-03-19T16:16:55.796Z"
   },
   {
    "duration": 6,
    "start_time": "2022-03-19T16:16:55.807Z"
   },
   {
    "duration": 23,
    "start_time": "2022-03-19T16:16:55.815Z"
   },
   {
    "duration": 3,
    "start_time": "2022-03-19T16:16:55.840Z"
   },
   {
    "duration": 5,
    "start_time": "2022-03-19T16:16:55.845Z"
   },
   {
    "duration": 5,
    "start_time": "2022-03-19T16:16:55.852Z"
   },
   {
    "duration": 23,
    "start_time": "2022-03-19T16:16:55.859Z"
   },
   {
    "duration": 6,
    "start_time": "2022-03-19T16:16:55.884Z"
   },
   {
    "duration": 7,
    "start_time": "2022-03-19T16:16:55.892Z"
   },
   {
    "duration": 8,
    "start_time": "2022-03-19T16:16:55.901Z"
   },
   {
    "duration": 6,
    "start_time": "2022-03-19T16:16:55.910Z"
   },
   {
    "duration": 5,
    "start_time": "2022-03-19T16:16:55.917Z"
   },
   {
    "duration": 6,
    "start_time": "2022-03-19T16:16:55.923Z"
   },
   {
    "duration": 9,
    "start_time": "2022-03-19T16:16:55.930Z"
   },
   {
    "duration": 40,
    "start_time": "2022-03-19T16:19:09.358Z"
   },
   {
    "duration": 3,
    "start_time": "2022-03-19T16:48:55.486Z"
   },
   {
    "duration": 3,
    "start_time": "2022-03-19T16:55:05.805Z"
   },
   {
    "duration": 3,
    "start_time": "2022-03-19T16:55:08.520Z"
   },
   {
    "duration": 118,
    "start_time": "2022-03-19T17:01:14.974Z"
   },
   {
    "duration": 106,
    "start_time": "2022-03-19T17:03:55.094Z"
   },
   {
    "duration": 4,
    "start_time": "2022-03-19T17:06:40.050Z"
   },
   {
    "duration": 4,
    "start_time": "2022-03-19T17:07:21.151Z"
   },
   {
    "duration": 4,
    "start_time": "2022-03-19T17:08:43.089Z"
   },
   {
    "duration": 12,
    "start_time": "2022-03-19T17:10:12.761Z"
   },
   {
    "duration": 38,
    "start_time": "2022-03-19T17:11:10.431Z"
   },
   {
    "duration": 384,
    "start_time": "2022-03-19T17:15:52.280Z"
   },
   {
    "duration": 191,
    "start_time": "2022-03-19T17:15:52.667Z"
   },
   {
    "duration": 19,
    "start_time": "2022-03-19T17:15:52.860Z"
   },
   {
    "duration": 31,
    "start_time": "2022-03-19T17:15:52.882Z"
   },
   {
    "duration": 4,
    "start_time": "2022-03-19T17:15:52.915Z"
   },
   {
    "duration": 29,
    "start_time": "2022-03-19T17:15:52.921Z"
   },
   {
    "duration": 14,
    "start_time": "2022-03-19T17:15:52.952Z"
   },
   {
    "duration": 28,
    "start_time": "2022-03-19T17:15:52.968Z"
   },
   {
    "duration": 20,
    "start_time": "2022-03-19T17:15:52.998Z"
   },
   {
    "duration": 34,
    "start_time": "2022-03-19T17:15:53.020Z"
   },
   {
    "duration": 83,
    "start_time": "2022-03-19T17:15:53.056Z"
   },
   {
    "duration": 74,
    "start_time": "2022-03-19T17:15:53.140Z"
   },
   {
    "duration": 71,
    "start_time": "2022-03-19T17:15:53.216Z"
   },
   {
    "duration": 50,
    "start_time": "2022-03-19T17:15:53.289Z"
   },
   {
    "duration": 3,
    "start_time": "2022-03-19T17:15:53.341Z"
   },
   {
    "duration": 15,
    "start_time": "2022-03-19T17:15:53.345Z"
   },
   {
    "duration": 38,
    "start_time": "2022-03-19T17:15:53.362Z"
   },
   {
    "duration": 3,
    "start_time": "2022-03-19T17:15:53.401Z"
   },
   {
    "duration": 6,
    "start_time": "2022-03-19T17:15:53.406Z"
   },
   {
    "duration": 26,
    "start_time": "2022-03-19T17:15:53.414Z"
   },
   {
    "duration": 15,
    "start_time": "2022-03-19T17:15:53.442Z"
   },
   {
    "duration": 9,
    "start_time": "2022-03-19T17:15:53.459Z"
   },
   {
    "duration": 6,
    "start_time": "2022-03-19T17:15:53.470Z"
   },
   {
    "duration": 7,
    "start_time": "2022-03-19T17:15:53.478Z"
   },
   {
    "duration": 7,
    "start_time": "2022-03-19T17:15:53.487Z"
   },
   {
    "duration": 11,
    "start_time": "2022-03-19T17:15:53.495Z"
   },
   {
    "duration": 13,
    "start_time": "2022-03-19T17:15:53.508Z"
   },
   {
    "duration": 5,
    "start_time": "2022-03-19T17:15:53.525Z"
   },
   {
    "duration": 5,
    "start_time": "2022-03-19T17:15:53.532Z"
   },
   {
    "duration": 13,
    "start_time": "2022-03-19T17:15:53.539Z"
   },
   {
    "duration": 15,
    "start_time": "2022-03-19T17:15:53.553Z"
   },
   {
    "duration": 5,
    "start_time": "2022-03-19T17:15:53.570Z"
   },
   {
    "duration": 7,
    "start_time": "2022-03-19T17:15:53.577Z"
   },
   {
    "duration": 7,
    "start_time": "2022-03-19T17:15:53.585Z"
   },
   {
    "duration": 6,
    "start_time": "2022-03-19T17:15:53.593Z"
   },
   {
    "duration": 5,
    "start_time": "2022-03-19T17:15:53.601Z"
   },
   {
    "duration": 6,
    "start_time": "2022-03-19T17:15:53.607Z"
   },
   {
    "duration": 6,
    "start_time": "2022-03-19T17:15:53.614Z"
   },
   {
    "duration": 35,
    "start_time": "2022-03-19T17:21:53.860Z"
   },
   {
    "duration": 11,
    "start_time": "2022-03-19T17:23:57.207Z"
   },
   {
    "duration": 10,
    "start_time": "2022-03-19T17:25:52.677Z"
   },
   {
    "duration": 70,
    "start_time": "2022-03-19T17:32:38.068Z"
   },
   {
    "duration": 23,
    "start_time": "2022-03-19T17:44:10.977Z"
   },
   {
    "duration": 22,
    "start_time": "2022-03-19T17:45:49.644Z"
   },
   {
    "duration": 3,
    "start_time": "2022-03-19T17:48:26.097Z"
   },
   {
    "duration": 9,
    "start_time": "2022-03-19T17:50:08.243Z"
   },
   {
    "duration": 9,
    "start_time": "2022-03-19T17:51:56.636Z"
   },
   {
    "duration": 13,
    "start_time": "2022-03-19T17:52:10.568Z"
   },
   {
    "duration": 27,
    "start_time": "2022-03-19T17:52:45.166Z"
   },
   {
    "duration": 19,
    "start_time": "2022-03-19T17:53:10.294Z"
   },
   {
    "duration": 4,
    "start_time": "2022-03-19T17:53:17.043Z"
   },
   {
    "duration": 19,
    "start_time": "2022-03-19T17:53:34.526Z"
   },
   {
    "duration": 5,
    "start_time": "2022-03-19T17:54:05.745Z"
   },
   {
    "duration": 9,
    "start_time": "2022-03-19T17:54:20.513Z"
   },
   {
    "duration": 4,
    "start_time": "2022-03-19T17:54:30.585Z"
   },
   {
    "duration": 23,
    "start_time": "2022-03-19T17:54:40.625Z"
   },
   {
    "duration": 393,
    "start_time": "2022-03-19T17:55:31.679Z"
   },
   {
    "duration": 166,
    "start_time": "2022-03-19T17:55:32.074Z"
   },
   {
    "duration": 17,
    "start_time": "2022-03-19T17:55:32.242Z"
   },
   {
    "duration": 28,
    "start_time": "2022-03-19T17:55:32.262Z"
   },
   {
    "duration": 4,
    "start_time": "2022-03-19T17:55:32.292Z"
   },
   {
    "duration": 20,
    "start_time": "2022-03-19T17:55:32.297Z"
   },
   {
    "duration": 21,
    "start_time": "2022-03-19T17:55:32.319Z"
   },
   {
    "duration": 28,
    "start_time": "2022-03-19T17:55:32.342Z"
   },
   {
    "duration": 20,
    "start_time": "2022-03-19T17:55:32.371Z"
   },
   {
    "duration": 45,
    "start_time": "2022-03-19T17:55:32.395Z"
   },
   {
    "duration": 62,
    "start_time": "2022-03-19T17:55:32.442Z"
   },
   {
    "duration": 88,
    "start_time": "2022-03-19T17:55:32.506Z"
   },
   {
    "duration": 68,
    "start_time": "2022-03-19T17:55:32.596Z"
   },
   {
    "duration": 37,
    "start_time": "2022-03-19T17:55:32.666Z"
   },
   {
    "duration": 3,
    "start_time": "2022-03-19T17:55:32.705Z"
   },
   {
    "duration": 32,
    "start_time": "2022-03-19T17:55:32.709Z"
   },
   {
    "duration": 38,
    "start_time": "2022-03-19T17:55:32.743Z"
   },
   {
    "duration": 10,
    "start_time": "2022-03-19T17:55:32.783Z"
   },
   {
    "duration": 10,
    "start_time": "2022-03-19T17:55:32.795Z"
   },
   {
    "duration": 4,
    "start_time": "2022-03-19T17:55:32.806Z"
   },
   {
    "duration": 40,
    "start_time": "2022-03-19T17:55:32.811Z"
   },
   {
    "duration": 2,
    "start_time": "2022-03-19T17:55:32.853Z"
   },
   {
    "duration": 5,
    "start_time": "2022-03-19T17:55:32.857Z"
   },
   {
    "duration": 6,
    "start_time": "2022-03-19T17:55:32.864Z"
   },
   {
    "duration": 5,
    "start_time": "2022-03-19T17:55:32.871Z"
   },
   {
    "duration": 6,
    "start_time": "2022-03-19T17:55:32.878Z"
   },
   {
    "duration": 12,
    "start_time": "2022-03-19T17:55:32.885Z"
   },
   {
    "duration": 4,
    "start_time": "2022-03-19T17:55:32.900Z"
   },
   {
    "duration": 14,
    "start_time": "2022-03-19T17:55:32.906Z"
   },
   {
    "duration": 6,
    "start_time": "2022-03-19T17:55:32.922Z"
   },
   {
    "duration": 11,
    "start_time": "2022-03-19T17:55:32.930Z"
   },
   {
    "duration": 7,
    "start_time": "2022-03-19T17:55:32.942Z"
   },
   {
    "duration": 7,
    "start_time": "2022-03-19T17:55:32.951Z"
   },
   {
    "duration": 5,
    "start_time": "2022-03-19T17:55:32.960Z"
   },
   {
    "duration": 7,
    "start_time": "2022-03-19T17:55:32.966Z"
   },
   {
    "duration": 5,
    "start_time": "2022-03-19T17:55:32.974Z"
   },
   {
    "duration": 6,
    "start_time": "2022-03-19T17:55:32.980Z"
   },
   {
    "duration": 5,
    "start_time": "2022-03-19T17:55:32.987Z"
   },
   {
    "duration": 27,
    "start_time": "2022-03-19T17:55:56.019Z"
   },
   {
    "duration": 58,
    "start_time": "2022-03-19T17:56:08.431Z"
   },
   {
    "duration": 403,
    "start_time": "2022-03-19T17:56:45.241Z"
   },
   {
    "duration": 153,
    "start_time": "2022-03-19T17:56:45.646Z"
   },
   {
    "duration": 16,
    "start_time": "2022-03-19T17:56:45.801Z"
   },
   {
    "duration": 42,
    "start_time": "2022-03-19T17:56:45.819Z"
   },
   {
    "duration": 3,
    "start_time": "2022-03-19T17:56:45.864Z"
   },
   {
    "duration": 17,
    "start_time": "2022-03-19T17:56:45.869Z"
   },
   {
    "duration": 6,
    "start_time": "2022-03-19T17:56:45.888Z"
   },
   {
    "duration": 42,
    "start_time": "2022-03-19T17:56:45.896Z"
   },
   {
    "duration": 19,
    "start_time": "2022-03-19T17:56:45.940Z"
   },
   {
    "duration": 25,
    "start_time": "2022-03-19T17:56:45.961Z"
   },
   {
    "duration": 86,
    "start_time": "2022-03-19T17:56:45.988Z"
   },
   {
    "duration": 78,
    "start_time": "2022-03-19T17:56:46.076Z"
   },
   {
    "duration": 58,
    "start_time": "2022-03-19T17:56:46.156Z"
   },
   {
    "duration": 52,
    "start_time": "2022-03-19T17:56:46.218Z"
   },
   {
    "duration": 2,
    "start_time": "2022-03-19T17:56:46.272Z"
   },
   {
    "duration": 16,
    "start_time": "2022-03-19T17:56:46.276Z"
   },
   {
    "duration": 58,
    "start_time": "2022-03-19T17:56:46.293Z"
   },
   {
    "duration": 11,
    "start_time": "2022-03-19T17:56:46.352Z"
   },
   {
    "duration": 11,
    "start_time": "2022-03-19T17:56:46.364Z"
   },
   {
    "duration": 4,
    "start_time": "2022-03-19T17:56:46.376Z"
   },
   {
    "duration": 21,
    "start_time": "2022-03-19T17:56:46.381Z"
   },
   {
    "duration": 3,
    "start_time": "2022-03-19T17:56:46.404Z"
   },
   {
    "duration": 30,
    "start_time": "2022-03-19T17:56:46.408Z"
   },
   {
    "duration": 5,
    "start_time": "2022-03-19T17:56:46.440Z"
   },
   {
    "duration": 7,
    "start_time": "2022-03-19T17:56:46.447Z"
   },
   {
    "duration": 6,
    "start_time": "2022-03-19T17:56:46.456Z"
   },
   {
    "duration": 7,
    "start_time": "2022-03-19T17:56:46.463Z"
   },
   {
    "duration": 7,
    "start_time": "2022-03-19T17:56:46.471Z"
   },
   {
    "duration": 5,
    "start_time": "2022-03-19T17:56:46.479Z"
   },
   {
    "duration": 14,
    "start_time": "2022-03-19T17:56:46.486Z"
   },
   {
    "duration": 5,
    "start_time": "2022-03-19T17:56:46.502Z"
   },
   {
    "duration": 7,
    "start_time": "2022-03-19T17:56:46.509Z"
   },
   {
    "duration": 5,
    "start_time": "2022-03-19T17:56:46.518Z"
   },
   {
    "duration": 4,
    "start_time": "2022-03-19T17:56:46.524Z"
   },
   {
    "duration": 8,
    "start_time": "2022-03-19T17:56:46.529Z"
   },
   {
    "duration": 5,
    "start_time": "2022-03-19T17:56:46.539Z"
   },
   {
    "duration": 6,
    "start_time": "2022-03-19T17:56:46.545Z"
   },
   {
    "duration": 5,
    "start_time": "2022-03-19T17:56:46.552Z"
   },
   {
    "duration": 372,
    "start_time": "2022-03-19T17:57:40.196Z"
   },
   {
    "duration": 164,
    "start_time": "2022-03-19T17:57:40.570Z"
   },
   {
    "duration": 19,
    "start_time": "2022-03-19T17:57:40.735Z"
   },
   {
    "duration": 31,
    "start_time": "2022-03-19T17:57:40.756Z"
   },
   {
    "duration": 4,
    "start_time": "2022-03-19T17:57:40.789Z"
   },
   {
    "duration": 17,
    "start_time": "2022-03-19T17:57:40.795Z"
   },
   {
    "duration": 26,
    "start_time": "2022-03-19T17:57:40.814Z"
   },
   {
    "duration": 27,
    "start_time": "2022-03-19T17:57:40.842Z"
   },
   {
    "duration": 19,
    "start_time": "2022-03-19T17:57:40.871Z"
   },
   {
    "duration": 46,
    "start_time": "2022-03-19T17:57:40.893Z"
   },
   {
    "duration": 66,
    "start_time": "2022-03-19T17:57:40.941Z"
   },
   {
    "duration": 99,
    "start_time": "2022-03-19T17:57:41.009Z"
   },
   {
    "duration": 72,
    "start_time": "2022-03-19T17:57:41.111Z"
   },
   {
    "duration": 52,
    "start_time": "2022-03-19T17:57:41.185Z"
   },
   {
    "duration": 4,
    "start_time": "2022-03-19T17:57:41.240Z"
   },
   {
    "duration": 28,
    "start_time": "2022-03-19T17:57:41.245Z"
   },
   {
    "duration": 59,
    "start_time": "2022-03-19T17:57:41.275Z"
   },
   {
    "duration": 13,
    "start_time": "2022-03-19T17:57:41.336Z"
   },
   {
    "duration": 16,
    "start_time": "2022-03-19T17:57:41.350Z"
   },
   {
    "duration": 8,
    "start_time": "2022-03-19T17:57:41.368Z"
   },
   {
    "duration": 43,
    "start_time": "2022-03-19T17:57:41.378Z"
   },
   {
    "duration": 3,
    "start_time": "2022-03-19T17:57:41.423Z"
   },
   {
    "duration": 21,
    "start_time": "2022-03-19T17:57:41.428Z"
   },
   {
    "duration": 14,
    "start_time": "2022-03-19T17:57:41.451Z"
   },
   {
    "duration": 13,
    "start_time": "2022-03-19T17:57:41.467Z"
   },
   {
    "duration": 19,
    "start_time": "2022-03-19T17:57:41.482Z"
   },
   {
    "duration": 25,
    "start_time": "2022-03-19T17:57:41.503Z"
   },
   {
    "duration": 15,
    "start_time": "2022-03-19T17:57:41.533Z"
   },
   {
    "duration": 25,
    "start_time": "2022-03-19T17:57:41.550Z"
   },
   {
    "duration": 33,
    "start_time": "2022-03-19T17:57:41.578Z"
   },
   {
    "duration": 37,
    "start_time": "2022-03-19T17:57:41.613Z"
   },
   {
    "duration": 25,
    "start_time": "2022-03-19T17:57:41.652Z"
   },
   {
    "duration": 12,
    "start_time": "2022-03-19T17:57:41.679Z"
   },
   {
    "duration": 26,
    "start_time": "2022-03-19T17:57:41.692Z"
   },
   {
    "duration": 42,
    "start_time": "2022-03-19T17:57:41.720Z"
   },
   {
    "duration": 22,
    "start_time": "2022-03-19T17:57:41.764Z"
   },
   {
    "duration": 13,
    "start_time": "2022-03-19T17:57:41.788Z"
   },
   {
    "duration": 15,
    "start_time": "2022-03-19T17:57:41.802Z"
   },
   {
    "duration": 19,
    "start_time": "2022-03-19T17:58:30.371Z"
   },
   {
    "duration": 19,
    "start_time": "2022-03-19T17:59:11.637Z"
   },
   {
    "duration": 18,
    "start_time": "2022-03-19T17:59:12.240Z"
   },
   {
    "duration": 22,
    "start_time": "2022-03-19T17:59:50.048Z"
   },
   {
    "duration": 18,
    "start_time": "2022-03-19T17:59:52.707Z"
   },
   {
    "duration": 8,
    "start_time": "2022-03-19T18:13:15.719Z"
   },
   {
    "duration": 411,
    "start_time": "2022-03-19T18:13:55.742Z"
   },
   {
    "duration": 165,
    "start_time": "2022-03-19T18:13:56.156Z"
   },
   {
    "duration": 23,
    "start_time": "2022-03-19T18:13:56.323Z"
   },
   {
    "duration": 31,
    "start_time": "2022-03-19T18:13:56.348Z"
   },
   {
    "duration": 4,
    "start_time": "2022-03-19T18:13:56.382Z"
   },
   {
    "duration": 22,
    "start_time": "2022-03-19T18:13:56.388Z"
   },
   {
    "duration": 27,
    "start_time": "2022-03-19T18:13:56.411Z"
   },
   {
    "duration": 26,
    "start_time": "2022-03-19T18:13:56.440Z"
   },
   {
    "duration": 18,
    "start_time": "2022-03-19T18:13:56.468Z"
   },
   {
    "duration": 51,
    "start_time": "2022-03-19T18:13:56.488Z"
   },
   {
    "duration": 66,
    "start_time": "2022-03-19T18:13:56.541Z"
   },
   {
    "duration": 90,
    "start_time": "2022-03-19T18:13:56.610Z"
   },
   {
    "duration": 79,
    "start_time": "2022-03-19T18:13:56.702Z"
   },
   {
    "duration": 39,
    "start_time": "2022-03-19T18:13:56.787Z"
   },
   {
    "duration": 4,
    "start_time": "2022-03-19T18:13:56.838Z"
   },
   {
    "duration": 21,
    "start_time": "2022-03-19T18:13:56.843Z"
   },
   {
    "duration": 39,
    "start_time": "2022-03-19T18:13:56.866Z"
   },
   {
    "duration": 12,
    "start_time": "2022-03-19T18:13:56.907Z"
   },
   {
    "duration": 28,
    "start_time": "2022-03-19T18:13:56.920Z"
   },
   {
    "duration": 3,
    "start_time": "2022-03-19T18:13:56.950Z"
   },
   {
    "duration": 22,
    "start_time": "2022-03-19T18:13:56.954Z"
   },
   {
    "duration": 15,
    "start_time": "2022-03-19T18:13:56.978Z"
   },
   {
    "duration": 45,
    "start_time": "2022-03-19T18:13:56.994Z"
   },
   {
    "duration": 15,
    "start_time": "2022-03-19T18:13:57.041Z"
   },
   {
    "duration": 17,
    "start_time": "2022-03-19T18:13:57.058Z"
   },
   {
    "duration": 16,
    "start_time": "2022-03-19T18:13:57.076Z"
   },
   {
    "duration": 8,
    "start_time": "2022-03-19T18:13:57.093Z"
   },
   {
    "duration": 35,
    "start_time": "2022-03-19T18:13:57.103Z"
   },
   {
    "duration": 3,
    "start_time": "2022-03-19T18:13:57.139Z"
   },
   {
    "duration": 7,
    "start_time": "2022-03-19T18:13:57.143Z"
   },
   {
    "duration": 7,
    "start_time": "2022-03-19T18:13:57.152Z"
   },
   {
    "duration": 7,
    "start_time": "2022-03-19T18:13:57.161Z"
   },
   {
    "duration": 10,
    "start_time": "2022-03-19T18:13:57.170Z"
   },
   {
    "duration": 5,
    "start_time": "2022-03-19T18:13:57.182Z"
   },
   {
    "duration": 6,
    "start_time": "2022-03-19T18:13:57.189Z"
   },
   {
    "duration": 6,
    "start_time": "2022-03-19T18:13:57.196Z"
   },
   {
    "duration": 6,
    "start_time": "2022-03-19T18:13:57.203Z"
   },
   {
    "duration": 5,
    "start_time": "2022-03-19T18:13:57.211Z"
   },
   {
    "duration": 415,
    "start_time": "2022-03-19T18:16:53.246Z"
   },
   {
    "duration": 158,
    "start_time": "2022-03-19T18:16:53.663Z"
   },
   {
    "duration": 21,
    "start_time": "2022-03-19T18:16:53.823Z"
   },
   {
    "duration": 30,
    "start_time": "2022-03-19T18:16:53.846Z"
   },
   {
    "duration": 4,
    "start_time": "2022-03-19T18:16:53.878Z"
   },
   {
    "duration": 19,
    "start_time": "2022-03-19T18:16:53.884Z"
   },
   {
    "duration": 6,
    "start_time": "2022-03-19T18:16:53.905Z"
   },
   {
    "duration": 25,
    "start_time": "2022-03-19T18:16:53.938Z"
   },
   {
    "duration": 21,
    "start_time": "2022-03-19T18:16:53.965Z"
   },
   {
    "duration": 25,
    "start_time": "2022-03-19T18:16:53.989Z"
   },
   {
    "duration": 67,
    "start_time": "2022-03-19T18:16:54.038Z"
   },
   {
    "duration": 87,
    "start_time": "2022-03-19T18:16:54.107Z"
   },
   {
    "duration": 74,
    "start_time": "2022-03-19T18:16:54.196Z"
   },
   {
    "duration": 39,
    "start_time": "2022-03-19T18:16:54.272Z"
   },
   {
    "duration": 4,
    "start_time": "2022-03-19T18:16:54.313Z"
   },
   {
    "duration": 13,
    "start_time": "2022-03-19T18:16:54.337Z"
   },
   {
    "duration": 38,
    "start_time": "2022-03-19T18:16:54.352Z"
   },
   {
    "duration": 13,
    "start_time": "2022-03-19T18:16:54.392Z"
   },
   {
    "duration": 40,
    "start_time": "2022-03-19T18:16:54.407Z"
   },
   {
    "duration": 3,
    "start_time": "2022-03-19T18:16:54.449Z"
   },
   {
    "duration": 23,
    "start_time": "2022-03-19T18:16:54.454Z"
   },
   {
    "duration": 18,
    "start_time": "2022-03-19T18:16:54.479Z"
   },
   {
    "duration": 46,
    "start_time": "2022-03-19T18:16:54.498Z"
   },
   {
    "duration": 20,
    "start_time": "2022-03-19T18:16:54.547Z"
   },
   {
    "duration": 18,
    "start_time": "2022-03-19T18:16:54.569Z"
   },
   {
    "duration": 14,
    "start_time": "2022-03-19T18:16:54.589Z"
   },
   {
    "duration": 36,
    "start_time": "2022-03-19T18:16:54.605Z"
   },
   {
    "duration": 6,
    "start_time": "2022-03-19T18:16:54.644Z"
   },
   {
    "duration": 7,
    "start_time": "2022-03-19T18:16:54.651Z"
   },
   {
    "duration": 5,
    "start_time": "2022-03-19T18:16:54.660Z"
   },
   {
    "duration": 10,
    "start_time": "2022-03-19T18:16:54.666Z"
   },
   {
    "duration": 5,
    "start_time": "2022-03-19T18:16:54.678Z"
   },
   {
    "duration": 7,
    "start_time": "2022-03-19T18:16:54.684Z"
   },
   {
    "duration": 5,
    "start_time": "2022-03-19T18:16:54.693Z"
   },
   {
    "duration": 6,
    "start_time": "2022-03-19T18:16:54.700Z"
   },
   {
    "duration": 6,
    "start_time": "2022-03-19T18:16:54.707Z"
   },
   {
    "duration": 7,
    "start_time": "2022-03-19T18:16:54.714Z"
   },
   {
    "duration": 5,
    "start_time": "2022-03-19T18:16:54.723Z"
   },
   {
    "duration": 22,
    "start_time": "2022-03-19T18:29:50.341Z"
   },
   {
    "duration": 13,
    "start_time": "2022-03-19T18:31:17.232Z"
   },
   {
    "duration": 16,
    "start_time": "2022-03-19T18:31:44.842Z"
   },
   {
    "duration": 15,
    "start_time": "2022-03-19T18:31:52.790Z"
   },
   {
    "duration": 11,
    "start_time": "2022-03-19T18:31:54.192Z"
   },
   {
    "duration": 22,
    "start_time": "2022-03-19T18:40:44.757Z"
   },
   {
    "duration": 20,
    "start_time": "2022-03-19T18:40:49.701Z"
   },
   {
    "duration": 24,
    "start_time": "2022-03-19T18:41:02.398Z"
   },
   {
    "duration": 23,
    "start_time": "2022-03-19T18:47:43.303Z"
   },
   {
    "duration": 23,
    "start_time": "2022-03-19T18:48:28.303Z"
   },
   {
    "duration": 5,
    "start_time": "2022-03-19T18:48:57.339Z"
   },
   {
    "duration": 4,
    "start_time": "2022-03-19T18:49:02.359Z"
   },
   {
    "duration": 19,
    "start_time": "2022-03-19T18:49:33.509Z"
   },
   {
    "duration": 14,
    "start_time": "2022-03-19T18:49:52.999Z"
   },
   {
    "duration": 19,
    "start_time": "2022-03-19T18:50:46.045Z"
   },
   {
    "duration": 13,
    "start_time": "2022-03-19T18:50:49.276Z"
   },
   {
    "duration": 418,
    "start_time": "2022-03-19T18:52:28.126Z"
   },
   {
    "duration": 160,
    "start_time": "2022-03-19T18:52:28.546Z"
   },
   {
    "duration": 19,
    "start_time": "2022-03-19T18:52:28.707Z"
   },
   {
    "duration": 37,
    "start_time": "2022-03-19T18:52:28.728Z"
   },
   {
    "duration": 4,
    "start_time": "2022-03-19T18:52:28.767Z"
   },
   {
    "duration": 17,
    "start_time": "2022-03-19T18:52:28.773Z"
   },
   {
    "duration": 6,
    "start_time": "2022-03-19T18:52:28.792Z"
   },
   {
    "duration": 48,
    "start_time": "2022-03-19T18:52:28.800Z"
   },
   {
    "duration": 19,
    "start_time": "2022-03-19T18:52:28.850Z"
   },
   {
    "duration": 25,
    "start_time": "2022-03-19T18:52:28.872Z"
   },
   {
    "duration": 85,
    "start_time": "2022-03-19T18:52:28.899Z"
   },
   {
    "duration": 78,
    "start_time": "2022-03-19T18:52:28.985Z"
   },
   {
    "duration": 60,
    "start_time": "2022-03-19T18:52:29.065Z"
   },
   {
    "duration": 48,
    "start_time": "2022-03-19T18:52:29.127Z"
   },
   {
    "duration": 5,
    "start_time": "2022-03-19T18:52:29.176Z"
   },
   {
    "duration": 16,
    "start_time": "2022-03-19T18:52:29.183Z"
   },
   {
    "duration": 55,
    "start_time": "2022-03-19T18:52:29.201Z"
   },
   {
    "duration": 11,
    "start_time": "2022-03-19T18:52:29.258Z"
   },
   {
    "duration": 11,
    "start_time": "2022-03-19T18:52:29.271Z"
   },
   {
    "duration": 3,
    "start_time": "2022-03-19T18:52:29.284Z"
   },
   {
    "duration": 22,
    "start_time": "2022-03-19T18:52:29.288Z"
   },
   {
    "duration": 37,
    "start_time": "2022-03-19T18:52:29.312Z"
   },
   {
    "duration": 16,
    "start_time": "2022-03-19T18:52:29.351Z"
   },
   {
    "duration": 15,
    "start_time": "2022-03-19T18:52:29.369Z"
   },
   {
    "duration": 19,
    "start_time": "2022-03-19T18:52:29.385Z"
   },
   {
    "duration": 18,
    "start_time": "2022-03-19T18:52:29.438Z"
   },
   {
    "duration": 8,
    "start_time": "2022-03-19T18:52:29.458Z"
   },
   {
    "duration": 16,
    "start_time": "2022-03-19T18:52:29.469Z"
   },
   {
    "duration": 11,
    "start_time": "2022-03-19T18:52:29.487Z"
   },
   {
    "duration": 4,
    "start_time": "2022-03-19T18:52:29.500Z"
   },
   {
    "duration": 52,
    "start_time": "2022-03-19T18:52:29.505Z"
   },
   {
    "duration": 13,
    "start_time": "2022-03-19T18:52:29.558Z"
   },
   {
    "duration": 18,
    "start_time": "2022-03-19T18:52:29.572Z"
   },
   {
    "duration": 11,
    "start_time": "2022-03-19T18:52:29.592Z"
   },
   {
    "duration": 6,
    "start_time": "2022-03-19T18:52:29.605Z"
   },
   {
    "duration": 3,
    "start_time": "2022-03-19T18:52:29.638Z"
   },
   {
    "duration": 14,
    "start_time": "2022-03-19T18:52:29.642Z"
   },
   {
    "duration": 11,
    "start_time": "2022-03-19T18:52:29.658Z"
   },
   {
    "duration": 9,
    "start_time": "2022-03-19T19:01:18.558Z"
   },
   {
    "duration": 5,
    "start_time": "2022-03-19T19:01:43.687Z"
   },
   {
    "duration": 6,
    "start_time": "2022-03-19T19:03:27.457Z"
   },
   {
    "duration": 6,
    "start_time": "2022-03-19T19:03:43.747Z"
   },
   {
    "duration": 419,
    "start_time": "2022-03-19T19:13:46.841Z"
   },
   {
    "duration": 164,
    "start_time": "2022-03-19T19:13:47.262Z"
   },
   {
    "duration": 19,
    "start_time": "2022-03-19T19:13:47.428Z"
   },
   {
    "duration": 31,
    "start_time": "2022-03-19T19:13:47.449Z"
   },
   {
    "duration": 4,
    "start_time": "2022-03-19T19:13:47.481Z"
   },
   {
    "duration": 17,
    "start_time": "2022-03-19T19:13:47.487Z"
   },
   {
    "duration": 32,
    "start_time": "2022-03-19T19:13:47.506Z"
   },
   {
    "duration": 27,
    "start_time": "2022-03-19T19:13:47.540Z"
   },
   {
    "duration": 22,
    "start_time": "2022-03-19T19:13:47.569Z"
   },
   {
    "duration": 24,
    "start_time": "2022-03-19T19:13:47.594Z"
   },
   {
    "duration": 69,
    "start_time": "2022-03-19T19:13:47.639Z"
   },
   {
    "duration": 86,
    "start_time": "2022-03-19T19:13:47.710Z"
   },
   {
    "duration": 68,
    "start_time": "2022-03-19T19:13:47.798Z"
   },
   {
    "duration": 39,
    "start_time": "2022-03-19T19:13:47.868Z"
   },
   {
    "duration": 7,
    "start_time": "2022-03-19T19:13:47.909Z"
   },
   {
    "duration": 29,
    "start_time": "2022-03-19T19:13:47.918Z"
   },
   {
    "duration": 38,
    "start_time": "2022-03-19T19:13:47.949Z"
   },
   {
    "duration": 11,
    "start_time": "2022-03-19T19:13:47.989Z"
   },
   {
    "duration": 23,
    "start_time": "2022-03-19T19:13:48.001Z"
   },
   {
    "duration": 3,
    "start_time": "2022-03-19T19:13:48.039Z"
   },
   {
    "duration": 28,
    "start_time": "2022-03-19T19:13:48.044Z"
   },
   {
    "duration": 17,
    "start_time": "2022-03-19T19:13:48.074Z"
   },
   {
    "duration": 19,
    "start_time": "2022-03-19T19:13:48.092Z"
   },
   {
    "duration": 38,
    "start_time": "2022-03-19T19:13:48.112Z"
   },
   {
    "duration": 18,
    "start_time": "2022-03-19T19:13:48.152Z"
   },
   {
    "duration": 18,
    "start_time": "2022-03-19T19:13:48.172Z"
   },
   {
    "duration": 9,
    "start_time": "2022-03-19T19:13:48.192Z"
   },
   {
    "duration": 45,
    "start_time": "2022-03-19T19:13:48.204Z"
   },
   {
    "duration": 11,
    "start_time": "2022-03-19T19:13:48.250Z"
   },
   {
    "duration": 4,
    "start_time": "2022-03-19T19:13:48.263Z"
   },
   {
    "duration": 27,
    "start_time": "2022-03-19T19:13:48.269Z"
   },
   {
    "duration": 15,
    "start_time": "2022-03-19T19:13:48.298Z"
   },
   {
    "duration": 40,
    "start_time": "2022-03-19T19:13:48.315Z"
   },
   {
    "duration": 12,
    "start_time": "2022-03-19T19:13:48.357Z"
   },
   {
    "duration": 8,
    "start_time": "2022-03-19T19:13:48.371Z"
   },
   {
    "duration": 9,
    "start_time": "2022-03-19T19:13:48.380Z"
   },
   {
    "duration": 10,
    "start_time": "2022-03-19T19:13:48.390Z"
   },
   {
    "duration": 5,
    "start_time": "2022-03-19T19:13:48.401Z"
   },
   {
    "duration": 31,
    "start_time": "2022-03-19T19:21:29.273Z"
   },
   {
    "duration": 21,
    "start_time": "2022-03-19T19:21:39.725Z"
   },
   {
    "duration": 363,
    "start_time": "2022-03-19T19:23:40.494Z"
   },
   {
    "duration": 165,
    "start_time": "2022-03-19T19:23:40.859Z"
   },
   {
    "duration": 24,
    "start_time": "2022-03-19T19:23:41.027Z"
   },
   {
    "duration": 35,
    "start_time": "2022-03-19T19:23:41.052Z"
   },
   {
    "duration": 5,
    "start_time": "2022-03-19T19:23:41.089Z"
   },
   {
    "duration": 15,
    "start_time": "2022-03-19T19:23:41.096Z"
   },
   {
    "duration": 28,
    "start_time": "2022-03-19T19:23:41.113Z"
   },
   {
    "duration": 28,
    "start_time": "2022-03-19T19:23:41.143Z"
   },
   {
    "duration": 21,
    "start_time": "2022-03-19T19:23:41.173Z"
   },
   {
    "duration": 53,
    "start_time": "2022-03-19T19:23:41.196Z"
   },
   {
    "duration": 73,
    "start_time": "2022-03-19T19:23:41.252Z"
   },
   {
    "duration": 77,
    "start_time": "2022-03-19T19:23:41.337Z"
   },
   {
    "duration": 77,
    "start_time": "2022-03-19T19:23:41.416Z"
   },
   {
    "duration": 52,
    "start_time": "2022-03-19T19:23:41.498Z"
   },
   {
    "duration": 3,
    "start_time": "2022-03-19T19:23:41.552Z"
   },
   {
    "duration": 15,
    "start_time": "2022-03-19T19:23:41.556Z"
   },
   {
    "duration": 40,
    "start_time": "2022-03-19T19:23:41.572Z"
   },
   {
    "duration": 30,
    "start_time": "2022-03-19T19:23:41.613Z"
   },
   {
    "duration": 18,
    "start_time": "2022-03-19T19:23:41.646Z"
   },
   {
    "duration": 4,
    "start_time": "2022-03-19T19:23:41.666Z"
   },
   {
    "duration": 23,
    "start_time": "2022-03-19T19:23:41.671Z"
   },
   {
    "duration": 42,
    "start_time": "2022-03-19T19:23:41.696Z"
   },
   {
    "duration": 19,
    "start_time": "2022-03-19T19:23:41.740Z"
   },
   {
    "duration": 16,
    "start_time": "2022-03-19T19:23:41.761Z"
   },
   {
    "duration": 20,
    "start_time": "2022-03-19T19:23:41.779Z"
   },
   {
    "duration": 48,
    "start_time": "2022-03-19T19:23:41.800Z"
   },
   {
    "duration": 10,
    "start_time": "2022-03-19T19:23:41.850Z"
   },
   {
    "duration": 15,
    "start_time": "2022-03-19T19:23:41.861Z"
   },
   {
    "duration": 12,
    "start_time": "2022-03-19T19:23:41.878Z"
   },
   {
    "duration": 6,
    "start_time": "2022-03-19T19:23:41.891Z"
   },
   {
    "duration": 51,
    "start_time": "2022-03-19T19:23:41.899Z"
   },
   {
    "duration": 16,
    "start_time": "2022-03-19T19:23:41.952Z"
   },
   {
    "duration": 19,
    "start_time": "2022-03-19T19:23:41.970Z"
   },
   {
    "duration": 13,
    "start_time": "2022-03-19T19:23:41.991Z"
   },
   {
    "duration": 39,
    "start_time": "2022-03-19T19:23:42.006Z"
   },
   {
    "duration": 6,
    "start_time": "2022-03-19T19:23:42.047Z"
   },
   {
    "duration": 8,
    "start_time": "2022-03-19T19:23:42.055Z"
   },
   {
    "duration": 5,
    "start_time": "2022-03-19T19:23:42.065Z"
   },
   {
    "duration": 44,
    "start_time": "2022-03-26T05:28:48.953Z"
   },
   {
    "duration": 429,
    "start_time": "2022-03-26T05:29:16.476Z"
   },
   {
    "duration": 162,
    "start_time": "2022-03-26T05:29:16.907Z"
   },
   {
    "duration": 21,
    "start_time": "2022-03-26T05:29:17.071Z"
   },
   {
    "duration": 45,
    "start_time": "2022-03-26T05:29:17.095Z"
   },
   {
    "duration": 4,
    "start_time": "2022-03-26T05:29:17.142Z"
   },
   {
    "duration": 33,
    "start_time": "2022-03-26T05:29:17.148Z"
   },
   {
    "duration": 12,
    "start_time": "2022-03-26T05:29:17.183Z"
   },
   {
    "duration": 26,
    "start_time": "2022-03-26T05:29:17.197Z"
   },
   {
    "duration": 17,
    "start_time": "2022-03-26T05:29:17.225Z"
   },
   {
    "duration": 22,
    "start_time": "2022-03-26T05:29:17.244Z"
   },
   {
    "duration": 58,
    "start_time": "2022-03-26T05:29:17.281Z"
   },
   {
    "duration": 74,
    "start_time": "2022-03-26T05:29:17.341Z"
   },
   {
    "duration": 56,
    "start_time": "2022-03-26T05:29:17.416Z"
   },
   {
    "duration": 38,
    "start_time": "2022-03-26T05:29:17.481Z"
   },
   {
    "duration": 3,
    "start_time": "2022-03-26T05:29:17.520Z"
   },
   {
    "duration": 14,
    "start_time": "2022-03-26T05:29:17.525Z"
   },
   {
    "duration": 51,
    "start_time": "2022-03-26T05:29:17.541Z"
   },
   {
    "duration": 13,
    "start_time": "2022-03-26T05:29:17.593Z"
   },
   {
    "duration": 11,
    "start_time": "2022-03-26T05:29:17.608Z"
   },
   {
    "duration": 3,
    "start_time": "2022-03-26T05:29:17.621Z"
   },
   {
    "duration": 18,
    "start_time": "2022-03-26T05:29:17.626Z"
   },
   {
    "duration": 46,
    "start_time": "2022-03-26T05:29:17.645Z"
   },
   {
    "duration": 15,
    "start_time": "2022-03-26T05:29:17.693Z"
   },
   {
    "duration": 13,
    "start_time": "2022-03-26T05:29:17.710Z"
   },
   {
    "duration": 16,
    "start_time": "2022-03-26T05:29:17.725Z"
   },
   {
    "duration": 43,
    "start_time": "2022-03-26T05:29:17.742Z"
   },
   {
    "duration": 8,
    "start_time": "2022-03-26T05:29:17.787Z"
   },
   {
    "duration": 12,
    "start_time": "2022-03-26T05:29:17.798Z"
   },
   {
    "duration": 9,
    "start_time": "2022-03-26T05:29:17.811Z"
   },
   {
    "duration": 4,
    "start_time": "2022-03-26T05:29:17.822Z"
   },
   {
    "duration": 22,
    "start_time": "2022-03-26T05:29:17.828Z"
   },
   {
    "duration": 37,
    "start_time": "2022-03-26T05:29:17.852Z"
   },
   {
    "duration": 14,
    "start_time": "2022-03-26T05:29:17.891Z"
   },
   {
    "duration": 10,
    "start_time": "2022-03-26T05:29:17.906Z"
   },
   {
    "duration": 7,
    "start_time": "2022-03-26T05:29:17.917Z"
   },
   {
    "duration": 7,
    "start_time": "2022-03-26T05:29:17.925Z"
   },
   {
    "duration": 8,
    "start_time": "2022-03-26T05:29:17.934Z"
   },
   {
    "duration": 7,
    "start_time": "2022-03-26T05:29:17.944Z"
   },
   {
    "duration": 10,
    "start_time": "2022-03-26T05:29:46.794Z"
   },
   {
    "duration": 15,
    "start_time": "2022-03-26T05:31:50.273Z"
   },
   {
    "duration": 11,
    "start_time": "2022-03-26T05:31:53.635Z"
   },
   {
    "duration": 350,
    "start_time": "2022-03-26T05:32:53.623Z"
   },
   {
    "duration": 139,
    "start_time": "2022-03-26T05:32:53.975Z"
   },
   {
    "duration": 16,
    "start_time": "2022-03-26T05:32:54.116Z"
   },
   {
    "duration": 29,
    "start_time": "2022-03-26T05:32:54.134Z"
   },
   {
    "duration": 18,
    "start_time": "2022-03-26T05:32:54.164Z"
   },
   {
    "duration": 15,
    "start_time": "2022-03-26T05:32:54.184Z"
   },
   {
    "duration": 6,
    "start_time": "2022-03-26T05:32:54.200Z"
   },
   {
    "duration": 25,
    "start_time": "2022-03-26T05:32:54.207Z"
   },
   {
    "duration": 17,
    "start_time": "2022-03-26T05:32:54.233Z"
   },
   {
    "duration": 35,
    "start_time": "2022-03-26T05:32:54.252Z"
   },
   {
    "duration": 60,
    "start_time": "2022-03-26T05:32:54.288Z"
   },
   {
    "duration": 78,
    "start_time": "2022-03-26T05:32:54.349Z"
   },
   {
    "duration": 62,
    "start_time": "2022-03-26T05:32:54.428Z"
   },
   {
    "duration": 47,
    "start_time": "2022-03-26T05:32:54.492Z"
   },
   {
    "duration": 3,
    "start_time": "2022-03-26T05:32:54.540Z"
   },
   {
    "duration": 14,
    "start_time": "2022-03-26T05:32:54.545Z"
   },
   {
    "duration": 38,
    "start_time": "2022-03-26T05:32:54.561Z"
   },
   {
    "duration": 10,
    "start_time": "2022-03-26T05:32:54.601Z"
   },
   {
    "duration": 9,
    "start_time": "2022-03-26T05:32:54.613Z"
   },
   {
    "duration": 3,
    "start_time": "2022-03-26T05:32:54.624Z"
   },
   {
    "duration": 22,
    "start_time": "2022-03-26T05:32:54.628Z"
   },
   {
    "duration": 14,
    "start_time": "2022-03-26T05:32:54.651Z"
   },
   {
    "duration": 17,
    "start_time": "2022-03-26T05:32:54.666Z"
   },
   {
    "duration": 12,
    "start_time": "2022-03-26T05:32:54.686Z"
   },
   {
    "duration": 15,
    "start_time": "2022-03-26T05:32:54.699Z"
   },
   {
    "duration": 12,
    "start_time": "2022-03-26T05:32:54.716Z"
   },
   {
    "duration": 7,
    "start_time": "2022-03-26T05:32:54.730Z"
   },
   {
    "duration": 15,
    "start_time": "2022-03-26T05:32:54.740Z"
   },
   {
    "duration": 14,
    "start_time": "2022-03-26T05:32:54.756Z"
   },
   {
    "duration": 4,
    "start_time": "2022-03-26T05:32:54.771Z"
   },
   {
    "duration": 22,
    "start_time": "2022-03-26T05:32:54.776Z"
   },
   {
    "duration": 10,
    "start_time": "2022-03-26T05:32:54.799Z"
   },
   {
    "duration": 14,
    "start_time": "2022-03-26T05:32:54.811Z"
   },
   {
    "duration": 9,
    "start_time": "2022-03-26T05:32:54.826Z"
   },
   {
    "duration": 8,
    "start_time": "2022-03-26T05:32:54.836Z"
   },
   {
    "duration": 5,
    "start_time": "2022-03-26T05:32:54.845Z"
   },
   {
    "duration": 9,
    "start_time": "2022-03-26T05:32:54.851Z"
   },
   {
    "duration": 6,
    "start_time": "2022-03-26T05:32:54.861Z"
   },
   {
    "duration": 15,
    "start_time": "2022-03-26T05:36:00.838Z"
   },
   {
    "duration": 413,
    "start_time": "2022-03-26T05:41:51.854Z"
   },
   {
    "duration": 148,
    "start_time": "2022-03-26T05:41:52.269Z"
   },
   {
    "duration": 18,
    "start_time": "2022-03-26T05:41:52.419Z"
   },
   {
    "duration": 29,
    "start_time": "2022-03-26T05:41:52.439Z"
   },
   {
    "duration": 4,
    "start_time": "2022-03-26T05:41:52.481Z"
   },
   {
    "duration": 11,
    "start_time": "2022-03-26T05:41:52.487Z"
   },
   {
    "duration": 6,
    "start_time": "2022-03-26T05:41:52.499Z"
   },
   {
    "duration": 24,
    "start_time": "2022-03-26T05:41:52.507Z"
   },
   {
    "duration": 16,
    "start_time": "2022-03-26T05:41:52.533Z"
   },
   {
    "duration": 23,
    "start_time": "2022-03-26T05:41:52.580Z"
   },
   {
    "duration": 63,
    "start_time": "2022-03-26T05:41:52.604Z"
   },
   {
    "duration": 72,
    "start_time": "2022-03-26T05:41:52.669Z"
   },
   {
    "duration": 66,
    "start_time": "2022-03-26T05:41:52.742Z"
   },
   {
    "duration": 37,
    "start_time": "2022-03-26T05:41:52.809Z"
   },
   {
    "duration": 3,
    "start_time": "2022-03-26T05:41:52.848Z"
   },
   {
    "duration": 12,
    "start_time": "2022-03-26T05:41:52.852Z"
   },
   {
    "duration": 38,
    "start_time": "2022-03-26T05:41:52.880Z"
   },
   {
    "duration": 12,
    "start_time": "2022-03-26T05:41:52.919Z"
   },
   {
    "duration": 10,
    "start_time": "2022-03-26T05:41:52.932Z"
   },
   {
    "duration": 2,
    "start_time": "2022-03-26T05:41:52.944Z"
   },
   {
    "duration": 40,
    "start_time": "2022-03-26T05:41:52.948Z"
   },
   {
    "duration": 12,
    "start_time": "2022-03-26T05:41:52.989Z"
   },
   {
    "duration": 12,
    "start_time": "2022-03-26T05:41:53.003Z"
   },
   {
    "duration": 11,
    "start_time": "2022-03-26T05:41:53.016Z"
   },
   {
    "duration": 17,
    "start_time": "2022-03-26T05:41:53.028Z"
   },
   {
    "duration": 36,
    "start_time": "2022-03-26T05:41:53.047Z"
   },
   {
    "duration": 7,
    "start_time": "2022-03-26T05:41:53.085Z"
   },
   {
    "duration": 12,
    "start_time": "2022-03-26T05:41:53.095Z"
   },
   {
    "duration": 8,
    "start_time": "2022-03-26T05:41:53.109Z"
   },
   {
    "duration": 4,
    "start_time": "2022-03-26T05:41:53.118Z"
   },
   {
    "duration": 20,
    "start_time": "2022-03-26T05:41:53.123Z"
   },
   {
    "duration": 11,
    "start_time": "2022-03-26T05:41:53.144Z"
   },
   {
    "duration": 35,
    "start_time": "2022-03-26T05:41:53.156Z"
   },
   {
    "duration": 10,
    "start_time": "2022-03-26T05:41:53.192Z"
   },
   {
    "duration": 8,
    "start_time": "2022-03-26T05:41:53.203Z"
   },
   {
    "duration": 4,
    "start_time": "2022-03-26T05:41:53.212Z"
   },
   {
    "duration": 7,
    "start_time": "2022-03-26T05:41:53.217Z"
   },
   {
    "duration": 4,
    "start_time": "2022-03-26T05:41:53.225Z"
   },
   {
    "duration": 8,
    "start_time": "2022-03-26T05:43:45.079Z"
   },
   {
    "duration": 394,
    "start_time": "2022-03-26T05:56:56.953Z"
   },
   {
    "duration": 147,
    "start_time": "2022-03-26T05:56:57.349Z"
   },
   {
    "duration": 15,
    "start_time": "2022-03-26T05:56:57.498Z"
   },
   {
    "duration": 25,
    "start_time": "2022-03-26T05:56:57.515Z"
   },
   {
    "duration": 4,
    "start_time": "2022-03-26T05:56:57.541Z"
   },
   {
    "duration": 9,
    "start_time": "2022-03-26T05:56:57.546Z"
   },
   {
    "duration": 26,
    "start_time": "2022-03-26T05:56:57.556Z"
   },
   {
    "duration": 26,
    "start_time": "2022-03-26T05:56:57.584Z"
   },
   {
    "duration": 18,
    "start_time": "2022-03-26T05:56:57.611Z"
   },
   {
    "duration": 22,
    "start_time": "2022-03-26T05:56:57.631Z"
   },
   {
    "duration": 77,
    "start_time": "2022-03-26T05:56:57.654Z"
   },
   {
    "duration": 66,
    "start_time": "2022-03-26T05:56:57.732Z"
   },
   {
    "duration": 53,
    "start_time": "2022-03-26T05:56:57.800Z"
   },
   {
    "duration": 48,
    "start_time": "2022-03-26T05:56:57.854Z"
   },
   {
    "duration": 3,
    "start_time": "2022-03-26T05:56:57.904Z"
   },
   {
    "duration": 12,
    "start_time": "2022-03-26T05:56:57.909Z"
   },
   {
    "duration": 36,
    "start_time": "2022-03-26T05:56:57.922Z"
   },
   {
    "duration": 31,
    "start_time": "2022-03-26T05:56:57.960Z"
   },
   {
    "duration": 11,
    "start_time": "2022-03-26T05:56:57.992Z"
   },
   {
    "duration": 6,
    "start_time": "2022-03-26T05:56:58.004Z"
   },
   {
    "duration": 20,
    "start_time": "2022-03-26T05:56:58.012Z"
   },
   {
    "duration": 12,
    "start_time": "2022-03-26T05:56:58.033Z"
   },
   {
    "duration": 35,
    "start_time": "2022-03-26T05:56:58.047Z"
   },
   {
    "duration": 16,
    "start_time": "2022-03-26T05:56:58.083Z"
   },
   {
    "duration": 15,
    "start_time": "2022-03-26T05:56:58.101Z"
   },
   {
    "duration": 13,
    "start_time": "2022-03-26T05:56:58.118Z"
   },
   {
    "duration": 9,
    "start_time": "2022-03-26T05:56:58.132Z"
   },
   {
    "duration": 44,
    "start_time": "2022-03-26T05:56:58.144Z"
   },
   {
    "duration": 11,
    "start_time": "2022-03-26T05:56:58.190Z"
   },
   {
    "duration": 6,
    "start_time": "2022-03-26T05:56:58.202Z"
   },
   {
    "duration": 23,
    "start_time": "2022-03-26T05:56:58.210Z"
   },
   {
    "duration": 10,
    "start_time": "2022-03-26T05:56:58.235Z"
   },
   {
    "duration": 14,
    "start_time": "2022-03-26T05:56:58.247Z"
   },
   {
    "duration": 12,
    "start_time": "2022-03-26T05:56:58.281Z"
   },
   {
    "duration": 9,
    "start_time": "2022-03-26T05:56:58.294Z"
   },
   {
    "duration": 5,
    "start_time": "2022-03-26T05:56:58.305Z"
   },
   {
    "duration": 8,
    "start_time": "2022-03-26T05:56:58.311Z"
   },
   {
    "duration": 4,
    "start_time": "2022-03-26T05:56:58.320Z"
   },
   {
    "duration": 379,
    "start_time": "2022-03-26T05:59:11.686Z"
   },
   {
    "duration": 133,
    "start_time": "2022-03-26T05:59:12.067Z"
   },
   {
    "duration": 16,
    "start_time": "2022-03-26T05:59:12.201Z"
   },
   {
    "duration": 24,
    "start_time": "2022-03-26T05:59:12.219Z"
   },
   {
    "duration": 4,
    "start_time": "2022-03-26T05:59:12.245Z"
   },
   {
    "duration": 12,
    "start_time": "2022-03-26T05:59:12.250Z"
   },
   {
    "duration": 19,
    "start_time": "2022-03-26T05:59:12.263Z"
   },
   {
    "duration": 22,
    "start_time": "2022-03-26T05:59:12.283Z"
   },
   {
    "duration": 15,
    "start_time": "2022-03-26T05:59:12.306Z"
   },
   {
    "duration": 20,
    "start_time": "2022-03-26T05:59:12.323Z"
   },
   {
    "duration": 75,
    "start_time": "2022-03-26T05:59:12.344Z"
   },
   {
    "duration": 66,
    "start_time": "2022-03-26T05:59:12.420Z"
   },
   {
    "duration": 53,
    "start_time": "2022-03-26T05:59:12.487Z"
   },
   {
    "duration": 49,
    "start_time": "2022-03-26T05:59:12.541Z"
   },
   {
    "duration": 3,
    "start_time": "2022-03-26T05:59:12.591Z"
   },
   {
    "duration": 13,
    "start_time": "2022-03-26T05:59:12.595Z"
   },
   {
    "duration": 35,
    "start_time": "2022-03-26T05:59:12.609Z"
   },
   {
    "duration": 11,
    "start_time": "2022-03-26T05:59:12.646Z"
   },
   {
    "duration": 31,
    "start_time": "2022-03-26T05:59:12.658Z"
   },
   {
    "duration": 3,
    "start_time": "2022-03-26T05:59:12.691Z"
   },
   {
    "duration": 21,
    "start_time": "2022-03-26T05:59:12.696Z"
   },
   {
    "duration": 14,
    "start_time": "2022-03-26T05:59:12.718Z"
   },
   {
    "duration": 12,
    "start_time": "2022-03-26T05:59:12.733Z"
   },
   {
    "duration": 10,
    "start_time": "2022-03-26T05:59:12.747Z"
   },
   {
    "duration": 13,
    "start_time": "2022-03-26T05:59:12.781Z"
   },
   {
    "duration": 11,
    "start_time": "2022-03-26T05:59:12.796Z"
   },
   {
    "duration": 6,
    "start_time": "2022-03-26T05:59:12.809Z"
   },
   {
    "duration": 13,
    "start_time": "2022-03-26T05:59:12.818Z"
   },
   {
    "duration": 8,
    "start_time": "2022-03-26T05:59:12.832Z"
   },
   {
    "duration": 3,
    "start_time": "2022-03-26T05:59:12.842Z"
   },
   {
    "duration": 47,
    "start_time": "2022-03-26T05:59:12.846Z"
   },
   {
    "duration": 11,
    "start_time": "2022-03-26T05:59:12.894Z"
   },
   {
    "duration": 14,
    "start_time": "2022-03-26T05:59:12.906Z"
   },
   {
    "duration": 10,
    "start_time": "2022-03-26T05:59:12.921Z"
   },
   {
    "duration": 7,
    "start_time": "2022-03-26T05:59:12.932Z"
   },
   {
    "duration": 6,
    "start_time": "2022-03-26T05:59:12.940Z"
   },
   {
    "duration": 35,
    "start_time": "2022-03-26T05:59:12.947Z"
   },
   {
    "duration": 4,
    "start_time": "2022-03-26T05:59:12.983Z"
   },
   {
    "duration": 391,
    "start_time": "2022-03-26T06:01:04.475Z"
   },
   {
    "duration": 140,
    "start_time": "2022-03-26T06:01:04.868Z"
   },
   {
    "duration": 15,
    "start_time": "2022-03-26T06:01:05.010Z"
   },
   {
    "duration": 32,
    "start_time": "2022-03-26T06:01:05.026Z"
   },
   {
    "duration": 4,
    "start_time": "2022-03-26T06:01:05.059Z"
   },
   {
    "duration": 24,
    "start_time": "2022-03-26T06:01:05.064Z"
   },
   {
    "duration": 7,
    "start_time": "2022-03-26T06:01:05.089Z"
   },
   {
    "duration": 26,
    "start_time": "2022-03-26T06:01:05.097Z"
   },
   {
    "duration": 15,
    "start_time": "2022-03-26T06:01:05.124Z"
   },
   {
    "duration": 39,
    "start_time": "2022-03-26T06:01:05.142Z"
   },
   {
    "duration": 57,
    "start_time": "2022-03-26T06:01:05.182Z"
   },
   {
    "duration": 73,
    "start_time": "2022-03-26T06:01:05.240Z"
   },
   {
    "duration": 52,
    "start_time": "2022-03-26T06:01:05.315Z"
   },
   {
    "duration": 46,
    "start_time": "2022-03-26T06:01:05.368Z"
   },
   {
    "duration": 2,
    "start_time": "2022-03-26T06:01:05.416Z"
   },
   {
    "duration": 12,
    "start_time": "2022-03-26T06:01:05.420Z"
   },
   {
    "duration": 53,
    "start_time": "2022-03-26T06:01:05.434Z"
   },
   {
    "duration": 11,
    "start_time": "2022-03-26T06:01:05.489Z"
   },
   {
    "duration": 11,
    "start_time": "2022-03-26T06:01:05.501Z"
   },
   {
    "duration": 3,
    "start_time": "2022-03-26T06:01:05.515Z"
   },
   {
    "duration": 18,
    "start_time": "2022-03-26T06:01:05.520Z"
   },
   {
    "duration": 42,
    "start_time": "2022-03-26T06:01:05.540Z"
   },
   {
    "duration": 14,
    "start_time": "2022-03-26T06:01:05.584Z"
   },
   {
    "duration": 13,
    "start_time": "2022-03-26T06:01:05.600Z"
   },
   {
    "duration": 16,
    "start_time": "2022-03-26T06:01:05.615Z"
   },
   {
    "duration": 15,
    "start_time": "2022-03-26T06:01:05.633Z"
   },
   {
    "duration": 38,
    "start_time": "2022-03-26T06:01:05.650Z"
   },
   {
    "duration": 12,
    "start_time": "2022-03-26T06:01:05.691Z"
   },
   {
    "duration": 11,
    "start_time": "2022-03-26T06:01:05.704Z"
   },
   {
    "duration": 3,
    "start_time": "2022-03-26T06:01:05.717Z"
   },
   {
    "duration": 21,
    "start_time": "2022-03-26T06:01:05.722Z"
   },
   {
    "duration": 10,
    "start_time": "2022-03-26T06:01:05.745Z"
   },
   {
    "duration": 15,
    "start_time": "2022-03-26T06:01:05.780Z"
   },
   {
    "duration": 10,
    "start_time": "2022-03-26T06:01:05.796Z"
   },
   {
    "duration": 7,
    "start_time": "2022-03-26T06:01:05.808Z"
   },
   {
    "duration": 5,
    "start_time": "2022-03-26T06:01:05.816Z"
   },
   {
    "duration": 7,
    "start_time": "2022-03-26T06:01:05.822Z"
   },
   {
    "duration": 5,
    "start_time": "2022-03-26T06:01:05.830Z"
   }
  ],
  "colab": {
   "collapsed_sections": [
    "E0vqbgi9ay0H",
    "VUC88oWjTJw2"
   ],
   "name": "yandex_music_project_2021.2.ipynb",
   "provenance": []
  },
  "kernelspec": {
   "display_name": "Python 3 (ipykernel)",
   "language": "python",
   "name": "python3"
  },
  "language_info": {
   "codemirror_mode": {
    "name": "ipython",
    "version": 3
   },
   "file_extension": ".py",
   "mimetype": "text/x-python",
   "name": "python",
   "nbconvert_exporter": "python",
   "pygments_lexer": "ipython3",
   "version": "3.9.12"
  },
  "toc": {
   "base_numbering": 1,
   "nav_menu": {},
   "number_sections": true,
   "sideBar": true,
   "skip_h1_title": true,
   "title_cell": "Содержание",
   "title_sidebar": "Содержание",
   "toc_cell": true,
   "toc_position": {
    "height": "calc(100% - 180px)",
    "left": "10px",
    "top": "150px",
    "width": "236.125px"
   },
   "toc_section_display": true,
   "toc_window_display": true
  },
  "varInspector": {
   "cols": {
    "lenName": 16,
    "lenType": 16,
    "lenVar": 40
   },
   "kernels_config": {
    "python": {
     "delete_cmd_postfix": "",
     "delete_cmd_prefix": "del ",
     "library": "var_list.py",
     "varRefreshCmd": "print(var_dic_list())"
    },
    "r": {
     "delete_cmd_postfix": ") ",
     "delete_cmd_prefix": "rm(",
     "library": "var_list.r",
     "varRefreshCmd": "cat(var_dic_list()) "
    }
   },
   "types_to_exclude": [
    "module",
    "function",
    "builtin_function_or_method",
    "instance",
    "_Feature"
   ],
   "window_display": false
  }
 },
 "nbformat": 4,
 "nbformat_minor": 1
}
