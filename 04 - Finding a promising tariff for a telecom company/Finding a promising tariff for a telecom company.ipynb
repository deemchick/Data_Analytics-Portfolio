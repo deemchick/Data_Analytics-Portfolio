{
 "cells": [
  {
   "cell_type": "markdown",
   "metadata": {},
   "source": [
    "# Определение перспективного тарифа для телеком-компании\n",
    "---"
   ]
  },
  {
   "cell_type": "markdown",
   "metadata": {
    "toc": true
   },
   "source": [
    "<h1>Содержание<span class=\"tocSkip\"></span></h1>\n",
    "<div class=\"toc\"><ul class=\"toc-item\"><li><span><a href=\"#Обзор-данных\" data-toc-modified-id=\"Обзор-данных-1\"><span class=\"toc-item-num\">1&nbsp;&nbsp;</span>Обзор данных</a></span><ul class=\"toc-item\"><li><span><a href=\"#Обзор-данных-о-пользователях\" data-toc-modified-id=\"Обзор-данных-о-пользователях-1.1\"><span class=\"toc-item-num\">1.1&nbsp;&nbsp;</span>Обзор данных о пользователях</a></span></li><li><span><a href=\"#Обзор-данных-о-звонках\" data-toc-modified-id=\"Обзор-данных-о-звонках-1.2\"><span class=\"toc-item-num\">1.2&nbsp;&nbsp;</span>Обзор данных о звонках</a></span></li><li><span><a href=\"#Обзор-данных-о-сообщениях\" data-toc-modified-id=\"Обзор-данных-о-сообщениях-1.3\"><span class=\"toc-item-num\">1.3&nbsp;&nbsp;</span>Обзор данных о сообщениях</a></span></li><li><span><a href=\"#Обзор-данных-об-интернет-сессиях\" data-toc-modified-id=\"Обзор-данных-об-интернет-сессиях-1.4\"><span class=\"toc-item-num\">1.4&nbsp;&nbsp;</span>Обзор данных об интернет-сессиях</a></span></li><li><span><a href=\"#Обзор-данных-о-тарифах\" data-toc-modified-id=\"Обзор-данных-о-тарифах-1.5\"><span class=\"toc-item-num\">1.5&nbsp;&nbsp;</span>Обзор данных о тарифах</a></span></li><li><span><a href=\"#Выводы\" data-toc-modified-id=\"Выводы-1.6\"><span class=\"toc-item-num\">1.6&nbsp;&nbsp;</span>Выводы</a></span></li></ul></li><li><span><a href=\"#Предобработка-данных\" data-toc-modified-id=\"Предобработка-данных-2\"><span class=\"toc-item-num\">2&nbsp;&nbsp;</span>Предобработка данных</a></span><ul class=\"toc-item\"><li><span><a href=\"#Предобработка-данных-о-пользователях\" data-toc-modified-id=\"Предобработка-данных-о-пользователях-2.1\"><span class=\"toc-item-num\">2.1&nbsp;&nbsp;</span>Предобработка данных о пользователях</a></span></li><li><span><a href=\"#Предобработка-данных-о-звонках\" data-toc-modified-id=\"Предобработка-данных-о-звонках-2.2\"><span class=\"toc-item-num\">2.2&nbsp;&nbsp;</span>Предобработка данных о звонках</a></span></li><li><span><a href=\"#Предобработка-данных-о-сообщениях\" data-toc-modified-id=\"Предобработка-данных-о-сообщениях-2.3\"><span class=\"toc-item-num\">2.3&nbsp;&nbsp;</span>Предобработка данных о сообщениях</a></span></li><li><span><a href=\"#Предобработка-данных-об-интернет-сессиях\" data-toc-modified-id=\"Предобработка-данных-об-интернет-сессиях-2.4\"><span class=\"toc-item-num\">2.4&nbsp;&nbsp;</span>Предобработка данных об интернет-сессиях</a></span></li><li><span><a href=\"#Предобработка-данных-о-тарифах\" data-toc-modified-id=\"Предобработка-данных-о-тарифах-2.5\"><span class=\"toc-item-num\">2.5&nbsp;&nbsp;</span>Предобработка данных о тарифах</a></span></li><li><span><a href=\"#Выводы\" data-toc-modified-id=\"Выводы-2.6\"><span class=\"toc-item-num\">2.6&nbsp;&nbsp;</span>Выводы</a></span></li></ul></li><li><span><a href=\"#Обогащение-данных\" data-toc-modified-id=\"Обогащение-данных-3\"><span class=\"toc-item-num\">3&nbsp;&nbsp;</span>Обогащение данных</a></span><ul class=\"toc-item\"><li><span><a href=\"#Добавление-месяца-пользования-услугами\" data-toc-modified-id=\"Добавление-месяца-пользования-услугами-3.1\"><span class=\"toc-item-num\">3.1&nbsp;&nbsp;</span>Добавление месяца пользования услугами</a></span></li><li><span><a href=\"#Количественный-расчёт-пользования-услугами\" data-toc-modified-id=\"Количественный-расчёт-пользования-услугами-3.2\"><span class=\"toc-item-num\">3.2&nbsp;&nbsp;</span>Количественный расчёт пользования услугами</a></span></li><li><span><a href=\"#Рассчёт-затрат-пользователей-за-услуги-по-месяцам\" data-toc-modified-id=\"Рассчёт-затрат-пользователей-за-услуги-по-месяцам-3.3\"><span class=\"toc-item-num\">3.3&nbsp;&nbsp;</span>Рассчёт затрат пользователей за услуги по месяцам</a></span></li><li><span><a href=\"#Выводы\" data-toc-modified-id=\"Выводы-3.4\"><span class=\"toc-item-num\">3.4&nbsp;&nbsp;</span>Выводы</a></span></li></ul></li><li><span><a href=\"#Анализ-данных:-описание-поведения-клиентов-оператора\" data-toc-modified-id=\"Анализ-данных:-описание-поведения-клиентов-оператора-4\"><span class=\"toc-item-num\">4&nbsp;&nbsp;</span>Анализ данных: описание поведения клиентов оператора</a></span><ul class=\"toc-item\"><li><span><a href=\"#Выводы\" data-toc-modified-id=\"Выводы-4.1\"><span class=\"toc-item-num\">4.1&nbsp;&nbsp;</span>Выводы</a></span></li></ul></li><li><span><a href=\"#Проверка-гипотез\" data-toc-modified-id=\"Проверка-гипотез-5\"><span class=\"toc-item-num\">5&nbsp;&nbsp;</span>Проверка гипотез</a></span><ul class=\"toc-item\"><li><span><a href=\"#Проверка-гипотезы-№1\" data-toc-modified-id=\"Проверка-гипотезы-№1-5.1\"><span class=\"toc-item-num\">5.1&nbsp;&nbsp;</span>Проверка гипотезы №1</a></span></li><li><span><a href=\"#Проверка-гипотезы-№2\" data-toc-modified-id=\"Проверка-гипотезы-№2-5.2\"><span class=\"toc-item-num\">5.2&nbsp;&nbsp;</span>Проверка гипотезы №2</a></span></li><li><span><a href=\"#Выводы\" data-toc-modified-id=\"Выводы-5.3\"><span class=\"toc-item-num\">5.3&nbsp;&nbsp;</span>Выводы</a></span></li></ul></li><li><span><a href=\"#Общий-вывод\" data-toc-modified-id=\"Общий-вывод-6\"><span class=\"toc-item-num\">6&nbsp;&nbsp;</span>Общий вывод</a></span></li></ul></div>"
   ]
  },
  {
   "cell_type": "markdown",
   "metadata": {},
   "source": [
    "---"
   ]
  },
  {
   "cell_type": "markdown",
   "metadata": {},
   "source": [
    "Компания «Мегалайн» — федеральный оператор сотовой связи. Клиентам предлагают два тарифных плана: «Смарт» и «Ультра». Чтобы скорректировать рекламный бюджет, коммерческий департамент хочет понять, какой тариф приносит больше денег.\n",
    "\n",
    "Требуется сделать предварительный анализ тарифов на небольшой выборке клиентов «Мегалайна» в количестве 500 пользователей: кто они, откуда, каким тарифом пользуются, сколько звонков и сообщений каждый отправил за 2018 год. Нужно проанализировать поведение клиентов и сделать вывод — какой тариф лучше (выгоднее провайдеру).\n",
    "\n",
    "**Описание тарифов**\n",
    "\n",
    "***Тариф «Смарт»***\n",
    "1.\tЕжемесячная плата: 550 рублей\n",
    "2.\tВключено 500 минут разговора, 50 сообщений и 15 Гб интернет-трафика\n",
    "3.\tСтоимость услуг сверх тарифного пакета:\n",
    "    -\tминута разговора: 3 рубля\n",
    "    -\tсообщение: 3 рубля\n",
    "    -\t1 Гб интернет-трафика: 200 рублей\n",
    "\n",
    "***Тариф «Ультра»***\n",
    "1.\tЕжемесячная плата: 1950 рублей\n",
    "2.\tВключено 3000 минут разговора, 1000 сообщений и 30 Гб интернет-трафика\n",
    "3.\tСтоимость услуг сверх тарифного пакета:\n",
    "    -\tминута разговора: 1 рубль\n",
    "    -\tсообщение: 1 рубль\n",
    "    -\t1 Гб интернет-трафика: 150 рублей\n",
    "\n",
    "**Примечания:**\n",
    "\n",
    "«Мегалайн» всегда округляет секунды до минут, а мегабайты — до гигабайт. Каждый звонок округляется отдельно: даже если он длился всего 1 секунду, будет засчитан как 1 минута.\n",
    "\n",
    "Для веб-трафика отдельные сессии не считаются. Вместо этого общая сумма за месяц округляется в бо́льшую сторону. Если абонент использует 1025 мегабайт в этом месяце, с него возьмут плату за 2 гигабайта.\n",
    "\n",
    "***Данные хранятся в файлах:***\n",
    "-\t/datasets/users.csv\n",
    "-\t/datasets/calls.csv\n",
    "-\t/datasets/messages.csv\n",
    "-\t/datasets/internet.csv\n",
    "-\t/datasets/tariffs.csv\n",
    "\n",
    "---"
   ]
  },
  {
   "cell_type": "markdown",
   "metadata": {},
   "source": [
    "## Обзор данных\n",
    "---"
   ]
  },
  {
   "cell_type": "markdown",
   "metadata": {},
   "source": [
    "Начнём с обзора данных. Для этого последовательно загрузим данные из всех пяти файлов и изучим их.\n",
    "\n",
    "Импотрируем необходимые библиотеки:"
   ]
  },
  {
   "cell_type": "code",
   "execution_count": 1,
   "metadata": {
    "ExecuteTime": {
     "end_time": "2022-05-13T11:06:50.569323Z",
     "start_time": "2022-05-13T11:06:48.026817Z"
    }
   },
   "outputs": [],
   "source": [
    "import pandas as pd\n",
    "import math as mt\n",
    "import numpy as np\n",
    "import matplotlib.pyplot as plt\n",
    "from scipy import stats as st"
   ]
  },
  {
   "cell_type": "markdown",
   "metadata": {},
   "source": [
    "Определим функцию обзора данных:"
   ]
  },
  {
   "cell_type": "code",
   "execution_count": 2,
   "metadata": {
    "ExecuteTime": {
     "end_time": "2022-05-13T11:06:50.600263Z",
     "start_time": "2022-05-13T11:06:50.573277Z"
    },
    "code_folding": [
     8
    ]
   },
   "outputs": [],
   "source": [
    "# определение функции обзора данных\n",
    "# =================================\n",
    "# на вход подаётся датафрейм df\n",
    "# на выходе выводится:\n",
    "#     - 10 случайных строк df\n",
    "#     - информация df.info()\n",
    "#     - количество явных дубликатов в строках df\n",
    "#     - процент пропусков данных в столбцах df\n",
    "def data_observe(df):\n",
    "    print('Произвольные 10 строк таблицы:')\n",
    "    if len(df) >= 10:\n",
    "        display(df.sample(10))\n",
    "    else:\n",
    "        display(df)\n",
    "\n",
    "    print('\\nИнформация о таблице:')\n",
    "    df.info()\n",
    "    \n",
    "    print('\\nКоличество явных дубликатов в таблице:')\n",
    "    print(df.duplicated().sum())\n",
    "   \n",
    "    print('\\nПроцент пропусков в столбцах:')\n",
    "    display(pd.DataFrame(\n",
    "                round((df.isna().mean()*100),2), columns=['NaNs, %'])\n",
    "                .sort_values(by='NaNs, %', ascending=False\n",
    "            )\n",
    "        .style.format('{:.2f}')\n",
    "        .background_gradient('coolwarm')\n",
    "    )"
   ]
  },
  {
   "cell_type": "markdown",
   "metadata": {},
   "source": [
    "### Обзор данных о пользователях"
   ]
  },
  {
   "cell_type": "markdown",
   "metadata": {},
   "source": [
    "Откроем файл `users.csv` и выведем случайные 10 строк:"
   ]
  },
  {
   "cell_type": "code",
   "execution_count": 3,
   "metadata": {
    "ExecuteTime": {
     "end_time": "2022-05-13T11:06:50.833128Z",
     "start_time": "2022-05-13T11:06:50.603259Z"
    }
   },
   "outputs": [
    {
     "name": "stdout",
     "output_type": "stream",
     "text": [
      "Произвольные 10 строк таблицы:\n"
     ]
    },
    {
     "data": {
      "text/html": [
       "<div>\n",
       "<style scoped>\n",
       "    .dataframe tbody tr th:only-of-type {\n",
       "        vertical-align: middle;\n",
       "    }\n",
       "\n",
       "    .dataframe tbody tr th {\n",
       "        vertical-align: top;\n",
       "    }\n",
       "\n",
       "    .dataframe thead th {\n",
       "        text-align: right;\n",
       "    }\n",
       "</style>\n",
       "<table border=\"1\" class=\"dataframe\">\n",
       "  <thead>\n",
       "    <tr style=\"text-align: right;\">\n",
       "      <th></th>\n",
       "      <th>user_id</th>\n",
       "      <th>age</th>\n",
       "      <th>churn_date</th>\n",
       "      <th>city</th>\n",
       "      <th>first_name</th>\n",
       "      <th>last_name</th>\n",
       "      <th>reg_date</th>\n",
       "      <th>tariff</th>\n",
       "    </tr>\n",
       "  </thead>\n",
       "  <tbody>\n",
       "    <tr>\n",
       "      <th>294</th>\n",
       "      <td>1294</td>\n",
       "      <td>66</td>\n",
       "      <td>NaN</td>\n",
       "      <td>Владивосток</td>\n",
       "      <td>Дебора</td>\n",
       "      <td>Асафьева</td>\n",
       "      <td>2018-02-20</td>\n",
       "      <td>ultra</td>\n",
       "    </tr>\n",
       "    <tr>\n",
       "      <th>318</th>\n",
       "      <td>1318</td>\n",
       "      <td>53</td>\n",
       "      <td>NaN</td>\n",
       "      <td>Курган</td>\n",
       "      <td>Марьяна</td>\n",
       "      <td>Анищенко</td>\n",
       "      <td>2018-03-22</td>\n",
       "      <td>ultra</td>\n",
       "    </tr>\n",
       "    <tr>\n",
       "      <th>495</th>\n",
       "      <td>1495</td>\n",
       "      <td>65</td>\n",
       "      <td>NaN</td>\n",
       "      <td>Иркутск</td>\n",
       "      <td>Авксентий</td>\n",
       "      <td>Фокин</td>\n",
       "      <td>2018-08-28</td>\n",
       "      <td>ultra</td>\n",
       "    </tr>\n",
       "    <tr>\n",
       "      <th>466</th>\n",
       "      <td>1466</td>\n",
       "      <td>37</td>\n",
       "      <td>NaN</td>\n",
       "      <td>Новосибирск</td>\n",
       "      <td>Рубен</td>\n",
       "      <td>Шевцов</td>\n",
       "      <td>2018-02-28</td>\n",
       "      <td>ultra</td>\n",
       "    </tr>\n",
       "    <tr>\n",
       "      <th>183</th>\n",
       "      <td>1183</td>\n",
       "      <td>20</td>\n",
       "      <td>NaN</td>\n",
       "      <td>Владивосток</td>\n",
       "      <td>Снежана</td>\n",
       "      <td>Озерова</td>\n",
       "      <td>2018-07-12</td>\n",
       "      <td>smart</td>\n",
       "    </tr>\n",
       "    <tr>\n",
       "      <th>32</th>\n",
       "      <td>1032</td>\n",
       "      <td>31</td>\n",
       "      <td>NaN</td>\n",
       "      <td>Ульяновск</td>\n",
       "      <td>Инна</td>\n",
       "      <td>Игнатьева</td>\n",
       "      <td>2018-01-04</td>\n",
       "      <td>smart</td>\n",
       "    </tr>\n",
       "    <tr>\n",
       "      <th>12</th>\n",
       "      <td>1012</td>\n",
       "      <td>38</td>\n",
       "      <td>NaN</td>\n",
       "      <td>Санкт-Петербург</td>\n",
       "      <td>Варлам</td>\n",
       "      <td>Соловьев</td>\n",
       "      <td>2018-03-28</td>\n",
       "      <td>smart</td>\n",
       "    </tr>\n",
       "    <tr>\n",
       "      <th>158</th>\n",
       "      <td>1158</td>\n",
       "      <td>45</td>\n",
       "      <td>NaN</td>\n",
       "      <td>Новокузнецк</td>\n",
       "      <td>Игорь</td>\n",
       "      <td>Андрейчук</td>\n",
       "      <td>2018-02-03</td>\n",
       "      <td>smart</td>\n",
       "    </tr>\n",
       "    <tr>\n",
       "      <th>387</th>\n",
       "      <td>1387</td>\n",
       "      <td>74</td>\n",
       "      <td>NaN</td>\n",
       "      <td>Краснодар</td>\n",
       "      <td>Габриель</td>\n",
       "      <td>Зуев</td>\n",
       "      <td>2018-12-21</td>\n",
       "      <td>smart</td>\n",
       "    </tr>\n",
       "    <tr>\n",
       "      <th>212</th>\n",
       "      <td>1212</td>\n",
       "      <td>21</td>\n",
       "      <td>NaN</td>\n",
       "      <td>Саранск</td>\n",
       "      <td>Руслан</td>\n",
       "      <td>Пономарев</td>\n",
       "      <td>2018-11-09</td>\n",
       "      <td>smart</td>\n",
       "    </tr>\n",
       "  </tbody>\n",
       "</table>\n",
       "</div>"
      ],
      "text/plain": [
       "     user_id  age churn_date             city first_name  last_name  \\\n",
       "294     1294   66        NaN      Владивосток     Дебора   Асафьева   \n",
       "318     1318   53        NaN           Курган    Марьяна   Анищенко   \n",
       "495     1495   65        NaN          Иркутск  Авксентий      Фокин   \n",
       "466     1466   37        NaN      Новосибирск      Рубен     Шевцов   \n",
       "183     1183   20        NaN      Владивосток    Снежана    Озерова   \n",
       "32      1032   31        NaN        Ульяновск       Инна  Игнатьева   \n",
       "12      1012   38        NaN  Санкт-Петербург     Варлам   Соловьев   \n",
       "158     1158   45        NaN      Новокузнецк      Игорь  Андрейчук   \n",
       "387     1387   74        NaN        Краснодар   Габриель       Зуев   \n",
       "212     1212   21        NaN          Саранск     Руслан  Пономарев   \n",
       "\n",
       "       reg_date tariff  \n",
       "294  2018-02-20  ultra  \n",
       "318  2018-03-22  ultra  \n",
       "495  2018-08-28  ultra  \n",
       "466  2018-02-28  ultra  \n",
       "183  2018-07-12  smart  \n",
       "32   2018-01-04  smart  \n",
       "12   2018-03-28  smart  \n",
       "158  2018-02-03  smart  \n",
       "387  2018-12-21  smart  \n",
       "212  2018-11-09  smart  "
      ]
     },
     "metadata": {},
     "output_type": "display_data"
    },
    {
     "name": "stdout",
     "output_type": "stream",
     "text": [
      "\n",
      "Информация о таблице:\n",
      "<class 'pandas.core.frame.DataFrame'>\n",
      "RangeIndex: 500 entries, 0 to 499\n",
      "Data columns (total 8 columns):\n",
      " #   Column      Non-Null Count  Dtype \n",
      "---  ------      --------------  ----- \n",
      " 0   user_id     500 non-null    int64 \n",
      " 1   age         500 non-null    int64 \n",
      " 2   churn_date  38 non-null     object\n",
      " 3   city        500 non-null    object\n",
      " 4   first_name  500 non-null    object\n",
      " 5   last_name   500 non-null    object\n",
      " 6   reg_date    500 non-null    object\n",
      " 7   tariff      500 non-null    object\n",
      "dtypes: int64(2), object(6)\n",
      "memory usage: 31.4+ KB\n",
      "\n",
      "Количество явных дубликатов в таблице:\n",
      "0\n",
      "\n",
      "Процент пропусков в столбцах:\n"
     ]
    },
    {
     "data": {
      "text/html": [
       "<style  type=\"text/css\" >\n",
       "#T_23f46_row0_col0{\n",
       "            background-color:  #b40426;\n",
       "            color:  #f1f1f1;\n",
       "        }#T_23f46_row1_col0,#T_23f46_row2_col0,#T_23f46_row3_col0,#T_23f46_row4_col0,#T_23f46_row5_col0,#T_23f46_row6_col0,#T_23f46_row7_col0{\n",
       "            background-color:  #3b4cc0;\n",
       "            color:  #f1f1f1;\n",
       "        }</style><table id=\"T_23f46_\" ><thead>    <tr>        <th class=\"blank level0\" ></th>        <th class=\"col_heading level0 col0\" >NaNs, %</th>    </tr></thead><tbody>\n",
       "                <tr>\n",
       "                        <th id=\"T_23f46_level0_row0\" class=\"row_heading level0 row0\" >churn_date</th>\n",
       "                        <td id=\"T_23f46_row0_col0\" class=\"data row0 col0\" >92.40</td>\n",
       "            </tr>\n",
       "            <tr>\n",
       "                        <th id=\"T_23f46_level0_row1\" class=\"row_heading level0 row1\" >user_id</th>\n",
       "                        <td id=\"T_23f46_row1_col0\" class=\"data row1 col0\" >0.00</td>\n",
       "            </tr>\n",
       "            <tr>\n",
       "                        <th id=\"T_23f46_level0_row2\" class=\"row_heading level0 row2\" >age</th>\n",
       "                        <td id=\"T_23f46_row2_col0\" class=\"data row2 col0\" >0.00</td>\n",
       "            </tr>\n",
       "            <tr>\n",
       "                        <th id=\"T_23f46_level0_row3\" class=\"row_heading level0 row3\" >city</th>\n",
       "                        <td id=\"T_23f46_row3_col0\" class=\"data row3 col0\" >0.00</td>\n",
       "            </tr>\n",
       "            <tr>\n",
       "                        <th id=\"T_23f46_level0_row4\" class=\"row_heading level0 row4\" >first_name</th>\n",
       "                        <td id=\"T_23f46_row4_col0\" class=\"data row4 col0\" >0.00</td>\n",
       "            </tr>\n",
       "            <tr>\n",
       "                        <th id=\"T_23f46_level0_row5\" class=\"row_heading level0 row5\" >last_name</th>\n",
       "                        <td id=\"T_23f46_row5_col0\" class=\"data row5 col0\" >0.00</td>\n",
       "            </tr>\n",
       "            <tr>\n",
       "                        <th id=\"T_23f46_level0_row6\" class=\"row_heading level0 row6\" >reg_date</th>\n",
       "                        <td id=\"T_23f46_row6_col0\" class=\"data row6 col0\" >0.00</td>\n",
       "            </tr>\n",
       "            <tr>\n",
       "                        <th id=\"T_23f46_level0_row7\" class=\"row_heading level0 row7\" >tariff</th>\n",
       "                        <td id=\"T_23f46_row7_col0\" class=\"data row7 col0\" >0.00</td>\n",
       "            </tr>\n",
       "    </tbody></table>"
      ],
      "text/plain": [
       "<pandas.io.formats.style.Styler at 0x7f83482a4df0>"
      ]
     },
     "metadata": {},
     "output_type": "display_data"
    }
   ],
   "source": [
    "try:\n",
    "    users = pd.read_csv('/datasets/users.csv')\n",
    "except:\n",
    "    users = pd.read_csv('users.csv')\n",
    "    \n",
    "data_observe(users)"
   ]
  },
  {
   "cell_type": "markdown",
   "metadata": {},
   "source": [
    "Описание данных таблицы `users` (информация о пользователях):\n",
    "- user_id — уникальный идентификатор пользователя (подразумевается целое число)\n",
    "- first_name — имя пользователя\n",
    "- last_name — фамилия пользователя\n",
    "- age — возраст пользователя (годы, целое)\n",
    "- reg_date — дата подключения тарифа (день, месяц, год)\n",
    "- churn_date — дата прекращения пользования тарифом (если значение пропущено, то тариф ещё действовал на момент выгрузки данных)\n",
    "- city — город проживания пользователя\n",
    "- tariff — название тарифного плана"
   ]
  },
  {
   "cell_type": "markdown",
   "metadata": {},
   "source": [
    "В таблице объёмом 500 строк, 8 столбцов содержатся следующие типы данных: int64, object.\n",
    "\n",
    "Столбцы поименованы корректно. Дубликатов строк нет.\n",
    "\n",
    "Пропуски наблюдаются только в столбце `'churn_date'`, что означает, что подавляющее большинство представленных пользователей действующие. В остальных столбцах пропусков нет, Устранять пропуски не требуется.\n",
    "\n",
    "Для экономии места поля `'user_id'` и `'age'` можно привести к типу int32.\n",
    "\n",
    "Поле `'reg_date'` и непустые значения поля `'churn_date'` требуется привести к формату даты на этапе предобработки."
   ]
  },
  {
   "cell_type": "markdown",
   "metadata": {},
   "source": [
    "### Обзор данных о звонках"
   ]
  },
  {
   "cell_type": "markdown",
   "metadata": {},
   "source": [
    "Откроем файл `calls.csv` и выведем случайные 10 строк:"
   ]
  },
  {
   "cell_type": "code",
   "execution_count": 4,
   "metadata": {
    "ExecuteTime": {
     "end_time": "2022-05-13T11:06:51.450776Z",
     "start_time": "2022-05-13T11:06:50.839126Z"
    }
   },
   "outputs": [
    {
     "name": "stdout",
     "output_type": "stream",
     "text": [
      "Произвольные 10 строк таблицы:\n"
     ]
    },
    {
     "data": {
      "text/html": [
       "<div>\n",
       "<style scoped>\n",
       "    .dataframe tbody tr th:only-of-type {\n",
       "        vertical-align: middle;\n",
       "    }\n",
       "\n",
       "    .dataframe tbody tr th {\n",
       "        vertical-align: top;\n",
       "    }\n",
       "\n",
       "    .dataframe thead th {\n",
       "        text-align: right;\n",
       "    }\n",
       "</style>\n",
       "<table border=\"1\" class=\"dataframe\">\n",
       "  <thead>\n",
       "    <tr style=\"text-align: right;\">\n",
       "      <th></th>\n",
       "      <th>id</th>\n",
       "      <th>call_date</th>\n",
       "      <th>duration</th>\n",
       "      <th>user_id</th>\n",
       "    </tr>\n",
       "  </thead>\n",
       "  <tbody>\n",
       "    <tr>\n",
       "      <th>58734</th>\n",
       "      <td>1148_197</td>\n",
       "      <td>2018-11-21</td>\n",
       "      <td>4.40</td>\n",
       "      <td>1148</td>\n",
       "    </tr>\n",
       "    <tr>\n",
       "      <th>2811</th>\n",
       "      <td>1007_14</td>\n",
       "      <td>2018-12-01</td>\n",
       "      <td>0.00</td>\n",
       "      <td>1007</td>\n",
       "    </tr>\n",
       "    <tr>\n",
       "      <th>56075</th>\n",
       "      <td>1143_139</td>\n",
       "      <td>2018-05-13</td>\n",
       "      <td>12.68</td>\n",
       "      <td>1143</td>\n",
       "    </tr>\n",
       "    <tr>\n",
       "      <th>74179</th>\n",
       "      <td>1186_1</td>\n",
       "      <td>2018-09-23</td>\n",
       "      <td>4.89</td>\n",
       "      <td>1186</td>\n",
       "    </tr>\n",
       "    <tr>\n",
       "      <th>66668</th>\n",
       "      <td>1169_127</td>\n",
       "      <td>2018-07-12</td>\n",
       "      <td>6.15</td>\n",
       "      <td>1169</td>\n",
       "    </tr>\n",
       "    <tr>\n",
       "      <th>64748</th>\n",
       "      <td>1167_199</td>\n",
       "      <td>2018-11-11</td>\n",
       "      <td>10.55</td>\n",
       "      <td>1167</td>\n",
       "    </tr>\n",
       "    <tr>\n",
       "      <th>176680</th>\n",
       "      <td>1436_125</td>\n",
       "      <td>2018-10-03</td>\n",
       "      <td>0.00</td>\n",
       "      <td>1436</td>\n",
       "    </tr>\n",
       "    <tr>\n",
       "      <th>153406</th>\n",
       "      <td>1381_281</td>\n",
       "      <td>2018-01-19</td>\n",
       "      <td>0.00</td>\n",
       "      <td>1381</td>\n",
       "    </tr>\n",
       "    <tr>\n",
       "      <th>163251</th>\n",
       "      <td>1402_74</td>\n",
       "      <td>2018-04-27</td>\n",
       "      <td>15.69</td>\n",
       "      <td>1402</td>\n",
       "    </tr>\n",
       "    <tr>\n",
       "      <th>191019</th>\n",
       "      <td>1469_638</td>\n",
       "      <td>2018-07-29</td>\n",
       "      <td>2.06</td>\n",
       "      <td>1469</td>\n",
       "    </tr>\n",
       "  </tbody>\n",
       "</table>\n",
       "</div>"
      ],
      "text/plain": [
       "              id   call_date  duration  user_id\n",
       "58734   1148_197  2018-11-21      4.40     1148\n",
       "2811     1007_14  2018-12-01      0.00     1007\n",
       "56075   1143_139  2018-05-13     12.68     1143\n",
       "74179     1186_1  2018-09-23      4.89     1186\n",
       "66668   1169_127  2018-07-12      6.15     1169\n",
       "64748   1167_199  2018-11-11     10.55     1167\n",
       "176680  1436_125  2018-10-03      0.00     1436\n",
       "153406  1381_281  2018-01-19      0.00     1381\n",
       "163251   1402_74  2018-04-27     15.69     1402\n",
       "191019  1469_638  2018-07-29      2.06     1469"
      ]
     },
     "metadata": {},
     "output_type": "display_data"
    },
    {
     "name": "stdout",
     "output_type": "stream",
     "text": [
      "\n",
      "Информация о таблице:\n",
      "<class 'pandas.core.frame.DataFrame'>\n",
      "RangeIndex: 202607 entries, 0 to 202606\n",
      "Data columns (total 4 columns):\n",
      " #   Column     Non-Null Count   Dtype  \n",
      "---  ------     --------------   -----  \n",
      " 0   id         202607 non-null  object \n",
      " 1   call_date  202607 non-null  object \n",
      " 2   duration   202607 non-null  float64\n",
      " 3   user_id    202607 non-null  int64  \n",
      "dtypes: float64(1), int64(1), object(2)\n",
      "memory usage: 6.2+ MB\n",
      "\n",
      "Количество явных дубликатов в таблице:\n",
      "0\n",
      "\n",
      "Процент пропусков в столбцах:\n"
     ]
    },
    {
     "data": {
      "text/html": [
       "<style  type=\"text/css\" >\n",
       "#T_6e841_row0_col0,#T_6e841_row1_col0,#T_6e841_row2_col0,#T_6e841_row3_col0{\n",
       "            background-color:  #3b4cc0;\n",
       "            color:  #f1f1f1;\n",
       "        }</style><table id=\"T_6e841_\" ><thead>    <tr>        <th class=\"blank level0\" ></th>        <th class=\"col_heading level0 col0\" >NaNs, %</th>    </tr></thead><tbody>\n",
       "                <tr>\n",
       "                        <th id=\"T_6e841_level0_row0\" class=\"row_heading level0 row0\" >id</th>\n",
       "                        <td id=\"T_6e841_row0_col0\" class=\"data row0 col0\" >0.00</td>\n",
       "            </tr>\n",
       "            <tr>\n",
       "                        <th id=\"T_6e841_level0_row1\" class=\"row_heading level0 row1\" >call_date</th>\n",
       "                        <td id=\"T_6e841_row1_col0\" class=\"data row1 col0\" >0.00</td>\n",
       "            </tr>\n",
       "            <tr>\n",
       "                        <th id=\"T_6e841_level0_row2\" class=\"row_heading level0 row2\" >duration</th>\n",
       "                        <td id=\"T_6e841_row2_col0\" class=\"data row2 col0\" >0.00</td>\n",
       "            </tr>\n",
       "            <tr>\n",
       "                        <th id=\"T_6e841_level0_row3\" class=\"row_heading level0 row3\" >user_id</th>\n",
       "                        <td id=\"T_6e841_row3_col0\" class=\"data row3 col0\" >0.00</td>\n",
       "            </tr>\n",
       "    </tbody></table>"
      ],
      "text/plain": [
       "<pandas.io.formats.style.Styler at 0x7f82ca65f490>"
      ]
     },
     "metadata": {},
     "output_type": "display_data"
    }
   ],
   "source": [
    "try:\n",
    "    calls = pd.read_csv('/datasets/calls.csv')\n",
    "except:\n",
    "    calls = pd.read_csv('calls.csv')\n",
    "    \n",
    "data_observe(calls)"
   ]
  },
  {
   "cell_type": "markdown",
   "metadata": {},
   "source": [
    "Описание данных таблицы `calls` (информация о звонках):\n",
    "- id — уникальный номер звонка\n",
    "- call_date — дата звонка\n",
    "- duration — длительность звонка в минутах\n",
    "- user_id — идентификатор пользователя, сделавшего звонок"
   ]
  },
  {
   "cell_type": "markdown",
   "metadata": {},
   "source": [
    "В таблице объёмом 202607 строк, 4 столбца содержатся следующие типы данных: int64, float64, object.\n",
    "\n",
    "Столбцы поименованы корректно. Пропуски данных и дубликаты строк не наблюдаются.\n",
    "\n",
    "Идентификатор звонка имеет строковый тип.\n",
    "\n",
    "С учётом замечаний в контексте исследования о порядке округления звонков следует привести поле `'duration'` к целому типу с округлением \"вверх\".\n",
    "\n",
    "Для экономии места поле `'user_id'` можно привести к типу int32.\n",
    "\n",
    "Поле `'call_date'` следует привести к формату даты."
   ]
  },
  {
   "cell_type": "markdown",
   "metadata": {},
   "source": [
    "### Обзор данных о сообщениях"
   ]
  },
  {
   "cell_type": "markdown",
   "metadata": {},
   "source": [
    "Откроем файл `messages.csv` и выведем случайные 10 строк:"
   ]
  },
  {
   "cell_type": "code",
   "execution_count": 5,
   "metadata": {
    "ExecuteTime": {
     "end_time": "2022-05-13T11:06:51.884529Z",
     "start_time": "2022-05-13T11:06:51.453773Z"
    }
   },
   "outputs": [
    {
     "name": "stdout",
     "output_type": "stream",
     "text": [
      "Произвольные 10 строк таблицы:\n"
     ]
    },
    {
     "data": {
      "text/html": [
       "<div>\n",
       "<style scoped>\n",
       "    .dataframe tbody tr th:only-of-type {\n",
       "        vertical-align: middle;\n",
       "    }\n",
       "\n",
       "    .dataframe tbody tr th {\n",
       "        vertical-align: top;\n",
       "    }\n",
       "\n",
       "    .dataframe thead th {\n",
       "        text-align: right;\n",
       "    }\n",
       "</style>\n",
       "<table border=\"1\" class=\"dataframe\">\n",
       "  <thead>\n",
       "    <tr style=\"text-align: right;\">\n",
       "      <th></th>\n",
       "      <th>id</th>\n",
       "      <th>message_date</th>\n",
       "      <th>user_id</th>\n",
       "    </tr>\n",
       "  </thead>\n",
       "  <tbody>\n",
       "    <tr>\n",
       "      <th>106033</th>\n",
       "      <td>1430_108</td>\n",
       "      <td>2018-10-05</td>\n",
       "      <td>1430</td>\n",
       "    </tr>\n",
       "    <tr>\n",
       "      <th>71402</th>\n",
       "      <td>1302_230</td>\n",
       "      <td>2018-08-18</td>\n",
       "      <td>1302</td>\n",
       "    </tr>\n",
       "    <tr>\n",
       "      <th>7129</th>\n",
       "      <td>1030_40</td>\n",
       "      <td>2018-10-22</td>\n",
       "      <td>1030</td>\n",
       "    </tr>\n",
       "    <tr>\n",
       "      <th>116747</th>\n",
       "      <td>1474_133</td>\n",
       "      <td>2018-12-26</td>\n",
       "      <td>1474</td>\n",
       "    </tr>\n",
       "    <tr>\n",
       "      <th>55547</th>\n",
       "      <td>1245_57</td>\n",
       "      <td>2018-11-22</td>\n",
       "      <td>1245</td>\n",
       "    </tr>\n",
       "    <tr>\n",
       "      <th>20594</th>\n",
       "      <td>1089_597</td>\n",
       "      <td>2018-10-02</td>\n",
       "      <td>1089</td>\n",
       "    </tr>\n",
       "    <tr>\n",
       "      <th>5062</th>\n",
       "      <td>1021_218</td>\n",
       "      <td>2018-10-18</td>\n",
       "      <td>1021</td>\n",
       "    </tr>\n",
       "    <tr>\n",
       "      <th>63883</th>\n",
       "      <td>1277_560</td>\n",
       "      <td>2018-12-18</td>\n",
       "      <td>1277</td>\n",
       "    </tr>\n",
       "    <tr>\n",
       "      <th>111883</th>\n",
       "      <td>1452_272</td>\n",
       "      <td>2018-10-24</td>\n",
       "      <td>1452</td>\n",
       "    </tr>\n",
       "    <tr>\n",
       "      <th>71924</th>\n",
       "      <td>1302_752</td>\n",
       "      <td>2018-04-09</td>\n",
       "      <td>1302</td>\n",
       "    </tr>\n",
       "  </tbody>\n",
       "</table>\n",
       "</div>"
      ],
      "text/plain": [
       "              id message_date  user_id\n",
       "106033  1430_108   2018-10-05     1430\n",
       "71402   1302_230   2018-08-18     1302\n",
       "7129     1030_40   2018-10-22     1030\n",
       "116747  1474_133   2018-12-26     1474\n",
       "55547    1245_57   2018-11-22     1245\n",
       "20594   1089_597   2018-10-02     1089\n",
       "5062    1021_218   2018-10-18     1021\n",
       "63883   1277_560   2018-12-18     1277\n",
       "111883  1452_272   2018-10-24     1452\n",
       "71924   1302_752   2018-04-09     1302"
      ]
     },
     "metadata": {},
     "output_type": "display_data"
    },
    {
     "name": "stdout",
     "output_type": "stream",
     "text": [
      "\n",
      "Информация о таблице:\n",
      "<class 'pandas.core.frame.DataFrame'>\n",
      "RangeIndex: 123036 entries, 0 to 123035\n",
      "Data columns (total 3 columns):\n",
      " #   Column        Non-Null Count   Dtype \n",
      "---  ------        --------------   ----- \n",
      " 0   id            123036 non-null  object\n",
      " 1   message_date  123036 non-null  object\n",
      " 2   user_id       123036 non-null  int64 \n",
      "dtypes: int64(1), object(2)\n",
      "memory usage: 2.8+ MB\n",
      "\n",
      "Количество явных дубликатов в таблице:\n",
      "0\n",
      "\n",
      "Процент пропусков в столбцах:\n"
     ]
    },
    {
     "data": {
      "text/html": [
       "<style  type=\"text/css\" >\n",
       "#T_f97cb_row0_col0,#T_f97cb_row1_col0,#T_f97cb_row2_col0{\n",
       "            background-color:  #3b4cc0;\n",
       "            color:  #f1f1f1;\n",
       "        }</style><table id=\"T_f97cb_\" ><thead>    <tr>        <th class=\"blank level0\" ></th>        <th class=\"col_heading level0 col0\" >NaNs, %</th>    </tr></thead><tbody>\n",
       "                <tr>\n",
       "                        <th id=\"T_f97cb_level0_row0\" class=\"row_heading level0 row0\" >id</th>\n",
       "                        <td id=\"T_f97cb_row0_col0\" class=\"data row0 col0\" >0.00</td>\n",
       "            </tr>\n",
       "            <tr>\n",
       "                        <th id=\"T_f97cb_level0_row1\" class=\"row_heading level0 row1\" >message_date</th>\n",
       "                        <td id=\"T_f97cb_row1_col0\" class=\"data row1 col0\" >0.00</td>\n",
       "            </tr>\n",
       "            <tr>\n",
       "                        <th id=\"T_f97cb_level0_row2\" class=\"row_heading level0 row2\" >user_id</th>\n",
       "                        <td id=\"T_f97cb_row2_col0\" class=\"data row2 col0\" >0.00</td>\n",
       "            </tr>\n",
       "    </tbody></table>"
      ],
      "text/plain": [
       "<pandas.io.formats.style.Styler at 0x7f82ca263fd0>"
      ]
     },
     "metadata": {},
     "output_type": "display_data"
    }
   ],
   "source": [
    "try:\n",
    "    messages = pd.read_csv('/datasets/messages.csv')\n",
    "except:\n",
    "    messages = pd.read_csv('messages.csv')\n",
    "    \n",
    "data_observe(messages)"
   ]
  },
  {
   "cell_type": "markdown",
   "metadata": {},
   "source": [
    "Описание данных таблицы `messages` (информация о сообщениях):\n",
    "- id — уникальный номер сообщения\n",
    "- message_date — дата сообщения\n",
    "- user_id — идентификатор пользователя, отправившего сообщение"
   ]
  },
  {
   "cell_type": "markdown",
   "metadata": {},
   "source": [
    "В таблице объёмом 123036 строк, 3 столбца содержатся следующие типы данных: int64, object.\n",
    "\n",
    "Столбцы поименованы корректно. Пропуски данных и дубликаты строк не наблюдаются.\n",
    "\n",
    "Идентификатор сообщения имеет строковый тип.\n",
    "\n",
    "Для экономии места поле `'user_id'` можно привести к типу int32.\n",
    "\n",
    "Поле `'message_date'` следует привести к формату даты."
   ]
  },
  {
   "cell_type": "markdown",
   "metadata": {},
   "source": [
    "### Обзор данных об интернет-сессиях"
   ]
  },
  {
   "cell_type": "markdown",
   "metadata": {},
   "source": [
    "Откроем файл `internet.csv` и выведем случайные 10 строк:"
   ]
  },
  {
   "cell_type": "code",
   "execution_count": 6,
   "metadata": {
    "ExecuteTime": {
     "end_time": "2022-05-13T11:06:52.415223Z",
     "start_time": "2022-05-13T11:06:51.888525Z"
    }
   },
   "outputs": [
    {
     "name": "stdout",
     "output_type": "stream",
     "text": [
      "Произвольные 10 строк таблицы:\n"
     ]
    },
    {
     "data": {
      "text/html": [
       "<div>\n",
       "<style scoped>\n",
       "    .dataframe tbody tr th:only-of-type {\n",
       "        vertical-align: middle;\n",
       "    }\n",
       "\n",
       "    .dataframe tbody tr th {\n",
       "        vertical-align: top;\n",
       "    }\n",
       "\n",
       "    .dataframe thead th {\n",
       "        text-align: right;\n",
       "    }\n",
       "</style>\n",
       "<table border=\"1\" class=\"dataframe\">\n",
       "  <thead>\n",
       "    <tr style=\"text-align: right;\">\n",
       "      <th></th>\n",
       "      <th>Unnamed: 0</th>\n",
       "      <th>id</th>\n",
       "      <th>mb_used</th>\n",
       "      <th>session_date</th>\n",
       "      <th>user_id</th>\n",
       "    </tr>\n",
       "  </thead>\n",
       "  <tbody>\n",
       "    <tr>\n",
       "      <th>20217</th>\n",
       "      <td>20217</td>\n",
       "      <td>1067_318</td>\n",
       "      <td>0.00</td>\n",
       "      <td>2018-06-06</td>\n",
       "      <td>1067</td>\n",
       "    </tr>\n",
       "    <tr>\n",
       "      <th>24859</th>\n",
       "      <td>24859</td>\n",
       "      <td>1086_66</td>\n",
       "      <td>694.68</td>\n",
       "      <td>2018-06-09</td>\n",
       "      <td>1086</td>\n",
       "    </tr>\n",
       "    <tr>\n",
       "      <th>101921</th>\n",
       "      <td>101921</td>\n",
       "      <td>1341_36</td>\n",
       "      <td>664.39</td>\n",
       "      <td>2018-11-16</td>\n",
       "      <td>1341</td>\n",
       "    </tr>\n",
       "    <tr>\n",
       "      <th>89330</th>\n",
       "      <td>89330</td>\n",
       "      <td>1302_130</td>\n",
       "      <td>0.00</td>\n",
       "      <td>2018-11-04</td>\n",
       "      <td>1302</td>\n",
       "    </tr>\n",
       "    <tr>\n",
       "      <th>146026</th>\n",
       "      <td>146026</td>\n",
       "      <td>1489_35</td>\n",
       "      <td>320.54</td>\n",
       "      <td>2018-10-22</td>\n",
       "      <td>1489</td>\n",
       "    </tr>\n",
       "    <tr>\n",
       "      <th>36795</th>\n",
       "      <td>36795</td>\n",
       "      <td>1127_145</td>\n",
       "      <td>53.51</td>\n",
       "      <td>2018-09-26</td>\n",
       "      <td>1127</td>\n",
       "    </tr>\n",
       "    <tr>\n",
       "      <th>49936</th>\n",
       "      <td>49936</td>\n",
       "      <td>1172_218</td>\n",
       "      <td>451.67</td>\n",
       "      <td>2018-07-18</td>\n",
       "      <td>1172</td>\n",
       "    </tr>\n",
       "    <tr>\n",
       "      <th>128340</th>\n",
       "      <td>128340</td>\n",
       "      <td>1429_498</td>\n",
       "      <td>0.00</td>\n",
       "      <td>2018-05-28</td>\n",
       "      <td>1429</td>\n",
       "    </tr>\n",
       "    <tr>\n",
       "      <th>74825</th>\n",
       "      <td>74825</td>\n",
       "      <td>1251_387</td>\n",
       "      <td>239.42</td>\n",
       "      <td>2018-03-27</td>\n",
       "      <td>1251</td>\n",
       "    </tr>\n",
       "    <tr>\n",
       "      <th>9099</th>\n",
       "      <td>9099</td>\n",
       "      <td>1032_179</td>\n",
       "      <td>372.34</td>\n",
       "      <td>2018-12-01</td>\n",
       "      <td>1032</td>\n",
       "    </tr>\n",
       "  </tbody>\n",
       "</table>\n",
       "</div>"
      ],
      "text/plain": [
       "        Unnamed: 0        id  mb_used session_date  user_id\n",
       "20217        20217  1067_318     0.00   2018-06-06     1067\n",
       "24859        24859   1086_66   694.68   2018-06-09     1086\n",
       "101921      101921   1341_36   664.39   2018-11-16     1341\n",
       "89330        89330  1302_130     0.00   2018-11-04     1302\n",
       "146026      146026   1489_35   320.54   2018-10-22     1489\n",
       "36795        36795  1127_145    53.51   2018-09-26     1127\n",
       "49936        49936  1172_218   451.67   2018-07-18     1172\n",
       "128340      128340  1429_498     0.00   2018-05-28     1429\n",
       "74825        74825  1251_387   239.42   2018-03-27     1251\n",
       "9099          9099  1032_179   372.34   2018-12-01     1032"
      ]
     },
     "metadata": {},
     "output_type": "display_data"
    },
    {
     "name": "stdout",
     "output_type": "stream",
     "text": [
      "\n",
      "Информация о таблице:\n",
      "<class 'pandas.core.frame.DataFrame'>\n",
      "RangeIndex: 149396 entries, 0 to 149395\n",
      "Data columns (total 5 columns):\n",
      " #   Column        Non-Null Count   Dtype  \n",
      "---  ------        --------------   -----  \n",
      " 0   Unnamed: 0    149396 non-null  int64  \n",
      " 1   id            149396 non-null  object \n",
      " 2   mb_used       149396 non-null  float64\n",
      " 3   session_date  149396 non-null  object \n",
      " 4   user_id       149396 non-null  int64  \n",
      "dtypes: float64(1), int64(2), object(2)\n",
      "memory usage: 5.7+ MB\n",
      "\n",
      "Количество явных дубликатов в таблице:\n",
      "0\n",
      "\n",
      "Процент пропусков в столбцах:\n"
     ]
    },
    {
     "data": {
      "text/html": [
       "<style  type=\"text/css\" >\n",
       "#T_f0f1f_row0_col0,#T_f0f1f_row1_col0,#T_f0f1f_row2_col0,#T_f0f1f_row3_col0,#T_f0f1f_row4_col0{\n",
       "            background-color:  #3b4cc0;\n",
       "            color:  #f1f1f1;\n",
       "        }</style><table id=\"T_f0f1f_\" ><thead>    <tr>        <th class=\"blank level0\" ></th>        <th class=\"col_heading level0 col0\" >NaNs, %</th>    </tr></thead><tbody>\n",
       "                <tr>\n",
       "                        <th id=\"T_f0f1f_level0_row0\" class=\"row_heading level0 row0\" >Unnamed: 0</th>\n",
       "                        <td id=\"T_f0f1f_row0_col0\" class=\"data row0 col0\" >0.00</td>\n",
       "            </tr>\n",
       "            <tr>\n",
       "                        <th id=\"T_f0f1f_level0_row1\" class=\"row_heading level0 row1\" >id</th>\n",
       "                        <td id=\"T_f0f1f_row1_col0\" class=\"data row1 col0\" >0.00</td>\n",
       "            </tr>\n",
       "            <tr>\n",
       "                        <th id=\"T_f0f1f_level0_row2\" class=\"row_heading level0 row2\" >mb_used</th>\n",
       "                        <td id=\"T_f0f1f_row2_col0\" class=\"data row2 col0\" >0.00</td>\n",
       "            </tr>\n",
       "            <tr>\n",
       "                        <th id=\"T_f0f1f_level0_row3\" class=\"row_heading level0 row3\" >session_date</th>\n",
       "                        <td id=\"T_f0f1f_row3_col0\" class=\"data row3 col0\" >0.00</td>\n",
       "            </tr>\n",
       "            <tr>\n",
       "                        <th id=\"T_f0f1f_level0_row4\" class=\"row_heading level0 row4\" >user_id</th>\n",
       "                        <td id=\"T_f0f1f_row4_col0\" class=\"data row4 col0\" >0.00</td>\n",
       "            </tr>\n",
       "    </tbody></table>"
      ],
      "text/plain": [
       "<pandas.io.formats.style.Styler at 0x7f8348247340>"
      ]
     },
     "metadata": {},
     "output_type": "display_data"
    }
   ],
   "source": [
    "try:\n",
    "    internet = pd.read_csv('/datasets/internet.csv')\n",
    "except:\n",
    "    internet = pd.read_csv('internet.csv')\n",
    "    \n",
    "data_observe(internet)"
   ]
  },
  {
   "cell_type": "markdown",
   "metadata": {},
   "source": [
    "Описание данных таблицы `internet` (информация об интернет-сессиях):\n",
    "- id — уникальный номер сессии\n",
    "- mb_used — объём потраченного за сессию интернет-трафика (в мегабайтах)\n",
    "- session_date — дата интернет-сессии\n",
    "- user_id — идентификатор пользователя"
   ]
  },
  {
   "cell_type": "markdown",
   "metadata": {},
   "source": [
    "В таблице объёмом 149396 строк, 5 столбцов содержатся следующие типы данных: int64, float64, object.\n",
    "\n",
    "Столбцы поименованы корректно, за исключением `'Unnamed: 0'`. Однако, такого столбца нет в описании данных. Вероятно, в процессе извлечения или сохранения данных были получены побочные значения, равные индексу строки в таблице.\n",
    "\n",
    "Представляется целесообразным удалить столбец `'Unnamed: 0'` и ***уведомить о возможной технологической ошибке инженеров по данным.***\n",
    "\n",
    "Пропуски данных и дубликаты строк не наблюдаются.\n",
    "\n",
    "Идентификатор сессии имеет строковый тип.\n",
    "\n",
    "С учётом замечаний в контексте исследования о порядке округления интернет-сессий следует оставить поле `'mb_used'` в вещественном типе.\n",
    "\n",
    "Для экономии места поле `'user_id'` можно привести к типу int32.\n",
    "\n",
    "Поле `'session_date'` следует привести к формату даты."
   ]
  },
  {
   "cell_type": "markdown",
   "metadata": {},
   "source": [
    "### Обзор данных о тарифах"
   ]
  },
  {
   "cell_type": "markdown",
   "metadata": {},
   "source": [
    "Откроем файл `tariffs.csv` и выведем первые 5 строк:"
   ]
  },
  {
   "cell_type": "code",
   "execution_count": 7,
   "metadata": {
    "ExecuteTime": {
     "end_time": "2022-05-13T11:06:52.494179Z",
     "start_time": "2022-05-13T11:06:52.421220Z"
    }
   },
   "outputs": [
    {
     "name": "stdout",
     "output_type": "stream",
     "text": [
      "Произвольные 10 строк таблицы:\n"
     ]
    },
    {
     "data": {
      "text/html": [
       "<div>\n",
       "<style scoped>\n",
       "    .dataframe tbody tr th:only-of-type {\n",
       "        vertical-align: middle;\n",
       "    }\n",
       "\n",
       "    .dataframe tbody tr th {\n",
       "        vertical-align: top;\n",
       "    }\n",
       "\n",
       "    .dataframe thead th {\n",
       "        text-align: right;\n",
       "    }\n",
       "</style>\n",
       "<table border=\"1\" class=\"dataframe\">\n",
       "  <thead>\n",
       "    <tr style=\"text-align: right;\">\n",
       "      <th></th>\n",
       "      <th>messages_included</th>\n",
       "      <th>mb_per_month_included</th>\n",
       "      <th>minutes_included</th>\n",
       "      <th>rub_monthly_fee</th>\n",
       "      <th>rub_per_gb</th>\n",
       "      <th>rub_per_message</th>\n",
       "      <th>rub_per_minute</th>\n",
       "      <th>tariff_name</th>\n",
       "    </tr>\n",
       "  </thead>\n",
       "  <tbody>\n",
       "    <tr>\n",
       "      <th>0</th>\n",
       "      <td>50</td>\n",
       "      <td>15360</td>\n",
       "      <td>500</td>\n",
       "      <td>550</td>\n",
       "      <td>200</td>\n",
       "      <td>3</td>\n",
       "      <td>3</td>\n",
       "      <td>smart</td>\n",
       "    </tr>\n",
       "    <tr>\n",
       "      <th>1</th>\n",
       "      <td>1000</td>\n",
       "      <td>30720</td>\n",
       "      <td>3000</td>\n",
       "      <td>1950</td>\n",
       "      <td>150</td>\n",
       "      <td>1</td>\n",
       "      <td>1</td>\n",
       "      <td>ultra</td>\n",
       "    </tr>\n",
       "  </tbody>\n",
       "</table>\n",
       "</div>"
      ],
      "text/plain": [
       "   messages_included  mb_per_month_included  minutes_included  \\\n",
       "0                 50                  15360               500   \n",
       "1               1000                  30720              3000   \n",
       "\n",
       "   rub_monthly_fee  rub_per_gb  rub_per_message  rub_per_minute tariff_name  \n",
       "0              550         200                3               3       smart  \n",
       "1             1950         150                1               1       ultra  "
      ]
     },
     "metadata": {},
     "output_type": "display_data"
    },
    {
     "name": "stdout",
     "output_type": "stream",
     "text": [
      "\n",
      "Информация о таблице:\n",
      "<class 'pandas.core.frame.DataFrame'>\n",
      "RangeIndex: 2 entries, 0 to 1\n",
      "Data columns (total 8 columns):\n",
      " #   Column                 Non-Null Count  Dtype \n",
      "---  ------                 --------------  ----- \n",
      " 0   messages_included      2 non-null      int64 \n",
      " 1   mb_per_month_included  2 non-null      int64 \n",
      " 2   minutes_included       2 non-null      int64 \n",
      " 3   rub_monthly_fee        2 non-null      int64 \n",
      " 4   rub_per_gb             2 non-null      int64 \n",
      " 5   rub_per_message        2 non-null      int64 \n",
      " 6   rub_per_minute         2 non-null      int64 \n",
      " 7   tariff_name            2 non-null      object\n",
      "dtypes: int64(7), object(1)\n",
      "memory usage: 256.0+ bytes\n",
      "\n",
      "Количество явных дубликатов в таблице:\n",
      "0\n",
      "\n",
      "Процент пропусков в столбцах:\n"
     ]
    },
    {
     "data": {
      "text/html": [
       "<style  type=\"text/css\" >\n",
       "#T_394a6_row0_col0,#T_394a6_row1_col0,#T_394a6_row2_col0,#T_394a6_row3_col0,#T_394a6_row4_col0,#T_394a6_row5_col0,#T_394a6_row6_col0,#T_394a6_row7_col0{\n",
       "            background-color:  #3b4cc0;\n",
       "            color:  #f1f1f1;\n",
       "        }</style><table id=\"T_394a6_\" ><thead>    <tr>        <th class=\"blank level0\" ></th>        <th class=\"col_heading level0 col0\" >NaNs, %</th>    </tr></thead><tbody>\n",
       "                <tr>\n",
       "                        <th id=\"T_394a6_level0_row0\" class=\"row_heading level0 row0\" >messages_included</th>\n",
       "                        <td id=\"T_394a6_row0_col0\" class=\"data row0 col0\" >0.00</td>\n",
       "            </tr>\n",
       "            <tr>\n",
       "                        <th id=\"T_394a6_level0_row1\" class=\"row_heading level0 row1\" >mb_per_month_included</th>\n",
       "                        <td id=\"T_394a6_row1_col0\" class=\"data row1 col0\" >0.00</td>\n",
       "            </tr>\n",
       "            <tr>\n",
       "                        <th id=\"T_394a6_level0_row2\" class=\"row_heading level0 row2\" >minutes_included</th>\n",
       "                        <td id=\"T_394a6_row2_col0\" class=\"data row2 col0\" >0.00</td>\n",
       "            </tr>\n",
       "            <tr>\n",
       "                        <th id=\"T_394a6_level0_row3\" class=\"row_heading level0 row3\" >rub_monthly_fee</th>\n",
       "                        <td id=\"T_394a6_row3_col0\" class=\"data row3 col0\" >0.00</td>\n",
       "            </tr>\n",
       "            <tr>\n",
       "                        <th id=\"T_394a6_level0_row4\" class=\"row_heading level0 row4\" >rub_per_gb</th>\n",
       "                        <td id=\"T_394a6_row4_col0\" class=\"data row4 col0\" >0.00</td>\n",
       "            </tr>\n",
       "            <tr>\n",
       "                        <th id=\"T_394a6_level0_row5\" class=\"row_heading level0 row5\" >rub_per_message</th>\n",
       "                        <td id=\"T_394a6_row5_col0\" class=\"data row5 col0\" >0.00</td>\n",
       "            </tr>\n",
       "            <tr>\n",
       "                        <th id=\"T_394a6_level0_row6\" class=\"row_heading level0 row6\" >rub_per_minute</th>\n",
       "                        <td id=\"T_394a6_row6_col0\" class=\"data row6 col0\" >0.00</td>\n",
       "            </tr>\n",
       "            <tr>\n",
       "                        <th id=\"T_394a6_level0_row7\" class=\"row_heading level0 row7\" >tariff_name</th>\n",
       "                        <td id=\"T_394a6_row7_col0\" class=\"data row7 col0\" >0.00</td>\n",
       "            </tr>\n",
       "    </tbody></table>"
      ],
      "text/plain": [
       "<pandas.io.formats.style.Styler at 0x7f8348247340>"
      ]
     },
     "metadata": {},
     "output_type": "display_data"
    }
   ],
   "source": [
    "try:\n",
    "    tariffs = pd.read_csv('/datasets/tariffs.csv')\n",
    "except:\n",
    "    tariffs = pd.read_csv('tariffs.csv')\n",
    "    \n",
    "data_observe(tariffs)"
   ]
  },
  {
   "cell_type": "markdown",
   "metadata": {},
   "source": [
    "Описание данных таблицы `tariffs` (информация о тарифах):\n",
    "- tariff_name — название тарифа\n",
    "- rub_monthly_fee — ежемесячная абонентская плата в рублях\n",
    "- minutes_included — количество минут разговора в месяц, включённых в абонентскую плату\n",
    "- messages_included — количество сообщений в месяц, включённых в абонентскую плату\n",
    "- mb_per_month_included — объём интернет-трафика, включённого в абонентскую плату (в мегабайтах)\n",
    "- rub_per_minute — стоимость минуты разговора сверх тарифного пакета (например, если в тарифе 100 минут разговора в месяц, то со 101 минуты будет взиматься плата)\n",
    "- rub_per_message — стоимость отправки сообщения сверх тарифного пакета\n",
    "- rub_per_gb — стоимость дополнительного гигабайта интернет-трафика сверх тарифного пакета (1 гигабайт = 1024 мегабайта)"
   ]
  },
  {
   "cell_type": "markdown",
   "metadata": {},
   "source": [
    "В таблице объёмом 2 строки, 8 столбцов содержатся следующие типы данных: int64, object.\n",
    "\n",
    "Столбцы поименованы корректно. Пропуски данных и дубликаты строк не наблюдаются.\n",
    "\n",
    "Для экономии места целочисленные поля можно привести к типу int32."
   ]
  },
  {
   "cell_type": "markdown",
   "metadata": {},
   "source": [
    "### Выводы"
   ]
  },
  {
   "cell_type": "markdown",
   "metadata": {},
   "source": [
    "1. Представленные для анализа данные, на первый взгляд, качественные. Необоснованных (ошибочных) пропусков данных не наблюдается.\n",
    "\n",
    "2. Данные сгруппированы таблицы, описывающие отдельно самих пользователей, тарифы и поведение пользователей \"Мегалайна\" - очень удобно для дальнейшего анализа.\n",
    "\n",
    "3. Предварительно можно утверждать, что данных достаточно для проведения исследования, в том числе, для проверки статистических гипотез.\n",
    "\n",
    "4. На этапе предобработки целесообразно выполнить следующие действия:\n",
    "    - Приведение типов:\n",
    "        - к `int32` - все целочисленные столбцы int64 всех таблиц, а также поле `'duration'` таблицы `'calls'` (с округлением \"вверх\");\n",
    "        - к `DateTime` - все столбцы с датами всех таблиц, включая неполный столбец `'churn_date'` таблицы `'users'`.\n",
    "\n",
    "    - Удаление столбца `'Unnamed: 0'` в таблице `internet`.\n",
    "\n",
    "\n",
    "***Замечание: уведомить инженеров по данным о возможной технологической ошибке (извлечение лишнего столбца в таблице `internet`).***"
   ]
  },
  {
   "cell_type": "markdown",
   "metadata": {},
   "source": [
    "## Предобработка данных\n",
    "---"
   ]
  },
  {
   "cell_type": "markdown",
   "metadata": {},
   "source": [
    "Зададим ряд функций для преобразования типов данных, а также проверки значений на уникальность:"
   ]
  },
  {
   "cell_type": "code",
   "execution_count": 8,
   "metadata": {
    "ExecuteTime": {
     "end_time": "2022-05-13T11:06:52.509169Z",
     "start_time": "2022-05-13T11:06:52.499176Z"
    },
    "code_folding": [
     8
    ]
   },
   "outputs": [],
   "source": [
    "# Задание функции для преобразования типов набора столбцов\n",
    "# ========================================================\n",
    "# На вход подаются\n",
    "#     df - имя таблицы\n",
    "#     columns - список столбцов\n",
    "#     datatype - тип данных\n",
    "# В процессе работы функция выводит новый тип данных\n",
    "# столбца после изменения, или сообщение об ошибке\n",
    "def set_columns_types(df, columns, datatype):\n",
    "    try:\n",
    "        for col in columns:\n",
    "            df[col] = df[col].astype(datatype)\n",
    "            print(df[col].dtype)\n",
    "    except:\n",
    "        print(f'Один или несколько столбцов невозможно привести к типу {datatype}')"
   ]
  },
  {
   "cell_type": "code",
   "execution_count": 9,
   "metadata": {
    "ExecuteTime": {
     "end_time": "2022-05-13T11:06:52.539153Z",
     "start_time": "2022-05-13T11:06:52.512168Z"
    },
    "code_folding": [
     8
    ]
   },
   "outputs": [],
   "source": [
    "# Задание функции для преобразования даты в наборе столбцов\n",
    "# =========================================================\n",
    "# На вход подаются\n",
    "#     df - имя таблицы\n",
    "#     columns - список столбцов\n",
    "#     fmt - формат даты\n",
    "# В процессе работы функция выводит новый тип данных\n",
    "# столбца после изменения, или сообщение об ошибке\n",
    "def set_date_type(df, columns, fmt):\n",
    "    try:\n",
    "        for col in columns:\n",
    "            df[col] = pd.to_datetime(df[col], format=fmt)\n",
    "            print(df[col].dtype)\n",
    "    except:\n",
    "        print(f'Один или несколько столбцов невозможно привести к формату {fmt}')"
   ]
  },
  {
   "cell_type": "code",
   "execution_count": 10,
   "metadata": {
    "ExecuteTime": {
     "end_time": "2022-05-13T11:06:52.555144Z",
     "start_time": "2022-05-13T11:06:52.545149Z"
    },
    "code_folding": [
     6
    ]
   },
   "outputs": [],
   "source": [
    "# Задание функции для проверки значений в столбце на уникальность\n",
    "# ===============================================================\n",
    "# На вход подаются\n",
    "#     df - имя таблицы\n",
    "#     column - столбец\n",
    "# В процессе работы функция выводит сообщение о результате проверки\n",
    "def is_unique(df, column):\n",
    "    if df[column].nunique() == len(df):\n",
    "        print('Все значения уникальны!')\n",
    "    else:\n",
    "        print('Присутствуют дубликаты!')"
   ]
  },
  {
   "cell_type": "markdown",
   "metadata": {},
   "source": [
    "### Предобработка данных о пользователях"
   ]
  },
  {
   "cell_type": "markdown",
   "metadata": {},
   "source": [
    "Для экономии места поля `'user_id'` и `'age'` приведём к типу int32:"
   ]
  },
  {
   "cell_type": "code",
   "execution_count": 11,
   "metadata": {
    "ExecuteTime": {
     "end_time": "2022-05-13T11:06:52.586127Z",
     "start_time": "2022-05-13T11:06:52.559142Z"
    }
   },
   "outputs": [
    {
     "name": "stdout",
     "output_type": "stream",
     "text": [
      "int32\n",
      "int32\n"
     ]
    }
   ],
   "source": [
    "set_columns_types(users, ['user_id', 'age'], 'int32')"
   ]
  },
  {
   "cell_type": "markdown",
   "metadata": {},
   "source": [
    "Приведём поле `'reg_date'` и непустые значения поля `'churn_date'` к формату даты:"
   ]
  },
  {
   "cell_type": "code",
   "execution_count": 12,
   "metadata": {
    "ExecuteTime": {
     "end_time": "2022-05-13T11:06:52.616108Z",
     "start_time": "2022-05-13T11:06:52.589126Z"
    }
   },
   "outputs": [
    {
     "name": "stdout",
     "output_type": "stream",
     "text": [
      "datetime64[ns]\n",
      "datetime64[ns]\n"
     ]
    }
   ],
   "source": [
    "set_date_type(users, ['reg_date', 'churn_date'], '%Y-%m-%d')"
   ]
  },
  {
   "cell_type": "markdown",
   "metadata": {},
   "source": [
    "Проверим, действительно ли уникальные идентификаторы пользователей уникальны:"
   ]
  },
  {
   "cell_type": "code",
   "execution_count": 13,
   "metadata": {
    "ExecuteTime": {
     "end_time": "2022-05-13T11:06:52.632100Z",
     "start_time": "2022-05-13T11:06:52.619109Z"
    }
   },
   "outputs": [
    {
     "name": "stdout",
     "output_type": "stream",
     "text": [
      "Все значения уникальны!\n"
     ]
    }
   ],
   "source": [
    "is_unique(users, 'user_id')"
   ]
  },
  {
   "cell_type": "markdown",
   "metadata": {},
   "source": [
    "Отлично!\n",
    "\n",
    "Оценм, в каком диапазоне лежат значения возраста клиентов:"
   ]
  },
  {
   "cell_type": "code",
   "execution_count": 14,
   "metadata": {
    "ExecuteTime": {
     "end_time": "2022-05-13T11:06:52.648091Z",
     "start_time": "2022-05-13T11:06:52.636098Z"
    }
   },
   "outputs": [
    {
     "data": {
      "text/plain": [
       "array([18, 19, 20, 21, 22, 23, 24, 25, 26, 27, 28, 29, 30, 31, 32, 33, 34,\n",
       "       35, 36, 37, 38, 39, 40, 41, 42, 43, 44, 45, 46, 47, 48, 49, 50, 51,\n",
       "       52, 53, 54, 55, 56, 57, 58, 59, 60, 61, 62, 63, 64, 65, 66, 67, 68,\n",
       "       69, 70, 71, 72, 73, 74, 75], dtype=int32)"
      ]
     },
     "execution_count": 14,
     "metadata": {},
     "output_type": "execute_result"
    }
   ],
   "source": [
    "users['age'].sort_values().unique()"
   ]
  },
  {
   "cell_type": "markdown",
   "metadata": {},
   "source": [
    "Клиентами \"Мегалайна\" являются люди разных возрастов: от 18 до 75 лет. Возможно их придётся поделить по возрасту на категории.\n",
    "\n",
    "Рассмотрим географию пользователей на предмет неявных дубликатов:"
   ]
  },
  {
   "cell_type": "code",
   "execution_count": 15,
   "metadata": {
    "ExecuteTime": {
     "end_time": "2022-05-13T11:06:52.665081Z",
     "start_time": "2022-05-13T11:06:52.652088Z"
    }
   },
   "outputs": [
    {
     "data": {
      "text/plain": [
       "array(['Архангельск', 'Астрахань', 'Балашиха', 'Барнаул', 'Белгород',\n",
       "       'Брянск', 'Владивосток', 'Владикавказ', 'Владимир', 'Волгоград',\n",
       "       'Волжский', 'Вологда', 'Воронеж', 'Грозный', 'Екатеринбург',\n",
       "       'Иваново', 'Ижевск', 'Иркутск', 'Казань', 'Калининград', 'Калуга',\n",
       "       'Кемерово', 'Киров', 'Кострома', 'Краснодар', 'Красноярск',\n",
       "       'Курган', 'Курск', 'Липецк', 'Магнитогорск', 'Махачкала', 'Москва',\n",
       "       'Мурманск', 'Набережные Челны', 'Нижневартовск', 'Нижний Новгород',\n",
       "       'Нижний Тагил', 'Новокузнецк', 'Новороссийск', 'Новосибирск',\n",
       "       'Омск', 'Оренбург', 'Орёл', 'Пенза', 'Пермь', 'Петрозаводск',\n",
       "       'Подольск', 'Ростов-на-Дону', 'Рязань', 'Самара',\n",
       "       'Санкт-Петербург', 'Саранск', 'Саратов', 'Севастополь', 'Смоленск',\n",
       "       'Сочи', 'Ставрополь', 'Стерлитамак', 'Сургут', 'Тамбов', 'Тверь',\n",
       "       'Тольятти', 'Томск', 'Тула', 'Тюмень', 'Улан-Удэ', 'Ульяновск',\n",
       "       'Уфа', 'Хабаровск', 'Химки', 'Чебоксары', 'Челябинск', 'Череповец',\n",
       "       'Чита', 'Якутск', 'Ярославль'], dtype=object)"
      ]
     },
     "execution_count": 15,
     "metadata": {},
     "output_type": "execute_result"
    }
   ],
   "source": [
    "users['city'].sort_values().unique()"
   ]
  },
  {
   "cell_type": "markdown",
   "metadata": {},
   "source": [
    "География - широкая. Неявных дубликатов - не выявлено.\n",
    "\n",
    "Поищем неявные дубликаты в столбце `'tariff'`:"
   ]
  },
  {
   "cell_type": "code",
   "execution_count": 16,
   "metadata": {
    "ExecuteTime": {
     "end_time": "2022-05-13T11:06:52.681072Z",
     "start_time": "2022-05-13T11:06:52.670078Z"
    }
   },
   "outputs": [
    {
     "data": {
      "text/plain": [
       "array(['smart', 'ultra'], dtype=object)"
      ]
     },
     "execution_count": 16,
     "metadata": {},
     "output_type": "execute_result"
    }
   ],
   "source": [
    "users['tariff'].sort_values().unique()"
   ]
  },
  {
   "cell_type": "markdown",
   "metadata": {},
   "source": [
    "Здесь также нет неявных дубликатов.\n",
    "\n",
    "На всякий случай убедимся, что явные дубликаты также отсутствуют:"
   ]
  },
  {
   "cell_type": "code",
   "execution_count": 17,
   "metadata": {
    "ExecuteTime": {
     "end_time": "2022-05-13T11:06:52.712054Z",
     "start_time": "2022-05-13T11:06:52.685070Z"
    }
   },
   "outputs": [
    {
     "data": {
      "text/plain": [
       "0"
      ]
     },
     "execution_count": 17,
     "metadata": {},
     "output_type": "execute_result"
    }
   ],
   "source": [
    "users.duplicated().sum()"
   ]
  },
  {
   "cell_type": "markdown",
   "metadata": {},
   "source": [
    "Для обеспечения возможности объединения таблиц `users` и `tariffs` по названию тарифа переименуем столбец `'tariff'` в `'tariff_name'`:"
   ]
  },
  {
   "cell_type": "code",
   "execution_count": 18,
   "metadata": {
    "ExecuteTime": {
     "end_time": "2022-05-13T11:06:52.760029Z",
     "start_time": "2022-05-13T11:06:52.717052Z"
    },
    "code_folding": []
   },
   "outputs": [
    {
     "data": {
      "text/html": [
       "<div>\n",
       "<style scoped>\n",
       "    .dataframe tbody tr th:only-of-type {\n",
       "        vertical-align: middle;\n",
       "    }\n",
       "\n",
       "    .dataframe tbody tr th {\n",
       "        vertical-align: top;\n",
       "    }\n",
       "\n",
       "    .dataframe thead th {\n",
       "        text-align: right;\n",
       "    }\n",
       "</style>\n",
       "<table border=\"1\" class=\"dataframe\">\n",
       "  <thead>\n",
       "    <tr style=\"text-align: right;\">\n",
       "      <th></th>\n",
       "      <th>user_id</th>\n",
       "      <th>age</th>\n",
       "      <th>churn_date</th>\n",
       "      <th>city</th>\n",
       "      <th>first_name</th>\n",
       "      <th>last_name</th>\n",
       "      <th>reg_date</th>\n",
       "      <th>tariff_name</th>\n",
       "    </tr>\n",
       "  </thead>\n",
       "  <tbody>\n",
       "    <tr>\n",
       "      <th>0</th>\n",
       "      <td>1000</td>\n",
       "      <td>52</td>\n",
       "      <td>NaT</td>\n",
       "      <td>Краснодар</td>\n",
       "      <td>Рафаил</td>\n",
       "      <td>Верещагин</td>\n",
       "      <td>2018-05-25</td>\n",
       "      <td>ultra</td>\n",
       "    </tr>\n",
       "    <tr>\n",
       "      <th>1</th>\n",
       "      <td>1001</td>\n",
       "      <td>41</td>\n",
       "      <td>NaT</td>\n",
       "      <td>Москва</td>\n",
       "      <td>Иван</td>\n",
       "      <td>Ежов</td>\n",
       "      <td>2018-11-01</td>\n",
       "      <td>smart</td>\n",
       "    </tr>\n",
       "    <tr>\n",
       "      <th>2</th>\n",
       "      <td>1002</td>\n",
       "      <td>59</td>\n",
       "      <td>NaT</td>\n",
       "      <td>Стерлитамак</td>\n",
       "      <td>Евгений</td>\n",
       "      <td>Абрамович</td>\n",
       "      <td>2018-06-17</td>\n",
       "      <td>smart</td>\n",
       "    </tr>\n",
       "    <tr>\n",
       "      <th>3</th>\n",
       "      <td>1003</td>\n",
       "      <td>23</td>\n",
       "      <td>NaT</td>\n",
       "      <td>Москва</td>\n",
       "      <td>Белла</td>\n",
       "      <td>Белякова</td>\n",
       "      <td>2018-08-17</td>\n",
       "      <td>ultra</td>\n",
       "    </tr>\n",
       "    <tr>\n",
       "      <th>4</th>\n",
       "      <td>1004</td>\n",
       "      <td>68</td>\n",
       "      <td>NaT</td>\n",
       "      <td>Новокузнецк</td>\n",
       "      <td>Татьяна</td>\n",
       "      <td>Авдеенко</td>\n",
       "      <td>2018-05-14</td>\n",
       "      <td>ultra</td>\n",
       "    </tr>\n",
       "  </tbody>\n",
       "</table>\n",
       "</div>"
      ],
      "text/plain": [
       "   user_id  age churn_date         city first_name  last_name   reg_date  \\\n",
       "0     1000   52        NaT    Краснодар     Рафаил  Верещагин 2018-05-25   \n",
       "1     1001   41        NaT       Москва       Иван       Ежов 2018-11-01   \n",
       "2     1002   59        NaT  Стерлитамак    Евгений  Абрамович 2018-06-17   \n",
       "3     1003   23        NaT       Москва      Белла   Белякова 2018-08-17   \n",
       "4     1004   68        NaT  Новокузнецк    Татьяна   Авдеенко 2018-05-14   \n",
       "\n",
       "  tariff_name  \n",
       "0       ultra  \n",
       "1       smart  \n",
       "2       smart  \n",
       "3       ultra  \n",
       "4       ultra  "
      ]
     },
     "execution_count": 18,
     "metadata": {},
     "output_type": "execute_result"
    }
   ],
   "source": [
    "users = users.rename(\n",
    "    columns={\n",
    "        'tariff' : \"tariff_name\"\n",
    "    }\n",
    ")\n",
    "users.head()"
   ]
  },
  {
   "cell_type": "markdown",
   "metadata": {},
   "source": [
    "Поскольку все `'user_id'` в таблице уникальны, то для удобства дальнейших исследований проиндексируем таблицу `users` данным столбцом:"
   ]
  },
  {
   "cell_type": "code",
   "execution_count": 19,
   "metadata": {
    "ExecuteTime": {
     "end_time": "2022-05-13T11:06:52.806000Z",
     "start_time": "2022-05-13T11:06:52.766035Z"
    },
    "code_folding": []
   },
   "outputs": [
    {
     "data": {
      "text/html": [
       "<div>\n",
       "<style scoped>\n",
       "    .dataframe tbody tr th:only-of-type {\n",
       "        vertical-align: middle;\n",
       "    }\n",
       "\n",
       "    .dataframe tbody tr th {\n",
       "        vertical-align: top;\n",
       "    }\n",
       "\n",
       "    .dataframe thead th {\n",
       "        text-align: right;\n",
       "    }\n",
       "</style>\n",
       "<table border=\"1\" class=\"dataframe\">\n",
       "  <thead>\n",
       "    <tr style=\"text-align: right;\">\n",
       "      <th></th>\n",
       "      <th>user_id</th>\n",
       "      <th>age</th>\n",
       "      <th>churn_date</th>\n",
       "      <th>city</th>\n",
       "      <th>first_name</th>\n",
       "      <th>last_name</th>\n",
       "      <th>reg_date</th>\n",
       "      <th>tariff_name</th>\n",
       "    </tr>\n",
       "    <tr>\n",
       "      <th>user_id</th>\n",
       "      <th></th>\n",
       "      <th></th>\n",
       "      <th></th>\n",
       "      <th></th>\n",
       "      <th></th>\n",
       "      <th></th>\n",
       "      <th></th>\n",
       "      <th></th>\n",
       "    </tr>\n",
       "  </thead>\n",
       "  <tbody>\n",
       "    <tr>\n",
       "      <th>1000</th>\n",
       "      <td>1000</td>\n",
       "      <td>52</td>\n",
       "      <td>NaT</td>\n",
       "      <td>Краснодар</td>\n",
       "      <td>Рафаил</td>\n",
       "      <td>Верещагин</td>\n",
       "      <td>2018-05-25</td>\n",
       "      <td>ultra</td>\n",
       "    </tr>\n",
       "    <tr>\n",
       "      <th>1001</th>\n",
       "      <td>1001</td>\n",
       "      <td>41</td>\n",
       "      <td>NaT</td>\n",
       "      <td>Москва</td>\n",
       "      <td>Иван</td>\n",
       "      <td>Ежов</td>\n",
       "      <td>2018-11-01</td>\n",
       "      <td>smart</td>\n",
       "    </tr>\n",
       "    <tr>\n",
       "      <th>1002</th>\n",
       "      <td>1002</td>\n",
       "      <td>59</td>\n",
       "      <td>NaT</td>\n",
       "      <td>Стерлитамак</td>\n",
       "      <td>Евгений</td>\n",
       "      <td>Абрамович</td>\n",
       "      <td>2018-06-17</td>\n",
       "      <td>smart</td>\n",
       "    </tr>\n",
       "    <tr>\n",
       "      <th>1003</th>\n",
       "      <td>1003</td>\n",
       "      <td>23</td>\n",
       "      <td>NaT</td>\n",
       "      <td>Москва</td>\n",
       "      <td>Белла</td>\n",
       "      <td>Белякова</td>\n",
       "      <td>2018-08-17</td>\n",
       "      <td>ultra</td>\n",
       "    </tr>\n",
       "    <tr>\n",
       "      <th>1004</th>\n",
       "      <td>1004</td>\n",
       "      <td>68</td>\n",
       "      <td>NaT</td>\n",
       "      <td>Новокузнецк</td>\n",
       "      <td>Татьяна</td>\n",
       "      <td>Авдеенко</td>\n",
       "      <td>2018-05-14</td>\n",
       "      <td>ultra</td>\n",
       "    </tr>\n",
       "  </tbody>\n",
       "</table>\n",
       "</div>"
      ],
      "text/plain": [
       "         user_id  age churn_date         city first_name  last_name  \\\n",
       "user_id                                                               \n",
       "1000        1000   52        NaT    Краснодар     Рафаил  Верещагин   \n",
       "1001        1001   41        NaT       Москва       Иван       Ежов   \n",
       "1002        1002   59        NaT  Стерлитамак    Евгений  Абрамович   \n",
       "1003        1003   23        NaT       Москва      Белла   Белякова   \n",
       "1004        1004   68        NaT  Новокузнецк    Татьяна   Авдеенко   \n",
       "\n",
       "          reg_date tariff_name  \n",
       "user_id                         \n",
       "1000    2018-05-25       ultra  \n",
       "1001    2018-11-01       smart  \n",
       "1002    2018-06-17       smart  \n",
       "1003    2018-08-17       ultra  \n",
       "1004    2018-05-14       ultra  "
      ]
     },
     "execution_count": 19,
     "metadata": {},
     "output_type": "execute_result"
    }
   ],
   "source": [
    "# переиндексируем таблицу\n",
    "users.index = users['user_id']\n",
    "\n",
    "# проверяем результат\n",
    "users.head()"
   ]
  },
  {
   "cell_type": "markdown",
   "metadata": {},
   "source": [
    "Осталось проверить есть ли клиенты, которые были зарегистрированы менее 1 месяца (30 дней), поскольку есть вероятность, что они могли не пользоваться услугами вообще, или создать статистические выбросы в дальнейшем исследовании:"
   ]
  },
  {
   "cell_type": "code",
   "execution_count": 20,
   "metadata": {
    "ExecuteTime": {
     "end_time": "2022-05-13T11:06:52.945922Z",
     "start_time": "2022-05-13T11:06:52.809999Z"
    },
    "scrolled": true
   },
   "outputs": [
    {
     "data": {
      "text/html": [
       "<div>\n",
       "<style scoped>\n",
       "    .dataframe tbody tr th:only-of-type {\n",
       "        vertical-align: middle;\n",
       "    }\n",
       "\n",
       "    .dataframe tbody tr th {\n",
       "        vertical-align: top;\n",
       "    }\n",
       "\n",
       "    .dataframe thead th {\n",
       "        text-align: right;\n",
       "    }\n",
       "</style>\n",
       "<table border=\"1\" class=\"dataframe\">\n",
       "  <thead>\n",
       "    <tr style=\"text-align: right;\">\n",
       "      <th></th>\n",
       "      <th>user_id</th>\n",
       "      <th>age</th>\n",
       "      <th>churn_date</th>\n",
       "      <th>city</th>\n",
       "      <th>first_name</th>\n",
       "      <th>last_name</th>\n",
       "      <th>reg_date</th>\n",
       "      <th>tariff_name</th>\n",
       "      <th>days</th>\n",
       "    </tr>\n",
       "    <tr>\n",
       "      <th>user_id</th>\n",
       "      <th></th>\n",
       "      <th></th>\n",
       "      <th></th>\n",
       "      <th></th>\n",
       "      <th></th>\n",
       "      <th></th>\n",
       "      <th></th>\n",
       "      <th></th>\n",
       "      <th></th>\n",
       "    </tr>\n",
       "  </thead>\n",
       "  <tbody>\n",
       "    <tr>\n",
       "      <th>1062</th>\n",
       "      <td>1062</td>\n",
       "      <td>24</td>\n",
       "      <td>2018-12-09</td>\n",
       "      <td>Москва</td>\n",
       "      <td>Александр</td>\n",
       "      <td>Коршунов</td>\n",
       "      <td>2018-11-16</td>\n",
       "      <td>smart</td>\n",
       "      <td>23 days</td>\n",
       "    </tr>\n",
       "    <tr>\n",
       "      <th>1128</th>\n",
       "      <td>1128</td>\n",
       "      <td>51</td>\n",
       "      <td>2018-12-23</td>\n",
       "      <td>Волжский</td>\n",
       "      <td>Ксения</td>\n",
       "      <td>Агаева</td>\n",
       "      <td>2018-12-15</td>\n",
       "      <td>ultra</td>\n",
       "      <td>8 days</td>\n",
       "    </tr>\n",
       "    <tr>\n",
       "      <th>1371</th>\n",
       "      <td>1371</td>\n",
       "      <td>50</td>\n",
       "      <td>2018-12-30</td>\n",
       "      <td>Омск</td>\n",
       "      <td>Ириней</td>\n",
       "      <td>Трофимов</td>\n",
       "      <td>2018-12-25</td>\n",
       "      <td>smart</td>\n",
       "      <td>5 days</td>\n",
       "    </tr>\n",
       "  </tbody>\n",
       "</table>\n",
       "</div>"
      ],
      "text/plain": [
       "         user_id  age churn_date      city first_name last_name   reg_date  \\\n",
       "user_id                                                                      \n",
       "1062        1062   24 2018-12-09    Москва  Александр  Коршунов 2018-11-16   \n",
       "1128        1128   51 2018-12-23  Волжский     Ксения    Агаева 2018-12-15   \n",
       "1371        1371   50 2018-12-30      Омск     Ириней  Трофимов 2018-12-25   \n",
       "\n",
       "        tariff_name    days  \n",
       "user_id                      \n",
       "1062          smart 23 days  \n",
       "1128          ultra  8 days  \n",
       "1371          smart  5 days  "
      ]
     },
     "execution_count": 20,
     "metadata": {},
     "output_type": "execute_result"
    }
   ],
   "source": [
    "# добавим столбец разницы окончания и начала пользования услугами\n",
    "users['days'] = users['churn_date'] - users['reg_date']\n",
    "\n",
    "# выведем информацию по интересующим пользователям\n",
    "users[users['days'] < '30 days']"
   ]
  },
  {
   "cell_type": "markdown",
   "metadata": {},
   "source": [
    "Мы видим, что 2 клиента в возрасте 50+ были зарегистрированы, как пользователи, 8 и 5 дней соответственно. В этой связи вероятным представляется отсутствие пользования услугами .данными клиентами. \n",
    "\n",
    "Рассмотрим количество совершённых выбранными клиентами звонков, отправленных сообщений и сессий передачи данных:"
   ]
  },
  {
   "cell_type": "code",
   "execution_count": 21,
   "metadata": {
    "ExecuteTime": {
     "end_time": "2022-05-13T11:06:53.021878Z",
     "start_time": "2022-05-13T11:06:52.951917Z"
    }
   },
   "outputs": [
    {
     "name": "stdout",
     "output_type": "stream",
     "text": [
      "Количество звонков пользователя 1062: 83\n",
      "Количество сообщений пользователя 1062: 26\n",
      "Количество интернет-сессий пользователя 1062: 36\n",
      "Количество звонков пользователя 1128: 0\n",
      "Количество сообщений пользователя 1128: 0\n",
      "Количество интернет-сессий пользователя 1128: 0\n",
      "Количество звонков пользователя 1371: 0\n",
      "Количество сообщений пользователя 1371: 0\n",
      "Количество интернет-сессий пользователя 1371: 0\n"
     ]
    }
   ],
   "source": [
    "user_ids = [1062, 1128, 1371]\n",
    "\n",
    "for usr_id in user_ids:\n",
    "    print(f'Количество звонков пользователя {usr_id}:', len(calls.query(\"user_id == @usr_id\")))\n",
    "    print(f'Количество сообщений пользователя {usr_id}:', len(messages.query(\"user_id == @usr_id\")))\n",
    "    print(f'Количество интернет-сессий пользователя {usr_id}:', len(internet.query(\"user_id == @usr_id\")))"
   ]
  },
  {
   "cell_type": "markdown",
   "metadata": {},
   "source": [
    "Очевидно, соответствующие пользователям с id 1128 и 1371 строки в таблице `users` можно удалить:"
   ]
  },
  {
   "cell_type": "code",
   "execution_count": 22,
   "metadata": {
    "ExecuteTime": {
     "end_time": "2022-05-13T11:06:53.052859Z",
     "start_time": "2022-05-13T11:06:53.024875Z"
    }
   },
   "outputs": [],
   "source": [
    "users.drop(labels=[1128, 1371], axis=0, inplace=True)"
   ]
  },
  {
   "cell_type": "markdown",
   "metadata": {},
   "source": [
    "Клиент из Москвы пользовался тарифом `smart` более полумесяца и совершил достаточное количество действий за этот период. оставим информацию о нём для дальнейших исследований."
   ]
  },
  {
   "cell_type": "markdown",
   "metadata": {},
   "source": [
    "Предобработка таблицы `users` завершена."
   ]
  },
  {
   "cell_type": "markdown",
   "metadata": {},
   "source": [
    "### Предобработка данных о звонках"
   ]
  },
  {
   "cell_type": "markdown",
   "metadata": {},
   "source": [
    "Для экономии места поле `'user_id'` приведём к типу int32:"
   ]
  },
  {
   "cell_type": "code",
   "execution_count": 23,
   "metadata": {
    "ExecuteTime": {
     "end_time": "2022-05-13T11:06:53.068850Z",
     "start_time": "2022-05-13T11:06:53.055859Z"
    }
   },
   "outputs": [
    {
     "name": "stdout",
     "output_type": "stream",
     "text": [
      "int32\n"
     ]
    }
   ],
   "source": [
    "set_columns_types(calls, ['user_id'], 'int32')"
   ]
  },
  {
   "cell_type": "markdown",
   "metadata": {},
   "source": [
    "Приведём поле `'call_date'` к формату даты:"
   ]
  },
  {
   "cell_type": "code",
   "execution_count": 24,
   "metadata": {
    "ExecuteTime": {
     "end_time": "2022-05-13T11:06:53.147806Z",
     "start_time": "2022-05-13T11:06:53.072848Z"
    }
   },
   "outputs": [
    {
     "name": "stdout",
     "output_type": "stream",
     "text": [
      "datetime64[ns]\n"
     ]
    }
   ],
   "source": [
    "set_date_type(calls, ['call_date'], '%Y-%m-%d')"
   ]
  },
  {
   "cell_type": "markdown",
   "metadata": {},
   "source": [
    "Приведём к `int32` поле `'duration'` таблицы `'calls'` (с округлением \"вверх\"). Для этого применим к нему metod `ceil` библиотеки `math`: "
   ]
  },
  {
   "cell_type": "code",
   "execution_count": 25,
   "metadata": {
    "ExecuteTime": {
     "end_time": "2022-05-13T11:06:53.179788Z",
     "start_time": "2022-05-13T11:06:53.150803Z"
    }
   },
   "outputs": [
    {
     "data": {
      "text/html": [
       "<div>\n",
       "<style scoped>\n",
       "    .dataframe tbody tr th:only-of-type {\n",
       "        vertical-align: middle;\n",
       "    }\n",
       "\n",
       "    .dataframe tbody tr th {\n",
       "        vertical-align: top;\n",
       "    }\n",
       "\n",
       "    .dataframe thead th {\n",
       "        text-align: right;\n",
       "    }\n",
       "</style>\n",
       "<table border=\"1\" class=\"dataframe\">\n",
       "  <thead>\n",
       "    <tr style=\"text-align: right;\">\n",
       "      <th></th>\n",
       "      <th>id</th>\n",
       "      <th>call_date</th>\n",
       "      <th>duration</th>\n",
       "      <th>user_id</th>\n",
       "    </tr>\n",
       "  </thead>\n",
       "  <tbody>\n",
       "    <tr>\n",
       "      <th>0</th>\n",
       "      <td>1000_0</td>\n",
       "      <td>2018-07-25</td>\n",
       "      <td>0.00</td>\n",
       "      <td>1000</td>\n",
       "    </tr>\n",
       "    <tr>\n",
       "      <th>1</th>\n",
       "      <td>1000_1</td>\n",
       "      <td>2018-08-17</td>\n",
       "      <td>0.00</td>\n",
       "      <td>1000</td>\n",
       "    </tr>\n",
       "    <tr>\n",
       "      <th>2</th>\n",
       "      <td>1000_2</td>\n",
       "      <td>2018-06-11</td>\n",
       "      <td>2.85</td>\n",
       "      <td>1000</td>\n",
       "    </tr>\n",
       "    <tr>\n",
       "      <th>3</th>\n",
       "      <td>1000_3</td>\n",
       "      <td>2018-09-21</td>\n",
       "      <td>13.80</td>\n",
       "      <td>1000</td>\n",
       "    </tr>\n",
       "    <tr>\n",
       "      <th>4</th>\n",
       "      <td>1000_4</td>\n",
       "      <td>2018-12-15</td>\n",
       "      <td>5.18</td>\n",
       "      <td>1000</td>\n",
       "    </tr>\n",
       "  </tbody>\n",
       "</table>\n",
       "</div>"
      ],
      "text/plain": [
       "       id  call_date  duration  user_id\n",
       "0  1000_0 2018-07-25      0.00     1000\n",
       "1  1000_1 2018-08-17      0.00     1000\n",
       "2  1000_2 2018-06-11      2.85     1000\n",
       "3  1000_3 2018-09-21     13.80     1000\n",
       "4  1000_4 2018-12-15      5.18     1000"
      ]
     },
     "execution_count": 25,
     "metadata": {},
     "output_type": "execute_result"
    }
   ],
   "source": [
    "# выведем первые 5 строк таблицы\n",
    "calls.head()"
   ]
  },
  {
   "cell_type": "code",
   "execution_count": 26,
   "metadata": {
    "ExecuteTime": {
     "end_time": "2022-05-13T11:06:53.209772Z",
     "start_time": "2022-05-13T11:06:53.183787Z"
    }
   },
   "outputs": [],
   "source": [
    "# применим функцию mt.ceil к столбцу 'duration'\n",
    "calls['duration'] = np.ceil(calls['duration'])"
   ]
  },
  {
   "cell_type": "code",
   "execution_count": 27,
   "metadata": {
    "ExecuteTime": {
     "end_time": "2022-05-13T11:06:53.240752Z",
     "start_time": "2022-05-13T11:06:53.213768Z"
    },
    "scrolled": true
   },
   "outputs": [
    {
     "data": {
      "text/html": [
       "<div>\n",
       "<style scoped>\n",
       "    .dataframe tbody tr th:only-of-type {\n",
       "        vertical-align: middle;\n",
       "    }\n",
       "\n",
       "    .dataframe tbody tr th {\n",
       "        vertical-align: top;\n",
       "    }\n",
       "\n",
       "    .dataframe thead th {\n",
       "        text-align: right;\n",
       "    }\n",
       "</style>\n",
       "<table border=\"1\" class=\"dataframe\">\n",
       "  <thead>\n",
       "    <tr style=\"text-align: right;\">\n",
       "      <th></th>\n",
       "      <th>id</th>\n",
       "      <th>call_date</th>\n",
       "      <th>duration</th>\n",
       "      <th>user_id</th>\n",
       "    </tr>\n",
       "  </thead>\n",
       "  <tbody>\n",
       "    <tr>\n",
       "      <th>0</th>\n",
       "      <td>1000_0</td>\n",
       "      <td>2018-07-25</td>\n",
       "      <td>0.0</td>\n",
       "      <td>1000</td>\n",
       "    </tr>\n",
       "    <tr>\n",
       "      <th>1</th>\n",
       "      <td>1000_1</td>\n",
       "      <td>2018-08-17</td>\n",
       "      <td>0.0</td>\n",
       "      <td>1000</td>\n",
       "    </tr>\n",
       "    <tr>\n",
       "      <th>2</th>\n",
       "      <td>1000_2</td>\n",
       "      <td>2018-06-11</td>\n",
       "      <td>3.0</td>\n",
       "      <td>1000</td>\n",
       "    </tr>\n",
       "    <tr>\n",
       "      <th>3</th>\n",
       "      <td>1000_3</td>\n",
       "      <td>2018-09-21</td>\n",
       "      <td>14.0</td>\n",
       "      <td>1000</td>\n",
       "    </tr>\n",
       "    <tr>\n",
       "      <th>4</th>\n",
       "      <td>1000_4</td>\n",
       "      <td>2018-12-15</td>\n",
       "      <td>6.0</td>\n",
       "      <td>1000</td>\n",
       "    </tr>\n",
       "  </tbody>\n",
       "</table>\n",
       "</div>"
      ],
      "text/plain": [
       "       id  call_date  duration  user_id\n",
       "0  1000_0 2018-07-25       0.0     1000\n",
       "1  1000_1 2018-08-17       0.0     1000\n",
       "2  1000_2 2018-06-11       3.0     1000\n",
       "3  1000_3 2018-09-21      14.0     1000\n",
       "4  1000_4 2018-12-15       6.0     1000"
      ]
     },
     "execution_count": 27,
     "metadata": {},
     "output_type": "execute_result"
    }
   ],
   "source": [
    "# проверим результат\n",
    "calls.head()"
   ]
  },
  {
   "cell_type": "markdown",
   "metadata": {},
   "source": [
    "Итак длительность вызовов округлена до целых минут в большую сторону.\n",
    "\n",
    "Отметим, что в таблице присутствуют звонки нулевой длительности. Это не ошибка: нулями обозначены пропущенные звонки, поэтому их не нужно удалять.\n",
    "\n",
    "Осталось проверить идентификаторы вызовов на уникальность:"
   ]
  },
  {
   "cell_type": "code",
   "execution_count": 28,
   "metadata": {
    "ExecuteTime": {
     "end_time": "2022-05-13T11:06:53.381677Z",
     "start_time": "2022-05-13T11:06:53.254744Z"
    }
   },
   "outputs": [
    {
     "name": "stdout",
     "output_type": "stream",
     "text": [
      "Все значения уникальны!\n"
     ]
    }
   ],
   "source": [
    "is_unique(calls, 'id')"
   ]
  },
  {
   "cell_type": "markdown",
   "metadata": {},
   "source": [
    "На всякий случай убедимся, что явные дубликаты также отсутствуют:"
   ]
  },
  {
   "cell_type": "code",
   "execution_count": 29,
   "metadata": {
    "ExecuteTime": {
     "end_time": "2022-05-13T11:06:53.555572Z",
     "start_time": "2022-05-13T11:06:53.386669Z"
    }
   },
   "outputs": [
    {
     "data": {
      "text/plain": [
       "0"
      ]
     },
     "execution_count": 29,
     "metadata": {},
     "output_type": "execute_result"
    }
   ],
   "source": [
    "calls.duplicated().sum()"
   ]
  },
  {
   "cell_type": "markdown",
   "metadata": {},
   "source": [
    "Предобработка таблицы `'calls'` закончена."
   ]
  },
  {
   "cell_type": "markdown",
   "metadata": {},
   "source": [
    "### Предобработка данных о сообщениях"
   ]
  },
  {
   "cell_type": "markdown",
   "metadata": {},
   "source": [
    "Для экономии места поле `'user_id'` приведём к типу int32:"
   ]
  },
  {
   "cell_type": "code",
   "execution_count": 30,
   "metadata": {
    "ExecuteTime": {
     "end_time": "2022-05-13T11:06:53.570563Z",
     "start_time": "2022-05-13T11:06:53.558570Z"
    }
   },
   "outputs": [
    {
     "name": "stdout",
     "output_type": "stream",
     "text": [
      "int32\n"
     ]
    }
   ],
   "source": [
    "set_columns_types(messages, ['user_id'], 'int32')"
   ]
  },
  {
   "cell_type": "markdown",
   "metadata": {},
   "source": [
    "Приведём поле `'message_date'` к формату даты:"
   ]
  },
  {
   "cell_type": "code",
   "execution_count": 31,
   "metadata": {
    "ExecuteTime": {
     "end_time": "2022-05-13T11:06:53.631701Z",
     "start_time": "2022-05-13T11:06:53.573564Z"
    }
   },
   "outputs": [
    {
     "name": "stdout",
     "output_type": "stream",
     "text": [
      "datetime64[ns]\n"
     ]
    }
   ],
   "source": [
    "set_date_type(messages, ['message_date'], '%Y-%m-%d')"
   ]
  },
  {
   "cell_type": "markdown",
   "metadata": {},
   "source": [
    "Осталось проверить идентификаторы сообщений на уникальность:"
   ]
  },
  {
   "cell_type": "code",
   "execution_count": 32,
   "metadata": {
    "ExecuteTime": {
     "end_time": "2022-05-13T11:06:53.710643Z",
     "start_time": "2022-05-13T11:06:53.635685Z"
    }
   },
   "outputs": [
    {
     "name": "stdout",
     "output_type": "stream",
     "text": [
      "Все значения уникальны!\n"
     ]
    }
   ],
   "source": [
    "is_unique(messages, 'id')"
   ]
  },
  {
   "cell_type": "markdown",
   "metadata": {},
   "source": [
    "На всякий случай убедимся, что явные дубликаты также отсутствуют:"
   ]
  },
  {
   "cell_type": "code",
   "execution_count": 33,
   "metadata": {
    "ExecuteTime": {
     "end_time": "2022-05-13T11:06:53.821689Z",
     "start_time": "2022-05-13T11:06:53.714641Z"
    },
    "scrolled": true
   },
   "outputs": [
    {
     "data": {
      "text/plain": [
       "0"
      ]
     },
     "execution_count": 33,
     "metadata": {},
     "output_type": "execute_result"
    }
   ],
   "source": [
    "messages.duplicated().sum()"
   ]
  },
  {
   "cell_type": "markdown",
   "metadata": {},
   "source": [
    "Предобработка таблицы `'messages'` закончена."
   ]
  },
  {
   "cell_type": "markdown",
   "metadata": {},
   "source": [
    "### Предобработка данных об интернет-сессиях"
   ]
  },
  {
   "cell_type": "markdown",
   "metadata": {},
   "source": [
    "На этапе обзора мы признали целесообразным удаление столбца `'Unnamed: 0'` в таблице `internet`. Данный столбец не несёт в себе осмысленной для исследования информации, более того - не описан в исходных данных. Скорее всего, он является плодом технологической ошибки извлечения данных.\n",
    "\n",
    "Удалим его:"
   ]
  },
  {
   "cell_type": "code",
   "execution_count": 34,
   "metadata": {
    "ExecuteTime": {
     "end_time": "2022-05-13T11:06:53.868662Z",
     "start_time": "2022-05-13T11:06:53.825686Z"
    }
   },
   "outputs": [
    {
     "data": {
      "text/html": [
       "<div>\n",
       "<style scoped>\n",
       "    .dataframe tbody tr th:only-of-type {\n",
       "        vertical-align: middle;\n",
       "    }\n",
       "\n",
       "    .dataframe tbody tr th {\n",
       "        vertical-align: top;\n",
       "    }\n",
       "\n",
       "    .dataframe thead th {\n",
       "        text-align: right;\n",
       "    }\n",
       "</style>\n",
       "<table border=\"1\" class=\"dataframe\">\n",
       "  <thead>\n",
       "    <tr style=\"text-align: right;\">\n",
       "      <th></th>\n",
       "      <th>id</th>\n",
       "      <th>mb_used</th>\n",
       "      <th>session_date</th>\n",
       "      <th>user_id</th>\n",
       "    </tr>\n",
       "  </thead>\n",
       "  <tbody>\n",
       "    <tr>\n",
       "      <th>0</th>\n",
       "      <td>1000_0</td>\n",
       "      <td>112.95</td>\n",
       "      <td>2018-11-25</td>\n",
       "      <td>1000</td>\n",
       "    </tr>\n",
       "    <tr>\n",
       "      <th>1</th>\n",
       "      <td>1000_1</td>\n",
       "      <td>1052.81</td>\n",
       "      <td>2018-09-07</td>\n",
       "      <td>1000</td>\n",
       "    </tr>\n",
       "  </tbody>\n",
       "</table>\n",
       "</div>"
      ],
      "text/plain": [
       "       id  mb_used session_date  user_id\n",
       "0  1000_0   112.95   2018-11-25     1000\n",
       "1  1000_1  1052.81   2018-09-07     1000"
      ]
     },
     "execution_count": 34,
     "metadata": {},
     "output_type": "execute_result"
    }
   ],
   "source": [
    "internet.drop('Unnamed: 0', axis=1, inplace=True)\n",
    "internet.head(2)"
   ]
  },
  {
   "cell_type": "markdown",
   "metadata": {},
   "source": [
    "Лишний столбец удалён. \n",
    "\n",
    "Для экономии места поле `'user_id'` приведём к типу int32:"
   ]
  },
  {
   "cell_type": "code",
   "execution_count": 35,
   "metadata": {
    "ExecuteTime": {
     "end_time": "2022-05-13T11:06:53.884656Z",
     "start_time": "2022-05-13T11:06:53.871664Z"
    }
   },
   "outputs": [
    {
     "name": "stdout",
     "output_type": "stream",
     "text": [
      "int32\n"
     ]
    }
   ],
   "source": [
    "set_columns_types(internet, ['user_id'], 'int32')"
   ]
  },
  {
   "cell_type": "markdown",
   "metadata": {},
   "source": [
    "Приведём поле `'message_date'` к формату даты:"
   ]
  },
  {
   "cell_type": "code",
   "execution_count": 36,
   "metadata": {
    "ExecuteTime": {
     "end_time": "2022-05-13T11:06:53.946618Z",
     "start_time": "2022-05-13T11:06:53.888652Z"
    }
   },
   "outputs": [
    {
     "name": "stdout",
     "output_type": "stream",
     "text": [
      "datetime64[ns]\n"
     ]
    }
   ],
   "source": [
    "set_date_type(internet, ['session_date'], '%Y-%m-%d')"
   ]
  },
  {
   "cell_type": "markdown",
   "metadata": {},
   "source": [
    "Осталось проверить идентификаторы сессий на уникальность:"
   ]
  },
  {
   "cell_type": "code",
   "execution_count": 37,
   "metadata": {
    "ExecuteTime": {
     "end_time": "2022-05-13T11:06:54.026572Z",
     "start_time": "2022-05-13T11:06:53.951616Z"
    }
   },
   "outputs": [
    {
     "name": "stdout",
     "output_type": "stream",
     "text": [
      "Все значения уникальны!\n"
     ]
    }
   ],
   "source": [
    "is_unique(internet, 'id')"
   ]
  },
  {
   "cell_type": "markdown",
   "metadata": {},
   "source": [
    "На всякий случай убедимся, что явные дубликаты также отсутствуют:"
   ]
  },
  {
   "cell_type": "code",
   "execution_count": 38,
   "metadata": {
    "ExecuteTime": {
     "end_time": "2022-05-13T11:06:54.134680Z",
     "start_time": "2022-05-13T11:06:54.031570Z"
    }
   },
   "outputs": [
    {
     "data": {
      "text/plain": [
       "0"
      ]
     },
     "execution_count": 38,
     "metadata": {},
     "output_type": "execute_result"
    }
   ],
   "source": [
    "internet.duplicated().sum()"
   ]
  },
  {
   "cell_type": "markdown",
   "metadata": {},
   "source": [
    "Предобработка таблицы `'internet'` закончена."
   ]
  },
  {
   "cell_type": "markdown",
   "metadata": {},
   "source": [
    "### Предобработка данных о тарифах"
   ]
  },
  {
   "cell_type": "markdown",
   "metadata": {},
   "source": [
    "Для экономии места приведём целочисленные поля к типу int32:"
   ]
  },
  {
   "cell_type": "code",
   "execution_count": 39,
   "metadata": {
    "ExecuteTime": {
     "end_time": "2022-05-13T11:06:54.164663Z",
     "start_time": "2022-05-13T11:06:54.137679Z"
    }
   },
   "outputs": [
    {
     "name": "stdout",
     "output_type": "stream",
     "text": [
      "int32\n",
      "int32\n",
      "int32\n",
      "int32\n",
      "int32\n",
      "int32\n",
      "int32\n"
     ]
    }
   ],
   "source": [
    "# выберем названия числовых столбцов таблицы tariffs (все целочисленные)\n",
    "cols = tariffs.select_dtypes(include=np.number).columns\n",
    "\n",
    "# приведём их к типу int32\n",
    "set_columns_types(tariffs, cols, 'int32')"
   ]
  },
  {
   "cell_type": "markdown",
   "metadata": {},
   "source": [
    "Нетрудно видеть, что в тарифах перерасход оплачивается за гигабайт, а включённый трафик измеряется в мегабайтах. Поэтому для обеспечения единства измерений, с учётом замечания о тарификации в контексте исследования, переведём включённые мегабайты в гигабайты:"
   ]
  },
  {
   "cell_type": "code",
   "execution_count": 40,
   "metadata": {
    "ExecuteTime": {
     "end_time": "2022-05-13T11:06:54.196646Z",
     "start_time": "2022-05-13T11:06:54.168661Z"
    }
   },
   "outputs": [
    {
     "data": {
      "text/html": [
       "<div>\n",
       "<style scoped>\n",
       "    .dataframe tbody tr th:only-of-type {\n",
       "        vertical-align: middle;\n",
       "    }\n",
       "\n",
       "    .dataframe tbody tr th {\n",
       "        vertical-align: top;\n",
       "    }\n",
       "\n",
       "    .dataframe thead th {\n",
       "        text-align: right;\n",
       "    }\n",
       "</style>\n",
       "<table border=\"1\" class=\"dataframe\">\n",
       "  <thead>\n",
       "    <tr style=\"text-align: right;\">\n",
       "      <th></th>\n",
       "      <th>messages_included</th>\n",
       "      <th>gb_per_month_included</th>\n",
       "      <th>minutes_included</th>\n",
       "      <th>rub_monthly_fee</th>\n",
       "      <th>rub_per_gb</th>\n",
       "      <th>rub_per_message</th>\n",
       "      <th>rub_per_minute</th>\n",
       "      <th>tariff_name</th>\n",
       "    </tr>\n",
       "  </thead>\n",
       "  <tbody>\n",
       "    <tr>\n",
       "      <th>0</th>\n",
       "      <td>50</td>\n",
       "      <td>15</td>\n",
       "      <td>500</td>\n",
       "      <td>550</td>\n",
       "      <td>200</td>\n",
       "      <td>3</td>\n",
       "      <td>3</td>\n",
       "      <td>smart</td>\n",
       "    </tr>\n",
       "    <tr>\n",
       "      <th>1</th>\n",
       "      <td>1000</td>\n",
       "      <td>30</td>\n",
       "      <td>3000</td>\n",
       "      <td>1950</td>\n",
       "      <td>150</td>\n",
       "      <td>1</td>\n",
       "      <td>1</td>\n",
       "      <td>ultra</td>\n",
       "    </tr>\n",
       "  </tbody>\n",
       "</table>\n",
       "</div>"
      ],
      "text/plain": [
       "   messages_included  gb_per_month_included  minutes_included  \\\n",
       "0                 50                     15               500   \n",
       "1               1000                     30              3000   \n",
       "\n",
       "   rub_monthly_fee  rub_per_gb  rub_per_message  rub_per_minute tariff_name  \n",
       "0              550         200                3               3       smart  \n",
       "1             1950         150                1               1       ultra  "
      ]
     },
     "execution_count": 40,
     "metadata": {},
     "output_type": "execute_result"
    }
   ],
   "source": [
    "# переименуем столбец включённого трафика\n",
    "tariffs = tariffs.rename(\n",
    "        columns={\n",
    "            'mb_per_month_included' : 'gb_per_month_included'\n",
    "        }\n",
    "    )\n",
    "\n",
    "# заменим мегабайты на гигабайты    \n",
    "tariffs['gb_per_month_included'] = tariffs['gb_per_month_included'].apply(lambda x : x // 1024)\n",
    "\n",
    "# проверим результат\n",
    "tariffs.head()"
   ]
  },
  {
   "cell_type": "markdown",
   "metadata": {},
   "source": [
    "На этом предобработка данных таблицы `'tariffs'` окончена."
   ]
  },
  {
   "cell_type": "markdown",
   "metadata": {},
   "source": [
    "### Выводы"
   ]
  },
  {
   "cell_type": "markdown",
   "metadata": {},
   "source": [
    "1. В ходе предварительной обработки данных установлено, что в целом данные очень качественные:\n",
    "    - отсутствуют явные и неявные дубликаты;\n",
    "    - отсутствуют необоснованные пропуски данных.\n",
    "\n",
    "\n",
    "2. Для экономии памяти и ускорения обработки, а также в силу ограниченной природы целочисленных значений в представленных таблицах принято решение привести их к 32-битному целому типу `int32`.\n",
    "\n",
    "\n",
    "3. Значения дат приведены к типу `DateTime`.\n",
    "\n",
    "\n",
    "4. Столбец неясного происхождения `'Unnamed: 0'` удалён из таблицы `nternet`.\n",
    "\n",
    "\n",
    "5. Длительность звонка `'duration'` в таблице `'calls'` приведена к целому типу с округлением \"верх\".\n",
    "\n",
    "\n",
    "6. Для облегчения дальнейших действий с данными, а также для обеспечения единства измерений произведены:\n",
    "    - переименование столбцов `'tariff'` в таблице `users` а также `'mb_per_month_included'` в таблице `tariffs`;\n",
    "    - перевод мегабайт в гигабайты в таблице `tariffs`.\n",
    "\n",
    "\n",
    "7. Из таблицы `users` обоснованно удалены 2 клиента, вообще не использовавших услуги оператора."
   ]
  },
  {
   "cell_type": "markdown",
   "metadata": {},
   "source": [
    "## Обогащение данных\n",
    "---"
   ]
  },
  {
   "cell_type": "markdown",
   "metadata": {},
   "source": [
    "### Добавление месяца пользования услугами"
   ]
  },
  {
   "cell_type": "markdown",
   "metadata": {},
   "source": [
    "Добавим в таблицы `calls`, `messages`, `internet` столбtец с первым днём месяца совершения действия. Заодно учтём и год:"
   ]
  },
  {
   "cell_type": "code",
   "execution_count": 41,
   "metadata": {
    "ExecuteTime": {
     "end_time": "2022-05-13T11:06:54.322520Z",
     "start_time": "2022-05-13T11:06:54.200643Z"
    }
   },
   "outputs": [],
   "source": [
    "# месяцы звонков\n",
    "# calls['month'] = calls['call_date'].dt.month\n",
    "calls['month'] = calls['call_date'].astype('datetime64[M]')\n",
    "\n",
    "# месяцы сообщений\n",
    "# messages['month'] = messages['message_date'].dt.month\n",
    "messages['month'] = messages['message_date'].astype('datetime64[M]')\n",
    "\n",
    "# месяцы пользования интернетом\n",
    "# internet['month'] = internet['session_date'].dt.month\n",
    "internet['month'] = internet['session_date'].astype('datetime64[M]')"
   ]
  },
  {
   "cell_type": "code",
   "execution_count": 42,
   "metadata": {
    "ExecuteTime": {
     "end_time": "2022-05-13T11:06:54.353503Z",
     "start_time": "2022-05-13T11:06:54.325519Z"
    }
   },
   "outputs": [
    {
     "data": {
      "text/html": [
       "<div>\n",
       "<style scoped>\n",
       "    .dataframe tbody tr th:only-of-type {\n",
       "        vertical-align: middle;\n",
       "    }\n",
       "\n",
       "    .dataframe tbody tr th {\n",
       "        vertical-align: top;\n",
       "    }\n",
       "\n",
       "    .dataframe thead th {\n",
       "        text-align: right;\n",
       "    }\n",
       "</style>\n",
       "<table border=\"1\" class=\"dataframe\">\n",
       "  <thead>\n",
       "    <tr style=\"text-align: right;\">\n",
       "      <th></th>\n",
       "      <th>id</th>\n",
       "      <th>call_date</th>\n",
       "      <th>duration</th>\n",
       "      <th>user_id</th>\n",
       "      <th>month</th>\n",
       "    </tr>\n",
       "  </thead>\n",
       "  <tbody>\n",
       "    <tr>\n",
       "      <th>0</th>\n",
       "      <td>1000_0</td>\n",
       "      <td>2018-07-25</td>\n",
       "      <td>0.0</td>\n",
       "      <td>1000</td>\n",
       "      <td>2018-07-01</td>\n",
       "    </tr>\n",
       "    <tr>\n",
       "      <th>1</th>\n",
       "      <td>1000_1</td>\n",
       "      <td>2018-08-17</td>\n",
       "      <td>0.0</td>\n",
       "      <td>1000</td>\n",
       "      <td>2018-08-01</td>\n",
       "    </tr>\n",
       "  </tbody>\n",
       "</table>\n",
       "</div>"
      ],
      "text/plain": [
       "       id  call_date  duration  user_id      month\n",
       "0  1000_0 2018-07-25       0.0     1000 2018-07-01\n",
       "1  1000_1 2018-08-17       0.0     1000 2018-08-01"
      ]
     },
     "execution_count": 42,
     "metadata": {},
     "output_type": "execute_result"
    }
   ],
   "source": [
    "# проверим результат\n",
    "calls.head(2)"
   ]
  },
  {
   "cell_type": "code",
   "execution_count": 43,
   "metadata": {
    "ExecuteTime": {
     "end_time": "2022-05-13T11:06:54.385486Z",
     "start_time": "2022-05-13T11:06:54.356502Z"
    }
   },
   "outputs": [
    {
     "data": {
      "text/html": [
       "<div>\n",
       "<style scoped>\n",
       "    .dataframe tbody tr th:only-of-type {\n",
       "        vertical-align: middle;\n",
       "    }\n",
       "\n",
       "    .dataframe tbody tr th {\n",
       "        vertical-align: top;\n",
       "    }\n",
       "\n",
       "    .dataframe thead th {\n",
       "        text-align: right;\n",
       "    }\n",
       "</style>\n",
       "<table border=\"1\" class=\"dataframe\">\n",
       "  <thead>\n",
       "    <tr style=\"text-align: right;\">\n",
       "      <th></th>\n",
       "      <th>id</th>\n",
       "      <th>message_date</th>\n",
       "      <th>user_id</th>\n",
       "      <th>month</th>\n",
       "    </tr>\n",
       "  </thead>\n",
       "  <tbody>\n",
       "    <tr>\n",
       "      <th>0</th>\n",
       "      <td>1000_0</td>\n",
       "      <td>2018-06-27</td>\n",
       "      <td>1000</td>\n",
       "      <td>2018-06-01</td>\n",
       "    </tr>\n",
       "    <tr>\n",
       "      <th>1</th>\n",
       "      <td>1000_1</td>\n",
       "      <td>2018-10-08</td>\n",
       "      <td>1000</td>\n",
       "      <td>2018-10-01</td>\n",
       "    </tr>\n",
       "  </tbody>\n",
       "</table>\n",
       "</div>"
      ],
      "text/plain": [
       "       id message_date  user_id      month\n",
       "0  1000_0   2018-06-27     1000 2018-06-01\n",
       "1  1000_1   2018-10-08     1000 2018-10-01"
      ]
     },
     "execution_count": 43,
     "metadata": {},
     "output_type": "execute_result"
    }
   ],
   "source": [
    "# проверим результат\n",
    "messages.head(2)"
   ]
  },
  {
   "cell_type": "code",
   "execution_count": 44,
   "metadata": {
    "ExecuteTime": {
     "end_time": "2022-05-13T11:06:54.416467Z",
     "start_time": "2022-05-13T11:06:54.389483Z"
    }
   },
   "outputs": [
    {
     "data": {
      "text/html": [
       "<div>\n",
       "<style scoped>\n",
       "    .dataframe tbody tr th:only-of-type {\n",
       "        vertical-align: middle;\n",
       "    }\n",
       "\n",
       "    .dataframe tbody tr th {\n",
       "        vertical-align: top;\n",
       "    }\n",
       "\n",
       "    .dataframe thead th {\n",
       "        text-align: right;\n",
       "    }\n",
       "</style>\n",
       "<table border=\"1\" class=\"dataframe\">\n",
       "  <thead>\n",
       "    <tr style=\"text-align: right;\">\n",
       "      <th></th>\n",
       "      <th>id</th>\n",
       "      <th>mb_used</th>\n",
       "      <th>session_date</th>\n",
       "      <th>user_id</th>\n",
       "      <th>month</th>\n",
       "    </tr>\n",
       "  </thead>\n",
       "  <tbody>\n",
       "    <tr>\n",
       "      <th>0</th>\n",
       "      <td>1000_0</td>\n",
       "      <td>112.95</td>\n",
       "      <td>2018-11-25</td>\n",
       "      <td>1000</td>\n",
       "      <td>2018-11-01</td>\n",
       "    </tr>\n",
       "    <tr>\n",
       "      <th>1</th>\n",
       "      <td>1000_1</td>\n",
       "      <td>1052.81</td>\n",
       "      <td>2018-09-07</td>\n",
       "      <td>1000</td>\n",
       "      <td>2018-09-01</td>\n",
       "    </tr>\n",
       "  </tbody>\n",
       "</table>\n",
       "</div>"
      ],
      "text/plain": [
       "       id  mb_used session_date  user_id      month\n",
       "0  1000_0   112.95   2018-11-25     1000 2018-11-01\n",
       "1  1000_1  1052.81   2018-09-07     1000 2018-09-01"
      ]
     },
     "execution_count": 44,
     "metadata": {},
     "output_type": "execute_result"
    }
   ],
   "source": [
    "# проверим результат\n",
    "internet.head(2)"
   ]
  },
  {
   "cell_type": "markdown",
   "metadata": {},
   "source": [
    "### Количественный расчёт пользования услугами"
   ]
  },
  {
   "cell_type": "markdown",
   "metadata": {},
   "source": [
    "Посчитаем для каждого пользователя количество сделанных звонков и израсходованных минут разговора по месяцам:"
   ]
  },
  {
   "cell_type": "code",
   "execution_count": 45,
   "metadata": {
    "ExecuteTime": {
     "end_time": "2022-05-13T11:06:54.557388Z",
     "start_time": "2022-05-13T11:06:54.421464Z"
    }
   },
   "outputs": [
    {
     "data": {
      "text/html": [
       "<div>\n",
       "<style scoped>\n",
       "    .dataframe tbody tr th:only-of-type {\n",
       "        vertical-align: middle;\n",
       "    }\n",
       "\n",
       "    .dataframe tbody tr th {\n",
       "        vertical-align: top;\n",
       "    }\n",
       "\n",
       "    .dataframe thead th {\n",
       "        text-align: right;\n",
       "    }\n",
       "</style>\n",
       "<table border=\"1\" class=\"dataframe\">\n",
       "  <thead>\n",
       "    <tr style=\"text-align: right;\">\n",
       "      <th></th>\n",
       "      <th></th>\n",
       "      <th>calls_facts</th>\n",
       "      <th>calls_total</th>\n",
       "    </tr>\n",
       "    <tr>\n",
       "      <th>user_id</th>\n",
       "      <th>month</th>\n",
       "      <th></th>\n",
       "      <th></th>\n",
       "    </tr>\n",
       "  </thead>\n",
       "  <tbody>\n",
       "    <tr>\n",
       "      <th rowspan=\"5\" valign=\"top\">1000</th>\n",
       "      <th>2018-05-01</th>\n",
       "      <td>22</td>\n",
       "      <td>159.0</td>\n",
       "    </tr>\n",
       "    <tr>\n",
       "      <th>2018-06-01</th>\n",
       "      <td>43</td>\n",
       "      <td>172.0</td>\n",
       "    </tr>\n",
       "    <tr>\n",
       "      <th>2018-07-01</th>\n",
       "      <td>47</td>\n",
       "      <td>340.0</td>\n",
       "    </tr>\n",
       "    <tr>\n",
       "      <th>2018-08-01</th>\n",
       "      <td>52</td>\n",
       "      <td>408.0</td>\n",
       "    </tr>\n",
       "    <tr>\n",
       "      <th>2018-09-01</th>\n",
       "      <td>58</td>\n",
       "      <td>466.0</td>\n",
       "    </tr>\n",
       "  </tbody>\n",
       "</table>\n",
       "</div>"
      ],
      "text/plain": [
       "                    calls_facts  calls_total\n",
       "user_id month                               \n",
       "1000    2018-05-01           22        159.0\n",
       "        2018-06-01           43        172.0\n",
       "        2018-07-01           47        340.0\n",
       "        2018-08-01           52        408.0\n",
       "        2018-09-01           58        466.0"
      ]
     },
     "execution_count": 45,
     "metadata": {},
     "output_type": "execute_result"
    }
   ],
   "source": [
    "# создадим сводную таблицу\n",
    "user_calls = calls.pivot_table(\n",
    "    index = ['user_id', 'month'], \n",
    "    values = 'duration', \n",
    "    aggfunc = ['count', 'sum']\n",
    ")\n",
    "\n",
    "# переименуем столбцы\n",
    "user_calls.columns = ['calls_facts', 'calls_total']\n",
    "\n",
    "# выведем результат\n",
    "user_calls.head()"
   ]
  },
  {
   "cell_type": "markdown",
   "metadata": {},
   "source": [
    "Посчитаем для каждого пользователя количество отправленных сообщений по месяцам (пропуски оставим, поскольку отсутствие сообщений в указанном месяце равносильно неиспользованию сервиса сообщений):"
   ]
  },
  {
   "cell_type": "code",
   "execution_count": 46,
   "metadata": {
    "ExecuteTime": {
     "end_time": "2022-05-13T11:06:54.632343Z",
     "start_time": "2022-05-13T11:06:54.560385Z"
    }
   },
   "outputs": [
    {
     "data": {
      "text/html": [
       "<div>\n",
       "<style scoped>\n",
       "    .dataframe tbody tr th:only-of-type {\n",
       "        vertical-align: middle;\n",
       "    }\n",
       "\n",
       "    .dataframe tbody tr th {\n",
       "        vertical-align: top;\n",
       "    }\n",
       "\n",
       "    .dataframe thead th {\n",
       "        text-align: right;\n",
       "    }\n",
       "</style>\n",
       "<table border=\"1\" class=\"dataframe\">\n",
       "  <thead>\n",
       "    <tr style=\"text-align: right;\">\n",
       "      <th></th>\n",
       "      <th></th>\n",
       "      <th>messages_facts</th>\n",
       "    </tr>\n",
       "    <tr>\n",
       "      <th>user_id</th>\n",
       "      <th>month</th>\n",
       "      <th></th>\n",
       "    </tr>\n",
       "  </thead>\n",
       "  <tbody>\n",
       "    <tr>\n",
       "      <th rowspan=\"5\" valign=\"top\">1000</th>\n",
       "      <th>2018-05-01</th>\n",
       "      <td>22</td>\n",
       "    </tr>\n",
       "    <tr>\n",
       "      <th>2018-06-01</th>\n",
       "      <td>60</td>\n",
       "    </tr>\n",
       "    <tr>\n",
       "      <th>2018-07-01</th>\n",
       "      <td>75</td>\n",
       "    </tr>\n",
       "    <tr>\n",
       "      <th>2018-08-01</th>\n",
       "      <td>81</td>\n",
       "    </tr>\n",
       "    <tr>\n",
       "      <th>2018-09-01</th>\n",
       "      <td>57</td>\n",
       "    </tr>\n",
       "  </tbody>\n",
       "</table>\n",
       "</div>"
      ],
      "text/plain": [
       "                    messages_facts\n",
       "user_id month                     \n",
       "1000    2018-05-01              22\n",
       "        2018-06-01              60\n",
       "        2018-07-01              75\n",
       "        2018-08-01              81\n",
       "        2018-09-01              57"
      ]
     },
     "execution_count": 46,
     "metadata": {},
     "output_type": "execute_result"
    }
   ],
   "source": [
    "# создадим сводную таблицу\n",
    "user_messages = messages.pivot_table(\n",
    "    index = ['user_id', 'month'], \n",
    "    values = 'id', \n",
    "    aggfunc = ['count']\n",
    ")\n",
    "\n",
    "# переименуем столбцы\n",
    "user_messages.columns = ['messages_facts']\n",
    "\n",
    "# выведем результат\n",
    "user_messages.head()"
   ]
  },
  {
   "cell_type": "markdown",
   "metadata": {},
   "source": [
    "Посчитаем для каждого пользователя объём израсходованного интернет-трафика по месяцам (пропуски оставим, поскольку отсутствие пользования интернетом в указанном месяце равносильно неиспользованию интернета в данном месяце):"
   ]
  },
  {
   "cell_type": "code",
   "execution_count": 47,
   "metadata": {
    "ExecuteTime": {
     "end_time": "2022-05-13T11:06:54.760166Z",
     "start_time": "2022-05-13T11:06:54.636342Z"
    },
    "scrolled": true
   },
   "outputs": [
    {
     "data": {
      "text/html": [
       "<div>\n",
       "<style scoped>\n",
       "    .dataframe tbody tr th:only-of-type {\n",
       "        vertical-align: middle;\n",
       "    }\n",
       "\n",
       "    .dataframe tbody tr th {\n",
       "        vertical-align: top;\n",
       "    }\n",
       "\n",
       "    .dataframe thead th {\n",
       "        text-align: right;\n",
       "    }\n",
       "</style>\n",
       "<table border=\"1\" class=\"dataframe\">\n",
       "  <thead>\n",
       "    <tr style=\"text-align: right;\">\n",
       "      <th></th>\n",
       "      <th></th>\n",
       "      <th>internet_facts</th>\n",
       "      <th>internet_total</th>\n",
       "    </tr>\n",
       "    <tr>\n",
       "      <th>user_id</th>\n",
       "      <th>month</th>\n",
       "      <th></th>\n",
       "      <th></th>\n",
       "    </tr>\n",
       "  </thead>\n",
       "  <tbody>\n",
       "    <tr>\n",
       "      <th rowspan=\"5\" valign=\"top\">1000</th>\n",
       "      <th>2018-05-01</th>\n",
       "      <td>5</td>\n",
       "      <td>3.0</td>\n",
       "    </tr>\n",
       "    <tr>\n",
       "      <th>2018-06-01</th>\n",
       "      <td>49</td>\n",
       "      <td>23.0</td>\n",
       "    </tr>\n",
       "    <tr>\n",
       "      <th>2018-07-01</th>\n",
       "      <td>29</td>\n",
       "      <td>14.0</td>\n",
       "    </tr>\n",
       "    <tr>\n",
       "      <th>2018-08-01</th>\n",
       "      <td>29</td>\n",
       "      <td>14.0</td>\n",
       "    </tr>\n",
       "    <tr>\n",
       "      <th>2018-09-01</th>\n",
       "      <td>27</td>\n",
       "      <td>15.0</td>\n",
       "    </tr>\n",
       "  </tbody>\n",
       "</table>\n",
       "</div>"
      ],
      "text/plain": [
       "                    internet_facts  internet_total\n",
       "user_id month                                     \n",
       "1000    2018-05-01               5             3.0\n",
       "        2018-06-01              49            23.0\n",
       "        2018-07-01              29            14.0\n",
       "        2018-08-01              29            14.0\n",
       "        2018-09-01              27            15.0"
      ]
     },
     "execution_count": 47,
     "metadata": {},
     "output_type": "execute_result"
    }
   ],
   "source": [
    "# создадим сводную таблицу\n",
    "user_internet = internet.pivot_table(\n",
    "    index = ['user_id', 'month'], \n",
    "    values = 'mb_used', \n",
    "    aggfunc = ['count', 'sum']\n",
    ")\n",
    "\n",
    "# переименуем столбцы\n",
    "user_internet.columns = ['internet_facts', 'internet_total']\n",
    "\n",
    "# округлим ежемесячное потребление в гигабайтах согласно требуемым правилам\n",
    "user_internet['internet_total'] = np.ceil(\n",
    "    user_internet['internet_total'].apply(lambda x : x / 1024)\n",
    ")\n",
    "\n",
    "# выведем результат\n",
    "user_internet.head()"
   ]
  },
  {
   "cell_type": "markdown",
   "metadata": {},
   "source": [
    "Соберём полученные сводные таблицы в одну и проверим, все ли данные попали в итоговую таблицу:"
   ]
  },
  {
   "cell_type": "code",
   "execution_count": 48,
   "metadata": {
    "ExecuteTime": {
     "end_time": "2022-05-13T11:06:54.808140Z",
     "start_time": "2022-05-13T11:06:54.765166Z"
    }
   },
   "outputs": [
    {
     "data": {
      "text/plain": [
       "calls_facts        40\n",
       "calls_total        40\n",
       "messages_facts    497\n",
       "internet_facts     11\n",
       "internet_total     11\n",
       "city                0\n",
       "tariff_name         0\n",
       "dtype: int64"
      ]
     },
     "execution_count": 48,
     "metadata": {},
     "output_type": "execute_result"
    }
   ],
   "source": [
    "# Соберём расчёты в одну таблицу и добавим данные по тарифам\n",
    "user_total = (\n",
    "    user_calls\n",
    "    .join(user_messages, \n",
    "         on=['user_id', 'month'],\n",
    "         how='outer')\n",
    "    .join(user_internet,\n",
    "         on=['user_id', 'month'],\n",
    "         how='outer')\n",
    "    .join(users[['city', 'tariff_name']],\n",
    "         on='user_id',\n",
    "         how='left')\n",
    ")\n",
    "\n",
    "# проверим, все ли коиенты пользовались всеми услугами каждый месяц\n",
    "user_total.isna().sum()"
   ]
  },
  {
   "cell_type": "markdown",
   "metadata": {},
   "source": [
    "В сводной таблице часть значений пропущена. Это соответствует ситуации, когда отдельные клиенты не пользовались *всеми* услугами оператора каждый месяц. Логично заполнить пропуски нулями и использовать их в дальнейшем при проверке статистических гипотез:"
   ]
  },
  {
   "cell_type": "code",
   "execution_count": 49,
   "metadata": {
    "ExecuteTime": {
     "end_time": "2022-05-13T11:06:54.856111Z",
     "start_time": "2022-05-13T11:06:54.813136Z"
    }
   },
   "outputs": [
    {
     "data": {
      "text/html": [
       "<div>\n",
       "<style scoped>\n",
       "    .dataframe tbody tr th:only-of-type {\n",
       "        vertical-align: middle;\n",
       "    }\n",
       "\n",
       "    .dataframe tbody tr th {\n",
       "        vertical-align: top;\n",
       "    }\n",
       "\n",
       "    .dataframe thead th {\n",
       "        text-align: right;\n",
       "    }\n",
       "</style>\n",
       "<table border=\"1\" class=\"dataframe\">\n",
       "  <thead>\n",
       "    <tr style=\"text-align: right;\">\n",
       "      <th></th>\n",
       "      <th></th>\n",
       "      <th>calls_facts</th>\n",
       "      <th>calls_total</th>\n",
       "      <th>messages_facts</th>\n",
       "      <th>internet_facts</th>\n",
       "      <th>internet_total</th>\n",
       "      <th>city</th>\n",
       "      <th>tariff_name</th>\n",
       "    </tr>\n",
       "    <tr>\n",
       "      <th>user_id</th>\n",
       "      <th>month</th>\n",
       "      <th></th>\n",
       "      <th></th>\n",
       "      <th></th>\n",
       "      <th></th>\n",
       "      <th></th>\n",
       "      <th></th>\n",
       "      <th></th>\n",
       "    </tr>\n",
       "  </thead>\n",
       "  <tbody>\n",
       "    <tr>\n",
       "      <th rowspan=\"5\" valign=\"top\">1000</th>\n",
       "      <th>2018-05-01</th>\n",
       "      <td>22.0</td>\n",
       "      <td>159.0</td>\n",
       "      <td>22.0</td>\n",
       "      <td>5.0</td>\n",
       "      <td>3.0</td>\n",
       "      <td>Краснодар</td>\n",
       "      <td>ultra</td>\n",
       "    </tr>\n",
       "    <tr>\n",
       "      <th>2018-06-01</th>\n",
       "      <td>43.0</td>\n",
       "      <td>172.0</td>\n",
       "      <td>60.0</td>\n",
       "      <td>49.0</td>\n",
       "      <td>23.0</td>\n",
       "      <td>Краснодар</td>\n",
       "      <td>ultra</td>\n",
       "    </tr>\n",
       "    <tr>\n",
       "      <th>2018-07-01</th>\n",
       "      <td>47.0</td>\n",
       "      <td>340.0</td>\n",
       "      <td>75.0</td>\n",
       "      <td>29.0</td>\n",
       "      <td>14.0</td>\n",
       "      <td>Краснодар</td>\n",
       "      <td>ultra</td>\n",
       "    </tr>\n",
       "    <tr>\n",
       "      <th>2018-08-01</th>\n",
       "      <td>52.0</td>\n",
       "      <td>408.0</td>\n",
       "      <td>81.0</td>\n",
       "      <td>29.0</td>\n",
       "      <td>14.0</td>\n",
       "      <td>Краснодар</td>\n",
       "      <td>ultra</td>\n",
       "    </tr>\n",
       "    <tr>\n",
       "      <th>2018-09-01</th>\n",
       "      <td>58.0</td>\n",
       "      <td>466.0</td>\n",
       "      <td>57.0</td>\n",
       "      <td>27.0</td>\n",
       "      <td>15.0</td>\n",
       "      <td>Краснодар</td>\n",
       "      <td>ultra</td>\n",
       "    </tr>\n",
       "  </tbody>\n",
       "</table>\n",
       "</div>"
      ],
      "text/plain": [
       "                    calls_facts  calls_total  messages_facts  internet_facts  \\\n",
       "user_id month                                                                  \n",
       "1000    2018-05-01         22.0        159.0            22.0             5.0   \n",
       "        2018-06-01         43.0        172.0            60.0            49.0   \n",
       "        2018-07-01         47.0        340.0            75.0            29.0   \n",
       "        2018-08-01         52.0        408.0            81.0            29.0   \n",
       "        2018-09-01         58.0        466.0            57.0            27.0   \n",
       "\n",
       "                    internet_total       city tariff_name  \n",
       "user_id month                                              \n",
       "1000    2018-05-01             3.0  Краснодар       ultra  \n",
       "        2018-06-01            23.0  Краснодар       ultra  \n",
       "        2018-07-01            14.0  Краснодар       ultra  \n",
       "        2018-08-01            14.0  Краснодар       ultra  \n",
       "        2018-09-01            15.0  Краснодар       ultra  "
      ]
     },
     "execution_count": 49,
     "metadata": {},
     "output_type": "execute_result"
    }
   ],
   "source": [
    "# заполним нулями пропуски пользования отдельными услугами в конкретные месяцы\n",
    "user_total.fillna(value=0, axis=0, inplace=True)\n",
    "user_total.head()"
   ]
  },
  {
   "cell_type": "markdown",
   "metadata": {},
   "source": [
    "Проверим, все ли данные вошли в итоговую таблицу:"
   ]
  },
  {
   "cell_type": "code",
   "execution_count": 50,
   "metadata": {
    "ExecuteTime": {
     "end_time": "2022-05-13T11:06:54.886098Z",
     "start_time": "2022-05-13T11:06:54.860110Z"
    }
   },
   "outputs": [
    {
     "name": "stdout",
     "output_type": "stream",
     "text": [
      "В сводной таблице данные по всем пользователям.\n"
     ]
    }
   ],
   "source": [
    "# проверим данные по пользователям\n",
    "if len(user_total.index.get_level_values(0).unique()) == len(users):\n",
    "    print('В сводной таблице данные по всем пользователям.')\n",
    "else:\n",
    "    print('ОШИБКА! В сводной таблице пропущены данные о пользователях!')    "
   ]
  },
  {
   "cell_type": "code",
   "execution_count": 51,
   "metadata": {
    "ExecuteTime": {
     "end_time": "2022-05-13T11:06:54.918076Z",
     "start_time": "2022-05-13T11:06:54.889094Z"
    }
   },
   "outputs": [
    {
     "data": {
      "text/plain": [
       "calls_facts        202607.0\n",
       "calls_total       1450301.0\n",
       "messages_facts     123036.0\n",
       "internet_facts     149396.0\n",
       "internet_total      55599.0\n",
       "dtype: float64"
      ]
     },
     "execution_count": 51,
     "metadata": {},
     "output_type": "execute_result"
    }
   ],
   "source": [
    "# расчёт суммы по сводной таблице\n",
    "user_total[['calls_facts', 'calls_total', 'messages_facts', 'internet_facts', 'internet_total']].sum()"
   ]
  },
  {
   "cell_type": "code",
   "execution_count": 52,
   "metadata": {
    "ExecuteTime": {
     "end_time": "2022-05-13T11:06:54.949063Z",
     "start_time": "2022-05-13T11:06:54.921075Z"
    }
   },
   "outputs": [
    {
     "name": "stdout",
     "output_type": "stream",
     "text": [
      "original calls facts: 202607\n",
      "original salls total: 1450301.0\n",
      "original messages facts: 123036\n",
      "original internet facts: 149396\n",
      "original internet total: 54009.05051757812\n"
     ]
    }
   ],
   "source": [
    "# расчёт суммы по отдельным таблицам\n",
    "print('original calls facts:', len(calls))\n",
    "print('original salls total:', calls['duration'].sum())\n",
    "print('original messages facts:', len(messages))\n",
    "print('original internet facts:', len(internet))\n",
    "print('original internet total:', internet['mb_used'].sum() / 1024)"
   ]
  },
  {
   "cell_type": "markdown",
   "metadata": {},
   "source": [
    "Поскольку мы округляли гигабайты \"к потолку\", можно считать, что все данные по сумме трафика учтены в сводной таблице, равно как остальные данные по услугам."
   ]
  },
  {
   "cell_type": "markdown",
   "metadata": {},
   "source": [
    "### Рассчёт затрат пользователей за услуги по месяцам"
   ]
  },
  {
   "cell_type": "markdown",
   "metadata": {},
   "source": [
    "Добавим в сводную таблицу информацию о тарифах:"
   ]
  },
  {
   "cell_type": "code",
   "execution_count": 53,
   "metadata": {
    "ExecuteTime": {
     "end_time": "2022-05-13T11:06:54.995032Z",
     "start_time": "2022-05-13T11:06:54.954058Z"
    },
    "code_folding": []
   },
   "outputs": [
    {
     "data": {
      "text/html": [
       "<div>\n",
       "<style scoped>\n",
       "    .dataframe tbody tr th:only-of-type {\n",
       "        vertical-align: middle;\n",
       "    }\n",
       "\n",
       "    .dataframe tbody tr th {\n",
       "        vertical-align: top;\n",
       "    }\n",
       "\n",
       "    .dataframe thead th {\n",
       "        text-align: right;\n",
       "    }\n",
       "</style>\n",
       "<table border=\"1\" class=\"dataframe\">\n",
       "  <thead>\n",
       "    <tr style=\"text-align: right;\">\n",
       "      <th></th>\n",
       "      <th>1584</th>\n",
       "      <th>462</th>\n",
       "      <th>1587</th>\n",
       "      <th>2768</th>\n",
       "      <th>3001</th>\n",
       "    </tr>\n",
       "  </thead>\n",
       "  <tbody>\n",
       "    <tr>\n",
       "      <th>calls_facts</th>\n",
       "      <td>59.0</td>\n",
       "      <td>83.0</td>\n",
       "      <td>78.0</td>\n",
       "      <td>72.0</td>\n",
       "      <td>75.0</td>\n",
       "    </tr>\n",
       "    <tr>\n",
       "      <th>calls_total</th>\n",
       "      <td>466.0</td>\n",
       "      <td>617.0</td>\n",
       "      <td>497.0</td>\n",
       "      <td>503.0</td>\n",
       "      <td>557.0</td>\n",
       "    </tr>\n",
       "    <tr>\n",
       "      <th>messages_facts</th>\n",
       "      <td>0.0</td>\n",
       "      <td>19.0</td>\n",
       "      <td>0.0</td>\n",
       "      <td>88.0</td>\n",
       "      <td>83.0</td>\n",
       "    </tr>\n",
       "    <tr>\n",
       "      <th>internet_facts</th>\n",
       "      <td>44.0</td>\n",
       "      <td>65.0</td>\n",
       "      <td>41.0</td>\n",
       "      <td>42.0</td>\n",
       "      <td>27.0</td>\n",
       "    </tr>\n",
       "    <tr>\n",
       "      <th>internet_total</th>\n",
       "      <td>20.0</td>\n",
       "      <td>22.0</td>\n",
       "      <td>18.0</td>\n",
       "      <td>14.0</td>\n",
       "      <td>14.0</td>\n",
       "    </tr>\n",
       "    <tr>\n",
       "      <th>city</th>\n",
       "      <td>Москва</td>\n",
       "      <td>Уфа</td>\n",
       "      <td>Москва</td>\n",
       "      <td>Подольск</td>\n",
       "      <td>Вологда</td>\n",
       "    </tr>\n",
       "    <tr>\n",
       "      <th>tariff_name</th>\n",
       "      <td>ultra</td>\n",
       "      <td>smart</td>\n",
       "      <td>ultra</td>\n",
       "      <td>smart</td>\n",
       "      <td>ultra</td>\n",
       "    </tr>\n",
       "    <tr>\n",
       "      <th>messages_included</th>\n",
       "      <td>1000</td>\n",
       "      <td>50</td>\n",
       "      <td>1000</td>\n",
       "      <td>50</td>\n",
       "      <td>1000</td>\n",
       "    </tr>\n",
       "    <tr>\n",
       "      <th>gb_per_month_included</th>\n",
       "      <td>30</td>\n",
       "      <td>15</td>\n",
       "      <td>30</td>\n",
       "      <td>15</td>\n",
       "      <td>30</td>\n",
       "    </tr>\n",
       "    <tr>\n",
       "      <th>minutes_included</th>\n",
       "      <td>3000</td>\n",
       "      <td>500</td>\n",
       "      <td>3000</td>\n",
       "      <td>500</td>\n",
       "      <td>3000</td>\n",
       "    </tr>\n",
       "    <tr>\n",
       "      <th>rub_monthly_fee</th>\n",
       "      <td>1950</td>\n",
       "      <td>550</td>\n",
       "      <td>1950</td>\n",
       "      <td>550</td>\n",
       "      <td>1950</td>\n",
       "    </tr>\n",
       "    <tr>\n",
       "      <th>rub_per_gb</th>\n",
       "      <td>150</td>\n",
       "      <td>200</td>\n",
       "      <td>150</td>\n",
       "      <td>200</td>\n",
       "      <td>150</td>\n",
       "    </tr>\n",
       "    <tr>\n",
       "      <th>rub_per_message</th>\n",
       "      <td>1</td>\n",
       "      <td>3</td>\n",
       "      <td>1</td>\n",
       "      <td>3</td>\n",
       "      <td>1</td>\n",
       "    </tr>\n",
       "    <tr>\n",
       "      <th>rub_per_minute</th>\n",
       "      <td>1</td>\n",
       "      <td>3</td>\n",
       "      <td>1</td>\n",
       "      <td>3</td>\n",
       "      <td>1</td>\n",
       "    </tr>\n",
       "  </tbody>\n",
       "</table>\n",
       "</div>"
      ],
      "text/plain": [
       "                         1584   462     1587      2768     3001\n",
       "calls_facts              59.0   83.0    78.0      72.0     75.0\n",
       "calls_total             466.0  617.0   497.0     503.0    557.0\n",
       "messages_facts            0.0   19.0     0.0      88.0     83.0\n",
       "internet_facts           44.0   65.0    41.0      42.0     27.0\n",
       "internet_total           20.0   22.0    18.0      14.0     14.0\n",
       "city                   Москва    Уфа  Москва  Подольск  Вологда\n",
       "tariff_name             ultra  smart   ultra     smart    ultra\n",
       "messages_included        1000     50    1000        50     1000\n",
       "gb_per_month_included      30     15      30        15       30\n",
       "minutes_included         3000    500    3000       500     3000\n",
       "rub_monthly_fee          1950    550    1950       550     1950\n",
       "rub_per_gb                150    200     150       200      150\n",
       "rub_per_message             1      3       1         3        1\n",
       "rub_per_minute              1      3       1         3        1"
      ]
     },
     "execution_count": 53,
     "metadata": {},
     "output_type": "execute_result"
    }
   ],
   "source": [
    "# добавим в таблицу user_total информацию о тарифах\n",
    "user_total = (\n",
    "    user_total\n",
    "    .merge(tariffs,\n",
    "          on='tariff_name',\n",
    "          how='left')\n",
    ")\n",
    "# выведем результат\n",
    "user_total.sample(5).T"
   ]
  },
  {
   "cell_type": "markdown",
   "metadata": {},
   "source": [
    "Рассчитаем для каждого пользователя выручку \"Мегалайна\" по месяцам."
   ]
  },
  {
   "cell_type": "markdown",
   "metadata": {},
   "source": [
    "Добавим в таблицу столбец суммарных помесячных затрат пользователей, после чего удалим информацию о тарифах:"
   ]
  },
  {
   "cell_type": "code",
   "execution_count": 54,
   "metadata": {
    "ExecuteTime": {
     "end_time": "2022-05-13T11:06:55.057000Z",
     "start_time": "2022-05-13T11:06:54.999032Z"
    }
   },
   "outputs": [
    {
     "data": {
      "text/html": [
       "<div>\n",
       "<style scoped>\n",
       "    .dataframe tbody tr th:only-of-type {\n",
       "        vertical-align: middle;\n",
       "    }\n",
       "\n",
       "    .dataframe tbody tr th {\n",
       "        vertical-align: top;\n",
       "    }\n",
       "\n",
       "    .dataframe thead th {\n",
       "        text-align: right;\n",
       "    }\n",
       "</style>\n",
       "<table border=\"1\" class=\"dataframe\">\n",
       "  <thead>\n",
       "    <tr style=\"text-align: right;\">\n",
       "      <th></th>\n",
       "      <th>calls_facts</th>\n",
       "      <th>calls_total</th>\n",
       "      <th>messages_facts</th>\n",
       "      <th>internet_facts</th>\n",
       "      <th>internet_total</th>\n",
       "      <th>city</th>\n",
       "      <th>tariff_name</th>\n",
       "      <th>spendings</th>\n",
       "    </tr>\n",
       "  </thead>\n",
       "  <tbody>\n",
       "    <tr>\n",
       "      <th>759</th>\n",
       "      <td>36.0</td>\n",
       "      <td>310.0</td>\n",
       "      <td>0.0</td>\n",
       "      <td>21.0</td>\n",
       "      <td>13.0</td>\n",
       "      <td>Краснодар</td>\n",
       "      <td>ultra</td>\n",
       "      <td>1950.0</td>\n",
       "    </tr>\n",
       "    <tr>\n",
       "      <th>1357</th>\n",
       "      <td>63.0</td>\n",
       "      <td>567.0</td>\n",
       "      <td>17.0</td>\n",
       "      <td>60.0</td>\n",
       "      <td>17.0</td>\n",
       "      <td>Рязань</td>\n",
       "      <td>smart</td>\n",
       "      <td>1151.0</td>\n",
       "    </tr>\n",
       "    <tr>\n",
       "      <th>3137</th>\n",
       "      <td>81.0</td>\n",
       "      <td>510.0</td>\n",
       "      <td>13.0</td>\n",
       "      <td>71.0</td>\n",
       "      <td>17.0</td>\n",
       "      <td>Санкт-Петербург</td>\n",
       "      <td>smart</td>\n",
       "      <td>980.0</td>\n",
       "    </tr>\n",
       "    <tr>\n",
       "      <th>248</th>\n",
       "      <td>77.0</td>\n",
       "      <td>541.0</td>\n",
       "      <td>137.0</td>\n",
       "      <td>43.0</td>\n",
       "      <td>21.0</td>\n",
       "      <td>Ярославль</td>\n",
       "      <td>ultra</td>\n",
       "      <td>1950.0</td>\n",
       "    </tr>\n",
       "    <tr>\n",
       "      <th>340</th>\n",
       "      <td>91.0</td>\n",
       "      <td>595.0</td>\n",
       "      <td>62.0</td>\n",
       "      <td>63.0</td>\n",
       "      <td>19.0</td>\n",
       "      <td>Омск</td>\n",
       "      <td>smart</td>\n",
       "      <td>1671.0</td>\n",
       "    </tr>\n",
       "  </tbody>\n",
       "</table>\n",
       "</div>"
      ],
      "text/plain": [
       "      calls_facts  calls_total  messages_facts  internet_facts  \\\n",
       "759          36.0        310.0             0.0            21.0   \n",
       "1357         63.0        567.0            17.0            60.0   \n",
       "3137         81.0        510.0            13.0            71.0   \n",
       "248          77.0        541.0           137.0            43.0   \n",
       "340          91.0        595.0            62.0            63.0   \n",
       "\n",
       "      internet_total             city tariff_name  spendings  \n",
       "759             13.0        Краснодар       ultra     1950.0  \n",
       "1357            17.0           Рязань       smart     1151.0  \n",
       "3137            17.0  Санкт-Петербург       smart      980.0  \n",
       "248             21.0        Ярославль       ultra     1950.0  \n",
       "340             19.0             Омск       smart     1671.0  "
      ]
     },
     "execution_count": 54,
     "metadata": {},
     "output_type": "execute_result"
    }
   ],
   "source": [
    "# расчёт суммарных затрат\n",
    "user_total['spendings'] = (\n",
    "    # 1. вычислим стоимость превышения минут (отсекаем отрицательные значения нулём)\n",
    "    (user_total['calls_total'] - user_total['minutes_included']).clip(lower=0) * user_total['rub_per_minute'] +\n",
    "    # 2. вычислим стоимость превышения сообщений\n",
    "    (user_total['messages_facts'] - user_total['messages_included']).clip(lower=0) * user_total['rub_per_message'] +\n",
    "    # 3. вычислим стоимость превышения трафика\n",
    "    (user_total['internet_total'] - user_total['gb_per_month_included']).clip(lower=0) * user_total['rub_per_gb'] +\n",
    "    # 4. добавим абонплату\n",
    "    user_total['rub_monthly_fee']\n",
    ")\n",
    "\n",
    "# удаление информации о тарифах\n",
    "user_total.drop(\n",
    "    ['messages_included', 'gb_per_month_included', 'minutes_included', \n",
    "     'rub_monthly_fee', 'rub_per_gb', 'rub_per_message', 'rub_per_minute'],\n",
    "    axis=1,\n",
    "    inplace=True\n",
    ")\n",
    "\n",
    "# вывод результата\n",
    "user_total.sample(5)"
   ]
  },
  {
   "cell_type": "markdown",
   "metadata": {},
   "source": [
    "### Выводы"
   ]
  },
  {
   "cell_type": "markdown",
   "metadata": {},
   "source": [
    "В ходе обогащения данных мы выполнили следующие действия:\n",
    "\n",
    "1. Извлекли из даты месяц пользования для каждого факта пользования услугами.\n",
    "\n",
    "2. Рассчитали количественные объёмы пользования услугами для различных клиентов по месяцам.\n",
    "\n",
    "3. Рассчитали общие затраты всех пользователей по месяцам.\n",
    "\n",
    "Теперь таблица `user_total` содержит все статистические данные по всем 498 клиентам за все месяцы пользования услугами. Перейдём к анализу данных и описанию поведения клиентов \"Мегалайна\"."
   ]
  },
  {
   "cell_type": "markdown",
   "metadata": {},
   "source": [
    "## Анализ данных: описание поведения клиентов оператора\n",
    "---"
   ]
  },
  {
   "cell_type": "markdown",
   "metadata": {},
   "source": [
    "Определим, сколько минут разговора, сколько сообщений и какой объём интернет-трафика требуется пользователям каждого тарифа в месяц (посчитаем среднее количество, дисперсию и стандартное отклонение)."
   ]
  },
  {
   "cell_type": "markdown",
   "metadata": {},
   "source": [
    "Оценим размеры выборок данных по тарифам для анализа:"
   ]
  },
  {
   "cell_type": "code",
   "execution_count": 55,
   "metadata": {
    "ExecuteTime": {
     "end_time": "2022-05-13T11:06:55.087979Z",
     "start_time": "2022-05-13T11:06:55.060995Z"
    }
   },
   "outputs": [
    {
     "data": {
      "text/plain": [
       "985"
      ]
     },
     "execution_count": 55,
     "metadata": {},
     "output_type": "execute_result"
    }
   ],
   "source": [
    "len(user_total[user_total['tariff_name'] == 'ultra'])"
   ]
  },
  {
   "cell_type": "code",
   "execution_count": 56,
   "metadata": {
    "ExecuteTime": {
     "end_time": "2022-05-13T11:06:55.118961Z",
     "start_time": "2022-05-13T11:06:55.090977Z"
    }
   },
   "outputs": [
    {
     "data": {
      "text/plain": [
       "2229"
      ]
     },
     "execution_count": 56,
     "metadata": {},
     "output_type": "execute_result"
    }
   ],
   "source": [
    "len(user_total[user_total['tariff_name'] == 'smart'])"
   ]
  },
  {
   "cell_type": "markdown",
   "metadata": {},
   "source": [
    "Итак, для каждого параметра мы получили по 2 выборки длиной 985 и 2229 испытаний соответственно."
   ]
  },
  {
   "cell_type": "markdown",
   "metadata": {},
   "source": [
    "Зададим функции для автоматизации построения гистограмм и диаграмм размаха для набора из 3 столбцов датафрейма:"
   ]
  },
  {
   "cell_type": "code",
   "execution_count": 57,
   "metadata": {
    "ExecuteTime": {
     "end_time": "2022-05-13T11:06:55.133953Z",
     "start_time": "2022-05-13T11:06:55.122960Z"
    }
   },
   "outputs": [],
   "source": [
    "# функция вывода гистограмм для набора столбцов датафрейма\n",
    "# ========================================================\n",
    "# на вход подаются:\n",
    "#     df - датафрейм \n",
    "#     columns - список названий колонок \n",
    "def histplt(df, columns):\n",
    "    fig, axes = plt.subplots(2, 2, figsize=(16,16))\n",
    "\n",
    "    axe = axes.ravel()\n",
    "\n",
    "    for i, column in enumerate(columns):\n",
    "        df[column].hist(ax=axe[i], bins=10)\n",
    "        axe[i].set_xlabel(column)\n",
    "        axe[i].set_ylabel('Частота')\n",
    "        axe[i].set_title('Распределение {}'.format(column))"
   ]
  },
  {
   "cell_type": "code",
   "execution_count": 58,
   "metadata": {
    "ExecuteTime": {
     "end_time": "2022-05-13T11:06:55.164935Z",
     "start_time": "2022-05-13T11:06:55.137955Z"
    }
   },
   "outputs": [],
   "source": [
    "# функция вывода диаграмм размаха для набора столбцов датафрейма\n",
    "# ==============================================================\n",
    "# на вход подаются:\n",
    "#     df - датафрейм \n",
    "#     columns - список названий колонок \n",
    "def boxplt(df, columns):\n",
    "    fig, axes = plt.subplots(2, 2, figsize=(16,16))\n",
    "\n",
    "    axe = axes.ravel()\n",
    "\n",
    "    for i, col in enumerate(columns):\n",
    "        df.boxplot(ax=axe[i], column=col)\n",
    "        axe[i].set_ylabel('Количество')\n",
    "        axe[i].set_title('Диаграмма размаха {}'.format(col))"
   ]
  },
  {
   "cell_type": "markdown",
   "metadata": {},
   "source": [
    "Рассчитаем среднее количество, дисперсию, стандартное отклонение для тарифов `smart` и `ultra`:"
   ]
  },
  {
   "cell_type": "code",
   "execution_count": 59,
   "metadata": {
    "ExecuteTime": {
     "end_time": "2022-05-13T11:06:55.243889Z",
     "start_time": "2022-05-13T11:06:55.167936Z"
    }
   },
   "outputs": [
    {
     "data": {
      "text/html": [
       "<div>\n",
       "<style scoped>\n",
       "    .dataframe tbody tr th:only-of-type {\n",
       "        vertical-align: middle;\n",
       "    }\n",
       "\n",
       "    .dataframe tbody tr th {\n",
       "        vertical-align: top;\n",
       "    }\n",
       "\n",
       "    .dataframe thead th {\n",
       "        text-align: right;\n",
       "    }\n",
       "</style>\n",
       "<table border=\"1\" class=\"dataframe\">\n",
       "  <thead>\n",
       "    <tr style=\"text-align: right;\">\n",
       "      <th></th>\n",
       "      <th>tariff_name</th>\n",
       "      <th>smart</th>\n",
       "      <th>ultra</th>\n",
       "    </tr>\n",
       "  </thead>\n",
       "  <tbody>\n",
       "    <tr>\n",
       "      <th rowspan=\"4\" valign=\"top\">mean</th>\n",
       "      <th>calls_total</th>\n",
       "      <td>417.934948</td>\n",
       "      <td>526.623350</td>\n",
       "    </tr>\n",
       "    <tr>\n",
       "      <th>internet_total</th>\n",
       "      <td>16.328847</td>\n",
       "      <td>19.494416</td>\n",
       "    </tr>\n",
       "    <tr>\n",
       "      <th>messages_facts</th>\n",
       "      <td>33.384029</td>\n",
       "      <td>49.363452</td>\n",
       "    </tr>\n",
       "    <tr>\n",
       "      <th>spendings</th>\n",
       "      <td>1289.973531</td>\n",
       "      <td>2070.152284</td>\n",
       "    </tr>\n",
       "    <tr>\n",
       "      <th rowspan=\"4\" valign=\"top\">var</th>\n",
       "      <th>calls_total</th>\n",
       "      <td>36219.315784</td>\n",
       "      <td>100873.633397</td>\n",
       "    </tr>\n",
       "    <tr>\n",
       "      <th>internet_total</th>\n",
       "      <td>33.028705</td>\n",
       "      <td>97.091686</td>\n",
       "    </tr>\n",
       "    <tr>\n",
       "      <th>messages_facts</th>\n",
       "      <td>796.812958</td>\n",
       "      <td>2285.266143</td>\n",
       "    </tr>\n",
       "    <tr>\n",
       "      <th>spendings</th>\n",
       "      <td>669785.708006</td>\n",
       "      <td>141516.745079</td>\n",
       "    </tr>\n",
       "    <tr>\n",
       "      <th rowspan=\"4\" valign=\"top\">std</th>\n",
       "      <th>calls_total</th>\n",
       "      <td>190.313730</td>\n",
       "      <td>317.606098</td>\n",
       "    </tr>\n",
       "    <tr>\n",
       "      <th>internet_total</th>\n",
       "      <td>5.747061</td>\n",
       "      <td>9.853511</td>\n",
       "    </tr>\n",
       "    <tr>\n",
       "      <th>messages_facts</th>\n",
       "      <td>28.227876</td>\n",
       "      <td>47.804457</td>\n",
       "    </tr>\n",
       "    <tr>\n",
       "      <th>spendings</th>\n",
       "      <td>818.404367</td>\n",
       "      <td>376.187114</td>\n",
       "    </tr>\n",
       "    <tr>\n",
       "      <th rowspan=\"4\" valign=\"top\">max</th>\n",
       "      <th>calls_total</th>\n",
       "      <td>1435.000000</td>\n",
       "      <td>1673.000000</td>\n",
       "    </tr>\n",
       "    <tr>\n",
       "      <th>internet_total</th>\n",
       "      <td>38.000000</td>\n",
       "      <td>49.000000</td>\n",
       "    </tr>\n",
       "    <tr>\n",
       "      <th>messages_facts</th>\n",
       "      <td>143.000000</td>\n",
       "      <td>224.000000</td>\n",
       "    </tr>\n",
       "    <tr>\n",
       "      <th>spendings</th>\n",
       "      <td>6770.000000</td>\n",
       "      <td>4800.000000</td>\n",
       "    </tr>\n",
       "  </tbody>\n",
       "</table>\n",
       "</div>"
      ],
      "text/plain": [
       "tariff_name                  smart          ultra\n",
       "mean calls_total        417.934948     526.623350\n",
       "     internet_total      16.328847      19.494416\n",
       "     messages_facts      33.384029      49.363452\n",
       "     spendings         1289.973531    2070.152284\n",
       "var  calls_total      36219.315784  100873.633397\n",
       "     internet_total      33.028705      97.091686\n",
       "     messages_facts     796.812958    2285.266143\n",
       "     spendings       669785.708006  141516.745079\n",
       "std  calls_total        190.313730     317.606098\n",
       "     internet_total       5.747061       9.853511\n",
       "     messages_facts      28.227876      47.804457\n",
       "     spendings          818.404367     376.187114\n",
       "max  calls_total       1435.000000    1673.000000\n",
       "     internet_total      38.000000      49.000000\n",
       "     messages_facts     143.000000     224.000000\n",
       "     spendings         6770.000000    4800.000000"
      ]
     },
     "execution_count": 59,
     "metadata": {},
     "output_type": "execute_result"
    }
   ],
   "source": [
    "# вычисление среднего, стандартного отклонения и квартилей\n",
    "user_total.pivot_table(\n",
    "    index = 'tariff_name',\n",
    "    values = ['calls_total', 'messages_facts', 'internet_total', 'spendings'],\n",
    "    aggfunc= ['mean', 'var','std', 'max']).T"
   ]
  },
  {
   "cell_type": "markdown",
   "metadata": {},
   "source": [
    "Итак, пользователи тарифа `ultra` в среднем используют:\n",
    "- 527 минут разговоров (17,6% от 3000 включённых);\n",
    "- 49 сообщений (4,9% от 1000 включённых);\n",
    "- 20 гигабайт интернета (66,7% от включённых 30).\n",
    "\n",
    "Таким образом, с одной стороны, пользователи `ultra` в среднем переплачивают абонентску плату за неиспользуемые услуги. Услуга коротких сообщений вообще не востребована в таком количестве.\n",
    "\n",
    "Если смотреть на максимальное потребление, то оно составляет:\n",
    "- 1673 минуты разговоров (55,8% от 3000 включённых);\n",
    "- 224 сообщений (22,4% от 1000 включённых);\n",
    "- 49 гигабайт интернета (163.3% от включённых).\n",
    "\n",
    "Действительно, что касается звонков и сообщений, пользователи оплачивают ненужные им в таком количестве услуги, а по интернету - даже, порой существенно переплачивают (при стоимости 150 руб/Гб - до 2850 рублей в месяц).\n",
    "\n",
    "Большие значения стандартного отклонения и дисперсии свидетельствуют о большом разбросе в потреблении услуг. Особенно выражено это на примере разговоров."
   ]
  },
  {
   "cell_type": "markdown",
   "metadata": {},
   "source": [
    "Пользователи тарифа `smart` в среднем используют:\n",
    "- 418 минут разговоров (83,6% от 500 включённых);\n",
    "- 33 сообщения (66% от 50 включённых);\n",
    "- 17 гигабайт интернета (113,3% от включённых 15).\n",
    "\n",
    "Таким образом, с одной стороны, пользователи `smart` в среднем переплачивают только за услугу передачи данных, используя голосовую связь и сообщения в пределах тарифа.\n",
    "\n",
    "Если смотреть на максимальное потребление, то оно составит:\n",
    "- 1435 минуты разговоров (287% от 500 включённых);\n",
    "- 143 сообщения (286% от 50 включённых);\n",
    "- 38 гигабайт интернета (253.3% от 15 включённых).\n",
    "\n",
    "Очевидно, максимальное потребление в среднем почти втрое превышает включённые лимиты. В рублях данное превышение выражается в 2805 рублей за минуты, 279 рублей за сообщения, 4600 рублей за трафик.\n",
    "\n",
    "Отметим, что максимальное потребление по разным услугам, скорее всего, наблюдается у разных клиентов, однако в целом можно констатировать, что некоторое количество клиентов \"выросло\" из тарифа `smart` и приносит повышенный доход Мегалайну."
   ]
  },
  {
   "cell_type": "markdown",
   "metadata": {},
   "source": [
    "В целом, дисперсия по всем услугам тарифа `smart` ниже, чем для тарифа `ultra`. Это может свидетельствовать о том, что пользователи `smart`, обладая более скромными лимитами, стараются в большинстве своём в них вписаться, в то время как пользователи `ultra` чувствуют большую свободу в выборе объёмов месячного потребления.\n",
    "\n",
    "Если анализировать среднюю выручку, то она составит:\n",
    "- 1290 рублей для пользователей `smart` (примерно в 2.3 раза превышает абонплату в 550 руб.);\n",
    "- 2070 рублей для пользователей `ultra` (примерно на 6% превышает абонплату в 1950 руб.).\n",
    "\n",
    "Однако, поскольку дисперсия затрат примерно в 2.2 раза выше для тарифа `smart`, можно предположить, что поведение пользователей данного тарифа более нестабильно."
   ]
  },
  {
   "cell_type": "markdown",
   "metadata": {},
   "source": [
    "Построим гистограммы для минут, сообщений и трафика в тарифе `ultra`:"
   ]
  },
  {
   "cell_type": "code",
   "execution_count": 60,
   "metadata": {
    "ExecuteTime": {
     "end_time": "2022-05-13T11:06:56.566138Z",
     "start_time": "2022-05-13T11:06:55.248888Z"
    }
   },
   "outputs": [
    {
     "data": {
      "image/png": "[encoded data removed]",
      "text/plain": [
       "<Figure size 1152x1152 with 4 Axes>"
      ]
     },
     "metadata": {
      "needs_background": "light"
     },
     "output_type": "display_data"
    }
   ],
   "source": [
    "histplt(user_total.query('tariff_name == \"ultra\"'), \n",
    "        ['calls_total', 'messages_facts', 'internet_total', 'spendings'])"
   ]
  },
  {
   "cell_type": "markdown",
   "metadata": {},
   "source": [
    "Построим диаграммы размаха для минут, сообщений и трафика в тарифе `ultra`:"
   ]
  },
  {
   "cell_type": "code",
   "execution_count": 61,
   "metadata": {
    "ExecuteTime": {
     "end_time": "2022-05-13T11:06:57.572560Z",
     "start_time": "2022-05-13T11:06:56.569133Z"
    }
   },
   "outputs": [
    {
     "data": {
      "image/png": "[encoded data removed]",
      "text/plain": [
       "<Figure size 1152x1152 with 4 Axes>"
      ]
     },
     "metadata": {
      "needs_background": "light"
     },
     "output_type": "display_data"
    }
   ],
   "source": [
    "boxplt(user_total.query('tariff_name == \"ultra\"'), \n",
    "       ['calls_total', 'messages_facts', 'internet_total', 'spendings'])"
   ]
  },
  {
   "cell_type": "markdown",
   "metadata": {},
   "source": [
    "Диаграммы и гистограммы подтверждают сделанные выше заключения - распределения минут и сообщений в тарифе `ultra` существенно смещены влево - в сторону недобора использования услуг. Распределение потребления трафика ближе к нормальному со средним в районе 18-19 Гбайт."
   ]
  },
  {
   "cell_type": "markdown",
   "metadata": {},
   "source": [
    "Построим гистограммы для минут, сообщений и трафика в тарифе `smart`:"
   ]
  },
  {
   "cell_type": "code",
   "execution_count": 62,
   "metadata": {
    "ExecuteTime": {
     "end_time": "2022-05-13T11:06:58.914075Z",
     "start_time": "2022-05-13T11:06:57.579555Z"
    },
    "scrolled": false
   },
   "outputs": [
    {
     "data": {
      "image/png": "[encoded data removed]",
      "text/plain": [
       "<Figure size 1152x1152 with 4 Axes>"
      ]
     },
     "metadata": {
      "needs_background": "light"
     },
     "output_type": "display_data"
    }
   ],
   "source": [
    "histplt(user_total.query('tariff_name == \"smart\"'), \n",
    "        ['calls_total', 'messages_facts', 'internet_total', 'spendings'])"
   ]
  },
  {
   "cell_type": "markdown",
   "metadata": {},
   "source": [
    "Построим диаграммы размаха для минут, сообщений и трафика в тарифе `smart`:"
   ]
  },
  {
   "cell_type": "code",
   "execution_count": 63,
   "metadata": {
    "ExecuteTime": {
     "end_time": "2022-05-13T11:06:59.960135Z",
     "start_time": "2022-05-13T11:06:58.918069Z"
    },
    "scrolled": false
   },
   "outputs": [
    {
     "data": {
      "image/png": "[encoded data removed]",
      "text/plain": [
       "<Figure size 1152x1152 with 4 Axes>"
      ]
     },
     "metadata": {
      "needs_background": "light"
     },
     "output_type": "display_data"
    }
   ],
   "source": [
    "boxplt(user_total.query('tariff_name == \"smart\"'), \n",
    "       ['calls_total', 'messages_facts', 'internet_total', 'spendings'])"
   ]
  },
  {
   "cell_type": "markdown",
   "metadata": {},
   "source": [
    "Диаграммы и гистограммы подтверждают сделанные выше заключения - распределения минут и сообщений в тарифе `smart` имеют форму нормального и пуассоновского распределения соответственно, а распределение потребления трафика - существенно смещено вправо, в сторону перерасхода (причём таких клиентов немало).\n",
    "\n",
    "Также следует отметить, что диаграммы размаха фиксируют существенно большее количество выбросов для клиентов данного тарифа, что подтверждает мысль о нестабильности их поведения."
   ]
  },
  {
   "cell_type": "markdown",
   "metadata": {},
   "source": [
    "Для ответа на главный вопрос исследования можно рассчитать среднюю общую выручку за 2018 год по каждому из тарифов:"
   ]
  },
  {
   "cell_type": "code",
   "execution_count": 64,
   "metadata": {
    "ExecuteTime": {
     "end_time": "2022-05-13T11:06:59.991117Z",
     "start_time": "2022-05-13T11:06:59.963133Z"
    }
   },
   "outputs": [
    {
     "name": "stdout",
     "output_type": "stream",
     "text": [
      "Cредняя общая выручка за 2018 год по тарифу smart: 2875351\n",
      "Cредняя общая выручка за 2018 год по тарифу ultra: 2039100\n"
     ]
    }
   ],
   "source": [
    "print('Cредняя общая выручка за 2018 год по тарифу smart:', \n",
    "      round(user_total[user_total['tariff_name'] == 'smart']['spendings'].mean() * \n",
    "      len(user_total[user_total['tariff_name'] == 'smart'])))\n",
    "print('Cредняя общая выручка за 2018 год по тарифу ultra:', \n",
    "      round(user_total[user_total['tariff_name'] == 'ultra']['spendings'].mean() * \n",
    "      len(user_total[user_total['tariff_name'] == 'ultra'])))"
   ]
  },
  {
   "cell_type": "markdown",
   "metadata": {},
   "source": [
    "Очевидно, пользователи тарифа `smart` в среднем принесли Мегалайну больше денег в 2018 году. Следовательно,  тариф `smart` более выгоден провайдеру."
   ]
  },
  {
   "cell_type": "markdown",
   "metadata": {},
   "source": [
    "### Выводы"
   ]
  },
  {
   "cell_type": "markdown",
   "metadata": {},
   "source": [
    "Клиенты на тарифах `ultra` и `smart` ведут себя по-разному:\n",
    "- большая часть клиентов `ultra` переплачивают абонплату за неиспользуемые звонки и сообщения, в то время как клиенты `smart` стараются использовать данные услуги в рамках тарифа;\n",
    "- в то же время, 30 включённых Гбайт трафика клиентам `ultra` хватает чаще, нежели включённых 15 Гбайт - кдиентам `smart`;\n",
    "- максимальный перерасход трафика у клиентов `smart` выше - 23 Гбайт против 19 Гбайт в тарифе `ultra`.\n",
    "\n",
    "Таким образом, можно заключить, что в тарифе `ultra` основной источник дохода Мегалайна в высокой абонплате за большие пакеты включённых, но не используемых абонентами услуг, а в тарифе `smart` - в высокой стоимости дополнительного трафика при ограниченном пакете включённых Гбайт.\n",
    "\n",
    "За счёт большего количества абонентов тарифа `smart`, а также за счёт их склонности чаще перерасходовать более дорогой интернет-трафик, можно утверждать, что данный тариф более выгоден для Мегалайна по данным за 2018 год."
   ]
  },
  {
   "cell_type": "markdown",
   "metadata": {},
   "source": [
    "## Проверка гипотез\n",
    "---"
   ]
  },
  {
   "cell_type": "markdown",
   "metadata": {},
   "source": [
    "В рамках исследования необходимо проверить 2 гипотезы:\n",
    "1. Средняя выручка пользователей тарифов «Ультра» и «Смарт» различаются.\n",
    "2. Средняя выручка пользователей из Москвы отличается от выручки пользователей из других регионов."
   ]
  },
  {
   "cell_type": "markdown",
   "metadata": {},
   "source": [
    "### Проверка гипотезы №1"
   ]
  },
  {
   "cell_type": "markdown",
   "metadata": {},
   "source": [
    "Необходимо проверить гипотезу \"Средняя выручка пользователей тарифов `ultra` и `smart` различается\".\n",
    "\n",
    "Сформулируем соответствующие статистические гипотезы:\n",
    "- H0 - средняя выручка пользователей `ultra` равна средней выручке пользователей `smart`.\n",
    "- H1 - средняя выручка пользователей `ultra` не равна средней выручке пользователей `smart`.\n",
    "\n",
    "Это статистическая гипотеза о равенстве средних двух генеральных совокупностей. Мы имеем выборки разного размера, вероятно, с разными дисперсиями. Поэтому при проверке гипотезы используем параметр `equal_var=False`:"
   ]
  },
  {
   "cell_type": "code",
   "execution_count": 65,
   "metadata": {
    "ExecuteTime": {
     "end_time": "2022-05-13T11:07:00.038093Z",
     "start_time": "2022-05-13T11:06:59.996124Z"
    }
   },
   "outputs": [
    {
     "name": "stdout",
     "output_type": "stream",
     "text": [
      "статистика разности: 37.019021231454644\n",
      "p-значение: 4.2606313931076085e-250\n",
      "Отвергаем H0\n"
     ]
    }
   ],
   "source": [
    "# зададим пороговое значение\n",
    "alpha = .05 # если p-value окажется меньше него - отвергнем гипотезу\n",
    "\n",
    "# выполним статистический тест на равенство средних\n",
    "# двух генеральных совокупностей\n",
    "results = st.ttest_ind(\n",
    "    user_total.query('tariff_name == \"ultra\"')['spendings'],\n",
    "    user_total.query('tariff_name == \"smart\"')['spendings'],\n",
    "    equal_var=False\n",
    ")\n",
    "\n",
    "print('статистика разности:', results.statistic)\n",
    "print('p-значение:', results.pvalue)\n",
    "\n",
    "if results.pvalue < alpha:\n",
    "    print(\"Отвергаем H0\")\n",
    "else:\n",
    "    print(\"Не получилось отвергнуть H0\")"
   ]
  },
  {
   "cell_type": "markdown",
   "metadata": {},
   "source": [
    "На имеющихся данных на 5% уровне значимости имеются основания отвергнуть гипотезу H0 в пользу альтернативы H1. Средняя выручка пользователей тарифов ultra и smart различается."
   ]
  },
  {
   "cell_type": "markdown",
   "metadata": {},
   "source": [
    "### Проверка гипотезы №2"
   ]
  },
  {
   "cell_type": "markdown",
   "metadata": {},
   "source": [
    "Необходимо проверить гипотезу \"Средняя выручка пользователей из Москвы отличается от выручки пользователей из других регионов\".\n",
    "\n",
    "Сформулируем соответствующие статистические гипотезы:\n",
    "- H0 - средняя выручка пользователей из Москвы равна средней выручке пользователей из других регионов.\n",
    "- H1 - средняя выручка пользователей из Москвы не равна средней выручке пользователей из других регионов.\n",
    "\n",
    "Для проверки гипотезы разделим выборки по полю `city`:"
   ]
  },
  {
   "cell_type": "code",
   "execution_count": 66,
   "metadata": {
    "ExecuteTime": {
     "end_time": "2022-05-13T11:07:00.083065Z",
     "start_time": "2022-05-13T11:07:00.047086Z"
    }
   },
   "outputs": [
    {
     "name": "stdout",
     "output_type": "stream",
     "text": [
      "611\n",
      "2603\n"
     ]
    }
   ],
   "source": [
    "# оценим размеры выборок\n",
    "print(len(user_total.query('city == \"Москва\"')))\n",
    "print(len(user_total.query('~(city == \"Москва\")')))"
   ]
  },
  {
   "cell_type": "markdown",
   "metadata": {},
   "source": [
    "Итак, мы имеем статистическую гипотезу о равенстве средних двух генеральных совокупностей. Мы имеем выборки разного размера, вероятно, с разными дисперсиями. Поэтому при проверке гипотезы используем параметр `equal_var=False`:"
   ]
  },
  {
   "cell_type": "code",
   "execution_count": 67,
   "metadata": {
    "ExecuteTime": {
     "end_time": "2022-05-13T11:07:00.113056Z",
     "start_time": "2022-05-13T11:07:00.086066Z"
    }
   },
   "outputs": [
    {
     "name": "stdout",
     "output_type": "stream",
     "text": [
      "статистика разности: 0.6347555055229303\n",
      "p-значение: 0.5257376663729298\n",
      "Не получилось отвергнуть H0\n"
     ]
    }
   ],
   "source": [
    "# зададим пороговое значение\n",
    "alpha = .05 # если p-value окажется меньше него - отвергнем гипотезу\n",
    "\n",
    "# выполним статистический тест на равенство средних\n",
    "# двух генеральных совокупностей\n",
    "results = st.ttest_ind(\n",
    "    user_total.query('city == \"Москва\"')['spendings'],\n",
    "    user_total.query('~(city == \"Москва\")')['spendings'],\n",
    "    equal_var=False\n",
    ")\n",
    "\n",
    "print('статистика разности:', results.statistic)\n",
    "print('p-значение:', results.pvalue)\n",
    "\n",
    "if results.pvalue < alpha:\n",
    "    print(\"Отвергаем H0\")\n",
    "else:\n",
    "    print(\"Не получилось отвергнуть H0\")"
   ]
  },
  {
   "cell_type": "markdown",
   "metadata": {},
   "source": [
    "На имеющихся данных на 5% уровне значимости не имеется оснований отвергнуть гипотезу H0 в пользу альтернативы H1. Средние выручки пользователей из Москвы и других городов близки друг к другу."
   ]
  },
  {
   "cell_type": "markdown",
   "metadata": {},
   "source": [
    "### Выводы"
   ]
  },
  {
   "cell_type": "markdown",
   "metadata": {},
   "source": [
    "Мы проверили две статистические гипотезы:\n",
    "\n",
    "\n",
    "1. Гипотеза о равестве средней выручки от пользователей тарифов `smart` и `ultra` была отвергнута. Таким образом, можно говорить о том что средние выручки от пользователей разных тарифов различаются.\n",
    "\n",
    "\n",
    "2. Гипотеза о равестве средней выручки от пользователей г. Москва и остальных городов не была отвергнута. Следовательно нельзя говорить о том, средние выручки от пользователей из разных городов различаются."
   ]
  },
  {
   "cell_type": "markdown",
   "metadata": {},
   "source": [
    "## Общий вывод"
   ]
  },
  {
   "cell_type": "markdown",
   "metadata": {},
   "source": [
    "Проведённое исследование включает в себя:\n",
    "- обзор данных;\n",
    "- предобработку данных;\n",
    "- обогащение данных;\n",
    "- анализ поведения пользователей разных тарифов;\n",
    "- проверку статистических гипотез. \n",
    "\n",
    "Основные выводы по каждому этапу приведены в соответствующем разделе.\n",
    "\n",
    "Основываясь на них, сформулируем ответ на основной вопрос исследования: какой тариф лучше (выгоднее Мегалайну)?\n",
    "\n",
    "Проверка статистических гипотез показала, что средняя выручка оператора от пользователей тарифных планов `ultra` и `smart` различается, причём существенно.\n",
    "\n",
    "Анализ поведения пользователей показал, что подавляющее большинство пользователей `ultra` переплачивают абонентскую плату за огромные пакеты звонков и СМС, в то время, как пользователи `smart` преимущественно расходуют данные услуги в рамках тарифа.\n",
    "\n",
    "Переплата за интернет наблюдается у пользователей обоих тарифов примерно одинаково.\n",
    "\n",
    "Однако за счёт большего количества абонентов тарифа `smart`, а также за счёт их склонности чаще перерасходовать более дорогие (дополнительная плата за превышение) услуги, можно утверждать, что именно **тариф `smart` более выгоден для Мегалайна по данным за 2018 год**.\n",
    "\n",
    "***Замечание: следует уведомить инженеров по данным о возможной технологической ошибке (наличие лишнего столбца неясного содержания в таблице `internet`).***"
   ]
  }
 ],
 "metadata": {
  "ExecuteTimeLog": [
   {
    "duration": 121,
    "start_time": "2022-04-30T10:56:53.133Z"
   },
   {
    "duration": 531,
    "start_time": "2022-04-30T10:57:00.295Z"
   },
   {
    "duration": 230,
    "start_time": "2022-04-30T10:57:02.093Z"
   },
   {
    "duration": 568,
    "start_time": "2022-04-30T10:59:46.966Z"
   },
   {
    "duration": 47,
    "start_time": "2022-04-30T10:59:47.537Z"
   },
   {
    "duration": 31,
    "start_time": "2022-04-30T11:03:57.775Z"
   },
   {
    "duration": 514,
    "start_time": "2022-04-30T11:06:54.573Z"
   },
   {
    "duration": 41,
    "start_time": "2022-04-30T11:06:55.090Z"
   },
   {
    "duration": 17,
    "start_time": "2022-04-30T11:07:35.337Z"
   },
   {
    "duration": 232,
    "start_time": "2022-04-30T11:19:28.563Z"
   },
   {
    "duration": 59,
    "start_time": "2022-04-30T11:22:10.314Z"
   },
   {
    "duration": 125,
    "start_time": "2022-04-30T11:30:23.528Z"
   },
   {
    "duration": 26,
    "start_time": "2022-04-30T11:43:21.593Z"
   },
   {
    "duration": 192,
    "start_time": "2022-04-30T11:50:23.260Z"
   },
   {
    "duration": 29,
    "start_time": "2022-04-30T11:53:23.513Z"
   },
   {
    "duration": 576,
    "start_time": "2022-04-30T12:02:55.099Z"
   },
   {
    "duration": 48,
    "start_time": "2022-04-30T12:02:55.678Z"
   },
   {
    "duration": 17,
    "start_time": "2022-04-30T12:02:55.728Z"
   },
   {
    "duration": 222,
    "start_time": "2022-04-30T12:02:55.748Z"
   },
   {
    "duration": 42,
    "start_time": "2022-04-30T12:02:55.972Z"
   },
   {
    "duration": 140,
    "start_time": "2022-04-30T12:02:56.016Z"
   },
   {
    "duration": 30,
    "start_time": "2022-04-30T12:02:56.158Z"
   },
   {
    "duration": 206,
    "start_time": "2022-04-30T12:02:56.190Z"
   },
   {
    "duration": 55,
    "start_time": "2022-04-30T12:02:56.399Z"
   },
   {
    "duration": 685,
    "start_time": "2022-04-30T12:04:38.361Z"
   },
   {
    "duration": 562,
    "start_time": "2022-04-30T12:04:54.908Z"
   },
   {
    "duration": 70,
    "start_time": "2022-04-30T12:04:55.472Z"
   },
   {
    "duration": 16,
    "start_time": "2022-04-30T12:04:55.544Z"
   },
   {
    "duration": 260,
    "start_time": "2022-04-30T12:04:55.563Z"
   },
   {
    "duration": 32,
    "start_time": "2022-04-30T12:04:55.826Z"
   },
   {
    "duration": 161,
    "start_time": "2022-04-30T12:04:55.860Z"
   },
   {
    "duration": 24,
    "start_time": "2022-04-30T12:04:56.023Z"
   },
   {
    "duration": 231,
    "start_time": "2022-04-30T12:04:56.049Z"
   },
   {
    "duration": 50,
    "start_time": "2022-04-30T12:04:56.283Z"
   },
   {
    "duration": 545,
    "start_time": "2022-04-30T12:04:56.337Z"
   },
   {
    "duration": 22,
    "start_time": "2022-04-30T12:05:30.905Z"
   },
   {
    "duration": 509,
    "start_time": "2022-04-30T12:07:51.173Z"
   },
   {
    "duration": 42,
    "start_time": "2022-04-30T12:07:51.685Z"
   },
   {
    "duration": 17,
    "start_time": "2022-04-30T12:07:51.729Z"
   },
   {
    "duration": 242,
    "start_time": "2022-04-30T12:07:51.750Z"
   },
   {
    "duration": 34,
    "start_time": "2022-04-30T12:07:51.995Z"
   },
   {
    "duration": 141,
    "start_time": "2022-04-30T12:07:52.031Z"
   },
   {
    "duration": 34,
    "start_time": "2022-04-30T12:07:52.175Z"
   },
   {
    "duration": 213,
    "start_time": "2022-04-30T12:07:52.211Z"
   },
   {
    "duration": 29,
    "start_time": "2022-04-30T12:07:52.426Z"
   },
   {
    "duration": 35,
    "start_time": "2022-04-30T12:07:52.458Z"
   },
   {
    "duration": 14,
    "start_time": "2022-04-30T12:11:44.107Z"
   },
   {
    "duration": 4,
    "start_time": "2022-04-30T12:18:02.177Z"
   },
   {
    "duration": 50,
    "start_time": "2022-04-30T12:18:02.185Z"
   },
   {
    "duration": 16,
    "start_time": "2022-04-30T12:18:02.237Z"
   },
   {
    "duration": 238,
    "start_time": "2022-04-30T12:18:02.260Z"
   },
   {
    "duration": 34,
    "start_time": "2022-04-30T12:18:02.501Z"
   },
   {
    "duration": 145,
    "start_time": "2022-04-30T12:18:02.538Z"
   },
   {
    "duration": 31,
    "start_time": "2022-04-30T12:18:02.687Z"
   },
   {
    "duration": 204,
    "start_time": "2022-04-30T12:18:02.720Z"
   },
   {
    "duration": 30,
    "start_time": "2022-04-30T12:18:02.926Z"
   },
   {
    "duration": 36,
    "start_time": "2022-04-30T12:18:02.959Z"
   },
   {
    "duration": 15,
    "start_time": "2022-04-30T12:18:02.999Z"
   },
   {
    "duration": 100,
    "start_time": "2022-04-30T13:05:33.843Z"
   },
   {
    "duration": 8,
    "start_time": "2022-04-30T13:05:48.155Z"
   },
   {
    "duration": 20,
    "start_time": "2022-04-30T13:13:02.745Z"
   },
   {
    "duration": 20,
    "start_time": "2022-04-30T13:13:37.396Z"
   },
   {
    "duration": 11,
    "start_time": "2022-04-30T13:14:00.345Z"
   },
   {
    "duration": 505,
    "start_time": "2022-04-30T13:23:03.396Z"
   },
   {
    "duration": 42,
    "start_time": "2022-04-30T13:23:03.904Z"
   },
   {
    "duration": 17,
    "start_time": "2022-04-30T13:23:03.948Z"
   },
   {
    "duration": 255,
    "start_time": "2022-04-30T13:23:03.982Z"
   },
   {
    "duration": 46,
    "start_time": "2022-04-30T13:23:04.239Z"
   },
   {
    "duration": 147,
    "start_time": "2022-04-30T13:23:04.287Z"
   },
   {
    "duration": 25,
    "start_time": "2022-04-30T13:23:04.436Z"
   },
   {
    "duration": 242,
    "start_time": "2022-04-30T13:23:04.463Z"
   },
   {
    "duration": 30,
    "start_time": "2022-04-30T13:23:04.708Z"
   },
   {
    "duration": 42,
    "start_time": "2022-04-30T13:23:04.740Z"
   },
   {
    "duration": 15,
    "start_time": "2022-04-30T13:23:04.785Z"
   },
   {
    "duration": 15,
    "start_time": "2022-04-30T13:23:04.803Z"
   },
   {
    "duration": 14,
    "start_time": "2022-04-30T13:23:04.820Z"
   },
   {
    "duration": 15,
    "start_time": "2022-04-30T13:23:04.837Z"
   },
   {
    "duration": 515,
    "start_time": "2022-04-30T13:28:08.103Z"
   },
   {
    "duration": 48,
    "start_time": "2022-04-30T13:28:08.622Z"
   },
   {
    "duration": 21,
    "start_time": "2022-04-30T13:28:08.673Z"
   },
   {
    "duration": 240,
    "start_time": "2022-04-30T13:28:08.699Z"
   },
   {
    "duration": 46,
    "start_time": "2022-04-30T13:28:08.941Z"
   },
   {
    "duration": 128,
    "start_time": "2022-04-30T13:28:08.989Z"
   },
   {
    "duration": 25,
    "start_time": "2022-04-30T13:28:09.119Z"
   },
   {
    "duration": 1971,
    "start_time": "2022-04-30T13:28:09.147Z"
   },
   {
    "duration": 61,
    "start_time": "2022-04-30T13:28:11.122Z"
   },
   {
    "duration": 32,
    "start_time": "2022-04-30T13:28:11.188Z"
   },
   {
    "duration": 16,
    "start_time": "2022-04-30T13:28:11.222Z"
   },
   {
    "duration": 8,
    "start_time": "2022-04-30T13:28:11.240Z"
   },
   {
    "duration": 44,
    "start_time": "2022-04-30T13:28:11.250Z"
   },
   {
    "duration": 10,
    "start_time": "2022-04-30T13:28:11.296Z"
   },
   {
    "duration": 17,
    "start_time": "2022-04-30T13:28:11.308Z"
   },
   {
    "duration": 518,
    "start_time": "2022-04-30T13:29:44.966Z"
   },
   {
    "duration": 56,
    "start_time": "2022-04-30T13:29:45.487Z"
   },
   {
    "duration": 18,
    "start_time": "2022-04-30T13:29:45.546Z"
   },
   {
    "duration": 244,
    "start_time": "2022-04-30T13:29:45.568Z"
   },
   {
    "duration": 35,
    "start_time": "2022-04-30T13:29:45.815Z"
   },
   {
    "duration": 147,
    "start_time": "2022-04-30T13:29:45.853Z"
   },
   {
    "duration": 28,
    "start_time": "2022-04-30T13:29:46.002Z"
   },
   {
    "duration": 250,
    "start_time": "2022-04-30T13:29:46.033Z"
   },
   {
    "duration": 48,
    "start_time": "2022-04-30T13:29:46.286Z"
   },
   {
    "duration": 47,
    "start_time": "2022-04-30T13:29:46.339Z"
   },
   {
    "duration": 16,
    "start_time": "2022-04-30T13:29:46.388Z"
   },
   {
    "duration": 11,
    "start_time": "2022-04-30T13:29:46.406Z"
   },
   {
    "duration": 6,
    "start_time": "2022-04-30T13:29:46.420Z"
   },
   {
    "duration": 12,
    "start_time": "2022-04-30T13:29:46.428Z"
   },
   {
    "duration": 49,
    "start_time": "2022-04-30T13:29:46.443Z"
   },
   {
    "duration": 514,
    "start_time": "2022-04-30T13:39:08.176Z"
   },
   {
    "duration": 52,
    "start_time": "2022-04-30T13:39:08.693Z"
   },
   {
    "duration": 17,
    "start_time": "2022-04-30T13:39:08.747Z"
   },
   {
    "duration": 348,
    "start_time": "2022-04-30T13:39:08.768Z"
   },
   {
    "duration": 36,
    "start_time": "2022-04-30T13:39:09.119Z"
   },
   {
    "duration": 214,
    "start_time": "2022-04-30T13:39:09.157Z"
   },
   {
    "duration": 45,
    "start_time": "2022-04-30T13:39:09.374Z"
   },
   {
    "duration": 296,
    "start_time": "2022-04-30T13:39:09.422Z"
   },
   {
    "duration": 29,
    "start_time": "2022-04-30T13:39:09.721Z"
   },
   {
    "duration": 34,
    "start_time": "2022-04-30T13:39:09.754Z"
   },
   {
    "duration": 16,
    "start_time": "2022-04-30T13:39:09.790Z"
   },
   {
    "duration": 7,
    "start_time": "2022-04-30T13:39:09.808Z"
   },
   {
    "duration": 21,
    "start_time": "2022-04-30T13:39:09.818Z"
   },
   {
    "duration": 10,
    "start_time": "2022-04-30T13:39:09.841Z"
   },
   {
    "duration": 10,
    "start_time": "2022-04-30T13:39:09.882Z"
   },
   {
    "duration": 17,
    "start_time": "2022-04-30T13:40:58.868Z"
   },
   {
    "duration": 5,
    "start_time": "2022-04-30T13:44:25.949Z"
   },
   {
    "duration": 6,
    "start_time": "2022-04-30T13:44:54.969Z"
   },
   {
    "duration": 8,
    "start_time": "2022-04-30T13:45:20.967Z"
   },
   {
    "duration": 10,
    "start_time": "2022-04-30T13:47:16.165Z"
   },
   {
    "duration": 8,
    "start_time": "2022-04-30T13:47:29.056Z"
   },
   {
    "duration": 12,
    "start_time": "2022-04-30T13:48:44.425Z"
   },
   {
    "duration": 9,
    "start_time": "2022-04-30T13:48:51.665Z"
   },
   {
    "duration": 60,
    "start_time": "2022-04-30T14:18:41.630Z"
   },
   {
    "duration": 5,
    "start_time": "2022-04-30T14:19:26.138Z"
   },
   {
    "duration": 6,
    "start_time": "2022-04-30T14:20:45.852Z"
   },
   {
    "duration": 8,
    "start_time": "2022-04-30T14:21:03.665Z"
   },
   {
    "duration": 65,
    "start_time": "2022-04-30T14:21:09.287Z"
   },
   {
    "duration": 18,
    "start_time": "2022-04-30T14:35:37.032Z"
   },
   {
    "duration": 162,
    "start_time": "2022-04-30T14:36:42.001Z"
   },
   {
    "duration": 11,
    "start_time": "2022-04-30T14:40:15.592Z"
   },
   {
    "duration": 4,
    "start_time": "2022-04-30T14:40:26.472Z"
   },
   {
    "duration": 13,
    "start_time": "2022-04-30T14:40:34.856Z"
   },
   {
    "duration": 84,
    "start_time": "2022-04-30T14:41:03.374Z"
   },
   {
    "duration": 12,
    "start_time": "2022-04-30T14:41:15.936Z"
   },
   {
    "duration": 25,
    "start_time": "2022-04-30T14:47:23.921Z"
   },
   {
    "duration": 498,
    "start_time": "2022-04-30T14:55:19.091Z"
   },
   {
    "duration": 45,
    "start_time": "2022-04-30T14:55:19.592Z"
   },
   {
    "duration": 17,
    "start_time": "2022-04-30T14:55:19.640Z"
   },
   {
    "duration": 242,
    "start_time": "2022-04-30T14:55:19.660Z"
   },
   {
    "duration": 36,
    "start_time": "2022-04-30T14:55:19.904Z"
   },
   {
    "duration": 142,
    "start_time": "2022-04-30T14:55:19.942Z"
   },
   {
    "duration": 25,
    "start_time": "2022-04-30T14:55:20.087Z"
   },
   {
    "duration": 212,
    "start_time": "2022-04-30T14:55:20.115Z"
   },
   {
    "duration": 52,
    "start_time": "2022-04-30T14:55:20.330Z"
   },
   {
    "duration": 21,
    "start_time": "2022-04-30T14:55:20.387Z"
   },
   {
    "duration": 15,
    "start_time": "2022-04-30T14:55:20.411Z"
   },
   {
    "duration": 8,
    "start_time": "2022-04-30T14:55:20.428Z"
   },
   {
    "duration": 12,
    "start_time": "2022-04-30T14:55:20.439Z"
   },
   {
    "duration": 5,
    "start_time": "2022-04-30T14:55:20.481Z"
   },
   {
    "duration": 11,
    "start_time": "2022-04-30T14:55:20.489Z"
   },
   {
    "duration": 11,
    "start_time": "2022-04-30T14:55:20.502Z"
   },
   {
    "duration": 9,
    "start_time": "2022-04-30T14:55:20.515Z"
   },
   {
    "duration": 8,
    "start_time": "2022-04-30T14:55:20.526Z"
   },
   {
    "duration": 45,
    "start_time": "2022-04-30T14:55:20.537Z"
   },
   {
    "duration": 8,
    "start_time": "2022-04-30T14:55:20.584Z"
   },
   {
    "duration": 10,
    "start_time": "2022-04-30T14:55:20.595Z"
   },
   {
    "duration": 6,
    "start_time": "2022-04-30T14:55:20.699Z"
   },
   {
    "duration": 92,
    "start_time": "2022-04-30T14:55:20.857Z"
   },
   {
    "duration": 12,
    "start_time": "2022-04-30T14:55:21.003Z"
   },
   {
    "duration": 82,
    "start_time": "2022-04-30T14:55:21.019Z"
   },
   {
    "duration": 12,
    "start_time": "2022-04-30T14:55:21.103Z"
   },
   {
    "duration": 52,
    "start_time": "2022-04-30T14:55:21.143Z"
   },
   {
    "duration": 4,
    "start_time": "2022-04-30T14:55:38.374Z"
   },
   {
    "duration": 9,
    "start_time": "2022-04-30T14:56:27.654Z"
   },
   {
    "duration": 45,
    "start_time": "2022-04-30T14:56:46.913Z"
   },
   {
    "duration": 715,
    "start_time": "2022-04-30T14:57:02.791Z"
   },
   {
    "duration": 62,
    "start_time": "2022-04-30T14:57:03.510Z"
   },
   {
    "duration": 28,
    "start_time": "2022-04-30T14:57:03.575Z"
   },
   {
    "duration": 239,
    "start_time": "2022-04-30T14:57:03.607Z"
   },
   {
    "duration": 46,
    "start_time": "2022-04-30T14:57:03.848Z"
   },
   {
    "duration": 134,
    "start_time": "2022-04-30T14:57:03.897Z"
   },
   {
    "duration": 26,
    "start_time": "2022-04-30T14:57:04.034Z"
   },
   {
    "duration": 201,
    "start_time": "2022-04-30T14:57:04.082Z"
   },
   {
    "duration": 30,
    "start_time": "2022-04-30T14:57:04.285Z"
   },
   {
    "duration": 20,
    "start_time": "2022-04-30T14:57:04.319Z"
   },
   {
    "duration": 43,
    "start_time": "2022-04-30T14:57:04.341Z"
   },
   {
    "duration": 7,
    "start_time": "2022-04-30T14:57:04.386Z"
   },
   {
    "duration": 7,
    "start_time": "2022-04-30T14:57:04.395Z"
   },
   {
    "duration": 12,
    "start_time": "2022-04-30T14:57:04.405Z"
   },
   {
    "duration": 13,
    "start_time": "2022-04-30T14:57:04.420Z"
   },
   {
    "duration": 48,
    "start_time": "2022-04-30T14:57:04.435Z"
   },
   {
    "duration": 11,
    "start_time": "2022-04-30T14:57:04.485Z"
   },
   {
    "duration": 14,
    "start_time": "2022-04-30T14:57:04.499Z"
   },
   {
    "duration": 20,
    "start_time": "2022-04-30T14:57:04.516Z"
   },
   {
    "duration": 17,
    "start_time": "2022-04-30T14:57:04.539Z"
   },
   {
    "duration": 29,
    "start_time": "2022-04-30T14:57:04.559Z"
   },
   {
    "duration": 10,
    "start_time": "2022-04-30T14:57:04.591Z"
   },
   {
    "duration": 106,
    "start_time": "2022-04-30T14:57:04.604Z"
   },
   {
    "duration": 18,
    "start_time": "2022-04-30T14:57:04.713Z"
   },
   {
    "duration": 105,
    "start_time": "2022-04-30T14:57:04.734Z"
   },
   {
    "duration": 12,
    "start_time": "2022-04-30T14:57:04.842Z"
   },
   {
    "duration": 45,
    "start_time": "2022-04-30T14:57:04.857Z"
   },
   {
    "duration": 91,
    "start_time": "2022-04-30T14:59:10.629Z"
   },
   {
    "duration": 138,
    "start_time": "2022-04-30T15:00:21.510Z"
   },
   {
    "duration": 32,
    "start_time": "2022-04-30T15:01:58.244Z"
   },
   {
    "duration": 7,
    "start_time": "2022-04-30T15:02:35.918Z"
   },
   {
    "duration": 48,
    "start_time": "2022-04-30T15:03:24.990Z"
   },
   {
    "duration": 60,
    "start_time": "2022-04-30T15:04:19.229Z"
   },
   {
    "duration": 76,
    "start_time": "2022-04-30T15:04:52.370Z"
   },
   {
    "duration": 29,
    "start_time": "2022-04-30T15:09:47.178Z"
   },
   {
    "duration": 11,
    "start_time": "2022-04-30T15:15:15.778Z"
   },
   {
    "duration": 166,
    "start_time": "2022-04-30T15:15:59.230Z"
   },
   {
    "duration": 592,
    "start_time": "2022-04-30T15:16:15.785Z"
   },
   {
    "duration": 58,
    "start_time": "2022-04-30T15:16:16.382Z"
   },
   {
    "duration": 17,
    "start_time": "2022-04-30T15:16:16.442Z"
   },
   {
    "duration": 252,
    "start_time": "2022-04-30T15:16:16.463Z"
   },
   {
    "duration": 38,
    "start_time": "2022-04-30T15:16:16.717Z"
   },
   {
    "duration": 170,
    "start_time": "2022-04-30T15:16:16.757Z"
   },
   {
    "duration": 38,
    "start_time": "2022-04-30T15:16:16.929Z"
   },
   {
    "duration": 242,
    "start_time": "2022-04-30T15:16:16.993Z"
   },
   {
    "duration": 46,
    "start_time": "2022-04-30T15:16:17.237Z"
   },
   {
    "duration": 36,
    "start_time": "2022-04-30T15:16:17.293Z"
   },
   {
    "duration": 19,
    "start_time": "2022-04-30T15:16:17.333Z"
   },
   {
    "duration": 15,
    "start_time": "2022-04-30T15:16:17.355Z"
   },
   {
    "duration": 27,
    "start_time": "2022-04-30T15:16:17.390Z"
   },
   {
    "duration": 27,
    "start_time": "2022-04-30T15:16:17.420Z"
   },
   {
    "duration": 37,
    "start_time": "2022-04-30T15:16:17.450Z"
   },
   {
    "duration": 41,
    "start_time": "2022-04-30T15:16:17.490Z"
   },
   {
    "duration": 9,
    "start_time": "2022-04-30T15:16:17.535Z"
   },
   {
    "duration": 15,
    "start_time": "2022-04-30T15:16:17.547Z"
   },
   {
    "duration": 15,
    "start_time": "2022-04-30T15:16:17.565Z"
   },
   {
    "duration": 45,
    "start_time": "2022-04-30T15:16:17.582Z"
   },
   {
    "duration": 16,
    "start_time": "2022-04-30T15:16:17.630Z"
   },
   {
    "duration": 8,
    "start_time": "2022-04-30T15:16:17.649Z"
   },
   {
    "duration": 76,
    "start_time": "2022-04-30T15:16:17.660Z"
   },
   {
    "duration": 16,
    "start_time": "2022-04-30T15:16:17.738Z"
   },
   {
    "duration": 141,
    "start_time": "2022-04-30T15:16:17.758Z"
   },
   {
    "duration": 11,
    "start_time": "2022-04-30T15:16:17.902Z"
   },
   {
    "duration": 109,
    "start_time": "2022-04-30T15:16:17.916Z"
   },
   {
    "duration": 159,
    "start_time": "2022-04-30T15:16:18.029Z"
   },
   {
    "duration": 24,
    "start_time": "2022-04-30T15:16:18.191Z"
   },
   {
    "duration": 35,
    "start_time": "2022-04-30T15:16:18.218Z"
   },
   {
    "duration": 58,
    "start_time": "2022-04-30T15:16:18.255Z"
   },
   {
    "duration": 80,
    "start_time": "2022-04-30T15:16:18.315Z"
   },
   {
    "duration": 24,
    "start_time": "2022-04-30T15:16:18.399Z"
   },
   {
    "duration": 56,
    "start_time": "2022-04-30T15:16:18.429Z"
   },
   {
    "duration": 11,
    "start_time": "2022-04-30T15:17:41.832Z"
   },
   {
    "duration": 70,
    "start_time": "2022-04-30T15:18:38.788Z"
   },
   {
    "duration": 49,
    "start_time": "2022-04-30T15:20:09.050Z"
   },
   {
    "duration": 89,
    "start_time": "2022-04-30T15:20:48.128Z"
   },
   {
    "duration": 108,
    "start_time": "2022-04-30T15:21:08.048Z"
   },
   {
    "duration": 19,
    "start_time": "2022-04-30T15:22:58.428Z"
   },
   {
    "duration": 5,
    "start_time": "2022-04-30T15:27:23.788Z"
   },
   {
    "duration": 13,
    "start_time": "2022-04-30T15:28:01.868Z"
   },
   {
    "duration": 10,
    "start_time": "2022-04-30T15:28:23.908Z"
   },
   {
    "duration": 17,
    "start_time": "2022-04-30T15:30:19.926Z"
   },
   {
    "duration": 16,
    "start_time": "2022-04-30T15:30:23.488Z"
   },
   {
    "duration": 690,
    "start_time": "2022-04-30T15:49:53.268Z"
   },
   {
    "duration": 65,
    "start_time": "2022-04-30T15:49:53.961Z"
   },
   {
    "duration": 25,
    "start_time": "2022-04-30T15:49:54.029Z"
   },
   {
    "duration": 359,
    "start_time": "2022-04-30T15:49:54.058Z"
   },
   {
    "duration": 73,
    "start_time": "2022-04-30T15:49:54.420Z"
   },
   {
    "duration": 190,
    "start_time": "2022-04-30T15:49:54.496Z"
   },
   {
    "duration": 44,
    "start_time": "2022-04-30T15:49:54.692Z"
   },
   {
    "duration": 299,
    "start_time": "2022-04-30T15:49:54.739Z"
   },
   {
    "duration": 60,
    "start_time": "2022-04-30T15:49:55.040Z"
   },
   {
    "duration": 32,
    "start_time": "2022-04-30T15:49:55.106Z"
   },
   {
    "duration": 20,
    "start_time": "2022-04-30T15:49:55.141Z"
   },
   {
    "duration": 8,
    "start_time": "2022-04-30T15:49:55.183Z"
   },
   {
    "duration": 19,
    "start_time": "2022-04-30T15:49:55.194Z"
   },
   {
    "duration": 16,
    "start_time": "2022-04-30T15:49:55.216Z"
   },
   {
    "duration": 13,
    "start_time": "2022-04-30T15:49:55.235Z"
   },
   {
    "duration": 36,
    "start_time": "2022-04-30T15:49:55.251Z"
   },
   {
    "duration": 5,
    "start_time": "2022-04-30T15:49:55.292Z"
   },
   {
    "duration": 12,
    "start_time": "2022-04-30T15:49:55.300Z"
   },
   {
    "duration": 16,
    "start_time": "2022-04-30T15:49:55.315Z"
   },
   {
    "duration": 16,
    "start_time": "2022-04-30T15:49:55.334Z"
   },
   {
    "duration": 12,
    "start_time": "2022-04-30T15:49:55.383Z"
   },
   {
    "duration": 11,
    "start_time": "2022-04-30T15:49:55.398Z"
   },
   {
    "duration": 109,
    "start_time": "2022-04-30T15:49:55.412Z"
   },
   {
    "duration": 17,
    "start_time": "2022-04-30T15:49:55.524Z"
   },
   {
    "duration": 178,
    "start_time": "2022-04-30T15:49:55.544Z"
   },
   {
    "duration": 16,
    "start_time": "2022-04-30T15:49:55.725Z"
   },
   {
    "duration": 139,
    "start_time": "2022-04-30T15:49:55.744Z"
   },
   {
    "duration": 200,
    "start_time": "2022-04-30T15:49:55.890Z"
   },
   {
    "duration": 8,
    "start_time": "2022-04-30T15:49:56.093Z"
   },
   {
    "duration": 64,
    "start_time": "2022-04-30T15:49:56.104Z"
   },
   {
    "duration": 70,
    "start_time": "2022-04-30T15:49:56.185Z"
   },
   {
    "duration": 93,
    "start_time": "2022-04-30T15:49:56.264Z"
   },
   {
    "duration": 32,
    "start_time": "2022-04-30T15:49:56.360Z"
   },
   {
    "duration": 7,
    "start_time": "2022-04-30T15:49:56.395Z"
   },
   {
    "duration": 84,
    "start_time": "2022-04-30T15:49:56.406Z"
   },
   {
    "duration": 51,
    "start_time": "2022-04-30T15:49:56.493Z"
   },
   {
    "duration": 116,
    "start_time": "2022-04-30T15:49:56.548Z"
   },
   {
    "duration": 27,
    "start_time": "2022-04-30T15:49:56.667Z"
   },
   {
    "duration": 586,
    "start_time": "2022-05-01T15:16:54.168Z"
   },
   {
    "duration": 39,
    "start_time": "2022-05-01T15:16:54.756Z"
   },
   {
    "duration": 15,
    "start_time": "2022-05-01T15:16:54.797Z"
   },
   {
    "duration": 223,
    "start_time": "2022-05-01T15:16:54.815Z"
   },
   {
    "duration": 54,
    "start_time": "2022-05-01T15:16:55.040Z"
   },
   {
    "duration": 127,
    "start_time": "2022-05-01T15:16:55.096Z"
   },
   {
    "duration": 29,
    "start_time": "2022-05-01T15:16:55.225Z"
   },
   {
    "duration": 186,
    "start_time": "2022-05-01T15:16:55.256Z"
   },
   {
    "duration": 35,
    "start_time": "2022-05-01T15:16:55.443Z"
   },
   {
    "duration": 18,
    "start_time": "2022-05-01T15:16:55.492Z"
   },
   {
    "duration": 11,
    "start_time": "2022-05-01T15:16:55.511Z"
   },
   {
    "duration": 5,
    "start_time": "2022-05-01T15:16:55.524Z"
   },
   {
    "duration": 15,
    "start_time": "2022-05-01T15:16:55.531Z"
   },
   {
    "duration": 8,
    "start_time": "2022-05-01T15:16:55.548Z"
   },
   {
    "duration": 9,
    "start_time": "2022-05-01T15:16:55.558Z"
   },
   {
    "duration": 23,
    "start_time": "2022-05-01T15:16:55.569Z"
   },
   {
    "duration": 4,
    "start_time": "2022-05-01T15:16:55.594Z"
   },
   {
    "duration": 10,
    "start_time": "2022-05-01T15:16:55.599Z"
   },
   {
    "duration": 12,
    "start_time": "2022-05-01T15:16:55.611Z"
   },
   {
    "duration": 10,
    "start_time": "2022-05-01T15:16:55.625Z"
   },
   {
    "duration": 12,
    "start_time": "2022-05-01T15:16:55.637Z"
   },
   {
    "duration": 8,
    "start_time": "2022-05-01T15:16:55.651Z"
   },
   {
    "duration": 52,
    "start_time": "2022-05-01T15:16:55.660Z"
   },
   {
    "duration": 9,
    "start_time": "2022-05-01T15:16:55.714Z"
   },
   {
    "duration": 68,
    "start_time": "2022-05-01T15:16:55.724Z"
   },
   {
    "duration": 9,
    "start_time": "2022-05-01T15:16:55.794Z"
   },
   {
    "duration": 61,
    "start_time": "2022-05-01T15:16:55.805Z"
   },
   {
    "duration": 143,
    "start_time": "2022-05-01T15:16:55.870Z"
   },
   {
    "duration": 5,
    "start_time": "2022-05-01T15:16:56.015Z"
   },
   {
    "duration": 39,
    "start_time": "2022-05-01T15:16:56.022Z"
   },
   {
    "duration": 48,
    "start_time": "2022-05-01T15:16:56.063Z"
   },
   {
    "duration": 50,
    "start_time": "2022-05-01T15:16:56.113Z"
   },
   {
    "duration": 28,
    "start_time": "2022-05-01T15:16:56.165Z"
   },
   {
    "duration": 5,
    "start_time": "2022-05-01T15:16:56.195Z"
   },
   {
    "duration": 39,
    "start_time": "2022-05-01T15:16:56.202Z"
   },
   {
    "duration": 54,
    "start_time": "2022-05-01T15:16:56.243Z"
   },
   {
    "duration": 57,
    "start_time": "2022-05-01T15:16:56.299Z"
   },
   {
    "duration": 12,
    "start_time": "2022-05-01T15:16:56.357Z"
   },
   {
    "duration": 26,
    "start_time": "2022-05-01T15:16:56.370Z"
   },
   {
    "duration": 20,
    "start_time": "2022-05-01T15:18:15.593Z"
   },
   {
    "duration": 17,
    "start_time": "2022-05-01T15:20:05.785Z"
   },
   {
    "duration": 27,
    "start_time": "2022-05-01T15:21:16.279Z"
   },
   {
    "duration": 71,
    "start_time": "2022-05-01T15:21:38.407Z"
   },
   {
    "duration": 431,
    "start_time": "2022-05-01T15:21:56.851Z"
   },
   {
    "duration": 60,
    "start_time": "2022-05-01T15:21:57.285Z"
   },
   {
    "duration": 15,
    "start_time": "2022-05-01T15:21:57.347Z"
   },
   {
    "duration": 238,
    "start_time": "2022-05-01T15:21:57.365Z"
   },
   {
    "duration": 43,
    "start_time": "2022-05-01T15:21:57.606Z"
   },
   {
    "duration": 137,
    "start_time": "2022-05-01T15:21:57.651Z"
   },
   {
    "duration": 30,
    "start_time": "2022-05-01T15:21:57.790Z"
   },
   {
    "duration": 166,
    "start_time": "2022-05-01T15:21:57.822Z"
   },
   {
    "duration": 40,
    "start_time": "2022-05-01T15:21:57.990Z"
   },
   {
    "duration": 19,
    "start_time": "2022-05-01T15:21:58.033Z"
   },
   {
    "duration": 19,
    "start_time": "2022-05-01T15:21:58.054Z"
   },
   {
    "duration": 26,
    "start_time": "2022-05-01T15:21:58.074Z"
   },
   {
    "duration": 30,
    "start_time": "2022-05-01T15:21:58.102Z"
   },
   {
    "duration": 13,
    "start_time": "2022-05-01T15:21:58.134Z"
   },
   {
    "duration": 18,
    "start_time": "2022-05-01T15:21:58.148Z"
   },
   {
    "duration": 15,
    "start_time": "2022-05-01T15:21:58.168Z"
   },
   {
    "duration": 4,
    "start_time": "2022-05-01T15:21:58.185Z"
   },
   {
    "duration": 31,
    "start_time": "2022-05-01T15:21:58.192Z"
   },
   {
    "duration": 12,
    "start_time": "2022-05-01T15:21:58.225Z"
   },
   {
    "duration": 6,
    "start_time": "2022-05-01T15:21:58.239Z"
   },
   {
    "duration": 15,
    "start_time": "2022-05-01T15:21:58.247Z"
   },
   {
    "duration": 9,
    "start_time": "2022-05-01T15:21:58.264Z"
   },
   {
    "duration": 63,
    "start_time": "2022-05-01T15:21:58.275Z"
   },
   {
    "duration": 12,
    "start_time": "2022-05-01T15:21:58.340Z"
   },
   {
    "duration": 117,
    "start_time": "2022-05-01T15:21:58.354Z"
   },
   {
    "duration": 10,
    "start_time": "2022-05-01T15:21:58.473Z"
   },
   {
    "duration": 91,
    "start_time": "2022-05-01T15:21:58.485Z"
   },
   {
    "duration": 140,
    "start_time": "2022-05-01T15:21:58.592Z"
   },
   {
    "duration": 5,
    "start_time": "2022-05-01T15:21:58.735Z"
   },
   {
    "duration": 52,
    "start_time": "2022-05-01T15:21:58.742Z"
   },
   {
    "duration": 44,
    "start_time": "2022-05-01T15:21:58.797Z"
   },
   {
    "duration": 78,
    "start_time": "2022-05-01T15:21:58.843Z"
   },
   {
    "duration": 14,
    "start_time": "2022-05-01T15:21:58.923Z"
   },
   {
    "duration": 4,
    "start_time": "2022-05-01T15:21:58.939Z"
   },
   {
    "duration": 56,
    "start_time": "2022-05-01T15:21:58.945Z"
   },
   {
    "duration": 33,
    "start_time": "2022-05-01T15:21:59.005Z"
   },
   {
    "duration": 68,
    "start_time": "2022-05-01T15:21:59.040Z"
   },
   {
    "duration": 12,
    "start_time": "2022-05-01T15:21:59.109Z"
   },
   {
    "duration": 9,
    "start_time": "2022-05-01T15:21:59.123Z"
   },
   {
    "duration": 28,
    "start_time": "2022-05-01T15:21:59.134Z"
   },
   {
    "duration": 144,
    "start_time": "2022-05-01T15:21:59.164Z"
   },
   {
    "duration": 11,
    "start_time": "2022-05-01T15:23:21.446Z"
   },
   {
    "duration": 10,
    "start_time": "2022-05-01T15:23:43.339Z"
   },
   {
    "duration": 13,
    "start_time": "2022-05-01T15:24:01.588Z"
   },
   {
    "duration": 51,
    "start_time": "2022-05-01T15:29:56.279Z"
   },
   {
    "duration": 51,
    "start_time": "2022-05-01T15:30:11.767Z"
   },
   {
    "duration": 107,
    "start_time": "2022-05-01T15:31:56.240Z"
   },
   {
    "duration": 514,
    "start_time": "2022-05-01T15:36:48.414Z"
   },
   {
    "duration": 40,
    "start_time": "2022-05-01T15:36:48.933Z"
   },
   {
    "duration": 23,
    "start_time": "2022-05-01T15:36:48.976Z"
   },
   {
    "duration": 184,
    "start_time": "2022-05-01T15:36:49.001Z"
   },
   {
    "duration": 39,
    "start_time": "2022-05-01T15:36:49.186Z"
   },
   {
    "duration": 129,
    "start_time": "2022-05-01T15:36:49.228Z"
   },
   {
    "duration": 20,
    "start_time": "2022-05-01T15:36:49.359Z"
   },
   {
    "duration": 197,
    "start_time": "2022-05-01T15:36:49.381Z"
   },
   {
    "duration": 39,
    "start_time": "2022-05-01T15:36:49.583Z"
   },
   {
    "duration": 18,
    "start_time": "2022-05-01T15:36:49.624Z"
   },
   {
    "duration": 13,
    "start_time": "2022-05-01T15:36:49.644Z"
   },
   {
    "duration": 5,
    "start_time": "2022-05-01T15:36:49.659Z"
   },
   {
    "duration": 6,
    "start_time": "2022-05-01T15:36:49.666Z"
   },
   {
    "duration": 7,
    "start_time": "2022-05-01T15:36:49.698Z"
   },
   {
    "duration": 15,
    "start_time": "2022-05-01T15:36:49.707Z"
   },
   {
    "duration": 9,
    "start_time": "2022-05-01T15:36:49.724Z"
   },
   {
    "duration": 5,
    "start_time": "2022-05-01T15:36:49.735Z"
   },
   {
    "duration": 10,
    "start_time": "2022-05-01T15:36:49.742Z"
   },
   {
    "duration": 9,
    "start_time": "2022-05-01T15:36:49.753Z"
   },
   {
    "duration": 9,
    "start_time": "2022-05-01T15:36:49.764Z"
   },
   {
    "duration": 28,
    "start_time": "2022-05-01T15:36:49.774Z"
   },
   {
    "duration": 4,
    "start_time": "2022-05-01T15:36:49.809Z"
   },
   {
    "duration": 37,
    "start_time": "2022-05-01T15:36:49.815Z"
   },
   {
    "duration": 8,
    "start_time": "2022-05-01T15:36:49.854Z"
   },
   {
    "duration": 89,
    "start_time": "2022-05-01T15:36:49.864Z"
   },
   {
    "duration": 7,
    "start_time": "2022-05-01T15:36:49.956Z"
   },
   {
    "duration": 80,
    "start_time": "2022-05-01T15:36:49.966Z"
   },
   {
    "duration": 133,
    "start_time": "2022-05-01T15:36:50.048Z"
   },
   {
    "duration": 17,
    "start_time": "2022-05-01T15:36:50.183Z"
   },
   {
    "duration": 33,
    "start_time": "2022-05-01T15:36:50.202Z"
   },
   {
    "duration": 31,
    "start_time": "2022-05-01T15:36:50.237Z"
   },
   {
    "duration": 59,
    "start_time": "2022-05-01T15:36:50.269Z"
   },
   {
    "duration": 14,
    "start_time": "2022-05-01T15:36:50.330Z"
   },
   {
    "duration": 8,
    "start_time": "2022-05-01T15:36:50.346Z"
   },
   {
    "duration": 52,
    "start_time": "2022-05-01T15:36:50.355Z"
   },
   {
    "duration": 25,
    "start_time": "2022-05-01T15:36:50.409Z"
   },
   {
    "duration": 64,
    "start_time": "2022-05-01T15:36:50.436Z"
   },
   {
    "duration": 14,
    "start_time": "2022-05-01T15:36:50.502Z"
   },
   {
    "duration": 17,
    "start_time": "2022-05-01T15:36:50.517Z"
   },
   {
    "duration": 60,
    "start_time": "2022-05-01T15:36:50.535Z"
   },
   {
    "duration": 14,
    "start_time": "2022-05-01T15:36:50.597Z"
   },
   {
    "duration": 2410,
    "start_time": "2022-05-01T15:36:50.613Z"
   },
   {
    "duration": 0,
    "start_time": "2022-05-01T15:36:53.025Z"
   },
   {
    "duration": 0,
    "start_time": "2022-05-01T15:36:53.026Z"
   },
   {
    "duration": 0,
    "start_time": "2022-05-01T15:36:53.028Z"
   },
   {
    "duration": 11,
    "start_time": "2022-05-01T15:37:13.601Z"
   },
   {
    "duration": 12,
    "start_time": "2022-05-01T15:37:16.809Z"
   },
   {
    "duration": 78,
    "start_time": "2022-05-01T15:37:21.406Z"
   },
   {
    "duration": 81,
    "start_time": "2022-05-01T15:37:30.247Z"
   },
   {
    "duration": 89,
    "start_time": "2022-05-01T15:39:58.572Z"
   },
   {
    "duration": 5,
    "start_time": "2022-05-01T15:42:28.163Z"
   },
   {
    "duration": 97,
    "start_time": "2022-05-01T15:46:18.519Z"
   },
   {
    "duration": 63,
    "start_time": "2022-05-01T15:47:50.678Z"
   },
   {
    "duration": 51,
    "start_time": "2022-05-01T15:47:59.921Z"
   },
   {
    "duration": 46,
    "start_time": "2022-05-01T15:48:05.401Z"
   },
   {
    "duration": 41,
    "start_time": "2022-05-01T15:48:22.079Z"
   },
   {
    "duration": 52,
    "start_time": "2022-05-01T15:50:29.912Z"
   },
   {
    "duration": 57,
    "start_time": "2022-05-01T15:52:50.849Z"
   },
   {
    "duration": 20,
    "start_time": "2022-05-01T15:59:49.400Z"
   },
   {
    "duration": 53,
    "start_time": "2022-05-01T16:02:35.119Z"
   },
   {
    "duration": 22,
    "start_time": "2022-05-01T16:04:27.246Z"
   },
   {
    "duration": 64,
    "start_time": "2022-05-01T16:05:39.697Z"
   },
   {
    "duration": 14,
    "start_time": "2022-05-01T16:06:51.964Z"
   },
   {
    "duration": 61,
    "start_time": "2022-05-01T16:07:04.559Z"
   },
   {
    "duration": 54,
    "start_time": "2022-05-01T16:08:07.687Z"
   },
   {
    "duration": 250,
    "start_time": "2022-05-01T16:19:19.889Z"
   },
   {
    "duration": 361,
    "start_time": "2022-05-01T16:20:13.599Z"
   },
   {
    "duration": 16,
    "start_time": "2022-05-01T16:20:16.279Z"
   },
   {
    "duration": 51,
    "start_time": "2022-05-01T16:24:34.896Z"
   },
   {
    "duration": 10,
    "start_time": "2022-05-01T16:28:05.957Z"
   },
   {
    "duration": 15,
    "start_time": "2022-05-01T16:35:26.253Z"
   },
   {
    "duration": 7,
    "start_time": "2022-05-01T16:52:05.471Z"
   },
   {
    "duration": 2830,
    "start_time": "2022-05-01T16:52:19.309Z"
   },
   {
    "duration": 2369,
    "start_time": "2022-05-01T16:52:43.863Z"
   },
   {
    "duration": 5,
    "start_time": "2022-05-01T16:53:13.792Z"
   },
   {
    "duration": 8,
    "start_time": "2022-05-01T16:53:22.782Z"
   },
   {
    "duration": 8,
    "start_time": "2022-05-01T16:53:28.962Z"
   },
   {
    "duration": 9,
    "start_time": "2022-05-01T16:56:37.719Z"
   },
   {
    "duration": 16,
    "start_time": "2022-05-01T16:57:11.728Z"
   },
   {
    "duration": 431,
    "start_time": "2022-05-01T16:58:14.583Z"
   },
   {
    "duration": 33,
    "start_time": "2022-05-01T16:58:15.017Z"
   },
   {
    "duration": 11,
    "start_time": "2022-05-01T16:58:15.052Z"
   },
   {
    "duration": 189,
    "start_time": "2022-05-01T16:58:15.065Z"
   },
   {
    "duration": 45,
    "start_time": "2022-05-01T16:58:15.257Z"
   },
   {
    "duration": 103,
    "start_time": "2022-05-01T16:58:15.306Z"
   },
   {
    "duration": 28,
    "start_time": "2022-05-01T16:58:15.411Z"
   },
   {
    "duration": 181,
    "start_time": "2022-05-01T16:58:15.441Z"
   },
   {
    "duration": 25,
    "start_time": "2022-05-01T16:58:15.624Z"
   },
   {
    "duration": 17,
    "start_time": "2022-05-01T16:58:15.650Z"
   },
   {
    "duration": 26,
    "start_time": "2022-05-01T16:58:15.669Z"
   },
   {
    "duration": 13,
    "start_time": "2022-05-01T16:58:15.703Z"
   },
   {
    "duration": 17,
    "start_time": "2022-05-01T16:58:15.718Z"
   },
   {
    "duration": 6,
    "start_time": "2022-05-01T16:58:15.739Z"
   },
   {
    "duration": 16,
    "start_time": "2022-05-01T16:58:15.747Z"
   },
   {
    "duration": 12,
    "start_time": "2022-05-01T16:58:15.765Z"
   },
   {
    "duration": 7,
    "start_time": "2022-05-01T16:58:15.779Z"
   },
   {
    "duration": 24,
    "start_time": "2022-05-01T16:58:15.788Z"
   },
   {
    "duration": 13,
    "start_time": "2022-05-01T16:58:15.815Z"
   },
   {
    "duration": 11,
    "start_time": "2022-05-01T16:58:15.830Z"
   },
   {
    "duration": 20,
    "start_time": "2022-05-01T16:58:15.844Z"
   },
   {
    "duration": 10,
    "start_time": "2022-05-01T16:58:15.866Z"
   },
   {
    "duration": 54,
    "start_time": "2022-05-01T16:58:15.878Z"
   },
   {
    "duration": 9,
    "start_time": "2022-05-01T16:58:15.934Z"
   },
   {
    "duration": 77,
    "start_time": "2022-05-01T16:58:15.944Z"
   },
   {
    "duration": 9,
    "start_time": "2022-05-01T16:58:16.023Z"
   },
   {
    "duration": 90,
    "start_time": "2022-05-01T16:58:16.033Z"
   },
   {
    "duration": 148,
    "start_time": "2022-05-01T16:58:16.125Z"
   },
   {
    "duration": 8,
    "start_time": "2022-05-01T16:58:16.275Z"
   },
   {
    "duration": 115,
    "start_time": "2022-05-01T16:58:16.286Z"
   },
   {
    "duration": 39,
    "start_time": "2022-05-01T16:58:16.403Z"
   },
   {
    "duration": 58,
    "start_time": "2022-05-01T16:58:16.444Z"
   },
   {
    "duration": 15,
    "start_time": "2022-05-01T16:58:16.504Z"
   },
   {
    "duration": 9,
    "start_time": "2022-05-01T16:58:16.521Z"
   },
   {
    "duration": 46,
    "start_time": "2022-05-01T16:58:16.532Z"
   },
   {
    "duration": 35,
    "start_time": "2022-05-01T16:58:16.592Z"
   },
   {
    "duration": 69,
    "start_time": "2022-05-01T16:58:16.629Z"
   },
   {
    "duration": 13,
    "start_time": "2022-05-01T16:58:16.702Z"
   },
   {
    "duration": 135,
    "start_time": "2022-05-01T16:58:19.551Z"
   },
   {
    "duration": 21,
    "start_time": "2022-05-01T16:59:55.663Z"
   },
   {
    "duration": 142,
    "start_time": "2022-05-01T17:03:05.222Z"
   },
   {
    "duration": 16,
    "start_time": "2022-05-01T17:05:23.183Z"
   },
   {
    "duration": 16,
    "start_time": "2022-05-01T17:08:48.664Z"
   },
   {
    "duration": 26,
    "start_time": "2022-05-01T17:10:04.185Z"
   },
   {
    "duration": 26,
    "start_time": "2022-05-01T17:10:11.184Z"
   },
   {
    "duration": 418,
    "start_time": "2022-05-01T17:12:02.306Z"
   },
   {
    "duration": 32,
    "start_time": "2022-05-01T17:12:02.727Z"
   },
   {
    "duration": 16,
    "start_time": "2022-05-01T17:12:02.762Z"
   },
   {
    "duration": 185,
    "start_time": "2022-05-01T17:12:02.792Z"
   },
   {
    "duration": 42,
    "start_time": "2022-05-01T17:12:02.979Z"
   },
   {
    "duration": 137,
    "start_time": "2022-05-01T17:12:03.023Z"
   },
   {
    "duration": 42,
    "start_time": "2022-05-01T17:12:03.162Z"
   },
   {
    "duration": 143,
    "start_time": "2022-05-01T17:12:03.206Z"
   },
   {
    "duration": 21,
    "start_time": "2022-05-01T17:12:03.350Z"
   },
   {
    "duration": 28,
    "start_time": "2022-05-01T17:12:03.375Z"
   },
   {
    "duration": 11,
    "start_time": "2022-05-01T17:12:03.407Z"
   },
   {
    "duration": 3,
    "start_time": "2022-05-01T17:12:03.420Z"
   },
   {
    "duration": 9,
    "start_time": "2022-05-01T17:12:03.425Z"
   },
   {
    "duration": 7,
    "start_time": "2022-05-01T17:12:03.436Z"
   },
   {
    "duration": 9,
    "start_time": "2022-05-01T17:12:03.445Z"
   },
   {
    "duration": 10,
    "start_time": "2022-05-01T17:12:03.455Z"
   },
   {
    "duration": 7,
    "start_time": "2022-05-01T17:12:03.466Z"
   },
   {
    "duration": 13,
    "start_time": "2022-05-01T17:12:03.493Z"
   },
   {
    "duration": 22,
    "start_time": "2022-05-01T17:12:03.507Z"
   },
   {
    "duration": 10,
    "start_time": "2022-05-01T17:12:03.530Z"
   },
   {
    "duration": 11,
    "start_time": "2022-05-01T17:12:03.541Z"
   },
   {
    "duration": 10,
    "start_time": "2022-05-01T17:12:03.554Z"
   },
   {
    "duration": 48,
    "start_time": "2022-05-01T17:12:03.565Z"
   },
   {
    "duration": 8,
    "start_time": "2022-05-01T17:12:03.615Z"
   },
   {
    "duration": 72,
    "start_time": "2022-05-01T17:12:03.625Z"
   },
   {
    "duration": 9,
    "start_time": "2022-05-01T17:12:03.699Z"
   },
   {
    "duration": 82,
    "start_time": "2022-05-01T17:12:03.710Z"
   },
   {
    "duration": 113,
    "start_time": "2022-05-01T17:12:03.797Z"
   },
   {
    "duration": 6,
    "start_time": "2022-05-01T17:12:03.912Z"
   },
   {
    "duration": 24,
    "start_time": "2022-05-01T17:12:03.920Z"
   },
   {
    "duration": 52,
    "start_time": "2022-05-01T17:12:03.946Z"
   },
   {
    "duration": 60,
    "start_time": "2022-05-01T17:12:04.002Z"
   },
   {
    "duration": 30,
    "start_time": "2022-05-01T17:12:04.064Z"
   },
   {
    "duration": 7,
    "start_time": "2022-05-01T17:12:04.097Z"
   },
   {
    "duration": 32,
    "start_time": "2022-05-01T17:12:04.106Z"
   },
   {
    "duration": 26,
    "start_time": "2022-05-01T17:12:04.139Z"
   },
   {
    "duration": 61,
    "start_time": "2022-05-01T17:12:04.192Z"
   },
   {
    "duration": 10,
    "start_time": "2022-05-01T17:12:04.255Z"
   },
   {
    "duration": 39,
    "start_time": "2022-05-01T17:12:04.267Z"
   },
   {
    "duration": 59,
    "start_time": "2022-05-01T17:12:04.309Z"
   },
   {
    "duration": 8,
    "start_time": "2022-05-01T17:12:04.370Z"
   },
   {
    "duration": 20,
    "start_time": "2022-05-01T17:12:04.380Z"
   },
   {
    "duration": 21,
    "start_time": "2022-05-01T17:12:04.402Z"
   },
   {
    "duration": 54,
    "start_time": "2022-05-01T17:12:04.424Z"
   },
   {
    "duration": 52,
    "start_time": "2022-05-01T17:12:04.479Z"
   },
   {
    "duration": 37,
    "start_time": "2022-05-01T17:12:04.533Z"
   },
   {
    "duration": 76,
    "start_time": "2022-05-01T17:12:04.572Z"
   },
   {
    "duration": 14,
    "start_time": "2022-05-01T18:40:12.352Z"
   },
   {
    "duration": 11,
    "start_time": "2022-05-01T18:48:45.224Z"
   },
   {
    "duration": 3,
    "start_time": "2022-05-01T18:54:53.144Z"
   },
   {
    "duration": 10,
    "start_time": "2022-05-01T18:56:58.864Z"
   },
   {
    "duration": 70,
    "start_time": "2022-05-01T18:57:29.603Z"
   },
   {
    "duration": 11,
    "start_time": "2022-05-01T18:58:23.183Z"
   },
   {
    "duration": 11,
    "start_time": "2022-05-01T18:58:35.871Z"
   },
   {
    "duration": 39,
    "start_time": "2022-05-01T18:59:19.412Z"
   },
   {
    "duration": 16,
    "start_time": "2022-05-01T18:59:46.345Z"
   },
   {
    "duration": 33,
    "start_time": "2022-05-01T19:00:19.320Z"
   },
   {
    "duration": 143,
    "start_time": "2022-05-01T19:02:44.672Z"
   },
   {
    "duration": 25,
    "start_time": "2022-05-01T19:02:58.891Z"
   },
   {
    "duration": 11,
    "start_time": "2022-05-01T19:04:59.863Z"
   },
   {
    "duration": 23,
    "start_time": "2022-05-01T19:06:11.550Z"
   },
   {
    "duration": 23,
    "start_time": "2022-05-01T19:07:27.338Z"
   },
   {
    "duration": 11,
    "start_time": "2022-05-01T19:12:45.162Z"
   },
   {
    "duration": 18,
    "start_time": "2022-05-01T19:12:59.086Z"
   },
   {
    "duration": 13,
    "start_time": "2022-05-01T19:18:34.222Z"
   },
   {
    "duration": 11,
    "start_time": "2022-05-01T19:21:25.184Z"
   },
   {
    "duration": 12,
    "start_time": "2022-05-01T19:21:44.945Z"
   },
   {
    "duration": 25,
    "start_time": "2022-05-01T19:25:16.505Z"
   },
   {
    "duration": 6,
    "start_time": "2022-05-01T19:27:07.402Z"
   },
   {
    "duration": 6,
    "start_time": "2022-05-01T19:27:14.984Z"
   },
   {
    "duration": 25,
    "start_time": "2022-05-01T19:27:24.907Z"
   },
   {
    "duration": 39,
    "start_time": "2022-05-01T19:29:39.544Z"
   },
   {
    "duration": 4,
    "start_time": "2022-05-01T19:34:31.912Z"
   },
   {
    "duration": 5,
    "start_time": "2022-05-01T19:37:02.112Z"
   },
   {
    "duration": 3,
    "start_time": "2022-05-01T19:40:43.424Z"
   },
   {
    "duration": 1653,
    "start_time": "2022-05-01T19:40:51.281Z"
   },
   {
    "duration": 4,
    "start_time": "2022-05-01T19:41:27.614Z"
   },
   {
    "duration": 1678,
    "start_time": "2022-05-01T19:41:33.837Z"
   },
   {
    "duration": 36,
    "start_time": "2022-05-01T19:42:11.266Z"
   },
   {
    "duration": 3,
    "start_time": "2022-05-01T19:43:32.825Z"
   },
   {
    "duration": 1900,
    "start_time": "2022-05-01T19:43:38.905Z"
   },
   {
    "duration": 552,
    "start_time": "2022-05-02T07:45:33.036Z"
   },
   {
    "duration": 50,
    "start_time": "2022-05-02T07:45:33.591Z"
   },
   {
    "duration": 17,
    "start_time": "2022-05-02T07:45:33.644Z"
   },
   {
    "duration": 248,
    "start_time": "2022-05-02T07:45:33.663Z"
   },
   {
    "duration": 45,
    "start_time": "2022-05-02T07:45:33.914Z"
   },
   {
    "duration": 141,
    "start_time": "2022-05-02T07:45:33.961Z"
   },
   {
    "duration": 35,
    "start_time": "2022-05-02T07:45:34.104Z"
   },
   {
    "duration": 208,
    "start_time": "2022-05-02T07:45:34.141Z"
   },
   {
    "duration": 31,
    "start_time": "2022-05-02T07:45:34.351Z"
   },
   {
    "duration": 43,
    "start_time": "2022-05-02T07:45:34.384Z"
   },
   {
    "duration": 15,
    "start_time": "2022-05-02T07:45:34.429Z"
   },
   {
    "duration": 9,
    "start_time": "2022-05-02T07:45:34.446Z"
   },
   {
    "duration": 6,
    "start_time": "2022-05-02T07:45:34.457Z"
   },
   {
    "duration": 7,
    "start_time": "2022-05-02T07:45:34.468Z"
   },
   {
    "duration": 50,
    "start_time": "2022-05-02T07:45:34.477Z"
   },
   {
    "duration": 9,
    "start_time": "2022-05-02T07:45:34.529Z"
   },
   {
    "duration": 7,
    "start_time": "2022-05-02T07:45:34.541Z"
   },
   {
    "duration": 9,
    "start_time": "2022-05-02T07:45:34.550Z"
   },
   {
    "duration": 10,
    "start_time": "2022-05-02T07:45:34.561Z"
   },
   {
    "duration": 53,
    "start_time": "2022-05-02T07:45:34.573Z"
   },
   {
    "duration": 16,
    "start_time": "2022-05-02T07:45:34.628Z"
   },
   {
    "duration": 16,
    "start_time": "2022-05-02T07:45:34.646Z"
   },
   {
    "duration": 22,
    "start_time": "2022-05-02T07:45:34.665Z"
   },
   {
    "duration": 6,
    "start_time": "2022-05-02T07:45:34.726Z"
   },
   {
    "duration": 56,
    "start_time": "2022-05-02T07:45:34.734Z"
   },
   {
    "duration": 37,
    "start_time": "2022-05-02T07:45:34.792Z"
   },
   {
    "duration": 96,
    "start_time": "2022-05-02T07:45:34.831Z"
   },
   {
    "duration": 12,
    "start_time": "2022-05-02T07:45:34.929Z"
   },
   {
    "duration": 120,
    "start_time": "2022-05-02T07:45:34.943Z"
   },
   {
    "duration": 158,
    "start_time": "2022-05-02T07:45:35.065Z"
   },
   {
    "duration": 6,
    "start_time": "2022-05-02T07:45:35.225Z"
   },
   {
    "duration": 37,
    "start_time": "2022-05-02T07:45:35.233Z"
   },
   {
    "duration": 79,
    "start_time": "2022-05-02T07:45:35.272Z"
   },
   {
    "duration": 74,
    "start_time": "2022-05-02T07:45:35.353Z"
   },
   {
    "duration": 20,
    "start_time": "2022-05-02T07:45:35.429Z"
   },
   {
    "duration": 9,
    "start_time": "2022-05-02T07:45:35.451Z"
   },
   {
    "duration": 70,
    "start_time": "2022-05-02T07:45:35.462Z"
   },
   {
    "duration": 36,
    "start_time": "2022-05-02T07:45:35.534Z"
   },
   {
    "duration": 98,
    "start_time": "2022-05-02T07:45:35.573Z"
   },
   {
    "duration": 13,
    "start_time": "2022-05-02T07:45:35.673Z"
   },
   {
    "duration": 36,
    "start_time": "2022-05-02T07:45:35.692Z"
   },
   {
    "duration": 7,
    "start_time": "2022-05-02T07:45:35.730Z"
   },
   {
    "duration": 88,
    "start_time": "2022-05-02T07:45:35.739Z"
   },
   {
    "duration": 11,
    "start_time": "2022-05-02T07:45:35.830Z"
   },
   {
    "duration": 13,
    "start_time": "2022-05-02T07:45:35.844Z"
   },
   {
    "duration": 13,
    "start_time": "2022-05-02T07:45:35.860Z"
   },
   {
    "duration": 98,
    "start_time": "2022-05-02T07:45:35.875Z"
   },
   {
    "duration": 62,
    "start_time": "2022-05-02T07:45:35.976Z"
   },
   {
    "duration": 54,
    "start_time": "2022-05-02T07:45:36.041Z"
   },
   {
    "duration": 88,
    "start_time": "2022-05-02T07:45:36.097Z"
   },
   {
    "duration": 5,
    "start_time": "2022-05-02T07:45:36.187Z"
   },
   {
    "duration": 67,
    "start_time": "2022-05-02T07:45:48.608Z"
   },
   {
    "duration": 18,
    "start_time": "2022-05-02T07:46:56.130Z"
   },
   {
    "duration": 58,
    "start_time": "2022-05-02T07:47:07.177Z"
   },
   {
    "duration": 58,
    "start_time": "2022-05-02T07:47:15.189Z"
   },
   {
    "duration": 67,
    "start_time": "2022-05-02T07:47:24.904Z"
   },
   {
    "duration": 115,
    "start_time": "2022-05-02T07:52:22.475Z"
   },
   {
    "duration": 45,
    "start_time": "2022-05-02T07:53:02.620Z"
   },
   {
    "duration": 1173,
    "start_time": "2022-05-02T07:53:50.749Z"
   },
   {
    "duration": 1173,
    "start_time": "2022-05-02T07:56:17.467Z"
   },
   {
    "duration": 18,
    "start_time": "2022-05-02T07:57:13.059Z"
   },
   {
    "duration": 50,
    "start_time": "2022-05-02T08:00:07.634Z"
   },
   {
    "duration": 52,
    "start_time": "2022-05-02T08:03:18.772Z"
   },
   {
    "duration": 52,
    "start_time": "2022-05-02T08:03:36.852Z"
   },
   {
    "duration": 4,
    "start_time": "2022-05-02T08:12:01.639Z"
   },
   {
    "duration": 66,
    "start_time": "2022-05-02T08:12:08.400Z"
   },
   {
    "duration": 71,
    "start_time": "2022-05-02T08:13:17.120Z"
   },
   {
    "duration": 73,
    "start_time": "2022-05-02T08:24:47.669Z"
   },
   {
    "duration": 73,
    "start_time": "2022-05-02T08:25:04.549Z"
   },
   {
    "duration": 72,
    "start_time": "2022-05-02T08:26:36.968Z"
   },
   {
    "duration": 70,
    "start_time": "2022-05-02T08:27:17.482Z"
   },
   {
    "duration": 56,
    "start_time": "2022-05-02T08:28:28.554Z"
   },
   {
    "duration": 87,
    "start_time": "2022-05-02T08:28:46.156Z"
   },
   {
    "duration": 4,
    "start_time": "2022-05-02T08:36:09.961Z"
   },
   {
    "duration": 6,
    "start_time": "2022-05-02T08:36:18.601Z"
   },
   {
    "duration": 33,
    "start_time": "2022-05-02T08:37:28.701Z"
   },
   {
    "duration": 97,
    "start_time": "2022-05-02T08:37:46.391Z"
   },
   {
    "duration": 70,
    "start_time": "2022-05-02T08:38:36.404Z"
   },
   {
    "duration": 47,
    "start_time": "2022-05-02T08:42:16.230Z"
   },
   {
    "duration": 1741,
    "start_time": "2022-05-02T08:43:06.109Z"
   },
   {
    "duration": 696,
    "start_time": "2022-05-02T08:43:30.252Z"
   },
   {
    "duration": 56,
    "start_time": "2022-05-02T08:43:30.951Z"
   },
   {
    "duration": 35,
    "start_time": "2022-05-02T08:43:31.010Z"
   },
   {
    "duration": 239,
    "start_time": "2022-05-02T08:43:31.048Z"
   },
   {
    "duration": 42,
    "start_time": "2022-05-02T08:43:31.289Z"
   },
   {
    "duration": 137,
    "start_time": "2022-05-02T08:43:31.333Z"
   },
   {
    "duration": 26,
    "start_time": "2022-05-02T08:43:31.472Z"
   },
   {
    "duration": 239,
    "start_time": "2022-05-02T08:43:31.501Z"
   },
   {
    "duration": 35,
    "start_time": "2022-05-02T08:43:31.742Z"
   },
   {
    "duration": 46,
    "start_time": "2022-05-02T08:43:31.782Z"
   },
   {
    "duration": 16,
    "start_time": "2022-05-02T08:43:31.830Z"
   },
   {
    "duration": 14,
    "start_time": "2022-05-02T08:43:31.848Z"
   },
   {
    "duration": 8,
    "start_time": "2022-05-02T08:43:31.865Z"
   },
   {
    "duration": 20,
    "start_time": "2022-05-02T08:43:31.876Z"
   },
   {
    "duration": 29,
    "start_time": "2022-05-02T08:43:31.898Z"
   },
   {
    "duration": 10,
    "start_time": "2022-05-02T08:43:31.930Z"
   },
   {
    "duration": 22,
    "start_time": "2022-05-02T08:43:31.942Z"
   },
   {
    "duration": 24,
    "start_time": "2022-05-02T08:43:31.967Z"
   },
   {
    "duration": 22,
    "start_time": "2022-05-02T08:43:31.994Z"
   },
   {
    "duration": 13,
    "start_time": "2022-05-02T08:43:32.019Z"
   },
   {
    "duration": 14,
    "start_time": "2022-05-02T08:43:32.034Z"
   },
   {
    "duration": 18,
    "start_time": "2022-05-02T08:43:32.050Z"
   },
   {
    "duration": 55,
    "start_time": "2022-05-02T08:43:32.070Z"
   },
   {
    "duration": 6,
    "start_time": "2022-05-02T08:43:32.128Z"
   },
   {
    "duration": 93,
    "start_time": "2022-05-02T08:43:32.136Z"
   },
   {
    "duration": 17,
    "start_time": "2022-05-02T08:43:32.232Z"
   },
   {
    "duration": 179,
    "start_time": "2022-05-02T08:43:32.252Z"
   },
   {
    "duration": 15,
    "start_time": "2022-05-02T08:43:32.440Z"
   },
   {
    "duration": 123,
    "start_time": "2022-05-02T08:43:32.457Z"
   },
   {
    "duration": 163,
    "start_time": "2022-05-02T08:43:32.582Z"
   },
   {
    "duration": 6,
    "start_time": "2022-05-02T08:43:32.747Z"
   },
   {
    "duration": 39,
    "start_time": "2022-05-02T08:43:32.756Z"
   },
   {
    "duration": 69,
    "start_time": "2022-05-02T08:43:32.797Z"
   },
   {
    "duration": 94,
    "start_time": "2022-05-02T08:43:32.868Z"
   },
   {
    "duration": 23,
    "start_time": "2022-05-02T08:43:32.965Z"
   },
   {
    "duration": 34,
    "start_time": "2022-05-02T08:43:32.991Z"
   },
   {
    "duration": 37,
    "start_time": "2022-05-02T08:43:33.027Z"
   },
   {
    "duration": 65,
    "start_time": "2022-05-02T08:43:33.066Z"
   },
   {
    "duration": 76,
    "start_time": "2022-05-02T08:43:33.134Z"
   },
   {
    "duration": 14,
    "start_time": "2022-05-02T08:43:33.226Z"
   },
   {
    "duration": 19,
    "start_time": "2022-05-02T08:43:33.244Z"
   },
   {
    "duration": 106,
    "start_time": "2022-05-02T08:43:33.265Z"
   },
   {
    "duration": 12,
    "start_time": "2022-05-02T08:43:33.373Z"
   },
   {
    "duration": 18,
    "start_time": "2022-05-02T08:43:33.387Z"
   },
   {
    "duration": 28,
    "start_time": "2022-05-02T08:43:33.407Z"
   },
   {
    "duration": 72,
    "start_time": "2022-05-02T08:43:33.437Z"
   },
   {
    "duration": 70,
    "start_time": "2022-05-02T08:43:33.511Z"
   },
   {
    "duration": 75,
    "start_time": "2022-05-02T08:43:33.584Z"
   },
   {
    "duration": 84,
    "start_time": "2022-05-02T08:43:33.661Z"
   },
   {
    "duration": 4,
    "start_time": "2022-05-02T08:43:33.747Z"
   },
   {
    "duration": 13,
    "start_time": "2022-05-02T08:43:33.753Z"
   },
   {
    "duration": 89,
    "start_time": "2022-05-02T08:43:33.769Z"
   },
   {
    "duration": 64,
    "start_time": "2022-05-02T08:43:33.860Z"
   },
   {
    "duration": 17,
    "start_time": "2022-05-02T08:43:33.926Z"
   },
   {
    "duration": 77,
    "start_time": "2022-05-02T08:44:32.065Z"
   },
   {
    "duration": 55,
    "start_time": "2022-05-02T08:46:17.056Z"
   },
   {
    "duration": 110,
    "start_time": "2022-05-02T08:46:59.129Z"
   },
   {
    "duration": 20,
    "start_time": "2022-05-02T08:47:50.685Z"
   },
   {
    "duration": 4,
    "start_time": "2022-05-02T08:48:02.774Z"
   },
   {
    "duration": 48,
    "start_time": "2022-05-02T08:48:02.781Z"
   },
   {
    "duration": 18,
    "start_time": "2022-05-02T08:48:02.831Z"
   },
   {
    "duration": 258,
    "start_time": "2022-05-02T08:48:02.852Z"
   },
   {
    "duration": 35,
    "start_time": "2022-05-02T08:48:03.125Z"
   },
   {
    "duration": 148,
    "start_time": "2022-05-02T08:48:03.162Z"
   },
   {
    "duration": 30,
    "start_time": "2022-05-02T08:48:03.313Z"
   },
   {
    "duration": 198,
    "start_time": "2022-05-02T08:48:03.345Z"
   },
   {
    "duration": 31,
    "start_time": "2022-05-02T08:48:03.545Z"
   },
   {
    "duration": 21,
    "start_time": "2022-05-02T08:48:03.578Z"
   },
   {
    "duration": 37,
    "start_time": "2022-05-02T08:48:03.602Z"
   },
   {
    "duration": 10,
    "start_time": "2022-05-02T08:48:03.641Z"
   },
   {
    "duration": 10,
    "start_time": "2022-05-02T08:48:03.656Z"
   },
   {
    "duration": 9,
    "start_time": "2022-05-02T08:48:03.668Z"
   },
   {
    "duration": 20,
    "start_time": "2022-05-02T08:48:03.680Z"
   },
   {
    "duration": 11,
    "start_time": "2022-05-02T08:48:03.725Z"
   },
   {
    "duration": 14,
    "start_time": "2022-05-02T08:48:03.738Z"
   },
   {
    "duration": 13,
    "start_time": "2022-05-02T08:48:03.755Z"
   },
   {
    "duration": 15,
    "start_time": "2022-05-02T08:48:03.770Z"
   },
   {
    "duration": 39,
    "start_time": "2022-05-02T08:48:03.787Z"
   },
   {
    "duration": 10,
    "start_time": "2022-05-02T08:48:03.828Z"
   },
   {
    "duration": 18,
    "start_time": "2022-05-02T08:48:03.840Z"
   },
   {
    "duration": 73,
    "start_time": "2022-05-02T08:48:03.860Z"
   },
   {
    "duration": 21,
    "start_time": "2022-05-02T08:48:03.935Z"
   },
   {
    "duration": 52,
    "start_time": "2022-05-02T08:48:03.959Z"
   },
   {
    "duration": 12,
    "start_time": "2022-05-02T08:48:04.014Z"
   },
   {
    "duration": 96,
    "start_time": "2022-05-02T08:48:04.029Z"
   },
   {
    "duration": 12,
    "start_time": "2022-05-02T08:48:04.127Z"
   },
   {
    "duration": 106,
    "start_time": "2022-05-02T08:48:04.141Z"
   },
   {
    "duration": 155,
    "start_time": "2022-05-02T08:48:04.250Z"
   },
   {
    "duration": 5,
    "start_time": "2022-05-02T08:48:04.408Z"
   },
   {
    "duration": 40,
    "start_time": "2022-05-02T08:48:04.424Z"
   },
   {
    "duration": 62,
    "start_time": "2022-05-02T08:48:04.467Z"
   },
   {
    "duration": 59,
    "start_time": "2022-05-02T08:48:04.531Z"
   },
   {
    "duration": 42,
    "start_time": "2022-05-02T08:48:04.592Z"
   },
   {
    "duration": 15,
    "start_time": "2022-05-02T08:48:04.637Z"
   },
   {
    "duration": 44,
    "start_time": "2022-05-02T08:48:04.658Z"
   },
   {
    "duration": 55,
    "start_time": "2022-05-02T08:48:04.705Z"
   },
   {
    "duration": 96,
    "start_time": "2022-05-02T08:48:04.763Z"
   },
   {
    "duration": 14,
    "start_time": "2022-05-02T08:48:04.862Z"
   },
   {
    "duration": 45,
    "start_time": "2022-05-02T08:48:04.879Z"
   },
   {
    "duration": 252,
    "start_time": "2022-05-02T08:48:04.927Z"
   },
   {
    "duration": 27,
    "start_time": "2022-05-02T08:48:05.181Z"
   },
   {
    "duration": 132,
    "start_time": "2022-05-02T08:48:05.210Z"
   },
   {
    "duration": 43,
    "start_time": "2022-05-02T08:48:05.344Z"
   },
   {
    "duration": 84,
    "start_time": "2022-05-02T08:48:05.389Z"
   },
   {
    "duration": 94,
    "start_time": "2022-05-02T08:48:05.476Z"
   },
   {
    "duration": 68,
    "start_time": "2022-05-02T08:48:05.572Z"
   },
   {
    "duration": 84,
    "start_time": "2022-05-02T08:48:05.642Z"
   },
   {
    "duration": 4,
    "start_time": "2022-05-02T08:48:05.728Z"
   },
   {
    "duration": 8,
    "start_time": "2022-05-02T08:48:05.734Z"
   },
   {
    "duration": 103,
    "start_time": "2022-05-02T08:48:05.744Z"
   },
   {
    "duration": 74,
    "start_time": "2022-05-02T08:48:08.865Z"
   },
   {
    "duration": 4,
    "start_time": "2022-05-02T08:48:18.355Z"
   },
   {
    "duration": 38,
    "start_time": "2022-05-02T08:48:18.362Z"
   },
   {
    "duration": 16,
    "start_time": "2022-05-02T08:48:18.402Z"
   },
   {
    "duration": 233,
    "start_time": "2022-05-02T08:48:18.420Z"
   },
   {
    "duration": 33,
    "start_time": "2022-05-02T08:48:18.657Z"
   },
   {
    "duration": 147,
    "start_time": "2022-05-02T08:48:18.693Z"
   },
   {
    "duration": 27,
    "start_time": "2022-05-02T08:48:18.843Z"
   },
   {
    "duration": 197,
    "start_time": "2022-05-02T08:48:18.872Z"
   },
   {
    "duration": 29,
    "start_time": "2022-05-02T08:48:19.071Z"
   },
   {
    "duration": 34,
    "start_time": "2022-05-02T08:48:19.102Z"
   },
   {
    "duration": 16,
    "start_time": "2022-05-02T08:48:19.139Z"
   },
   {
    "duration": 7,
    "start_time": "2022-05-02T08:48:19.158Z"
   },
   {
    "duration": 8,
    "start_time": "2022-05-02T08:48:19.167Z"
   },
   {
    "duration": 7,
    "start_time": "2022-05-02T08:48:19.225Z"
   },
   {
    "duration": 15,
    "start_time": "2022-05-02T08:48:19.234Z"
   },
   {
    "duration": 11,
    "start_time": "2022-05-02T08:48:19.251Z"
   },
   {
    "duration": 8,
    "start_time": "2022-05-02T08:48:19.265Z"
   },
   {
    "duration": 9,
    "start_time": "2022-05-02T08:48:19.276Z"
   },
   {
    "duration": 39,
    "start_time": "2022-05-02T08:48:19.287Z"
   },
   {
    "duration": 11,
    "start_time": "2022-05-02T08:48:19.328Z"
   },
   {
    "duration": 10,
    "start_time": "2022-05-02T08:48:19.341Z"
   },
   {
    "duration": 17,
    "start_time": "2022-05-02T08:48:19.353Z"
   },
   {
    "duration": 53,
    "start_time": "2022-05-02T08:48:19.373Z"
   },
   {
    "duration": 12,
    "start_time": "2022-05-02T08:48:19.428Z"
   },
   {
    "duration": 59,
    "start_time": "2022-05-02T08:48:19.443Z"
   },
   {
    "duration": 22,
    "start_time": "2022-05-02T08:48:19.504Z"
   },
   {
    "duration": 77,
    "start_time": "2022-05-02T08:48:19.528Z"
   },
   {
    "duration": 24,
    "start_time": "2022-05-02T08:48:19.608Z"
   },
   {
    "duration": 106,
    "start_time": "2022-05-02T08:48:19.635Z"
   },
   {
    "duration": 144,
    "start_time": "2022-05-02T08:48:19.744Z"
   },
   {
    "duration": 7,
    "start_time": "2022-05-02T08:48:19.890Z"
   },
   {
    "duration": 84,
    "start_time": "2022-05-02T08:48:19.900Z"
   },
   {
    "duration": 65,
    "start_time": "2022-05-02T08:48:19.987Z"
   },
   {
    "duration": 77,
    "start_time": "2022-05-02T08:48:20.055Z"
   },
   {
    "duration": 21,
    "start_time": "2022-05-02T08:48:20.134Z"
   },
   {
    "duration": 10,
    "start_time": "2022-05-02T08:48:20.158Z"
   },
   {
    "duration": 70,
    "start_time": "2022-05-02T08:48:20.171Z"
   },
   {
    "duration": 38,
    "start_time": "2022-05-02T08:48:20.244Z"
   },
   {
    "duration": 89,
    "start_time": "2022-05-02T08:48:20.284Z"
   },
   {
    "duration": 14,
    "start_time": "2022-05-02T08:48:20.375Z"
   },
   {
    "duration": 40,
    "start_time": "2022-05-02T08:48:20.395Z"
   },
   {
    "duration": 75,
    "start_time": "2022-05-02T08:48:20.437Z"
   },
   {
    "duration": 20,
    "start_time": "2022-05-02T08:48:20.514Z"
   },
   {
    "duration": 13,
    "start_time": "2022-05-02T08:48:20.537Z"
   },
   {
    "duration": 16,
    "start_time": "2022-05-02T08:48:20.552Z"
   },
   {
    "duration": 109,
    "start_time": "2022-05-02T08:48:20.571Z"
   },
   {
    "duration": 63,
    "start_time": "2022-05-02T08:48:20.683Z"
   },
   {
    "duration": 53,
    "start_time": "2022-05-02T08:48:20.748Z"
   },
   {
    "duration": 81,
    "start_time": "2022-05-02T08:48:20.803Z"
   },
   {
    "duration": 4,
    "start_time": "2022-05-02T08:48:20.887Z"
   },
   {
    "duration": 34,
    "start_time": "2022-05-02T08:48:20.893Z"
   },
   {
    "duration": 77,
    "start_time": "2022-05-02T08:48:20.929Z"
   },
   {
    "duration": 53,
    "start_time": "2022-05-02T08:48:25.513Z"
   },
   {
    "duration": 99,
    "start_time": "2022-05-02T08:48:47.585Z"
   },
   {
    "duration": 77,
    "start_time": "2022-05-02T08:48:53.933Z"
   },
   {
    "duration": 97,
    "start_time": "2022-05-02T08:48:56.744Z"
   },
   {
    "duration": 4,
    "start_time": "2022-05-02T08:49:34.613Z"
   },
   {
    "duration": 49,
    "start_time": "2022-05-02T08:49:34.620Z"
   },
   {
    "duration": 18,
    "start_time": "2022-05-02T08:49:34.672Z"
   },
   {
    "duration": 254,
    "start_time": "2022-05-02T08:49:34.693Z"
   },
   {
    "duration": 34,
    "start_time": "2022-05-02T08:49:34.949Z"
   },
   {
    "duration": 154,
    "start_time": "2022-05-02T08:49:34.986Z"
   },
   {
    "duration": 26,
    "start_time": "2022-05-02T08:49:35.143Z"
   },
   {
    "duration": 202,
    "start_time": "2022-05-02T08:49:35.171Z"
   },
   {
    "duration": 48,
    "start_time": "2022-05-02T08:49:35.379Z"
   },
   {
    "duration": 22,
    "start_time": "2022-05-02T08:49:35.430Z"
   },
   {
    "duration": 15,
    "start_time": "2022-05-02T08:49:35.454Z"
   },
   {
    "duration": 8,
    "start_time": "2022-05-02T08:49:35.471Z"
   },
   {
    "duration": 13,
    "start_time": "2022-05-02T08:49:35.481Z"
   },
   {
    "duration": 40,
    "start_time": "2022-05-02T08:49:35.497Z"
   },
   {
    "duration": 10,
    "start_time": "2022-05-02T08:49:35.539Z"
   },
   {
    "duration": 16,
    "start_time": "2022-05-02T08:49:35.552Z"
   },
   {
    "duration": 8,
    "start_time": "2022-05-02T08:49:35.570Z"
   },
   {
    "duration": 11,
    "start_time": "2022-05-02T08:49:35.580Z"
   },
   {
    "duration": 41,
    "start_time": "2022-05-02T08:49:35.593Z"
   },
   {
    "duration": 12,
    "start_time": "2022-05-02T08:49:35.637Z"
   },
   {
    "duration": 18,
    "start_time": "2022-05-02T08:49:35.651Z"
   },
   {
    "duration": 22,
    "start_time": "2022-05-02T08:49:35.671Z"
   },
   {
    "duration": 48,
    "start_time": "2022-05-02T08:49:35.696Z"
   },
   {
    "duration": 6,
    "start_time": "2022-05-02T08:49:35.752Z"
   },
   {
    "duration": 99,
    "start_time": "2022-05-02T08:49:35.761Z"
   },
   {
    "duration": 14,
    "start_time": "2022-05-02T08:49:35.864Z"
   },
   {
    "duration": 95,
    "start_time": "2022-05-02T08:49:35.881Z"
   },
   {
    "duration": 11,
    "start_time": "2022-05-02T08:49:35.979Z"
   },
   {
    "duration": 106,
    "start_time": "2022-05-02T08:49:35.992Z"
   },
   {
    "duration": 160,
    "start_time": "2022-05-02T08:49:36.101Z"
   },
   {
    "duration": 6,
    "start_time": "2022-05-02T08:49:36.263Z"
   },
   {
    "duration": 37,
    "start_time": "2022-05-02T08:49:36.271Z"
   },
   {
    "duration": 58,
    "start_time": "2022-05-02T08:49:36.310Z"
   },
   {
    "duration": 87,
    "start_time": "2022-05-02T08:49:36.371Z"
   },
   {
    "duration": 22,
    "start_time": "2022-05-02T08:49:36.461Z"
   },
   {
    "duration": 9,
    "start_time": "2022-05-02T08:49:36.486Z"
   },
   {
    "duration": 63,
    "start_time": "2022-05-02T08:49:36.497Z"
   },
   {
    "duration": 63,
    "start_time": "2022-05-02T08:49:36.563Z"
   },
   {
    "duration": 74,
    "start_time": "2022-05-02T08:49:36.629Z"
   },
   {
    "duration": 16,
    "start_time": "2022-05-02T08:49:36.726Z"
   },
   {
    "duration": 29,
    "start_time": "2022-05-02T08:49:36.745Z"
   },
   {
    "duration": 92,
    "start_time": "2022-05-02T08:49:36.776Z"
   },
   {
    "duration": 12,
    "start_time": "2022-05-02T08:49:36.870Z"
   },
   {
    "duration": 17,
    "start_time": "2022-05-02T08:49:36.884Z"
   },
   {
    "duration": 14,
    "start_time": "2022-05-02T08:49:36.924Z"
   },
   {
    "duration": 93,
    "start_time": "2022-05-02T08:49:36.940Z"
   },
   {
    "duration": 90,
    "start_time": "2022-05-02T08:49:37.035Z"
   },
   {
    "duration": 73,
    "start_time": "2022-05-02T08:49:37.128Z"
   },
   {
    "duration": 116,
    "start_time": "2022-05-02T08:49:37.204Z"
   },
   {
    "duration": 5,
    "start_time": "2022-05-02T08:49:37.322Z"
   },
   {
    "duration": 20,
    "start_time": "2022-05-02T08:49:37.329Z"
   },
   {
    "duration": 110,
    "start_time": "2022-05-02T08:49:37.352Z"
   },
   {
    "duration": 102,
    "start_time": "2022-05-02T08:49:39.905Z"
   },
   {
    "duration": 82,
    "start_time": "2022-05-02T08:49:55.845Z"
   },
   {
    "duration": 102,
    "start_time": "2022-05-02T08:51:10.586Z"
   },
   {
    "duration": 83,
    "start_time": "2022-05-02T08:51:14.296Z"
   },
   {
    "duration": 6,
    "start_time": "2022-05-02T08:52:20.386Z"
   },
   {
    "duration": 71,
    "start_time": "2022-05-02T08:53:03.906Z"
   },
   {
    "duration": 85,
    "start_time": "2022-05-02T08:53:07.767Z"
   },
   {
    "duration": 53,
    "start_time": "2022-05-02T08:55:31.752Z"
   },
   {
    "duration": 76,
    "start_time": "2022-05-02T08:55:56.418Z"
   },
   {
    "duration": 89,
    "start_time": "2022-05-02T08:55:59.938Z"
   },
   {
    "duration": 75,
    "start_time": "2022-05-02T09:03:04.308Z"
   },
   {
    "duration": 82,
    "start_time": "2022-05-02T09:03:07.780Z"
   },
   {
    "duration": 36,
    "start_time": "2022-05-02T09:04:38.772Z"
   },
   {
    "duration": 73,
    "start_time": "2022-05-02T09:06:58.765Z"
   },
   {
    "duration": 3,
    "start_time": "2022-05-02T09:07:46.788Z"
   },
   {
    "duration": 45,
    "start_time": "2022-05-02T09:07:46.796Z"
   },
   {
    "duration": 19,
    "start_time": "2022-05-02T09:07:46.843Z"
   },
   {
    "duration": 333,
    "start_time": "2022-05-02T09:07:46.865Z"
   },
   {
    "duration": 61,
    "start_time": "2022-05-02T09:07:47.202Z"
   },
   {
    "duration": 193,
    "start_time": "2022-05-02T09:07:47.265Z"
   },
   {
    "duration": 38,
    "start_time": "2022-05-02T09:07:47.461Z"
   },
   {
    "duration": 284,
    "start_time": "2022-05-02T09:07:47.501Z"
   },
   {
    "duration": 57,
    "start_time": "2022-05-02T09:07:47.787Z"
   },
   {
    "duration": 47,
    "start_time": "2022-05-02T09:07:47.847Z"
   },
   {
    "duration": 21,
    "start_time": "2022-05-02T09:07:47.897Z"
   },
   {
    "duration": 44,
    "start_time": "2022-05-02T09:07:47.921Z"
   },
   {
    "duration": 40,
    "start_time": "2022-05-02T09:07:47.967Z"
   },
   {
    "duration": 32,
    "start_time": "2022-05-02T09:07:48.012Z"
   },
   {
    "duration": 52,
    "start_time": "2022-05-02T09:07:48.046Z"
   },
   {
    "duration": 39,
    "start_time": "2022-05-02T09:07:48.100Z"
   },
   {
    "duration": 32,
    "start_time": "2022-05-02T09:07:48.141Z"
   },
   {
    "duration": 42,
    "start_time": "2022-05-02T09:07:48.175Z"
   },
   {
    "duration": 37,
    "start_time": "2022-05-02T09:07:48.219Z"
   },
   {
    "duration": 28,
    "start_time": "2022-05-02T09:07:48.258Z"
   },
   {
    "duration": 32,
    "start_time": "2022-05-02T09:07:48.289Z"
   },
   {
    "duration": 35,
    "start_time": "2022-05-02T09:07:48.323Z"
   },
   {
    "duration": 51,
    "start_time": "2022-05-02T09:07:48.360Z"
   },
   {
    "duration": 32,
    "start_time": "2022-05-02T09:07:48.413Z"
   },
   {
    "duration": 77,
    "start_time": "2022-05-02T09:07:48.447Z"
   },
   {
    "duration": 12,
    "start_time": "2022-05-02T09:07:48.527Z"
   },
   {
    "duration": 98,
    "start_time": "2022-05-02T09:07:48.542Z"
   },
   {
    "duration": 12,
    "start_time": "2022-05-02T09:07:48.643Z"
   },
   {
    "duration": 117,
    "start_time": "2022-05-02T09:07:48.658Z"
   },
   {
    "duration": 154,
    "start_time": "2022-05-02T09:07:48.778Z"
   },
   {
    "duration": 7,
    "start_time": "2022-05-02T09:07:48.934Z"
   },
   {
    "duration": 67,
    "start_time": "2022-05-02T09:07:48.943Z"
   },
   {
    "duration": 51,
    "start_time": "2022-05-02T09:07:49.013Z"
   },
   {
    "duration": 67,
    "start_time": "2022-05-02T09:07:49.066Z"
   },
   {
    "duration": 19,
    "start_time": "2022-05-02T09:07:49.135Z"
   },
   {
    "duration": 32,
    "start_time": "2022-05-02T09:07:49.157Z"
   },
   {
    "duration": 66,
    "start_time": "2022-05-02T09:07:49.192Z"
   },
   {
    "duration": 42,
    "start_time": "2022-05-02T09:07:49.261Z"
   },
   {
    "duration": 80,
    "start_time": "2022-05-02T09:07:49.306Z"
   },
   {
    "duration": 14,
    "start_time": "2022-05-02T09:07:49.388Z"
   },
   {
    "duration": 26,
    "start_time": "2022-05-02T09:07:49.426Z"
   },
   {
    "duration": 91,
    "start_time": "2022-05-02T09:07:49.455Z"
   },
   {
    "duration": 12,
    "start_time": "2022-05-02T09:07:49.548Z"
   },
   {
    "duration": 43,
    "start_time": "2022-05-02T09:07:49.562Z"
   },
   {
    "duration": 41,
    "start_time": "2022-05-02T09:07:49.607Z"
   },
   {
    "duration": 76,
    "start_time": "2022-05-02T09:07:49.651Z"
   },
   {
    "duration": 55,
    "start_time": "2022-05-02T09:07:49.729Z"
   },
   {
    "duration": 69,
    "start_time": "2022-05-02T09:07:49.786Z"
   },
   {
    "duration": 83,
    "start_time": "2022-05-02T09:07:49.857Z"
   },
   {
    "duration": 3,
    "start_time": "2022-05-02T09:07:49.942Z"
   },
   {
    "duration": 38,
    "start_time": "2022-05-02T09:07:49.947Z"
   },
   {
    "duration": 85,
    "start_time": "2022-05-02T09:07:49.988Z"
   },
   {
    "duration": 80,
    "start_time": "2022-05-02T09:07:50.075Z"
   },
   {
    "duration": 112,
    "start_time": "2022-05-02T09:07:50.158Z"
   },
   {
    "duration": 54,
    "start_time": "2022-05-02T09:08:08.105Z"
   },
   {
    "duration": 4,
    "start_time": "2022-05-02T09:09:53.975Z"
   },
   {
    "duration": 51,
    "start_time": "2022-05-02T09:09:53.982Z"
   },
   {
    "duration": 17,
    "start_time": "2022-05-02T09:09:54.036Z"
   },
   {
    "duration": 257,
    "start_time": "2022-05-02T09:09:54.055Z"
   },
   {
    "duration": 33,
    "start_time": "2022-05-02T09:09:54.325Z"
   },
   {
    "duration": 163,
    "start_time": "2022-05-02T09:09:54.361Z"
   },
   {
    "duration": 28,
    "start_time": "2022-05-02T09:09:54.526Z"
   },
   {
    "duration": 281,
    "start_time": "2022-05-02T09:09:54.556Z"
   },
   {
    "duration": 46,
    "start_time": "2022-05-02T09:09:54.839Z"
   },
   {
    "duration": 45,
    "start_time": "2022-05-02T09:09:54.888Z"
   },
   {
    "duration": 23,
    "start_time": "2022-05-02T09:09:54.936Z"
   },
   {
    "duration": 19,
    "start_time": "2022-05-02T09:09:54.963Z"
   },
   {
    "duration": 14,
    "start_time": "2022-05-02T09:09:54.990Z"
   },
   {
    "duration": 24,
    "start_time": "2022-05-02T09:09:55.007Z"
   },
   {
    "duration": 23,
    "start_time": "2022-05-02T09:09:55.033Z"
   },
   {
    "duration": 21,
    "start_time": "2022-05-02T09:09:55.059Z"
   },
   {
    "duration": 12,
    "start_time": "2022-05-02T09:09:55.084Z"
   },
   {
    "duration": 26,
    "start_time": "2022-05-02T09:09:55.100Z"
   },
   {
    "duration": 9,
    "start_time": "2022-05-02T09:09:55.129Z"
   },
   {
    "duration": 11,
    "start_time": "2022-05-02T09:09:55.141Z"
   },
   {
    "duration": 20,
    "start_time": "2022-05-02T09:09:55.154Z"
   },
   {
    "duration": 49,
    "start_time": "2022-05-02T09:09:55.177Z"
   },
   {
    "duration": 23,
    "start_time": "2022-05-02T09:09:55.229Z"
   },
   {
    "duration": 11,
    "start_time": "2022-05-02T09:09:55.255Z"
   },
   {
    "duration": 81,
    "start_time": "2022-05-02T09:09:55.269Z"
   },
   {
    "duration": 13,
    "start_time": "2022-05-02T09:09:55.352Z"
   },
   {
    "duration": 96,
    "start_time": "2022-05-02T09:09:55.368Z"
   },
   {
    "duration": 12,
    "start_time": "2022-05-02T09:09:55.466Z"
   },
   {
    "duration": 106,
    "start_time": "2022-05-02T09:09:55.480Z"
   },
   {
    "duration": 167,
    "start_time": "2022-05-02T09:09:55.589Z"
   },
   {
    "duration": 6,
    "start_time": "2022-05-02T09:09:55.759Z"
   },
   {
    "duration": 41,
    "start_time": "2022-05-02T09:09:55.767Z"
   },
   {
    "duration": 44,
    "start_time": "2022-05-02T09:09:55.825Z"
   },
   {
    "duration": 90,
    "start_time": "2022-05-02T09:09:55.872Z"
   },
   {
    "duration": 22,
    "start_time": "2022-05-02T09:09:55.964Z"
   },
   {
    "duration": 9,
    "start_time": "2022-05-02T09:09:55.988Z"
   },
   {
    "duration": 58,
    "start_time": "2022-05-02T09:09:56.030Z"
   },
   {
    "duration": 59,
    "start_time": "2022-05-02T09:09:56.091Z"
   },
   {
    "duration": 93,
    "start_time": "2022-05-02T09:09:56.153Z"
   },
   {
    "duration": 13,
    "start_time": "2022-05-02T09:09:56.249Z"
   },
   {
    "duration": 21,
    "start_time": "2022-05-02T09:09:56.265Z"
   },
   {
    "duration": 101,
    "start_time": "2022-05-02T09:09:56.288Z"
   },
   {
    "duration": 14,
    "start_time": "2022-05-02T09:09:56.392Z"
   },
   {
    "duration": 12,
    "start_time": "2022-05-02T09:09:56.424Z"
   },
   {
    "duration": 24,
    "start_time": "2022-05-02T09:09:56.438Z"
   },
   {
    "duration": 115,
    "start_time": "2022-05-02T09:09:56.465Z"
   },
   {
    "duration": 100,
    "start_time": "2022-05-02T09:09:56.583Z"
   },
   {
    "duration": 94,
    "start_time": "2022-05-02T09:09:56.686Z"
   },
   {
    "duration": 105,
    "start_time": "2022-05-02T09:09:56.782Z"
   },
   {
    "duration": 5,
    "start_time": "2022-05-02T09:09:56.889Z"
   },
   {
    "duration": 7,
    "start_time": "2022-05-02T09:09:56.896Z"
   },
   {
    "duration": 116,
    "start_time": "2022-05-02T09:09:56.924Z"
   },
   {
    "duration": 127,
    "start_time": "2022-05-02T09:09:57.043Z"
   },
   {
    "duration": 59,
    "start_time": "2022-05-02T09:10:00.140Z"
   },
   {
    "duration": 8,
    "start_time": "2022-05-02T09:11:13.932Z"
   },
   {
    "duration": 4,
    "start_time": "2022-05-02T09:12:16.541Z"
   },
   {
    "duration": 34,
    "start_time": "2022-05-02T09:12:16.548Z"
   },
   {
    "duration": 15,
    "start_time": "2022-05-02T09:12:16.584Z"
   },
   {
    "duration": 260,
    "start_time": "2022-05-02T09:12:16.602Z"
   },
   {
    "duration": 35,
    "start_time": "2022-05-02T09:12:16.865Z"
   },
   {
    "duration": 188,
    "start_time": "2022-05-02T09:12:16.903Z"
   },
   {
    "duration": 48,
    "start_time": "2022-05-02T09:12:17.093Z"
   },
   {
    "duration": 201,
    "start_time": "2022-05-02T09:12:17.144Z"
   },
   {
    "duration": 32,
    "start_time": "2022-05-02T09:12:17.348Z"
   },
   {
    "duration": 21,
    "start_time": "2022-05-02T09:12:17.382Z"
   },
   {
    "duration": 20,
    "start_time": "2022-05-02T09:12:17.426Z"
   },
   {
    "duration": 6,
    "start_time": "2022-05-02T09:12:17.448Z"
   },
   {
    "duration": 13,
    "start_time": "2022-05-02T09:12:17.456Z"
   },
   {
    "duration": 5,
    "start_time": "2022-05-02T09:12:17.473Z"
   },
   {
    "duration": 12,
    "start_time": "2022-05-02T09:12:17.480Z"
   },
   {
    "duration": 12,
    "start_time": "2022-05-02T09:12:17.526Z"
   },
   {
    "duration": 13,
    "start_time": "2022-05-02T09:12:17.542Z"
   },
   {
    "duration": 10,
    "start_time": "2022-05-02T09:12:17.557Z"
   },
   {
    "duration": 10,
    "start_time": "2022-05-02T09:12:17.569Z"
   },
   {
    "duration": 7,
    "start_time": "2022-05-02T09:12:17.581Z"
   },
   {
    "duration": 12,
    "start_time": "2022-05-02T09:12:17.634Z"
   },
   {
    "duration": 17,
    "start_time": "2022-05-02T09:12:17.649Z"
   },
   {
    "duration": 17,
    "start_time": "2022-05-02T09:12:17.669Z"
   },
   {
    "duration": 35,
    "start_time": "2022-05-02T09:12:17.689Z"
   },
   {
    "duration": 59,
    "start_time": "2022-05-02T09:12:17.728Z"
   },
   {
    "duration": 49,
    "start_time": "2022-05-02T09:12:17.789Z"
   },
   {
    "duration": 82,
    "start_time": "2022-05-02T09:12:17.845Z"
   },
   {
    "duration": 13,
    "start_time": "2022-05-02T09:12:17.939Z"
   },
   {
    "duration": 100,
    "start_time": "2022-05-02T09:12:17.954Z"
   },
   {
    "duration": 148,
    "start_time": "2022-05-02T09:12:18.057Z"
   },
   {
    "duration": 5,
    "start_time": "2022-05-02T09:12:18.208Z"
   },
   {
    "duration": 45,
    "start_time": "2022-05-02T09:12:18.215Z"
   },
   {
    "duration": 70,
    "start_time": "2022-05-02T09:12:18.262Z"
   },
   {
    "duration": 65,
    "start_time": "2022-05-02T09:12:18.337Z"
   },
   {
    "duration": 38,
    "start_time": "2022-05-02T09:12:18.404Z"
   },
   {
    "duration": 15,
    "start_time": "2022-05-02T09:12:18.445Z"
   },
   {
    "duration": 74,
    "start_time": "2022-05-02T09:12:18.463Z"
   },
   {
    "duration": 36,
    "start_time": "2022-05-02T09:12:18.540Z"
   },
   {
    "duration": 103,
    "start_time": "2022-05-02T09:12:18.579Z"
   },
   {
    "duration": 14,
    "start_time": "2022-05-02T09:12:18.685Z"
   },
   {
    "duration": 20,
    "start_time": "2022-05-02T09:12:18.724Z"
   },
   {
    "duration": 97,
    "start_time": "2022-05-02T09:12:18.747Z"
   },
   {
    "duration": 12,
    "start_time": "2022-05-02T09:12:18.847Z"
   },
   {
    "duration": 14,
    "start_time": "2022-05-02T09:12:18.862Z"
   },
   {
    "duration": 19,
    "start_time": "2022-05-02T09:12:18.878Z"
   },
   {
    "duration": 82,
    "start_time": "2022-05-02T09:12:18.900Z"
   },
   {
    "duration": 77,
    "start_time": "2022-05-02T09:12:18.985Z"
   },
   {
    "duration": 69,
    "start_time": "2022-05-02T09:12:19.064Z"
   },
   {
    "duration": 66,
    "start_time": "2022-05-02T09:12:19.137Z"
   },
   {
    "duration": 21,
    "start_time": "2022-05-02T09:12:19.205Z"
   },
   {
    "duration": 8,
    "start_time": "2022-05-02T09:12:19.229Z"
   },
   {
    "duration": 113,
    "start_time": "2022-05-02T09:12:19.240Z"
   },
   {
    "duration": 112,
    "start_time": "2022-05-02T09:12:19.356Z"
   },
   {
    "duration": 90,
    "start_time": "2022-05-02T09:12:37.675Z"
   },
   {
    "duration": 541,
    "start_time": "2022-05-02T09:14:07.476Z"
   },
   {
    "duration": 48,
    "start_time": "2022-05-02T09:14:08.024Z"
   },
   {
    "duration": 15,
    "start_time": "2022-05-02T09:14:08.075Z"
   },
   {
    "duration": 224,
    "start_time": "2022-05-02T09:14:08.093Z"
   },
   {
    "duration": 32,
    "start_time": "2022-05-02T09:14:08.325Z"
   },
   {
    "duration": 132,
    "start_time": "2022-05-02T09:14:08.359Z"
   },
   {
    "duration": 33,
    "start_time": "2022-05-02T09:14:08.493Z"
   },
   {
    "duration": 193,
    "start_time": "2022-05-02T09:14:08.528Z"
   },
   {
    "duration": 30,
    "start_time": "2022-05-02T09:14:08.723Z"
   },
   {
    "duration": 21,
    "start_time": "2022-05-02T09:14:08.755Z"
   },
   {
    "duration": 15,
    "start_time": "2022-05-02T09:14:08.778Z"
   },
   {
    "duration": 34,
    "start_time": "2022-05-02T09:14:08.795Z"
   },
   {
    "duration": 10,
    "start_time": "2022-05-02T09:14:08.831Z"
   },
   {
    "duration": 5,
    "start_time": "2022-05-02T09:14:08.845Z"
   },
   {
    "duration": 23,
    "start_time": "2022-05-02T09:14:08.853Z"
   },
   {
    "duration": 14,
    "start_time": "2022-05-02T09:14:08.879Z"
   },
   {
    "duration": 30,
    "start_time": "2022-05-02T09:14:08.896Z"
   },
   {
    "duration": 9,
    "start_time": "2022-05-02T09:14:08.928Z"
   },
   {
    "duration": 12,
    "start_time": "2022-05-02T09:14:08.939Z"
   },
   {
    "duration": 8,
    "start_time": "2022-05-02T09:14:08.954Z"
   },
   {
    "duration": 12,
    "start_time": "2022-05-02T09:14:08.964Z"
   },
   {
    "duration": 64,
    "start_time": "2022-05-02T09:14:08.979Z"
   },
   {
    "duration": 23,
    "start_time": "2022-05-02T09:14:09.046Z"
   },
   {
    "duration": 12,
    "start_time": "2022-05-02T09:14:09.071Z"
   },
   {
    "duration": 85,
    "start_time": "2022-05-02T09:14:09.085Z"
   },
   {
    "duration": 16,
    "start_time": "2022-05-02T09:14:09.173Z"
   },
   {
    "duration": 179,
    "start_time": "2022-05-02T09:14:09.192Z"
   },
   {
    "duration": 15,
    "start_time": "2022-05-02T09:14:09.374Z"
   },
   {
    "duration": 108,
    "start_time": "2022-05-02T09:14:09.391Z"
   },
   {
    "duration": 152,
    "start_time": "2022-05-02T09:14:09.501Z"
   },
   {
    "duration": 5,
    "start_time": "2022-05-02T09:14:09.655Z"
   },
   {
    "duration": 35,
    "start_time": "2022-05-02T09:14:09.663Z"
   },
   {
    "duration": 66,
    "start_time": "2022-05-02T09:14:09.700Z"
   },
   {
    "duration": 82,
    "start_time": "2022-05-02T09:14:09.768Z"
   },
   {
    "duration": 19,
    "start_time": "2022-05-02T09:14:09.853Z"
   },
   {
    "duration": 6,
    "start_time": "2022-05-02T09:14:09.874Z"
   },
   {
    "duration": 64,
    "start_time": "2022-05-02T09:14:09.883Z"
   },
   {
    "duration": 37,
    "start_time": "2022-05-02T09:14:09.950Z"
   },
   {
    "duration": 98,
    "start_time": "2022-05-02T09:14:09.990Z"
   },
   {
    "duration": 14,
    "start_time": "2022-05-02T09:14:10.091Z"
   },
   {
    "duration": 19,
    "start_time": "2022-05-02T09:14:10.123Z"
   },
   {
    "duration": 103,
    "start_time": "2022-05-02T09:14:10.145Z"
   },
   {
    "duration": 12,
    "start_time": "2022-05-02T09:14:10.251Z"
   },
   {
    "duration": 15,
    "start_time": "2022-05-02T09:14:10.266Z"
   },
   {
    "duration": 14,
    "start_time": "2022-05-02T09:14:10.283Z"
   },
   {
    "duration": 87,
    "start_time": "2022-05-02T09:14:10.299Z"
   },
   {
    "duration": 71,
    "start_time": "2022-05-02T09:14:10.388Z"
   },
   {
    "duration": 66,
    "start_time": "2022-05-02T09:14:10.462Z"
   },
   {
    "duration": 66,
    "start_time": "2022-05-02T09:14:10.531Z"
   },
   {
    "duration": 26,
    "start_time": "2022-05-02T09:14:10.599Z"
   },
   {
    "duration": 6,
    "start_time": "2022-05-02T09:14:10.627Z"
   },
   {
    "duration": 90,
    "start_time": "2022-05-02T09:14:10.636Z"
   },
   {
    "duration": 75,
    "start_time": "2022-05-02T09:14:10.728Z"
   },
   {
    "duration": 649,
    "start_time": "2022-05-02T09:14:53.987Z"
   },
   {
    "duration": 46,
    "start_time": "2022-05-02T09:14:54.639Z"
   },
   {
    "duration": 18,
    "start_time": "2022-05-02T09:14:54.687Z"
   },
   {
    "duration": 248,
    "start_time": "2022-05-02T09:14:54.707Z"
   },
   {
    "duration": 33,
    "start_time": "2022-05-02T09:14:54.958Z"
   },
   {
    "duration": 143,
    "start_time": "2022-05-02T09:14:54.993Z"
   },
   {
    "duration": 29,
    "start_time": "2022-05-02T09:14:55.139Z"
   },
   {
    "duration": 208,
    "start_time": "2022-05-02T09:14:55.170Z"
   },
   {
    "duration": 44,
    "start_time": "2022-05-02T09:14:55.381Z"
   },
   {
    "duration": 23,
    "start_time": "2022-05-02T09:14:55.427Z"
   },
   {
    "duration": 16,
    "start_time": "2022-05-02T09:14:55.453Z"
   },
   {
    "duration": 17,
    "start_time": "2022-05-02T09:14:55.471Z"
   },
   {
    "duration": 36,
    "start_time": "2022-05-02T09:14:55.491Z"
   },
   {
    "duration": 24,
    "start_time": "2022-05-02T09:14:55.533Z"
   },
   {
    "duration": 18,
    "start_time": "2022-05-02T09:14:55.559Z"
   },
   {
    "duration": 27,
    "start_time": "2022-05-02T09:14:55.580Z"
   },
   {
    "duration": 15,
    "start_time": "2022-05-02T09:14:55.609Z"
   },
   {
    "duration": 16,
    "start_time": "2022-05-02T09:14:55.627Z"
   },
   {
    "duration": 14,
    "start_time": "2022-05-02T09:14:55.646Z"
   },
   {
    "duration": 11,
    "start_time": "2022-05-02T09:14:55.663Z"
   },
   {
    "duration": 13,
    "start_time": "2022-05-02T09:14:55.677Z"
   },
   {
    "duration": 39,
    "start_time": "2022-05-02T09:14:55.693Z"
   },
   {
    "duration": 17,
    "start_time": "2022-05-02T09:14:55.735Z"
   },
   {
    "duration": 11,
    "start_time": "2022-05-02T09:14:55.754Z"
   },
   {
    "duration": 85,
    "start_time": "2022-05-02T09:14:55.767Z"
   },
   {
    "duration": 12,
    "start_time": "2022-05-02T09:14:55.854Z"
   },
   {
    "duration": 96,
    "start_time": "2022-05-02T09:14:55.869Z"
   },
   {
    "duration": 11,
    "start_time": "2022-05-02T09:14:55.967Z"
   },
   {
    "duration": 110,
    "start_time": "2022-05-02T09:14:55.981Z"
   },
   {
    "duration": 150,
    "start_time": "2022-05-02T09:14:56.093Z"
   },
   {
    "duration": 6,
    "start_time": "2022-05-02T09:14:56.245Z"
   },
   {
    "duration": 35,
    "start_time": "2022-05-02T09:14:56.253Z"
   },
   {
    "duration": 68,
    "start_time": "2022-05-02T09:14:56.291Z"
   },
   {
    "duration": 77,
    "start_time": "2022-05-02T09:14:56.361Z"
   },
   {
    "duration": 19,
    "start_time": "2022-05-02T09:14:56.441Z"
   },
   {
    "duration": 8,
    "start_time": "2022-05-02T09:14:56.464Z"
   },
   {
    "duration": 66,
    "start_time": "2022-05-02T09:14:56.475Z"
   },
   {
    "duration": 39,
    "start_time": "2022-05-02T09:14:56.544Z"
   },
   {
    "duration": 89,
    "start_time": "2022-05-02T09:14:56.586Z"
   },
   {
    "duration": 15,
    "start_time": "2022-05-02T09:14:56.678Z"
   },
   {
    "duration": 15,
    "start_time": "2022-05-02T09:14:56.725Z"
   },
   {
    "duration": 95,
    "start_time": "2022-05-02T09:14:56.742Z"
   },
   {
    "duration": 11,
    "start_time": "2022-05-02T09:14:56.839Z"
   },
   {
    "duration": 17,
    "start_time": "2022-05-02T09:14:56.852Z"
   },
   {
    "duration": 16,
    "start_time": "2022-05-02T09:14:56.871Z"
   },
   {
    "duration": 88,
    "start_time": "2022-05-02T09:14:56.890Z"
   },
   {
    "duration": 66,
    "start_time": "2022-05-02T09:14:56.980Z"
   },
   {
    "duration": 55,
    "start_time": "2022-05-02T09:14:57.048Z"
   },
   {
    "duration": 80,
    "start_time": "2022-05-02T09:14:57.105Z"
   },
   {
    "duration": 4,
    "start_time": "2022-05-02T09:14:57.187Z"
   },
   {
    "duration": 8,
    "start_time": "2022-05-02T09:14:57.193Z"
   },
   {
    "duration": 71,
    "start_time": "2022-05-02T09:15:11.778Z"
   },
   {
    "duration": 52,
    "start_time": "2022-05-02T09:16:08.768Z"
   },
   {
    "duration": 83,
    "start_time": "2022-05-02T09:16:46.139Z"
   },
   {
    "duration": 77,
    "start_time": "2022-05-02T09:17:15.047Z"
   },
   {
    "duration": 109,
    "start_time": "2022-05-02T09:18:56.194Z"
   },
   {
    "duration": 95,
    "start_time": "2022-05-02T09:21:14.308Z"
   },
   {
    "duration": 4,
    "start_time": "2022-05-02T09:25:47.675Z"
   },
   {
    "duration": 38,
    "start_time": "2022-05-02T09:25:47.681Z"
   },
   {
    "duration": 16,
    "start_time": "2022-05-02T09:25:47.721Z"
   },
   {
    "duration": 244,
    "start_time": "2022-05-02T09:25:47.739Z"
   },
   {
    "duration": 49,
    "start_time": "2022-05-02T09:25:47.987Z"
   },
   {
    "duration": 149,
    "start_time": "2022-05-02T09:25:48.039Z"
   },
   {
    "duration": 44,
    "start_time": "2022-05-02T09:25:48.191Z"
   },
   {
    "duration": 188,
    "start_time": "2022-05-02T09:25:48.238Z"
   },
   {
    "duration": 44,
    "start_time": "2022-05-02T09:25:48.429Z"
   },
   {
    "duration": 20,
    "start_time": "2022-05-02T09:25:48.476Z"
   },
   {
    "duration": 15,
    "start_time": "2022-05-02T09:25:48.525Z"
   },
   {
    "duration": 10,
    "start_time": "2022-05-02T09:25:48.543Z"
   },
   {
    "duration": 12,
    "start_time": "2022-05-02T09:25:48.555Z"
   },
   {
    "duration": 6,
    "start_time": "2022-05-02T09:25:48.573Z"
   },
   {
    "duration": 16,
    "start_time": "2022-05-02T09:25:48.582Z"
   },
   {
    "duration": 11,
    "start_time": "2022-05-02T09:25:48.626Z"
   },
   {
    "duration": 9,
    "start_time": "2022-05-02T09:25:48.640Z"
   },
   {
    "duration": 9,
    "start_time": "2022-05-02T09:25:48.652Z"
   },
   {
    "duration": 11,
    "start_time": "2022-05-02T09:25:48.663Z"
   },
   {
    "duration": 49,
    "start_time": "2022-05-02T09:25:48.676Z"
   },
   {
    "duration": 10,
    "start_time": "2022-05-02T09:25:48.727Z"
   },
   {
    "duration": 55,
    "start_time": "2022-05-02T09:25:48.740Z"
   },
   {
    "duration": 19,
    "start_time": "2022-05-02T09:25:48.798Z"
   },
   {
    "duration": 9,
    "start_time": "2022-05-02T09:25:48.819Z"
   },
   {
    "duration": 51,
    "start_time": "2022-05-02T09:25:48.830Z"
   },
   {
    "duration": 12,
    "start_time": "2022-05-02T09:25:48.884Z"
   },
   {
    "duration": 101,
    "start_time": "2022-05-02T09:25:48.899Z"
   },
   {
    "duration": 30,
    "start_time": "2022-05-02T09:25:49.002Z"
   },
   {
    "duration": 103,
    "start_time": "2022-05-02T09:25:49.034Z"
   },
   {
    "duration": 152,
    "start_time": "2022-05-02T09:25:49.139Z"
   },
   {
    "duration": 7,
    "start_time": "2022-05-02T09:25:49.293Z"
   },
   {
    "duration": 50,
    "start_time": "2022-05-02T09:25:49.302Z"
   },
   {
    "duration": 42,
    "start_time": "2022-05-02T09:25:49.356Z"
   },
   {
    "duration": 81,
    "start_time": "2022-05-02T09:25:49.401Z"
   },
   {
    "duration": 43,
    "start_time": "2022-05-02T09:25:49.484Z"
   },
   {
    "duration": 7,
    "start_time": "2022-05-02T09:25:49.531Z"
   },
   {
    "duration": 39,
    "start_time": "2022-05-02T09:25:49.540Z"
   },
   {
    "duration": 77,
    "start_time": "2022-05-02T09:25:49.581Z"
   },
   {
    "duration": 93,
    "start_time": "2022-05-02T09:25:49.661Z"
   },
   {
    "duration": 16,
    "start_time": "2022-05-02T09:25:49.757Z"
   },
   {
    "duration": 45,
    "start_time": "2022-05-02T09:25:49.781Z"
   },
   {
    "duration": 103,
    "start_time": "2022-05-02T09:25:49.829Z"
   },
   {
    "duration": 15,
    "start_time": "2022-05-02T09:25:49.935Z"
   },
   {
    "duration": 23,
    "start_time": "2022-05-02T09:25:49.952Z"
   },
   {
    "duration": 29,
    "start_time": "2022-05-02T09:25:49.977Z"
   },
   {
    "duration": 103,
    "start_time": "2022-05-02T09:25:50.009Z"
   },
   {
    "duration": 79,
    "start_time": "2022-05-02T09:25:50.124Z"
   },
   {
    "duration": 69,
    "start_time": "2022-05-02T09:25:50.205Z"
   },
   {
    "duration": 83,
    "start_time": "2022-05-02T09:25:50.276Z"
   },
   {
    "duration": 4,
    "start_time": "2022-05-02T09:25:50.361Z"
   },
   {
    "duration": 9,
    "start_time": "2022-05-02T09:25:50.367Z"
   },
   {
    "duration": 90,
    "start_time": "2022-05-02T09:25:50.379Z"
   },
   {
    "duration": 132,
    "start_time": "2022-05-02T09:25:50.471Z"
   },
   {
    "duration": 101,
    "start_time": "2022-05-02T09:25:59.620Z"
   },
   {
    "duration": 558,
    "start_time": "2022-05-02T09:28:23.028Z"
   },
   {
    "duration": 49,
    "start_time": "2022-05-02T09:28:23.589Z"
   },
   {
    "duration": 17,
    "start_time": "2022-05-02T09:28:23.640Z"
   },
   {
    "duration": 239,
    "start_time": "2022-05-02T09:28:23.660Z"
   },
   {
    "duration": 43,
    "start_time": "2022-05-02T09:28:23.903Z"
   },
   {
    "duration": 133,
    "start_time": "2022-05-02T09:28:23.949Z"
   },
   {
    "duration": 41,
    "start_time": "2022-05-02T09:28:24.084Z"
   },
   {
    "duration": 206,
    "start_time": "2022-05-02T09:28:24.128Z"
   },
   {
    "duration": 32,
    "start_time": "2022-05-02T09:28:24.336Z"
   },
   {
    "duration": 21,
    "start_time": "2022-05-02T09:28:24.371Z"
   },
   {
    "duration": 44,
    "start_time": "2022-05-02T09:28:24.395Z"
   },
   {
    "duration": 7,
    "start_time": "2022-05-02T09:28:24.442Z"
   },
   {
    "duration": 13,
    "start_time": "2022-05-02T09:28:24.452Z"
   },
   {
    "duration": 6,
    "start_time": "2022-05-02T09:28:24.472Z"
   },
   {
    "duration": 45,
    "start_time": "2022-05-02T09:28:24.480Z"
   },
   {
    "duration": 13,
    "start_time": "2022-05-02T09:28:24.528Z"
   },
   {
    "duration": 10,
    "start_time": "2022-05-02T09:28:24.544Z"
   },
   {
    "duration": 11,
    "start_time": "2022-05-02T09:28:24.556Z"
   },
   {
    "duration": 9,
    "start_time": "2022-05-02T09:28:24.569Z"
   },
   {
    "duration": 46,
    "start_time": "2022-05-02T09:28:24.580Z"
   },
   {
    "duration": 11,
    "start_time": "2022-05-02T09:28:24.628Z"
   },
   {
    "duration": 17,
    "start_time": "2022-05-02T09:28:24.641Z"
   },
   {
    "duration": 20,
    "start_time": "2022-05-02T09:28:24.660Z"
   },
   {
    "duration": 48,
    "start_time": "2022-05-02T09:28:24.682Z"
   },
   {
    "duration": 70,
    "start_time": "2022-05-02T09:28:24.732Z"
   },
   {
    "duration": 20,
    "start_time": "2022-05-02T09:28:24.805Z"
   },
   {
    "duration": 97,
    "start_time": "2022-05-02T09:28:24.828Z"
   },
   {
    "duration": 15,
    "start_time": "2022-05-02T09:28:24.928Z"
   },
   {
    "duration": 137,
    "start_time": "2022-05-02T09:28:24.946Z"
   },
   {
    "duration": 195,
    "start_time": "2022-05-02T09:28:25.085Z"
   },
   {
    "duration": 7,
    "start_time": "2022-05-02T09:28:25.283Z"
   },
   {
    "duration": 70,
    "start_time": "2022-05-02T09:28:25.292Z"
   },
   {
    "duration": 69,
    "start_time": "2022-05-02T09:28:25.364Z"
   },
   {
    "duration": 90,
    "start_time": "2022-05-02T09:28:25.436Z"
   },
   {
    "duration": 24,
    "start_time": "2022-05-02T09:28:25.528Z"
   },
   {
    "duration": 13,
    "start_time": "2022-05-02T09:28:25.555Z"
   },
   {
    "duration": 74,
    "start_time": "2022-05-02T09:28:25.571Z"
   },
   {
    "duration": 46,
    "start_time": "2022-05-02T09:28:25.648Z"
   },
   {
    "duration": 112,
    "start_time": "2022-05-02T09:28:25.696Z"
   },
   {
    "duration": 30,
    "start_time": "2022-05-02T09:28:25.810Z"
   },
   {
    "duration": 22,
    "start_time": "2022-05-02T09:28:25.847Z"
   },
   {
    "duration": 95,
    "start_time": "2022-05-02T09:28:25.871Z"
   },
   {
    "duration": 11,
    "start_time": "2022-05-02T09:28:25.969Z"
   },
   {
    "duration": 12,
    "start_time": "2022-05-02T09:28:25.983Z"
   },
   {
    "duration": 35,
    "start_time": "2022-05-02T09:28:25.997Z"
   },
   {
    "duration": 102,
    "start_time": "2022-05-02T09:28:26.035Z"
   },
   {
    "duration": 86,
    "start_time": "2022-05-02T09:28:26.140Z"
   },
   {
    "duration": 55,
    "start_time": "2022-05-02T09:28:26.229Z"
   },
   {
    "duration": 90,
    "start_time": "2022-05-02T09:28:26.286Z"
   },
   {
    "duration": 4,
    "start_time": "2022-05-02T09:28:26.378Z"
   },
   {
    "duration": 9,
    "start_time": "2022-05-02T09:28:26.385Z"
   },
   {
    "duration": 106,
    "start_time": "2022-05-02T09:28:26.397Z"
   },
   {
    "duration": 94,
    "start_time": "2022-05-02T09:28:26.505Z"
   },
   {
    "duration": 81,
    "start_time": "2022-05-02T09:28:29.466Z"
   },
   {
    "duration": 44,
    "start_time": "2022-05-02T09:33:24.937Z"
   },
   {
    "duration": 578,
    "start_time": "2022-05-02T09:35:57.791Z"
   },
   {
    "duration": 43,
    "start_time": "2022-05-02T09:35:58.372Z"
   },
   {
    "duration": 17,
    "start_time": "2022-05-02T09:35:58.425Z"
   },
   {
    "duration": 239,
    "start_time": "2022-05-02T09:35:58.444Z"
   },
   {
    "duration": 60,
    "start_time": "2022-05-02T09:35:58.688Z"
   },
   {
    "duration": 180,
    "start_time": "2022-05-02T09:35:58.751Z"
   },
   {
    "duration": 37,
    "start_time": "2022-05-02T09:35:58.934Z"
   },
   {
    "duration": 202,
    "start_time": "2022-05-02T09:35:58.974Z"
   },
   {
    "duration": 29,
    "start_time": "2022-05-02T09:35:59.178Z"
   },
   {
    "duration": 20,
    "start_time": "2022-05-02T09:35:59.225Z"
   },
   {
    "duration": 15,
    "start_time": "2022-05-02T09:35:59.247Z"
   },
   {
    "duration": 10,
    "start_time": "2022-05-02T09:35:59.265Z"
   },
   {
    "duration": 8,
    "start_time": "2022-05-02T09:35:59.277Z"
   },
   {
    "duration": 8,
    "start_time": "2022-05-02T09:35:59.326Z"
   },
   {
    "duration": 9,
    "start_time": "2022-05-02T09:35:59.337Z"
   },
   {
    "duration": 23,
    "start_time": "2022-05-02T09:35:59.349Z"
   },
   {
    "duration": 12,
    "start_time": "2022-05-02T09:35:59.375Z"
   },
   {
    "duration": 35,
    "start_time": "2022-05-02T09:35:59.389Z"
   },
   {
    "duration": 7,
    "start_time": "2022-05-02T09:35:59.427Z"
   },
   {
    "duration": 9,
    "start_time": "2022-05-02T09:35:59.437Z"
   },
   {
    "duration": 11,
    "start_time": "2022-05-02T09:35:59.449Z"
   },
   {
    "duration": 16,
    "start_time": "2022-05-02T09:35:59.463Z"
   },
   {
    "duration": 57,
    "start_time": "2022-05-02T09:35:59.482Z"
   },
   {
    "duration": 7,
    "start_time": "2022-05-02T09:35:59.542Z"
   },
   {
    "duration": 80,
    "start_time": "2022-05-02T09:35:59.551Z"
   },
   {
    "duration": 11,
    "start_time": "2022-05-02T09:35:59.634Z"
   },
   {
    "duration": 172,
    "start_time": "2022-05-02T09:35:59.648Z"
   },
   {
    "duration": 10,
    "start_time": "2022-05-02T09:35:59.825Z"
   },
   {
    "duration": 105,
    "start_time": "2022-05-02T09:35:59.838Z"
   },
   {
    "duration": 154,
    "start_time": "2022-05-02T09:35:59.946Z"
   },
   {
    "duration": 23,
    "start_time": "2022-05-02T09:36:00.102Z"
   },
   {
    "duration": 60,
    "start_time": "2022-05-02T09:36:00.127Z"
   },
   {
    "duration": 67,
    "start_time": "2022-05-02T09:36:00.189Z"
   },
   {
    "duration": 240,
    "start_time": "2022-05-02T09:36:00.259Z"
   },
   {
    "duration": 33,
    "start_time": "2022-05-02T09:36:00.502Z"
   },
   {
    "duration": 22,
    "start_time": "2022-05-02T09:36:00.537Z"
   },
   {
    "duration": 89,
    "start_time": "2022-05-02T09:36:00.561Z"
   },
   {
    "duration": 48,
    "start_time": "2022-05-02T09:36:00.652Z"
   },
   {
    "duration": 85,
    "start_time": "2022-05-02T09:36:00.702Z"
   },
   {
    "duration": 13,
    "start_time": "2022-05-02T09:36:00.789Z"
   },
   {
    "duration": 19,
    "start_time": "2022-05-02T09:36:00.829Z"
   },
   {
    "duration": 99,
    "start_time": "2022-05-02T09:36:00.850Z"
   },
   {
    "duration": 12,
    "start_time": "2022-05-02T09:36:00.952Z"
   },
   {
    "duration": 33,
    "start_time": "2022-05-02T09:36:00.967Z"
   },
   {
    "duration": 30,
    "start_time": "2022-05-02T09:36:01.002Z"
   },
   {
    "duration": 79,
    "start_time": "2022-05-02T09:36:01.034Z"
   },
   {
    "duration": 57,
    "start_time": "2022-05-02T09:36:01.116Z"
   },
   {
    "duration": 83,
    "start_time": "2022-05-02T09:36:01.175Z"
   },
   {
    "duration": 80,
    "start_time": "2022-05-02T09:36:01.261Z"
   },
   {
    "duration": 5,
    "start_time": "2022-05-02T09:36:01.343Z"
   },
   {
    "duration": 20,
    "start_time": "2022-05-02T09:36:01.350Z"
   },
   {
    "duration": 135,
    "start_time": "2022-05-02T09:36:01.373Z"
   },
   {
    "duration": 126,
    "start_time": "2022-05-02T09:36:01.511Z"
   },
   {
    "duration": 137,
    "start_time": "2022-05-02T09:36:01.640Z"
   },
   {
    "duration": 21,
    "start_time": "2022-05-02T09:36:14.360Z"
   },
   {
    "duration": 36,
    "start_time": "2022-05-02T09:36:22.808Z"
   },
   {
    "duration": 54,
    "start_time": "2022-05-02T09:36:26.808Z"
   },
   {
    "duration": 72,
    "start_time": "2022-05-02T10:04:40.860Z"
   },
   {
    "duration": 15,
    "start_time": "2022-05-02T10:17:10.075Z"
   },
   {
    "duration": 27,
    "start_time": "2022-05-02T10:17:19.266Z"
   },
   {
    "duration": 58,
    "start_time": "2022-05-02T12:52:22.139Z"
   },
   {
    "duration": 83,
    "start_time": "2022-05-02T12:54:33.903Z"
   },
   {
    "duration": 81,
    "start_time": "2022-05-02T12:55:28.105Z"
   },
   {
    "duration": 600,
    "start_time": "2022-05-02T12:57:27.749Z"
   },
   {
    "duration": 74,
    "start_time": "2022-05-02T12:57:53.595Z"
   },
   {
    "duration": 99,
    "start_time": "2022-05-02T13:04:26.264Z"
   },
   {
    "duration": 28,
    "start_time": "2022-05-02T13:08:22.495Z"
   },
   {
    "duration": 57,
    "start_time": "2022-05-02T13:17:25.542Z"
   },
   {
    "duration": 93,
    "start_time": "2022-05-02T13:30:59.092Z"
   },
   {
    "duration": 105,
    "start_time": "2022-05-02T13:37:25.026Z"
   },
   {
    "duration": 1909,
    "start_time": "2022-05-02T13:39:23.064Z"
   },
   {
    "duration": 77,
    "start_time": "2022-05-02T13:40:45.864Z"
   },
   {
    "duration": 143,
    "start_time": "2022-05-02T13:43:03.231Z"
   },
   {
    "duration": 110,
    "start_time": "2022-05-02T13:47:05.049Z"
   },
   {
    "duration": 6,
    "start_time": "2022-05-02T14:24:22.860Z"
   },
   {
    "duration": 4,
    "start_time": "2022-05-02T14:24:25.428Z"
   },
   {
    "duration": 63,
    "start_time": "2022-05-02T14:26:08.853Z"
   },
   {
    "duration": 1390,
    "start_time": "2022-05-02T14:26:24.789Z"
   },
   {
    "duration": 114,
    "start_time": "2022-05-02T14:31:06.601Z"
   },
   {
    "duration": 1314,
    "start_time": "2022-05-02T14:31:31.701Z"
   },
   {
    "duration": 1428,
    "start_time": "2022-05-02T14:35:04.449Z"
   },
   {
    "duration": 1317,
    "start_time": "2022-05-02T14:43:18.773Z"
   },
   {
    "duration": 4,
    "start_time": "2022-05-02T14:46:13.122Z"
   },
   {
    "duration": 1372,
    "start_time": "2022-05-02T14:46:16.635Z"
   },
   {
    "duration": 4,
    "start_time": "2022-05-02T14:47:00.254Z"
   },
   {
    "duration": 831,
    "start_time": "2022-05-02T14:47:06.895Z"
   },
   {
    "duration": 4,
    "start_time": "2022-05-02T14:49:15.630Z"
   },
   {
    "duration": 891,
    "start_time": "2022-05-02T14:49:20.991Z"
   },
   {
    "duration": 5,
    "start_time": "2022-05-02T14:49:58.990Z"
   },
   {
    "duration": 1007,
    "start_time": "2022-05-02T14:50:01.879Z"
   },
   {
    "duration": 12411,
    "start_time": "2022-05-02T14:50:28.738Z"
   },
   {
    "duration": 6,
    "start_time": "2022-05-02T14:51:32.816Z"
   },
   {
    "duration": 306,
    "start_time": "2022-05-02T14:51:39.268Z"
   },
   {
    "duration": 673,
    "start_time": "2022-05-02T14:55:11.068Z"
   },
   {
    "duration": 54,
    "start_time": "2022-05-02T14:55:11.746Z"
   },
   {
    "duration": 25,
    "start_time": "2022-05-02T14:55:11.803Z"
   },
   {
    "duration": 252,
    "start_time": "2022-05-02T14:55:11.847Z"
   },
   {
    "duration": 53,
    "start_time": "2022-05-02T14:55:12.101Z"
   },
   {
    "duration": 202,
    "start_time": "2022-05-02T14:55:12.157Z"
   },
   {
    "duration": 26,
    "start_time": "2022-05-02T14:55:12.362Z"
   },
   {
    "duration": 256,
    "start_time": "2022-05-02T14:55:12.391Z"
   },
   {
    "duration": 35,
    "start_time": "2022-05-02T14:55:12.650Z"
   },
   {
    "duration": 38,
    "start_time": "2022-05-02T14:55:12.690Z"
   },
   {
    "duration": 21,
    "start_time": "2022-05-02T14:55:12.732Z"
   },
   {
    "duration": 7,
    "start_time": "2022-05-02T14:55:12.757Z"
   },
   {
    "duration": 10,
    "start_time": "2022-05-02T14:55:12.766Z"
   },
   {
    "duration": 8,
    "start_time": "2022-05-02T14:55:12.778Z"
   },
   {
    "duration": 14,
    "start_time": "2022-05-02T14:55:12.840Z"
   },
   {
    "duration": 27,
    "start_time": "2022-05-02T14:55:12.857Z"
   },
   {
    "duration": 25,
    "start_time": "2022-05-02T14:55:12.886Z"
   },
   {
    "duration": 67,
    "start_time": "2022-05-02T14:55:12.913Z"
   },
   {
    "duration": 42,
    "start_time": "2022-05-02T14:55:12.982Z"
   },
   {
    "duration": 19,
    "start_time": "2022-05-02T14:55:13.026Z"
   },
   {
    "duration": 111,
    "start_time": "2022-05-02T14:55:13.048Z"
   },
   {
    "duration": 207,
    "start_time": "2022-05-02T14:55:13.162Z"
   },
   {
    "duration": 40,
    "start_time": "2022-05-02T14:55:13.371Z"
   },
   {
    "duration": 29,
    "start_time": "2022-05-02T14:55:13.414Z"
   },
   {
    "duration": 102,
    "start_time": "2022-05-02T14:55:13.446Z"
   },
   {
    "duration": 18,
    "start_time": "2022-05-02T14:55:13.551Z"
   },
   {
    "duration": 171,
    "start_time": "2022-05-02T14:55:13.572Z"
   },
   {
    "duration": 12,
    "start_time": "2022-05-02T14:55:13.750Z"
   },
   {
    "duration": 127,
    "start_time": "2022-05-02T14:55:13.764Z"
   },
   {
    "duration": 171,
    "start_time": "2022-05-02T14:55:13.893Z"
   },
   {
    "duration": 6,
    "start_time": "2022-05-02T14:55:14.066Z"
   },
   {
    "duration": 55,
    "start_time": "2022-05-02T14:55:14.074Z"
   },
   {
    "duration": 55,
    "start_time": "2022-05-02T14:55:14.132Z"
   },
   {
    "duration": 102,
    "start_time": "2022-05-02T14:55:14.189Z"
   },
   {
    "duration": 34,
    "start_time": "2022-05-02T14:55:14.293Z"
   },
   {
    "duration": 23,
    "start_time": "2022-05-02T14:55:14.330Z"
   },
   {
    "duration": 63,
    "start_time": "2022-05-02T14:55:14.356Z"
   },
   {
    "duration": 66,
    "start_time": "2022-05-02T14:55:14.422Z"
   },
   {
    "duration": 80,
    "start_time": "2022-05-02T14:55:14.491Z"
   },
   {
    "duration": 14,
    "start_time": "2022-05-02T14:55:14.573Z"
   },
   {
    "duration": 39,
    "start_time": "2022-05-02T14:55:14.589Z"
   },
   {
    "duration": 101,
    "start_time": "2022-05-02T14:55:14.631Z"
   },
   {
    "duration": 12,
    "start_time": "2022-05-02T14:55:14.735Z"
   },
   {
    "duration": 25,
    "start_time": "2022-05-02T14:55:14.749Z"
   },
   {
    "duration": 46,
    "start_time": "2022-05-02T14:55:14.779Z"
   },
   {
    "duration": 120,
    "start_time": "2022-05-02T14:55:14.829Z"
   },
   {
    "duration": 103,
    "start_time": "2022-05-02T14:55:14.952Z"
   },
   {
    "duration": 97,
    "start_time": "2022-05-02T14:55:15.058Z"
   },
   {
    "duration": 91,
    "start_time": "2022-05-02T14:55:15.157Z"
   },
   {
    "duration": 105,
    "start_time": "2022-05-02T14:55:15.251Z"
   },
   {
    "duration": 0,
    "start_time": "2022-05-02T14:55:15.359Z"
   },
   {
    "duration": 0,
    "start_time": "2022-05-02T14:55:15.361Z"
   },
   {
    "duration": 1,
    "start_time": "2022-05-02T14:55:15.362Z"
   },
   {
    "duration": 142,
    "start_time": "2022-05-02T14:55:30.548Z"
   },
   {
    "duration": 551,
    "start_time": "2022-05-02T14:57:42.075Z"
   },
   {
    "duration": 51,
    "start_time": "2022-05-02T14:57:42.630Z"
   },
   {
    "duration": 17,
    "start_time": "2022-05-02T14:57:42.683Z"
   },
   {
    "duration": 243,
    "start_time": "2022-05-02T14:57:42.704Z"
   },
   {
    "duration": 34,
    "start_time": "2022-05-02T14:57:42.952Z"
   },
   {
    "duration": 143,
    "start_time": "2022-05-02T14:57:42.988Z"
   },
   {
    "duration": 27,
    "start_time": "2022-05-02T14:57:43.133Z"
   },
   {
    "duration": 213,
    "start_time": "2022-05-02T14:57:43.163Z"
   },
   {
    "duration": 48,
    "start_time": "2022-05-02T14:57:43.378Z"
   },
   {
    "duration": 21,
    "start_time": "2022-05-02T14:57:43.428Z"
   },
   {
    "duration": 17,
    "start_time": "2022-05-02T14:57:43.453Z"
   },
   {
    "duration": 14,
    "start_time": "2022-05-02T14:57:43.472Z"
   },
   {
    "duration": 36,
    "start_time": "2022-05-02T14:57:43.489Z"
   },
   {
    "duration": 9,
    "start_time": "2022-05-02T14:57:43.531Z"
   },
   {
    "duration": 14,
    "start_time": "2022-05-02T14:57:43.542Z"
   },
   {
    "duration": 12,
    "start_time": "2022-05-02T14:57:43.559Z"
   },
   {
    "duration": 14,
    "start_time": "2022-05-02T14:57:43.574Z"
   },
   {
    "duration": 37,
    "start_time": "2022-05-02T14:57:43.590Z"
   },
   {
    "duration": 17,
    "start_time": "2022-05-02T14:57:43.630Z"
   },
   {
    "duration": 10,
    "start_time": "2022-05-02T14:57:43.649Z"
   },
   {
    "duration": 12,
    "start_time": "2022-05-02T14:57:43.662Z"
   },
   {
    "duration": 50,
    "start_time": "2022-05-02T14:57:43.676Z"
   },
   {
    "duration": 21,
    "start_time": "2022-05-02T14:57:43.728Z"
   },
   {
    "duration": 10,
    "start_time": "2022-05-02T14:57:43.751Z"
   },
   {
    "duration": 77,
    "start_time": "2022-05-02T14:57:43.764Z"
   },
   {
    "duration": 12,
    "start_time": "2022-05-02T14:57:43.844Z"
   },
   {
    "duration": 101,
    "start_time": "2022-05-02T14:57:43.859Z"
   },
   {
    "duration": 12,
    "start_time": "2022-05-02T14:57:43.962Z"
   },
   {
    "duration": 140,
    "start_time": "2022-05-02T14:57:43.976Z"
   },
   {
    "duration": 158,
    "start_time": "2022-05-02T14:57:44.119Z"
   },
   {
    "duration": 7,
    "start_time": "2022-05-02T14:57:44.280Z"
   },
   {
    "duration": 56,
    "start_time": "2022-05-02T14:57:44.290Z"
   },
   {
    "duration": 46,
    "start_time": "2022-05-02T14:57:44.348Z"
   },
   {
    "duration": 87,
    "start_time": "2022-05-02T14:57:44.397Z"
   },
   {
    "duration": 38,
    "start_time": "2022-05-02T14:57:44.487Z"
   },
   {
    "duration": 7,
    "start_time": "2022-05-02T14:57:44.528Z"
   },
   {
    "duration": 42,
    "start_time": "2022-05-02T14:57:44.538Z"
   },
   {
    "duration": 69,
    "start_time": "2022-05-02T14:57:44.582Z"
   },
   {
    "duration": 97,
    "start_time": "2022-05-02T14:57:44.654Z"
   },
   {
    "duration": 36,
    "start_time": "2022-05-02T14:57:44.754Z"
   },
   {
    "duration": 20,
    "start_time": "2022-05-02T14:57:44.797Z"
   },
   {
    "duration": 74,
    "start_time": "2022-05-02T14:57:44.824Z"
   },
   {
    "duration": 29,
    "start_time": "2022-05-02T14:57:44.900Z"
   },
   {
    "duration": 16,
    "start_time": "2022-05-02T14:57:44.932Z"
   },
   {
    "duration": 29,
    "start_time": "2022-05-02T14:57:44.951Z"
   },
   {
    "duration": 91,
    "start_time": "2022-05-02T14:57:44.983Z"
   },
   {
    "duration": 69,
    "start_time": "2022-05-02T14:57:45.077Z"
   },
   {
    "duration": 77,
    "start_time": "2022-05-02T14:57:45.149Z"
   },
   {
    "duration": 70,
    "start_time": "2022-05-02T14:57:45.228Z"
   },
   {
    "duration": 105,
    "start_time": "2022-05-02T14:58:10.334Z"
   },
   {
    "duration": 5,
    "start_time": "2022-05-02T14:58:32.184Z"
   },
   {
    "duration": 6,
    "start_time": "2022-05-02T14:58:41.674Z"
   },
   {
    "duration": 5,
    "start_time": "2022-05-02T14:58:43.843Z"
   },
   {
    "duration": 560,
    "start_time": "2022-05-02T14:59:13.388Z"
   },
   {
    "duration": 64,
    "start_time": "2022-05-02T14:59:13.953Z"
   },
   {
    "duration": 23,
    "start_time": "2022-05-02T14:59:14.019Z"
   },
   {
    "duration": 233,
    "start_time": "2022-05-02T14:59:14.045Z"
   },
   {
    "duration": 51,
    "start_time": "2022-05-02T14:59:14.281Z"
   },
   {
    "duration": 139,
    "start_time": "2022-05-02T14:59:14.335Z"
   },
   {
    "duration": 26,
    "start_time": "2022-05-02T14:59:14.477Z"
   },
   {
    "duration": 191,
    "start_time": "2022-05-02T14:59:14.524Z"
   },
   {
    "duration": 35,
    "start_time": "2022-05-02T14:59:14.718Z"
   },
   {
    "duration": 21,
    "start_time": "2022-05-02T14:59:14.756Z"
   },
   {
    "duration": 15,
    "start_time": "2022-05-02T14:59:14.780Z"
   },
   {
    "duration": 5,
    "start_time": "2022-05-02T14:59:14.825Z"
   },
   {
    "duration": 11,
    "start_time": "2022-05-02T14:59:14.833Z"
   },
   {
    "duration": 8,
    "start_time": "2022-05-02T14:59:14.852Z"
   },
   {
    "duration": 18,
    "start_time": "2022-05-02T14:59:14.866Z"
   },
   {
    "duration": 43,
    "start_time": "2022-05-02T14:59:14.887Z"
   },
   {
    "duration": 7,
    "start_time": "2022-05-02T14:59:14.933Z"
   },
   {
    "duration": 21,
    "start_time": "2022-05-02T14:59:14.943Z"
   },
   {
    "duration": 10,
    "start_time": "2022-05-02T14:59:14.967Z"
   },
   {
    "duration": 18,
    "start_time": "2022-05-02T14:59:14.979Z"
   },
   {
    "duration": 14,
    "start_time": "2022-05-02T14:59:15.024Z"
   },
   {
    "duration": 35,
    "start_time": "2022-05-02T14:59:15.041Z"
   },
   {
    "duration": 46,
    "start_time": "2022-05-02T14:59:15.078Z"
   },
   {
    "duration": 8,
    "start_time": "2022-05-02T14:59:15.127Z"
   },
   {
    "duration": 103,
    "start_time": "2022-05-02T14:59:15.137Z"
   },
   {
    "duration": 14,
    "start_time": "2022-05-02T14:59:15.243Z"
   },
   {
    "duration": 103,
    "start_time": "2022-05-02T14:59:15.260Z"
   },
   {
    "duration": 12,
    "start_time": "2022-05-02T14:59:15.365Z"
   },
   {
    "duration": 123,
    "start_time": "2022-05-02T14:59:15.379Z"
   },
   {
    "duration": 153,
    "start_time": "2022-05-02T14:59:15.505Z"
   },
   {
    "duration": 7,
    "start_time": "2022-05-02T14:59:15.660Z"
   },
   {
    "duration": 60,
    "start_time": "2022-05-02T14:59:15.669Z"
   },
   {
    "duration": 46,
    "start_time": "2022-05-02T14:59:15.732Z"
   },
   {
    "duration": 95,
    "start_time": "2022-05-02T14:59:15.780Z"
   },
   {
    "duration": 19,
    "start_time": "2022-05-02T14:59:15.877Z"
   },
   {
    "duration": 27,
    "start_time": "2022-05-02T14:59:15.899Z"
   },
   {
    "duration": 50,
    "start_time": "2022-05-02T14:59:15.928Z"
   },
   {
    "duration": 59,
    "start_time": "2022-05-02T14:59:15.980Z"
   },
   {
    "duration": 94,
    "start_time": "2022-05-02T14:59:16.041Z"
   },
   {
    "duration": 13,
    "start_time": "2022-05-02T14:59:16.138Z"
   },
   {
    "duration": 18,
    "start_time": "2022-05-02T14:59:16.160Z"
   },
   {
    "duration": 104,
    "start_time": "2022-05-02T14:59:16.181Z"
   },
   {
    "duration": 13,
    "start_time": "2022-05-02T14:59:16.287Z"
   },
   {
    "duration": 35,
    "start_time": "2022-05-02T14:59:16.302Z"
   },
   {
    "duration": 24,
    "start_time": "2022-05-02T14:59:16.339Z"
   },
   {
    "duration": 118,
    "start_time": "2022-05-02T14:59:16.366Z"
   },
   {
    "duration": 72,
    "start_time": "2022-05-02T14:59:16.487Z"
   },
   {
    "duration": 71,
    "start_time": "2022-05-02T14:59:16.561Z"
   },
   {
    "duration": 70,
    "start_time": "2022-05-02T14:59:16.635Z"
   },
   {
    "duration": 22,
    "start_time": "2022-05-02T14:59:16.707Z"
   },
   {
    "duration": 12,
    "start_time": "2022-05-02T14:59:16.732Z"
   },
   {
    "duration": 13,
    "start_time": "2022-05-02T14:59:16.746Z"
   },
   {
    "duration": 6,
    "start_time": "2022-05-02T14:59:16.761Z"
   },
   {
    "duration": 233,
    "start_time": "2022-05-02T14:59:29.348Z"
   },
   {
    "duration": 206,
    "start_time": "2022-05-02T15:03:11.943Z"
   },
   {
    "duration": 232,
    "start_time": "2022-05-02T15:03:26.429Z"
   },
   {
    "duration": 55,
    "start_time": "2022-05-02T15:03:46.602Z"
   },
   {
    "duration": 211,
    "start_time": "2022-05-02T15:05:49.732Z"
   },
   {
    "duration": 106,
    "start_time": "2022-05-02T15:07:04.955Z"
   },
   {
    "duration": 357,
    "start_time": "2022-05-02T15:09:11.384Z"
   },
   {
    "duration": 363,
    "start_time": "2022-05-02T15:09:21.393Z"
   },
   {
    "duration": 210,
    "start_time": "2022-05-02T15:11:25.043Z"
   },
   {
    "duration": 234,
    "start_time": "2022-05-02T15:11:28.443Z"
   },
   {
    "duration": 196,
    "start_time": "2022-05-02T15:14:24.049Z"
   },
   {
    "duration": 68,
    "start_time": "2022-05-02T15:21:48.820Z"
   },
   {
    "duration": 535,
    "start_time": "2022-05-02T15:24:23.033Z"
   },
   {
    "duration": 56,
    "start_time": "2022-05-02T15:24:23.571Z"
   },
   {
    "duration": 22,
    "start_time": "2022-05-02T15:24:23.630Z"
   },
   {
    "duration": 255,
    "start_time": "2022-05-02T15:24:23.655Z"
   },
   {
    "duration": 44,
    "start_time": "2022-05-02T15:24:23.914Z"
   },
   {
    "duration": 137,
    "start_time": "2022-05-02T15:24:23.960Z"
   },
   {
    "duration": 34,
    "start_time": "2022-05-02T15:24:24.099Z"
   },
   {
    "duration": 205,
    "start_time": "2022-05-02T15:24:24.135Z"
   },
   {
    "duration": 32,
    "start_time": "2022-05-02T15:24:24.342Z"
   },
   {
    "duration": 28,
    "start_time": "2022-05-02T15:24:24.378Z"
   },
   {
    "duration": 16,
    "start_time": "2022-05-02T15:24:24.425Z"
   },
   {
    "duration": 10,
    "start_time": "2022-05-02T15:24:24.443Z"
   },
   {
    "duration": 14,
    "start_time": "2022-05-02T15:24:24.456Z"
   },
   {
    "duration": 15,
    "start_time": "2022-05-02T15:24:24.477Z"
   },
   {
    "duration": 32,
    "start_time": "2022-05-02T15:24:24.495Z"
   },
   {
    "duration": 11,
    "start_time": "2022-05-02T15:24:24.530Z"
   },
   {
    "duration": 7,
    "start_time": "2022-05-02T15:24:24.543Z"
   },
   {
    "duration": 21,
    "start_time": "2022-05-02T15:24:24.552Z"
   },
   {
    "duration": 22,
    "start_time": "2022-05-02T15:24:24.576Z"
   },
   {
    "duration": 8,
    "start_time": "2022-05-02T15:24:24.625Z"
   },
   {
    "duration": 22,
    "start_time": "2022-05-02T15:24:24.636Z"
   },
   {
    "duration": 19,
    "start_time": "2022-05-02T15:24:24.661Z"
   },
   {
    "duration": 44,
    "start_time": "2022-05-02T15:24:24.682Z"
   },
   {
    "duration": 16,
    "start_time": "2022-05-02T15:24:24.728Z"
   },
   {
    "duration": 58,
    "start_time": "2022-05-02T15:24:24.746Z"
   },
   {
    "duration": 21,
    "start_time": "2022-05-02T15:24:24.806Z"
   },
   {
    "duration": 95,
    "start_time": "2022-05-02T15:24:24.829Z"
   },
   {
    "duration": 11,
    "start_time": "2022-05-02T15:24:24.927Z"
   },
   {
    "duration": 142,
    "start_time": "2022-05-02T15:24:24.941Z"
   },
   {
    "duration": 193,
    "start_time": "2022-05-02T15:24:25.086Z"
   },
   {
    "duration": 7,
    "start_time": "2022-05-02T15:24:25.281Z"
   },
   {
    "duration": 74,
    "start_time": "2022-05-02T15:24:25.290Z"
   },
   {
    "duration": 70,
    "start_time": "2022-05-02T15:24:25.366Z"
   },
   {
    "duration": 97,
    "start_time": "2022-05-02T15:24:25.439Z"
   },
   {
    "duration": 24,
    "start_time": "2022-05-02T15:24:25.538Z"
   },
   {
    "duration": 10,
    "start_time": "2022-05-02T15:24:25.565Z"
   },
   {
    "duration": 61,
    "start_time": "2022-05-02T15:24:25.578Z"
   },
   {
    "duration": 36,
    "start_time": "2022-05-02T15:24:25.641Z"
   },
   {
    "duration": 98,
    "start_time": "2022-05-02T15:24:25.679Z"
   },
   {
    "duration": 14,
    "start_time": "2022-05-02T15:24:25.779Z"
   },
   {
    "duration": 38,
    "start_time": "2022-05-02T15:24:25.802Z"
   },
   {
    "duration": 108,
    "start_time": "2022-05-02T15:24:25.843Z"
   },
   {
    "duration": 14,
    "start_time": "2022-05-02T15:24:25.954Z"
   },
   {
    "duration": 16,
    "start_time": "2022-05-02T15:24:25.971Z"
   },
   {
    "duration": 45,
    "start_time": "2022-05-02T15:24:25.989Z"
   },
   {
    "duration": 70,
    "start_time": "2022-05-02T15:24:26.037Z"
   },
   {
    "duration": 89,
    "start_time": "2022-05-02T15:24:26.109Z"
   },
   {
    "duration": 96,
    "start_time": "2022-05-02T15:24:26.201Z"
   },
   {
    "duration": 109,
    "start_time": "2022-05-02T15:24:26.300Z"
   },
   {
    "duration": 14,
    "start_time": "2022-05-02T15:24:26.412Z"
   },
   {
    "duration": 19,
    "start_time": "2022-05-02T15:24:26.429Z"
   },
   {
    "duration": 10,
    "start_time": "2022-05-02T15:24:26.451Z"
   },
   {
    "duration": 12,
    "start_time": "2022-05-02T15:24:26.463Z"
   },
   {
    "duration": 324,
    "start_time": "2022-05-02T15:24:26.478Z"
   },
   {
    "duration": 221,
    "start_time": "2022-05-02T15:24:26.805Z"
   },
   {
    "duration": 203,
    "start_time": "2022-05-02T15:24:27.029Z"
   },
   {
    "duration": 50,
    "start_time": "2022-05-02T15:24:27.234Z"
   },
   {
    "duration": 70,
    "start_time": "2022-05-02T15:24:27.287Z"
   },
   {
    "duration": 551,
    "start_time": "2022-05-02T15:34:28.400Z"
   },
   {
    "duration": 49,
    "start_time": "2022-05-02T15:34:28.954Z"
   },
   {
    "duration": 19,
    "start_time": "2022-05-02T15:34:29.005Z"
   },
   {
    "duration": 243,
    "start_time": "2022-05-02T15:34:29.027Z"
   },
   {
    "duration": 67,
    "start_time": "2022-05-02T15:34:29.273Z"
   },
   {
    "duration": 190,
    "start_time": "2022-05-02T15:34:29.343Z"
   },
   {
    "duration": 38,
    "start_time": "2022-05-02T15:34:29.536Z"
   },
   {
    "duration": 211,
    "start_time": "2022-05-02T15:34:29.576Z"
   },
   {
    "duration": 44,
    "start_time": "2022-05-02T15:34:29.789Z"
   },
   {
    "duration": 21,
    "start_time": "2022-05-02T15:34:29.837Z"
   },
   {
    "duration": 17,
    "start_time": "2022-05-02T15:34:29.860Z"
   },
   {
    "duration": 15,
    "start_time": "2022-05-02T15:34:29.879Z"
   },
   {
    "duration": 31,
    "start_time": "2022-05-02T15:34:29.896Z"
   },
   {
    "duration": 7,
    "start_time": "2022-05-02T15:34:29.930Z"
   },
   {
    "duration": 19,
    "start_time": "2022-05-02T15:34:29.940Z"
   },
   {
    "duration": 18,
    "start_time": "2022-05-02T15:34:29.962Z"
   },
   {
    "duration": 14,
    "start_time": "2022-05-02T15:34:29.983Z"
   },
   {
    "duration": 17,
    "start_time": "2022-05-02T15:34:30.015Z"
   },
   {
    "duration": 21,
    "start_time": "2022-05-02T15:34:30.035Z"
   },
   {
    "duration": 24,
    "start_time": "2022-05-02T15:34:30.059Z"
   },
   {
    "duration": 20,
    "start_time": "2022-05-02T15:34:30.086Z"
   },
   {
    "duration": 49,
    "start_time": "2022-05-02T15:34:30.108Z"
   },
   {
    "duration": 45,
    "start_time": "2022-05-02T15:34:30.160Z"
   },
   {
    "duration": 19,
    "start_time": "2022-05-02T15:34:30.208Z"
   },
   {
    "duration": 99,
    "start_time": "2022-05-02T15:34:30.230Z"
   },
   {
    "duration": 19,
    "start_time": "2022-05-02T15:34:30.334Z"
   },
   {
    "duration": 178,
    "start_time": "2022-05-02T15:34:30.356Z"
   },
   {
    "duration": 16,
    "start_time": "2022-05-02T15:34:30.541Z"
   },
   {
    "duration": 131,
    "start_time": "2022-05-02T15:34:30.559Z"
   },
   {
    "duration": 161,
    "start_time": "2022-05-02T15:34:30.693Z"
   },
   {
    "duration": 6,
    "start_time": "2022-05-02T15:34:30.857Z"
   },
   {
    "duration": 59,
    "start_time": "2022-05-02T15:34:30.867Z"
   },
   {
    "duration": 51,
    "start_time": "2022-05-02T15:34:30.929Z"
   },
   {
    "duration": 94,
    "start_time": "2022-05-02T15:34:30.982Z"
   },
   {
    "duration": 22,
    "start_time": "2022-05-02T15:34:31.078Z"
   },
   {
    "duration": 28,
    "start_time": "2022-05-02T15:34:31.102Z"
   },
   {
    "duration": 42,
    "start_time": "2022-05-02T15:34:31.132Z"
   },
   {
    "duration": 66,
    "start_time": "2022-05-02T15:34:31.176Z"
   },
   {
    "duration": 97,
    "start_time": "2022-05-02T15:34:31.245Z"
   },
   {
    "duration": 15,
    "start_time": "2022-05-02T15:34:31.344Z"
   },
   {
    "duration": 42,
    "start_time": "2022-05-02T15:34:31.362Z"
   },
   {
    "duration": 108,
    "start_time": "2022-05-02T15:34:31.406Z"
   },
   {
    "duration": 19,
    "start_time": "2022-05-02T15:34:31.517Z"
   },
   {
    "duration": 33,
    "start_time": "2022-05-02T15:34:31.539Z"
   },
   {
    "duration": 23,
    "start_time": "2022-05-02T15:34:31.574Z"
   },
   {
    "duration": 84,
    "start_time": "2022-05-02T15:34:31.600Z"
   },
   {
    "duration": 101,
    "start_time": "2022-05-02T15:34:31.687Z"
   },
   {
    "duration": 100,
    "start_time": "2022-05-02T15:34:31.791Z"
   },
   {
    "duration": 112,
    "start_time": "2022-05-02T15:34:31.894Z"
   },
   {
    "duration": 4,
    "start_time": "2022-05-02T15:34:32.009Z"
   },
   {
    "duration": 7,
    "start_time": "2022-05-02T15:34:32.026Z"
   },
   {
    "duration": 12,
    "start_time": "2022-05-02T15:34:32.036Z"
   },
   {
    "duration": 7,
    "start_time": "2022-05-02T15:34:32.051Z"
   },
   {
    "duration": 255,
    "start_time": "2022-05-02T15:34:32.061Z"
   },
   {
    "duration": 229,
    "start_time": "2022-05-02T15:34:32.318Z"
   },
   {
    "duration": 224,
    "start_time": "2022-05-02T15:34:32.549Z"
   },
   {
    "duration": 67,
    "start_time": "2022-05-02T15:34:32.775Z"
   },
   {
    "duration": 31,
    "start_time": "2022-05-02T15:34:32.844Z"
   },
   {
    "duration": 415,
    "start_time": "2022-05-02T17:00:55.698Z"
   },
   {
    "duration": 43,
    "start_time": "2022-05-02T17:00:56.115Z"
   },
   {
    "duration": 13,
    "start_time": "2022-05-02T17:00:56.160Z"
   },
   {
    "duration": 220,
    "start_time": "2022-05-02T17:00:56.175Z"
   },
   {
    "duration": 21,
    "start_time": "2022-05-02T17:00:56.397Z"
   },
   {
    "duration": 145,
    "start_time": "2022-05-02T17:00:56.423Z"
   },
   {
    "duration": 18,
    "start_time": "2022-05-02T17:00:56.571Z"
   },
   {
    "duration": 351,
    "start_time": "2022-05-02T17:00:56.591Z"
   },
   {
    "duration": 20,
    "start_time": "2022-05-02T17:00:56.944Z"
   },
   {
    "duration": 23,
    "start_time": "2022-05-02T17:00:56.969Z"
   },
   {
    "duration": 10,
    "start_time": "2022-05-02T17:00:56.993Z"
   },
   {
    "duration": 4,
    "start_time": "2022-05-02T17:00:57.024Z"
   },
   {
    "duration": 6,
    "start_time": "2022-05-02T17:00:57.029Z"
   },
   {
    "duration": 9,
    "start_time": "2022-05-02T17:00:57.037Z"
   },
   {
    "duration": 19,
    "start_time": "2022-05-02T17:00:57.048Z"
   },
   {
    "duration": 11,
    "start_time": "2022-05-02T17:00:57.069Z"
   },
   {
    "duration": 11,
    "start_time": "2022-05-02T17:00:57.082Z"
   },
   {
    "duration": 7,
    "start_time": "2022-05-02T17:00:57.095Z"
   },
   {
    "duration": 20,
    "start_time": "2022-05-02T17:00:57.103Z"
   },
   {
    "duration": 6,
    "start_time": "2022-05-02T17:00:57.125Z"
   },
   {
    "duration": 10,
    "start_time": "2022-05-02T17:00:57.133Z"
   },
   {
    "duration": 13,
    "start_time": "2022-05-02T17:00:57.145Z"
   },
   {
    "duration": 15,
    "start_time": "2022-05-02T17:00:57.159Z"
   },
   {
    "duration": 5,
    "start_time": "2022-05-02T17:00:57.176Z"
   },
   {
    "duration": 63,
    "start_time": "2022-05-02T17:00:57.182Z"
   },
   {
    "duration": 8,
    "start_time": "2022-05-02T17:00:57.247Z"
   },
   {
    "duration": 75,
    "start_time": "2022-05-02T17:00:57.256Z"
   },
   {
    "duration": 7,
    "start_time": "2022-05-02T17:00:57.335Z"
   },
   {
    "duration": 94,
    "start_time": "2022-05-02T17:00:57.344Z"
   },
   {
    "duration": 101,
    "start_time": "2022-05-02T17:00:57.440Z"
   },
   {
    "duration": 4,
    "start_time": "2022-05-02T17:00:57.543Z"
   },
   {
    "duration": 73,
    "start_time": "2022-05-02T17:00:57.549Z"
   },
   {
    "duration": 29,
    "start_time": "2022-05-02T17:00:57.623Z"
   },
   {
    "duration": 44,
    "start_time": "2022-05-02T17:00:57.653Z"
   },
   {
    "duration": 31,
    "start_time": "2022-05-02T17:00:57.698Z"
   },
   {
    "duration": 6,
    "start_time": "2022-05-02T17:00:57.731Z"
   },
   {
    "duration": 24,
    "start_time": "2022-05-02T17:00:57.739Z"
   },
   {
    "duration": 24,
    "start_time": "2022-05-02T17:00:57.765Z"
   },
   {
    "duration": 71,
    "start_time": "2022-05-02T17:00:57.791Z"
   },
   {
    "duration": 9,
    "start_time": "2022-05-02T17:00:57.864Z"
   },
   {
    "duration": 16,
    "start_time": "2022-05-02T17:00:57.875Z"
   },
   {
    "duration": 88,
    "start_time": "2022-05-02T17:00:57.894Z"
   },
   {
    "duration": 11,
    "start_time": "2022-05-02T17:00:57.984Z"
   },
   {
    "duration": 13,
    "start_time": "2022-05-02T17:00:57.997Z"
   },
   {
    "duration": 11,
    "start_time": "2022-05-02T17:00:58.025Z"
   },
   {
    "duration": 63,
    "start_time": "2022-05-02T17:00:58.038Z"
   },
   {
    "duration": 71,
    "start_time": "2022-05-02T17:00:58.103Z"
   },
   {
    "duration": 73,
    "start_time": "2022-05-02T17:00:58.176Z"
   },
   {
    "duration": 54,
    "start_time": "2022-05-02T17:00:58.251Z"
   },
   {
    "duration": 15,
    "start_time": "2022-05-02T17:00:58.308Z"
   },
   {
    "duration": 4,
    "start_time": "2022-05-02T17:00:58.325Z"
   },
   {
    "duration": 6,
    "start_time": "2022-05-02T17:00:58.330Z"
   },
   {
    "duration": 8,
    "start_time": "2022-05-02T17:00:58.337Z"
   },
   {
    "duration": 153,
    "start_time": "2022-05-02T17:00:58.346Z"
   },
   {
    "duration": 124,
    "start_time": "2022-05-02T17:00:58.501Z"
   },
   {
    "duration": 124,
    "start_time": "2022-05-02T17:00:58.626Z"
   },
   {
    "duration": 31,
    "start_time": "2022-05-02T17:00:58.752Z"
   },
   {
    "duration": 19,
    "start_time": "2022-05-02T17:00:58.784Z"
   },
   {
    "duration": 5,
    "start_time": "2022-05-02T17:04:15.041Z"
   },
   {
    "duration": 22,
    "start_time": "2022-05-02T17:04:25.149Z"
   },
   {
    "duration": 21,
    "start_time": "2022-05-02T17:07:40.488Z"
   },
   {
    "duration": 22,
    "start_time": "2022-05-02T17:08:39.216Z"
   },
   {
    "duration": 5,
    "start_time": "2022-05-02T17:09:20.750Z"
   },
   {
    "duration": 15,
    "start_time": "2022-05-02T17:09:32.586Z"
   },
   {
    "duration": 16,
    "start_time": "2022-05-02T17:13:15.476Z"
   },
   {
    "duration": 4,
    "start_time": "2022-05-02T17:14:33.858Z"
   },
   {
    "duration": 15,
    "start_time": "2022-05-02T17:17:38.040Z"
   },
   {
    "duration": 22,
    "start_time": "2022-05-02T17:19:55.179Z"
   },
   {
    "duration": 24,
    "start_time": "2022-05-02T17:20:25.321Z"
   },
   {
    "duration": 18,
    "start_time": "2022-05-02T17:22:04.199Z"
   },
   {
    "duration": 24,
    "start_time": "2022-05-02T17:22:11.326Z"
   },
   {
    "duration": 24,
    "start_time": "2022-05-02T17:31:47.173Z"
   },
   {
    "duration": 24,
    "start_time": "2022-05-02T17:32:18.506Z"
   },
   {
    "duration": 17,
    "start_time": "2022-05-02T17:32:40.487Z"
   },
   {
    "duration": 368,
    "start_time": "2022-05-02T17:32:54.956Z"
   },
   {
    "duration": 35,
    "start_time": "2022-05-02T17:32:55.326Z"
   },
   {
    "duration": 10,
    "start_time": "2022-05-02T17:32:55.363Z"
   },
   {
    "duration": 146,
    "start_time": "2022-05-02T17:32:55.374Z"
   },
   {
    "duration": 21,
    "start_time": "2022-05-02T17:32:55.522Z"
   },
   {
    "duration": 86,
    "start_time": "2022-05-02T17:32:55.545Z"
   },
   {
    "duration": 16,
    "start_time": "2022-05-02T17:32:55.632Z"
   },
   {
    "duration": 124,
    "start_time": "2022-05-02T17:32:55.649Z"
   },
   {
    "duration": 19,
    "start_time": "2022-05-02T17:32:55.774Z"
   },
   {
    "duration": 30,
    "start_time": "2022-05-02T17:32:55.794Z"
   },
   {
    "duration": 11,
    "start_time": "2022-05-02T17:32:55.825Z"
   },
   {
    "duration": 7,
    "start_time": "2022-05-02T17:32:55.837Z"
   },
   {
    "duration": 5,
    "start_time": "2022-05-02T17:32:55.845Z"
   },
   {
    "duration": 3,
    "start_time": "2022-05-02T17:32:55.853Z"
   },
   {
    "duration": 8,
    "start_time": "2022-05-02T17:32:55.858Z"
   },
   {
    "duration": 8,
    "start_time": "2022-05-02T17:32:55.867Z"
   },
   {
    "duration": 4,
    "start_time": "2022-05-02T17:32:55.877Z"
   },
   {
    "duration": 6,
    "start_time": "2022-05-02T17:32:55.883Z"
   },
   {
    "duration": 34,
    "start_time": "2022-05-02T17:32:55.890Z"
   },
   {
    "duration": 4,
    "start_time": "2022-05-02T17:32:55.926Z"
   },
   {
    "duration": 8,
    "start_time": "2022-05-02T17:32:55.931Z"
   },
   {
    "duration": 10,
    "start_time": "2022-05-02T17:32:55.940Z"
   },
   {
    "duration": 10,
    "start_time": "2022-05-02T17:32:55.952Z"
   },
   {
    "duration": 5,
    "start_time": "2022-05-02T17:32:55.964Z"
   },
   {
    "duration": 64,
    "start_time": "2022-05-02T17:32:55.970Z"
   },
   {
    "duration": 7,
    "start_time": "2022-05-02T17:32:56.036Z"
   },
   {
    "duration": 50,
    "start_time": "2022-05-02T17:32:56.045Z"
   },
   {
    "duration": 7,
    "start_time": "2022-05-02T17:32:56.097Z"
   },
   {
    "duration": 69,
    "start_time": "2022-05-02T17:32:56.105Z"
   },
   {
    "duration": 102,
    "start_time": "2022-05-02T17:32:56.176Z"
   },
   {
    "duration": 4,
    "start_time": "2022-05-02T17:32:56.280Z"
   },
   {
    "duration": 25,
    "start_time": "2022-05-02T17:32:56.285Z"
   },
   {
    "duration": 29,
    "start_time": "2022-05-02T17:32:56.324Z"
   },
   {
    "duration": 37,
    "start_time": "2022-05-02T17:32:56.354Z"
   },
   {
    "duration": 36,
    "start_time": "2022-05-02T17:32:56.392Z"
   },
   {
    "duration": 3,
    "start_time": "2022-05-02T17:32:56.430Z"
   },
   {
    "duration": 23,
    "start_time": "2022-05-02T17:32:56.435Z"
   },
   {
    "duration": 23,
    "start_time": "2022-05-02T17:32:56.460Z"
   },
   {
    "duration": 72,
    "start_time": "2022-05-02T17:32:56.485Z"
   },
   {
    "duration": 9,
    "start_time": "2022-05-02T17:32:56.559Z"
   },
   {
    "duration": 10,
    "start_time": "2022-05-02T17:32:56.572Z"
   },
   {
    "duration": 70,
    "start_time": "2022-05-02T17:32:56.584Z"
   },
   {
    "duration": 8,
    "start_time": "2022-05-02T17:32:56.656Z"
   },
   {
    "duration": 8,
    "start_time": "2022-05-02T17:32:56.666Z"
   },
   {
    "duration": 22,
    "start_time": "2022-05-02T17:32:56.676Z"
   },
   {
    "duration": 68,
    "start_time": "2022-05-02T17:32:56.700Z"
   },
   {
    "duration": 54,
    "start_time": "2022-05-02T17:32:56.770Z"
   },
   {
    "duration": 36,
    "start_time": "2022-05-02T17:32:56.826Z"
   },
   {
    "duration": 44,
    "start_time": "2022-05-02T17:32:56.863Z"
   },
   {
    "duration": 3,
    "start_time": "2022-05-02T17:32:56.924Z"
   },
   {
    "duration": 5,
    "start_time": "2022-05-02T17:32:56.929Z"
   },
   {
    "duration": 9,
    "start_time": "2022-05-02T17:32:56.935Z"
   },
   {
    "duration": 7,
    "start_time": "2022-05-02T17:32:56.945Z"
   },
   {
    "duration": 129,
    "start_time": "2022-05-02T17:32:56.954Z"
   },
   {
    "duration": 119,
    "start_time": "2022-05-02T17:32:57.085Z"
   },
   {
    "duration": 119,
    "start_time": "2022-05-02T17:32:57.206Z"
   },
   {
    "duration": 30,
    "start_time": "2022-05-02T17:32:57.327Z"
   },
   {
    "duration": 32,
    "start_time": "2022-05-02T17:32:57.359Z"
   },
   {
    "duration": 54,
    "start_time": "2022-05-02T17:32:57.393Z"
   },
   {
    "duration": 20,
    "start_time": "2022-05-02T17:32:57.449Z"
   },
   {
    "duration": 20,
    "start_time": "2022-05-02T17:33:18.051Z"
   },
   {
    "duration": 21,
    "start_time": "2022-05-02T17:33:25.795Z"
   },
   {
    "duration": 10,
    "start_time": "2022-05-02T17:35:28.431Z"
   },
   {
    "duration": 13,
    "start_time": "2022-05-02T17:38:06.404Z"
   },
   {
    "duration": 18,
    "start_time": "2022-05-02T17:39:18.966Z"
   },
   {
    "duration": 405,
    "start_time": "2022-05-02T17:40:17.653Z"
   },
   {
    "duration": 33,
    "start_time": "2022-05-02T17:40:18.060Z"
   },
   {
    "duration": 10,
    "start_time": "2022-05-02T17:40:18.095Z"
   },
   {
    "duration": 142,
    "start_time": "2022-05-02T17:40:18.106Z"
   },
   {
    "duration": 20,
    "start_time": "2022-05-02T17:40:18.250Z"
   },
   {
    "duration": 87,
    "start_time": "2022-05-02T17:40:18.271Z"
   },
   {
    "duration": 17,
    "start_time": "2022-05-02T17:40:18.360Z"
   },
   {
    "duration": 139,
    "start_time": "2022-05-02T17:40:18.379Z"
   },
   {
    "duration": 20,
    "start_time": "2022-05-02T17:40:18.523Z"
   },
   {
    "duration": 14,
    "start_time": "2022-05-02T17:40:18.545Z"
   },
   {
    "duration": 9,
    "start_time": "2022-05-02T17:40:18.561Z"
   },
   {
    "duration": 5,
    "start_time": "2022-05-02T17:40:18.572Z"
   },
   {
    "duration": 6,
    "start_time": "2022-05-02T17:40:18.579Z"
   },
   {
    "duration": 3,
    "start_time": "2022-05-02T17:40:18.588Z"
   },
   {
    "duration": 32,
    "start_time": "2022-05-02T17:40:18.593Z"
   },
   {
    "duration": 9,
    "start_time": "2022-05-02T17:40:18.627Z"
   },
   {
    "duration": 4,
    "start_time": "2022-05-02T17:40:18.638Z"
   },
   {
    "duration": 7,
    "start_time": "2022-05-02T17:40:18.644Z"
   },
   {
    "duration": 6,
    "start_time": "2022-05-02T17:40:18.653Z"
   },
   {
    "duration": 6,
    "start_time": "2022-05-02T17:40:18.661Z"
   },
   {
    "duration": 12,
    "start_time": "2022-05-02T17:40:18.669Z"
   },
   {
    "duration": 50,
    "start_time": "2022-05-02T17:40:18.683Z"
   },
   {
    "duration": 12,
    "start_time": "2022-05-02T17:40:18.734Z"
   },
   {
    "duration": 6,
    "start_time": "2022-05-02T17:40:18.748Z"
   },
   {
    "duration": 36,
    "start_time": "2022-05-02T17:40:18.755Z"
   },
   {
    "duration": 9,
    "start_time": "2022-05-02T17:40:18.792Z"
   },
   {
    "duration": 66,
    "start_time": "2022-05-02T17:40:18.802Z"
   },
   {
    "duration": 8,
    "start_time": "2022-05-02T17:40:18.869Z"
   },
   {
    "duration": 79,
    "start_time": "2022-05-02T17:40:18.879Z"
   },
   {
    "duration": 96,
    "start_time": "2022-05-02T17:40:18.960Z"
   },
   {
    "duration": 4,
    "start_time": "2022-05-02T17:40:19.057Z"
   },
   {
    "duration": 25,
    "start_time": "2022-05-02T17:40:19.062Z"
   },
   {
    "duration": 42,
    "start_time": "2022-05-02T17:40:19.088Z"
   },
   {
    "duration": 35,
    "start_time": "2022-05-02T17:40:19.132Z"
   },
   {
    "duration": 14,
    "start_time": "2022-05-02T17:40:19.169Z"
   },
   {
    "duration": 6,
    "start_time": "2022-05-02T17:40:19.185Z"
   },
   {
    "duration": 51,
    "start_time": "2022-05-02T17:40:19.192Z"
   },
   {
    "duration": 24,
    "start_time": "2022-05-02T17:40:19.245Z"
   },
   {
    "duration": 70,
    "start_time": "2022-05-02T17:40:19.272Z"
   },
   {
    "duration": 10,
    "start_time": "2022-05-02T17:40:19.344Z"
   },
   {
    "duration": 9,
    "start_time": "2022-05-02T17:40:19.359Z"
   },
   {
    "duration": 85,
    "start_time": "2022-05-02T17:40:19.370Z"
   },
   {
    "duration": 9,
    "start_time": "2022-05-02T17:40:19.457Z"
   },
   {
    "duration": 9,
    "start_time": "2022-05-02T17:40:19.468Z"
   },
   {
    "duration": 11,
    "start_time": "2022-05-02T17:40:19.479Z"
   },
   {
    "duration": 78,
    "start_time": "2022-05-02T17:40:19.492Z"
   },
   {
    "duration": 60,
    "start_time": "2022-05-02T17:40:19.572Z"
   },
   {
    "duration": 53,
    "start_time": "2022-05-02T17:40:19.634Z"
   },
   {
    "duration": 60,
    "start_time": "2022-05-02T17:40:19.689Z"
   },
   {
    "duration": 3,
    "start_time": "2022-05-02T17:40:19.750Z"
   },
   {
    "duration": 8,
    "start_time": "2022-05-02T17:40:19.754Z"
   },
   {
    "duration": 8,
    "start_time": "2022-05-02T17:40:19.764Z"
   },
   {
    "duration": 5,
    "start_time": "2022-05-02T17:40:19.774Z"
   },
   {
    "duration": 144,
    "start_time": "2022-05-02T17:40:19.781Z"
   },
   {
    "duration": 139,
    "start_time": "2022-05-02T17:40:19.927Z"
   },
   {
    "duration": 122,
    "start_time": "2022-05-02T17:40:20.068Z"
   },
   {
    "duration": 42,
    "start_time": "2022-05-02T17:40:20.192Z"
   },
   {
    "duration": 17,
    "start_time": "2022-05-02T17:40:20.236Z"
   },
   {
    "duration": 20,
    "start_time": "2022-05-02T17:40:20.255Z"
   },
   {
    "duration": 20,
    "start_time": "2022-05-02T17:40:20.277Z"
   },
   {
    "duration": 23,
    "start_time": "2022-05-02T17:40:20.324Z"
   },
   {
    "duration": 21,
    "start_time": "2022-05-02T17:41:47.421Z"
   },
   {
    "duration": 22,
    "start_time": "2022-05-02T17:41:53.933Z"
   },
   {
    "duration": 25,
    "start_time": "2022-05-02T17:42:02.881Z"
   },
   {
    "duration": 15,
    "start_time": "2022-05-02T17:44:22.672Z"
   },
   {
    "duration": 4,
    "start_time": "2022-05-02T17:47:37.697Z"
   },
   {
    "duration": 9,
    "start_time": "2022-05-02T17:47:52.157Z"
   },
   {
    "duration": 5,
    "start_time": "2022-05-02T17:51:33.559Z"
   },
   {
    "duration": 4,
    "start_time": "2022-05-02T17:52:02.586Z"
   },
   {
    "duration": 19,
    "start_time": "2022-05-02T17:55:58.880Z"
   },
   {
    "duration": 113,
    "start_time": "2022-05-02T17:56:09.199Z"
   },
   {
    "duration": 21,
    "start_time": "2022-05-02T17:56:19.705Z"
   },
   {
    "duration": 81,
    "start_time": "2022-05-03T12:52:20.716Z"
   },
   {
    "duration": 514,
    "start_time": "2022-05-03T12:52:26.394Z"
   },
   {
    "duration": 41,
    "start_time": "2022-05-03T12:52:26.911Z"
   },
   {
    "duration": 13,
    "start_time": "2022-05-03T12:52:26.953Z"
   },
   {
    "duration": 224,
    "start_time": "2022-05-03T12:52:26.968Z"
   },
   {
    "duration": 39,
    "start_time": "2022-05-03T12:52:27.195Z"
   },
   {
    "duration": 145,
    "start_time": "2022-05-03T12:52:27.235Z"
   },
   {
    "duration": 31,
    "start_time": "2022-05-03T12:52:27.383Z"
   },
   {
    "duration": 165,
    "start_time": "2022-05-03T12:52:27.416Z"
   },
   {
    "duration": 22,
    "start_time": "2022-05-03T12:52:27.582Z"
   },
   {
    "duration": 17,
    "start_time": "2022-05-03T12:52:27.606Z"
   },
   {
    "duration": 33,
    "start_time": "2022-05-03T12:52:27.625Z"
   },
   {
    "duration": 6,
    "start_time": "2022-05-03T12:52:27.667Z"
   },
   {
    "duration": 7,
    "start_time": "2022-05-03T12:52:27.674Z"
   },
   {
    "duration": 10,
    "start_time": "2022-05-03T12:52:27.684Z"
   },
   {
    "duration": 8,
    "start_time": "2022-05-03T12:52:27.696Z"
   },
   {
    "duration": 10,
    "start_time": "2022-05-03T12:52:27.706Z"
   },
   {
    "duration": 6,
    "start_time": "2022-05-03T12:52:27.718Z"
   },
   {
    "duration": 27,
    "start_time": "2022-05-03T12:52:27.726Z"
   },
   {
    "duration": 19,
    "start_time": "2022-05-03T12:52:27.755Z"
   },
   {
    "duration": 4,
    "start_time": "2022-05-03T12:52:27.776Z"
   },
   {
    "duration": 7,
    "start_time": "2022-05-03T12:52:27.782Z"
   },
   {
    "duration": 13,
    "start_time": "2022-05-03T12:52:27.791Z"
   },
   {
    "duration": 14,
    "start_time": "2022-05-03T12:52:27.806Z"
   },
   {
    "duration": 6,
    "start_time": "2022-05-03T12:52:27.822Z"
   },
   {
    "duration": 59,
    "start_time": "2022-05-03T12:52:27.829Z"
   },
   {
    "duration": 8,
    "start_time": "2022-05-03T12:52:27.890Z"
   },
   {
    "duration": 97,
    "start_time": "2022-05-03T12:52:27.899Z"
   },
   {
    "duration": 8,
    "start_time": "2022-05-03T12:52:27.997Z"
   },
   {
    "duration": 96,
    "start_time": "2022-05-03T12:52:28.007Z"
   },
   {
    "duration": 104,
    "start_time": "2022-05-03T12:52:28.105Z"
   },
   {
    "duration": 3,
    "start_time": "2022-05-03T12:52:28.211Z"
   },
   {
    "duration": 39,
    "start_time": "2022-05-03T12:52:28.216Z"
   },
   {
    "duration": 51,
    "start_time": "2022-05-03T12:52:28.257Z"
   },
   {
    "duration": 82,
    "start_time": "2022-05-03T12:52:28.309Z"
   },
   {
    "duration": 15,
    "start_time": "2022-05-03T12:52:28.393Z"
   },
   {
    "duration": 6,
    "start_time": "2022-05-03T12:52:28.410Z"
   },
   {
    "duration": 56,
    "start_time": "2022-05-03T12:52:28.417Z"
   },
   {
    "duration": 25,
    "start_time": "2022-05-03T12:52:28.475Z"
   },
   {
    "duration": 69,
    "start_time": "2022-05-03T12:52:28.502Z"
   },
   {
    "duration": 11,
    "start_time": "2022-05-03T12:52:28.572Z"
   },
   {
    "duration": 15,
    "start_time": "2022-05-03T12:52:28.589Z"
   },
   {
    "duration": 84,
    "start_time": "2022-05-03T12:52:28.606Z"
   },
   {
    "duration": 11,
    "start_time": "2022-05-03T12:52:28.692Z"
   },
   {
    "duration": 10,
    "start_time": "2022-05-03T12:52:28.705Z"
   },
   {
    "duration": 11,
    "start_time": "2022-05-03T12:52:28.717Z"
   },
   {
    "duration": 64,
    "start_time": "2022-05-03T12:52:28.748Z"
   },
   {
    "duration": 70,
    "start_time": "2022-05-03T12:52:28.814Z"
   },
   {
    "duration": 70,
    "start_time": "2022-05-03T12:52:28.886Z"
   },
   {
    "duration": 73,
    "start_time": "2022-05-03T12:52:28.958Z"
   },
   {
    "duration": 17,
    "start_time": "2022-05-03T12:52:29.033Z"
   },
   {
    "duration": 22,
    "start_time": "2022-05-03T12:52:29.054Z"
   },
   {
    "duration": 7,
    "start_time": "2022-05-03T12:52:29.078Z"
   },
   {
    "duration": 7,
    "start_time": "2022-05-03T12:52:29.086Z"
   },
   {
    "duration": 127,
    "start_time": "2022-05-03T12:52:29.095Z"
   },
   {
    "duration": 126,
    "start_time": "2022-05-03T12:52:29.224Z"
   },
   {
    "duration": 119,
    "start_time": "2022-05-03T12:52:29.351Z"
   },
   {
    "duration": 31,
    "start_time": "2022-05-03T12:52:29.472Z"
   },
   {
    "duration": 17,
    "start_time": "2022-05-03T12:52:29.505Z"
   },
   {
    "duration": 45,
    "start_time": "2022-05-03T12:52:29.523Z"
   },
   {
    "duration": 18,
    "start_time": "2022-05-03T12:52:29.570Z"
   },
   {
    "duration": 18,
    "start_time": "2022-05-03T12:52:29.589Z"
   },
   {
    "duration": 9,
    "start_time": "2022-05-03T12:52:29.609Z"
   },
   {
    "duration": 32,
    "start_time": "2022-05-03T12:52:29.619Z"
   },
   {
    "duration": 14,
    "start_time": "2022-05-03T12:52:29.658Z"
   },
   {
    "duration": 28,
    "start_time": "2022-05-03T12:52:29.673Z"
   },
   {
    "duration": 19,
    "start_time": "2022-05-03T12:52:29.702Z"
   },
   {
    "duration": 15,
    "start_time": "2022-05-03T13:01:33.516Z"
   },
   {
    "duration": 35,
    "start_time": "2022-05-03T13:01:42.649Z"
   },
   {
    "duration": 31,
    "start_time": "2022-05-03T13:02:16.063Z"
   },
   {
    "duration": 811,
    "start_time": "2022-05-03T13:10:36.625Z"
   },
   {
    "duration": 5,
    "start_time": "2022-05-03T13:11:01.050Z"
   },
   {
    "duration": 1060,
    "start_time": "2022-05-03T13:11:06.929Z"
   },
   {
    "duration": 4,
    "start_time": "2022-05-03T13:13:02.626Z"
   },
   {
    "duration": 948,
    "start_time": "2022-05-03T13:13:36.559Z"
   },
   {
    "duration": 3,
    "start_time": "2022-05-03T13:15:15.768Z"
   },
   {
    "duration": 620,
    "start_time": "2022-05-03T13:15:18.661Z"
   },
   {
    "duration": 4,
    "start_time": "2022-05-03T13:15:46.488Z"
   },
   {
    "duration": 676,
    "start_time": "2022-05-03T13:15:47.000Z"
   },
   {
    "duration": 5,
    "start_time": "2022-05-03T13:15:59.746Z"
   },
   {
    "duration": 686,
    "start_time": "2022-05-03T13:16:01.799Z"
   },
   {
    "duration": 4,
    "start_time": "2022-05-03T13:16:54.701Z"
   },
   {
    "duration": 809,
    "start_time": "2022-05-03T13:16:55.418Z"
   },
   {
    "duration": 724,
    "start_time": "2022-05-03T13:17:09.467Z"
   },
   {
    "duration": 25,
    "start_time": "2022-05-03T13:20:13.468Z"
   },
   {
    "duration": 24,
    "start_time": "2022-05-03T13:21:17.988Z"
   },
   {
    "duration": 4,
    "start_time": "2022-05-03T13:31:01.618Z"
   },
   {
    "duration": 257,
    "start_time": "2022-05-03T13:31:51.399Z"
   },
   {
    "duration": 247,
    "start_time": "2022-05-03T13:32:40.697Z"
   },
   {
    "duration": 20,
    "start_time": "2022-05-03T14:01:40.220Z"
   },
   {
    "duration": 17,
    "start_time": "2022-05-03T14:05:29.231Z"
   },
   {
    "duration": 27,
    "start_time": "2022-05-03T14:05:58.950Z"
   },
   {
    "duration": 34,
    "start_time": "2022-05-03T14:06:38.817Z"
   },
   {
    "duration": 27,
    "start_time": "2022-05-03T14:07:06.548Z"
   },
   {
    "duration": 112,
    "start_time": "2022-05-03T14:12:57.169Z"
   },
   {
    "duration": 19,
    "start_time": "2022-05-03T14:13:05.308Z"
   },
   {
    "duration": 30,
    "start_time": "2022-05-03T14:14:32.235Z"
   },
   {
    "duration": 15,
    "start_time": "2022-05-03T14:16:21.575Z"
   },
   {
    "duration": 25,
    "start_time": "2022-05-03T14:17:29.700Z"
   },
   {
    "duration": 15,
    "start_time": "2022-05-03T14:20:10.377Z"
   },
   {
    "duration": 16,
    "start_time": "2022-05-03T14:23:32.630Z"
   },
   {
    "duration": 860,
    "start_time": "2022-05-07T09:34:36.787Z"
   },
   {
    "duration": 33,
    "start_time": "2022-05-07T09:34:37.650Z"
   },
   {
    "duration": 15,
    "start_time": "2022-05-07T09:34:37.685Z"
   },
   {
    "duration": 166,
    "start_time": "2022-05-07T09:34:37.702Z"
   },
   {
    "duration": 31,
    "start_time": "2022-05-07T09:34:37.870Z"
   },
   {
    "duration": 92,
    "start_time": "2022-05-07T09:34:37.902Z"
   },
   {
    "duration": 21,
    "start_time": "2022-05-07T09:34:37.995Z"
   },
   {
    "duration": 148,
    "start_time": "2022-05-07T09:34:38.018Z"
   },
   {
    "duration": 31,
    "start_time": "2022-05-07T09:34:38.168Z"
   },
   {
    "duration": 15,
    "start_time": "2022-05-07T09:34:38.203Z"
   },
   {
    "duration": 26,
    "start_time": "2022-05-07T09:34:38.219Z"
   },
   {
    "duration": 24,
    "start_time": "2022-05-07T09:34:38.246Z"
   },
   {
    "duration": 18,
    "start_time": "2022-05-07T09:34:38.272Z"
   },
   {
    "duration": 34,
    "start_time": "2022-05-07T09:34:38.292Z"
   },
   {
    "duration": 30,
    "start_time": "2022-05-07T09:34:38.328Z"
   },
   {
    "duration": 36,
    "start_time": "2022-05-07T09:34:38.360Z"
   },
   {
    "duration": 19,
    "start_time": "2022-05-07T09:34:38.398Z"
   },
   {
    "duration": 20,
    "start_time": "2022-05-07T09:34:38.418Z"
   },
   {
    "duration": 37,
    "start_time": "2022-05-07T09:34:38.440Z"
   },
   {
    "duration": 22,
    "start_time": "2022-05-07T09:34:38.479Z"
   },
   {
    "duration": 19,
    "start_time": "2022-05-07T09:34:38.503Z"
   },
   {
    "duration": 22,
    "start_time": "2022-05-07T09:34:38.524Z"
   },
   {
    "duration": 19,
    "start_time": "2022-05-07T09:34:38.548Z"
   },
   {
    "duration": 9,
    "start_time": "2022-05-07T09:34:38.569Z"
   },
   {
    "duration": 40,
    "start_time": "2022-05-07T09:34:38.580Z"
   },
   {
    "duration": 9,
    "start_time": "2022-05-07T09:34:38.622Z"
   },
   {
    "duration": 79,
    "start_time": "2022-05-07T09:34:38.634Z"
   },
   {
    "duration": 8,
    "start_time": "2022-05-07T09:34:38.718Z"
   },
   {
    "duration": 73,
    "start_time": "2022-05-07T09:34:38.729Z"
   },
   {
    "duration": 110,
    "start_time": "2022-05-07T09:34:38.804Z"
   },
   {
    "duration": 5,
    "start_time": "2022-05-07T09:34:38.916Z"
   },
   {
    "duration": 23,
    "start_time": "2022-05-07T09:34:38.923Z"
   },
   {
    "duration": 53,
    "start_time": "2022-05-07T09:34:38.949Z"
   },
   {
    "duration": 46,
    "start_time": "2022-05-07T09:34:39.004Z"
   },
   {
    "duration": 13,
    "start_time": "2022-05-07T09:34:39.052Z"
   },
   {
    "duration": 28,
    "start_time": "2022-05-07T09:34:39.067Z"
   },
   {
    "duration": 41,
    "start_time": "2022-05-07T09:34:39.097Z"
   },
   {
    "duration": 23,
    "start_time": "2022-05-07T09:34:39.140Z"
   },
   {
    "duration": 61,
    "start_time": "2022-05-07T09:34:39.166Z"
   },
   {
    "duration": 9,
    "start_time": "2022-05-07T09:34:39.229Z"
   },
   {
    "duration": 12,
    "start_time": "2022-05-07T09:34:39.240Z"
   },
   {
    "duration": 77,
    "start_time": "2022-05-07T09:34:39.254Z"
   },
   {
    "duration": 8,
    "start_time": "2022-05-07T09:34:39.333Z"
   },
   {
    "duration": 10,
    "start_time": "2022-05-07T09:34:39.343Z"
   },
   {
    "duration": 15,
    "start_time": "2022-05-07T09:34:39.354Z"
   },
   {
    "duration": 62,
    "start_time": "2022-05-07T09:34:39.371Z"
   },
   {
    "duration": 37,
    "start_time": "2022-05-07T09:34:39.435Z"
   },
   {
    "duration": 50,
    "start_time": "2022-05-07T09:34:39.474Z"
   },
   {
    "duration": 44,
    "start_time": "2022-05-07T09:34:39.526Z"
   },
   {
    "duration": 3,
    "start_time": "2022-05-07T09:34:39.572Z"
   },
   {
    "duration": 5,
    "start_time": "2022-05-07T09:34:39.594Z"
   },
   {
    "duration": 6,
    "start_time": "2022-05-07T09:34:39.601Z"
   },
   {
    "duration": 6,
    "start_time": "2022-05-07T09:34:39.609Z"
   },
   {
    "duration": 161,
    "start_time": "2022-05-07T09:34:39.616Z"
   },
   {
    "duration": 120,
    "start_time": "2022-05-07T09:34:39.779Z"
   },
   {
    "duration": 130,
    "start_time": "2022-05-07T09:34:39.901Z"
   },
   {
    "duration": 33,
    "start_time": "2022-05-07T09:34:40.033Z"
   },
   {
    "duration": 33,
    "start_time": "2022-05-07T09:34:40.068Z"
   },
   {
    "duration": 19,
    "start_time": "2022-05-07T09:34:40.103Z"
   },
   {
    "duration": 16,
    "start_time": "2022-05-07T09:34:40.124Z"
   },
   {
    "duration": 18,
    "start_time": "2022-05-07T09:34:40.141Z"
   },
   {
    "duration": 41,
    "start_time": "2022-05-07T09:34:40.161Z"
   },
   {
    "duration": 8,
    "start_time": "2022-05-07T09:34:40.204Z"
   },
   {
    "duration": 8,
    "start_time": "2022-05-07T09:34:40.214Z"
   },
   {
    "duration": 35,
    "start_time": "2022-05-07T09:34:40.224Z"
   },
   {
    "duration": 58,
    "start_time": "2022-05-07T09:34:40.262Z"
   },
   {
    "duration": 4,
    "start_time": "2022-05-07T09:34:40.322Z"
   },
   {
    "duration": 7,
    "start_time": "2022-05-07T09:34:40.327Z"
   },
   {
    "duration": 727,
    "start_time": "2022-05-07T09:34:40.336Z"
   },
   {
    "duration": 435,
    "start_time": "2022-05-07T09:34:41.065Z"
   },
   {
    "duration": 485,
    "start_time": "2022-05-07T09:34:41.502Z"
   },
   {
    "duration": 263,
    "start_time": "2022-05-07T09:34:41.993Z"
   },
   {
    "duration": 31,
    "start_time": "2022-05-07T09:43:52.133Z"
   },
   {
    "duration": 24,
    "start_time": "2022-05-07T09:44:30.591Z"
   },
   {
    "duration": 23,
    "start_time": "2022-05-07T09:51:56.412Z"
   },
   {
    "duration": 25,
    "start_time": "2022-05-07T09:52:14.932Z"
   },
   {
    "duration": 8,
    "start_time": "2022-05-07T09:53:55.468Z"
   },
   {
    "duration": 4,
    "start_time": "2022-05-07T09:58:50.956Z"
   },
   {
    "duration": 4,
    "start_time": "2022-05-07T09:59:39.227Z"
   },
   {
    "duration": 4,
    "start_time": "2022-05-07T10:00:11.458Z"
   },
   {
    "duration": 3,
    "start_time": "2022-05-07T10:04:03.659Z"
   },
   {
    "duration": 4,
    "start_time": "2022-05-07T10:06:53.659Z"
   },
   {
    "duration": 4,
    "start_time": "2022-05-07T10:11:41.898Z"
   },
   {
    "duration": 733,
    "start_time": "2022-05-07T10:28:30.471Z"
   },
   {
    "duration": 31,
    "start_time": "2022-05-07T10:28:31.207Z"
   },
   {
    "duration": 10,
    "start_time": "2022-05-07T10:28:31.240Z"
   },
   {
    "duration": 174,
    "start_time": "2022-05-07T10:28:31.253Z"
   },
   {
    "duration": 25,
    "start_time": "2022-05-07T10:28:31.430Z"
   },
   {
    "duration": 105,
    "start_time": "2022-05-07T10:28:31.458Z"
   },
   {
    "duration": 28,
    "start_time": "2022-05-07T10:28:31.565Z"
   },
   {
    "duration": 157,
    "start_time": "2022-05-07T10:28:31.595Z"
   },
   {
    "duration": 20,
    "start_time": "2022-05-07T10:28:31.753Z"
   },
   {
    "duration": 27,
    "start_time": "2022-05-07T10:28:31.774Z"
   },
   {
    "duration": 10,
    "start_time": "2022-05-07T10:28:31.803Z"
   },
   {
    "duration": 4,
    "start_time": "2022-05-07T10:28:31.814Z"
   },
   {
    "duration": 10,
    "start_time": "2022-05-07T10:28:31.819Z"
   },
   {
    "duration": 16,
    "start_time": "2022-05-07T10:28:31.832Z"
   },
   {
    "duration": 15,
    "start_time": "2022-05-07T10:28:31.849Z"
   },
   {
    "duration": 7,
    "start_time": "2022-05-07T10:28:31.866Z"
   },
   {
    "duration": 5,
    "start_time": "2022-05-07T10:28:31.875Z"
   },
   {
    "duration": 12,
    "start_time": "2022-05-07T10:28:31.881Z"
   },
   {
    "duration": 27,
    "start_time": "2022-05-07T10:28:31.895Z"
   },
   {
    "duration": 12,
    "start_time": "2022-05-07T10:28:31.924Z"
   },
   {
    "duration": 16,
    "start_time": "2022-05-07T10:28:31.938Z"
   },
   {
    "duration": 19,
    "start_time": "2022-05-07T10:28:31.955Z"
   },
   {
    "duration": 15,
    "start_time": "2022-05-07T10:28:31.976Z"
   },
   {
    "duration": 17,
    "start_time": "2022-05-07T10:28:31.993Z"
   },
   {
    "duration": 39,
    "start_time": "2022-05-07T10:28:32.012Z"
   },
   {
    "duration": 9,
    "start_time": "2022-05-07T10:28:32.052Z"
   },
   {
    "duration": 73,
    "start_time": "2022-05-07T10:28:32.062Z"
   },
   {
    "duration": 7,
    "start_time": "2022-05-07T10:28:32.137Z"
   },
   {
    "duration": 71,
    "start_time": "2022-05-07T10:28:32.145Z"
   },
   {
    "duration": 111,
    "start_time": "2022-05-07T10:28:32.218Z"
   },
   {
    "duration": 4,
    "start_time": "2022-05-07T10:28:32.331Z"
   },
   {
    "duration": 25,
    "start_time": "2022-05-07T10:28:32.337Z"
   },
   {
    "duration": 39,
    "start_time": "2022-05-07T10:28:32.363Z"
   },
   {
    "duration": 39,
    "start_time": "2022-05-07T10:28:32.405Z"
   },
   {
    "duration": 13,
    "start_time": "2022-05-07T10:28:32.445Z"
   },
   {
    "duration": 8,
    "start_time": "2022-05-07T10:28:32.459Z"
   },
   {
    "duration": 36,
    "start_time": "2022-05-07T10:28:32.497Z"
   },
   {
    "duration": 23,
    "start_time": "2022-05-07T10:28:32.535Z"
   },
   {
    "duration": 64,
    "start_time": "2022-05-07T10:28:32.559Z"
   },
   {
    "duration": 9,
    "start_time": "2022-05-07T10:28:32.625Z"
   },
   {
    "duration": 9,
    "start_time": "2022-05-07T10:28:32.638Z"
   },
   {
    "duration": 75,
    "start_time": "2022-05-07T10:28:32.649Z"
   },
   {
    "duration": 7,
    "start_time": "2022-05-07T10:28:32.726Z"
   },
   {
    "duration": 8,
    "start_time": "2022-05-07T10:28:32.735Z"
   },
   {
    "duration": 12,
    "start_time": "2022-05-07T10:28:32.744Z"
   },
   {
    "duration": 71,
    "start_time": "2022-05-07T10:28:32.757Z"
   },
   {
    "duration": 35,
    "start_time": "2022-05-07T10:28:32.830Z"
   },
   {
    "duration": 59,
    "start_time": "2022-05-07T10:28:32.867Z"
   },
   {
    "duration": 41,
    "start_time": "2022-05-07T10:28:32.928Z"
   },
   {
    "duration": 3,
    "start_time": "2022-05-07T10:28:32.971Z"
   },
   {
    "duration": 22,
    "start_time": "2022-05-07T10:28:32.975Z"
   },
   {
    "duration": 13,
    "start_time": "2022-05-07T10:28:32.998Z"
   },
   {
    "duration": 5,
    "start_time": "2022-05-07T10:28:33.012Z"
   },
   {
    "duration": 133,
    "start_time": "2022-05-07T10:28:33.019Z"
   },
   {
    "duration": 123,
    "start_time": "2022-05-07T10:28:33.154Z"
   },
   {
    "duration": 125,
    "start_time": "2022-05-07T10:28:33.279Z"
   },
   {
    "duration": 32,
    "start_time": "2022-05-07T10:28:33.406Z"
   },
   {
    "duration": 15,
    "start_time": "2022-05-07T10:28:33.439Z"
   },
   {
    "duration": 42,
    "start_time": "2022-05-07T10:28:33.456Z"
   },
   {
    "duration": 20,
    "start_time": "2022-05-07T10:28:33.500Z"
   },
   {
    "duration": 16,
    "start_time": "2022-05-07T10:28:33.522Z"
   },
   {
    "duration": 9,
    "start_time": "2022-05-07T10:28:33.539Z"
   },
   {
    "duration": 6,
    "start_time": "2022-05-07T10:28:33.550Z"
   },
   {
    "duration": 38,
    "start_time": "2022-05-07T10:28:33.558Z"
   },
   {
    "duration": 6,
    "start_time": "2022-05-07T10:28:33.598Z"
   },
   {
    "duration": 10,
    "start_time": "2022-05-07T10:28:33.606Z"
   },
   {
    "duration": 26,
    "start_time": "2022-05-07T10:28:33.618Z"
   },
   {
    "duration": 809,
    "start_time": "2022-05-08T08:40:53.068Z"
   },
   {
    "duration": 42,
    "start_time": "2022-05-08T08:40:53.879Z"
   },
   {
    "duration": 12,
    "start_time": "2022-05-08T08:40:53.922Z"
   },
   {
    "duration": 166,
    "start_time": "2022-05-08T08:40:53.935Z"
   },
   {
    "duration": 28,
    "start_time": "2022-05-08T08:40:54.103Z"
   },
   {
    "duration": 105,
    "start_time": "2022-05-08T08:40:54.133Z"
   },
   {
    "duration": 19,
    "start_time": "2022-05-08T08:40:54.240Z"
   },
   {
    "duration": 156,
    "start_time": "2022-05-08T08:40:54.261Z"
   },
   {
    "duration": 21,
    "start_time": "2022-05-08T08:40:54.419Z"
   },
   {
    "duration": 15,
    "start_time": "2022-05-08T08:40:54.441Z"
   },
   {
    "duration": 11,
    "start_time": "2022-05-08T08:40:54.458Z"
   },
   {
    "duration": 5,
    "start_time": "2022-05-08T08:40:54.471Z"
   },
   {
    "duration": 5,
    "start_time": "2022-05-08T08:40:54.506Z"
   },
   {
    "duration": 10,
    "start_time": "2022-05-08T08:40:54.514Z"
   },
   {
    "duration": 7,
    "start_time": "2022-05-08T08:40:54.526Z"
   },
   {
    "duration": 8,
    "start_time": "2022-05-08T08:40:54.535Z"
   },
   {
    "duration": 6,
    "start_time": "2022-05-08T08:40:54.545Z"
   },
   {
    "duration": 6,
    "start_time": "2022-05-08T08:40:54.553Z"
   },
   {
    "duration": 7,
    "start_time": "2022-05-08T08:40:54.560Z"
   },
   {
    "duration": 43,
    "start_time": "2022-05-08T08:40:54.569Z"
   },
   {
    "duration": 7,
    "start_time": "2022-05-08T08:40:54.614Z"
   },
   {
    "duration": 12,
    "start_time": "2022-05-08T08:40:54.624Z"
   },
   {
    "duration": 12,
    "start_time": "2022-05-08T08:40:54.638Z"
   },
   {
    "duration": 5,
    "start_time": "2022-05-08T08:40:54.651Z"
   },
   {
    "duration": 78,
    "start_time": "2022-05-08T08:40:54.658Z"
   },
   {
    "duration": 8,
    "start_time": "2022-05-08T08:40:54.738Z"
   },
   {
    "duration": 77,
    "start_time": "2022-05-08T08:40:54.748Z"
   },
   {
    "duration": 8,
    "start_time": "2022-05-08T08:40:54.826Z"
   },
   {
    "duration": 81,
    "start_time": "2022-05-08T08:40:54.836Z"
   },
   {
    "duration": 112,
    "start_time": "2022-05-08T08:40:54.919Z"
   },
   {
    "duration": 5,
    "start_time": "2022-05-08T08:40:55.032Z"
   },
   {
    "duration": 24,
    "start_time": "2022-05-08T08:40:55.038Z"
   },
   {
    "duration": 59,
    "start_time": "2022-05-08T08:40:55.064Z"
   },
   {
    "duration": 40,
    "start_time": "2022-05-08T08:40:55.124Z"
   },
   {
    "duration": 13,
    "start_time": "2022-05-08T08:40:55.166Z"
   },
   {
    "duration": 27,
    "start_time": "2022-05-08T08:40:55.181Z"
   },
   {
    "duration": 25,
    "start_time": "2022-05-08T08:40:55.210Z"
   },
   {
    "duration": 24,
    "start_time": "2022-05-08T08:40:55.236Z"
   },
   {
    "duration": 64,
    "start_time": "2022-05-08T08:40:55.262Z"
   },
   {
    "duration": 9,
    "start_time": "2022-05-08T08:40:55.328Z"
   },
   {
    "duration": 9,
    "start_time": "2022-05-08T08:40:55.342Z"
   },
   {
    "duration": 76,
    "start_time": "2022-05-08T08:40:55.353Z"
   },
   {
    "duration": 8,
    "start_time": "2022-05-08T08:40:55.431Z"
   },
   {
    "duration": 8,
    "start_time": "2022-05-08T08:40:55.440Z"
   },
   {
    "duration": 9,
    "start_time": "2022-05-08T08:40:55.449Z"
   },
   {
    "duration": 70,
    "start_time": "2022-05-08T08:40:55.460Z"
   },
   {
    "duration": 42,
    "start_time": "2022-05-08T08:40:55.532Z"
   },
   {
    "duration": 56,
    "start_time": "2022-05-08T08:40:55.575Z"
   },
   {
    "duration": 45,
    "start_time": "2022-05-08T08:40:55.633Z"
   },
   {
    "duration": 3,
    "start_time": "2022-05-08T08:40:55.680Z"
   },
   {
    "duration": 24,
    "start_time": "2022-05-08T08:40:55.684Z"
   },
   {
    "duration": 5,
    "start_time": "2022-05-08T08:40:55.709Z"
   },
   {
    "duration": 8,
    "start_time": "2022-05-08T08:40:55.715Z"
   },
   {
    "duration": 146,
    "start_time": "2022-05-08T08:40:55.724Z"
   },
   {
    "duration": 128,
    "start_time": "2022-05-08T08:40:55.872Z"
   },
   {
    "duration": 127,
    "start_time": "2022-05-08T08:40:56.002Z"
   },
   {
    "duration": 33,
    "start_time": "2022-05-08T08:40:56.131Z"
   },
   {
    "duration": 20,
    "start_time": "2022-05-08T08:40:56.166Z"
   },
   {
    "duration": 36,
    "start_time": "2022-05-08T08:40:56.187Z"
   },
   {
    "duration": 17,
    "start_time": "2022-05-08T08:40:56.225Z"
   },
   {
    "duration": 17,
    "start_time": "2022-05-08T08:40:56.244Z"
   },
   {
    "duration": 11,
    "start_time": "2022-05-08T08:40:56.262Z"
   },
   {
    "duration": 36,
    "start_time": "2022-05-08T08:40:56.275Z"
   },
   {
    "duration": 5,
    "start_time": "2022-05-08T08:40:56.313Z"
   },
   {
    "duration": 8,
    "start_time": "2022-05-08T08:40:56.320Z"
   },
   {
    "duration": 5,
    "start_time": "2022-05-08T08:40:56.330Z"
   },
   {
    "duration": 26,
    "start_time": "2022-05-08T08:40:56.337Z"
   },
   {
    "duration": 529,
    "start_time": "2022-05-08T08:40:56.365Z"
   },
   {
    "duration": 373,
    "start_time": "2022-05-08T08:40:56.896Z"
   },
   {
    "duration": 4,
    "start_time": "2022-05-08T08:41:46.599Z"
   },
   {
    "duration": 471,
    "start_time": "2022-05-08T08:41:51.238Z"
   },
   {
    "duration": 4,
    "start_time": "2022-05-08T08:42:25.788Z"
   },
   {
    "duration": 650,
    "start_time": "2022-05-08T08:42:29.748Z"
   },
   {
    "duration": 4,
    "start_time": "2022-05-08T08:43:08.348Z"
   },
   {
    "duration": 526,
    "start_time": "2022-05-08T08:43:12.658Z"
   },
   {
    "duration": 4,
    "start_time": "2022-05-08T08:43:46.748Z"
   },
   {
    "duration": 394,
    "start_time": "2022-05-08T08:43:51.032Z"
   },
   {
    "duration": 4,
    "start_time": "2022-05-08T08:45:20.138Z"
   },
   {
    "duration": 340,
    "start_time": "2022-05-08T08:45:24.692Z"
   },
   {
    "duration": 684,
    "start_time": "2022-05-08T08:49:05.303Z"
   },
   {
    "duration": 33,
    "start_time": "2022-05-08T08:49:05.990Z"
   },
   {
    "duration": 11,
    "start_time": "2022-05-08T08:49:06.025Z"
   },
   {
    "duration": 182,
    "start_time": "2022-05-08T08:49:06.038Z"
   },
   {
    "duration": 27,
    "start_time": "2022-05-08T08:49:06.222Z"
   },
   {
    "duration": 104,
    "start_time": "2022-05-08T08:49:06.250Z"
   },
   {
    "duration": 21,
    "start_time": "2022-05-08T08:49:06.355Z"
   },
   {
    "duration": 158,
    "start_time": "2022-05-08T08:49:06.377Z"
   },
   {
    "duration": 23,
    "start_time": "2022-05-08T08:49:06.536Z"
   },
   {
    "duration": 15,
    "start_time": "2022-05-08T08:49:06.561Z"
   },
   {
    "duration": 11,
    "start_time": "2022-05-08T08:49:06.577Z"
   },
   {
    "duration": 4,
    "start_time": "2022-05-08T08:49:06.607Z"
   },
   {
    "duration": 6,
    "start_time": "2022-05-08T08:49:06.613Z"
   },
   {
    "duration": 4,
    "start_time": "2022-05-08T08:49:06.622Z"
   },
   {
    "duration": 8,
    "start_time": "2022-05-08T08:49:06.627Z"
   },
   {
    "duration": 7,
    "start_time": "2022-05-08T08:49:06.637Z"
   },
   {
    "duration": 4,
    "start_time": "2022-05-08T08:49:06.646Z"
   },
   {
    "duration": 7,
    "start_time": "2022-05-08T08:49:06.652Z"
   },
   {
    "duration": 5,
    "start_time": "2022-05-08T08:49:06.660Z"
   },
   {
    "duration": 43,
    "start_time": "2022-05-08T08:49:06.666Z"
   },
   {
    "duration": 8,
    "start_time": "2022-05-08T08:49:06.710Z"
   },
   {
    "duration": 12,
    "start_time": "2022-05-08T08:49:06.719Z"
   },
   {
    "duration": 11,
    "start_time": "2022-05-08T08:49:06.733Z"
   },
   {
    "duration": 6,
    "start_time": "2022-05-08T08:49:06.745Z"
   },
   {
    "duration": 72,
    "start_time": "2022-05-08T08:49:06.752Z"
   },
   {
    "duration": 9,
    "start_time": "2022-05-08T08:49:06.826Z"
   },
   {
    "duration": 75,
    "start_time": "2022-05-08T08:49:06.837Z"
   },
   {
    "duration": 8,
    "start_time": "2022-05-08T08:49:06.914Z"
   },
   {
    "duration": 89,
    "start_time": "2022-05-08T08:49:06.923Z"
   },
   {
    "duration": 115,
    "start_time": "2022-05-08T08:49:07.014Z"
   },
   {
    "duration": 4,
    "start_time": "2022-05-08T08:49:07.131Z"
   },
   {
    "duration": 24,
    "start_time": "2022-05-08T08:49:07.137Z"
   },
   {
    "duration": 55,
    "start_time": "2022-05-08T08:49:07.162Z"
   },
   {
    "duration": 44,
    "start_time": "2022-05-08T08:49:07.218Z"
   },
   {
    "duration": 14,
    "start_time": "2022-05-08T08:49:07.264Z"
   },
   {
    "duration": 27,
    "start_time": "2022-05-08T08:49:07.280Z"
   },
   {
    "duration": 31,
    "start_time": "2022-05-08T08:49:07.309Z"
   },
   {
    "duration": 25,
    "start_time": "2022-05-08T08:49:07.342Z"
   },
   {
    "duration": 75,
    "start_time": "2022-05-08T08:49:07.369Z"
   },
   {
    "duration": 8,
    "start_time": "2022-05-08T08:49:07.446Z"
   },
   {
    "duration": 12,
    "start_time": "2022-05-08T08:49:07.458Z"
   },
   {
    "duration": 73,
    "start_time": "2022-05-08T08:49:07.472Z"
   },
   {
    "duration": 8,
    "start_time": "2022-05-08T08:49:07.547Z"
   },
   {
    "duration": 7,
    "start_time": "2022-05-08T08:49:07.557Z"
   },
   {
    "duration": 9,
    "start_time": "2022-05-08T08:49:07.566Z"
   },
   {
    "duration": 70,
    "start_time": "2022-05-08T08:49:07.577Z"
   },
   {
    "duration": 40,
    "start_time": "2022-05-08T08:49:07.649Z"
   },
   {
    "duration": 52,
    "start_time": "2022-05-08T08:49:07.691Z"
   },
   {
    "duration": 63,
    "start_time": "2022-05-08T08:49:07.744Z"
   },
   {
    "duration": 4,
    "start_time": "2022-05-08T08:49:07.809Z"
   },
   {
    "duration": 5,
    "start_time": "2022-05-08T08:49:07.814Z"
   },
   {
    "duration": 6,
    "start_time": "2022-05-08T08:49:07.821Z"
   },
   {
    "duration": 5,
    "start_time": "2022-05-08T08:49:07.829Z"
   },
   {
    "duration": 159,
    "start_time": "2022-05-08T08:49:07.836Z"
   },
   {
    "duration": 131,
    "start_time": "2022-05-08T08:49:07.997Z"
   },
   {
    "duration": 134,
    "start_time": "2022-05-08T08:49:08.130Z"
   },
   {
    "duration": 43,
    "start_time": "2022-05-08T08:49:08.266Z"
   },
   {
    "duration": 17,
    "start_time": "2022-05-08T08:49:08.311Z"
   },
   {
    "duration": 18,
    "start_time": "2022-05-08T08:49:08.329Z"
   },
   {
    "duration": 17,
    "start_time": "2022-05-08T08:49:08.349Z"
   },
   {
    "duration": 47,
    "start_time": "2022-05-08T08:49:08.368Z"
   },
   {
    "duration": 11,
    "start_time": "2022-05-08T08:49:08.416Z"
   },
   {
    "duration": 5,
    "start_time": "2022-05-08T08:49:08.429Z"
   },
   {
    "duration": 6,
    "start_time": "2022-05-08T08:49:08.436Z"
   },
   {
    "duration": 9,
    "start_time": "2022-05-08T08:49:08.443Z"
   },
   {
    "duration": 12,
    "start_time": "2022-05-08T08:49:08.454Z"
   },
   {
    "duration": 51,
    "start_time": "2022-05-08T08:49:08.467Z"
   },
   {
    "duration": 369,
    "start_time": "2022-05-08T08:49:08.520Z"
   },
   {
    "duration": 303,
    "start_time": "2022-05-08T08:49:08.892Z"
   },
   {
    "duration": 4,
    "start_time": "2022-05-08T08:58:37.207Z"
   },
   {
    "duration": 404,
    "start_time": "2022-05-08T08:58:41.718Z"
   },
   {
    "duration": 4,
    "start_time": "2022-05-08T08:59:11.907Z"
   },
   {
    "duration": 364,
    "start_time": "2022-05-08T08:59:16.137Z"
   },
   {
    "duration": 4,
    "start_time": "2022-05-08T09:00:22.487Z"
   },
   {
    "duration": 310,
    "start_time": "2022-05-08T09:00:30.027Z"
   },
   {
    "duration": 716,
    "start_time": "2022-05-08T09:02:13.928Z"
   },
   {
    "duration": 33,
    "start_time": "2022-05-08T09:02:14.646Z"
   },
   {
    "duration": 12,
    "start_time": "2022-05-08T09:02:14.681Z"
   },
   {
    "duration": 190,
    "start_time": "2022-05-08T09:02:14.694Z"
   },
   {
    "duration": 39,
    "start_time": "2022-05-08T09:02:14.886Z"
   },
   {
    "duration": 116,
    "start_time": "2022-05-08T09:02:14.926Z"
   },
   {
    "duration": 20,
    "start_time": "2022-05-08T09:02:15.044Z"
   },
   {
    "duration": 178,
    "start_time": "2022-05-08T09:02:15.066Z"
   },
   {
    "duration": 24,
    "start_time": "2022-05-08T09:02:15.245Z"
   },
   {
    "duration": 16,
    "start_time": "2022-05-08T09:02:15.270Z"
   },
   {
    "duration": 34,
    "start_time": "2022-05-08T09:02:15.287Z"
   },
   {
    "duration": 5,
    "start_time": "2022-05-08T09:02:15.323Z"
   },
   {
    "duration": 8,
    "start_time": "2022-05-08T09:02:15.330Z"
   },
   {
    "duration": 11,
    "start_time": "2022-05-08T09:02:15.341Z"
   },
   {
    "duration": 10,
    "start_time": "2022-05-08T09:02:15.354Z"
   },
   {
    "duration": 12,
    "start_time": "2022-05-08T09:02:15.366Z"
   },
   {
    "duration": 36,
    "start_time": "2022-05-08T09:02:15.379Z"
   },
   {
    "duration": 8,
    "start_time": "2022-05-08T09:02:15.418Z"
   },
   {
    "duration": 9,
    "start_time": "2022-05-08T09:02:15.428Z"
   },
   {
    "duration": 7,
    "start_time": "2022-05-08T09:02:15.439Z"
   },
   {
    "duration": 13,
    "start_time": "2022-05-08T09:02:15.448Z"
   },
   {
    "duration": 16,
    "start_time": "2022-05-08T09:02:15.463Z"
   },
   {
    "duration": 36,
    "start_time": "2022-05-08T09:02:15.481Z"
   },
   {
    "duration": 6,
    "start_time": "2022-05-08T09:02:15.520Z"
   },
   {
    "duration": 42,
    "start_time": "2022-05-08T09:02:15.529Z"
   },
   {
    "duration": 34,
    "start_time": "2022-05-08T09:02:15.573Z"
   },
   {
    "duration": 67,
    "start_time": "2022-05-08T09:02:15.610Z"
   },
   {
    "duration": 9,
    "start_time": "2022-05-08T09:02:15.678Z"
   },
   {
    "duration": 102,
    "start_time": "2022-05-08T09:02:15.689Z"
   },
   {
    "duration": 144,
    "start_time": "2022-05-08T09:02:15.793Z"
   },
   {
    "duration": 4,
    "start_time": "2022-05-08T09:02:15.939Z"
   },
   {
    "duration": 24,
    "start_time": "2022-05-08T09:02:15.944Z"
   },
   {
    "duration": 68,
    "start_time": "2022-05-08T09:02:15.970Z"
   },
   {
    "duration": 47,
    "start_time": "2022-05-08T09:02:16.040Z"
   },
   {
    "duration": 39,
    "start_time": "2022-05-08T09:02:16.088Z"
   },
   {
    "duration": 5,
    "start_time": "2022-05-08T09:02:16.129Z"
   },
   {
    "duration": 29,
    "start_time": "2022-05-08T09:02:16.136Z"
   },
   {
    "duration": 60,
    "start_time": "2022-05-08T09:02:16.167Z"
   },
   {
    "duration": 51,
    "start_time": "2022-05-08T09:02:16.229Z"
   },
   {
    "duration": 29,
    "start_time": "2022-05-08T09:02:16.281Z"
   },
   {
    "duration": 15,
    "start_time": "2022-05-08T09:02:16.317Z"
   },
   {
    "duration": 79,
    "start_time": "2022-05-08T09:02:16.334Z"
   },
   {
    "duration": 11,
    "start_time": "2022-05-08T09:02:16.416Z"
   },
   {
    "duration": 8,
    "start_time": "2022-05-08T09:02:16.429Z"
   },
   {
    "duration": 9,
    "start_time": "2022-05-08T09:02:16.439Z"
   },
   {
    "duration": 86,
    "start_time": "2022-05-08T09:02:16.450Z"
   },
   {
    "duration": 42,
    "start_time": "2022-05-08T09:02:16.538Z"
   },
   {
    "duration": 67,
    "start_time": "2022-05-08T09:02:16.582Z"
   },
   {
    "duration": 62,
    "start_time": "2022-05-08T09:02:16.651Z"
   },
   {
    "duration": 5,
    "start_time": "2022-05-08T09:02:16.716Z"
   },
   {
    "duration": 8,
    "start_time": "2022-05-08T09:02:16.723Z"
   },
   {
    "duration": 4,
    "start_time": "2022-05-08T09:02:16.733Z"
   },
   {
    "duration": 6,
    "start_time": "2022-05-08T09:02:16.739Z"
   },
   {
    "duration": 180,
    "start_time": "2022-05-08T09:02:16.747Z"
   },
   {
    "duration": 148,
    "start_time": "2022-05-08T09:02:16.928Z"
   },
   {
    "duration": 156,
    "start_time": "2022-05-08T09:02:17.078Z"
   },
   {
    "duration": 36,
    "start_time": "2022-05-08T09:02:17.235Z"
   },
   {
    "duration": 38,
    "start_time": "2022-05-08T09:02:17.272Z"
   },
   {
    "duration": 24,
    "start_time": "2022-05-08T09:02:17.312Z"
   },
   {
    "duration": 18,
    "start_time": "2022-05-08T09:02:17.337Z"
   },
   {
    "duration": 17,
    "start_time": "2022-05-08T09:02:17.357Z"
   },
   {
    "duration": 47,
    "start_time": "2022-05-08T09:02:17.376Z"
   },
   {
    "duration": 5,
    "start_time": "2022-05-08T09:02:17.425Z"
   },
   {
    "duration": 6,
    "start_time": "2022-05-08T09:02:17.432Z"
   },
   {
    "duration": 6,
    "start_time": "2022-05-08T09:02:17.439Z"
   },
   {
    "duration": 4,
    "start_time": "2022-05-08T09:02:17.447Z"
   },
   {
    "duration": 56,
    "start_time": "2022-05-08T09:02:17.453Z"
   },
   {
    "duration": 411,
    "start_time": "2022-05-08T09:02:17.512Z"
   },
   {
    "duration": 353,
    "start_time": "2022-05-08T09:02:17.925Z"
   },
   {
    "duration": 41,
    "start_time": "2022-05-08T09:02:18.280Z"
   },
   {
    "duration": 38,
    "start_time": "2022-05-08T09:03:18.141Z"
   },
   {
    "duration": 12,
    "start_time": "2022-05-08T09:03:53.717Z"
   },
   {
    "duration": 27,
    "start_time": "2022-05-08T09:05:22.776Z"
   },
   {
    "duration": 5,
    "start_time": "2022-05-08T09:05:54.116Z"
   },
   {
    "duration": 4,
    "start_time": "2022-05-08T09:06:36.665Z"
   },
   {
    "duration": 5,
    "start_time": "2022-05-08T09:08:36.676Z"
   },
   {
    "duration": 4,
    "start_time": "2022-05-08T09:11:59.571Z"
   },
   {
    "duration": 4,
    "start_time": "2022-05-08T09:12:29.972Z"
   },
   {
    "duration": 4,
    "start_time": "2022-05-08T09:12:53.980Z"
   },
   {
    "duration": 4,
    "start_time": "2022-05-08T09:17:13.020Z"
   },
   {
    "duration": 4,
    "start_time": "2022-05-08T09:17:36.079Z"
   },
   {
    "duration": 5,
    "start_time": "2022-05-08T09:18:39.850Z"
   },
   {
    "duration": 4,
    "start_time": "2022-05-08T09:20:20.705Z"
   },
   {
    "duration": 427,
    "start_time": "2022-05-08T09:23:43.179Z"
   },
   {
    "duration": 278,
    "start_time": "2022-05-08T09:23:59.568Z"
   },
   {
    "duration": 12,
    "start_time": "2022-05-08T09:31:25.645Z"
   },
   {
    "duration": 87,
    "start_time": "2022-05-08T09:52:53.387Z"
   },
   {
    "duration": 17,
    "start_time": "2022-05-08T09:53:40.562Z"
   },
   {
    "duration": 19,
    "start_time": "2022-05-08T09:54:15.573Z"
   },
   {
    "duration": 20,
    "start_time": "2022-05-08T09:54:47.654Z"
   },
   {
    "duration": 683,
    "start_time": "2022-05-08T09:57:22.157Z"
   },
   {
    "duration": 33,
    "start_time": "2022-05-08T09:57:22.842Z"
   },
   {
    "duration": 12,
    "start_time": "2022-05-08T09:57:22.877Z"
   },
   {
    "duration": 181,
    "start_time": "2022-05-08T09:57:22.891Z"
   },
   {
    "duration": 37,
    "start_time": "2022-05-08T09:57:23.073Z"
   },
   {
    "duration": 107,
    "start_time": "2022-05-08T09:57:23.112Z"
   },
   {
    "duration": 20,
    "start_time": "2022-05-08T09:57:23.221Z"
   },
   {
    "duration": 171,
    "start_time": "2022-05-08T09:57:23.243Z"
   },
   {
    "duration": 24,
    "start_time": "2022-05-08T09:57:23.416Z"
   },
   {
    "duration": 16,
    "start_time": "2022-05-08T09:57:23.443Z"
   },
   {
    "duration": 11,
    "start_time": "2022-05-08T09:57:23.461Z"
   },
   {
    "duration": 34,
    "start_time": "2022-05-08T09:57:23.474Z"
   },
   {
    "duration": 10,
    "start_time": "2022-05-08T09:57:23.510Z"
   },
   {
    "duration": 7,
    "start_time": "2022-05-08T09:57:23.521Z"
   },
   {
    "duration": 12,
    "start_time": "2022-05-08T09:57:23.529Z"
   },
   {
    "duration": 10,
    "start_time": "2022-05-08T09:57:23.543Z"
   },
   {
    "duration": 6,
    "start_time": "2022-05-08T09:57:23.555Z"
   },
   {
    "duration": 9,
    "start_time": "2022-05-08T09:57:23.563Z"
   },
   {
    "duration": 9,
    "start_time": "2022-05-08T09:57:23.574Z"
   },
   {
    "duration": 26,
    "start_time": "2022-05-08T09:57:23.585Z"
   },
   {
    "duration": 9,
    "start_time": "2022-05-08T09:57:23.614Z"
   },
   {
    "duration": 12,
    "start_time": "2022-05-08T09:57:23.625Z"
   },
   {
    "duration": 13,
    "start_time": "2022-05-08T09:57:23.640Z"
   },
   {
    "duration": 7,
    "start_time": "2022-05-08T09:57:23.655Z"
   },
   {
    "duration": 73,
    "start_time": "2022-05-08T09:57:23.663Z"
   },
   {
    "duration": 9,
    "start_time": "2022-05-08T09:57:23.738Z"
   },
   {
    "duration": 83,
    "start_time": "2022-05-08T09:57:23.750Z"
   },
   {
    "duration": 9,
    "start_time": "2022-05-08T09:57:23.838Z"
   },
   {
    "duration": 89,
    "start_time": "2022-05-08T09:57:23.848Z"
   },
   {
    "duration": 121,
    "start_time": "2022-05-08T09:57:23.939Z"
   },
   {
    "duration": 5,
    "start_time": "2022-05-08T09:57:24.062Z"
   },
   {
    "duration": 43,
    "start_time": "2022-05-08T09:57:24.069Z"
   },
   {
    "duration": 37,
    "start_time": "2022-05-08T09:57:24.114Z"
   },
   {
    "duration": 69,
    "start_time": "2022-05-08T09:57:24.152Z"
   },
   {
    "duration": 15,
    "start_time": "2022-05-08T09:57:24.223Z"
   },
   {
    "duration": 12,
    "start_time": "2022-05-08T09:57:24.239Z"
   },
   {
    "duration": 26,
    "start_time": "2022-05-08T09:57:24.253Z"
   },
   {
    "duration": 48,
    "start_time": "2022-05-08T09:57:24.281Z"
   },
   {
    "duration": 50,
    "start_time": "2022-05-08T09:57:24.331Z"
   },
   {
    "duration": 29,
    "start_time": "2022-05-08T09:57:24.383Z"
   },
   {
    "duration": 13,
    "start_time": "2022-05-08T09:57:24.413Z"
   },
   {
    "duration": 56,
    "start_time": "2022-05-08T09:57:24.428Z"
   },
   {
    "duration": 27,
    "start_time": "2022-05-08T09:57:24.486Z"
   },
   {
    "duration": 10,
    "start_time": "2022-05-08T09:57:24.515Z"
   },
   {
    "duration": 10,
    "start_time": "2022-05-08T09:57:24.527Z"
   },
   {
    "duration": 76,
    "start_time": "2022-05-08T09:57:24.539Z"
   },
   {
    "duration": 44,
    "start_time": "2022-05-08T09:57:24.617Z"
   },
   {
    "duration": 65,
    "start_time": "2022-05-08T09:57:24.663Z"
   },
   {
    "duration": 51,
    "start_time": "2022-05-08T09:57:24.730Z"
   },
   {
    "duration": 4,
    "start_time": "2022-05-08T09:57:24.783Z"
   },
   {
    "duration": 6,
    "start_time": "2022-05-08T09:57:24.808Z"
   },
   {
    "duration": 8,
    "start_time": "2022-05-08T09:57:24.816Z"
   },
   {
    "duration": 6,
    "start_time": "2022-05-08T09:57:24.826Z"
   },
   {
    "duration": 165,
    "start_time": "2022-05-08T09:57:24.834Z"
   },
   {
    "duration": 130,
    "start_time": "2022-05-08T09:57:25.001Z"
   },
   {
    "duration": 140,
    "start_time": "2022-05-08T09:57:25.132Z"
   },
   {
    "duration": 47,
    "start_time": "2022-05-08T09:57:25.274Z"
   },
   {
    "duration": 20,
    "start_time": "2022-05-08T09:57:25.323Z"
   },
   {
    "duration": 19,
    "start_time": "2022-05-08T09:57:25.345Z"
   },
   {
    "duration": 43,
    "start_time": "2022-05-08T09:57:25.365Z"
   },
   {
    "duration": 18,
    "start_time": "2022-05-08T09:57:25.410Z"
   },
   {
    "duration": 10,
    "start_time": "2022-05-08T09:57:25.430Z"
   },
   {
    "duration": 7,
    "start_time": "2022-05-08T09:57:25.442Z"
   },
   {
    "duration": 5,
    "start_time": "2022-05-08T09:57:25.451Z"
   },
   {
    "duration": 7,
    "start_time": "2022-05-08T09:57:25.457Z"
   },
   {
    "duration": 4,
    "start_time": "2022-05-08T09:57:25.466Z"
   },
   {
    "duration": 60,
    "start_time": "2022-05-08T09:57:25.471Z"
   },
   {
    "duration": 393,
    "start_time": "2022-05-08T09:57:25.532Z"
   },
   {
    "duration": 364,
    "start_time": "2022-05-08T09:57:25.926Z"
   },
   {
    "duration": 33,
    "start_time": "2022-05-08T09:57:26.292Z"
   },
   {
    "duration": 384,
    "start_time": "2022-05-08T09:57:26.327Z"
   },
   {
    "duration": 312,
    "start_time": "2022-05-08T09:57:26.712Z"
   },
   {
    "duration": 31,
    "start_time": "2022-05-08T09:58:44.292Z"
   },
   {
    "duration": 6,
    "start_time": "2022-05-08T10:01:11.194Z"
   },
   {
    "duration": 24,
    "start_time": "2022-05-08T10:03:05.100Z"
   },
   {
    "duration": 726,
    "start_time": "2022-05-08T10:04:52.778Z"
   },
   {
    "duration": 38,
    "start_time": "2022-05-08T10:04:53.506Z"
   },
   {
    "duration": 17,
    "start_time": "2022-05-08T10:04:53.546Z"
   },
   {
    "duration": 206,
    "start_time": "2022-05-08T10:04:53.565Z"
   },
   {
    "duration": 37,
    "start_time": "2022-05-08T10:04:53.773Z"
   },
   {
    "duration": 116,
    "start_time": "2022-05-08T10:04:53.812Z"
   },
   {
    "duration": 31,
    "start_time": "2022-05-08T10:04:53.930Z"
   },
   {
    "duration": 161,
    "start_time": "2022-05-08T10:04:53.963Z"
   },
   {
    "duration": 24,
    "start_time": "2022-05-08T10:04:54.126Z"
   },
   {
    "duration": 15,
    "start_time": "2022-05-08T10:04:54.152Z"
   },
   {
    "duration": 10,
    "start_time": "2022-05-08T10:04:54.169Z"
   },
   {
    "duration": 32,
    "start_time": "2022-05-08T10:04:54.180Z"
   },
   {
    "duration": 9,
    "start_time": "2022-05-08T10:04:54.214Z"
   },
   {
    "duration": 5,
    "start_time": "2022-05-08T10:04:54.226Z"
   },
   {
    "duration": 12,
    "start_time": "2022-05-08T10:04:54.233Z"
   },
   {
    "duration": 10,
    "start_time": "2022-05-08T10:04:54.248Z"
   },
   {
    "duration": 4,
    "start_time": "2022-05-08T10:04:54.260Z"
   },
   {
    "duration": 43,
    "start_time": "2022-05-08T10:04:54.266Z"
   },
   {
    "duration": 8,
    "start_time": "2022-05-08T10:04:54.311Z"
   },
   {
    "duration": 6,
    "start_time": "2022-05-08T10:04:54.321Z"
   },
   {
    "duration": 13,
    "start_time": "2022-05-08T10:04:54.329Z"
   },
   {
    "duration": 13,
    "start_time": "2022-05-08T10:04:54.344Z"
   },
   {
    "duration": 53,
    "start_time": "2022-05-08T10:04:54.359Z"
   },
   {
    "duration": 6,
    "start_time": "2022-05-08T10:04:54.413Z"
   },
   {
    "duration": 55,
    "start_time": "2022-05-08T10:04:54.421Z"
   },
   {
    "duration": 39,
    "start_time": "2022-05-08T10:04:54.478Z"
   },
   {
    "duration": 106,
    "start_time": "2022-05-08T10:04:54.519Z"
   },
   {
    "duration": 65,
    "start_time": "2022-05-08T10:05:05.860Z"
   },
   {
    "duration": 9,
    "start_time": "2022-05-08T10:05:07.110Z"
   },
   {
    "duration": 3,
    "start_time": "2022-05-08T10:05:52.671Z"
   },
   {
    "duration": 31,
    "start_time": "2022-05-08T10:05:52.677Z"
   },
   {
    "duration": 12,
    "start_time": "2022-05-08T10:05:52.710Z"
   },
   {
    "duration": 200,
    "start_time": "2022-05-08T10:05:52.725Z"
   },
   {
    "duration": 28,
    "start_time": "2022-05-08T10:05:52.927Z"
   },
   {
    "duration": 113,
    "start_time": "2022-05-08T10:05:52.957Z"
   },
   {
    "duration": 37,
    "start_time": "2022-05-08T10:05:53.071Z"
   },
   {
    "duration": 158,
    "start_time": "2022-05-08T10:05:53.110Z"
   },
   {
    "duration": 23,
    "start_time": "2022-05-08T10:05:53.271Z"
   },
   {
    "duration": 19,
    "start_time": "2022-05-08T10:05:53.308Z"
   },
   {
    "duration": 11,
    "start_time": "2022-05-08T10:05:53.329Z"
   },
   {
    "duration": 6,
    "start_time": "2022-05-08T10:05:53.342Z"
   },
   {
    "duration": 5,
    "start_time": "2022-05-08T10:05:53.350Z"
   },
   {
    "duration": 9,
    "start_time": "2022-05-08T10:05:53.357Z"
   },
   {
    "duration": 8,
    "start_time": "2022-05-08T10:05:53.368Z"
   },
   {
    "duration": 9,
    "start_time": "2022-05-08T10:05:53.408Z"
   },
   {
    "duration": 5,
    "start_time": "2022-05-08T10:05:53.420Z"
   },
   {
    "duration": 13,
    "start_time": "2022-05-08T10:05:53.427Z"
   },
   {
    "duration": 7,
    "start_time": "2022-05-08T10:05:53.441Z"
   },
   {
    "duration": 6,
    "start_time": "2022-05-08T10:05:53.450Z"
   },
   {
    "duration": 8,
    "start_time": "2022-05-08T10:05:53.459Z"
   },
   {
    "duration": 51,
    "start_time": "2022-05-08T10:05:53.469Z"
   },
   {
    "duration": 14,
    "start_time": "2022-05-08T10:05:53.524Z"
   },
   {
    "duration": 7,
    "start_time": "2022-05-08T10:05:53.540Z"
   },
   {
    "duration": 84,
    "start_time": "2022-05-08T10:05:53.550Z"
   },
   {
    "duration": 13,
    "start_time": "2022-05-08T10:05:53.636Z"
   },
   {
    "duration": 73,
    "start_time": "2022-05-08T10:05:53.650Z"
   },
   {
    "duration": 9,
    "start_time": "2022-05-08T10:05:53.725Z"
   },
   {
    "duration": 84,
    "start_time": "2022-05-08T10:05:53.736Z"
   },
   {
    "duration": 106,
    "start_time": "2022-05-08T10:05:53.822Z"
   },
   {
    "duration": 78,
    "start_time": "2022-05-08T10:06:43.201Z"
   },
   {
    "duration": 12,
    "start_time": "2022-05-08T10:07:20.881Z"
   },
   {
    "duration": 11,
    "start_time": "2022-05-08T10:07:59.602Z"
   },
   {
    "duration": 9,
    "start_time": "2022-05-08T10:08:47.708Z"
   },
   {
    "duration": 8,
    "start_time": "2022-05-08T10:17:15.357Z"
   },
   {
    "duration": 12,
    "start_time": "2022-05-08T10:18:24.980Z"
   },
   {
    "duration": 15,
    "start_time": "2022-05-08T10:22:56.533Z"
   },
   {
    "duration": 13,
    "start_time": "2022-05-08T10:23:32.518Z"
   },
   {
    "duration": 18,
    "start_time": "2022-05-08T10:24:20.773Z"
   },
   {
    "duration": 15,
    "start_time": "2022-05-08T10:24:38.451Z"
   },
   {
    "duration": 701,
    "start_time": "2022-05-08T11:03:14.924Z"
   },
   {
    "duration": 33,
    "start_time": "2022-05-08T11:03:15.627Z"
   },
   {
    "duration": 12,
    "start_time": "2022-05-08T11:03:15.662Z"
   },
   {
    "duration": 191,
    "start_time": "2022-05-08T11:03:15.676Z"
   },
   {
    "duration": 26,
    "start_time": "2022-05-08T11:03:15.869Z"
   },
   {
    "duration": 109,
    "start_time": "2022-05-08T11:03:15.897Z"
   },
   {
    "duration": 21,
    "start_time": "2022-05-08T11:03:16.008Z"
   },
   {
    "duration": 158,
    "start_time": "2022-05-08T11:03:16.031Z"
   },
   {
    "duration": 29,
    "start_time": "2022-05-08T11:03:16.190Z"
   },
   {
    "duration": 17,
    "start_time": "2022-05-08T11:03:16.220Z"
   },
   {
    "duration": 11,
    "start_time": "2022-05-08T11:03:16.239Z"
   },
   {
    "duration": 5,
    "start_time": "2022-05-08T11:03:16.252Z"
   },
   {
    "duration": 7,
    "start_time": "2022-05-08T11:03:16.259Z"
   },
   {
    "duration": 3,
    "start_time": "2022-05-08T11:03:16.269Z"
   },
   {
    "duration": 36,
    "start_time": "2022-05-08T11:03:16.274Z"
   },
   {
    "duration": 6,
    "start_time": "2022-05-08T11:03:16.312Z"
   },
   {
    "duration": 5,
    "start_time": "2022-05-08T11:03:16.320Z"
   },
   {
    "duration": 6,
    "start_time": "2022-05-08T11:03:16.327Z"
   },
   {
    "duration": 7,
    "start_time": "2022-05-08T11:03:16.334Z"
   },
   {
    "duration": 5,
    "start_time": "2022-05-08T11:03:16.343Z"
   },
   {
    "duration": 8,
    "start_time": "2022-05-08T11:03:16.349Z"
   },
   {
    "duration": 54,
    "start_time": "2022-05-08T11:03:16.359Z"
   },
   {
    "duration": 15,
    "start_time": "2022-05-08T11:03:16.414Z"
   },
   {
    "duration": 5,
    "start_time": "2022-05-08T11:03:16.431Z"
   },
   {
    "duration": 35,
    "start_time": "2022-05-08T11:03:16.438Z"
   },
   {
    "duration": 34,
    "start_time": "2022-05-08T11:03:16.475Z"
   },
   {
    "duration": 61,
    "start_time": "2022-05-08T11:03:16.511Z"
   },
   {
    "duration": 9,
    "start_time": "2022-05-08T11:03:16.574Z"
   },
   {
    "duration": 90,
    "start_time": "2022-05-08T11:03:16.584Z"
   },
   {
    "duration": 118,
    "start_time": "2022-05-08T11:03:16.676Z"
   },
   {
    "duration": 4,
    "start_time": "2022-05-08T11:03:16.796Z"
   },
   {
    "duration": 24,
    "start_time": "2022-05-08T11:03:16.807Z"
   },
   {
    "duration": 34,
    "start_time": "2022-05-08T11:03:16.833Z"
   },
   {
    "duration": 72,
    "start_time": "2022-05-08T11:03:16.868Z"
   },
   {
    "duration": 14,
    "start_time": "2022-05-08T11:03:16.941Z"
   },
   {
    "duration": 4,
    "start_time": "2022-05-08T11:03:16.957Z"
   },
   {
    "duration": 45,
    "start_time": "2022-05-08T11:03:16.963Z"
   },
   {
    "duration": 27,
    "start_time": "2022-05-08T11:03:17.009Z"
   },
   {
    "duration": 71,
    "start_time": "2022-05-08T11:03:17.037Z"
   },
   {
    "duration": 10,
    "start_time": "2022-05-08T11:03:17.110Z"
   },
   {
    "duration": 11,
    "start_time": "2022-05-08T11:03:17.125Z"
   },
   {
    "duration": 80,
    "start_time": "2022-05-08T11:03:17.137Z"
   },
   {
    "duration": 8,
    "start_time": "2022-05-08T11:03:17.219Z"
   },
   {
    "duration": 9,
    "start_time": "2022-05-08T11:03:17.229Z"
   },
   {
    "duration": 11,
    "start_time": "2022-05-08T11:03:17.239Z"
   },
   {
    "duration": 70,
    "start_time": "2022-05-08T11:03:17.251Z"
   },
   {
    "duration": 43,
    "start_time": "2022-05-08T11:03:17.322Z"
   },
   {
    "duration": 63,
    "start_time": "2022-05-08T11:03:17.366Z"
   },
   {
    "duration": 47,
    "start_time": "2022-05-08T11:03:17.430Z"
   },
   {
    "duration": 4,
    "start_time": "2022-05-08T11:03:17.479Z"
   },
   {
    "duration": 24,
    "start_time": "2022-05-08T11:03:17.484Z"
   },
   {
    "duration": 8,
    "start_time": "2022-05-08T11:03:17.509Z"
   },
   {
    "duration": 4,
    "start_time": "2022-05-08T11:03:17.519Z"
   },
   {
    "duration": 153,
    "start_time": "2022-05-08T11:03:17.525Z"
   },
   {
    "duration": 134,
    "start_time": "2022-05-08T11:03:17.679Z"
   },
   {
    "duration": 133,
    "start_time": "2022-05-08T11:03:17.814Z"
   },
   {
    "duration": 35,
    "start_time": "2022-05-08T11:03:17.948Z"
   },
   {
    "duration": 40,
    "start_time": "2022-05-08T11:03:17.985Z"
   },
   {
    "duration": 18,
    "start_time": "2022-05-08T11:03:18.027Z"
   },
   {
    "duration": 18,
    "start_time": "2022-05-08T11:03:18.046Z"
   },
   {
    "duration": 43,
    "start_time": "2022-05-08T11:03:18.065Z"
   },
   {
    "duration": 12,
    "start_time": "2022-05-08T11:03:18.110Z"
   },
   {
    "duration": 5,
    "start_time": "2022-05-08T11:03:18.124Z"
   },
   {
    "duration": 8,
    "start_time": "2022-05-08T11:03:18.131Z"
   },
   {
    "duration": 7,
    "start_time": "2022-05-08T11:03:18.141Z"
   },
   {
    "duration": 5,
    "start_time": "2022-05-08T11:03:18.149Z"
   },
   {
    "duration": 69,
    "start_time": "2022-05-08T11:03:18.155Z"
   },
   {
    "duration": 386,
    "start_time": "2022-05-08T11:03:18.226Z"
   },
   {
    "duration": 376,
    "start_time": "2022-05-08T11:03:18.614Z"
   },
   {
    "duration": 38,
    "start_time": "2022-05-08T11:03:18.992Z"
   },
   {
    "duration": 401,
    "start_time": "2022-05-08T11:03:19.032Z"
   },
   {
    "duration": 315,
    "start_time": "2022-05-08T11:03:19.435Z"
   },
   {
    "duration": 30,
    "start_time": "2022-05-08T11:03:19.752Z"
   },
   {
    "duration": 30,
    "start_time": "2022-05-08T11:03:19.783Z"
   },
   {
    "duration": 12,
    "start_time": "2022-05-08T11:08:50.202Z"
   },
   {
    "duration": 16,
    "start_time": "2022-05-08T11:11:08.764Z"
   },
   {
    "duration": 8,
    "start_time": "2022-05-08T11:21:43.349Z"
   },
   {
    "duration": 699,
    "start_time": "2022-05-08T11:33:20.281Z"
   },
   {
    "duration": 28,
    "start_time": "2022-05-08T11:33:20.982Z"
   },
   {
    "duration": 12,
    "start_time": "2022-05-08T11:33:21.012Z"
   },
   {
    "duration": 186,
    "start_time": "2022-05-08T11:33:21.027Z"
   },
   {
    "duration": 28,
    "start_time": "2022-05-08T11:33:21.216Z"
   },
   {
    "duration": 110,
    "start_time": "2022-05-08T11:33:21.246Z"
   },
   {
    "duration": 20,
    "start_time": "2022-05-08T11:33:21.359Z"
   },
   {
    "duration": 162,
    "start_time": "2022-05-08T11:33:21.381Z"
   },
   {
    "duration": 23,
    "start_time": "2022-05-08T11:33:21.545Z"
   },
   {
    "duration": 17,
    "start_time": "2022-05-08T11:33:21.571Z"
   },
   {
    "duration": 26,
    "start_time": "2022-05-08T11:33:21.590Z"
   },
   {
    "duration": 6,
    "start_time": "2022-05-08T11:33:21.618Z"
   },
   {
    "duration": 5,
    "start_time": "2022-05-08T11:33:21.625Z"
   },
   {
    "duration": 8,
    "start_time": "2022-05-08T11:33:21.632Z"
   },
   {
    "duration": 16,
    "start_time": "2022-05-08T11:33:21.641Z"
   },
   {
    "duration": 13,
    "start_time": "2022-05-08T11:33:21.659Z"
   },
   {
    "duration": 10,
    "start_time": "2022-05-08T11:33:21.673Z"
   },
   {
    "duration": 24,
    "start_time": "2022-05-08T11:33:21.684Z"
   },
   {
    "duration": 5,
    "start_time": "2022-05-08T11:33:21.710Z"
   },
   {
    "duration": 5,
    "start_time": "2022-05-08T11:33:21.717Z"
   },
   {
    "duration": 7,
    "start_time": "2022-05-08T11:33:21.724Z"
   },
   {
    "duration": 11,
    "start_time": "2022-05-08T11:33:21.733Z"
   },
   {
    "duration": 14,
    "start_time": "2022-05-08T11:33:21.746Z"
   },
   {
    "duration": 79,
    "start_time": "2022-05-08T11:33:31.691Z"
   },
   {
    "duration": 15,
    "start_time": "2022-05-08T11:34:03.662Z"
   },
   {
    "duration": 5,
    "start_time": "2022-05-08T11:39:32.391Z"
   },
   {
    "duration": 22,
    "start_time": "2022-05-08T11:39:54.912Z"
   },
   {
    "duration": 8,
    "start_time": "2022-05-08T11:44:01.617Z"
   },
   {
    "duration": 5,
    "start_time": "2022-05-08T11:44:23.477Z"
   },
   {
    "duration": 6,
    "start_time": "2022-05-08T11:44:35.906Z"
   },
   {
    "duration": 13,
    "start_time": "2022-05-08T11:46:33.787Z"
   },
   {
    "duration": 27,
    "start_time": "2022-05-08T11:53:58.601Z"
   },
   {
    "duration": 655,
    "start_time": "2022-05-08T11:57:05.125Z"
   },
   {
    "duration": 39,
    "start_time": "2022-05-08T11:57:05.782Z"
   },
   {
    "duration": 13,
    "start_time": "2022-05-08T11:57:05.823Z"
   },
   {
    "duration": 191,
    "start_time": "2022-05-08T11:57:05.838Z"
   },
   {
    "duration": 26,
    "start_time": "2022-05-08T11:57:06.032Z"
   },
   {
    "duration": 113,
    "start_time": "2022-05-08T11:57:06.060Z"
   },
   {
    "duration": 20,
    "start_time": "2022-05-08T11:57:06.175Z"
   },
   {
    "duration": 151,
    "start_time": "2022-05-08T11:57:06.208Z"
   },
   {
    "duration": 22,
    "start_time": "2022-05-08T11:57:06.361Z"
   },
   {
    "duration": 28,
    "start_time": "2022-05-08T11:57:06.385Z"
   },
   {
    "duration": 11,
    "start_time": "2022-05-08T11:57:06.415Z"
   },
   {
    "duration": 5,
    "start_time": "2022-05-08T11:57:06.428Z"
   },
   {
    "duration": 7,
    "start_time": "2022-05-08T11:57:06.435Z"
   },
   {
    "duration": 4,
    "start_time": "2022-05-08T11:57:06.444Z"
   },
   {
    "duration": 10,
    "start_time": "2022-05-08T11:57:06.450Z"
   },
   {
    "duration": 8,
    "start_time": "2022-05-08T11:57:06.461Z"
   },
   {
    "duration": 5,
    "start_time": "2022-05-08T11:57:06.471Z"
   },
   {
    "duration": 7,
    "start_time": "2022-05-08T11:57:06.508Z"
   },
   {
    "duration": 6,
    "start_time": "2022-05-08T11:57:06.517Z"
   },
   {
    "duration": 6,
    "start_time": "2022-05-08T11:57:06.524Z"
   },
   {
    "duration": 7,
    "start_time": "2022-05-08T11:57:06.532Z"
   },
   {
    "duration": 12,
    "start_time": "2022-05-08T11:57:06.541Z"
   },
   {
    "duration": 13,
    "start_time": "2022-05-08T11:57:06.554Z"
   },
   {
    "duration": 16,
    "start_time": "2022-05-08T11:57:06.607Z"
   },
   {
    "duration": 30,
    "start_time": "2022-05-08T11:57:06.625Z"
   },
   {
    "duration": 4,
    "start_time": "2022-05-08T11:57:06.657Z"
   },
   {
    "duration": 3,
    "start_time": "2022-05-08T11:57:37.292Z"
   },
   {
    "duration": 33,
    "start_time": "2022-05-08T11:57:37.297Z"
   },
   {
    "duration": 11,
    "start_time": "2022-05-08T11:57:37.331Z"
   },
   {
    "duration": 178,
    "start_time": "2022-05-08T11:57:37.343Z"
   },
   {
    "duration": 26,
    "start_time": "2022-05-08T11:57:37.524Z"
   },
   {
    "duration": 106,
    "start_time": "2022-05-08T11:57:37.551Z"
   },
   {
    "duration": 20,
    "start_time": "2022-05-08T11:57:37.658Z"
   },
   {
    "duration": 142,
    "start_time": "2022-05-08T11:57:37.680Z"
   },
   {
    "duration": 22,
    "start_time": "2022-05-08T11:57:37.824Z"
   },
   {
    "duration": 15,
    "start_time": "2022-05-08T11:57:37.847Z"
   },
   {
    "duration": 9,
    "start_time": "2022-05-08T11:57:37.864Z"
   },
   {
    "duration": 4,
    "start_time": "2022-05-08T11:57:37.875Z"
   },
   {
    "duration": 29,
    "start_time": "2022-05-08T11:57:37.881Z"
   },
   {
    "duration": 5,
    "start_time": "2022-05-08T11:57:37.913Z"
   },
   {
    "duration": 6,
    "start_time": "2022-05-08T11:57:37.919Z"
   },
   {
    "duration": 7,
    "start_time": "2022-05-08T11:57:37.927Z"
   },
   {
    "duration": 5,
    "start_time": "2022-05-08T11:57:37.936Z"
   },
   {
    "duration": 7,
    "start_time": "2022-05-08T11:57:37.942Z"
   },
   {
    "duration": 7,
    "start_time": "2022-05-08T11:57:37.950Z"
   },
   {
    "duration": 6,
    "start_time": "2022-05-08T11:57:37.958Z"
   },
   {
    "duration": 44,
    "start_time": "2022-05-08T11:57:37.965Z"
   },
   {
    "duration": 11,
    "start_time": "2022-05-08T11:57:38.010Z"
   },
   {
    "duration": 11,
    "start_time": "2022-05-08T11:57:38.023Z"
   },
   {
    "duration": 14,
    "start_time": "2022-05-08T11:57:38.036Z"
   },
   {
    "duration": 58,
    "start_time": "2022-05-08T11:57:38.051Z"
   },
   {
    "duration": 4,
    "start_time": "2022-05-08T11:57:38.110Z"
   },
   {
    "duration": 6,
    "start_time": "2022-05-08T11:57:38.116Z"
   },
   {
    "duration": 32,
    "start_time": "2022-05-08T11:57:38.124Z"
   },
   {
    "duration": 9,
    "start_time": "2022-05-08T11:57:38.158Z"
   },
   {
    "duration": 88,
    "start_time": "2022-05-08T11:57:38.169Z"
   },
   {
    "duration": 8,
    "start_time": "2022-05-08T11:57:38.259Z"
   },
   {
    "duration": 81,
    "start_time": "2022-05-08T11:57:38.269Z"
   },
   {
    "duration": 104,
    "start_time": "2022-05-08T11:57:38.352Z"
   },
   {
    "duration": 5,
    "start_time": "2022-05-08T11:57:38.458Z"
   },
   {
    "duration": 23,
    "start_time": "2022-05-08T11:57:38.464Z"
   },
   {
    "duration": 43,
    "start_time": "2022-05-08T11:57:38.488Z"
   },
   {
    "duration": 40,
    "start_time": "2022-05-08T11:57:38.533Z"
   },
   {
    "duration": 34,
    "start_time": "2022-05-08T11:57:38.575Z"
   },
   {
    "duration": 4,
    "start_time": "2022-05-08T11:57:38.611Z"
   },
   {
    "duration": 25,
    "start_time": "2022-05-08T11:57:38.617Z"
   },
   {
    "duration": 23,
    "start_time": "2022-05-08T11:57:38.645Z"
   },
   {
    "duration": 69,
    "start_time": "2022-05-08T11:57:38.670Z"
   },
   {
    "duration": 10,
    "start_time": "2022-05-08T11:57:38.740Z"
   },
   {
    "duration": 12,
    "start_time": "2022-05-08T11:57:38.751Z"
   },
   {
    "duration": 2,
    "start_time": "2022-05-08T11:58:24.613Z"
   },
   {
    "duration": 30,
    "start_time": "2022-05-08T11:58:24.617Z"
   },
   {
    "duration": 10,
    "start_time": "2022-05-08T11:58:24.648Z"
   },
   {
    "duration": 176,
    "start_time": "2022-05-08T11:58:24.660Z"
   },
   {
    "duration": 27,
    "start_time": "2022-05-08T11:58:24.838Z"
   },
   {
    "duration": 117,
    "start_time": "2022-05-08T11:58:24.866Z"
   },
   {
    "duration": 34,
    "start_time": "2022-05-08T11:58:24.985Z"
   },
   {
    "duration": 131,
    "start_time": "2022-05-08T11:58:25.021Z"
   },
   {
    "duration": 23,
    "start_time": "2022-05-08T11:58:25.153Z"
   },
   {
    "duration": 29,
    "start_time": "2022-05-08T11:58:25.178Z"
   },
   {
    "duration": 11,
    "start_time": "2022-05-08T11:58:25.209Z"
   },
   {
    "duration": 6,
    "start_time": "2022-05-08T11:58:25.221Z"
   },
   {
    "duration": 8,
    "start_time": "2022-05-08T11:58:25.229Z"
   },
   {
    "duration": 4,
    "start_time": "2022-05-08T11:58:25.239Z"
   },
   {
    "duration": 12,
    "start_time": "2022-05-08T11:58:25.244Z"
   },
   {
    "duration": 7,
    "start_time": "2022-05-08T11:58:25.258Z"
   },
   {
    "duration": 4,
    "start_time": "2022-05-08T11:58:25.267Z"
   },
   {
    "duration": 36,
    "start_time": "2022-05-08T11:58:25.272Z"
   },
   {
    "duration": 6,
    "start_time": "2022-05-08T11:58:25.310Z"
   },
   {
    "duration": 5,
    "start_time": "2022-05-08T11:58:25.317Z"
   },
   {
    "duration": 7,
    "start_time": "2022-05-08T11:58:25.323Z"
   },
   {
    "duration": 11,
    "start_time": "2022-05-08T11:58:25.332Z"
   },
   {
    "duration": 10,
    "start_time": "2022-05-08T11:58:25.345Z"
   },
   {
    "duration": 51,
    "start_time": "2022-05-08T11:58:25.357Z"
   },
   {
    "duration": 27,
    "start_time": "2022-05-08T11:58:25.410Z"
   },
   {
    "duration": 4,
    "start_time": "2022-05-08T11:58:25.439Z"
   },
   {
    "duration": 6,
    "start_time": "2022-05-08T11:58:25.445Z"
   },
   {
    "duration": 65,
    "start_time": "2022-05-08T11:58:25.454Z"
   },
   {
    "duration": 9,
    "start_time": "2022-05-08T11:58:25.521Z"
   },
   {
    "duration": 52,
    "start_time": "2022-05-08T11:58:25.532Z"
   },
   {
    "duration": 24,
    "start_time": "2022-05-08T11:58:25.585Z"
   },
   {
    "duration": 59,
    "start_time": "2022-05-08T11:58:25.610Z"
   },
   {
    "duration": 112,
    "start_time": "2022-05-08T11:58:25.671Z"
   },
   {
    "duration": 4,
    "start_time": "2022-05-08T11:58:25.785Z"
   },
   {
    "duration": 36,
    "start_time": "2022-05-08T11:58:25.791Z"
   },
   {
    "duration": 29,
    "start_time": "2022-05-08T11:58:25.828Z"
   },
   {
    "duration": 54,
    "start_time": "2022-05-08T11:58:25.859Z"
   },
   {
    "duration": 14,
    "start_time": "2022-05-08T11:58:25.915Z"
   },
   {
    "duration": 6,
    "start_time": "2022-05-08T11:58:25.930Z"
   },
   {
    "duration": 26,
    "start_time": "2022-05-08T11:58:25.937Z"
   },
   {
    "duration": 48,
    "start_time": "2022-05-08T11:58:25.967Z"
   },
   {
    "duration": 38,
    "start_time": "2022-05-08T11:58:26.017Z"
   },
   {
    "duration": 10,
    "start_time": "2022-05-08T11:58:26.056Z"
   },
   {
    "duration": 11,
    "start_time": "2022-05-08T11:58:26.067Z"
   },
   {
    "duration": 50,
    "start_time": "2022-05-08T11:58:26.107Z"
   },
   {
    "duration": 7,
    "start_time": "2022-05-08T11:58:26.159Z"
   },
   {
    "duration": 8,
    "start_time": "2022-05-08T11:58:26.168Z"
   },
   {
    "duration": 30,
    "start_time": "2022-05-08T11:58:26.178Z"
   },
   {
    "duration": 39,
    "start_time": "2022-05-08T11:58:26.210Z"
   },
   {
    "duration": 59,
    "start_time": "2022-05-08T11:58:26.251Z"
   },
   {
    "duration": 40,
    "start_time": "2022-05-08T11:58:26.311Z"
   },
   {
    "duration": 60,
    "start_time": "2022-05-08T11:58:26.352Z"
   },
   {
    "duration": 2,
    "start_time": "2022-05-08T11:59:02.924Z"
   },
   {
    "duration": 30,
    "start_time": "2022-05-08T11:59:02.929Z"
   },
   {
    "duration": 11,
    "start_time": "2022-05-08T11:59:02.960Z"
   },
   {
    "duration": 169,
    "start_time": "2022-05-08T11:59:02.973Z"
   },
   {
    "duration": 27,
    "start_time": "2022-05-08T11:59:03.144Z"
   },
   {
    "duration": 115,
    "start_time": "2022-05-08T11:59:03.172Z"
   },
   {
    "duration": 33,
    "start_time": "2022-05-08T11:59:03.289Z"
   },
   {
    "duration": 148,
    "start_time": "2022-05-08T11:59:03.324Z"
   },
   {
    "duration": 22,
    "start_time": "2022-05-08T11:59:03.475Z"
   },
   {
    "duration": 16,
    "start_time": "2022-05-08T11:59:03.508Z"
   },
   {
    "duration": 11,
    "start_time": "2022-05-08T11:59:03.525Z"
   },
   {
    "duration": 5,
    "start_time": "2022-05-08T11:59:03.538Z"
   },
   {
    "duration": 4,
    "start_time": "2022-05-08T11:59:03.545Z"
   },
   {
    "duration": 8,
    "start_time": "2022-05-08T11:59:03.551Z"
   },
   {
    "duration": 6,
    "start_time": "2022-05-08T11:59:03.561Z"
   },
   {
    "duration": 43,
    "start_time": "2022-05-08T11:59:03.569Z"
   },
   {
    "duration": 8,
    "start_time": "2022-05-08T11:59:03.614Z"
   },
   {
    "duration": 9,
    "start_time": "2022-05-08T11:59:03.624Z"
   },
   {
    "duration": 8,
    "start_time": "2022-05-08T11:59:03.634Z"
   },
   {
    "duration": 6,
    "start_time": "2022-05-08T11:59:03.644Z"
   },
   {
    "duration": 8,
    "start_time": "2022-05-08T11:59:03.652Z"
   },
   {
    "duration": 13,
    "start_time": "2022-05-08T11:59:03.662Z"
   },
   {
    "duration": 12,
    "start_time": "2022-05-08T11:59:03.708Z"
   },
   {
    "duration": 15,
    "start_time": "2022-05-08T11:59:03.724Z"
   },
   {
    "duration": 31,
    "start_time": "2022-05-08T11:59:03.740Z"
   },
   {
    "duration": 3,
    "start_time": "2022-05-08T11:59:03.773Z"
   },
   {
    "duration": 33,
    "start_time": "2022-05-08T11:59:03.778Z"
   },
   {
    "duration": 35,
    "start_time": "2022-05-08T11:59:03.813Z"
   },
   {
    "duration": 9,
    "start_time": "2022-05-08T11:59:03.850Z"
   },
   {
    "duration": 85,
    "start_time": "2022-05-08T11:59:03.861Z"
   },
   {
    "duration": 8,
    "start_time": "2022-05-08T11:59:03.948Z"
   },
   {
    "duration": 79,
    "start_time": "2022-05-08T11:59:03.958Z"
   },
   {
    "duration": 110,
    "start_time": "2022-05-08T11:59:04.039Z"
   },
   {
    "duration": 5,
    "start_time": "2022-05-08T11:59:04.151Z"
   },
   {
    "duration": 23,
    "start_time": "2022-05-08T11:59:04.157Z"
   },
   {
    "duration": 45,
    "start_time": "2022-05-08T11:59:04.182Z"
   },
   {
    "duration": 40,
    "start_time": "2022-05-08T11:59:04.229Z"
   },
   {
    "duration": 14,
    "start_time": "2022-05-08T11:59:04.270Z"
   },
   {
    "duration": 26,
    "start_time": "2022-05-08T11:59:04.285Z"
   },
   {
    "duration": 29,
    "start_time": "2022-05-08T11:59:04.312Z"
   },
   {
    "duration": 25,
    "start_time": "2022-05-08T11:59:04.343Z"
   },
   {
    "duration": 67,
    "start_time": "2022-05-08T11:59:04.370Z"
   },
   {
    "duration": 9,
    "start_time": "2022-05-08T11:59:04.439Z"
   },
   {
    "duration": 12,
    "start_time": "2022-05-08T11:59:04.449Z"
   },
   {
    "duration": 74,
    "start_time": "2022-05-08T11:59:04.463Z"
   },
   {
    "duration": 8,
    "start_time": "2022-05-08T11:59:04.538Z"
   },
   {
    "duration": 11,
    "start_time": "2022-05-08T11:59:04.548Z"
   },
   {
    "duration": 10,
    "start_time": "2022-05-08T11:59:04.561Z"
   },
   {
    "duration": 68,
    "start_time": "2022-05-08T11:59:04.572Z"
   },
   {
    "duration": 41,
    "start_time": "2022-05-08T11:59:04.642Z"
   },
   {
    "duration": 53,
    "start_time": "2022-05-08T11:59:04.685Z"
   },
   {
    "duration": 45,
    "start_time": "2022-05-08T11:59:04.740Z"
   },
   {
    "duration": 21,
    "start_time": "2022-05-08T11:59:04.787Z"
   },
   {
    "duration": 5,
    "start_time": "2022-05-08T11:59:04.810Z"
   },
   {
    "duration": 16,
    "start_time": "2022-05-08T11:59:04.816Z"
   },
   {
    "duration": 4,
    "start_time": "2022-05-08T11:59:04.834Z"
   },
   {
    "duration": 143,
    "start_time": "2022-05-08T11:59:04.840Z"
   },
   {
    "duration": 129,
    "start_time": "2022-05-08T11:59:04.984Z"
   },
   {
    "duration": 134,
    "start_time": "2022-05-08T11:59:05.115Z"
   },
   {
    "duration": 36,
    "start_time": "2022-05-08T11:59:05.251Z"
   },
   {
    "duration": 3,
    "start_time": "2022-05-08T11:59:29.964Z"
   },
   {
    "duration": 34,
    "start_time": "2022-05-08T11:59:29.969Z"
   },
   {
    "duration": 11,
    "start_time": "2022-05-08T11:59:30.005Z"
   },
   {
    "duration": 190,
    "start_time": "2022-05-08T11:59:30.018Z"
   },
   {
    "duration": 27,
    "start_time": "2022-05-08T11:59:30.211Z"
   },
   {
    "duration": 110,
    "start_time": "2022-05-08T11:59:30.240Z"
   },
   {
    "duration": 19,
    "start_time": "2022-05-08T11:59:30.352Z"
   },
   {
    "duration": 157,
    "start_time": "2022-05-08T11:59:30.373Z"
   },
   {
    "duration": 21,
    "start_time": "2022-05-08T11:59:30.532Z"
   },
   {
    "duration": 16,
    "start_time": "2022-05-08T11:59:30.555Z"
   },
   {
    "duration": 10,
    "start_time": "2022-05-08T11:59:30.573Z"
   },
   {
    "duration": 24,
    "start_time": "2022-05-08T11:59:30.584Z"
   },
   {
    "duration": 9,
    "start_time": "2022-05-08T11:59:30.611Z"
   },
   {
    "duration": 16,
    "start_time": "2022-05-08T11:59:30.622Z"
   },
   {
    "duration": 18,
    "start_time": "2022-05-08T11:59:30.640Z"
   },
   {
    "duration": 19,
    "start_time": "2022-05-08T11:59:30.660Z"
   },
   {
    "duration": 14,
    "start_time": "2022-05-08T11:59:30.681Z"
   },
   {
    "duration": 16,
    "start_time": "2022-05-08T11:59:30.696Z"
   },
   {
    "duration": 7,
    "start_time": "2022-05-08T11:59:30.714Z"
   },
   {
    "duration": 8,
    "start_time": "2022-05-08T11:59:30.722Z"
   },
   {
    "duration": 18,
    "start_time": "2022-05-08T11:59:30.731Z"
   },
   {
    "duration": 12,
    "start_time": "2022-05-08T11:59:30.751Z"
   },
   {
    "duration": 12,
    "start_time": "2022-05-08T11:59:30.765Z"
   },
   {
    "duration": 29,
    "start_time": "2022-05-08T11:59:30.779Z"
   },
   {
    "duration": 25,
    "start_time": "2022-05-08T11:59:30.810Z"
   },
   {
    "duration": 4,
    "start_time": "2022-05-08T11:59:30.837Z"
   },
   {
    "duration": 14,
    "start_time": "2022-05-08T11:59:30.842Z"
   },
   {
    "duration": 52,
    "start_time": "2022-05-08T11:59:30.857Z"
   },
   {
    "duration": 9,
    "start_time": "2022-05-08T11:59:30.911Z"
   },
   {
    "duration": 61,
    "start_time": "2022-05-08T11:59:30.921Z"
   },
   {
    "duration": 26,
    "start_time": "2022-05-08T11:59:30.983Z"
   },
   {
    "duration": 72,
    "start_time": "2022-05-08T11:59:31.010Z"
   },
   {
    "duration": 109,
    "start_time": "2022-05-08T11:59:31.083Z"
   },
   {
    "duration": 4,
    "start_time": "2022-05-08T11:59:31.194Z"
   },
   {
    "duration": 20,
    "start_time": "2022-05-08T11:59:31.207Z"
   },
   {
    "duration": 29,
    "start_time": "2022-05-08T11:59:31.228Z"
   },
   {
    "duration": 66,
    "start_time": "2022-05-08T11:59:31.263Z"
   },
   {
    "duration": 14,
    "start_time": "2022-05-08T11:59:31.331Z"
   },
   {
    "duration": 6,
    "start_time": "2022-05-08T11:59:31.347Z"
   },
   {
    "duration": 52,
    "start_time": "2022-05-08T11:59:31.355Z"
   },
   {
    "duration": 23,
    "start_time": "2022-05-08T11:59:31.409Z"
   },
   {
    "duration": 35,
    "start_time": "2022-05-08T11:59:31.434Z"
   },
   {
    "duration": 9,
    "start_time": "2022-05-08T11:59:31.471Z"
   },
   {
    "duration": 10,
    "start_time": "2022-05-08T11:59:31.508Z"
   },
   {
    "duration": 52,
    "start_time": "2022-05-08T11:59:31.519Z"
   },
   {
    "duration": 8,
    "start_time": "2022-05-08T11:59:31.572Z"
   },
   {
    "duration": 31,
    "start_time": "2022-05-08T11:59:31.582Z"
   },
   {
    "duration": 12,
    "start_time": "2022-05-08T11:59:31.615Z"
   },
   {
    "duration": 42,
    "start_time": "2022-05-08T11:59:31.629Z"
   },
   {
    "duration": 65,
    "start_time": "2022-05-08T11:59:31.673Z"
   },
   {
    "duration": 40,
    "start_time": "2022-05-08T11:59:31.740Z"
   },
   {
    "duration": 64,
    "start_time": "2022-05-08T11:59:31.782Z"
   },
   {
    "duration": 4,
    "start_time": "2022-05-08T11:59:31.848Z"
   },
   {
    "duration": 7,
    "start_time": "2022-05-08T11:59:31.853Z"
   },
   {
    "duration": 4,
    "start_time": "2022-05-08T11:59:31.862Z"
   },
   {
    "duration": 6,
    "start_time": "2022-05-08T11:59:31.868Z"
   },
   {
    "duration": 154,
    "start_time": "2022-05-08T11:59:31.875Z"
   },
   {
    "duration": 140,
    "start_time": "2022-05-08T11:59:32.031Z"
   },
   {
    "duration": 140,
    "start_time": "2022-05-08T11:59:32.173Z"
   },
   {
    "duration": 35,
    "start_time": "2022-05-08T11:59:32.315Z"
   },
   {
    "duration": 19,
    "start_time": "2022-05-08T11:59:32.352Z"
   },
   {
    "duration": 45,
    "start_time": "2022-05-08T11:59:32.373Z"
   },
   {
    "duration": 18,
    "start_time": "2022-05-08T11:59:32.420Z"
   },
   {
    "duration": 19,
    "start_time": "2022-05-08T11:59:32.440Z"
   },
   {
    "duration": 46,
    "start_time": "2022-05-08T11:59:32.461Z"
   },
   {
    "duration": 6,
    "start_time": "2022-05-08T11:59:32.509Z"
   },
   {
    "duration": 9,
    "start_time": "2022-05-08T11:59:32.517Z"
   },
   {
    "duration": 671,
    "start_time": "2022-05-08T12:00:36.760Z"
   },
   {
    "duration": 31,
    "start_time": "2022-05-08T12:00:37.433Z"
   },
   {
    "duration": 13,
    "start_time": "2022-05-08T12:00:37.466Z"
   },
   {
    "duration": 155,
    "start_time": "2022-05-08T12:00:37.480Z"
   },
   {
    "duration": 26,
    "start_time": "2022-05-08T12:00:37.637Z"
   },
   {
    "duration": 97,
    "start_time": "2022-05-08T12:00:37.665Z"
   },
   {
    "duration": 19,
    "start_time": "2022-05-08T12:00:37.763Z"
   },
   {
    "duration": 143,
    "start_time": "2022-05-08T12:00:37.784Z"
   },
   {
    "duration": 23,
    "start_time": "2022-05-08T12:00:37.929Z"
   },
   {
    "duration": 15,
    "start_time": "2022-05-08T12:00:37.954Z"
   },
   {
    "duration": 11,
    "start_time": "2022-05-08T12:00:37.971Z"
   },
   {
    "duration": 4,
    "start_time": "2022-05-08T12:00:38.007Z"
   },
   {
    "duration": 5,
    "start_time": "2022-05-08T12:00:38.012Z"
   },
   {
    "duration": 6,
    "start_time": "2022-05-08T12:00:38.020Z"
   },
   {
    "duration": 6,
    "start_time": "2022-05-08T12:00:38.028Z"
   },
   {
    "duration": 7,
    "start_time": "2022-05-08T12:00:38.036Z"
   },
   {
    "duration": 3,
    "start_time": "2022-05-08T12:00:38.044Z"
   },
   {
    "duration": 6,
    "start_time": "2022-05-08T12:00:38.049Z"
   },
   {
    "duration": 5,
    "start_time": "2022-05-08T12:00:38.057Z"
   },
   {
    "duration": 6,
    "start_time": "2022-05-08T12:00:38.063Z"
   },
   {
    "duration": 46,
    "start_time": "2022-05-08T12:00:38.070Z"
   },
   {
    "duration": 12,
    "start_time": "2022-05-08T12:00:38.118Z"
   },
   {
    "duration": 11,
    "start_time": "2022-05-08T12:00:38.132Z"
   },
   {
    "duration": 14,
    "start_time": "2022-05-08T12:00:38.145Z"
   },
   {
    "duration": 60,
    "start_time": "2022-05-08T12:00:38.161Z"
   },
   {
    "duration": 3,
    "start_time": "2022-05-08T12:00:38.223Z"
   },
   {
    "duration": 5,
    "start_time": "2022-05-08T12:00:38.228Z"
   },
   {
    "duration": 38,
    "start_time": "2022-05-08T12:00:38.235Z"
   },
   {
    "duration": 33,
    "start_time": "2022-05-08T12:00:38.275Z"
   },
   {
    "duration": 61,
    "start_time": "2022-05-08T12:00:38.309Z"
   },
   {
    "duration": 8,
    "start_time": "2022-05-08T12:00:38.371Z"
   },
   {
    "duration": 84,
    "start_time": "2022-05-08T12:00:38.380Z"
   },
   {
    "duration": 108,
    "start_time": "2022-05-08T12:00:38.466Z"
   },
   {
    "duration": 4,
    "start_time": "2022-05-08T12:00:38.576Z"
   },
   {
    "duration": 36,
    "start_time": "2022-05-08T12:00:38.581Z"
   },
   {
    "duration": 31,
    "start_time": "2022-05-08T12:00:38.619Z"
   },
   {
    "duration": 57,
    "start_time": "2022-05-08T12:00:38.652Z"
   },
   {
    "duration": 13,
    "start_time": "2022-05-08T12:00:38.711Z"
   },
   {
    "duration": 4,
    "start_time": "2022-05-08T12:00:38.726Z"
   },
   {
    "duration": 24,
    "start_time": "2022-05-08T12:00:38.732Z"
   },
   {
    "duration": 53,
    "start_time": "2022-05-08T12:00:38.761Z"
   },
   {
    "duration": 45,
    "start_time": "2022-05-08T12:00:38.816Z"
   },
   {
    "duration": 9,
    "start_time": "2022-05-08T12:00:38.863Z"
   },
   {
    "duration": 10,
    "start_time": "2022-05-08T12:00:38.874Z"
   },
   {
    "duration": 52,
    "start_time": "2022-05-08T12:00:38.908Z"
   },
   {
    "duration": 8,
    "start_time": "2022-05-08T12:00:38.962Z"
   },
   {
    "duration": 9,
    "start_time": "2022-05-08T12:00:38.972Z"
   },
   {
    "duration": 32,
    "start_time": "2022-05-08T12:00:38.983Z"
   },
   {
    "duration": 48,
    "start_time": "2022-05-08T12:00:39.017Z"
   },
   {
    "duration": 59,
    "start_time": "2022-05-08T12:00:39.067Z"
   },
   {
    "duration": 41,
    "start_time": "2022-05-08T12:00:39.127Z"
   },
   {
    "duration": 62,
    "start_time": "2022-05-08T12:00:39.170Z"
   },
   {
    "duration": 3,
    "start_time": "2022-05-08T12:00:39.234Z"
   },
   {
    "duration": 6,
    "start_time": "2022-05-08T12:00:39.239Z"
   },
   {
    "duration": 8,
    "start_time": "2022-05-08T12:00:39.247Z"
   },
   {
    "duration": 4,
    "start_time": "2022-05-08T12:00:39.257Z"
   },
   {
    "duration": 155,
    "start_time": "2022-05-08T12:00:39.262Z"
   },
   {
    "duration": 120,
    "start_time": "2022-05-08T12:00:39.419Z"
   },
   {
    "duration": 130,
    "start_time": "2022-05-08T12:00:39.541Z"
   },
   {
    "duration": 46,
    "start_time": "2022-05-08T12:00:39.672Z"
   },
   {
    "duration": 19,
    "start_time": "2022-05-08T12:00:39.719Z"
   },
   {
    "duration": 18,
    "start_time": "2022-05-08T12:00:39.739Z"
   },
   {
    "duration": 17,
    "start_time": "2022-05-08T12:00:39.758Z"
   },
   {
    "duration": 47,
    "start_time": "2022-05-08T12:00:39.777Z"
   },
   {
    "duration": 10,
    "start_time": "2022-05-08T12:00:39.825Z"
   },
   {
    "duration": 12,
    "start_time": "2022-05-08T12:00:39.837Z"
   },
   {
    "duration": 9,
    "start_time": "2022-05-08T12:00:39.850Z"
   },
   {
    "duration": 17,
    "start_time": "2022-05-08T12:00:39.861Z"
   },
   {
    "duration": 7,
    "start_time": "2022-05-08T12:00:39.879Z"
   },
   {
    "duration": 37,
    "start_time": "2022-05-08T12:00:39.887Z"
   },
   {
    "duration": 372,
    "start_time": "2022-05-08T12:00:39.926Z"
   },
   {
    "duration": 345,
    "start_time": "2022-05-08T12:00:40.300Z"
   },
   {
    "duration": 28,
    "start_time": "2022-05-08T12:00:40.647Z"
   },
   {
    "duration": 376,
    "start_time": "2022-05-08T12:00:40.677Z"
   },
   {
    "duration": 283,
    "start_time": "2022-05-08T12:00:41.054Z"
   },
   {
    "duration": 27,
    "start_time": "2022-05-08T12:03:30.239Z"
   },
   {
    "duration": 20,
    "start_time": "2022-05-08T12:03:58.304Z"
   },
   {
    "duration": 4,
    "start_time": "2022-05-08T12:04:28.487Z"
   },
   {
    "duration": 369,
    "start_time": "2022-05-08T12:13:56.639Z"
   },
   {
    "duration": 121,
    "start_time": "2022-05-08T12:16:08.960Z"
   },
   {
    "duration": 6,
    "start_time": "2022-05-08T12:16:35.878Z"
   },
   {
    "duration": 9,
    "start_time": "2022-05-08T12:17:59.997Z"
   },
   {
    "duration": 9,
    "start_time": "2022-05-08T12:23:29.917Z"
   },
   {
    "duration": 11,
    "start_time": "2022-05-08T12:24:04.214Z"
   },
   {
    "duration": 10,
    "start_time": "2022-05-08T12:34:28.408Z"
   },
   {
    "duration": 1645,
    "start_time": "2022-05-08T18:32:05.956Z"
   },
   {
    "duration": 40,
    "start_time": "2022-05-08T18:32:07.603Z"
   },
   {
    "duration": 12,
    "start_time": "2022-05-08T18:32:07.645Z"
   },
   {
    "duration": 236,
    "start_time": "2022-05-08T18:32:07.660Z"
   },
   {
    "duration": 38,
    "start_time": "2022-05-08T18:32:07.897Z"
   },
   {
    "duration": 152,
    "start_time": "2022-05-08T18:32:07.937Z"
   },
   {
    "duration": 39,
    "start_time": "2022-05-08T18:32:08.091Z"
   },
   {
    "duration": 208,
    "start_time": "2022-05-08T18:32:08.133Z"
   },
   {
    "duration": 21,
    "start_time": "2022-05-08T18:32:08.343Z"
   },
   {
    "duration": 21,
    "start_time": "2022-05-08T18:32:08.368Z"
   },
   {
    "duration": 11,
    "start_time": "2022-05-08T18:32:08.391Z"
   },
   {
    "duration": 21,
    "start_time": "2022-05-08T18:32:08.404Z"
   },
   {
    "duration": 5,
    "start_time": "2022-05-08T18:32:08.427Z"
   },
   {
    "duration": 7,
    "start_time": "2022-05-08T18:32:08.434Z"
   },
   {
    "duration": 7,
    "start_time": "2022-05-08T18:32:08.443Z"
   },
   {
    "duration": 9,
    "start_time": "2022-05-08T18:32:08.452Z"
   },
   {
    "duration": 6,
    "start_time": "2022-05-08T18:32:08.463Z"
   },
   {
    "duration": 9,
    "start_time": "2022-05-08T18:32:08.471Z"
   },
   {
    "duration": 46,
    "start_time": "2022-05-08T18:32:08.482Z"
   },
   {
    "duration": 8,
    "start_time": "2022-05-08T18:32:08.530Z"
   },
   {
    "duration": 8,
    "start_time": "2022-05-08T18:32:08.540Z"
   },
   {
    "duration": 15,
    "start_time": "2022-05-08T18:32:08.550Z"
   },
   {
    "duration": 18,
    "start_time": "2022-05-08T18:32:08.567Z"
   },
   {
    "duration": 51,
    "start_time": "2022-05-08T18:32:08.587Z"
   },
   {
    "duration": 40,
    "start_time": "2022-05-08T18:32:08.640Z"
   },
   {
    "duration": 4,
    "start_time": "2022-05-08T18:32:08.682Z"
   },
   {
    "duration": 9,
    "start_time": "2022-05-08T18:32:08.688Z"
   },
   {
    "duration": 37,
    "start_time": "2022-05-08T18:32:08.725Z"
   },
   {
    "duration": 9,
    "start_time": "2022-05-08T18:32:08.764Z"
   },
   {
    "duration": 88,
    "start_time": "2022-05-08T18:32:08.775Z"
   },
   {
    "duration": 8,
    "start_time": "2022-05-08T18:32:08.866Z"
   },
   {
    "duration": 86,
    "start_time": "2022-05-08T18:32:08.876Z"
   },
   {
    "duration": 120,
    "start_time": "2022-05-08T18:32:08.964Z"
   },
   {
    "duration": 6,
    "start_time": "2022-05-08T18:32:09.086Z"
   },
   {
    "duration": 32,
    "start_time": "2022-05-08T18:32:09.094Z"
   },
   {
    "duration": 35,
    "start_time": "2022-05-08T18:32:09.128Z"
   },
   {
    "duration": 66,
    "start_time": "2022-05-08T18:32:09.164Z"
   },
   {
    "duration": 15,
    "start_time": "2022-05-08T18:32:09.232Z"
   },
   {
    "duration": 7,
    "start_time": "2022-05-08T18:32:09.248Z"
   },
   {
    "duration": 28,
    "start_time": "2022-05-08T18:32:09.257Z"
   },
   {
    "duration": 54,
    "start_time": "2022-05-08T18:32:09.287Z"
   },
   {
    "duration": 51,
    "start_time": "2022-05-08T18:32:09.342Z"
   },
   {
    "duration": 10,
    "start_time": "2022-05-08T18:32:09.395Z"
   },
   {
    "duration": 13,
    "start_time": "2022-05-08T18:32:09.423Z"
   },
   {
    "duration": 58,
    "start_time": "2022-05-08T18:32:09.438Z"
   },
   {
    "duration": 31,
    "start_time": "2022-05-08T18:32:09.498Z"
   },
   {
    "duration": 8,
    "start_time": "2022-05-08T18:32:09.532Z"
   },
   {
    "duration": 13,
    "start_time": "2022-05-08T18:32:09.541Z"
   },
   {
    "duration": 70,
    "start_time": "2022-05-08T18:32:09.555Z"
   },
   {
    "duration": 41,
    "start_time": "2022-05-08T18:32:09.627Z"
   },
   {
    "duration": 58,
    "start_time": "2022-05-08T18:32:09.670Z"
   },
   {
    "duration": 47,
    "start_time": "2022-05-08T18:32:09.729Z"
   },
   {
    "duration": 3,
    "start_time": "2022-05-08T18:32:09.778Z"
   },
   {
    "duration": 5,
    "start_time": "2022-05-08T18:32:09.783Z"
   },
   {
    "duration": 10,
    "start_time": "2022-05-08T18:32:09.790Z"
   },
   {
    "duration": 25,
    "start_time": "2022-05-08T18:32:09.801Z"
   },
   {
    "duration": 145,
    "start_time": "2022-05-08T18:32:09.828Z"
   },
   {
    "duration": 141,
    "start_time": "2022-05-08T18:32:09.975Z"
   },
   {
    "duration": 136,
    "start_time": "2022-05-08T18:32:10.117Z"
   },
   {
    "duration": 38,
    "start_time": "2022-05-08T18:32:10.255Z"
   },
   {
    "duration": 39,
    "start_time": "2022-05-08T18:32:10.295Z"
   },
   {
    "duration": 17,
    "start_time": "2022-05-08T18:32:10.335Z"
   },
   {
    "duration": 25,
    "start_time": "2022-05-08T18:32:10.354Z"
   },
   {
    "duration": 48,
    "start_time": "2022-05-08T18:32:10.381Z"
   },
   {
    "duration": 16,
    "start_time": "2022-05-08T18:32:10.431Z"
   },
   {
    "duration": 7,
    "start_time": "2022-05-08T18:32:10.449Z"
   },
   {
    "duration": 6,
    "start_time": "2022-05-08T18:32:10.458Z"
   },
   {
    "duration": 8,
    "start_time": "2022-05-08T18:32:10.466Z"
   },
   {
    "duration": 5,
    "start_time": "2022-05-08T18:32:10.476Z"
   },
   {
    "duration": 59,
    "start_time": "2022-05-08T18:32:10.483Z"
   },
   {
    "duration": 371,
    "start_time": "2022-05-08T18:32:10.544Z"
   },
   {
    "duration": 331,
    "start_time": "2022-05-08T18:32:10.916Z"
   },
   {
    "duration": 28,
    "start_time": "2022-05-08T18:32:11.249Z"
   },
   {
    "duration": 488,
    "start_time": "2022-05-08T18:32:11.279Z"
   },
   {
    "duration": 294,
    "start_time": "2022-05-08T18:32:11.768Z"
   },
   {
    "duration": 21,
    "start_time": "2022-05-08T18:32:12.064Z"
   },
   {
    "duration": 5,
    "start_time": "2022-05-08T18:32:12.087Z"
   },
   {
    "duration": 37,
    "start_time": "2022-05-08T18:32:12.094Z"
   },
   {
    "duration": 6,
    "start_time": "2022-05-08T18:42:27.448Z"
   },
   {
    "duration": 5,
    "start_time": "2022-05-08T18:42:47.544Z"
   },
   {
    "duration": 7,
    "start_time": "2022-05-08T18:43:54.233Z"
   },
   {
    "duration": 8,
    "start_time": "2022-05-08T18:44:45.005Z"
   },
   {
    "duration": 6,
    "start_time": "2022-05-08T18:46:55.888Z"
   },
   {
    "duration": 1218,
    "start_time": "2022-05-08T19:49:08.177Z"
   },
   {
    "duration": 56,
    "start_time": "2022-05-08T19:49:09.397Z"
   },
   {
    "duration": 13,
    "start_time": "2022-05-08T19:49:09.455Z"
   },
   {
    "duration": 175,
    "start_time": "2022-05-08T19:49:09.471Z"
   },
   {
    "duration": 27,
    "start_time": "2022-05-08T19:49:09.647Z"
   },
   {
    "duration": 105,
    "start_time": "2022-05-08T19:49:09.676Z"
   },
   {
    "duration": 19,
    "start_time": "2022-05-08T19:49:09.783Z"
   },
   {
    "duration": 149,
    "start_time": "2022-05-08T19:49:09.804Z"
   },
   {
    "duration": 24,
    "start_time": "2022-05-08T19:49:09.955Z"
   },
   {
    "duration": 22,
    "start_time": "2022-05-08T19:49:09.983Z"
   },
   {
    "duration": 26,
    "start_time": "2022-05-08T19:49:10.007Z"
   },
   {
    "duration": 6,
    "start_time": "2022-05-08T19:49:10.035Z"
   },
   {
    "duration": 8,
    "start_time": "2022-05-08T19:49:10.043Z"
   },
   {
    "duration": 7,
    "start_time": "2022-05-08T19:49:10.053Z"
   },
   {
    "duration": 10,
    "start_time": "2022-05-08T19:49:10.061Z"
   },
   {
    "duration": 8,
    "start_time": "2022-05-08T19:49:10.073Z"
   },
   {
    "duration": 10,
    "start_time": "2022-05-08T19:49:10.082Z"
   },
   {
    "duration": 6,
    "start_time": "2022-05-08T19:49:10.122Z"
   },
   {
    "duration": 13,
    "start_time": "2022-05-08T19:49:10.130Z"
   },
   {
    "duration": 7,
    "start_time": "2022-05-08T19:49:10.145Z"
   },
   {
    "duration": 15,
    "start_time": "2022-05-08T19:49:10.154Z"
   },
   {
    "duration": 15,
    "start_time": "2022-05-08T19:49:10.170Z"
   },
   {
    "duration": 15,
    "start_time": "2022-05-08T19:49:10.187Z"
   },
   {
    "duration": 31,
    "start_time": "2022-05-08T19:49:10.204Z"
   },
   {
    "duration": 31,
    "start_time": "2022-05-08T19:49:10.237Z"
   },
   {
    "duration": 5,
    "start_time": "2022-05-08T19:49:10.270Z"
   },
   {
    "duration": 6,
    "start_time": "2022-05-08T19:49:10.276Z"
   },
   {
    "duration": 65,
    "start_time": "2022-05-08T19:49:10.287Z"
   },
   {
    "duration": 9,
    "start_time": "2022-05-08T19:49:10.354Z"
   },
   {
    "duration": 73,
    "start_time": "2022-05-08T19:49:10.365Z"
   },
   {
    "duration": 8,
    "start_time": "2022-05-08T19:49:10.440Z"
   },
   {
    "duration": 85,
    "start_time": "2022-05-08T19:49:10.450Z"
   },
   {
    "duration": 111,
    "start_time": "2022-05-08T19:49:10.537Z"
   },
   {
    "duration": 5,
    "start_time": "2022-05-08T19:49:10.650Z"
   },
   {
    "duration": 24,
    "start_time": "2022-05-08T19:49:10.657Z"
   },
   {
    "duration": 56,
    "start_time": "2022-05-08T19:49:10.683Z"
   },
   {
    "duration": 44,
    "start_time": "2022-05-08T19:49:10.740Z"
   },
   {
    "duration": 13,
    "start_time": "2022-05-08T19:49:10.786Z"
   },
   {
    "duration": 22,
    "start_time": "2022-05-08T19:49:10.801Z"
   },
   {
    "duration": 28,
    "start_time": "2022-05-08T19:49:10.825Z"
   },
   {
    "duration": 26,
    "start_time": "2022-05-08T19:49:10.855Z"
   },
   {
    "duration": 75,
    "start_time": "2022-05-08T19:49:10.883Z"
   },
   {
    "duration": 10,
    "start_time": "2022-05-08T19:49:10.960Z"
   },
   {
    "duration": 13,
    "start_time": "2022-05-08T19:49:10.972Z"
   },
   {
    "duration": 86,
    "start_time": "2022-05-08T19:49:10.987Z"
   },
   {
    "duration": 8,
    "start_time": "2022-05-08T19:49:11.075Z"
   },
   {
    "duration": 9,
    "start_time": "2022-05-08T19:49:11.085Z"
   },
   {
    "duration": 27,
    "start_time": "2022-05-08T19:49:11.096Z"
   },
   {
    "duration": 49,
    "start_time": "2022-05-08T19:49:11.128Z"
   },
   {
    "duration": 56,
    "start_time": "2022-05-08T19:49:11.179Z"
   },
   {
    "duration": 41,
    "start_time": "2022-05-08T19:49:11.236Z"
   },
   {
    "duration": 69,
    "start_time": "2022-05-08T19:49:11.279Z"
   },
   {
    "duration": 3,
    "start_time": "2022-05-08T19:49:11.350Z"
   },
   {
    "duration": 37,
    "start_time": "2022-05-08T19:49:11.355Z"
   },
   {
    "duration": 28,
    "start_time": "2022-05-08T19:49:11.394Z"
   },
   {
    "duration": 34,
    "start_time": "2022-05-08T19:49:11.423Z"
   },
   {
    "duration": 154,
    "start_time": "2022-05-08T19:49:11.459Z"
   },
   {
    "duration": 133,
    "start_time": "2022-05-08T19:49:11.615Z"
   },
   {
    "duration": 145,
    "start_time": "2022-05-08T19:49:11.750Z"
   },
   {
    "duration": 46,
    "start_time": "2022-05-08T19:49:11.897Z"
   },
   {
    "duration": 18,
    "start_time": "2022-05-08T19:49:11.944Z"
   },
   {
    "duration": 18,
    "start_time": "2022-05-08T19:49:11.964Z"
   },
   {
    "duration": 44,
    "start_time": "2022-05-08T19:49:11.984Z"
   },
   {
    "duration": 17,
    "start_time": "2022-05-08T19:49:12.030Z"
   },
   {
    "duration": 15,
    "start_time": "2022-05-08T19:49:12.049Z"
   },
   {
    "duration": 26,
    "start_time": "2022-05-08T19:49:12.066Z"
   },
   {
    "duration": 20,
    "start_time": "2022-05-08T19:49:12.094Z"
   },
   {
    "duration": 24,
    "start_time": "2022-05-08T19:49:12.116Z"
   },
   {
    "duration": 26,
    "start_time": "2022-05-08T19:49:12.141Z"
   },
   {
    "duration": 31,
    "start_time": "2022-05-08T19:49:12.168Z"
   },
   {
    "duration": 356,
    "start_time": "2022-05-08T19:49:12.201Z"
   },
   {
    "duration": 295,
    "start_time": "2022-05-08T19:49:12.559Z"
   },
   {
    "duration": 26,
    "start_time": "2022-05-08T19:49:12.856Z"
   },
   {
    "duration": 372,
    "start_time": "2022-05-08T19:49:12.884Z"
   },
   {
    "duration": 294,
    "start_time": "2022-05-08T19:49:13.258Z"
   },
   {
    "duration": 21,
    "start_time": "2022-05-08T19:49:13.556Z"
   },
   {
    "duration": 5,
    "start_time": "2022-05-08T19:49:13.580Z"
   },
   {
    "duration": 42,
    "start_time": "2022-05-08T19:49:13.588Z"
   },
   {
    "duration": 11,
    "start_time": "2022-05-08T19:49:13.632Z"
   },
   {
    "duration": 6,
    "start_time": "2022-05-08T19:49:13.645Z"
   },
   {
    "duration": 1255,
    "start_time": "2022-05-09T20:18:10.016Z"
   },
   {
    "duration": 38,
    "start_time": "2022-05-09T20:18:11.273Z"
   },
   {
    "duration": 13,
    "start_time": "2022-05-09T20:18:11.313Z"
   },
   {
    "duration": 174,
    "start_time": "2022-05-09T20:18:11.328Z"
   },
   {
    "duration": 32,
    "start_time": "2022-05-09T20:18:11.504Z"
   },
   {
    "duration": 99,
    "start_time": "2022-05-09T20:18:11.538Z"
   },
   {
    "duration": 20,
    "start_time": "2022-05-09T20:18:11.639Z"
   },
   {
    "duration": 154,
    "start_time": "2022-05-09T20:18:11.661Z"
   },
   {
    "duration": 28,
    "start_time": "2022-05-09T20:18:11.817Z"
   },
   {
    "duration": 21,
    "start_time": "2022-05-09T20:18:11.848Z"
   },
   {
    "duration": 11,
    "start_time": "2022-05-09T20:18:11.871Z"
   },
   {
    "duration": 7,
    "start_time": "2022-05-09T20:18:11.884Z"
   },
   {
    "duration": 10,
    "start_time": "2022-05-09T20:18:11.893Z"
   },
   {
    "duration": 8,
    "start_time": "2022-05-09T20:18:11.904Z"
   },
   {
    "duration": 22,
    "start_time": "2022-05-09T20:18:11.913Z"
   },
   {
    "duration": 13,
    "start_time": "2022-05-09T20:18:11.937Z"
   },
   {
    "duration": 8,
    "start_time": "2022-05-09T20:18:11.952Z"
   },
   {
    "duration": 11,
    "start_time": "2022-05-09T20:18:11.961Z"
   },
   {
    "duration": 6,
    "start_time": "2022-05-09T20:18:11.974Z"
   },
   {
    "duration": 7,
    "start_time": "2022-05-09T20:18:11.982Z"
   },
   {
    "duration": 8,
    "start_time": "2022-05-09T20:18:11.990Z"
   },
   {
    "duration": 41,
    "start_time": "2022-05-09T20:18:11.999Z"
   },
   {
    "duration": 11,
    "start_time": "2022-05-09T20:18:12.042Z"
   },
   {
    "duration": 17,
    "start_time": "2022-05-09T20:18:12.055Z"
   },
   {
    "duration": 30,
    "start_time": "2022-05-09T20:18:12.073Z"
   },
   {
    "duration": 29,
    "start_time": "2022-05-09T20:18:12.105Z"
   },
   {
    "duration": 6,
    "start_time": "2022-05-09T20:18:12.136Z"
   },
   {
    "duration": 38,
    "start_time": "2022-05-09T20:18:12.147Z"
   },
   {
    "duration": 9,
    "start_time": "2022-05-09T20:18:12.187Z"
   },
   {
    "duration": 88,
    "start_time": "2022-05-09T20:18:12.198Z"
   },
   {
    "duration": 9,
    "start_time": "2022-05-09T20:18:12.288Z"
   },
   {
    "duration": 88,
    "start_time": "2022-05-09T20:18:12.298Z"
   },
   {
    "duration": 111,
    "start_time": "2022-05-09T20:18:12.388Z"
   },
   {
    "duration": 6,
    "start_time": "2022-05-09T20:18:12.501Z"
   },
   {
    "duration": 38,
    "start_time": "2022-05-09T20:18:12.509Z"
   },
   {
    "duration": 33,
    "start_time": "2022-05-09T20:18:12.550Z"
   },
   {
    "duration": 62,
    "start_time": "2022-05-09T20:18:12.584Z"
   },
   {
    "duration": 14,
    "start_time": "2022-05-09T20:18:12.648Z"
   },
   {
    "duration": 7,
    "start_time": "2022-05-09T20:18:12.664Z"
   },
   {
    "duration": 28,
    "start_time": "2022-05-09T20:18:12.673Z"
   },
   {
    "duration": 48,
    "start_time": "2022-05-09T20:18:12.703Z"
   },
   {
    "duration": 48,
    "start_time": "2022-05-09T20:18:12.753Z"
   },
   {
    "duration": 31,
    "start_time": "2022-05-09T20:18:12.803Z"
   },
   {
    "duration": 10,
    "start_time": "2022-05-09T20:18:12.836Z"
   },
   {
    "duration": 58,
    "start_time": "2022-05-09T20:18:12.848Z"
   },
   {
    "duration": 28,
    "start_time": "2022-05-09T20:18:12.907Z"
   },
   {
    "duration": 11,
    "start_time": "2022-05-09T20:18:12.937Z"
   },
   {
    "duration": 18,
    "start_time": "2022-05-09T20:18:12.950Z"
   },
   {
    "duration": 63,
    "start_time": "2022-05-09T20:18:12.970Z"
   },
   {
    "duration": 42,
    "start_time": "2022-05-09T20:18:13.035Z"
   },
   {
    "duration": 61,
    "start_time": "2022-05-09T20:18:13.079Z"
   },
   {
    "duration": 47,
    "start_time": "2022-05-09T20:18:13.142Z"
   },
   {
    "duration": 3,
    "start_time": "2022-05-09T20:18:13.191Z"
   },
   {
    "duration": 23,
    "start_time": "2022-05-09T20:18:13.196Z"
   },
   {
    "duration": 19,
    "start_time": "2022-05-09T20:18:13.221Z"
   },
   {
    "duration": 13,
    "start_time": "2022-05-09T20:18:13.243Z"
   },
   {
    "duration": 144,
    "start_time": "2022-05-09T20:18:13.258Z"
   },
   {
    "duration": 135,
    "start_time": "2022-05-09T20:18:13.404Z"
   },
   {
    "duration": 143,
    "start_time": "2022-05-09T20:18:13.541Z"
   },
   {
    "duration": 49,
    "start_time": "2022-05-09T20:18:13.686Z"
   },
   {
    "duration": 19,
    "start_time": "2022-05-09T20:18:13.737Z"
   },
   {
    "duration": 20,
    "start_time": "2022-05-09T20:18:13.757Z"
   },
   {
    "duration": 19,
    "start_time": "2022-05-09T20:18:13.779Z"
   },
   {
    "duration": 49,
    "start_time": "2022-05-09T20:18:13.800Z"
   },
   {
    "duration": 11,
    "start_time": "2022-05-09T20:18:13.850Z"
   },
   {
    "duration": 6,
    "start_time": "2022-05-09T20:18:13.863Z"
   },
   {
    "duration": 6,
    "start_time": "2022-05-09T20:18:13.871Z"
   },
   {
    "duration": 9,
    "start_time": "2022-05-09T20:18:13.879Z"
   },
   {
    "duration": 6,
    "start_time": "2022-05-09T20:18:13.890Z"
   },
   {
    "duration": 32,
    "start_time": "2022-05-09T20:18:13.933Z"
   },
   {
    "duration": 390,
    "start_time": "2022-05-09T20:18:13.966Z"
   },
   {
    "duration": 324,
    "start_time": "2022-05-09T20:18:14.357Z"
   },
   {
    "duration": 29,
    "start_time": "2022-05-09T20:18:14.682Z"
   },
   {
    "duration": 407,
    "start_time": "2022-05-09T20:18:14.712Z"
   },
   {
    "duration": 307,
    "start_time": "2022-05-09T20:18:15.121Z"
   },
   {
    "duration": 24,
    "start_time": "2022-05-09T20:18:15.433Z"
   },
   {
    "duration": 5,
    "start_time": "2022-05-09T20:18:15.459Z"
   },
   {
    "duration": 15,
    "start_time": "2022-05-09T20:18:15.467Z"
   },
   {
    "duration": 12,
    "start_time": "2022-05-09T20:18:15.484Z"
   },
   {
    "duration": 41,
    "start_time": "2022-05-09T20:18:15.499Z"
   },
   {
    "duration": 7,
    "start_time": "2022-05-09T20:49:48.894Z"
   },
   {
    "duration": 109,
    "start_time": "2022-05-09T20:50:08.054Z"
   },
   {
    "duration": 19,
    "start_time": "2022-05-09T20:50:11.644Z"
   },
   {
    "duration": 6,
    "start_time": "2022-05-09T20:59:43.518Z"
   },
   {
    "duration": 2596,
    "start_time": "2022-05-09T21:04:06.360Z"
   },
   {
    "duration": 16,
    "start_time": "2022-05-09T21:04:28.030Z"
   },
   {
    "duration": 7,
    "start_time": "2022-05-09T21:22:55.889Z"
   },
   {
    "duration": 4,
    "start_time": "2022-05-09T21:43:52.471Z"
   },
   {
    "duration": 426,
    "start_time": "2022-05-09T21:43:55.755Z"
   },
   {
    "duration": 282,
    "start_time": "2022-05-09T21:44:07.025Z"
   },
   {
    "duration": 4,
    "start_time": "2022-05-09T21:44:21.402Z"
   },
   {
    "duration": 285,
    "start_time": "2022-05-09T21:44:24.610Z"
   },
   {
    "duration": 4,
    "start_time": "2022-05-09T21:45:09.531Z"
   },
   {
    "duration": 289,
    "start_time": "2022-05-09T21:45:12.778Z"
   },
   {
    "duration": 3,
    "start_time": "2022-05-09T21:45:28.458Z"
   },
   {
    "duration": 301,
    "start_time": "2022-05-09T21:45:31.105Z"
   },
   {
    "duration": 30,
    "start_time": "2022-05-09T21:52:27.152Z"
   },
   {
    "duration": 1170,
    "start_time": "2022-05-09T21:53:14.332Z"
   },
   {
    "duration": 41,
    "start_time": "2022-05-09T21:53:15.504Z"
   },
   {
    "duration": 13,
    "start_time": "2022-05-09T21:53:15.546Z"
   },
   {
    "duration": 239,
    "start_time": "2022-05-09T21:53:15.562Z"
   },
   {
    "duration": 27,
    "start_time": "2022-05-09T21:53:15.802Z"
   },
   {
    "duration": 102,
    "start_time": "2022-05-09T21:53:15.831Z"
   },
   {
    "duration": 19,
    "start_time": "2022-05-09T21:53:15.935Z"
   },
   {
    "duration": 158,
    "start_time": "2022-05-09T21:53:15.956Z"
   },
   {
    "duration": 27,
    "start_time": "2022-05-09T21:53:16.116Z"
   },
   {
    "duration": 21,
    "start_time": "2022-05-09T21:53:16.146Z"
   },
   {
    "duration": 12,
    "start_time": "2022-05-09T21:53:16.169Z"
   },
   {
    "duration": 7,
    "start_time": "2022-05-09T21:53:16.183Z"
   },
   {
    "duration": 6,
    "start_time": "2022-05-09T21:53:16.191Z"
   },
   {
    "duration": 9,
    "start_time": "2022-05-09T21:53:16.198Z"
   },
   {
    "duration": 27,
    "start_time": "2022-05-09T21:53:16.208Z"
   },
   {
    "duration": 10,
    "start_time": "2022-05-09T21:53:16.236Z"
   },
   {
    "duration": 8,
    "start_time": "2022-05-09T21:53:16.248Z"
   },
   {
    "duration": 10,
    "start_time": "2022-05-09T21:53:16.258Z"
   },
   {
    "duration": 7,
    "start_time": "2022-05-09T21:53:16.270Z"
   },
   {
    "duration": 10,
    "start_time": "2022-05-09T21:53:16.279Z"
   },
   {
    "duration": 8,
    "start_time": "2022-05-09T21:53:16.291Z"
   },
   {
    "duration": 33,
    "start_time": "2022-05-09T21:53:16.301Z"
   },
   {
    "duration": 13,
    "start_time": "2022-05-09T21:53:16.336Z"
   },
   {
    "duration": 19,
    "start_time": "2022-05-09T21:53:16.351Z"
   },
   {
    "duration": 35,
    "start_time": "2022-05-09T21:53:16.372Z"
   },
   {
    "duration": 5,
    "start_time": "2022-05-09T21:53:16.434Z"
   },
   {
    "duration": 8,
    "start_time": "2022-05-09T21:53:16.441Z"
   },
   {
    "duration": 36,
    "start_time": "2022-05-09T21:53:16.455Z"
   },
   {
    "duration": 9,
    "start_time": "2022-05-09T21:53:16.494Z"
   },
   {
    "duration": 63,
    "start_time": "2022-05-09T21:53:16.535Z"
   },
   {
    "duration": 9,
    "start_time": "2022-05-09T21:53:16.600Z"
   },
   {
    "duration": 97,
    "start_time": "2022-05-09T21:53:16.611Z"
   },
   {
    "duration": 136,
    "start_time": "2022-05-09T21:53:16.710Z"
   },
   {
    "duration": 5,
    "start_time": "2022-05-09T21:53:16.848Z"
   },
   {
    "duration": 26,
    "start_time": "2022-05-09T21:53:16.855Z"
   },
   {
    "duration": 57,
    "start_time": "2022-05-09T21:53:16.883Z"
   },
   {
    "duration": 46,
    "start_time": "2022-05-09T21:53:16.942Z"
   },
   {
    "duration": 15,
    "start_time": "2022-05-09T21:53:16.990Z"
   },
   {
    "duration": 29,
    "start_time": "2022-05-09T21:53:17.007Z"
   },
   {
    "duration": 27,
    "start_time": "2022-05-09T21:53:17.038Z"
   },
   {
    "duration": 26,
    "start_time": "2022-05-09T21:53:17.066Z"
   },
   {
    "duration": 86,
    "start_time": "2022-05-09T21:53:17.094Z"
   },
   {
    "duration": 9,
    "start_time": "2022-05-09T21:53:17.182Z"
   },
   {
    "duration": 19,
    "start_time": "2022-05-09T21:53:17.192Z"
   },
   {
    "duration": 71,
    "start_time": "2022-05-09T21:53:17.212Z"
   },
   {
    "duration": 8,
    "start_time": "2022-05-09T21:53:17.285Z"
   },
   {
    "duration": 11,
    "start_time": "2022-05-09T21:53:17.295Z"
   },
   {
    "duration": 27,
    "start_time": "2022-05-09T21:53:17.308Z"
   },
   {
    "duration": 55,
    "start_time": "2022-05-09T21:53:17.337Z"
   },
   {
    "duration": 57,
    "start_time": "2022-05-09T21:53:17.393Z"
   },
   {
    "duration": 43,
    "start_time": "2022-05-09T21:53:17.452Z"
   },
   {
    "duration": 65,
    "start_time": "2022-05-09T21:53:17.496Z"
   },
   {
    "duration": 3,
    "start_time": "2022-05-09T21:53:17.563Z"
   },
   {
    "duration": 10,
    "start_time": "2022-05-09T21:53:17.567Z"
   },
   {
    "duration": 8,
    "start_time": "2022-05-09T21:53:17.579Z"
   },
   {
    "duration": 5,
    "start_time": "2022-05-09T21:53:17.589Z"
   },
   {
    "duration": 152,
    "start_time": "2022-05-09T21:53:17.595Z"
   },
   {
    "duration": 130,
    "start_time": "2022-05-09T21:53:17.748Z"
   },
   {
    "duration": 128,
    "start_time": "2022-05-09T21:53:17.880Z"
   },
   {
    "duration": 45,
    "start_time": "2022-05-09T21:53:18.010Z"
   },
   {
    "duration": 18,
    "start_time": "2022-05-09T21:53:18.057Z"
   },
   {
    "duration": 17,
    "start_time": "2022-05-09T21:53:18.077Z"
   },
   {
    "duration": 43,
    "start_time": "2022-05-09T21:53:18.095Z"
   },
   {
    "duration": 17,
    "start_time": "2022-05-09T21:53:18.140Z"
   },
   {
    "duration": 10,
    "start_time": "2022-05-09T21:53:18.158Z"
   },
   {
    "duration": 7,
    "start_time": "2022-05-09T21:53:18.170Z"
   },
   {
    "duration": 7,
    "start_time": "2022-05-09T21:53:18.179Z"
   },
   {
    "duration": 7,
    "start_time": "2022-05-09T21:53:18.187Z"
   },
   {
    "duration": 6,
    "start_time": "2022-05-09T21:53:18.196Z"
   },
   {
    "duration": 26,
    "start_time": "2022-05-09T21:53:18.233Z"
   },
   {
    "duration": 374,
    "start_time": "2022-05-09T21:53:18.261Z"
   },
   {
    "duration": 303,
    "start_time": "2022-05-09T21:53:18.636Z"
   },
   {
    "duration": 28,
    "start_time": "2022-05-09T21:53:18.940Z"
   },
   {
    "duration": 382,
    "start_time": "2022-05-09T21:53:18.970Z"
   },
   {
    "duration": 295,
    "start_time": "2022-05-09T21:53:19.354Z"
   },
   {
    "duration": 21,
    "start_time": "2022-05-09T21:53:19.651Z"
   },
   {
    "duration": 4,
    "start_time": "2022-05-09T21:53:19.674Z"
   },
   {
    "duration": 12,
    "start_time": "2022-05-09T21:53:19.680Z"
   },
   {
    "duration": 9,
    "start_time": "2022-05-09T21:53:19.694Z"
   },
   {
    "duration": 6,
    "start_time": "2022-05-09T21:53:19.734Z"
   },
   {
    "duration": 1827,
    "start_time": "2022-05-10T10:01:15.518Z"
   },
   {
    "duration": 7,
    "start_time": "2022-05-10T10:01:18.668Z"
   },
   {
    "duration": 108,
    "start_time": "2022-05-10T10:01:53.888Z"
   },
   {
    "duration": 7,
    "start_time": "2022-05-10T10:02:50.544Z"
   },
   {
    "duration": 54,
    "start_time": "2022-05-10T10:02:54.067Z"
   },
   {
    "duration": 6,
    "start_time": "2022-05-10T10:03:30.995Z"
   },
   {
    "duration": 62,
    "start_time": "2022-05-10T10:03:35.640Z"
   },
   {
    "duration": 6,
    "start_time": "2022-05-10T10:05:49.378Z"
   },
   {
    "duration": 1002,
    "start_time": "2022-05-10T10:08:57.564Z"
   },
   {
    "duration": 411,
    "start_time": "2022-05-10T10:10:19.688Z"
   },
   {
    "duration": 527,
    "start_time": "2022-05-10T10:11:50.078Z"
   },
   {
    "duration": 2149,
    "start_time": "2022-05-10T10:13:17.262Z"
   },
   {
    "duration": 10,
    "start_time": "2022-05-10T10:16:09.786Z"
   },
   {
    "duration": 66,
    "start_time": "2022-05-10T10:16:18.888Z"
   },
   {
    "duration": 4,
    "start_time": "2022-05-10T10:19:10.877Z"
   },
   {
    "duration": 7,
    "start_time": "2022-05-10T10:19:11.268Z"
   },
   {
    "duration": 98,
    "start_time": "2022-05-10T10:19:11.279Z"
   },
   {
    "duration": 419,
    "start_time": "2022-05-10T10:19:11.380Z"
   },
   {
    "duration": 371,
    "start_time": "2022-05-10T10:19:11.801Z"
   },
   {
    "duration": 535,
    "start_time": "2022-05-10T10:19:12.183Z"
   },
   {
    "duration": 66,
    "start_time": "2022-05-10T10:19:12.720Z"
   },
   {
    "duration": 1261,
    "start_time": "2022-05-10T14:25:48.456Z"
   },
   {
    "duration": 5,
    "start_time": "2022-05-10T14:25:49.719Z"
   },
   {
    "duration": 101,
    "start_time": "2022-05-10T14:25:49.725Z"
   },
   {
    "duration": 324,
    "start_time": "2022-05-10T14:25:49.828Z"
   },
   {
    "duration": 186,
    "start_time": "2022-05-10T14:25:50.154Z"
   },
   {
    "duration": 289,
    "start_time": "2022-05-10T14:25:50.342Z"
   },
   {
    "duration": 46,
    "start_time": "2022-05-10T14:25:50.632Z"
   },
   {
    "duration": 3,
    "start_time": "2022-05-10T14:25:50.679Z"
   },
   {
    "duration": 9,
    "start_time": "2022-05-10T14:25:50.684Z"
   },
   {
    "duration": 8,
    "start_time": "2022-05-10T14:26:38.849Z"
   },
   {
    "duration": 5,
    "start_time": "2022-05-10T14:27:29.570Z"
   },
   {
    "duration": 3,
    "start_time": "2022-05-10T14:43:45.881Z"
   },
   {
    "duration": 3,
    "start_time": "2022-05-10T14:44:44.619Z"
   },
   {
    "duration": 5,
    "start_time": "2022-05-10T14:44:44.650Z"
   },
   {
    "duration": 52,
    "start_time": "2022-05-10T14:44:44.657Z"
   },
   {
    "duration": 308,
    "start_time": "2022-05-10T14:44:44.710Z"
   },
   {
    "duration": 177,
    "start_time": "2022-05-10T14:44:45.020Z"
   },
   {
    "duration": 225,
    "start_time": "2022-05-10T14:44:45.199Z"
   },
   {
    "duration": 30,
    "start_time": "2022-05-10T14:44:45.425Z"
   },
   {
    "duration": 17,
    "start_time": "2022-05-10T14:44:45.456Z"
   },
   {
    "duration": 6,
    "start_time": "2022-05-10T14:44:45.474Z"
   },
   {
    "duration": 7,
    "start_time": "2022-05-10T14:44:45.482Z"
   },
   {
    "duration": 8,
    "start_time": "2022-05-10T14:44:45.490Z"
   },
   {
    "duration": 10,
    "start_time": "2022-05-10T14:44:45.500Z"
   },
   {
    "duration": 4,
    "start_time": "2022-05-10T14:44:50.102Z"
   },
   {
    "duration": 3,
    "start_time": "2022-05-10T14:52:06.325Z"
   },
   {
    "duration": 4,
    "start_time": "2022-05-10T14:52:06.342Z"
   },
   {
    "duration": 50,
    "start_time": "2022-05-10T14:52:06.347Z"
   },
   {
    "duration": 332,
    "start_time": "2022-05-10T14:52:06.398Z"
   },
   {
    "duration": 188,
    "start_time": "2022-05-10T14:52:06.732Z"
   },
   {
    "duration": 429,
    "start_time": "2022-05-10T14:52:06.922Z"
   },
   {
    "duration": 30,
    "start_time": "2022-05-10T14:52:07.353Z"
   },
   {
    "duration": 4,
    "start_time": "2022-05-10T14:52:07.384Z"
   },
   {
    "duration": 8,
    "start_time": "2022-05-10T14:52:07.389Z"
   },
   {
    "duration": 7,
    "start_time": "2022-05-10T14:52:07.399Z"
   },
   {
    "duration": 10,
    "start_time": "2022-05-10T14:52:07.407Z"
   },
   {
    "duration": 18,
    "start_time": "2022-05-10T14:52:07.419Z"
   },
   {
    "duration": 8,
    "start_time": "2022-05-10T14:52:07.439Z"
   },
   {
    "duration": 7,
    "start_time": "2022-05-10T14:52:07.448Z"
   },
   {
    "duration": 21,
    "start_time": "2022-05-10T14:52:07.456Z"
   },
   {
    "duration": 8,
    "start_time": "2022-05-10T14:52:07.478Z"
   },
   {
    "duration": 8,
    "start_time": "2022-05-10T14:52:07.487Z"
   },
   {
    "duration": 12,
    "start_time": "2022-05-10T14:52:07.497Z"
   },
   {
    "duration": 14,
    "start_time": "2022-05-10T14:52:07.510Z"
   },
   {
    "duration": 16,
    "start_time": "2022-05-10T14:52:07.525Z"
   },
   {
    "duration": 50,
    "start_time": "2022-05-10T14:52:07.542Z"
   },
   {
    "duration": 3,
    "start_time": "2022-05-10T14:52:07.594Z"
   },
   {
    "duration": 8,
    "start_time": "2022-05-10T14:52:07.598Z"
   },
   {
    "duration": 40,
    "start_time": "2022-05-10T14:52:07.607Z"
   },
   {
    "duration": 25,
    "start_time": "2022-05-10T14:52:07.649Z"
   },
   {
    "duration": 4,
    "start_time": "2022-05-10T14:52:53.181Z"
   },
   {
    "duration": 11,
    "start_time": "2022-05-10T14:53:00.299Z"
   },
   {
    "duration": 72,
    "start_time": "2022-05-10T14:53:25.188Z"
   },
   {
    "duration": 90,
    "start_time": "2022-05-10T14:53:28.234Z"
   },
   {
    "duration": 4,
    "start_time": "2022-05-10T14:57:42.436Z"
   },
   {
    "duration": 6,
    "start_time": "2022-05-10T14:57:42.441Z"
   },
   {
    "duration": 62,
    "start_time": "2022-05-10T14:57:42.450Z"
   },
   {
    "duration": 310,
    "start_time": "2022-05-10T14:57:42.514Z"
   },
   {
    "duration": 186,
    "start_time": "2022-05-10T14:57:42.826Z"
   },
   {
    "duration": 230,
    "start_time": "2022-05-10T14:57:43.014Z"
   },
   {
    "duration": 40,
    "start_time": "2022-05-10T14:57:43.246Z"
   },
   {
    "duration": 3,
    "start_time": "2022-05-10T14:57:43.288Z"
   },
   {
    "duration": 12,
    "start_time": "2022-05-10T14:57:43.293Z"
   },
   {
    "duration": 12,
    "start_time": "2022-05-10T14:57:43.307Z"
   },
   {
    "duration": 9,
    "start_time": "2022-05-10T14:57:43.321Z"
   },
   {
    "duration": 18,
    "start_time": "2022-05-10T14:57:43.333Z"
   },
   {
    "duration": 8,
    "start_time": "2022-05-10T14:57:43.353Z"
   },
   {
    "duration": 12,
    "start_time": "2022-05-10T14:57:43.363Z"
   },
   {
    "duration": 16,
    "start_time": "2022-05-10T14:57:43.377Z"
   },
   {
    "duration": 11,
    "start_time": "2022-05-10T14:57:43.394Z"
   },
   {
    "duration": 9,
    "start_time": "2022-05-10T14:57:43.407Z"
   },
   {
    "duration": 16,
    "start_time": "2022-05-10T14:57:43.417Z"
   },
   {
    "duration": 14,
    "start_time": "2022-05-10T14:57:43.434Z"
   },
   {
    "duration": 20,
    "start_time": "2022-05-10T14:57:43.450Z"
   },
   {
    "duration": 27,
    "start_time": "2022-05-10T14:57:43.473Z"
   },
   {
    "duration": 4,
    "start_time": "2022-05-10T14:57:43.501Z"
   },
   {
    "duration": 12,
    "start_time": "2022-05-10T14:57:43.507Z"
   },
   {
    "duration": 38,
    "start_time": "2022-05-10T14:57:43.520Z"
   },
   {
    "duration": 19,
    "start_time": "2022-05-10T14:57:43.560Z"
   },
   {
    "duration": 11,
    "start_time": "2022-05-10T14:57:43.581Z"
   },
   {
    "duration": 10,
    "start_time": "2022-05-10T14:57:43.594Z"
   },
   {
    "duration": 87,
    "start_time": "2022-05-10T14:57:43.606Z"
   },
   {
    "duration": 98,
    "start_time": "2022-05-10T14:57:43.695Z"
   },
   {
    "duration": 5,
    "start_time": "2022-05-10T14:57:43.797Z"
   },
   {
    "duration": 22,
    "start_time": "2022-05-10T14:57:43.803Z"
   },
   {
    "duration": 54,
    "start_time": "2022-05-10T14:57:43.827Z"
   },
   {
    "duration": 43,
    "start_time": "2022-05-10T14:57:43.883Z"
   },
   {
    "duration": 13,
    "start_time": "2022-05-10T14:57:43.928Z"
   },
   {
    "duration": 6,
    "start_time": "2022-05-10T14:57:43.943Z"
   },
   {
    "duration": 40,
    "start_time": "2022-05-10T14:57:43.951Z"
   },
   {
    "duration": 27,
    "start_time": "2022-05-10T14:57:43.992Z"
   },
   {
    "duration": 57,
    "start_time": "2022-05-10T14:57:44.020Z"
   },
   {
    "duration": 10,
    "start_time": "2022-05-10T14:57:44.078Z"
   },
   {
    "duration": 12,
    "start_time": "2022-05-10T14:57:44.089Z"
   },
   {
    "duration": 50,
    "start_time": "2022-05-10T14:57:44.103Z"
   },
   {
    "duration": 26,
    "start_time": "2022-05-10T14:57:44.154Z"
   },
   {
    "duration": 10,
    "start_time": "2022-05-10T14:57:44.181Z"
   },
   {
    "duration": 9,
    "start_time": "2022-05-10T14:57:44.192Z"
   },
   {
    "duration": 40,
    "start_time": "2022-05-10T14:57:44.202Z"
   },
   {
    "duration": 60,
    "start_time": "2022-05-10T14:57:44.243Z"
   },
   {
    "duration": 36,
    "start_time": "2022-05-10T14:57:44.304Z"
   },
   {
    "duration": 39,
    "start_time": "2022-05-10T14:57:50.910Z"
   },
   {
    "duration": 35,
    "start_time": "2022-05-10T15:05:06.251Z"
   },
   {
    "duration": 19,
    "start_time": "2022-05-10T15:05:37.165Z"
   },
   {
    "duration": 54,
    "start_time": "2022-05-10T15:06:22.016Z"
   },
   {
    "duration": 50,
    "start_time": "2022-05-10T15:09:20.422Z"
   },
   {
    "duration": 17,
    "start_time": "2022-05-10T15:10:26.724Z"
   },
   {
    "duration": 607,
    "start_time": "2022-05-10T15:11:07.003Z"
   },
   {
    "duration": 32,
    "start_time": "2022-05-10T15:11:19.222Z"
   },
   {
    "duration": 17,
    "start_time": "2022-05-10T15:12:33.472Z"
   },
   {
    "duration": 42,
    "start_time": "2022-05-10T15:13:31.382Z"
   },
   {
    "duration": 47,
    "start_time": "2022-05-10T15:14:13.704Z"
   },
   {
    "duration": 28,
    "start_time": "2022-05-10T15:14:24.283Z"
   },
   {
    "duration": 1158,
    "start_time": "2022-05-10T15:14:59.730Z"
   },
   {
    "duration": 5,
    "start_time": "2022-05-10T15:15:00.890Z"
   },
   {
    "duration": 165,
    "start_time": "2022-05-10T15:15:00.896Z"
   },
   {
    "duration": 371,
    "start_time": "2022-05-10T15:15:01.063Z"
   },
   {
    "duration": 220,
    "start_time": "2022-05-10T15:15:01.436Z"
   },
   {
    "duration": 546,
    "start_time": "2022-05-10T15:15:01.657Z"
   },
   {
    "duration": 50,
    "start_time": "2022-05-10T15:15:02.204Z"
   },
   {
    "duration": 3,
    "start_time": "2022-05-10T15:15:02.255Z"
   },
   {
    "duration": 10,
    "start_time": "2022-05-10T15:15:02.260Z"
   },
   {
    "duration": 7,
    "start_time": "2022-05-10T15:15:02.272Z"
   },
   {
    "duration": 13,
    "start_time": "2022-05-10T15:15:02.281Z"
   },
   {
    "duration": 10,
    "start_time": "2022-05-10T15:15:02.296Z"
   },
   {
    "duration": 15,
    "start_time": "2022-05-10T15:15:02.308Z"
   },
   {
    "duration": 12,
    "start_time": "2022-05-10T15:15:02.325Z"
   },
   {
    "duration": 8,
    "start_time": "2022-05-10T15:15:02.339Z"
   },
   {
    "duration": 7,
    "start_time": "2022-05-10T15:15:02.349Z"
   },
   {
    "duration": 25,
    "start_time": "2022-05-10T15:15:02.358Z"
   },
   {
    "duration": 59,
    "start_time": "2022-05-10T15:15:02.385Z"
   },
   {
    "duration": 18,
    "start_time": "2022-05-10T15:15:02.446Z"
   },
   {
    "duration": 21,
    "start_time": "2022-05-10T15:15:02.466Z"
   },
   {
    "duration": 35,
    "start_time": "2022-05-10T15:15:02.489Z"
   },
   {
    "duration": 5,
    "start_time": "2022-05-10T15:15:02.526Z"
   },
   {
    "duration": 23,
    "start_time": "2022-05-10T15:15:02.532Z"
   },
   {
    "duration": 53,
    "start_time": "2022-05-10T15:15:02.557Z"
   },
   {
    "duration": 9,
    "start_time": "2022-05-10T15:15:02.612Z"
   },
   {
    "duration": 21,
    "start_time": "2022-05-10T15:15:02.622Z"
   },
   {
    "duration": 11,
    "start_time": "2022-05-10T15:15:02.645Z"
   },
   {
    "duration": 97,
    "start_time": "2022-05-10T15:15:02.659Z"
   },
   {
    "duration": 125,
    "start_time": "2022-05-10T15:15:02.757Z"
   },
   {
    "duration": 4,
    "start_time": "2022-05-10T15:15:02.884Z"
   },
   {
    "duration": 32,
    "start_time": "2022-05-10T15:15:02.889Z"
   },
   {
    "duration": 55,
    "start_time": "2022-05-10T15:15:02.922Z"
   },
   {
    "duration": 46,
    "start_time": "2022-05-10T15:15:02.979Z"
   },
   {
    "duration": 15,
    "start_time": "2022-05-10T15:15:03.026Z"
   },
   {
    "duration": 12,
    "start_time": "2022-05-10T15:15:03.043Z"
   },
   {
    "duration": 24,
    "start_time": "2022-05-10T15:15:03.073Z"
   },
   {
    "duration": 30,
    "start_time": "2022-05-10T15:15:03.099Z"
   },
   {
    "duration": 64,
    "start_time": "2022-05-10T15:15:03.130Z"
   },
   {
    "duration": 9,
    "start_time": "2022-05-10T15:15:03.196Z"
   },
   {
    "duration": 12,
    "start_time": "2022-05-10T15:15:03.207Z"
   },
   {
    "duration": 72,
    "start_time": "2022-05-10T15:15:03.222Z"
   },
   {
    "duration": 9,
    "start_time": "2022-05-10T15:15:03.296Z"
   },
   {
    "duration": 10,
    "start_time": "2022-05-10T15:15:03.308Z"
   },
   {
    "duration": 11,
    "start_time": "2022-05-10T15:15:03.320Z"
   },
   {
    "duration": 63,
    "start_time": "2022-05-10T15:15:03.333Z"
   },
   {
    "duration": 41,
    "start_time": "2022-05-10T15:15:03.398Z"
   },
   {
    "duration": 62,
    "start_time": "2022-05-10T15:15:03.441Z"
   },
   {
    "duration": 44,
    "start_time": "2022-05-10T15:15:03.505Z"
   },
   {
    "duration": 73,
    "start_time": "2022-05-10T15:15:03.551Z"
   },
   {
    "duration": 31,
    "start_time": "2022-05-10T15:15:03.626Z"
   },
   {
    "duration": 49,
    "start_time": "2022-05-10T15:15:03.674Z"
   },
   {
    "duration": 47,
    "start_time": "2022-05-10T15:15:16.130Z"
   },
   {
    "duration": 54,
    "start_time": "2022-05-10T15:17:40.630Z"
   },
   {
    "duration": 22,
    "start_time": "2022-05-10T15:30:27.552Z"
   },
   {
    "duration": 11,
    "start_time": "2022-05-10T15:31:59.909Z"
   },
   {
    "duration": 1686,
    "start_time": "2022-05-10T15:34:42.337Z"
   },
   {
    "duration": 28,
    "start_time": "2022-05-10T15:37:18.678Z"
   },
   {
    "duration": 7,
    "start_time": "2022-05-10T15:47:03.726Z"
   },
   {
    "duration": 9,
    "start_time": "2022-05-10T15:47:12.268Z"
   },
   {
    "duration": 32,
    "start_time": "2022-05-10T15:52:20.825Z"
   },
   {
    "duration": 22,
    "start_time": "2022-05-10T15:59:07.704Z"
   },
   {
    "duration": 21,
    "start_time": "2022-05-10T15:59:15.298Z"
   },
   {
    "duration": 18,
    "start_time": "2022-05-10T15:59:29.558Z"
   },
   {
    "duration": 16,
    "start_time": "2022-05-10T16:01:01.669Z"
   },
   {
    "duration": 35,
    "start_time": "2022-05-10T16:01:16.130Z"
   },
   {
    "duration": 21,
    "start_time": "2022-05-10T16:01:57.795Z"
   },
   {
    "duration": 9,
    "start_time": "2022-05-10T16:04:08.621Z"
   },
   {
    "duration": 16,
    "start_time": "2022-05-10T16:04:31.057Z"
   },
   {
    "duration": 5750,
    "start_time": "2022-05-10T16:12:26.606Z"
   },
   {
    "duration": 5,
    "start_time": "2022-05-10T16:12:32.357Z"
   },
   {
    "duration": 212,
    "start_time": "2022-05-10T16:12:32.364Z"
   },
   {
    "duration": 353,
    "start_time": "2022-05-10T16:12:32.579Z"
   },
   {
    "duration": 207,
    "start_time": "2022-05-10T16:12:32.934Z"
   },
   {
    "duration": 688,
    "start_time": "2022-05-10T16:12:33.143Z"
   },
   {
    "duration": 49,
    "start_time": "2022-05-10T16:12:33.833Z"
   },
   {
    "duration": 4,
    "start_time": "2022-05-10T16:12:33.884Z"
   },
   {
    "duration": 22,
    "start_time": "2022-05-10T16:12:33.890Z"
   },
   {
    "duration": 7,
    "start_time": "2022-05-10T16:12:33.915Z"
   },
   {
    "duration": 16,
    "start_time": "2022-05-10T16:12:33.923Z"
   },
   {
    "duration": 11,
    "start_time": "2022-05-10T16:12:33.941Z"
   },
   {
    "duration": 8,
    "start_time": "2022-05-10T16:12:33.954Z"
   },
   {
    "duration": 14,
    "start_time": "2022-05-10T16:12:33.963Z"
   },
   {
    "duration": 7,
    "start_time": "2022-05-10T16:12:33.979Z"
   },
   {
    "duration": 13,
    "start_time": "2022-05-10T16:12:33.988Z"
   },
   {
    "duration": 10,
    "start_time": "2022-05-10T16:12:34.003Z"
   },
   {
    "duration": 14,
    "start_time": "2022-05-10T16:12:34.015Z"
   },
   {
    "duration": 14,
    "start_time": "2022-05-10T16:12:34.031Z"
   },
   {
    "duration": 15,
    "start_time": "2022-05-10T16:12:34.073Z"
   },
   {
    "duration": 28,
    "start_time": "2022-05-10T16:12:34.090Z"
   },
   {
    "duration": 5,
    "start_time": "2022-05-10T16:12:34.120Z"
   },
   {
    "duration": 10,
    "start_time": "2022-05-10T16:12:34.126Z"
   },
   {
    "duration": 61,
    "start_time": "2022-05-10T16:12:34.138Z"
   },
   {
    "duration": 9,
    "start_time": "2022-05-10T16:12:34.200Z"
   },
   {
    "duration": 7,
    "start_time": "2022-05-10T16:12:34.211Z"
   },
   {
    "duration": 9,
    "start_time": "2022-05-10T16:12:34.220Z"
   },
   {
    "duration": 102,
    "start_time": "2022-05-10T16:12:34.233Z"
   },
   {
    "duration": 112,
    "start_time": "2022-05-10T16:12:34.337Z"
   },
   {
    "duration": 6,
    "start_time": "2022-05-10T16:12:34.450Z"
   },
   {
    "duration": 38,
    "start_time": "2022-05-10T16:12:34.457Z"
   },
   {
    "duration": 38,
    "start_time": "2022-05-10T16:12:34.496Z"
   },
   {
    "duration": 68,
    "start_time": "2022-05-10T16:12:34.536Z"
   },
   {
    "duration": 14,
    "start_time": "2022-05-10T16:12:34.606Z"
   },
   {
    "duration": 10,
    "start_time": "2022-05-10T16:12:34.621Z"
   },
   {
    "duration": 41,
    "start_time": "2022-05-10T16:12:34.633Z"
   },
   {
    "duration": 30,
    "start_time": "2022-05-10T16:12:34.676Z"
   },
   {
    "duration": 39,
    "start_time": "2022-05-10T16:12:34.708Z"
   },
   {
    "duration": 30,
    "start_time": "2022-05-10T16:12:34.749Z"
   },
   {
    "duration": 11,
    "start_time": "2022-05-10T16:12:34.780Z"
   },
   {
    "duration": 51,
    "start_time": "2022-05-10T16:12:34.792Z"
   },
   {
    "duration": 30,
    "start_time": "2022-05-10T16:12:34.844Z"
   },
   {
    "duration": 9,
    "start_time": "2022-05-10T16:12:34.876Z"
   },
   {
    "duration": 20,
    "start_time": "2022-05-10T16:12:34.887Z"
   },
   {
    "duration": 43,
    "start_time": "2022-05-10T16:12:34.909Z"
   },
   {
    "duration": 55,
    "start_time": "2022-05-10T16:12:34.954Z"
   },
   {
    "duration": 40,
    "start_time": "2022-05-10T16:12:35.011Z"
   },
   {
    "duration": 57,
    "start_time": "2022-05-10T16:12:35.053Z"
   },
   {
    "duration": 70,
    "start_time": "2022-05-10T16:12:35.111Z"
   },
   {
    "duration": 30,
    "start_time": "2022-05-10T16:12:35.183Z"
   },
   {
    "duration": 67,
    "start_time": "2022-05-10T16:12:35.215Z"
   },
   {
    "duration": 25,
    "start_time": "2022-05-10T16:12:35.284Z"
   },
   {
    "duration": 15,
    "start_time": "2022-05-10T16:12:35.311Z"
   },
   {
    "duration": 3,
    "start_time": "2022-05-10T16:12:35.328Z"
   },
   {
    "duration": 8,
    "start_time": "2022-05-10T16:12:35.333Z"
   },
   {
    "duration": 30,
    "start_time": "2022-05-10T16:12:35.343Z"
   },
   {
    "duration": 10,
    "start_time": "2022-05-10T16:12:35.375Z"
   },
   {
    "duration": 141,
    "start_time": "2022-05-10T16:12:35.387Z"
   },
   {
    "duration": 116,
    "start_time": "2022-05-10T16:12:35.530Z"
   },
   {
    "duration": 122,
    "start_time": "2022-05-10T16:12:35.647Z"
   },
   {
    "duration": 36,
    "start_time": "2022-05-10T16:12:35.773Z"
   },
   {
    "duration": 19,
    "start_time": "2022-05-10T16:12:35.811Z"
   },
   {
    "duration": 43,
    "start_time": "2022-05-10T16:12:35.832Z"
   },
   {
    "duration": 18,
    "start_time": "2022-05-10T16:12:35.877Z"
   },
   {
    "duration": 18,
    "start_time": "2022-05-10T16:12:35.896Z"
   },
   {
    "duration": 17,
    "start_time": "2022-05-10T16:12:35.916Z"
   },
   {
    "duration": 38,
    "start_time": "2022-05-10T16:12:35.935Z"
   },
   {
    "duration": 5,
    "start_time": "2022-05-10T16:12:35.975Z"
   },
   {
    "duration": 8,
    "start_time": "2022-05-10T16:12:35.982Z"
   },
   {
    "duration": 5,
    "start_time": "2022-05-10T16:12:35.991Z"
   },
   {
    "duration": 27,
    "start_time": "2022-05-10T16:12:35.998Z"
   },
   {
    "duration": 452,
    "start_time": "2022-05-10T16:12:36.027Z"
   },
   {
    "duration": 280,
    "start_time": "2022-05-10T16:12:36.482Z"
   },
   {
    "duration": 32,
    "start_time": "2022-05-10T16:12:36.764Z"
   },
   {
    "duration": 362,
    "start_time": "2022-05-10T16:12:36.798Z"
   },
   {
    "duration": 276,
    "start_time": "2022-05-10T16:12:37.162Z"
   },
   {
    "duration": 35,
    "start_time": "2022-05-10T16:12:37.440Z"
   },
   {
    "duration": 6,
    "start_time": "2022-05-10T16:12:37.477Z"
   },
   {
    "duration": 122,
    "start_time": "2022-05-10T16:12:37.485Z"
   },
   {
    "duration": 10,
    "start_time": "2022-05-10T16:12:37.609Z"
   },
   {
    "duration": 7,
    "start_time": "2022-05-10T16:12:37.621Z"
   },
   {
    "duration": 1890,
    "start_time": "2022-05-11T06:35:01.023Z"
   },
   {
    "duration": 9,
    "start_time": "2022-05-11T06:35:02.917Z"
   },
   {
    "duration": 164,
    "start_time": "2022-05-11T06:35:02.928Z"
   },
   {
    "duration": 503,
    "start_time": "2022-05-11T06:35:03.096Z"
   },
   {
    "duration": 273,
    "start_time": "2022-05-11T06:35:03.601Z"
   },
   {
    "duration": 389,
    "start_time": "2022-05-11T06:35:03.876Z"
   },
   {
    "duration": 81,
    "start_time": "2022-05-11T06:35:04.267Z"
   },
   {
    "duration": 9,
    "start_time": "2022-05-11T06:35:04.351Z"
   },
   {
    "duration": 15,
    "start_time": "2022-05-11T06:35:04.362Z"
   },
   {
    "duration": 5,
    "start_time": "2022-05-11T06:35:04.383Z"
   },
   {
    "duration": 16,
    "start_time": "2022-05-11T06:35:04.390Z"
   },
   {
    "duration": 11,
    "start_time": "2022-05-11T06:35:04.408Z"
   },
   {
    "duration": 35,
    "start_time": "2022-05-11T06:35:04.421Z"
   },
   {
    "duration": 15,
    "start_time": "2022-05-11T06:35:04.459Z"
   },
   {
    "duration": 11,
    "start_time": "2022-05-11T06:35:04.478Z"
   },
   {
    "duration": 15,
    "start_time": "2022-05-11T06:35:04.491Z"
   },
   {
    "duration": 10,
    "start_time": "2022-05-11T06:35:04.508Z"
   },
   {
    "duration": 42,
    "start_time": "2022-05-11T06:35:04.520Z"
   },
   {
    "duration": 22,
    "start_time": "2022-05-11T06:35:04.564Z"
   },
   {
    "duration": 26,
    "start_time": "2022-05-11T06:35:04.588Z"
   },
   {
    "duration": 44,
    "start_time": "2022-05-11T06:35:04.653Z"
   },
   {
    "duration": 7,
    "start_time": "2022-05-11T06:35:04.700Z"
   },
   {
    "duration": 9,
    "start_time": "2022-05-11T06:35:04.709Z"
   },
   {
    "duration": 50,
    "start_time": "2022-05-11T06:35:04.761Z"
   },
   {
    "duration": 12,
    "start_time": "2022-05-11T06:35:04.814Z"
   },
   {
    "duration": 27,
    "start_time": "2022-05-11T06:35:04.829Z"
   },
   {
    "duration": 18,
    "start_time": "2022-05-11T06:35:04.859Z"
   },
   {
    "duration": 121,
    "start_time": "2022-05-11T06:35:04.884Z"
   },
   {
    "duration": 166,
    "start_time": "2022-05-11T06:35:05.008Z"
   },
   {
    "duration": 5,
    "start_time": "2022-05-11T06:35:05.176Z"
   },
   {
    "duration": 34,
    "start_time": "2022-05-11T06:35:05.183Z"
   },
   {
    "duration": 92,
    "start_time": "2022-05-11T06:35:05.219Z"
   },
   {
    "duration": 81,
    "start_time": "2022-05-11T06:35:05.314Z"
   },
   {
    "duration": 18,
    "start_time": "2022-05-11T06:35:05.398Z"
   },
   {
    "duration": 9,
    "start_time": "2022-05-11T06:35:05.419Z"
   },
   {
    "duration": 70,
    "start_time": "2022-05-11T06:35:05.430Z"
   },
   {
    "duration": 61,
    "start_time": "2022-05-11T06:35:05.503Z"
   },
   {
    "duration": 66,
    "start_time": "2022-05-11T06:35:05.566Z"
   },
   {
    "duration": 33,
    "start_time": "2022-05-11T06:35:05.635Z"
   },
   {
    "duration": 16,
    "start_time": "2022-05-11T06:35:05.674Z"
   },
   {
    "duration": 102,
    "start_time": "2022-05-11T06:35:05.692Z"
   },
   {
    "duration": 13,
    "start_time": "2022-05-11T06:35:05.797Z"
   },
   {
    "duration": 14,
    "start_time": "2022-05-11T06:35:05.813Z"
   },
   {
    "duration": 41,
    "start_time": "2022-05-11T06:35:05.829Z"
   },
   {
    "duration": 67,
    "start_time": "2022-05-11T06:35:05.872Z"
   },
   {
    "duration": 63,
    "start_time": "2022-05-11T06:35:05.957Z"
   },
   {
    "duration": 93,
    "start_time": "2022-05-11T06:35:06.023Z"
   },
   {
    "duration": 78,
    "start_time": "2022-05-11T06:35:06.118Z"
   },
   {
    "duration": 97,
    "start_time": "2022-05-11T06:35:06.198Z"
   },
   {
    "duration": 40,
    "start_time": "2022-05-11T06:35:06.298Z"
   },
   {
    "duration": 71,
    "start_time": "2022-05-11T06:35:06.357Z"
   },
   {
    "duration": 59,
    "start_time": "2022-05-11T06:35:06.431Z"
   },
   {
    "duration": 21,
    "start_time": "2022-05-11T06:35:06.493Z"
   },
   {
    "duration": 4,
    "start_time": "2022-05-11T06:35:06.516Z"
   },
   {
    "duration": 39,
    "start_time": "2022-05-11T06:35:06.522Z"
   },
   {
    "duration": 21,
    "start_time": "2022-05-11T06:35:06.564Z"
   },
   {
    "duration": 8,
    "start_time": "2022-05-11T06:35:06.587Z"
   },
   {
    "duration": 293,
    "start_time": "2022-05-11T06:35:06.597Z"
   },
   {
    "duration": 233,
    "start_time": "2022-05-11T06:35:06.892Z"
   },
   {
    "duration": 239,
    "start_time": "2022-05-11T06:35:07.128Z"
   },
   {
    "duration": 52,
    "start_time": "2022-05-11T06:35:07.369Z"
   },
   {
    "duration": 52,
    "start_time": "2022-05-11T06:35:07.424Z"
   },
   {
    "duration": 31,
    "start_time": "2022-05-11T06:35:07.478Z"
   },
   {
    "duration": 54,
    "start_time": "2022-05-11T06:35:07.512Z"
   },
   {
    "duration": 28,
    "start_time": "2022-05-11T06:35:07.569Z"
   },
   {
    "duration": 18,
    "start_time": "2022-05-11T06:35:07.599Z"
   },
   {
    "duration": 39,
    "start_time": "2022-05-11T06:35:07.619Z"
   },
   {
    "duration": 24,
    "start_time": "2022-05-11T06:35:07.661Z"
   },
   {
    "duration": 18,
    "start_time": "2022-05-11T06:35:07.687Z"
   },
   {
    "duration": 10,
    "start_time": "2022-05-11T06:35:07.708Z"
   },
   {
    "duration": 60,
    "start_time": "2022-05-11T06:35:07.721Z"
   },
   {
    "duration": 626,
    "start_time": "2022-05-11T06:35:07.784Z"
   },
   {
    "duration": 505,
    "start_time": "2022-05-11T06:35:08.412Z"
   },
   {
    "duration": 52,
    "start_time": "2022-05-11T06:35:08.919Z"
   },
   {
    "duration": 692,
    "start_time": "2022-05-11T06:35:08.974Z"
   },
   {
    "duration": 549,
    "start_time": "2022-05-11T06:35:09.669Z"
   },
   {
    "duration": 56,
    "start_time": "2022-05-11T06:35:10.221Z"
   },
   {
    "duration": 8,
    "start_time": "2022-05-11T06:35:10.280Z"
   },
   {
    "duration": 135,
    "start_time": "2022-05-11T06:35:10.291Z"
   },
   {
    "duration": 27,
    "start_time": "2022-05-11T06:35:10.430Z"
   },
   {
    "duration": 26,
    "start_time": "2022-05-11T06:35:10.460Z"
   },
   {
    "duration": 100,
    "start_time": "2022-05-11T06:44:21.536Z"
   },
   {
    "duration": 51,
    "start_time": "2022-05-11T06:44:37.830Z"
   },
   {
    "duration": 33,
    "start_time": "2022-05-11T06:44:48.118Z"
   },
   {
    "duration": 163,
    "start_time": "2022-05-11T06:45:53.773Z"
   },
   {
    "duration": 49,
    "start_time": "2022-05-11T06:51:35.870Z"
   },
   {
    "duration": 5,
    "start_time": "2022-05-11T06:53:39.009Z"
   },
   {
    "duration": 1330,
    "start_time": "2022-05-11T07:23:51.056Z"
   },
   {
    "duration": 6,
    "start_time": "2022-05-11T07:23:52.389Z"
   },
   {
    "duration": 128,
    "start_time": "2022-05-11T07:23:52.397Z"
   },
   {
    "duration": 408,
    "start_time": "2022-05-11T07:23:52.528Z"
   },
   {
    "duration": 235,
    "start_time": "2022-05-11T07:23:52.938Z"
   },
   {
    "duration": 313,
    "start_time": "2022-05-11T07:23:53.176Z"
   },
   {
    "duration": 60,
    "start_time": "2022-05-11T07:23:53.492Z"
   },
   {
    "duration": 5,
    "start_time": "2022-05-11T07:23:53.554Z"
   },
   {
    "duration": 10,
    "start_time": "2022-05-11T07:23:53.561Z"
   },
   {
    "duration": 7,
    "start_time": "2022-05-11T07:23:53.574Z"
   },
   {
    "duration": 18,
    "start_time": "2022-05-11T07:23:53.583Z"
   },
   {
    "duration": 26,
    "start_time": "2022-05-11T07:23:53.603Z"
   },
   {
    "duration": 8,
    "start_time": "2022-05-11T07:23:53.632Z"
   },
   {
    "duration": 7,
    "start_time": "2022-05-11T07:23:53.652Z"
   },
   {
    "duration": 8,
    "start_time": "2022-05-11T07:23:53.661Z"
   },
   {
    "duration": 10,
    "start_time": "2022-05-11T07:23:53.671Z"
   },
   {
    "duration": 12,
    "start_time": "2022-05-11T07:23:53.683Z"
   },
   {
    "duration": 16,
    "start_time": "2022-05-11T07:23:53.697Z"
   },
   {
    "duration": 52,
    "start_time": "2022-05-11T07:23:53.715Z"
   },
   {
    "duration": 28,
    "start_time": "2022-05-11T07:23:53.769Z"
   },
   {
    "duration": 59,
    "start_time": "2022-05-11T07:23:53.799Z"
   },
   {
    "duration": 6,
    "start_time": "2022-05-11T07:23:53.860Z"
   },
   {
    "duration": 10,
    "start_time": "2022-05-11T07:23:53.868Z"
   },
   {
    "duration": 50,
    "start_time": "2022-05-11T07:23:53.880Z"
   },
   {
    "duration": 12,
    "start_time": "2022-05-11T07:23:53.952Z"
   },
   {
    "duration": 10,
    "start_time": "2022-05-11T07:23:53.966Z"
   },
   {
    "duration": 17,
    "start_time": "2022-05-11T07:23:53.978Z"
   },
   {
    "duration": 114,
    "start_time": "2022-05-11T07:23:54.002Z"
   },
   {
    "duration": 132,
    "start_time": "2022-05-11T07:23:54.118Z"
   },
   {
    "duration": 6,
    "start_time": "2022-05-11T07:23:54.252Z"
   },
   {
    "duration": 34,
    "start_time": "2022-05-11T07:23:54.260Z"
   },
   {
    "duration": 76,
    "start_time": "2022-05-11T07:23:54.296Z"
   },
   {
    "duration": 54,
    "start_time": "2022-05-11T07:23:54.374Z"
   },
   {
    "duration": 35,
    "start_time": "2022-05-11T07:23:54.430Z"
   },
   {
    "duration": 6,
    "start_time": "2022-05-11T07:23:54.467Z"
   },
   {
    "duration": 34,
    "start_time": "2022-05-11T07:23:54.475Z"
   },
   {
    "duration": 69,
    "start_time": "2022-05-11T07:23:54.511Z"
   },
   {
    "duration": 73,
    "start_time": "2022-05-11T07:23:54.582Z"
   },
   {
    "duration": 13,
    "start_time": "2022-05-11T07:23:54.657Z"
   },
   {
    "duration": 15,
    "start_time": "2022-05-11T07:23:54.672Z"
   },
   {
    "duration": 94,
    "start_time": "2022-05-11T07:23:54.690Z"
   },
   {
    "duration": 12,
    "start_time": "2022-05-11T07:23:54.786Z"
   },
   {
    "duration": 12,
    "start_time": "2022-05-11T07:23:54.800Z"
   },
   {
    "duration": 12,
    "start_time": "2022-05-11T07:23:54.814Z"
   },
   {
    "duration": 54,
    "start_time": "2022-05-11T07:23:54.852Z"
   },
   {
    "duration": 75,
    "start_time": "2022-05-11T07:23:54.908Z"
   },
   {
    "duration": 67,
    "start_time": "2022-05-11T07:23:54.985Z"
   },
   {
    "duration": 57,
    "start_time": "2022-05-11T07:23:55.054Z"
   },
   {
    "duration": 91,
    "start_time": "2022-05-11T07:23:55.114Z"
   },
   {
    "duration": 51,
    "start_time": "2022-05-11T07:23:55.207Z"
   },
   {
    "duration": 64,
    "start_time": "2022-05-11T07:23:55.260Z"
   },
   {
    "duration": 49,
    "start_time": "2022-05-11T07:23:55.326Z"
   },
   {
    "duration": 21,
    "start_time": "2022-05-11T07:23:55.377Z"
   },
   {
    "duration": 7,
    "start_time": "2022-05-11T07:23:55.400Z"
   },
   {
    "duration": 6,
    "start_time": "2022-05-11T07:23:55.410Z"
   },
   {
    "duration": 34,
    "start_time": "2022-05-11T07:23:55.418Z"
   },
   {
    "duration": 9,
    "start_time": "2022-05-11T07:23:55.454Z"
   },
   {
    "duration": 211,
    "start_time": "2022-05-11T07:23:55.465Z"
   },
   {
    "duration": 215,
    "start_time": "2022-05-11T07:23:55.679Z"
   },
   {
    "duration": 198,
    "start_time": "2022-05-11T07:23:55.896Z"
   },
   {
    "duration": 64,
    "start_time": "2022-05-11T07:23:56.096Z"
   },
   {
    "duration": 25,
    "start_time": "2022-05-11T07:23:56.162Z"
   },
   {
    "duration": 25,
    "start_time": "2022-05-11T07:23:56.189Z"
   },
   {
    "duration": 55,
    "start_time": "2022-05-11T07:23:56.216Z"
   },
   {
    "duration": 23,
    "start_time": "2022-05-11T07:23:56.273Z"
   },
   {
    "duration": 21,
    "start_time": "2022-05-11T07:23:56.298Z"
   },
   {
    "duration": 32,
    "start_time": "2022-05-11T07:23:56.321Z"
   },
   {
    "duration": 30,
    "start_time": "2022-05-11T07:23:56.355Z"
   },
   {
    "duration": 39,
    "start_time": "2022-05-11T07:23:56.387Z"
   },
   {
    "duration": 12,
    "start_time": "2022-05-11T07:23:56.428Z"
   },
   {
    "duration": 47,
    "start_time": "2022-05-11T07:23:56.441Z"
   },
   {
    "duration": 550,
    "start_time": "2022-05-11T07:23:56.491Z"
   },
   {
    "duration": 463,
    "start_time": "2022-05-11T07:23:57.044Z"
   },
   {
    "duration": 55,
    "start_time": "2022-05-11T07:23:57.510Z"
   },
   {
    "duration": 540,
    "start_time": "2022-05-11T07:23:57.567Z"
   },
   {
    "duration": 433,
    "start_time": "2022-05-11T07:23:58.109Z"
   },
   {
    "duration": 29,
    "start_time": "2022-05-11T07:23:58.552Z"
   },
   {
    "duration": 6,
    "start_time": "2022-05-11T07:23:58.583Z"
   },
   {
    "duration": 112,
    "start_time": "2022-05-11T07:23:58.591Z"
   },
   {
    "duration": 12,
    "start_time": "2022-05-11T07:23:58.706Z"
   },
   {
    "duration": 8,
    "start_time": "2022-05-11T07:23:58.720Z"
   },
   {
    "duration": 1406,
    "start_time": "2022-05-13T11:44:56.629Z"
   },
   {
    "duration": 8,
    "start_time": "2022-05-13T11:44:58.038Z"
   },
   {
    "duration": 148,
    "start_time": "2022-05-13T11:44:58.048Z"
   },
   {
    "duration": 442,
    "start_time": "2022-05-13T11:44:58.200Z"
   },
   {
    "duration": 228,
    "start_time": "2022-05-13T11:44:58.645Z"
   },
   {
    "duration": 349,
    "start_time": "2022-05-13T11:44:58.876Z"
   },
   {
    "duration": 66,
    "start_time": "2022-05-13T11:44:59.227Z"
   },
   {
    "duration": 6,
    "start_time": "2022-05-13T11:44:59.295Z"
   },
   {
    "duration": 9,
    "start_time": "2022-05-13T11:44:59.304Z"
   },
   {
    "duration": 7,
    "start_time": "2022-05-13T11:44:59.317Z"
   },
   {
    "duration": 20,
    "start_time": "2022-05-13T11:44:59.326Z"
   },
   {
    "duration": 12,
    "start_time": "2022-05-13T11:44:59.349Z"
   },
   {
    "duration": 34,
    "start_time": "2022-05-13T11:44:59.363Z"
   },
   {
    "duration": 11,
    "start_time": "2022-05-13T11:44:59.400Z"
   },
   {
    "duration": 9,
    "start_time": "2022-05-13T11:44:59.414Z"
   },
   {
    "duration": 10,
    "start_time": "2022-05-13T11:44:59.425Z"
   },
   {
    "duration": 13,
    "start_time": "2022-05-13T11:44:59.438Z"
   },
   {
    "duration": 55,
    "start_time": "2022-05-13T11:44:59.453Z"
   },
   {
    "duration": 20,
    "start_time": "2022-05-13T11:44:59.511Z"
   },
   {
    "duration": 21,
    "start_time": "2022-05-13T11:44:59.533Z"
   },
   {
    "duration": 61,
    "start_time": "2022-05-13T11:44:59.557Z"
   },
   {
    "duration": 5,
    "start_time": "2022-05-13T11:44:59.621Z"
   },
   {
    "duration": 12,
    "start_time": "2022-05-13T11:44:59.628Z"
   },
   {
    "duration": 76,
    "start_time": "2022-05-13T11:44:59.642Z"
   },
   {
    "duration": 13,
    "start_time": "2022-05-13T11:44:59.720Z"
   },
   {
    "duration": 9,
    "start_time": "2022-05-13T11:44:59.735Z"
   },
   {
    "duration": 14,
    "start_time": "2022-05-13T11:44:59.747Z"
   },
   {
    "duration": 133,
    "start_time": "2022-05-13T11:44:59.794Z"
   },
   {
    "duration": 151,
    "start_time": "2022-05-13T11:44:59.929Z"
   },
   {
    "duration": 15,
    "start_time": "2022-05-13T11:45:00.082Z"
   },
   {
    "duration": 37,
    "start_time": "2022-05-13T11:45:00.100Z"
   },
   {
    "duration": 79,
    "start_time": "2022-05-13T11:45:00.140Z"
   },
   {
    "duration": 73,
    "start_time": "2022-05-13T11:45:00.222Z"
   },
   {
    "duration": 22,
    "start_time": "2022-05-13T11:45:00.298Z"
   },
   {
    "duration": 20,
    "start_time": "2022-05-13T11:45:00.323Z"
   },
   {
    "duration": 67,
    "start_time": "2022-05-13T11:45:00.346Z"
   },
   {
    "duration": 54,
    "start_time": "2022-05-13T11:45:00.415Z"
   },
   {
    "duration": 91,
    "start_time": "2022-05-13T11:45:00.472Z"
   },
   {
    "duration": 34,
    "start_time": "2022-05-13T11:45:00.566Z"
   },
   {
    "duration": 31,
    "start_time": "2022-05-13T11:45:00.602Z"
   },
   {
    "duration": 89,
    "start_time": "2022-05-13T11:45:00.636Z"
   },
   {
    "duration": 13,
    "start_time": "2022-05-13T11:45:00.727Z"
   },
   {
    "duration": 42,
    "start_time": "2022-05-13T11:45:00.744Z"
   },
   {
    "duration": 32,
    "start_time": "2022-05-13T11:45:00.789Z"
   },
   {
    "duration": 94,
    "start_time": "2022-05-13T11:45:00.823Z"
   },
   {
    "duration": 46,
    "start_time": "2022-05-13T11:45:00.919Z"
   },
   {
    "duration": 89,
    "start_time": "2022-05-13T11:45:00.967Z"
   },
   {
    "duration": 53,
    "start_time": "2022-05-13T11:45:01.059Z"
   },
   {
    "duration": 24,
    "start_time": "2022-05-13T11:45:01.114Z"
   },
   {
    "duration": 33,
    "start_time": "2022-05-13T11:45:01.140Z"
   },
   {
    "duration": 43,
    "start_time": "2022-05-13T11:45:01.175Z"
   },
   {
    "duration": 10,
    "start_time": "2022-05-13T11:45:01.221Z"
   },
   {
    "duration": 46,
    "start_time": "2022-05-13T11:45:01.234Z"
   },
   {
    "duration": 41,
    "start_time": "2022-05-13T11:45:01.283Z"
   },
   {
    "duration": 23,
    "start_time": "2022-05-13T11:45:01.327Z"
   },
   {
    "duration": 19,
    "start_time": "2022-05-13T11:45:01.353Z"
   },
   {
    "duration": 23,
    "start_time": "2022-05-13T11:45:01.374Z"
   },
   {
    "duration": 8,
    "start_time": "2022-05-13T11:45:01.400Z"
   },
   {
    "duration": 78,
    "start_time": "2022-05-13T11:45:01.411Z"
   },
   {
    "duration": 936,
    "start_time": "2022-05-13T11:45:01.491Z"
   },
   {
    "duration": 706,
    "start_time": "2022-05-13T11:45:02.429Z"
   },
   {
    "duration": 905,
    "start_time": "2022-05-13T11:45:03.137Z"
   },
   {
    "duration": 1070,
    "start_time": "2022-05-13T11:45:04.044Z"
   },
   {
    "duration": 17,
    "start_time": "2022-05-13T11:45:05.117Z"
   },
   {
    "duration": 55,
    "start_time": "2022-05-13T11:45:05.136Z"
   },
   {
    "duration": 67,
    "start_time": "2022-05-13T11:45:05.194Z"
   },
   {
    "duration": 72,
    "start_time": "2022-05-13T11:45:05.263Z"
   },
   {
    "duration": 1398,
    "start_time": "2022-05-13T11:59:24.130Z"
   },
   {
    "duration": 6,
    "start_time": "2022-05-13T11:59:25.531Z"
   },
   {
    "duration": 147,
    "start_time": "2022-05-13T11:59:25.540Z"
   },
   {
    "duration": 415,
    "start_time": "2022-05-13T11:59:25.693Z"
   },
   {
    "duration": 224,
    "start_time": "2022-05-13T11:59:26.111Z"
   },
   {
    "duration": 340,
    "start_time": "2022-05-13T11:59:26.337Z"
   },
   {
    "duration": 48,
    "start_time": "2022-05-13T11:59:26.679Z"
   },
   {
    "duration": 5,
    "start_time": "2022-05-13T11:59:26.729Z"
   },
   {
    "duration": 13,
    "start_time": "2022-05-13T11:59:26.736Z"
   },
   {
    "duration": 5,
    "start_time": "2022-05-13T11:59:26.753Z"
   },
   {
    "duration": 33,
    "start_time": "2022-05-13T11:59:26.760Z"
   },
   {
    "duration": 12,
    "start_time": "2022-05-13T11:59:26.795Z"
   },
   {
    "duration": 6,
    "start_time": "2022-05-13T11:59:26.809Z"
   },
   {
    "duration": 7,
    "start_time": "2022-05-13T11:59:26.818Z"
   },
   {
    "duration": 8,
    "start_time": "2022-05-13T11:59:26.827Z"
   },
   {
    "duration": 7,
    "start_time": "2022-05-13T11:59:26.838Z"
   },
   {
    "duration": 54,
    "start_time": "2022-05-13T11:59:26.847Z"
   },
   {
    "duration": 21,
    "start_time": "2022-05-13T11:59:26.903Z"
   },
   {
    "duration": 21,
    "start_time": "2022-05-13T11:59:26.926Z"
   },
   {
    "duration": 54,
    "start_time": "2022-05-13T11:59:26.949Z"
   },
   {
    "duration": 36,
    "start_time": "2022-05-13T11:59:27.005Z"
   },
   {
    "duration": 5,
    "start_time": "2022-05-13T11:59:27.043Z"
   },
   {
    "duration": 10,
    "start_time": "2022-05-13T11:59:27.050Z"
   },
   {
    "duration": 78,
    "start_time": "2022-05-13T11:59:27.063Z"
   },
   {
    "duration": 12,
    "start_time": "2022-05-13T11:59:27.143Z"
   },
   {
    "duration": 7,
    "start_time": "2022-05-13T11:59:27.157Z"
   },
   {
    "duration": 35,
    "start_time": "2022-05-13T11:59:27.166Z"
   },
   {
    "duration": 120,
    "start_time": "2022-05-13T11:59:27.207Z"
   },
   {
    "duration": 147,
    "start_time": "2022-05-13T11:59:27.329Z"
   },
   {
    "duration": 6,
    "start_time": "2022-05-13T11:59:27.478Z"
   },
   {
    "duration": 31,
    "start_time": "2022-05-13T11:59:27.494Z"
   },
   {
    "duration": 72,
    "start_time": "2022-05-13T11:59:27.527Z"
   },
   {
    "duration": 55,
    "start_time": "2022-05-13T11:59:27.602Z"
   },
   {
    "duration": 39,
    "start_time": "2022-05-13T11:59:27.660Z"
   },
   {
    "duration": 6,
    "start_time": "2022-05-13T11:59:27.702Z"
   },
   {
    "duration": 34,
    "start_time": "2022-05-13T11:59:27.711Z"
   },
   {
    "duration": 78,
    "start_time": "2022-05-13T11:59:27.747Z"
   },
   {
    "duration": 87,
    "start_time": "2022-05-13T11:59:27.827Z"
   },
   {
    "duration": 14,
    "start_time": "2022-05-13T11:59:27.916Z"
   },
   {
    "duration": 15,
    "start_time": "2022-05-13T11:59:27.933Z"
   },
   {
    "duration": 90,
    "start_time": "2022-05-13T11:59:27.950Z"
   },
   {
    "duration": 12,
    "start_time": "2022-05-13T11:59:28.042Z"
   },
   {
    "duration": 15,
    "start_time": "2022-05-13T11:59:28.056Z"
   },
   {
    "duration": 30,
    "start_time": "2022-05-13T11:59:28.073Z"
   },
   {
    "duration": 94,
    "start_time": "2022-05-13T11:59:28.105Z"
   },
   {
    "duration": 42,
    "start_time": "2022-05-13T11:59:28.201Z"
   },
   {
    "duration": 90,
    "start_time": "2022-05-13T11:59:28.245Z"
   },
   {
    "duration": 30,
    "start_time": "2022-05-13T11:59:28.338Z"
   },
   {
    "duration": 36,
    "start_time": "2022-05-13T11:59:28.370Z"
   },
   {
    "duration": 12,
    "start_time": "2022-05-13T11:59:28.408Z"
   },
   {
    "duration": 13,
    "start_time": "2022-05-13T11:59:28.422Z"
   },
   {
    "duration": 8,
    "start_time": "2022-05-13T11:59:28.437Z"
   },
   {
    "duration": 58,
    "start_time": "2022-05-13T11:59:28.447Z"
   },
   {
    "duration": 31,
    "start_time": "2022-05-13T11:59:28.508Z"
   },
   {
    "duration": 8,
    "start_time": "2022-05-13T11:59:28.541Z"
   },
   {
    "duration": 43,
    "start_time": "2022-05-13T11:59:28.551Z"
   },
   {
    "duration": 7,
    "start_time": "2022-05-13T11:59:28.596Z"
   },
   {
    "duration": 8,
    "start_time": "2022-05-13T11:59:28.605Z"
   },
   {
    "duration": 50,
    "start_time": "2022-05-13T11:59:28.616Z"
   },
   {
    "duration": 903,
    "start_time": "2022-05-13T11:59:28.669Z"
   },
   {
    "duration": 705,
    "start_time": "2022-05-13T11:59:29.574Z"
   },
   {
    "duration": 896,
    "start_time": "2022-05-13T11:59:30.281Z"
   },
   {
    "duration": 826,
    "start_time": "2022-05-13T11:59:31.180Z"
   },
   {
    "duration": 14,
    "start_time": "2022-05-13T11:59:32.009Z"
   },
   {
    "duration": 19,
    "start_time": "2022-05-13T11:59:32.025Z"
   },
   {
    "duration": 16,
    "start_time": "2022-05-13T11:59:32.046Z"
   },
   {
    "duration": 39,
    "start_time": "2022-05-13T11:59:32.064Z"
   },
   {
    "duration": 8,
    "start_time": "2022-05-13T12:13:08.909Z"
   },
   {
    "duration": 1406,
    "start_time": "2022-05-13T12:15:15.750Z"
   },
   {
    "duration": 7,
    "start_time": "2022-05-13T12:15:17.158Z"
   },
   {
    "duration": 136,
    "start_time": "2022-05-13T12:15:17.167Z"
   },
   {
    "duration": 412,
    "start_time": "2022-05-13T12:15:17.306Z"
   },
   {
    "duration": 249,
    "start_time": "2022-05-13T12:15:17.720Z"
   },
   {
    "duration": 353,
    "start_time": "2022-05-13T12:15:17.971Z"
   },
   {
    "duration": 71,
    "start_time": "2022-05-13T12:15:18.327Z"
   },
   {
    "duration": 7,
    "start_time": "2022-05-13T12:15:18.401Z"
   },
   {
    "duration": 12,
    "start_time": "2022-05-13T12:15:18.411Z"
   },
   {
    "duration": 5,
    "start_time": "2022-05-13T12:15:18.428Z"
   },
   {
    "duration": 16,
    "start_time": "2022-05-13T12:15:18.436Z"
   },
   {
    "duration": 41,
    "start_time": "2022-05-13T12:15:18.455Z"
   },
   {
    "duration": 8,
    "start_time": "2022-05-13T12:15:18.499Z"
   },
   {
    "duration": 9,
    "start_time": "2022-05-13T12:15:18.510Z"
   },
   {
    "duration": 15,
    "start_time": "2022-05-13T12:15:18.521Z"
   },
   {
    "duration": 22,
    "start_time": "2022-05-13T12:15:18.539Z"
   },
   {
    "duration": 12,
    "start_time": "2022-05-13T12:15:18.594Z"
   },
   {
    "duration": 18,
    "start_time": "2022-05-13T12:15:18.608Z"
   },
   {
    "duration": 17,
    "start_time": "2022-05-13T12:15:18.629Z"
   },
   {
    "duration": 59,
    "start_time": "2022-05-13T12:15:18.648Z"
   },
   {
    "duration": 34,
    "start_time": "2022-05-13T12:15:18.710Z"
   },
   {
    "duration": 5,
    "start_time": "2022-05-13T12:15:18.747Z"
   },
   {
    "duration": 6,
    "start_time": "2022-05-13T12:15:18.793Z"
   },
   {
    "duration": 58,
    "start_time": "2022-05-13T12:15:18.801Z"
   },
   {
    "duration": 38,
    "start_time": "2022-05-13T12:15:18.861Z"
   },
   {
    "duration": 9,
    "start_time": "2022-05-13T12:15:18.901Z"
   },
   {
    "duration": 12,
    "start_time": "2022-05-13T12:15:18.913Z"
   },
   {
    "duration": 137,
    "start_time": "2022-05-13T12:15:18.931Z"
   },
   {
    "duration": 250,
    "start_time": "2022-05-13T12:15:19.071Z"
   },
   {
    "duration": 6,
    "start_time": "2022-05-13T12:15:19.323Z"
   },
   {
    "duration": 34,
    "start_time": "2022-05-13T12:15:19.331Z"
   },
   {
    "duration": 73,
    "start_time": "2022-05-13T12:15:19.367Z"
   },
   {
    "duration": 81,
    "start_time": "2022-05-13T12:15:19.443Z"
   },
   {
    "duration": 19,
    "start_time": "2022-05-13T12:15:19.526Z"
   },
   {
    "duration": 8,
    "start_time": "2022-05-13T12:15:19.547Z"
   },
   {
    "duration": 58,
    "start_time": "2022-05-13T12:15:19.557Z"
   },
   {
    "duration": 46,
    "start_time": "2022-05-13T12:15:19.618Z"
   },
   {
    "duration": 90,
    "start_time": "2022-05-13T12:15:19.666Z"
   },
   {
    "duration": 14,
    "start_time": "2022-05-13T12:15:19.758Z"
   },
   {
    "duration": 16,
    "start_time": "2022-05-13T12:15:19.793Z"
   },
   {
    "duration": 81,
    "start_time": "2022-05-13T12:15:19.812Z"
   },
   {
    "duration": 15,
    "start_time": "2022-05-13T12:15:19.895Z"
   },
   {
    "duration": 19,
    "start_time": "2022-05-13T12:15:19.913Z"
   },
   {
    "duration": 15,
    "start_time": "2022-05-13T12:15:19.934Z"
   },
   {
    "duration": 119,
    "start_time": "2022-05-13T12:15:19.951Z"
   },
   {
    "duration": 57,
    "start_time": "2022-05-13T12:15:20.072Z"
   },
   {
    "duration": 85,
    "start_time": "2022-05-13T12:15:20.131Z"
   },
   {
    "duration": 30,
    "start_time": "2022-05-13T12:15:20.219Z"
   },
   {
    "duration": 47,
    "start_time": "2022-05-13T12:15:20.251Z"
   },
   {
    "duration": 6,
    "start_time": "2022-05-13T12:15:20.301Z"
   },
   {
    "duration": 19,
    "start_time": "2022-05-13T12:15:20.310Z"
   },
   {
    "duration": 10,
    "start_time": "2022-05-13T12:15:20.332Z"
   },
   {
    "duration": 56,
    "start_time": "2022-05-13T12:15:20.344Z"
   },
   {
    "duration": 31,
    "start_time": "2022-05-13T12:15:20.403Z"
   },
   {
    "duration": 9,
    "start_time": "2022-05-13T12:15:23.502Z"
   },
   {
    "duration": 8,
    "start_time": "2022-05-13T12:15:25.612Z"
   },
   {
    "duration": 6,
    "start_time": "2022-05-13T12:17:31.883Z"
   },
   {
    "duration": 8,
    "start_time": "2022-05-13T12:18:53.021Z"
   },
   {
    "duration": 6,
    "start_time": "2022-05-13T12:19:11.332Z"
   },
   {
    "duration": 31,
    "start_time": "2022-05-13T12:21:45.491Z"
   },
   {
    "duration": 1578,
    "start_time": "2022-05-13T12:52:49.580Z"
   },
   {
    "duration": 7,
    "start_time": "2022-05-13T12:52:51.161Z"
   },
   {
    "duration": 165,
    "start_time": "2022-05-13T12:52:51.175Z"
   },
   {
    "duration": 484,
    "start_time": "2022-05-13T12:52:51.342Z"
   },
   {
    "duration": 269,
    "start_time": "2022-05-13T12:52:51.828Z"
   },
   {
    "duration": 381,
    "start_time": "2022-05-13T12:52:52.100Z"
   },
   {
    "duration": 60,
    "start_time": "2022-05-13T12:52:52.483Z"
   },
   {
    "duration": 5,
    "start_time": "2022-05-13T12:52:52.545Z"
   },
   {
    "duration": 12,
    "start_time": "2022-05-13T12:52:52.555Z"
   },
   {
    "duration": 27,
    "start_time": "2022-05-13T12:52:52.570Z"
   },
   {
    "duration": 19,
    "start_time": "2022-05-13T12:52:52.600Z"
   },
   {
    "duration": 12,
    "start_time": "2022-05-13T12:52:52.621Z"
   },
   {
    "duration": 9,
    "start_time": "2022-05-13T12:52:52.635Z"
   },
   {
    "duration": 10,
    "start_time": "2022-05-13T12:52:52.646Z"
   },
   {
    "duration": 39,
    "start_time": "2022-05-13T12:52:52.658Z"
   },
   {
    "duration": 11,
    "start_time": "2022-05-13T12:52:52.700Z"
   },
   {
    "duration": 11,
    "start_time": "2022-05-13T12:52:52.713Z"
   },
   {
    "duration": 17,
    "start_time": "2022-05-13T12:52:52.726Z"
   },
   {
    "duration": 59,
    "start_time": "2022-05-13T12:52:52.746Z"
   },
   {
    "duration": 24,
    "start_time": "2022-05-13T12:52:52.807Z"
   },
   {
    "duration": 33,
    "start_time": "2022-05-13T12:52:52.834Z"
   },
   {
    "duration": 8,
    "start_time": "2022-05-13T12:52:52.897Z"
   },
   {
    "duration": 8,
    "start_time": "2022-05-13T12:52:52.908Z"
   },
   {
    "duration": 53,
    "start_time": "2022-05-13T12:52:52.918Z"
   },
   {
    "duration": 35,
    "start_time": "2022-05-13T12:52:52.973Z"
   },
   {
    "duration": 8,
    "start_time": "2022-05-13T12:52:53.010Z"
   },
   {
    "duration": 12,
    "start_time": "2022-05-13T12:52:53.025Z"
   },
   {
    "duration": 135,
    "start_time": "2022-05-13T12:52:53.040Z"
   },
   {
    "duration": 182,
    "start_time": "2022-05-13T12:52:53.178Z"
   },
   {
    "duration": 7,
    "start_time": "2022-05-13T12:52:53.363Z"
   },
   {
    "duration": 55,
    "start_time": "2022-05-13T12:52:53.373Z"
   },
   {
    "duration": 76,
    "start_time": "2022-05-13T12:52:53.430Z"
   },
   {
    "duration": 60,
    "start_time": "2022-05-13T12:52:53.509Z"
   },
   {
    "duration": 37,
    "start_time": "2022-05-13T12:52:53.572Z"
   },
   {
    "duration": 7,
    "start_time": "2022-05-13T12:52:53.612Z"
   },
   {
    "duration": 75,
    "start_time": "2022-05-13T12:52:53.622Z"
   },
   {
    "duration": 49,
    "start_time": "2022-05-13T12:52:53.699Z"
   },
   {
    "duration": 94,
    "start_time": "2022-05-13T12:52:53.750Z"
   },
   {
    "duration": 12,
    "start_time": "2022-05-13T12:52:53.846Z"
   },
   {
    "duration": 39,
    "start_time": "2022-05-13T12:52:53.861Z"
   },
   {
    "duration": 65,
    "start_time": "2022-05-13T12:52:53.902Z"
   },
   {
    "duration": 27,
    "start_time": "2022-05-13T12:52:53.969Z"
   },
   {
    "duration": 15,
    "start_time": "2022-05-13T12:52:53.999Z"
   },
   {
    "duration": 16,
    "start_time": "2022-05-13T12:52:54.016Z"
   },
   {
    "duration": 129,
    "start_time": "2022-05-13T12:52:54.034Z"
   },
   {
    "duration": 62,
    "start_time": "2022-05-13T12:52:54.167Z"
   },
   {
    "duration": 83,
    "start_time": "2022-05-13T12:52:54.231Z"
   },
   {
    "duration": 29,
    "start_time": "2022-05-13T12:52:54.317Z"
   },
   {
    "duration": 47,
    "start_time": "2022-05-13T12:52:54.349Z"
   },
   {
    "duration": 7,
    "start_time": "2022-05-13T12:52:54.398Z"
   },
   {
    "duration": 13,
    "start_time": "2022-05-13T12:52:54.407Z"
   },
   {
    "duration": 8,
    "start_time": "2022-05-13T12:52:54.422Z"
   },
   {
    "duration": 64,
    "start_time": "2022-05-13T12:52:54.432Z"
   },
   {
    "duration": 32,
    "start_time": "2022-05-13T12:52:54.498Z"
   },
   {
    "duration": 7,
    "start_time": "2022-05-13T12:52:54.532Z"
   },
   {
    "duration": 7,
    "start_time": "2022-05-13T12:52:54.541Z"
   },
   {
    "duration": 47,
    "start_time": "2022-05-13T12:52:54.550Z"
   },
   {
    "duration": 7,
    "start_time": "2022-05-13T12:52:54.599Z"
   },
   {
    "duration": 51,
    "start_time": "2022-05-13T12:52:54.608Z"
   },
   {
    "duration": 903,
    "start_time": "2022-05-13T12:52:54.662Z"
   },
   {
    "duration": 701,
    "start_time": "2022-05-13T12:52:55.567Z"
   },
   {
    "duration": 894,
    "start_time": "2022-05-13T12:52:56.270Z"
   },
   {
    "duration": 826,
    "start_time": "2022-05-13T12:52:57.167Z"
   },
   {
    "duration": 16,
    "start_time": "2022-05-13T12:52:57.995Z"
   },
   {
    "duration": 19,
    "start_time": "2022-05-13T12:52:58.014Z"
   },
   {
    "duration": 12,
    "start_time": "2022-05-13T12:52:58.035Z"
   },
   {
    "duration": 54,
    "start_time": "2022-05-13T12:52:58.049Z"
   }
  ],
  "celltoolbar": "Raw Cell Format",
  "kernelspec": {
   "display_name": "Python 3 (ipykernel)",
   "language": "python",
   "name": "python3"
  },
  "language_info": {
   "codemirror_mode": {
    "name": "ipython",
    "version": 3
   },
   "file_extension": ".py",
   "mimetype": "text/x-python",
   "name": "python",
   "nbconvert_exporter": "python",
   "pygments_lexer": "ipython3",
   "version": "3.9.12"
  },
  "toc": {
   "base_numbering": 1,
   "nav_menu": {
    "height": "171px",
    "width": "324px"
   },
   "number_sections": true,
   "sideBar": true,
   "skip_h1_title": true,
   "title_cell": "Содержание",
   "title_sidebar": "Содержание",
   "toc_cell": true,
   "toc_position": {
    "height": "calc(100% - 180px)",
    "left": "10px",
    "top": "150px",
    "width": "202.125px"
   },
   "toc_section_display": true,
   "toc_window_display": false
  },
  "varInspector": {
   "cols": {
    "lenName": 16,
    "lenType": 16,
    "lenVar": 40
   },
   "kernels_config": {
    "python": {
     "delete_cmd_postfix": "",
     "delete_cmd_prefix": "del ",
     "library": "var_list.py",
     "varRefreshCmd": "print(var_dic_list())"
    },
    "r": {
     "delete_cmd_postfix": ") ",
     "delete_cmd_prefix": "rm(",
     "library": "var_list.r",
     "varRefreshCmd": "cat(var_dic_list()) "
    }
   },
   "types_to_exclude": [
    "module",
    "function",
    "builtin_function_or_method",
    "instance",
    "_Feature"
   ],
   "window_display": false
  }
 },
 "nbformat": 4,
 "nbformat_minor": 2
}
