{
 "cells": [
  {
   "cell_type": "markdown",
   "id": "44ecfafe",
   "metadata": {},
   "source": [
    "# Исследование надежности заемщиков"
   ]
  },
  {
   "cell_type": "markdown",
   "id": "b1b30589",
   "metadata": {
    "toc": true
   },
   "source": [
    "<h1>Содержание<span class=\"tocSkip\"></span></h1>\n",
    "<div class=\"toc\"><ul class=\"toc-item\"><li><span><a href=\"#Обзор-данных\" data-toc-modified-id=\"Обзор-данных-1\"><span class=\"toc-item-num\">1&nbsp;&nbsp;</span>Обзор данных</a></span></li><li><span><a href=\"#Предобработка-данных\" data-toc-modified-id=\"Предобработка-данных-2\"><span class=\"toc-item-num\">2&nbsp;&nbsp;</span>Предобработка данных</a></span><ul class=\"toc-item\"><li><span><a href=\"#Устранение-аномалий-данных\" data-toc-modified-id=\"Устранение-аномалий-данных-2.1\"><span class=\"toc-item-num\">2.1&nbsp;&nbsp;</span>Устранение аномалий данных</a></span></li><li><span><a href=\"#Заполнение-пропусков\" data-toc-modified-id=\"Заполнение-пропусков-2.2\"><span class=\"toc-item-num\">2.2&nbsp;&nbsp;</span>Заполнение пропусков</a></span></li><li><span><a href=\"#Изменение-типов-данных\" data-toc-modified-id=\"Изменение-типов-данных-2.3\"><span class=\"toc-item-num\">2.3&nbsp;&nbsp;</span>Изменение типов данных</a></span></li><li><span><a href=\"#Удаление-дубликатов\" data-toc-modified-id=\"Удаление-дубликатов-2.4\"><span class=\"toc-item-num\">2.4&nbsp;&nbsp;</span>Удаление дубликатов</a></span></li><li><span><a href=\"#Формирование-дополнительных-датафреймов-словарей,-декомпозиция-исходного-датафрейма\" data-toc-modified-id=\"Формирование-дополнительных-датафреймов-словарей,-декомпозиция-исходного-датафрейма-2.5\"><span class=\"toc-item-num\">2.5&nbsp;&nbsp;</span>Формирование дополнительных датафреймов словарей, декомпозиция исходного датафрейма</a></span></li><li><span><a href=\"#Категоризация-дохода\" data-toc-modified-id=\"Категоризация-дохода-2.6\"><span class=\"toc-item-num\">2.6&nbsp;&nbsp;</span>Категоризация дохода</a></span></li><li><span><a href=\"#Категоризация-целей-кредита\" data-toc-modified-id=\"Категоризация-целей-кредита-2.7\"><span class=\"toc-item-num\">2.7&nbsp;&nbsp;</span>Категоризация целей кредита</a></span></li></ul></li><li><span><a href=\"#Ответы-на-вопросы-исследования-(проверка-гипотез)\" data-toc-modified-id=\"Ответы-на-вопросы-исследования-(проверка-гипотез)-3\"><span class=\"toc-item-num\">3&nbsp;&nbsp;</span>Ответы на вопросы исследования (проверка гипотез)</a></span><ul class=\"toc-item\"><li><span><a href=\"#Оценка-влияния-количества-детей-на-возврат-кредита-в-срок\" data-toc-modified-id=\"Оценка-влияния-количества-детей-на-возврат-кредита-в-срок-3.1\"><span class=\"toc-item-num\">3.1&nbsp;&nbsp;</span>Оценка влияния количества детей на возврат кредита в срок</a></span></li><li><span><a href=\"#Оценка-взаимосвязи-между-семейным-положением-и-возвратом-кредита-в-срок\" data-toc-modified-id=\"Оценка-взаимосвязи-между-семейным-положением-и-возвратом-кредита-в-срок-3.2\"><span class=\"toc-item-num\">3.2&nbsp;&nbsp;</span>Оценка взаимосвязи между семейным положением и возвратом кредита в срок</a></span></li><li><span><a href=\"#Оценка-влияния-уровня-дохода-на-возврат-кредита-в-срок\" data-toc-modified-id=\"Оценка-влияния-уровня-дохода-на-возврат-кредита-в-срок-3.3\"><span class=\"toc-item-num\">3.3&nbsp;&nbsp;</span>Оценка влияния уровня дохода на возврат кредита в срок</a></span></li><li><span><a href=\"#Оценка-взаимосвязи-между-целью-кредита-и-его-возвратом-в-срок\" data-toc-modified-id=\"Оценка-взаимосвязи-между-целью-кредита-и-его-возвратом-в-срок-3.4\"><span class=\"toc-item-num\">3.4&nbsp;&nbsp;</span>Оценка взаимосвязи между целью кредита и его возвратом в срок</a></span></li></ul></li><li><span><a href=\"#Выводы-исследования\" data-toc-modified-id=\"Выводы-исследования-4\"><span class=\"toc-item-num\">4&nbsp;&nbsp;</span>Выводы исследования</a></span></li></ul></div>"
   ]
  },
  {
   "cell_type": "markdown",
   "id": "662096f7",
   "metadata": {},
   "source": [
    "---\n",
    "Заказчиком исследования является крединтый отдел банка. \n",
    "\n",
    "На основе полученной статистики предполагается выявить взаимосвязь между платёжеспособностью клиентов и их семейным положением, наличием и количеством количеством их детей. Результаты исследования заказчик предполагает учитывать при построении модели кредитного скоринга.\n",
    "\n",
    "**Цель исследования** - проверка четырёх гипотез:\n",
    "1. Количество детей влияет на возврат кредита в срок.\n",
    "2. Между семейным положением и возвратом кредита в срок существует зависимость.\n",
    "3. Уровень дохода влияет на возврат кредита в срок.\n",
    "4. Существует зависимость между целью кредита и его возвратом в срок.\n",
    "\n",
    "**Ход исследования**\n",
    "\n",
    "Предоставленные банком данные - статистика платёжеспособности клиентов - хранятся в файле `data.csv`. О качестве данных ничего не известно, поэтому перед проверкой гипотез потребуется обзор данных.\n",
    "\n",
    "Необходимо проверить данные на ошибки, оценить их влияние на исследование. Затем, на этапе предобработки следует попытаться исправить самые критичные ошибки в данных.\n",
    "\n",
    "Примерный план исследования выглядит следующим образом:\n",
    "1. Обзор данных.\n",
    "2. Предобработка данных.\n",
    "3. Проверка гипотез.\n",
    "4. Выводы исследования.\n",
    "---"
   ]
  },
  {
   "cell_type": "markdown",
   "id": "ac772783",
   "metadata": {},
   "source": [
    "## Обзор данных\n",
    "---\n",
    "Составим первое представление о данных, предоставленных банком. Для этого импортируем библиотеку `pandas`, прочитаем данные из файла `data.csv` в папке `/datasets` в датафрейм `borrowers` (заёмщики) и выведем его первые 10 строк.\n",
    "\n",
    "*Замечание.* Дополнительно импортируем библиотеку `math` для работы с числами."
   ]
  },
  {
   "cell_type": "code",
   "execution_count": 1,
   "id": "ddccfd2a",
   "metadata": {},
   "outputs": [
    {
     "data": {
      "text/html": [
       "<div>\n",
       "<style scoped>\n",
       "    .dataframe tbody tr th:only-of-type {\n",
       "        vertical-align: middle;\n",
       "    }\n",
       "\n",
       "    .dataframe tbody tr th {\n",
       "        vertical-align: top;\n",
       "    }\n",
       "\n",
       "    .dataframe thead th {\n",
       "        text-align: right;\n",
       "    }\n",
       "</style>\n",
       "<table border=\"1\" class=\"dataframe\">\n",
       "  <thead>\n",
       "    <tr style=\"text-align: right;\">\n",
       "      <th></th>\n",
       "      <th>children</th>\n",
       "      <th>days_employed</th>\n",
       "      <th>dob_years</th>\n",
       "      <th>education</th>\n",
       "      <th>education_id</th>\n",
       "      <th>family_status</th>\n",
       "      <th>family_status_id</th>\n",
       "      <th>gender</th>\n",
       "      <th>income_type</th>\n",
       "      <th>debt</th>\n",
       "      <th>total_income</th>\n",
       "      <th>purpose</th>\n",
       "    </tr>\n",
       "  </thead>\n",
       "  <tbody>\n",
       "    <tr>\n",
       "      <th>0</th>\n",
       "      <td>1</td>\n",
       "      <td>-8437.673028</td>\n",
       "      <td>42</td>\n",
       "      <td>высшее</td>\n",
       "      <td>0</td>\n",
       "      <td>женат / замужем</td>\n",
       "      <td>0</td>\n",
       "      <td>F</td>\n",
       "      <td>сотрудник</td>\n",
       "      <td>0</td>\n",
       "      <td>253875.639453</td>\n",
       "      <td>покупка жилья</td>\n",
       "    </tr>\n",
       "    <tr>\n",
       "      <th>1</th>\n",
       "      <td>1</td>\n",
       "      <td>-4024.803754</td>\n",
       "      <td>36</td>\n",
       "      <td>среднее</td>\n",
       "      <td>1</td>\n",
       "      <td>женат / замужем</td>\n",
       "      <td>0</td>\n",
       "      <td>F</td>\n",
       "      <td>сотрудник</td>\n",
       "      <td>0</td>\n",
       "      <td>112080.014102</td>\n",
       "      <td>приобретение автомобиля</td>\n",
       "    </tr>\n",
       "    <tr>\n",
       "      <th>2</th>\n",
       "      <td>0</td>\n",
       "      <td>-5623.422610</td>\n",
       "      <td>33</td>\n",
       "      <td>Среднее</td>\n",
       "      <td>1</td>\n",
       "      <td>женат / замужем</td>\n",
       "      <td>0</td>\n",
       "      <td>M</td>\n",
       "      <td>сотрудник</td>\n",
       "      <td>0</td>\n",
       "      <td>145885.952297</td>\n",
       "      <td>покупка жилья</td>\n",
       "    </tr>\n",
       "    <tr>\n",
       "      <th>3</th>\n",
       "      <td>3</td>\n",
       "      <td>-4124.747207</td>\n",
       "      <td>32</td>\n",
       "      <td>среднее</td>\n",
       "      <td>1</td>\n",
       "      <td>женат / замужем</td>\n",
       "      <td>0</td>\n",
       "      <td>M</td>\n",
       "      <td>сотрудник</td>\n",
       "      <td>0</td>\n",
       "      <td>267628.550329</td>\n",
       "      <td>дополнительное образование</td>\n",
       "    </tr>\n",
       "    <tr>\n",
       "      <th>4</th>\n",
       "      <td>0</td>\n",
       "      <td>340266.072047</td>\n",
       "      <td>53</td>\n",
       "      <td>среднее</td>\n",
       "      <td>1</td>\n",
       "      <td>гражданский брак</td>\n",
       "      <td>1</td>\n",
       "      <td>F</td>\n",
       "      <td>пенсионер</td>\n",
       "      <td>0</td>\n",
       "      <td>158616.077870</td>\n",
       "      <td>сыграть свадьбу</td>\n",
       "    </tr>\n",
       "    <tr>\n",
       "      <th>5</th>\n",
       "      <td>0</td>\n",
       "      <td>-926.185831</td>\n",
       "      <td>27</td>\n",
       "      <td>высшее</td>\n",
       "      <td>0</td>\n",
       "      <td>гражданский брак</td>\n",
       "      <td>1</td>\n",
       "      <td>M</td>\n",
       "      <td>компаньон</td>\n",
       "      <td>0</td>\n",
       "      <td>255763.565419</td>\n",
       "      <td>покупка жилья</td>\n",
       "    </tr>\n",
       "    <tr>\n",
       "      <th>6</th>\n",
       "      <td>0</td>\n",
       "      <td>-2879.202052</td>\n",
       "      <td>43</td>\n",
       "      <td>высшее</td>\n",
       "      <td>0</td>\n",
       "      <td>женат / замужем</td>\n",
       "      <td>0</td>\n",
       "      <td>F</td>\n",
       "      <td>компаньон</td>\n",
       "      <td>0</td>\n",
       "      <td>240525.971920</td>\n",
       "      <td>операции с жильем</td>\n",
       "    </tr>\n",
       "    <tr>\n",
       "      <th>7</th>\n",
       "      <td>0</td>\n",
       "      <td>-152.779569</td>\n",
       "      <td>50</td>\n",
       "      <td>СРЕДНЕЕ</td>\n",
       "      <td>1</td>\n",
       "      <td>женат / замужем</td>\n",
       "      <td>0</td>\n",
       "      <td>M</td>\n",
       "      <td>сотрудник</td>\n",
       "      <td>0</td>\n",
       "      <td>135823.934197</td>\n",
       "      <td>образование</td>\n",
       "    </tr>\n",
       "    <tr>\n",
       "      <th>8</th>\n",
       "      <td>2</td>\n",
       "      <td>-6929.865299</td>\n",
       "      <td>35</td>\n",
       "      <td>ВЫСШЕЕ</td>\n",
       "      <td>0</td>\n",
       "      <td>гражданский брак</td>\n",
       "      <td>1</td>\n",
       "      <td>F</td>\n",
       "      <td>сотрудник</td>\n",
       "      <td>0</td>\n",
       "      <td>95856.832424</td>\n",
       "      <td>на проведение свадьбы</td>\n",
       "    </tr>\n",
       "    <tr>\n",
       "      <th>9</th>\n",
       "      <td>0</td>\n",
       "      <td>-2188.756445</td>\n",
       "      <td>41</td>\n",
       "      <td>среднее</td>\n",
       "      <td>1</td>\n",
       "      <td>женат / замужем</td>\n",
       "      <td>0</td>\n",
       "      <td>M</td>\n",
       "      <td>сотрудник</td>\n",
       "      <td>0</td>\n",
       "      <td>144425.938277</td>\n",
       "      <td>покупка жилья для семьи</td>\n",
       "    </tr>\n",
       "  </tbody>\n",
       "</table>\n",
       "</div>"
      ],
      "text/plain": [
       "   children  days_employed  dob_years education  education_id  \\\n",
       "0         1   -8437.673028         42    высшее             0   \n",
       "1         1   -4024.803754         36   среднее             1   \n",
       "2         0   -5623.422610         33   Среднее             1   \n",
       "3         3   -4124.747207         32   среднее             1   \n",
       "4         0  340266.072047         53   среднее             1   \n",
       "5         0    -926.185831         27    высшее             0   \n",
       "6         0   -2879.202052         43    высшее             0   \n",
       "7         0    -152.779569         50   СРЕДНЕЕ             1   \n",
       "8         2   -6929.865299         35    ВЫСШЕЕ             0   \n",
       "9         0   -2188.756445         41   среднее             1   \n",
       "\n",
       "      family_status  family_status_id gender income_type  debt   total_income  \\\n",
       "0   женат / замужем                 0      F   сотрудник     0  253875.639453   \n",
       "1   женат / замужем                 0      F   сотрудник     0  112080.014102   \n",
       "2   женат / замужем                 0      M   сотрудник     0  145885.952297   \n",
       "3   женат / замужем                 0      M   сотрудник     0  267628.550329   \n",
       "4  гражданский брак                 1      F   пенсионер     0  158616.077870   \n",
       "5  гражданский брак                 1      M   компаньон     0  255763.565419   \n",
       "6   женат / замужем                 0      F   компаньон     0  240525.971920   \n",
       "7   женат / замужем                 0      M   сотрудник     0  135823.934197   \n",
       "8  гражданский брак                 1      F   сотрудник     0   95856.832424   \n",
       "9   женат / замужем                 0      M   сотрудник     0  144425.938277   \n",
       "\n",
       "                      purpose  \n",
       "0               покупка жилья  \n",
       "1     приобретение автомобиля  \n",
       "2               покупка жилья  \n",
       "3  дополнительное образование  \n",
       "4             сыграть свадьбу  \n",
       "5               покупка жилья  \n",
       "6           операции с жильем  \n",
       "7                 образование  \n",
       "8       на проведение свадьбы  \n",
       "9     покупка жилья для семьи  "
      ]
     },
     "execution_count": 1,
     "metadata": {},
     "output_type": "execute_result"
    }
   ],
   "source": [
    "import pandas as pd\n",
    "import math\n",
    "\n",
    "try:\n",
    "    borrowers = pd.read_csv('/datasets/data.csv')\n",
    "except:\n",
    "    borrowers = pd.read_csv('data.csv')\n",
    "\n",
    "borrowers.head(10)"
   ]
  },
  {
   "cell_type": "markdown",
   "id": "a6cf3fa1",
   "metadata": {},
   "source": [
    "Таблица содержит в себе достаточно большое количество данных о заёмщиках. Рассмотрим общую информацию о ней:"
   ]
  },
  {
   "cell_type": "code",
   "execution_count": 2,
   "id": "c7852ff6",
   "metadata": {},
   "outputs": [
    {
     "name": "stdout",
     "output_type": "stream",
     "text": [
      "<class 'pandas.core.frame.DataFrame'>\n",
      "RangeIndex: 21525 entries, 0 to 21524\n",
      "Data columns (total 12 columns):\n",
      " #   Column            Non-Null Count  Dtype  \n",
      "---  ------            --------------  -----  \n",
      " 0   children          21525 non-null  int64  \n",
      " 1   days_employed     19351 non-null  float64\n",
      " 2   dob_years         21525 non-null  int64  \n",
      " 3   education         21525 non-null  object \n",
      " 4   education_id      21525 non-null  int64  \n",
      " 5   family_status     21525 non-null  object \n",
      " 6   family_status_id  21525 non-null  int64  \n",
      " 7   gender            21525 non-null  object \n",
      " 8   income_type       21525 non-null  object \n",
      " 9   debt              21525 non-null  int64  \n",
      " 10  total_income      19351 non-null  float64\n",
      " 11  purpose           21525 non-null  object \n",
      "dtypes: float64(2), int64(5), object(5)\n",
      "memory usage: 2.0+ MB\n"
     ]
    }
   ],
   "source": [
    "# Получение общей информации о данных в таблице borrowers\n",
    "borrowers.info()"
   ]
  },
  {
   "cell_type": "markdown",
   "id": "f108bed5",
   "metadata": {},
   "source": [
    "Из полученных данных видно, что в таблице 12 столбцов, 21 525 строк. Встречаются следующие типы данных: `int64`, `float64`, `object`.\n",
    "\n",
    "Столбцы поименованы корректно, в едином стиле. Количество непустых значений в столбцах разнится: в столбцах `'days_employed'` и `'total_income'` наблюдаются пропуски данных.\n",
    "\n",
    "Согласно полученной документации к данным:\n",
    "- `children` — количество детей в семье;\n",
    "- `days_employed` — общий трудовой стаж в днях;\n",
    "- `dob_years` — возраст клиента в годах;\n",
    "- `education` — уровень образования клиента; \n",
    "- `education_id` — идентификатор уровня образования;\n",
    "- `family_status` — семейное положение;\n",
    "- `family_status_id` — идентификатор семейного положения;\n",
    "- `gender` — пол клиента;\n",
    "- `income_type` — тип занятости;\n",
    "- `debt` — имел ли задолженность по возврату кредитов;\n",
    "- `total_income` — ежемесячный доход;\n",
    "- `purpose` — цель получения кредита.\n",
    "\n",
    "Определим типы данных в различных столбцах:\n",
    "- количественные данные используются в столбцах\n",
    "    - `children` - целое число; \n",
    "    - `days_employed` - число с плавающей точкой;\n",
    "    - `dob_years` - целое число;\n",
    "    - `total_income` - число с плавающей точкой;\n",
    "- категорийные данные используются в столбцах\n",
    "    - `education` - строковое значение;\n",
    "    - `education_id` - выраженный целым числом идентификатор уровня образования;\n",
    "    - `family_status` - строковое значение;\n",
    "    - `family_status_id` - выраженный целым числом идентификатор семейного положения;\n",
    "    - `gender` - строковое значение;\n",
    "    - `income_type` - строковое значение;\n",
    "    - `debt`- выраженный целым числом, предположительно, булевский идентификатор наличия задолженности по возврату кредитов;\n",
    "    - `purpose`- строковое значение.\n",
    "\n",
    "Выясним, какие множества значений могут принимать перечисленные идентификаторы, чтобы подтвердить предположение об их типе."
   ]
  },
  {
   "cell_type": "code",
   "execution_count": 3,
   "id": "8eecfcec",
   "metadata": {},
   "outputs": [
    {
     "data": {
      "text/plain": [
       "array([0, 1, 2, 3, 4])"
      ]
     },
     "execution_count": 3,
     "metadata": {},
     "output_type": "execute_result"
    }
   ],
   "source": [
    "# Уникальные значения в столбце 'education_id'\n",
    "borrowers['education_id'].unique()"
   ]
  },
  {
   "cell_type": "code",
   "execution_count": 4,
   "id": "ad9dcdd9",
   "metadata": {},
   "outputs": [
    {
     "data": {
      "text/plain": [
       "array([0, 1, 2, 3, 4])"
      ]
     },
     "execution_count": 4,
     "metadata": {},
     "output_type": "execute_result"
    }
   ],
   "source": [
    "# Уникальные значения в столбце 'family_status_id'\n",
    "borrowers['family_status_id'].unique()"
   ]
  },
  {
   "cell_type": "code",
   "execution_count": 5,
   "id": "3bd69473",
   "metadata": {},
   "outputs": [
    {
     "data": {
      "text/plain": [
       "array([0, 1])"
      ]
     },
     "execution_count": 5,
     "metadata": {},
     "output_type": "execute_result"
    }
   ],
   "source": [
    "# Уникальные значения в столбце 'debt'\n",
    "borrowers['debt'].unique()"
   ]
  },
  {
   "cell_type": "markdown",
   "id": "6d66e102",
   "metadata": {},
   "source": [
    "Итак, в таблице представлены 5 категорий уровня образования, 5 категорий семейного положения и булевская категория - наличие задолженности.\n",
    "\n",
    "**Выводы**\n",
    "\n",
    "В каждой строке представленной таблицы данных содержится запись о клиенте банка. Часть колонок описывает самого клиента, часть носит избыточный, вспомогательный характер (например, колонки `'education'` и `'education_id'`, а также `'family_status'` и `'family_status_id'` по сути содержат одинаковую информацию), часть описывает характеристики кредитной истории заёмщика.\n",
    "\n",
    "Избыточность представляется целесообразным удалить из таблицы, сформировав словари категорий. Это может ускорить последующую обработку данных.\n",
    "\n",
    "Предварительно можно утверждать, что данных достаточно для проверки гипотез. Но встречаются пропуски, которые необходимо устранить.\n",
    "\n",
    "Пропуски в данных наблюдаются только в колонках, описывающих клиента (`'days_employed'` и `'total_income'`), значения которых выражены числами с плавающей точкой.\n",
    "\n",
    "Кроме того, в колонке `'days_employed'` уже в начале датафрейма наблюдаются положительные и отрицательные числа, что противоречит смыслу значений данной колонки. Данные наблюдения могут свидетельствовать о технологических ошибках выборки и преобразования данных. *Следует обратить на это внимание инженеров по данным.*\n",
    "\n",
    "Также нельзя сделать однозначный вывод о соответствии булевых значений в столбце `'debt'` фактам наличия и отсутствия задолженности. ***Из общих соображений, для целей настоящего исследования будем предполагать, что значением `0` кодируется отсутствие, а значением `1` - наличие задолженности.*** *Тем не менее, на данный недостаток следует обратить внимание инженеров по данным.*\n",
    "\n",
    "Столбец `'education'` содержит различные стили написания одинаковых категорий сведений об образовании (использование букв в различном регистре). Представляется целесообразным устранить его на этапе предобработки, а также проверить столбцы `'family_status'`, `'income_type'`, `'purpose'` на наличие неявных дубликатов указанного свойства.\n",
    "\n",
    "Чтобы двигаться дальше, устраним найденные проблемы в данных."
   ]
  },
  {
   "cell_type": "markdown",
   "id": "b342b936",
   "metadata": {},
   "source": [
    "## Предобработка данных\n",
    "---\n",
    "Явными проблемами в данных, обнаруженными на этапе обзора, являются пропуски в столбцах `'days_employed'` и `'total_income'`, а также наличие отрицательных значений в солбце `'days_employed'`. \n",
    "\n",
    "Данные столбцы содержат вещественные значения и являются количественными, поскольку значения в них можно сравнивать. Обычно пропуски в количественных данных заполняют средним или медианным значением. Среднее лучше подходит для величин, разброс значений которых невелик. Для величин с большим разбросом возможных значений, когда единичный выброс может исказить среднее значение большого количества наблюдений, лучше определять медиану - величину, разделяющую наблюдения на 2 равномощных множества: со значениями больше и меньше медианного.\n",
    "\n",
    "Оценим разброс значений в столбцах `'days_employed'` и `'total_income'`."
   ]
  },
  {
   "cell_type": "code",
   "execution_count": 6,
   "id": "c02119ad",
   "metadata": {},
   "outputs": [
    {
     "name": "stdout",
     "output_type": "stream",
     "text": [
      "MAX значение в 'days_employed': 401755.40047533\n",
      "MIN значение в 'days_employed': -18388.949900568383\n"
     ]
    }
   ],
   "source": [
    "# Оценка разброса значений в столбце 'days_employed'\n",
    "print(\"MAX значение в 'days_employed': {0}\\nMIN значение в 'days_employed': {1}\".\n",
    "      format(borrowers['days_employed'].max(), borrowers['days_employed'].min()))"
   ]
  },
  {
   "cell_type": "code",
   "execution_count": 7,
   "id": "7e06c8d8",
   "metadata": {},
   "outputs": [
    {
     "name": "stdout",
     "output_type": "stream",
     "text": [
      "MAX значение в 'total_income': 2265604.028722744\n",
      "MIN значение в 'total_income': 20667.26379327158\n"
     ]
    }
   ],
   "source": [
    "# Оценка разброса значений в столбце 'total_income'\n",
    "print(\"MAX значение в 'total_income': {0}\\nMIN значение в 'total_income': {1}\".\n",
    "      format(borrowers['total_income'].max(), borrowers['total_income'].min()))"
   ]
  },
  {
   "cell_type": "markdown",
   "id": "7b9be123",
   "metadata": {},
   "source": [
    "Значения в столбце `'total_income'` различаются в 100 раз. Это большой разброс, поэтому для заполнения пропусков в нём будем использовать медианное значение.\n",
    "\n",
    "Большие отрицательные значения в столбце `'days_employed'`, полученные, вероятно, вследствие технической ошибки, либо ошибки машинного представления данных, могут существенным образом исказить значение медианы, поэтому перед заполнением пропусков в нём необходимо избавиться от отрицательных значений и повторно оценить разброс. \n",
    "\n",
    "Также не понятно происхождение больших положительных значений 400000 дней - это более 1095 лет. Это не нормально. Необходимо определить количество и локализацию этих \"выбросов\"."
   ]
  },
  {
   "cell_type": "markdown",
   "id": "5c46b3ae",
   "metadata": {},
   "source": [
    "### Устранение аномалий данных\n",
    "\n",
    "Начнём с анализа значений в столбце `'days_employed'`. С помощью библиотеки `seaborn` построим гистограмму значений столбца:"
   ]
  },
  {
   "cell_type": "code",
   "execution_count": 8,
   "id": "8b611922",
   "metadata": {},
   "outputs": [
    {
     "data": {
      "text/plain": [
       "<seaborn.axisgrid.FacetGrid at 0x7fa399392d90>"
      ]
     },
     "execution_count": 8,
     "metadata": {},
     "output_type": "execute_result"
    },
    {
     "data": {
      "image/png": "[encoded data removed]",
      "text/plain": [
       "<Figure size 360x360 with 1 Axes>"
      ]
     },
     "metadata": {
      "needs_background": "light"
     },
     "output_type": "display_data"
    }
   ],
   "source": [
    "# Импорт библиотеки seaborn\n",
    "import seaborn as sbn\n",
    "# Построение количественной гистограммы значений столбца 'days_employed'\n",
    "sbn.displot(x='days_employed', data=borrowers)"
   ]
  },
  {
   "cell_type": "markdown",
   "id": "549b3155",
   "metadata": {},
   "source": [
    "Полученная гистограмма свидетельствует о том, что укладывающиеся в рамки здравого смысла значения стажа являются отрицательными, а положительные сгруппированы в диапазоне свыше 300 000 дней (примерно 822 года). Наиболее вероятно, данная ошибка носит технический характер. Оценим долю таких аномальных значений:"
   ]
  },
  {
   "cell_type": "code",
   "execution_count": 9,
   "id": "c0a53ac8",
   "metadata": {},
   "outputs": [
    {
     "data": {
      "text/plain": [
       "0.16004645760743322"
      ]
     },
     "execution_count": 9,
     "metadata": {},
     "output_type": "execute_result"
    }
   ],
   "source": [
    "# Оценка доли значений > 300 000 в столбце 'days_employed'\n",
    "borrowers[borrowers['days_employed'] > 300000]['days_employed'].count() / len(borrowers)"
   ]
  },
  {
   "cell_type": "markdown",
   "id": "7a2cbc2f",
   "metadata": {},
   "source": [
    "Аномально большие значения составляют 16% от общего количества записей в таблице. Их надо исправить. Наиболее целесообразно для этого использовать данные о возрасте и образовании. Проверим значения столбцов `'dob_years'` и `'education'`."
   ]
  },
  {
   "cell_type": "code",
   "execution_count": 10,
   "id": "5346691f",
   "metadata": {},
   "outputs": [
    {
     "data": {
      "text/plain": [
       "array([ 0, 19, 20, 21, 22, 23, 24, 25, 26, 27, 28, 29, 30, 31, 32, 33, 34,\n",
       "       35, 36, 37, 38, 39, 40, 41, 42, 43, 44, 45, 46, 47, 48, 49, 50, 51,\n",
       "       52, 53, 54, 55, 56, 57, 58, 59, 60, 61, 62, 63, 64, 65, 66, 67, 68,\n",
       "       69, 70, 71, 72, 73, 74, 75])"
      ]
     },
     "execution_count": 10,
     "metadata": {},
     "output_type": "execute_result"
    }
   ],
   "source": [
    "# Список уникальных значений столбца 'dob_years'\n",
    "borrowers['dob_years'].sort_values().unique()"
   ]
  },
  {
   "cell_type": "markdown",
   "id": "1d8a779e",
   "metadata": {},
   "source": [
    "Наблюдается аномальное значение 0, которое никак не может соответствовать возрасту клиента в годах. Проверим, насколько часто встречается 0 в столбце `'dob_years'` с использованием метода value_counts()."
   ]
  },
  {
   "cell_type": "code",
   "execution_count": 11,
   "id": "2de6ad8b",
   "metadata": {},
   "outputs": [
    {
     "data": {
      "text/plain": [
       "35    617\n",
       "40    609\n",
       "41    607\n",
       "34    603\n",
       "38    598\n",
       "42    597\n",
       "33    581\n",
       "39    573\n",
       "31    560\n",
       "36    555\n",
       "44    547\n",
       "29    545\n",
       "30    540\n",
       "48    538\n",
       "37    537\n",
       "50    514\n",
       "43    513\n",
       "32    510\n",
       "49    508\n",
       "28    503\n",
       "45    497\n",
       "27    493\n",
       "56    487\n",
       "52    484\n",
       "47    480\n",
       "54    479\n",
       "46    475\n",
       "58    461\n",
       "57    460\n",
       "53    459\n",
       "51    448\n",
       "59    444\n",
       "55    443\n",
       "26    408\n",
       "60    377\n",
       "25    357\n",
       "61    355\n",
       "62    352\n",
       "63    269\n",
       "64    265\n",
       "24    264\n",
       "23    254\n",
       "65    194\n",
       "66    183\n",
       "22    183\n",
       "67    167\n",
       "21    111\n",
       "0     101\n",
       "68     99\n",
       "69     85\n",
       "70     65\n",
       "71     58\n",
       "20     51\n",
       "72     33\n",
       "19     14\n",
       "73      8\n",
       "74      6\n",
       "75      1\n",
       "Name: dob_years, dtype: int64"
      ]
     },
     "execution_count": 11,
     "metadata": {},
     "output_type": "execute_result"
    }
   ],
   "source": [
    "# Подсчёт уникальных значений столбца 'dob_years'\n",
    "borrowers['dob_years'].value_counts()"
   ]
  },
  {
   "cell_type": "markdown",
   "id": "ea6e61aa",
   "metadata": {},
   "source": [
    "Значение 0 встречается 101 раз. Не так уж и редко. Характер возникновения данной ошибки предположить сложно. Попробуем восстановить данные по информации из других столбцов. Например, увяжем возраст и значения столбца `'education'` в предположении, что по мере освоения различных ступеней образования человек взрослеет. Рассмотрим, какие уровни образования характерны для клиентов с возрастом 0:"
   ]
  },
  {
   "cell_type": "code",
   "execution_count": 12,
   "id": "4d7feed0",
   "metadata": {},
   "outputs": [
    {
     "data": {
      "text/plain": [
       "array(['Среднее', 'среднее', 'высшее', 'Высшее', 'неоконченное высшее',\n",
       "       'СРЕДНЕЕ', 'ВЫСШЕЕ'], dtype=object)"
      ]
     },
     "execution_count": 12,
     "metadata": {},
     "output_type": "execute_result"
    }
   ],
   "source": [
    "# Определение уровня образования для клиентов с возрастом 0\n",
    "borrowers[borrowers['dob_years'] == 0]['education'].unique()"
   ]
  },
  {
   "cell_type": "markdown",
   "id": "c93671c1",
   "metadata": {},
   "source": [
    "В столбце `'education'` наблюдаются неявные дубликаты. Удалять дубликаты в категорийных столбцах предполагается ниже, в разделе \"Удаление дубликатов\". Тем не менее, для упрощения работы по исправлению аномального нулевого возраста клиентов проведём очистку столбца `'education'` от неявных дубликатов в текущем разделе.\n",
    "\n",
    "Из обзора данных нам известно, что в таблице представлены 5 категорий уровня образования. Рассмотрим список уникальных значений столбца `'education'`:"
   ]
  },
  {
   "cell_type": "code",
   "execution_count": 13,
   "id": "8d08ffd3",
   "metadata": {},
   "outputs": [
    {
     "data": {
      "text/plain": [
       "array(['высшее', 'среднее', 'Среднее', 'СРЕДНЕЕ', 'ВЫСШЕЕ',\n",
       "       'неоконченное высшее', 'начальное', 'Высшее',\n",
       "       'НЕОКОНЧЕННОЕ ВЫСШЕЕ', 'Неоконченное высшее', 'НАЧАЛЬНОЕ',\n",
       "       'Начальное', 'Ученая степень', 'УЧЕНАЯ СТЕПЕНЬ', 'ученая степень'],\n",
       "      dtype=object)"
      ]
     },
     "execution_count": 13,
     "metadata": {},
     "output_type": "execute_result"
    }
   ],
   "source": [
    "# Список уникальных значений столбца 'education'\n",
    "borrowers['education'].unique()"
   ]
  },
  {
   "cell_type": "markdown",
   "id": "7ca5ee1f",
   "metadata": {},
   "source": [
    "Действительно, похоже, что одинаковые значения записаны по-разному и их общее количество явно больше 5. Приведём значения в `'education'` к нижнему регистру методом `.str.lower()` и выведем новый список полученных уникальных:"
   ]
  },
  {
   "cell_type": "code",
   "execution_count": 14,
   "id": "b4eb065d",
   "metadata": {},
   "outputs": [
    {
     "data": {
      "text/plain": [
       "array(['высшее', 'среднее', 'неоконченное высшее', 'начальное',\n",
       "       'ученая степень'], dtype=object)"
      ]
     },
     "execution_count": 14,
     "metadata": {},
     "output_type": "execute_result"
    }
   ],
   "source": [
    "# Приведение к нижнему регистру значений столбца 'education'\n",
    "borrowers['education'] = borrowers['education'].str.lower()\n",
    "# Список уникальных значений столбца 'education'\n",
    "borrowers['education'].unique()"
   ]
  },
  {
   "cell_type": "markdown",
   "id": "345c72c3",
   "metadata": {},
   "source": [
    "Теперь в столбце `'education'` порядок. Рассмотрим ещё раз, какие уровни образования характерны для клиентов с возрастом 0:"
   ]
  },
  {
   "cell_type": "code",
   "execution_count": 15,
   "id": "1bd64eab",
   "metadata": {},
   "outputs": [
    {
     "data": {
      "text/plain": [
       "array(['среднее', 'высшее', 'неоконченное высшее'], dtype=object)"
      ]
     },
     "execution_count": 15,
     "metadata": {},
     "output_type": "execute_result"
    }
   ],
   "source": [
    "# Определение уровня образования для клиентов с возрастом 0\n",
    "borrowers[borrowers['dob_years'] == 0]['education'].unique()"
   ]
  },
  {
   "cell_type": "markdown",
   "id": "77204cae",
   "metadata": {},
   "source": [
    "Аномальное значение возраста встречается в трёх категориях уровня образования. Как мы уже отмечали ранее, исправлять его предпочтительнее всего на медианное значение, но вычислять это медианное значение нужно в рамках каждой упонмянутой категории:"
   ]
  },
  {
   "cell_type": "code",
   "execution_count": 16,
   "id": "2f98f327",
   "metadata": {},
   "outputs": [
    {
     "name": "stdout",
     "output_type": "stream",
     "text": [
      "Медианное значение возраста в категории 'среднее' равно 44\n",
      "Медианное значение возраста в категории 'неоконченное высшее' равно 31\n",
      "Медианное значение возраста в категории 'высшее' равно 39\n"
     ]
    }
   ],
   "source": [
    "# Вычисление медианного возраста в каждой категории образования\n",
    "secondary_education_years_median = int(borrowers.loc[(borrowers['education'] == 'среднее') &\n",
    "                                                     (borrowers['dob_years'] != 0), 'dob_years'].\n",
    "                                       median())\n",
    "incomplete_high_education_median = int(borrowers.loc[(borrowers['education'] == 'неоконченное высшее') &\n",
    "                                                     (borrowers['dob_years'] != 0), 'dob_years'].\n",
    "                                       median())\n",
    "high_education_median = int(borrowers.loc[(borrowers['education'] == 'высшее') &\n",
    "                                          (borrowers['dob_years'] != 0), 'dob_years'].\n",
    "                            median())\n",
    "print(f\"Медианное значение возраста в категории 'среднее' равно {secondary_education_years_median}\")\n",
    "print(f\"Медианное значение возраста в категории 'неоконченное высшее' равно {incomplete_high_education_median}\")\n",
    "print(f\"Медианное значение возраста в категории 'высшее' равно {high_education_median}\")"
   ]
  },
  {
   "cell_type": "markdown",
   "id": "fe581fcf",
   "metadata": {},
   "source": [
    "Полученные значения медиан не противоречат здравому смыслу - люди, не получившие высшее образование, тоже берут кредиты. Причём не всегда в молодом возрасте.\n",
    "\n",
    "Исправим нулевые значения возраста в таблице `borrowers`:"
   ]
  },
  {
   "cell_type": "code",
   "execution_count": 17,
   "id": "58732653",
   "metadata": {},
   "outputs": [],
   "source": [
    "# Исправление нулевых значений в столбце 'dob_years'\n",
    "# Зададим словарь исправлений\n",
    "correction_categories = {\n",
    "    'среднее' : secondary_education_years_median,\n",
    "    'неоконченное высшее' : incomplete_high_education_median,\n",
    "    'высшее' : high_education_median\n",
    "}\n",
    "# В цикле применим исправления\n",
    "for education_cat in correction_categories:\n",
    "    borrowers.loc[(borrowers['education'] == education_cat) & (borrowers['dob_years'] == 0),\n",
    "                  'dob_years'] = correction_categories[education_cat]"
   ]
  },
  {
   "cell_type": "markdown",
   "id": "957702ca",
   "metadata": {},
   "source": [
    "Проверим результаты корректировки значений возраста:"
   ]
  },
  {
   "cell_type": "code",
   "execution_count": 18,
   "id": "85cc0200",
   "metadata": {},
   "outputs": [
    {
     "data": {
      "text/plain": [
       "array([19, 20, 21, 22, 23, 24, 25, 26, 27, 28, 29, 30, 31, 32, 33, 34, 35,\n",
       "       36, 37, 38, 39, 40, 41, 42, 43, 44, 45, 46, 47, 48, 49, 50, 51, 52,\n",
       "       53, 54, 55, 56, 57, 58, 59, 60, 61, 62, 63, 64, 65, 66, 67, 68, 69,\n",
       "       70, 71, 72, 73, 74, 75])"
      ]
     },
     "execution_count": 18,
     "metadata": {},
     "output_type": "execute_result"
    }
   ],
   "source": [
    "# Список уникальных значений столбца 'dob_years'\n",
    "borrowers['dob_years'].sort_values().unique()"
   ]
  },
  {
   "cell_type": "markdown",
   "id": "a77d80a5",
   "metadata": {},
   "source": [
    "Аномальных значений в столбце `'dob_years'` больше нет. Одновременно мы откорректировали названия категорий образования. Можно переходить к исправлению аномальных выбросов в столбце `'days_employed'`. Определим для этого функцию одной строки:"
   ]
  },
  {
   "cell_type": "code",
   "execution_count": 19,
   "id": "b1860cc0",
   "metadata": {},
   "outputs": [],
   "source": [
    "# Определение функции employment_correction для корректировки больших значений стажа\n",
    "#===================================================================================\n",
    "# На вход функции подаётся строка таблицы, содержащая:\n",
    "#   - текущее значение стажа 'days_employed'\n",
    "#   - возраст 'dob_years'\n",
    "#   - уровень образования 'education'\n",
    "# Функция возвращает откорректированное значение стажа\n",
    "def employment_correction(row):\n",
    "    # Сформируем возрастов получения образования\n",
    "    education_age = {\n",
    "        'начальное' : 16,    # примерный возраст законного начала трудовой деятельности\n",
    "        'среднее' : 18,    # примерный возраст окончания средней школы \n",
    "        'неоконченное высшее' : 21,    # примерный возраст окончания института минус 2\n",
    "        'высшее' : 23,    # примерный возраст окончания института \n",
    "        'ученая степень' : 26    # примерный возраст окончания аспирантуры\n",
    "    }\n",
    "    \n",
    "    days_employed = row['days_employed']\n",
    "    age = row['dob_years']\n",
    "    education = row['education']\n",
    "    \n",
    "    # Если наблюдаем аномальное значение\n",
    "    if days_employed > 300000:\n",
    "        # Заменим его на разницу возрастов в днях\n",
    "        days_employed = (age - education_age[education]) * 365  \n",
    "    # В противном случае вернём само значение\n",
    "    return days_employed"
   ]
  },
  {
   "cell_type": "markdown",
   "id": "e9557548",
   "metadata": {},
   "source": [
    "Протестируем функцию:"
   ]
  },
  {
   "cell_type": "code",
   "execution_count": 20,
   "id": "2bdc6cb0",
   "metadata": {},
   "outputs": [
    {
     "data": {
      "text/plain": [
       "5475"
      ]
     },
     "execution_count": 20,
     "metadata": {},
     "output_type": "execute_result"
    }
   ],
   "source": [
    "# Зададим тестовый набор\n",
    "row_values = [33, 'среднее', 400000] #значения возраста? уровня образования и стажа \n",
    "row_columns = ['dob_years', 'education', 'days_employed'] #названия столбцов\n",
    "# Сформируем строку\n",
    "row = pd.Series(data=row_values, index=row_columns)\n",
    "# Вызовем функцию\n",
    "employment_correction(row)"
   ]
  },
  {
   "cell_type": "markdown",
   "id": "c41b2ea6",
   "metadata": {},
   "source": [
    "Функция отработала корректно. Применим её для исправления столбца `'days_employed'`, после чего найдём его максимальное значение:"
   ]
  },
  {
   "cell_type": "code",
   "execution_count": 21,
   "id": "e916a062",
   "metadata": {},
   "outputs": [
    {
     "data": {
      "text/plain": [
       "20805.0"
      ]
     },
     "execution_count": 21,
     "metadata": {},
     "output_type": "execute_result"
    }
   ],
   "source": [
    "# Применение функции employment_correction к строкам таблицы borrowers\n",
    "borrowers['days_employed'] = borrowers.apply(employment_correction, axis=1)\n",
    "# Оценка максимального значения в столбце 'days_employed'\n",
    "borrowers['days_employed'].max()"
   ]
  },
  {
   "cell_type": "markdown",
   "id": "4bf48373",
   "metadata": {},
   "source": [
    "Значения свыше 300 000 исчезли. Максимальное значение 20 805 соответствует 57 годам стажа и, судя по всему, это результат работы функции. Проверим возраст человека с этим стажем:"
   ]
  },
  {
   "cell_type": "code",
   "execution_count": 22,
   "id": "60ad7f95",
   "metadata": {},
   "outputs": [
    {
     "data": {
      "text/plain": [
       "19385    73\n",
       "Name: dob_years, dtype: int64"
      ]
     },
     "execution_count": 22,
     "metadata": {},
     "output_type": "execute_result"
    }
   ],
   "source": [
    "borrowers[borrowers['days_employed'] == borrowers['days_employed'].max()]['dob_years']"
   ]
  },
  {
   "cell_type": "markdown",
   "id": "3ba7d7c8",
   "metadata": {},
   "source": [
    "В 73 года человек может иметь стаж 57 лет. Продолжим устранение аномалий в столбце `'days_employed'`. Разберёмся с отрицательными значениями в нём при помощи метода `abs()` библиотеки `pandas` и повторно оценим разброс величин:"
   ]
  },
  {
   "cell_type": "code",
   "execution_count": 23,
   "id": "f0cfc4ad",
   "metadata": {},
   "outputs": [
    {
     "name": "stdout",
     "output_type": "stream",
     "text": [
      "MAX значение в 'days_employed': 20805.0\n",
      "MIN значение в 'days_employed': 24.14163324048118\n"
     ]
    }
   ],
   "source": [
    "# Устранение отрицательных значений в столбце 'days_employed'\n",
    "borrowers['days_employed'] = borrowers['days_employed'].abs()\n",
    "# Оценка разброса значений в столбце 'days_employed'\n",
    "print(\"MAX значение в 'days_employed': {0}\\nMIN значение в 'days_employed': {1}\".\n",
    "      format(borrowers['days_employed'].max(), borrowers['days_employed'].min()))"
   ]
  },
  {
   "cell_type": "markdown",
   "id": "78259056",
   "metadata": {},
   "source": [
    "Отрицательных значений в столбце `'days_employed'` больше нет. Снова построим гистограмму и проверим распределение минимальных значений стажа:"
   ]
  },
  {
   "cell_type": "code",
   "execution_count": 24,
   "id": "6620ea53",
   "metadata": {},
   "outputs": [
    {
     "data": {
      "text/plain": [
       "<seaborn.axisgrid.FacetGrid at 0x7fa38f903970>"
      ]
     },
     "execution_count": 24,
     "metadata": {},
     "output_type": "execute_result"
    },
    {
     "data": {
      "image/png": "[encoded data removed]",
      "text/plain": [
       "<Figure size 360x360 with 1 Axes>"
      ]
     },
     "metadata": {
      "needs_background": "light"
     },
     "output_type": "display_data"
    }
   ],
   "source": [
    "# Построение количественной гистограммы значений столбца 'days_employed'\n",
    "sbn.displot(x='days_employed', data=borrowers)"
   ]
  },
  {
   "cell_type": "markdown",
   "id": "dfe776f9",
   "metadata": {},
   "source": [
    "Гистограмма выглядит значительно лучше. Выдача банком кредитов людям, работающим меньше месяца, не типична, однако в целом левая часть гистограммы выглядит нормально, поэтому данный факт можно *отметить вопросом к клиентской службе и далее не корректировать*."
   ]
  },
  {
   "cell_type": "markdown",
   "id": "aeb1956c",
   "metadata": {},
   "source": [
    "Количественный столбец `'children'` не содержит пропусков по результатам обзора данных, но вполне может содержать аномалии. Проверим это."
   ]
  },
  {
   "cell_type": "code",
   "execution_count": 25,
   "id": "6d25a7de",
   "metadata": {},
   "outputs": [
    {
     "data": {
      "text/plain": [
       "array([-1,  0,  1,  2,  3,  4,  5, 20])"
      ]
     },
     "execution_count": 25,
     "metadata": {},
     "output_type": "execute_result"
    }
   ],
   "source": [
    "# Список уникальных значений столбца 'children'\n",
    "borrowers['children'].sort_values().unique()"
   ]
  },
  {
   "cell_type": "markdown",
   "id": "554af944",
   "metadata": {},
   "source": [
    "Неожиданно в ряду объяснимых значений 0, 1, 2, 3, 4, 5 встречаются аномальные -1 и 20. Проверим, насколько часто встречаются аномалии в таблице с использованием метода `value_counts()`."
   ]
  },
  {
   "cell_type": "code",
   "execution_count": 26,
   "id": "384f7f09",
   "metadata": {},
   "outputs": [
    {
     "data": {
      "text/plain": [
       " 0     14149\n",
       " 1      4818\n",
       " 2      2055\n",
       " 3       330\n",
       " 20       76\n",
       "-1        47\n",
       " 4        41\n",
       " 5         9\n",
       "Name: children, dtype: int64"
      ]
     },
     "execution_count": 26,
     "metadata": {},
     "output_type": "execute_result"
    }
   ],
   "source": [
    "# Подсчёт уникальных значений столбца 'children'\n",
    "borrowers['children'].value_counts()"
   ]
  },
  {
   "cell_type": "markdown",
   "id": "1c8d2564",
   "metadata": {},
   "source": [
    "Аномальные значения встречаются не так уж и часто. При этом природа данных аномалий не ясна. *Целесообразно проконсультироваться со специалистами клиентского отдела и инженерами по данным.*\n",
    "\n",
    "Однако, в настоящий момент это не возможно. Поэтому для исправления аномалий ***выдвинем предположение*** - наиболее вероятным источником данных ошибок представляются опечатки оператора:\n",
    "- вместо 1 с цифровой клавиатуры было введено значение -1;\n",
    "- вместо 2 и последующего нажатия Enter было введено 20.\n",
    "\n",
    "Исправим данные аномалии присваиванием новых значений с использованием полной индексации:"
   ]
  },
  {
   "cell_type": "code",
   "execution_count": 27,
   "id": "b3ecb1cf",
   "metadata": {},
   "outputs": [
    {
     "data": {
      "text/plain": [
       "array([0, 1, 2, 3, 4, 5])"
      ]
     },
     "execution_count": 27,
     "metadata": {},
     "output_type": "execute_result"
    }
   ],
   "source": [
    "# Исправление аномалий в столбце 'children'\n",
    "borrowers.loc[borrowers['children'] == -1, 'children'] = 1\n",
    "borrowers.loc[borrowers['children'] == 20, 'children'] = 2\n",
    "# Проверим результат исправления\n",
    "borrowers['children'].sort_values().unique()"
   ]
  },
  {
   "cell_type": "markdown",
   "id": "184c760b",
   "metadata": {},
   "source": [
    "Аномалии в столбце `'children'` исправлены."
   ]
  },
  {
   "cell_type": "markdown",
   "id": "27e8d17c",
   "metadata": {},
   "source": [
    "Перейдём к заполнению пропусков данных в таблице."
   ]
  },
  {
   "cell_type": "markdown",
   "id": "725b5053",
   "metadata": {},
   "source": [
    "### Заполнение пропусков\n",
    "Устраним пропуски данных в столбцах таблицы `borrowers`. Для поиска используем комбинацию методов `isna()` и `sum()`:"
   ]
  },
  {
   "cell_type": "code",
   "execution_count": 28,
   "id": "4fdac523",
   "metadata": {
    "scrolled": true
   },
   "outputs": [
    {
     "data": {
      "text/plain": [
       "children               0\n",
       "days_employed       2174\n",
       "dob_years              0\n",
       "education              0\n",
       "education_id           0\n",
       "family_status          0\n",
       "family_status_id       0\n",
       "gender                 0\n",
       "income_type            0\n",
       "debt                   0\n",
       "total_income        2174\n",
       "purpose                0\n",
       "dtype: int64"
      ]
     },
     "execution_count": 28,
     "metadata": {},
     "output_type": "execute_result"
    }
   ],
   "source": [
    "# Подсчет количества пропусков в столбцах\n",
    "borrowers.isna().sum()"
   ]
  },
  {
   "cell_type": "markdown",
   "id": "a85cd399",
   "metadata": {},
   "source": [
    "Пропуски, как и предполагалось ранее, наблюдаются в двух столбцах: `'days_employed'` и `'total_income'`. Интересно, какую долю составляют пропуски от общего количества записей?"
   ]
  },
  {
   "cell_type": "code",
   "execution_count": 29,
   "id": "d691d1da",
   "metadata": {},
   "outputs": [
    {
     "name": "stdout",
     "output_type": "stream",
     "text": [
      "Доля пропусков в столбце 'days_employed' составляет 10%\n",
      "Доля пропусков в столбце 'total_income' составляет 10%\n"
     ]
    }
   ],
   "source": [
    "# Определение доли пропусков в столбце 'days_employed' в процентах\n",
    "print(\"Доля пропусков в столбце 'days_employed' составляет {:.0%}\".\n",
    "      format(borrowers['days_employed'].isna().sum() / len(borrowers['days_employed'])))\n",
    "# Определение доли пропусков в столбце 'total_income' в процентах\n",
    "print(\"Доля пропусков в столбце 'total_income' составляет {:.0%}\".\n",
    "      format(borrowers['total_income'].isna().sum() / len(borrowers['total_income'])))"
   ]
  },
  {
   "cell_type": "markdown",
   "id": "bdb59348",
   "metadata": {},
   "source": [
    "Итак, пропуски составляют 10% от общего количества записей, поэтому их необходимо восполнять. Проверим, связаны ли пропуски в столбце `'total_income'` с пропусками в `'days_employed'`."
   ]
  },
  {
   "cell_type": "code",
   "execution_count": 30,
   "id": "5c007195",
   "metadata": {},
   "outputs": [
    {
     "name": "stdout",
     "output_type": "stream",
     "text": [
      "Общее количество пропусков в 'total_income': 2174\n",
      "Среди них пропусков в 'days_employed': 2174\n"
     ]
    }
   ],
   "source": [
    "nan_rows = borrowers[borrowers['total_income'].isna()]\n",
    "print(\"Общее количество пропусков в 'total_income':\", len(nan_rows))\n",
    "print(\"Среди них пропусков в 'days_employed':\", nan_rows['days_employed'].isna().sum())"
   ]
  },
  {
   "cell_type": "markdown",
   "id": "a4d6d0ec",
   "metadata": {},
   "source": [
    "Очевидно, пропуски в столбцах `'days_employed'` и `'total_income'` сделаны в одних и тех же строках. Это свидетельствует о человеческом факторе, как о возможной причине возникновения пропусков. Скорее всего, данные о стаже и доходе не были указаны клиентами, или по какой-то причине не введены оператором в систему в 2174 случаях.\n",
    "\n",
    "Заполним пропуски в столбце `'total_income'` с использованием функции для строки."
   ]
  },
  {
   "cell_type": "code",
   "execution_count": 31,
   "id": "997feba9",
   "metadata": {
    "scrolled": true
   },
   "outputs": [
    {
     "data": {
      "text/plain": [
       "income_type\n",
       "безработный        131339.751676\n",
       "в декрете           53829.130729\n",
       "госслужащий        150447.935283\n",
       "компаньон          172357.950966\n",
       "пенсионер          118514.486412\n",
       "предприниматель    499163.144947\n",
       "сотрудник          142594.396847\n",
       "студент             98201.625314\n",
       "Name: total_income, dtype: float64"
      ]
     },
     "metadata": {},
     "output_type": "display_data"
    },
    {
     "data": {
      "text/plain": [
       "150447.9352830068"
      ]
     },
     "execution_count": 31,
     "metadata": {},
     "output_type": "execute_result"
    }
   ],
   "source": [
    "# Создадим вектор медианных значений дохода по типам занятости\n",
    "total_income_medians = borrowers.groupby('income_type')['total_income'].median()\n",
    "display(total_income_medians) # выведем полученный вектор\n",
    "\n",
    "# Определение функции total_income_fill_nans для замены пропусков в столбце 'total_income'\n",
    "#=========================================================================================\n",
    "# На вход функции подаётся строка таблицы, содержащая:\n",
    "#   - текущее значение дохода 'total_income'\n",
    "#   - тип занятости 'income_type'\n",
    "# Функция возвращает откорректированное значение дохода\n",
    "def total_income_fill_nans(row):\n",
    "    total_income = row['total_income']\n",
    "    income_type = row['income_type']\n",
    "    \n",
    "    if math.isnan(total_income):\n",
    "        total_income = total_income_medians[income_type]\n",
    "    return total_income\n",
    "\n",
    "# Протестируем функцию total_income_fill_nans\n",
    "# 1. Зададим тестовый набор\n",
    "row_values = [math.nan, 'госслужащий'] # значения дохода и типа занятости \n",
    "row_columns = ['total_income', 'income_type'] #названия столбцов\n",
    "# 2. Сформируем строку\n",
    "r = pd.Series(data=row_values, index=row_columns)\n",
    "# Вызовем функцию\n",
    "total_income_fill_nans(r)"
   ]
  },
  {
   "cell_type": "markdown",
   "id": "28eae8c5",
   "metadata": {},
   "source": [
    "Функция работает корректно. Применим её для заполнения пропусков в столбце `'total_income'`:"
   ]
  },
  {
   "cell_type": "code",
   "execution_count": 32,
   "id": "54115fbe",
   "metadata": {},
   "outputs": [
    {
     "name": "stdout",
     "output_type": "stream",
     "text": [
      "Количество пропусков в 'total_income' равно: 0\n"
     ]
    }
   ],
   "source": [
    "# Заполнение пропусков в 'total_income'\n",
    "borrowers['total_income'] = borrowers.apply(total_income_fill_nans, axis=1)\n",
    "# Проверка результатов заполнения пропусков в 'total_income'\n",
    "print(\"Количество пропусков в 'total_income' равно:\", borrowers['total_income'].isna().sum())"
   ]
  },
  {
   "cell_type": "markdown",
   "id": "333c8bcf",
   "metadata": {},
   "source": [
    "Пропуски в `'total_income'` заполнены. Для заполнения пропусков в столбце `'days_employed'` можно было бы по аналогии со столбцом `'total_income'` использовать медианные значения. Однако выше мы уже корректировали слишком большие значения в `'days_employed'` прогнозными на основе возраста и уровня образования. В контексте данного исследования такая корректировка представляется не хуже заполнения пропусков медианой. Поэтому заполним их заведомо большими значениями (> 300 000) и вызовем функцию корректировки `employment_correction`:"
   ]
  },
  {
   "cell_type": "code",
   "execution_count": 33,
   "id": "cec07230",
   "metadata": {},
   "outputs": [
    {
     "name": "stdout",
     "output_type": "stream",
     "text": [
      "Количество пропусков в 'days_employed' равно: 0\n",
      "Максимальное значение в 'days_employed' равно: 20805.0\n"
     ]
    }
   ],
   "source": [
    "# Заполнение пропусков в 'days_employed' заведомо большими значениями\n",
    "borrowers['days_employed'] = borrowers['days_employed'].fillna(400000)\n",
    "# Проверка результатов заполнения пропусков в 'days_employed'\n",
    "print(\"Количество пропусков в 'days_employed' равно:\", borrowers['days_employed'].isna().sum())\n",
    "# Применение функции employment_correction к строкам таблицы borrowers\n",
    "borrowers['days_employed'] = borrowers.apply(employment_correction, axis=1)\n",
    "# Оценка максимального значения в столбце 'days_employed'\n",
    "print(\"Максимальное значение в 'days_employed' равно:\", borrowers['days_employed'].max())"
   ]
  },
  {
   "cell_type": "markdown",
   "id": "30b2b1b1",
   "metadata": {},
   "source": [
    "Все пропуски в количественных данных устранены. Однако мы до сих пор не понимаем, почему значения стажа выражены вещественным числом, а также в каких единицах представлен доход."
   ]
  },
  {
   "cell_type": "markdown",
   "id": "3ceba67a",
   "metadata": {},
   "source": [
    "### Изменение типов данных\n",
    "Если природа вещественных значений в столбце дохода может быть объяснена усреднением дохода по месяцам (среднее имеет вещественный тип, поскольку при его вычислении используется обычная операция деления целых чисел), то использование значений с плавающей точкой для стажа не характерно. Обычно учитывают стаж на последнем месте работы.\n",
    "\n",
    "Вероятно, в таблицу `borrowers` вещественные значения в столбце `'days_employed'` попали в результате технической ошибки, связанной с извлечением данных, или их машинным представлением.\n",
    "\n",
    "В любом случае, для дальнейшего исследования целесообразнее привести столбцы `'total_income'` и `'days_employed'` к целому типу значений. Выполним это применением метода `.astype('int')` к соответствующим столбцам датафрейма:"
   ]
  },
  {
   "cell_type": "code",
   "execution_count": 34,
   "id": "6187b8fc",
   "metadata": {},
   "outputs": [
    {
     "data": {
      "text/html": [
       "<div>\n",
       "<style scoped>\n",
       "    .dataframe tbody tr th:only-of-type {\n",
       "        vertical-align: middle;\n",
       "    }\n",
       "\n",
       "    .dataframe tbody tr th {\n",
       "        vertical-align: top;\n",
       "    }\n",
       "\n",
       "    .dataframe thead th {\n",
       "        text-align: right;\n",
       "    }\n",
       "</style>\n",
       "<table border=\"1\" class=\"dataframe\">\n",
       "  <thead>\n",
       "    <tr style=\"text-align: right;\">\n",
       "      <th></th>\n",
       "      <th>children</th>\n",
       "      <th>days_employed</th>\n",
       "      <th>dob_years</th>\n",
       "      <th>education</th>\n",
       "      <th>education_id</th>\n",
       "      <th>family_status</th>\n",
       "      <th>family_status_id</th>\n",
       "      <th>gender</th>\n",
       "      <th>income_type</th>\n",
       "      <th>debt</th>\n",
       "      <th>total_income</th>\n",
       "      <th>purpose</th>\n",
       "    </tr>\n",
       "  </thead>\n",
       "  <tbody>\n",
       "    <tr>\n",
       "      <th>0</th>\n",
       "      <td>1</td>\n",
       "      <td>8437</td>\n",
       "      <td>42</td>\n",
       "      <td>высшее</td>\n",
       "      <td>0</td>\n",
       "      <td>женат / замужем</td>\n",
       "      <td>0</td>\n",
       "      <td>F</td>\n",
       "      <td>сотрудник</td>\n",
       "      <td>0</td>\n",
       "      <td>253875</td>\n",
       "      <td>покупка жилья</td>\n",
       "    </tr>\n",
       "    <tr>\n",
       "      <th>1</th>\n",
       "      <td>1</td>\n",
       "      <td>4024</td>\n",
       "      <td>36</td>\n",
       "      <td>среднее</td>\n",
       "      <td>1</td>\n",
       "      <td>женат / замужем</td>\n",
       "      <td>0</td>\n",
       "      <td>F</td>\n",
       "      <td>сотрудник</td>\n",
       "      <td>0</td>\n",
       "      <td>112080</td>\n",
       "      <td>приобретение автомобиля</td>\n",
       "    </tr>\n",
       "    <tr>\n",
       "      <th>2</th>\n",
       "      <td>0</td>\n",
       "      <td>5623</td>\n",
       "      <td>33</td>\n",
       "      <td>среднее</td>\n",
       "      <td>1</td>\n",
       "      <td>женат / замужем</td>\n",
       "      <td>0</td>\n",
       "      <td>M</td>\n",
       "      <td>сотрудник</td>\n",
       "      <td>0</td>\n",
       "      <td>145885</td>\n",
       "      <td>покупка жилья</td>\n",
       "    </tr>\n",
       "    <tr>\n",
       "      <th>3</th>\n",
       "      <td>3</td>\n",
       "      <td>4124</td>\n",
       "      <td>32</td>\n",
       "      <td>среднее</td>\n",
       "      <td>1</td>\n",
       "      <td>женат / замужем</td>\n",
       "      <td>0</td>\n",
       "      <td>M</td>\n",
       "      <td>сотрудник</td>\n",
       "      <td>0</td>\n",
       "      <td>267628</td>\n",
       "      <td>дополнительное образование</td>\n",
       "    </tr>\n",
       "    <tr>\n",
       "      <th>4</th>\n",
       "      <td>0</td>\n",
       "      <td>12775</td>\n",
       "      <td>53</td>\n",
       "      <td>среднее</td>\n",
       "      <td>1</td>\n",
       "      <td>гражданский брак</td>\n",
       "      <td>1</td>\n",
       "      <td>F</td>\n",
       "      <td>пенсионер</td>\n",
       "      <td>0</td>\n",
       "      <td>158616</td>\n",
       "      <td>сыграть свадьбу</td>\n",
       "    </tr>\n",
       "  </tbody>\n",
       "</table>\n",
       "</div>"
      ],
      "text/plain": [
       "   children  days_employed  dob_years education  education_id  \\\n",
       "0         1           8437         42    высшее             0   \n",
       "1         1           4024         36   среднее             1   \n",
       "2         0           5623         33   среднее             1   \n",
       "3         3           4124         32   среднее             1   \n",
       "4         0          12775         53   среднее             1   \n",
       "\n",
       "      family_status  family_status_id gender income_type  debt  total_income  \\\n",
       "0   женат / замужем                 0      F   сотрудник     0        253875   \n",
       "1   женат / замужем                 0      F   сотрудник     0        112080   \n",
       "2   женат / замужем                 0      M   сотрудник     0        145885   \n",
       "3   женат / замужем                 0      M   сотрудник     0        267628   \n",
       "4  гражданский брак                 1      F   пенсионер     0        158616   \n",
       "\n",
       "                      purpose  \n",
       "0               покупка жилья  \n",
       "1     приобретение автомобиля  \n",
       "2               покупка жилья  \n",
       "3  дополнительное образование  \n",
       "4             сыграть свадьбу  "
      ]
     },
     "execution_count": 34,
     "metadata": {},
     "output_type": "execute_result"
    }
   ],
   "source": [
    "# Приведение столбца 'total_income' к целочисленным значениям\n",
    "borrowers['total_income'] = borrowers['total_income'].astype('int')\n",
    "# Приведение столбца 'days_employed' к целочисленным значениям\n",
    "borrowers['days_employed'] = borrowers['days_employed'].astype('int')\n",
    "# Проверка результата\n",
    "borrowers.head()"
   ]
  },
  {
   "cell_type": "markdown",
   "id": "32a59cb0",
   "metadata": {},
   "source": [
    "Теперь в столбцах `'total_income'` и `'days_employed'` целые числа.\n",
    "\n",
    "Отметим, что на самом деле для нашего исследования не важна природа значений `'days_employed'`, поскольку данная информация не будет использоваться при проверке сформулированных гипотез.\n",
    "\n",
    "Также не важны единицы измерения значений (рубли, доллары, копейки) столбца `'total_income'`. В дальнейшем для удобства анализа мы разобъём заёмщиков на несколько категорий по уровню дохода. Попутно узнаем количество миллионеров среди клиентов банка."
   ]
  },
  {
   "cell_type": "markdown",
   "id": "3f164b43",
   "metadata": {},
   "source": [
    "### Удаление дубликатов\n",
    "\n",
    "Для начала удалим явные дубликаты, если такие есть в таблице, поскольку маловероятно, что два и более различных заёмщика имели 12 полностью одинаковых параметров в таблице `borrowers`:"
   ]
  },
  {
   "cell_type": "code",
   "execution_count": 35,
   "id": "7bcba39e",
   "metadata": {},
   "outputs": [
    {
     "data": {
      "text/plain": [
       "0"
      ]
     },
     "execution_count": 35,
     "metadata": {},
     "output_type": "execute_result"
    }
   ],
   "source": [
    "# Удаление явных дубликатов (с удалением индексов и формированием новых)\n",
    "borrowers = borrowers.drop_duplicates()\n",
    "# Проверка на отсутствие явных дубликатов\n",
    "borrowers.duplicated().sum()"
   ]
  },
  {
   "cell_type": "markdown",
   "id": "7e36da50",
   "metadata": {},
   "source": [
    "Явных дубликатов нет. Рассмотрим теперь неявные.\n",
    "\n",
    "Часть категориальных столбцов, а именно - числовые и булевский идентификаторы, мы рассмотрели на этапе обзора данных. Теперь мы знаем, что в таблице представлены 5 категорий уровня образования, 5 категорий семейного положения. Учитывая эти знания, перейдем к рассмотрению категории `'family_status'`, поскольку от дубликатов в столбце `'education'` мы избавились ранее:"
   ]
  },
  {
   "cell_type": "code",
   "execution_count": 36,
   "id": "a774d934",
   "metadata": {},
   "outputs": [
    {
     "data": {
      "text/plain": [
       "array(['высшее', 'среднее', 'неоконченное высшее', 'начальное',\n",
       "       'ученая степень'], dtype=object)"
      ]
     },
     "execution_count": 36,
     "metadata": {},
     "output_type": "execute_result"
    }
   ],
   "source": [
    "# Список уникальных значений столбца 'education'\n",
    "borrowers['education'].unique()"
   ]
  },
  {
   "cell_type": "markdown",
   "id": "76f41f5d",
   "metadata": {},
   "source": [
    " Проделаем то же самое с `'family_status'`:"
   ]
  },
  {
   "cell_type": "code",
   "execution_count": 37,
   "id": "20bd10c7",
   "metadata": {},
   "outputs": [
    {
     "data": {
      "text/plain": [
       "array(['женат / замужем', 'гражданский брак', 'вдовец / вдова',\n",
       "       'в разводе', 'Не женат / не замужем'], dtype=object)"
      ]
     },
     "execution_count": 37,
     "metadata": {},
     "output_type": "execute_result"
    }
   ],
   "source": [
    "# Список уникальных значений столбца 'family_status'\n",
    "borrowers['family_status'].unique()"
   ]
  },
  {
   "cell_type": "markdown",
   "id": "e83d7c7d",
   "metadata": {},
   "source": [
    "В столбце `'family_status'`в точности 5 значений, но присутствуют символы в верхнем регистре. Приведём значения в `'family_status'` к нижнему регистру и выведем новый список полученных уникальных:"
   ]
  },
  {
   "cell_type": "code",
   "execution_count": 38,
   "id": "04a1c943",
   "metadata": {},
   "outputs": [
    {
     "data": {
      "text/plain": [
       "array(['женат / замужем', 'гражданский брак', 'вдовец / вдова',\n",
       "       'в разводе', 'не женат / не замужем'], dtype=object)"
      ]
     },
     "execution_count": 38,
     "metadata": {},
     "output_type": "execute_result"
    }
   ],
   "source": [
    "# Приведение к нижнему регистру значений столбца 'family_status'\n",
    "borrowers['family_status'] = borrowers['family_status'].str.lower()\n",
    "# Список уникальных значений столбца 'education'\n",
    "borrowers['family_status'].unique()"
   ]
  },
  {
   "cell_type": "markdown",
   "id": "6fd2ed50",
   "metadata": {},
   "source": [
    "Теперь значения столбца `'family_status'` соответствуют \"хорошему стилю\" анализируемых данных.\n",
    "\n",
    "У нас остались нерассмотрены три категории: `'gender'`, `'income_type'` и `'purpose'`. Количество значений в них нам пока не известно. Рассмотрим список уникальных значений цели кредита. Для удобства восприятия отсортируем значения в лексикографическом порядке: "
   ]
  },
  {
   "cell_type": "code",
   "execution_count": 39,
   "id": "cd767a5b",
   "metadata": {},
   "outputs": [
    {
     "data": {
      "text/plain": [
       "array(['автомобили', 'автомобиль', 'высшее образование',\n",
       "       'дополнительное образование', 'жилье',\n",
       "       'заняться высшим образованием', 'заняться образованием',\n",
       "       'на покупку автомобиля', 'на покупку подержанного автомобиля',\n",
       "       'на покупку своего автомобиля', 'на проведение свадьбы',\n",
       "       'недвижимость', 'образование', 'операции с жильем',\n",
       "       'операции с коммерческой недвижимостью',\n",
       "       'операции с недвижимостью', 'операции со своей недвижимостью',\n",
       "       'покупка жилой недвижимости', 'покупка жилья',\n",
       "       'покупка жилья для сдачи', 'покупка жилья для семьи',\n",
       "       'покупка коммерческой недвижимости', 'покупка недвижимости',\n",
       "       'покупка своего жилья', 'получение высшего образования',\n",
       "       'получение дополнительного образования', 'получение образования',\n",
       "       'приобретение автомобиля', 'профильное образование',\n",
       "       'ремонт жилью', 'свадьба', 'свой автомобиль',\n",
       "       'сделка с автомобилем', 'сделка с подержанным автомобилем',\n",
       "       'строительство жилой недвижимости', 'строительство недвижимости',\n",
       "       'строительство собственной недвижимости', 'сыграть свадьбу'],\n",
       "      dtype=object)"
      ]
     },
     "execution_count": 39,
     "metadata": {},
     "output_type": "execute_result"
    }
   ],
   "source": [
    "# Список уникальных значений столбца 'purpose'\n",
    "borrowers['purpose'].sort_values().unique()"
   ]
  },
  {
   "cell_type": "markdown",
   "id": "6a1a2c58",
   "metadata": {},
   "source": [
    "Анализ полученного множества позволяет выявить следующие неявные дубликаты:\n",
    "- 'автомобили', 'автомобиль' - некие общие категории, о сути которых ничего не известно, можно объединить;\n",
    "\n",
    "- 'высшее образование', 'заняться высшим образованием', 'получение высшего образования' - по сути одна категория;\n",
    "- 'дополнительное образование', 'получение дополнительного образования' - по сути одна категория;\n",
    "- 'заняться образованием', 'образование', 'получение образования' - по сути одна категория без уточнения специфики;\n",
    "\n",
    "Также в списке значений присутствуют различные виды операций с неовижимостью, включая жилую, причём последняя представлена в виде просторечного выражения \"жилье\". Предлагается заменить \"жилье\" на \"жилая недвижимость\" для упрощения дальнейшей классификации: 'жилье', 'операции с жильем', 'покупка жилья', 'покупка жилья для сдачи', 'покупка жилья для семьи', 'покупка своего жилья', 'ремонт жилью'.\n",
    "\n",
    "Данные неявные дубликаты в `'purpose'` появились по причине отсутствия формализованных правил описания категорий в банковском программном обеспечении. Клиенты в произвольной форме заполняют цель кредита в заявке, а операторы дословно переносят данные в базу. Такой путь может привести к бесконтрольному разрастанию количества используемых категорий и трудностям в анализе и классификации клиентов по цели кредита.\n",
    "\n",
    "Напишем функцию, которая будет заменять значения в столбцах:"
   ]
  },
  {
   "cell_type": "code",
   "execution_count": 40,
   "id": "eba976ec",
   "metadata": {},
   "outputs": [],
   "source": [
    "# Функция замены неявных дубликатов\n",
    "#==================================\n",
    "# На вход функции подаются:\n",
    "#   - название столбца (column)\n",
    "#   - список значений, которые надо заменить (wrong_values)\n",
    "#   - значение, на которое надо заменить (correct_value)\n",
    "# Замена происходит непосредстаенно в таблице borrowers\n",
    "# Функция не возвращает значений\n",
    "def replace_wrong_values(column, wrong_values, correct_value):\n",
    "    for wrong_value in wrong_values:\n",
    "        borrowers[column] = borrowers[column].replace(wrong_value, correct_value)"
   ]
  },
  {
   "cell_type": "markdown",
   "id": "b2847809",
   "metadata": {},
   "source": [
    "Устраним неявные дубликаты в столбце `'purpose'`:"
   ]
  },
  {
   "cell_type": "code",
   "execution_count": 41,
   "id": "1df42363",
   "metadata": {},
   "outputs": [
    {
     "data": {
      "text/plain": [
       "array(['автомобиль', 'высшее образование', 'дополнительное образование',\n",
       "       'жилая недвижимость', 'на покупку автомобиля',\n",
       "       'на покупку подержанного автомобиля',\n",
       "       'на покупку своего автомобиля', 'на проведение свадьбы',\n",
       "       'недвижимость', 'образование', 'операции с жилой недвижимостью',\n",
       "       'операции с коммерческой недвижимостью',\n",
       "       'операции с недвижимостью', 'операции со своей недвижимостью',\n",
       "       'покупка жилой недвижимости',\n",
       "       'покупка жилой недвижимости для сдачи',\n",
       "       'покупка жилой недвижимости для семьи',\n",
       "       'покупка коммерческой недвижимости', 'покупка недвижимости',\n",
       "       'покупка своей жилой недвижимости', 'приобретение автомобиля',\n",
       "       'профильное образование', 'ремонт жилой недвижимости', 'свадьба',\n",
       "       'свой автомобиль', 'сделка с автомобилем',\n",
       "       'сделка с подержанным автомобилем',\n",
       "       'строительство жилой недвижимости', 'строительство недвижимости',\n",
       "       'строительство собственной недвижимости', 'сыграть свадьбу'],\n",
       "      dtype=object)"
      ]
     },
     "execution_count": 41,
     "metadata": {},
     "output_type": "execute_result"
    }
   ],
   "source": [
    "# 1. Сформируем словарь неявных дубликатов в формате\n",
    "# 'correct_value' : [wrong_value_list]\n",
    "values_to_replace = {\n",
    "    'автомобиль' : ['автомобили'],\n",
    "    'высшее образование' : ['заняться высшим образованием', 'получение высшего образования'],\n",
    "    'дополнительное образование' : ['получение дополнительного образования'],\n",
    "    'образование' : ['заняться образованием', 'получение образования'],\n",
    "    'жилая недвижимость' : ['жилье'],\n",
    "    'операции с жилой недвижимостью' : ['операции с жильем'],\n",
    "    'покупка жилой недвижимости' : ['покупка жилья'],\n",
    "    'покупка жилой недвижимости для сдачи' : ['покупка жилья для сдачи'],\n",
    "    'покупка жилой недвижимости для семьи' : ['покупка жилья для семьи'],\n",
    "    'покупка своей жилой недвижимости' : ['покупка своего жилья'],\n",
    "    'ремонт жилой недвижимости' : ['ремонт жилью']\n",
    "}\n",
    "# 2. В цикле пройдём словарь и осуществим вызов функции replace_wrong_values()\n",
    "for corr_value in values_to_replace:\n",
    "    replace_wrong_values('purpose', values_to_replace[corr_value], corr_value)\n",
    "# 3. Проверим результат устранения дубликатов\n",
    "borrowers['purpose'].sort_values().unique()"
   ]
  },
  {
   "cell_type": "markdown",
   "id": "c54fd696",
   "metadata": {},
   "source": [
    "Список целей кредита выглядит аккуратнее и единообразнее. Количество категорий сократилось. Однако по-прежнему сохраняется определенное количество схожих по смыслу значений. \n",
    "\n",
    "Для целей данного исследования в дальнейшем мы проведём укрупнение категорий целей кредита путём введения групп категорий. *Однако, следует обсудить с клиентским отделом  вопрос сокращения и приведения к единому стандарту списка целей*. Это может потребоваться в случае проведения более тонкого анализа по целям.\n",
    "\n",
    "***Отметим***, что функция `replace_wrong_values()`, реализованная в данном методе устранения неявных дубликатов, универсальна и может быть при необходимости применена к любому столбцу таблицы `'borrowers'`.\n",
    "\n",
    "Рассмотрим список уникальных значений типов занятости. Для удобства восприятия отсортируем значения в лексикографическом порядке:"
   ]
  },
  {
   "cell_type": "code",
   "execution_count": 42,
   "id": "b4457023",
   "metadata": {},
   "outputs": [
    {
     "data": {
      "text/plain": [
       "array(['безработный', 'в декрете', 'госслужащий', 'компаньон',\n",
       "       'пенсионер', 'предприниматель', 'сотрудник', 'студент'],\n",
       "      dtype=object)"
      ]
     },
     "execution_count": 42,
     "metadata": {},
     "output_type": "execute_result"
    }
   ],
   "source": [
    "# Список уникальных значений столбца 'income_type'\n",
    "borrowers['income_type'].sort_values().unique()"
   ]
  },
  {
   "cell_type": "markdown",
   "id": "a57b7b1b",
   "metadata": {},
   "source": [
    "Дубликатов в столбце `'income_type'` не выявлено.\n",
    "\n",
    "Рассмотрим список уникальных значений пола клиентов. Для удобства восприятия отсортируем значения в лексикографическом порядке:"
   ]
  },
  {
   "cell_type": "code",
   "execution_count": 43,
   "id": "adc3e76e",
   "metadata": {},
   "outputs": [
    {
     "data": {
      "text/plain": [
       "array(['F', 'M', 'XNA'], dtype=object)"
      ]
     },
     "execution_count": 43,
     "metadata": {},
     "output_type": "execute_result"
    }
   ],
   "source": [
    "# Список уникальных значений столбца 'gender'\n",
    "borrowers['gender'].sort_values().unique()"
   ]
  },
  {
   "cell_type": "markdown",
   "id": "0af0a6f0",
   "metadata": {},
   "source": [
    "В столбце `'gender'` дубликатов также не обнаружено. Значение `'XNA'` соответствует случаям, когда клиент отказался предоставлять информацию о поле. Такая ситуация является нормальной.\n",
    "\n",
    "Итак, дубликаты в таблице устранены. Перейдём к устранению избыточности хранящейся в ней информации путем её декомпозиции и выделения словарей категорий."
   ]
  },
  {
   "cell_type": "markdown",
   "id": "c423bd3d",
   "metadata": {},
   "source": [
    "### Формирование дополнительных датафреймов словарей, декомпозиция исходного датафрейма\n",
    "Выделим словари семейного положения `family_statuses` и уровня образования `educations` из исходного датафрейма путём выделения нужных столбцов в новую таблицу, удаления дубликатов значений и сброса индексации."
   ]
  },
  {
   "cell_type": "code",
   "execution_count": 44,
   "id": "83270412",
   "metadata": {},
   "outputs": [
    {
     "data": {
      "text/html": [
       "<div>\n",
       "<style scoped>\n",
       "    .dataframe tbody tr th:only-of-type {\n",
       "        vertical-align: middle;\n",
       "    }\n",
       "\n",
       "    .dataframe tbody tr th {\n",
       "        vertical-align: top;\n",
       "    }\n",
       "\n",
       "    .dataframe thead th {\n",
       "        text-align: right;\n",
       "    }\n",
       "</style>\n",
       "<table border=\"1\" class=\"dataframe\">\n",
       "  <thead>\n",
       "    <tr style=\"text-align: right;\">\n",
       "      <th></th>\n",
       "      <th>family_status_id</th>\n",
       "      <th>family_status</th>\n",
       "    </tr>\n",
       "  </thead>\n",
       "  <tbody>\n",
       "    <tr>\n",
       "      <th>0</th>\n",
       "      <td>0</td>\n",
       "      <td>женат / замужем</td>\n",
       "    </tr>\n",
       "    <tr>\n",
       "      <th>1</th>\n",
       "      <td>1</td>\n",
       "      <td>гражданский брак</td>\n",
       "    </tr>\n",
       "    <tr>\n",
       "      <th>2</th>\n",
       "      <td>2</td>\n",
       "      <td>вдовец / вдова</td>\n",
       "    </tr>\n",
       "    <tr>\n",
       "      <th>3</th>\n",
       "      <td>3</td>\n",
       "      <td>в разводе</td>\n",
       "    </tr>\n",
       "    <tr>\n",
       "      <th>4</th>\n",
       "      <td>4</td>\n",
       "      <td>не женат / не замужем</td>\n",
       "    </tr>\n",
       "  </tbody>\n",
       "</table>\n",
       "</div>"
      ],
      "text/plain": [
       "   family_status_id          family_status\n",
       "0                 0        женат / замужем\n",
       "1                 1       гражданский брак\n",
       "2                 2         вдовец / вдова\n",
       "3                 3              в разводе\n",
       "4                 4  не женат / не замужем"
      ]
     },
     "execution_count": 44,
     "metadata": {},
     "output_type": "execute_result"
    }
   ],
   "source": [
    "# Выделим столбцы 'family_status_id' и 'family_status', удалим дубликаты и сбросим индексацию\n",
    "family_statuses = borrowers[['family_status_id', 'family_status']].drop_duplicates().reset_index(drop=True)\n",
    "family_statuses"
   ]
  },
  {
   "cell_type": "code",
   "execution_count": 45,
   "id": "4022cfb3",
   "metadata": {},
   "outputs": [
    {
     "data": {
      "text/html": [
       "<div>\n",
       "<style scoped>\n",
       "    .dataframe tbody tr th:only-of-type {\n",
       "        vertical-align: middle;\n",
       "    }\n",
       "\n",
       "    .dataframe tbody tr th {\n",
       "        vertical-align: top;\n",
       "    }\n",
       "\n",
       "    .dataframe thead th {\n",
       "        text-align: right;\n",
       "    }\n",
       "</style>\n",
       "<table border=\"1\" class=\"dataframe\">\n",
       "  <thead>\n",
       "    <tr style=\"text-align: right;\">\n",
       "      <th></th>\n",
       "      <th>education_id</th>\n",
       "      <th>education</th>\n",
       "    </tr>\n",
       "  </thead>\n",
       "  <tbody>\n",
       "    <tr>\n",
       "      <th>0</th>\n",
       "      <td>0</td>\n",
       "      <td>высшее</td>\n",
       "    </tr>\n",
       "    <tr>\n",
       "      <th>1</th>\n",
       "      <td>1</td>\n",
       "      <td>среднее</td>\n",
       "    </tr>\n",
       "    <tr>\n",
       "      <th>2</th>\n",
       "      <td>2</td>\n",
       "      <td>неоконченное высшее</td>\n",
       "    </tr>\n",
       "    <tr>\n",
       "      <th>3</th>\n",
       "      <td>3</td>\n",
       "      <td>начальное</td>\n",
       "    </tr>\n",
       "    <tr>\n",
       "      <th>4</th>\n",
       "      <td>4</td>\n",
       "      <td>ученая степень</td>\n",
       "    </tr>\n",
       "  </tbody>\n",
       "</table>\n",
       "</div>"
      ],
      "text/plain": [
       "   education_id            education\n",
       "0             0               высшее\n",
       "1             1              среднее\n",
       "2             2  неоконченное высшее\n",
       "3             3            начальное\n",
       "4             4       ученая степень"
      ]
     },
     "execution_count": 45,
     "metadata": {},
     "output_type": "execute_result"
    }
   ],
   "source": [
    "# выделим столбцы 'education_id' и 'education', удалим дубликаты и сбросим индексацию\n",
    "educations = borrowers[['education_id', 'education']].drop_duplicates().reset_index(drop=True)\n",
    "educations"
   ]
  },
  {
   "cell_type": "markdown",
   "id": "ce5189bb",
   "metadata": {},
   "source": [
    "Итак, мы создали словари семейного положения и уровня образования. Теперь можно устранить избыточность в таблице `borrowers`, удалив столбцы `'family_status'` и `'education'`. Результат проверим, выведя первые 5 строк таблицы."
   ]
  },
  {
   "cell_type": "code",
   "execution_count": 46,
   "id": "1e57e3e2",
   "metadata": {
    "scrolled": true
   },
   "outputs": [
    {
     "data": {
      "text/html": [
       "<div>\n",
       "<style scoped>\n",
       "    .dataframe tbody tr th:only-of-type {\n",
       "        vertical-align: middle;\n",
       "    }\n",
       "\n",
       "    .dataframe tbody tr th {\n",
       "        vertical-align: top;\n",
       "    }\n",
       "\n",
       "    .dataframe thead th {\n",
       "        text-align: right;\n",
       "    }\n",
       "</style>\n",
       "<table border=\"1\" class=\"dataframe\">\n",
       "  <thead>\n",
       "    <tr style=\"text-align: right;\">\n",
       "      <th></th>\n",
       "      <th>children</th>\n",
       "      <th>days_employed</th>\n",
       "      <th>dob_years</th>\n",
       "      <th>education_id</th>\n",
       "      <th>family_status_id</th>\n",
       "      <th>gender</th>\n",
       "      <th>income_type</th>\n",
       "      <th>debt</th>\n",
       "      <th>total_income</th>\n",
       "      <th>purpose</th>\n",
       "    </tr>\n",
       "  </thead>\n",
       "  <tbody>\n",
       "    <tr>\n",
       "      <th>0</th>\n",
       "      <td>1</td>\n",
       "      <td>8437</td>\n",
       "      <td>42</td>\n",
       "      <td>0</td>\n",
       "      <td>0</td>\n",
       "      <td>F</td>\n",
       "      <td>сотрудник</td>\n",
       "      <td>0</td>\n",
       "      <td>253875</td>\n",
       "      <td>покупка жилой недвижимости</td>\n",
       "    </tr>\n",
       "    <tr>\n",
       "      <th>1</th>\n",
       "      <td>1</td>\n",
       "      <td>4024</td>\n",
       "      <td>36</td>\n",
       "      <td>1</td>\n",
       "      <td>0</td>\n",
       "      <td>F</td>\n",
       "      <td>сотрудник</td>\n",
       "      <td>0</td>\n",
       "      <td>112080</td>\n",
       "      <td>приобретение автомобиля</td>\n",
       "    </tr>\n",
       "    <tr>\n",
       "      <th>2</th>\n",
       "      <td>0</td>\n",
       "      <td>5623</td>\n",
       "      <td>33</td>\n",
       "      <td>1</td>\n",
       "      <td>0</td>\n",
       "      <td>M</td>\n",
       "      <td>сотрудник</td>\n",
       "      <td>0</td>\n",
       "      <td>145885</td>\n",
       "      <td>покупка жилой недвижимости</td>\n",
       "    </tr>\n",
       "    <tr>\n",
       "      <th>3</th>\n",
       "      <td>3</td>\n",
       "      <td>4124</td>\n",
       "      <td>32</td>\n",
       "      <td>1</td>\n",
       "      <td>0</td>\n",
       "      <td>M</td>\n",
       "      <td>сотрудник</td>\n",
       "      <td>0</td>\n",
       "      <td>267628</td>\n",
       "      <td>дополнительное образование</td>\n",
       "    </tr>\n",
       "    <tr>\n",
       "      <th>4</th>\n",
       "      <td>0</td>\n",
       "      <td>12775</td>\n",
       "      <td>53</td>\n",
       "      <td>1</td>\n",
       "      <td>1</td>\n",
       "      <td>F</td>\n",
       "      <td>пенсионер</td>\n",
       "      <td>0</td>\n",
       "      <td>158616</td>\n",
       "      <td>сыграть свадьбу</td>\n",
       "    </tr>\n",
       "  </tbody>\n",
       "</table>\n",
       "</div>"
      ],
      "text/plain": [
       "   children  days_employed  dob_years  education_id  family_status_id gender  \\\n",
       "0         1           8437         42             0                 0      F   \n",
       "1         1           4024         36             1                 0      F   \n",
       "2         0           5623         33             1                 0      M   \n",
       "3         3           4124         32             1                 0      M   \n",
       "4         0          12775         53             1                 1      F   \n",
       "\n",
       "  income_type  debt  total_income                     purpose  \n",
       "0   сотрудник     0        253875  покупка жилой недвижимости  \n",
       "1   сотрудник     0        112080     приобретение автомобиля  \n",
       "2   сотрудник     0        145885  покупка жилой недвижимости  \n",
       "3   сотрудник     0        267628  дополнительное образование  \n",
       "4   пенсионер     0        158616             сыграть свадьбу  "
      ]
     },
     "execution_count": 46,
     "metadata": {},
     "output_type": "execute_result"
    }
   ],
   "source": [
    "# удаление столбцов 'family_status' и 'education'\n",
    "borrowers = borrowers.drop(['family_status', 'education'], axis='columns')\n",
    "# проверка результата\n",
    "borrowers.head()"
   ]
  },
  {
   "cell_type": "markdown",
   "id": "6fe92ebe",
   "metadata": {},
   "source": [
    "Избыточность таблицы устранена."
   ]
  },
  {
   "cell_type": "markdown",
   "id": "f900cf91",
   "metadata": {},
   "source": [
    "### Категоризация дохода\n",
    "Оперировать количественными значениями при ответе на вопросы исследования может быть не удобно, поскольку разброс значений, как мы помним, велик. Поэтому представляется целесообразным сгруппировать клиентов по уровню дохода:\n",
    "- `A` - 1000001 и выше;\n",
    "- `B` - 200001–1000000;\n",
    "- `C` - 50001–200000;\n",
    "- `D` - 30001–50000;\n",
    "- `E` - 0–30000.\n",
    "\n",
    "Для этого напишем функцию, которая на основе принятого целочисленного значения возвращает одну из перечисленных групп доходов:"
   ]
  },
  {
   "cell_type": "code",
   "execution_count": 47,
   "id": "4597a155",
   "metadata": {},
   "outputs": [],
   "source": [
    "# Определение функции категоризации доходов income_category(income)\n",
    "#==================================================================\n",
    "# На вход функции подаётся целочисленное значение дохода\n",
    "# Функция возвращает:\n",
    "#   - в случае неотрицательного значения на входе - одну из 5 категорий дохлда\n",
    "#   - в случае отрицательного значения на входе - сообщение об ошибке\n",
    "# Поскольку на вход может поступать не числовое значение, обеспечим безопасность функции\n",
    "# с использованием конструкции try - except\n",
    "def income_category(income):\n",
    "    try:\n",
    "        if income > 1000000:\n",
    "            return 'A'\n",
    "        elif income > 200000:\n",
    "            return 'B'\n",
    "        elif income > 50000:\n",
    "            return 'C'\n",
    "        elif income > 30000:\n",
    "            return 'D'\n",
    "        elif income > 0:\n",
    "            return 'E'\n",
    "        else:\n",
    "            ret = 'Ошибка! Отрицательный доход!'\n",
    "    except:\n",
    "        ret = 'Ошибка! Не число на входе!'\n",
    "    return ret"
   ]
  },
  {
   "cell_type": "markdown",
   "id": "dd784bf8",
   "metadata": {},
   "source": [
    "Проверим функцию `income_category()` на тестовом наборе данных:"
   ]
  },
  {
   "cell_type": "code",
   "execution_count": 48,
   "id": "9120c3a7",
   "metadata": {},
   "outputs": [
    {
     "name": "stdout",
     "output_type": "stream",
     "text": [
      "Значению 2500000 соответствует выход: A\n",
      "Значению 35000 соответствует выход: D\n",
      "Значению 60000 соответствует выход: C\n",
      "Значению 10001 соответствует выход: E\n",
      "Значению 700200 соответствует выход: B\n",
      "Значению -24 соответствует выход: Ошибка! Отрицательный доход!\n",
      "Значению 500 соответствует выход: Ошибка! Не число на входе!\n"
     ]
    }
   ],
   "source": [
    "# Тестирование функции income_category(income)\n",
    "# 1. Зададим тестовые данные\n",
    "test_data = [2500000, 35000, 60000, 10001, 700200, -24, '500']\n",
    "# 2. В цикле проверим работу функции\n",
    "for val in test_data:\n",
    "    print(f'Значению {val} соответствует выход: {income_category(val)}')"
   ]
  },
  {
   "cell_type": "markdown",
   "id": "5b2e2263",
   "metadata": {},
   "source": [
    "Функция работает. Применим её для добавления к таблице `borrowers` столбца `'total_income_category'` с категорией доходов и выведем 5 строк результата:"
   ]
  },
  {
   "cell_type": "code",
   "execution_count": 49,
   "id": "ed78dc88",
   "metadata": {},
   "outputs": [
    {
     "data": {
      "text/html": [
       "<div>\n",
       "<style scoped>\n",
       "    .dataframe tbody tr th:only-of-type {\n",
       "        vertical-align: middle;\n",
       "    }\n",
       "\n",
       "    .dataframe tbody tr th {\n",
       "        vertical-align: top;\n",
       "    }\n",
       "\n",
       "    .dataframe thead th {\n",
       "        text-align: right;\n",
       "    }\n",
       "</style>\n",
       "<table border=\"1\" class=\"dataframe\">\n",
       "  <thead>\n",
       "    <tr style=\"text-align: right;\">\n",
       "      <th></th>\n",
       "      <th>children</th>\n",
       "      <th>days_employed</th>\n",
       "      <th>dob_years</th>\n",
       "      <th>education_id</th>\n",
       "      <th>family_status_id</th>\n",
       "      <th>gender</th>\n",
       "      <th>income_type</th>\n",
       "      <th>debt</th>\n",
       "      <th>total_income</th>\n",
       "      <th>purpose</th>\n",
       "      <th>total_income_category</th>\n",
       "    </tr>\n",
       "  </thead>\n",
       "  <tbody>\n",
       "    <tr>\n",
       "      <th>0</th>\n",
       "      <td>1</td>\n",
       "      <td>8437</td>\n",
       "      <td>42</td>\n",
       "      <td>0</td>\n",
       "      <td>0</td>\n",
       "      <td>F</td>\n",
       "      <td>сотрудник</td>\n",
       "      <td>0</td>\n",
       "      <td>253875</td>\n",
       "      <td>покупка жилой недвижимости</td>\n",
       "      <td>B</td>\n",
       "    </tr>\n",
       "    <tr>\n",
       "      <th>1</th>\n",
       "      <td>1</td>\n",
       "      <td>4024</td>\n",
       "      <td>36</td>\n",
       "      <td>1</td>\n",
       "      <td>0</td>\n",
       "      <td>F</td>\n",
       "      <td>сотрудник</td>\n",
       "      <td>0</td>\n",
       "      <td>112080</td>\n",
       "      <td>приобретение автомобиля</td>\n",
       "      <td>C</td>\n",
       "    </tr>\n",
       "    <tr>\n",
       "      <th>2</th>\n",
       "      <td>0</td>\n",
       "      <td>5623</td>\n",
       "      <td>33</td>\n",
       "      <td>1</td>\n",
       "      <td>0</td>\n",
       "      <td>M</td>\n",
       "      <td>сотрудник</td>\n",
       "      <td>0</td>\n",
       "      <td>145885</td>\n",
       "      <td>покупка жилой недвижимости</td>\n",
       "      <td>C</td>\n",
       "    </tr>\n",
       "    <tr>\n",
       "      <th>3</th>\n",
       "      <td>3</td>\n",
       "      <td>4124</td>\n",
       "      <td>32</td>\n",
       "      <td>1</td>\n",
       "      <td>0</td>\n",
       "      <td>M</td>\n",
       "      <td>сотрудник</td>\n",
       "      <td>0</td>\n",
       "      <td>267628</td>\n",
       "      <td>дополнительное образование</td>\n",
       "      <td>B</td>\n",
       "    </tr>\n",
       "    <tr>\n",
       "      <th>4</th>\n",
       "      <td>0</td>\n",
       "      <td>12775</td>\n",
       "      <td>53</td>\n",
       "      <td>1</td>\n",
       "      <td>1</td>\n",
       "      <td>F</td>\n",
       "      <td>пенсионер</td>\n",
       "      <td>0</td>\n",
       "      <td>158616</td>\n",
       "      <td>сыграть свадьбу</td>\n",
       "      <td>C</td>\n",
       "    </tr>\n",
       "  </tbody>\n",
       "</table>\n",
       "</div>"
      ],
      "text/plain": [
       "   children  days_employed  dob_years  education_id  family_status_id gender  \\\n",
       "0         1           8437         42             0                 0      F   \n",
       "1         1           4024         36             1                 0      F   \n",
       "2         0           5623         33             1                 0      M   \n",
       "3         3           4124         32             1                 0      M   \n",
       "4         0          12775         53             1                 1      F   \n",
       "\n",
       "  income_type  debt  total_income                     purpose  \\\n",
       "0   сотрудник     0        253875  покупка жилой недвижимости   \n",
       "1   сотрудник     0        112080     приобретение автомобиля   \n",
       "2   сотрудник     0        145885  покупка жилой недвижимости   \n",
       "3   сотрудник     0        267628  дополнительное образование   \n",
       "4   пенсионер     0        158616             сыграть свадьбу   \n",
       "\n",
       "  total_income_category  \n",
       "0                     B  \n",
       "1                     C  \n",
       "2                     C  \n",
       "3                     B  \n",
       "4                     C  "
      ]
     },
     "execution_count": 49,
     "metadata": {},
     "output_type": "execute_result"
    }
   ],
   "source": [
    "# Добавление столбца 'total_income_category'\n",
    "borrowers['total_income_category'] = borrowers['total_income'].apply(income_category)\n",
    "# Проверим результат\n",
    "borrowers.head()"
   ]
  },
  {
   "cell_type": "markdown",
   "id": "d225b0b3",
   "metadata": {},
   "source": [
    "Мы присвоили всем заёмщикам категории дохода. Теперь данные таблицы `borrowers` можно группировать по данной категории."
   ]
  },
  {
   "cell_type": "markdown",
   "id": "33c0f027",
   "metadata": {},
   "source": [
    "### Категоризация целей кредита\n",
    "Проведём укрупнение категорий целей кредита путем задания групп категорий `'purpose_category'` в следующем составе: `'операции с автомобилем'`, `'операции с недвижимостью'`, `'проведение свадьбы'`, `'получение образования'`.\n",
    "\n",
    "Создадим функцию, которая на основании данных из столбца `'purpose'` сформирует новый столбец `'purpose_category'`:"
   ]
  },
  {
   "cell_type": "code",
   "execution_count": 50,
   "id": "02fc5312",
   "metadata": {},
   "outputs": [],
   "source": [
    "# Определение функции категоризации целей кредита purpose_category(purpose)\n",
    "#==========================================================================\n",
    "# На вход функции подаётся строковое значение цели кредита\n",
    "# Функция возвращает:\n",
    "#   - в случае наличия в строке одного из ключевых слов - одну из 4 категорий цели кредита\n",
    "#   - в случае отсутствия ключевых слов - значение 'undefined'\n",
    "# Поскольку на вход может поступать не строковое значение, обеспечим безопасность функции\n",
    "# с использованием конструкции try - except\n",
    "def purpose_category(purpose):\n",
    "    try:\n",
    "        if purpose.find('авто') != -1:\n",
    "            return 'операции с автомобилем'\n",
    "        elif purpose.find('недвиж') != -1:\n",
    "            return 'операции с недвижимостью'\n",
    "        elif purpose.find('свадьб') != -1:\n",
    "            return 'проведение свадьбы'\n",
    "        elif purpose.find('образован') != -1:\n",
    "            return 'получение образования'\n",
    "        else:\n",
    "            ret = 'undefined'\n",
    "    except:\n",
    "        ret = 'Ошибка! Не строка на входе!'\n",
    "    return ret"
   ]
  },
  {
   "cell_type": "markdown",
   "id": "84075747",
   "metadata": {},
   "source": [
    "Протестируем функцию `purpose_category()` на тестовом наборе данных:"
   ]
  },
  {
   "cell_type": "code",
   "execution_count": 51,
   "id": "03ad6230",
   "metadata": {},
   "outputs": [
    {
     "name": "stdout",
     "output_type": "stream",
     "text": [
      "Значению автомобиль соответствует выход: операции с автомобилем\n",
      "Значению высшее образование соответствует выход: получение образования\n",
      "Значению дополнительное образование соответствует выход: получение образования\n",
      "Значению жилая недвижимость соответствует выход: операции с недвижимостью\n",
      "Значению на покупку автомобиля соответствует выход: операции с автомобилем\n",
      "Значению на покупку подержанного автомобиля соответствует выход: операции с автомобилем\n",
      "Значению пусто соответствует выход: undefined\n",
      "Значению на покупку своего автомобиля соответствует выход: операции с автомобилем\n",
      "Значению на проведение свадьбы соответствует выход: проведение свадьбы\n",
      "Значению недвижимость соответствует выход: операции с недвижимостью\n",
      "Значению образование соответствует выход: получение образования\n",
      "Значению операции с жилой недвижимостью соответствует выход: операции с недвижимостью\n"
     ]
    }
   ],
   "source": [
    "# Тестирование функции purpose_category()\n",
    "# 1. Зададим тестовые данные\n",
    "test_data = ['автомобиль', 'высшее образование', 'дополнительное образование',\n",
    "            'жилая недвижимость', 'на покупку автомобиля',\n",
    "            'на покупку подержанного автомобиля', 'пусто',\n",
    "            'на покупку своего автомобиля', 'на проведение свадьбы',\n",
    "            'недвижимость', 'образование', 'операции с жилой недвижимостью']\n",
    "# 2. В цикле проверим работу функции\n",
    "for val in test_data:\n",
    "    print(f'Значению {val} соответствует выход: {purpose_category(val)}')"
   ]
  },
  {
   "cell_type": "markdown",
   "id": "d13bdaa2",
   "metadata": {},
   "source": [
    "Функция работает. Добавим в таблицу `borrowers` столбец `'purpose_category'`:"
   ]
  },
  {
   "cell_type": "code",
   "execution_count": 52,
   "id": "e61dbdbb",
   "metadata": {},
   "outputs": [
    {
     "data": {
      "text/plain": [
       "array(['операции с недвижимостью', 'операции с автомобилем',\n",
       "       'получение образования', 'проведение свадьбы'], dtype=object)"
      ]
     },
     "execution_count": 52,
     "metadata": {},
     "output_type": "execute_result"
    }
   ],
   "source": [
    "# Добавление столбца 'purpose_category'\n",
    "borrowers['purpose_category'] = borrowers['purpose'].apply(purpose_category)\n",
    "# Проверим результат\n",
    "borrowers['purpose_category'].unique()"
   ]
  },
  {
   "cell_type": "markdown",
   "id": "1af75b6f",
   "metadata": {},
   "source": [
    "Мы укрупнили категории цели кредита, причём учли все возможные значения в столбце `'purpose'`, не получив в `'purpose_category'` ни одного значения `undefined`. Теперь данные таблицы borrowers можно группировать по `'purpose_category'`.\n",
    "\n",
    "Перейдём к ответам на основные вопросы исследования."
   ]
  },
  {
   "cell_type": "markdown",
   "id": "f4915b2d",
   "metadata": {},
   "source": [
    "## Ответы на вопросы исследования (проверка гипотез)\n",
    "---\n",
    "В описании контекста исследования мы сформулировали 4 гипотезы, которые надо проверить:\n",
    "1. Количество детей влияет на возврат кредита в срок.\n",
    "2. Между семейным положением и возвратом кредита в срок существует зависимость.\n",
    "3. Уровень дохода влияет на возврат кредита в срок.\n",
    "4. Существует зависимость между целью кредита и его возвратом в срок.\n",
    "\n",
    "Напомним, что мы действуем в предположении, что ***значением `0` кодируется отсутствие, а значением `1` - наличие задолженности***."
   ]
  },
  {
   "cell_type": "markdown",
   "id": "7b59e665",
   "metadata": {},
   "source": [
    "### Оценка влияния количества детей на возврат кредита в срок\n",
    "\n",
    "Необходимо проверить гипотезу: *Количество детей влияет на возврат кредита в срок*.\n",
    "\n",
    "Для ответа на первый вопрос создадим сводную таблицу `borrowers_children_pivot` с индексами из столбца `'children'` таблицы `borrowers` и столбцами-категориями из значений индикаторов наличия задолженности `'debt'`. В качестве функции-аггрегатора используем подсчёт количества значений (count). В этом случае столбцом значений может быть любой отличный от `'children'` и `'debt'`, например - `'total_income'`:"
   ]
  },
  {
   "cell_type": "code",
   "execution_count": 53,
   "id": "ff3d7296",
   "metadata": {},
   "outputs": [
    {
     "data": {
      "text/html": [
       "<div>\n",
       "<style scoped>\n",
       "    .dataframe tbody tr th:only-of-type {\n",
       "        vertical-align: middle;\n",
       "    }\n",
       "\n",
       "    .dataframe tbody tr th {\n",
       "        vertical-align: top;\n",
       "    }\n",
       "\n",
       "    .dataframe thead th {\n",
       "        text-align: right;\n",
       "    }\n",
       "</style>\n",
       "<table border=\"1\" class=\"dataframe\">\n",
       "  <thead>\n",
       "    <tr style=\"text-align: right;\">\n",
       "      <th>debt</th>\n",
       "      <th>0</th>\n",
       "      <th>1</th>\n",
       "    </tr>\n",
       "    <tr>\n",
       "      <th>children</th>\n",
       "      <th></th>\n",
       "      <th></th>\n",
       "    </tr>\n",
       "  </thead>\n",
       "  <tbody>\n",
       "    <tr>\n",
       "      <th>0</th>\n",
       "      <td>13028.0</td>\n",
       "      <td>1063.0</td>\n",
       "    </tr>\n",
       "    <tr>\n",
       "      <th>1</th>\n",
       "      <td>4410.0</td>\n",
       "      <td>445.0</td>\n",
       "    </tr>\n",
       "    <tr>\n",
       "      <th>2</th>\n",
       "      <td>1926.0</td>\n",
       "      <td>202.0</td>\n",
       "    </tr>\n",
       "    <tr>\n",
       "      <th>3</th>\n",
       "      <td>303.0</td>\n",
       "      <td>27.0</td>\n",
       "    </tr>\n",
       "    <tr>\n",
       "      <th>4</th>\n",
       "      <td>37.0</td>\n",
       "      <td>4.0</td>\n",
       "    </tr>\n",
       "    <tr>\n",
       "      <th>5</th>\n",
       "      <td>9.0</td>\n",
       "      <td>NaN</td>\n",
       "    </tr>\n",
       "  </tbody>\n",
       "</table>\n",
       "</div>"
      ],
      "text/plain": [
       "debt            0       1\n",
       "children                 \n",
       "0         13028.0  1063.0\n",
       "1          4410.0   445.0\n",
       "2          1926.0   202.0\n",
       "3           303.0    27.0\n",
       "4            37.0     4.0\n",
       "5             9.0     NaN"
      ]
     },
     "execution_count": 53,
     "metadata": {},
     "output_type": "execute_result"
    }
   ],
   "source": [
    "# Построение сводной таблицы borrowers_children_pivot\n",
    "borrowers_children_pivot = borrowers.pivot_table(index='children', columns='debt',\n",
    "                                                 values='total_income', aggfunc='count')\n",
    "borrowers_children_pivot"
   ]
  },
  {
   "cell_type": "markdown",
   "id": "3dc1140e",
   "metadata": {},
   "source": [
    "В таблице `borrowers_children_pivot` присутствует пропуск на пересечении строки 5 и колонки 1. Вероятно, он появился из-за отсутствия задолженностей у заёмщиков с 5 детьми. Проверим эту гопотезу, сгруппировав таблицу `borrowers` по столбцу `'children'` и просуммировав сгруппированные индикаторы наличия задолженности `'debt'`:"
   ]
  },
  {
   "cell_type": "code",
   "execution_count": 54,
   "id": "5422f6a4",
   "metadata": {},
   "outputs": [
    {
     "data": {
      "text/plain": [
       "children\n",
       "0    1063\n",
       "1     445\n",
       "2     202\n",
       "3      27\n",
       "4       4\n",
       "5       0\n",
       "Name: debt, dtype: int64"
      ]
     },
     "execution_count": 54,
     "metadata": {},
     "output_type": "execute_result"
    }
   ],
   "source": [
    "# Определение количества просрочек в зависимости от уровня дохода\n",
    "borrowers.groupby('children')['debt'].sum()"
   ]
  },
  {
   "cell_type": "markdown",
   "id": "5ddcebd2",
   "metadata": {},
   "source": [
    "Действительно, количество просрочек у клиентов с 5 детьми равно 0. Устраним пропуск в сводной таблице.\n",
    "\n",
    "Кроме того, добавим к ней столбец `'total'`, содержащий общее количество клиентов, имеющих заданное количество детей. Результат отсортируем по убыванию значений в столбце `1` (наличие задолженности):"
   ]
  },
  {
   "cell_type": "code",
   "execution_count": 55,
   "id": "93b33e73",
   "metadata": {},
   "outputs": [
    {
     "data": {
      "text/html": [
       "<div>\n",
       "<style scoped>\n",
       "    .dataframe tbody tr th:only-of-type {\n",
       "        vertical-align: middle;\n",
       "    }\n",
       "\n",
       "    .dataframe tbody tr th {\n",
       "        vertical-align: top;\n",
       "    }\n",
       "\n",
       "    .dataframe thead th {\n",
       "        text-align: right;\n",
       "    }\n",
       "</style>\n",
       "<table border=\"1\" class=\"dataframe\">\n",
       "  <thead>\n",
       "    <tr style=\"text-align: right;\">\n",
       "      <th>debt</th>\n",
       "      <th>0</th>\n",
       "      <th>1</th>\n",
       "      <th>total</th>\n",
       "    </tr>\n",
       "    <tr>\n",
       "      <th>children</th>\n",
       "      <th></th>\n",
       "      <th></th>\n",
       "      <th></th>\n",
       "    </tr>\n",
       "  </thead>\n",
       "  <tbody>\n",
       "    <tr>\n",
       "      <th>0</th>\n",
       "      <td>13028.0</td>\n",
       "      <td>1063.0</td>\n",
       "      <td>14091.0</td>\n",
       "    </tr>\n",
       "    <tr>\n",
       "      <th>1</th>\n",
       "      <td>4410.0</td>\n",
       "      <td>445.0</td>\n",
       "      <td>4855.0</td>\n",
       "    </tr>\n",
       "    <tr>\n",
       "      <th>2</th>\n",
       "      <td>1926.0</td>\n",
       "      <td>202.0</td>\n",
       "      <td>2128.0</td>\n",
       "    </tr>\n",
       "    <tr>\n",
       "      <th>3</th>\n",
       "      <td>303.0</td>\n",
       "      <td>27.0</td>\n",
       "      <td>330.0</td>\n",
       "    </tr>\n",
       "    <tr>\n",
       "      <th>4</th>\n",
       "      <td>37.0</td>\n",
       "      <td>4.0</td>\n",
       "      <td>41.0</td>\n",
       "    </tr>\n",
       "    <tr>\n",
       "      <th>5</th>\n",
       "      <td>9.0</td>\n",
       "      <td>0.0</td>\n",
       "      <td>9.0</td>\n",
       "    </tr>\n",
       "  </tbody>\n",
       "</table>\n",
       "</div>"
      ],
      "text/plain": [
       "debt            0       1    total\n",
       "children                          \n",
       "0         13028.0  1063.0  14091.0\n",
       "1          4410.0   445.0   4855.0\n",
       "2          1926.0   202.0   2128.0\n",
       "3           303.0    27.0    330.0\n",
       "4            37.0     4.0     41.0\n",
       "5             9.0     0.0      9.0"
      ]
     },
     "execution_count": 55,
     "metadata": {},
     "output_type": "execute_result"
    }
   ],
   "source": [
    "# Заполнение пропуска в таблице borrowers_children_pivot\n",
    "borrowers_children_pivot = borrowers_children_pivot.fillna(0)\n",
    "# Добавление столбца 'total'\n",
    "borrowers_children_pivot['total'] = borrowers_children_pivot[1] + borrowers_children_pivot[0]\n",
    "# Сортировка таблицы \n",
    "borrowers_children_pivot.sort_values(1, ascending=False)"
   ]
  },
  {
   "cell_type": "markdown",
   "id": "0197fc5c",
   "metadata": {},
   "source": [
    "Данные сводной таблицы, с одной стороны, показывают, что чем больше у заёмщиков детей, тем меньше у них просрочек (выше платёжная дисциплина). В то же время, с ростом количества детей уменьшается и общее количество таких клиентов. Поэтому по абсолютному количеству задолженностей нельзя судить о платёжной дисциплине клиентов, имеющих детей.\n",
    "\n",
    "Добавим в таблицу столбец `'percent'`, отражающий процентное отношение количества клиентов, имеющих задолженность, к общему количеству клиентов, имеющих заданное количество детей. Результат отсортируем по убыванию значений в столбце `'percent'`:"
   ]
  },
  {
   "cell_type": "code",
   "execution_count": 56,
   "id": "3a7bf582",
   "metadata": {},
   "outputs": [
    {
     "data": {
      "text/html": [
       "<div>\n",
       "<style scoped>\n",
       "    .dataframe tbody tr th:only-of-type {\n",
       "        vertical-align: middle;\n",
       "    }\n",
       "\n",
       "    .dataframe tbody tr th {\n",
       "        vertical-align: top;\n",
       "    }\n",
       "\n",
       "    .dataframe thead th {\n",
       "        text-align: right;\n",
       "    }\n",
       "</style>\n",
       "<table border=\"1\" class=\"dataframe\">\n",
       "  <thead>\n",
       "    <tr style=\"text-align: right;\">\n",
       "      <th>debt</th>\n",
       "      <th>0</th>\n",
       "      <th>1</th>\n",
       "      <th>total</th>\n",
       "      <th>percent</th>\n",
       "    </tr>\n",
       "    <tr>\n",
       "      <th>children</th>\n",
       "      <th></th>\n",
       "      <th></th>\n",
       "      <th></th>\n",
       "      <th></th>\n",
       "    </tr>\n",
       "  </thead>\n",
       "  <tbody>\n",
       "    <tr>\n",
       "      <th>4</th>\n",
       "      <td>37.0</td>\n",
       "      <td>4.0</td>\n",
       "      <td>41.0</td>\n",
       "      <td>9.76</td>\n",
       "    </tr>\n",
       "    <tr>\n",
       "      <th>2</th>\n",
       "      <td>1926.0</td>\n",
       "      <td>202.0</td>\n",
       "      <td>2128.0</td>\n",
       "      <td>9.49</td>\n",
       "    </tr>\n",
       "    <tr>\n",
       "      <th>1</th>\n",
       "      <td>4410.0</td>\n",
       "      <td>445.0</td>\n",
       "      <td>4855.0</td>\n",
       "      <td>9.17</td>\n",
       "    </tr>\n",
       "    <tr>\n",
       "      <th>3</th>\n",
       "      <td>303.0</td>\n",
       "      <td>27.0</td>\n",
       "      <td>330.0</td>\n",
       "      <td>8.18</td>\n",
       "    </tr>\n",
       "    <tr>\n",
       "      <th>0</th>\n",
       "      <td>13028.0</td>\n",
       "      <td>1063.0</td>\n",
       "      <td>14091.0</td>\n",
       "      <td>7.54</td>\n",
       "    </tr>\n",
       "    <tr>\n",
       "      <th>5</th>\n",
       "      <td>9.0</td>\n",
       "      <td>0.0</td>\n",
       "      <td>9.0</td>\n",
       "      <td>0.00</td>\n",
       "    </tr>\n",
       "  </tbody>\n",
       "</table>\n",
       "</div>"
      ],
      "text/plain": [
       "debt            0       1    total  percent\n",
       "children                                   \n",
       "4            37.0     4.0     41.0     9.76\n",
       "2          1926.0   202.0   2128.0     9.49\n",
       "1          4410.0   445.0   4855.0     9.17\n",
       "3           303.0    27.0    330.0     8.18\n",
       "0         13028.0  1063.0  14091.0     7.54\n",
       "5             9.0     0.0      9.0     0.00"
      ]
     },
     "execution_count": 56,
     "metadata": {},
     "output_type": "execute_result"
    }
   ],
   "source": [
    "# Добавление столбца 'percent'\n",
    "borrowers_children_pivot['percent'] = round(borrowers_children_pivot[1] * 100 / \\\n",
    "                                      borrowers_children_pivot['total'], 2)\n",
    "# Сортировка таблицы \n",
    "borrowers_children_pivot.sort_values('percent', ascending=False)"
   ]
  },
  {
   "cell_type": "markdown",
   "id": "8d930707",
   "metadata": {},
   "source": [
    "Из полученной таблицы очевидно, что наибольшей платёжной дисциплиной обладают многодетные клиенты с 5-ю детьми, за ними следуют клиенты без детей. Средний результат - у многодетных с 3-мя детьми. Клиенты, имеющие 1, 2 или 4 детей имеют примерно одинаковую платёжную дисциплину.\n",
    "\n",
    "Следует отметить, что результат для клиентов с 5 детьми можно считать спорным ввиду их малочисленной выборки, представленной в данных. С учётом этого замечания можно сделать следующий вывод.\n",
    "\n",
    "**Вывод**\n",
    "\n",
    "Гипотеза подтвердилась частично. Если не учитывать непредставительную выборку клиентов с 5 детьми, то бездетные клиенты допускают меньше задолженностей, чем имеющие детей.\n",
    "\n",
    "Однозначный характер зависимости количества просрочек у клиентов с 1, 2, 3 и 4 детьми установить по имеющимся данным затруднительно. Наиболее дисциплинированными являются клиенты банка, у которых по 3 ребёнка. В остальном, с ростом количества детей незначительно увеличивается процент задолженностей."
   ]
  },
  {
   "cell_type": "markdown",
   "id": "b27a65c6",
   "metadata": {},
   "source": [
    "### Оценка взаимосвязи между семейным положением и возвратом кредита в срок\n",
    "\n",
    "Необходимо проверить гипотезу: *Между семейным положением и возвратом кредита в срок существует зависимость*.\n",
    "\n",
    "Для ответа на данный вопрос объединим таблицу `borrowers` со словарём `family_statuses` исоздадим сводную таблицу `borrowers_family_statuses_pivot` с индексами из столбца `'family_statuses'` и столбцами-категориями из значений индикаторов наличия задолженности `'debt'`. В качестве функции-аггрегатора используем подсчёт количества значений (count). В этом случае столбцом значений может быть любой отличный от `'family_statuses'` и `'debt'`, например - `'total_income'`. \n",
    "\n",
    "Кроме того, добавим к ней столбец `'total'`, содержащий общее количество клиентов, имеющих заданное семейное положение. Результат отсортируем по убыванию значений в столбце `1` (наличие задолженности):"
   ]
  },
  {
   "cell_type": "code",
   "execution_count": 57,
   "id": "d7987aa5",
   "metadata": {
    "scrolled": true
   },
   "outputs": [
    {
     "data": {
      "text/html": [
       "<div>\n",
       "<style scoped>\n",
       "    .dataframe tbody tr th:only-of-type {\n",
       "        vertical-align: middle;\n",
       "    }\n",
       "\n",
       "    .dataframe tbody tr th {\n",
       "        vertical-align: top;\n",
       "    }\n",
       "\n",
       "    .dataframe thead th {\n",
       "        text-align: right;\n",
       "    }\n",
       "</style>\n",
       "<table border=\"1\" class=\"dataframe\">\n",
       "  <thead>\n",
       "    <tr style=\"text-align: right;\">\n",
       "      <th>debt</th>\n",
       "      <th>0</th>\n",
       "      <th>1</th>\n",
       "      <th>total</th>\n",
       "    </tr>\n",
       "    <tr>\n",
       "      <th>family_status</th>\n",
       "      <th></th>\n",
       "      <th></th>\n",
       "      <th></th>\n",
       "    </tr>\n",
       "  </thead>\n",
       "  <tbody>\n",
       "    <tr>\n",
       "      <th>женат / замужем</th>\n",
       "      <td>11408</td>\n",
       "      <td>931</td>\n",
       "      <td>12339</td>\n",
       "    </tr>\n",
       "    <tr>\n",
       "      <th>гражданский брак</th>\n",
       "      <td>3763</td>\n",
       "      <td>388</td>\n",
       "      <td>4151</td>\n",
       "    </tr>\n",
       "    <tr>\n",
       "      <th>не женат / не замужем</th>\n",
       "      <td>2536</td>\n",
       "      <td>274</td>\n",
       "      <td>2810</td>\n",
       "    </tr>\n",
       "    <tr>\n",
       "      <th>в разводе</th>\n",
       "      <td>1110</td>\n",
       "      <td>85</td>\n",
       "      <td>1195</td>\n",
       "    </tr>\n",
       "    <tr>\n",
       "      <th>вдовец / вдова</th>\n",
       "      <td>896</td>\n",
       "      <td>63</td>\n",
       "      <td>959</td>\n",
       "    </tr>\n",
       "  </tbody>\n",
       "</table>\n",
       "</div>"
      ],
      "text/plain": [
       "debt                       0    1  total\n",
       "family_status                           \n",
       "женат / замужем        11408  931  12339\n",
       "гражданский брак        3763  388   4151\n",
       "не женат / не замужем   2536  274   2810\n",
       "в разводе               1110   85   1195\n",
       "вдовец / вдова           896   63    959"
      ]
     },
     "execution_count": 57,
     "metadata": {},
     "output_type": "execute_result"
    }
   ],
   "source": [
    "# Объединение таблиц borrowers и family_statuses\n",
    "borrowers_family_statuses = borrowers.merge(family_statuses, on='family_status_id', how='right')\n",
    "# Построение сводной таблицы borrowers_family_statuses_pivot\n",
    "borrowers_family_statuses_pivot = \\\n",
    "    borrowers_family_statuses.pivot_table(index='family_status', columns='debt',\n",
    "                                          values='total_income', aggfunc='count')\n",
    "# Добавление столбца 'total'\n",
    "borrowers_family_statuses_pivot['total'] = borrowers_family_statuses_pivot[1] + \\\n",
    "                                           borrowers_family_statuses_pivot[0]\n",
    "# Сортировка таблицы \n",
    "borrowers_family_statuses_pivot.sort_values(1, ascending=False)"
   ]
  },
  {
   "cell_type": "markdown",
   "id": "59299870",
   "metadata": {},
   "source": [
    "Как и в предыдущем случае, наблюдается одновременное убывание как количества задолженностей, так и общего количества клиентов по каждой категории семейного положения. Поэтому добавим в таблицу столбец `'percent'`, отражающий процентное отношение количества клиентов, имеющих задолженность, к общему количеству клиентов, имеющих заданную категорию семейного положения. Результат отсортируем по убыванию значений в столбце `'percent'`:"
   ]
  },
  {
   "cell_type": "code",
   "execution_count": 58,
   "id": "739bdbd6",
   "metadata": {},
   "outputs": [
    {
     "data": {
      "text/html": [
       "<div>\n",
       "<style scoped>\n",
       "    .dataframe tbody tr th:only-of-type {\n",
       "        vertical-align: middle;\n",
       "    }\n",
       "\n",
       "    .dataframe tbody tr th {\n",
       "        vertical-align: top;\n",
       "    }\n",
       "\n",
       "    .dataframe thead th {\n",
       "        text-align: right;\n",
       "    }\n",
       "</style>\n",
       "<table border=\"1\" class=\"dataframe\">\n",
       "  <thead>\n",
       "    <tr style=\"text-align: right;\">\n",
       "      <th>debt</th>\n",
       "      <th>0</th>\n",
       "      <th>1</th>\n",
       "      <th>total</th>\n",
       "      <th>percent</th>\n",
       "    </tr>\n",
       "    <tr>\n",
       "      <th>family_status</th>\n",
       "      <th></th>\n",
       "      <th></th>\n",
       "      <th></th>\n",
       "      <th></th>\n",
       "    </tr>\n",
       "  </thead>\n",
       "  <tbody>\n",
       "    <tr>\n",
       "      <th>не женат / не замужем</th>\n",
       "      <td>2536</td>\n",
       "      <td>274</td>\n",
       "      <td>2810</td>\n",
       "      <td>9.75</td>\n",
       "    </tr>\n",
       "    <tr>\n",
       "      <th>гражданский брак</th>\n",
       "      <td>3763</td>\n",
       "      <td>388</td>\n",
       "      <td>4151</td>\n",
       "      <td>9.35</td>\n",
       "    </tr>\n",
       "    <tr>\n",
       "      <th>женат / замужем</th>\n",
       "      <td>11408</td>\n",
       "      <td>931</td>\n",
       "      <td>12339</td>\n",
       "      <td>7.55</td>\n",
       "    </tr>\n",
       "    <tr>\n",
       "      <th>в разводе</th>\n",
       "      <td>1110</td>\n",
       "      <td>85</td>\n",
       "      <td>1195</td>\n",
       "      <td>7.11</td>\n",
       "    </tr>\n",
       "    <tr>\n",
       "      <th>вдовец / вдова</th>\n",
       "      <td>896</td>\n",
       "      <td>63</td>\n",
       "      <td>959</td>\n",
       "      <td>6.57</td>\n",
       "    </tr>\n",
       "  </tbody>\n",
       "</table>\n",
       "</div>"
      ],
      "text/plain": [
       "debt                       0    1  total  percent\n",
       "family_status                                    \n",
       "не женат / не замужем   2536  274   2810     9.75\n",
       "гражданский брак        3763  388   4151     9.35\n",
       "женат / замужем        11408  931  12339     7.55\n",
       "в разводе               1110   85   1195     7.11\n",
       "вдовец / вдова           896   63    959     6.57"
      ]
     },
     "execution_count": 58,
     "metadata": {},
     "output_type": "execute_result"
    }
   ],
   "source": [
    "# Добавление столбца 'percent'\n",
    "borrowers_family_statuses_pivot['percent'] = round(borrowers_family_statuses_pivot[1] * 100 / \\\n",
    "                                             borrowers_family_statuses_pivot['total'], 2)\n",
    "# Сортировка таблицы \n",
    "borrowers_family_statuses_pivot.sort_values('percent', ascending=False)"
   ]
  },
  {
   "cell_type": "markdown",
   "id": "441b368c",
   "metadata": {},
   "source": [
    "Из данной таблицы следует, что меньше всего просрочек допускают овдовевшие клиенты, больше всего - холостые или живущие гражданским браком. Разведенные и семейные клиенты имеют среднюю платёжную дисциплину.\n",
    "\n",
    "**Вывод**\n",
    "\n",
    "Гипотеза о том, что между семейным положением и возвратом кредита в срок существует зависимость, полностью подтвердилась."
   ]
  },
  {
   "cell_type": "markdown",
   "id": "f364bbdb",
   "metadata": {},
   "source": [
    "### Оценка влияния уровня дохода на возврат кредита в срок\n",
    "\n",
    "Необходимо проверить гипотезу: *Уровень дохода влияет на возврат кредита в срок*.\n",
    "\n",
    "Ранее мы ввели категоризацию клиентов по уровню дохода:\n",
    "- `A` - 1000001 и выше;\n",
    "- `B` - 200001–1000000;\n",
    "- `C` - 50001–200000;\n",
    "- `D` - 30001–50000;\n",
    "- `E` - 0–30000.\n",
    "\n",
    "Для ответа на данный вопрос создадим сводную таблицу `borrowers_total_income_pivot` с индексами из столбца `'total_income_category'` таблицы `borrowers` (анализировать по значениям дохода невозможно в силу их большого количества, сравнимого с общим числом строк в таблице `borrowers`) и столбцами-категориями из значений индикаторов наличия задолженности `'debt'`. В качестве функции-аггрегатора используем подсчёт количества значений (count). В этом случае столбцом значений может быть любой отличный от `'total_income_category'` и `'debt'`, например - `'total_income'`.\n",
    "\n",
    "Кроме того, добавим к ней столбец `'total'`, содержащий общее количество клиентов, имеющих заданную категорию дохода. Результат отсортируем по убыванию значений в столбце `1` (наличие задолженности):"
   ]
  },
  {
   "cell_type": "code",
   "execution_count": 59,
   "id": "6d0070eb",
   "metadata": {},
   "outputs": [
    {
     "data": {
      "text/html": [
       "<div>\n",
       "<style scoped>\n",
       "    .dataframe tbody tr th:only-of-type {\n",
       "        vertical-align: middle;\n",
       "    }\n",
       "\n",
       "    .dataframe tbody tr th {\n",
       "        vertical-align: top;\n",
       "    }\n",
       "\n",
       "    .dataframe thead th {\n",
       "        text-align: right;\n",
       "    }\n",
       "</style>\n",
       "<table border=\"1\" class=\"dataframe\">\n",
       "  <thead>\n",
       "    <tr style=\"text-align: right;\">\n",
       "      <th>debt</th>\n",
       "      <th>0</th>\n",
       "      <th>1</th>\n",
       "      <th>total</th>\n",
       "    </tr>\n",
       "    <tr>\n",
       "      <th>total_income_category</th>\n",
       "      <th></th>\n",
       "      <th></th>\n",
       "      <th></th>\n",
       "    </tr>\n",
       "  </thead>\n",
       "  <tbody>\n",
       "    <tr>\n",
       "      <th>C</th>\n",
       "      <td>14655</td>\n",
       "      <td>1360</td>\n",
       "      <td>16015</td>\n",
       "    </tr>\n",
       "    <tr>\n",
       "      <th>B</th>\n",
       "      <td>4686</td>\n",
       "      <td>356</td>\n",
       "      <td>5042</td>\n",
       "    </tr>\n",
       "    <tr>\n",
       "      <th>D</th>\n",
       "      <td>329</td>\n",
       "      <td>21</td>\n",
       "      <td>350</td>\n",
       "    </tr>\n",
       "    <tr>\n",
       "      <th>A</th>\n",
       "      <td>23</td>\n",
       "      <td>2</td>\n",
       "      <td>25</td>\n",
       "    </tr>\n",
       "    <tr>\n",
       "      <th>E</th>\n",
       "      <td>20</td>\n",
       "      <td>2</td>\n",
       "      <td>22</td>\n",
       "    </tr>\n",
       "  </tbody>\n",
       "</table>\n",
       "</div>"
      ],
      "text/plain": [
       "debt                       0     1  total\n",
       "total_income_category                    \n",
       "C                      14655  1360  16015\n",
       "B                       4686   356   5042\n",
       "D                        329    21    350\n",
       "A                         23     2     25\n",
       "E                         20     2     22"
      ]
     },
     "execution_count": 59,
     "metadata": {},
     "output_type": "execute_result"
    }
   ],
   "source": [
    "# Определение количества просрочек в зависимости от уровня дохода\n",
    "borrowers_total_income_pivot = \\\n",
    "    borrowers.pivot_table(index='total_income_category', columns='debt',\n",
    "                                          values='total_income', aggfunc='count')\n",
    "# Добавление столбца 'total'\n",
    "borrowers_total_income_pivot['total'] = borrowers_total_income_pivot[1] + \\\n",
    "                                        borrowers_total_income_pivot[0]\n",
    "# Сортировка таблицы \n",
    "borrowers_total_income_pivot.sort_values(1, ascending=False)"
   ]
  },
  {
   "cell_type": "markdown",
   "id": "8a822d15",
   "metadata": {},
   "source": [
    "Как и раньше, наблюдается одновременное убывание как количества задолженностей, так и общего количества клиентов по каждой категории дохода. Поэтому добавим в таблицу столбец `'percent'`, отражающий процентное отношение количества клиентов, имеющих задолженность, к общему количеству клиентов, имеющих заданную категорию дохода. Результат отсортируем по убыванию значений в столбце `'percent'`:"
   ]
  },
  {
   "cell_type": "code",
   "execution_count": 60,
   "id": "bb1581bf",
   "metadata": {},
   "outputs": [
    {
     "data": {
      "text/html": [
       "<div>\n",
       "<style scoped>\n",
       "    .dataframe tbody tr th:only-of-type {\n",
       "        vertical-align: middle;\n",
       "    }\n",
       "\n",
       "    .dataframe tbody tr th {\n",
       "        vertical-align: top;\n",
       "    }\n",
       "\n",
       "    .dataframe thead th {\n",
       "        text-align: right;\n",
       "    }\n",
       "</style>\n",
       "<table border=\"1\" class=\"dataframe\">\n",
       "  <thead>\n",
       "    <tr style=\"text-align: right;\">\n",
       "      <th>debt</th>\n",
       "      <th>0</th>\n",
       "      <th>1</th>\n",
       "      <th>total</th>\n",
       "      <th>percent</th>\n",
       "    </tr>\n",
       "    <tr>\n",
       "      <th>total_income_category</th>\n",
       "      <th></th>\n",
       "      <th></th>\n",
       "      <th></th>\n",
       "      <th></th>\n",
       "    </tr>\n",
       "  </thead>\n",
       "  <tbody>\n",
       "    <tr>\n",
       "      <th>E</th>\n",
       "      <td>20</td>\n",
       "      <td>2</td>\n",
       "      <td>22</td>\n",
       "      <td>9.09</td>\n",
       "    </tr>\n",
       "    <tr>\n",
       "      <th>C</th>\n",
       "      <td>14655</td>\n",
       "      <td>1360</td>\n",
       "      <td>16015</td>\n",
       "      <td>8.49</td>\n",
       "    </tr>\n",
       "    <tr>\n",
       "      <th>A</th>\n",
       "      <td>23</td>\n",
       "      <td>2</td>\n",
       "      <td>25</td>\n",
       "      <td>8.00</td>\n",
       "    </tr>\n",
       "    <tr>\n",
       "      <th>B</th>\n",
       "      <td>4686</td>\n",
       "      <td>356</td>\n",
       "      <td>5042</td>\n",
       "      <td>7.06</td>\n",
       "    </tr>\n",
       "    <tr>\n",
       "      <th>D</th>\n",
       "      <td>329</td>\n",
       "      <td>21</td>\n",
       "      <td>350</td>\n",
       "      <td>6.00</td>\n",
       "    </tr>\n",
       "  </tbody>\n",
       "</table>\n",
       "</div>"
      ],
      "text/plain": [
       "debt                       0     1  total  percent\n",
       "total_income_category                             \n",
       "E                         20     2     22     9.09\n",
       "C                      14655  1360  16015     8.49\n",
       "A                         23     2     25     8.00\n",
       "B                       4686   356   5042     7.06\n",
       "D                        329    21    350     6.00"
      ]
     },
     "execution_count": 60,
     "metadata": {},
     "output_type": "execute_result"
    }
   ],
   "source": [
    "# Добавление столбца 'percent'\n",
    "borrowers_total_income_pivot['percent'] = round(borrowers_total_income_pivot[1] * 100 / \\\n",
    "                                          borrowers_total_income_pivot['total'], 2)\n",
    "# Сортировка таблицы \n",
    "borrowers_total_income_pivot.sort_values('percent', ascending=False)"
   ]
  },
  {
   "cell_type": "markdown",
   "id": "222e4a2a",
   "metadata": {},
   "source": [
    "Из полученной сводной таблицы следует, что меньше всего просрочек допускают клиенты с доходом от 30 до 50 тысяч, больше всего - клиенты с минимальными доходами (до 30 тысяч). Наиболее богатые клиенты (доход свыше миллиона) а также так называемый \"средний класс\" с доходом от 50 до 200 тысяч находятся в нижней части рейтинга платёжной дисциплины и уступают по этому параметру клиентам с доходом \"выше среднего\" (от 200 тысяч до миллиона).\n",
    "\n",
    "**Вывод**\n",
    "\n",
    "Гипотеза о том, что уровень дохода влияет на возврат кредита в срок, полностью подтвердилась. При этом худший результат оказался ожидаемым - наиболее бедные клиенты чаще допускают просрочки. А вот категория наиболее богатых заёмщиков показала себя не самыми дисциплинированными плательщиками."
   ]
  },
  {
   "cell_type": "markdown",
   "id": "e13a61af",
   "metadata": {},
   "source": [
    "### Оценка взаимосвязи между целью кредита и его возвратом в срок\n",
    "\n",
    "Необходимо проверить гипотезу: *Существует зависимость между целью кредита и его возвратом в срок*.\n",
    "\n",
    "Для ответа на данный вопрос создадим сводную таблицу `borrowers_purpose_pivot` с индексами из столбцов `'purpose_category'` и `'purpose'` таблицы `borrowers` и столбцами-категориями из значений индикаторов наличия задолженности `'debt'`. В качестве функции-аггрегатора используем подсчёт количества значений (count). В этом случае столбцом значений может быть любой отличный от `'purpose_category'`, `'purpose'` и `'debt'`, например - `'total_income'`.\n",
    "\n",
    "Кроме того, добавим к ней столбец `'total'`, содержащий общее количество клиентов, взявших кредит для конкретной цели. Результат отсортируем по убыванию значений в столбце `1` (наличие задолженности):"
   ]
  },
  {
   "cell_type": "code",
   "execution_count": 61,
   "id": "96ef83ae",
   "metadata": {},
   "outputs": [
    {
     "data": {
      "text/html": [
       "<div>\n",
       "<style scoped>\n",
       "    .dataframe tbody tr th:only-of-type {\n",
       "        vertical-align: middle;\n",
       "    }\n",
       "\n",
       "    .dataframe tbody tr th {\n",
       "        vertical-align: top;\n",
       "    }\n",
       "\n",
       "    .dataframe thead th {\n",
       "        text-align: right;\n",
       "    }\n",
       "</style>\n",
       "<table border=\"1\" class=\"dataframe\">\n",
       "  <thead>\n",
       "    <tr style=\"text-align: right;\">\n",
       "      <th></th>\n",
       "      <th>debt</th>\n",
       "      <th>0</th>\n",
       "      <th>1</th>\n",
       "      <th>total</th>\n",
       "    </tr>\n",
       "    <tr>\n",
       "      <th>purpose_category</th>\n",
       "      <th>purpose</th>\n",
       "      <th></th>\n",
       "      <th></th>\n",
       "      <th></th>\n",
       "    </tr>\n",
       "  </thead>\n",
       "  <tbody>\n",
       "    <tr>\n",
       "      <th rowspan=\"2\" valign=\"top\">получение образования</th>\n",
       "      <th>высшее образование</th>\n",
       "      <td>1245</td>\n",
       "      <td>129</td>\n",
       "      <td>1374</td>\n",
       "    </tr>\n",
       "    <tr>\n",
       "      <th>образование</th>\n",
       "      <td>1189</td>\n",
       "      <td>108</td>\n",
       "      <td>1297</td>\n",
       "    </tr>\n",
       "    <tr>\n",
       "      <th>операции с недвижимостью</th>\n",
       "      <th>покупка жилой недвижимости</th>\n",
       "      <td>1163</td>\n",
       "      <td>89</td>\n",
       "      <td>1252</td>\n",
       "    </tr>\n",
       "    <tr>\n",
       "      <th>получение образования</th>\n",
       "      <th>дополнительное образование</th>\n",
       "      <td>817</td>\n",
       "      <td>89</td>\n",
       "      <td>906</td>\n",
       "    </tr>\n",
       "    <tr>\n",
       "      <th>операции с автомобилем</th>\n",
       "      <th>автомобиль</th>\n",
       "      <td>886</td>\n",
       "      <td>86</td>\n",
       "      <td>972</td>\n",
       "    </tr>\n",
       "    <tr>\n",
       "      <th rowspan=\"3\" valign=\"top\">проведение свадьбы</th>\n",
       "      <th>свадьба</th>\n",
       "      <td>727</td>\n",
       "      <td>64</td>\n",
       "      <td>791</td>\n",
       "    </tr>\n",
       "    <tr>\n",
       "      <th>на проведение свадьбы</th>\n",
       "      <td>704</td>\n",
       "      <td>64</td>\n",
       "      <td>768</td>\n",
       "    </tr>\n",
       "    <tr>\n",
       "      <th>сыграть свадьбу</th>\n",
       "      <td>707</td>\n",
       "      <td>58</td>\n",
       "      <td>765</td>\n",
       "    </tr>\n",
       "    <tr>\n",
       "      <th rowspan=\"4\" valign=\"top\">операции с недвижимостью</th>\n",
       "      <th>операции с недвижимостью</th>\n",
       "      <td>620</td>\n",
       "      <td>55</td>\n",
       "      <td>675</td>\n",
       "    </tr>\n",
       "    <tr>\n",
       "      <th>строительство недвижимости</th>\n",
       "      <td>565</td>\n",
       "      <td>54</td>\n",
       "      <td>619</td>\n",
       "    </tr>\n",
       "    <tr>\n",
       "      <th>покупка жилой недвижимости для сдачи</th>\n",
       "      <td>599</td>\n",
       "      <td>52</td>\n",
       "      <td>651</td>\n",
       "    </tr>\n",
       "    <tr>\n",
       "      <th>операции с коммерческой недвижимостью</th>\n",
       "      <td>598</td>\n",
       "      <td>52</td>\n",
       "      <td>650</td>\n",
       "    </tr>\n",
       "    <tr>\n",
       "      <th>операции с автомобилем</th>\n",
       "      <th>сделка с подержанным автомобилем</th>\n",
       "      <td>435</td>\n",
       "      <td>51</td>\n",
       "      <td>486</td>\n",
       "    </tr>\n",
       "    <tr>\n",
       "      <th>операции с недвижимостью</th>\n",
       "      <th>операции со своей недвижимостью</th>\n",
       "      <td>577</td>\n",
       "      <td>50</td>\n",
       "      <td>627</td>\n",
       "    </tr>\n",
       "    <tr>\n",
       "      <th>операции с автомобилем</th>\n",
       "      <th>сделка с автомобилем</th>\n",
       "      <td>405</td>\n",
       "      <td>50</td>\n",
       "      <td>455</td>\n",
       "    </tr>\n",
       "    <tr>\n",
       "      <th rowspan=\"2\" valign=\"top\">операции с недвижимостью</th>\n",
       "      <th>строительство жилой недвижимости</th>\n",
       "      <td>576</td>\n",
       "      <td>48</td>\n",
       "      <td>624</td>\n",
       "    </tr>\n",
       "    <tr>\n",
       "      <th>операции с жилой недвижимостью</th>\n",
       "      <td>604</td>\n",
       "      <td>48</td>\n",
       "      <td>652</td>\n",
       "    </tr>\n",
       "    <tr>\n",
       "      <th>операции с автомобилем</th>\n",
       "      <th>свой автомобиль</th>\n",
       "      <td>430</td>\n",
       "      <td>48</td>\n",
       "      <td>478</td>\n",
       "    </tr>\n",
       "    <tr>\n",
       "      <th>операции с недвижимостью</th>\n",
       "      <th>покупка коммерческой недвижимости</th>\n",
       "      <td>614</td>\n",
       "      <td>47</td>\n",
       "      <td>661</td>\n",
       "    </tr>\n",
       "    <tr>\n",
       "      <th>операции с автомобилем</th>\n",
       "      <th>на покупку своего автомобиля</th>\n",
       "      <td>459</td>\n",
       "      <td>46</td>\n",
       "      <td>505</td>\n",
       "    </tr>\n",
       "    <tr>\n",
       "      <th rowspan=\"2\" valign=\"top\">операции с недвижимостью</th>\n",
       "      <th>жилая недвижимость</th>\n",
       "      <td>600</td>\n",
       "      <td>46</td>\n",
       "      <td>646</td>\n",
       "    </tr>\n",
       "    <tr>\n",
       "      <th>покупка жилой недвижимости для семьи</th>\n",
       "      <td>593</td>\n",
       "      <td>45</td>\n",
       "      <td>638</td>\n",
       "    </tr>\n",
       "    <tr>\n",
       "      <th>получение образования</th>\n",
       "      <th>профильное образование</th>\n",
       "      <td>392</td>\n",
       "      <td>44</td>\n",
       "      <td>436</td>\n",
       "    </tr>\n",
       "    <tr>\n",
       "      <th>операции с автомобилем</th>\n",
       "      <th>на покупку автомобиля</th>\n",
       "      <td>427</td>\n",
       "      <td>44</td>\n",
       "      <td>471</td>\n",
       "    </tr>\n",
       "    <tr>\n",
       "      <th rowspan=\"3\" valign=\"top\">операции с недвижимостью</th>\n",
       "      <th>покупка недвижимости</th>\n",
       "      <td>578</td>\n",
       "      <td>43</td>\n",
       "      <td>621</td>\n",
       "    </tr>\n",
       "    <tr>\n",
       "      <th>недвижимость</th>\n",
       "      <td>591</td>\n",
       "      <td>42</td>\n",
       "      <td>633</td>\n",
       "    </tr>\n",
       "    <tr>\n",
       "      <th>строительство собственной недвижимости</th>\n",
       "      <td>593</td>\n",
       "      <td>42</td>\n",
       "      <td>635</td>\n",
       "    </tr>\n",
       "    <tr>\n",
       "      <th rowspan=\"2\" valign=\"top\">операции с автомобилем</th>\n",
       "      <th>приобретение автомобиля</th>\n",
       "      <td>419</td>\n",
       "      <td>42</td>\n",
       "      <td>461</td>\n",
       "    </tr>\n",
       "    <tr>\n",
       "      <th>на покупку подержанного автомобиля</th>\n",
       "      <td>442</td>\n",
       "      <td>36</td>\n",
       "      <td>478</td>\n",
       "    </tr>\n",
       "    <tr>\n",
       "      <th rowspan=\"2\" valign=\"top\">операции с недвижимостью</th>\n",
       "      <th>ремонт жилой недвижимости</th>\n",
       "      <td>572</td>\n",
       "      <td>35</td>\n",
       "      <td>607</td>\n",
       "    </tr>\n",
       "    <tr>\n",
       "      <th>покупка своей жилой недвижимости</th>\n",
       "      <td>586</td>\n",
       "      <td>34</td>\n",
       "      <td>620</td>\n",
       "    </tr>\n",
       "  </tbody>\n",
       "</table>\n",
       "</div>"
      ],
      "text/plain": [
       "debt                                                                0    1  \\\n",
       "purpose_category         purpose                                             \n",
       "получение образования    высшее образование                      1245  129   \n",
       "                         образование                             1189  108   \n",
       "операции с недвижимостью покупка жилой недвижимости              1163   89   \n",
       "получение образования    дополнительное образование               817   89   \n",
       "операции с автомобилем   автомобиль                               886   86   \n",
       "проведение свадьбы       свадьба                                  727   64   \n",
       "                         на проведение свадьбы                    704   64   \n",
       "                         сыграть свадьбу                          707   58   \n",
       "операции с недвижимостью операции с недвижимостью                 620   55   \n",
       "                         строительство недвижимости               565   54   \n",
       "                         покупка жилой недвижимости для сдачи     599   52   \n",
       "                         операции с коммерческой недвижимостью    598   52   \n",
       "операции с автомобилем   сделка с подержанным автомобилем         435   51   \n",
       "операции с недвижимостью операции со своей недвижимостью          577   50   \n",
       "операции с автомобилем   сделка с автомобилем                     405   50   \n",
       "операции с недвижимостью строительство жилой недвижимости         576   48   \n",
       "                         операции с жилой недвижимостью           604   48   \n",
       "операции с автомобилем   свой автомобиль                          430   48   \n",
       "операции с недвижимостью покупка коммерческой недвижимости        614   47   \n",
       "операции с автомобилем   на покупку своего автомобиля             459   46   \n",
       "операции с недвижимостью жилая недвижимость                       600   46   \n",
       "                         покупка жилой недвижимости для семьи     593   45   \n",
       "получение образования    профильное образование                   392   44   \n",
       "операции с автомобилем   на покупку автомобиля                    427   44   \n",
       "операции с недвижимостью покупка недвижимости                     578   43   \n",
       "                         недвижимость                             591   42   \n",
       "                         строительство собственной недвижимости   593   42   \n",
       "операции с автомобилем   приобретение автомобиля                  419   42   \n",
       "                         на покупку подержанного автомобиля       442   36   \n",
       "операции с недвижимостью ремонт жилой недвижимости                572   35   \n",
       "                         покупка своей жилой недвижимости         586   34   \n",
       "\n",
       "debt                                                             total  \n",
       "purpose_category         purpose                                        \n",
       "получение образования    высшее образование                       1374  \n",
       "                         образование                              1297  \n",
       "операции с недвижимостью покупка жилой недвижимости               1252  \n",
       "получение образования    дополнительное образование                906  \n",
       "операции с автомобилем   автомобиль                                972  \n",
       "проведение свадьбы       свадьба                                   791  \n",
       "                         на проведение свадьбы                     768  \n",
       "                         сыграть свадьбу                           765  \n",
       "операции с недвижимостью операции с недвижимостью                  675  \n",
       "                         строительство недвижимости                619  \n",
       "                         покупка жилой недвижимости для сдачи      651  \n",
       "                         операции с коммерческой недвижимостью     650  \n",
       "операции с автомобилем   сделка с подержанным автомобилем          486  \n",
       "операции с недвижимостью операции со своей недвижимостью           627  \n",
       "операции с автомобилем   сделка с автомобилем                      455  \n",
       "операции с недвижимостью строительство жилой недвижимости          624  \n",
       "                         операции с жилой недвижимостью            652  \n",
       "операции с автомобилем   свой автомобиль                           478  \n",
       "операции с недвижимостью покупка коммерческой недвижимости         661  \n",
       "операции с автомобилем   на покупку своего автомобиля              505  \n",
       "операции с недвижимостью жилая недвижимость                        646  \n",
       "                         покупка жилой недвижимости для семьи      638  \n",
       "получение образования    профильное образование                    436  \n",
       "операции с автомобилем   на покупку автомобиля                     471  \n",
       "операции с недвижимостью покупка недвижимости                      621  \n",
       "                         недвижимость                              633  \n",
       "                         строительство собственной недвижимости    635  \n",
       "операции с автомобилем   приобретение автомобиля                   461  \n",
       "                         на покупку подержанного автомобиля        478  \n",
       "операции с недвижимостью ремонт жилой недвижимости                 607  \n",
       "                         покупка своей жилой недвижимости          620  "
      ]
     },
     "execution_count": 61,
     "metadata": {},
     "output_type": "execute_result"
    }
   ],
   "source": [
    "# Определение количества просрочек в зависимости от уровня дохода\n",
    "borrowers_purpose_pivot = \\\n",
    "    borrowers.pivot_table(index=['purpose_category', 'purpose'], columns='debt',\n",
    "                          values='total_income', aggfunc='count')\n",
    "# Добавление столбца 'total'\n",
    "borrowers_purpose_pivot['total'] = borrowers_purpose_pivot[1] + borrowers_purpose_pivot[0]\n",
    "# Сортировка таблицы \n",
    "borrowers_purpose_pivot.sort_values(1, ascending=False)"
   ]
  },
  {
   "cell_type": "markdown",
   "id": "f5f12505",
   "metadata": {},
   "source": [
    "Анализ полученной таблицы затруднён ввиду большого количества категорий цели кредита (`'purpose'`), оставленных нами на этапе удаления неявных дубликатов. Он станет возможным только после проработки со специалистами клиентского отдела стандартизованного списка допустимых значений данной категории и внесения операторами исправлений в таблицу заёмщиков.\n",
    "\n",
    "Тем не менее, количество категорий `'purpose_category'` невелико. Поэтому в рамках данного исследования возможно построение оценки верхнего уровня.\n",
    "\n",
    "Изменим сводную таблицу `borrowers_purpose_pivot`: индексы возьмём из столбца `'purpose_category'` таблицы `borrowers`, столбцы - из значений индикаторов наличия задолженности `'debt'`. Остальные настройки таблицы оставим прежними.\n",
    "\n",
    "Кроме того, добавим к ней столбец `'total'`, содержащий общее количество клиентов, взявших кредит для конкретной цели. Результат отсортируем по убыванию значений в столбце `1` (наличие задолженности):"
   ]
  },
  {
   "cell_type": "code",
   "execution_count": 62,
   "id": "3906fdce",
   "metadata": {},
   "outputs": [
    {
     "data": {
      "text/html": [
       "<div>\n",
       "<style scoped>\n",
       "    .dataframe tbody tr th:only-of-type {\n",
       "        vertical-align: middle;\n",
       "    }\n",
       "\n",
       "    .dataframe tbody tr th {\n",
       "        vertical-align: top;\n",
       "    }\n",
       "\n",
       "    .dataframe thead th {\n",
       "        text-align: right;\n",
       "    }\n",
       "</style>\n",
       "<table border=\"1\" class=\"dataframe\">\n",
       "  <thead>\n",
       "    <tr style=\"text-align: right;\">\n",
       "      <th>debt</th>\n",
       "      <th>0</th>\n",
       "      <th>1</th>\n",
       "      <th>total</th>\n",
       "    </tr>\n",
       "    <tr>\n",
       "      <th>purpose_category</th>\n",
       "      <th></th>\n",
       "      <th></th>\n",
       "      <th></th>\n",
       "    </tr>\n",
       "  </thead>\n",
       "  <tbody>\n",
       "    <tr>\n",
       "      <th>операции с недвижимостью</th>\n",
       "      <td>10029</td>\n",
       "      <td>782</td>\n",
       "      <td>10811</td>\n",
       "    </tr>\n",
       "    <tr>\n",
       "      <th>операции с автомобилем</th>\n",
       "      <td>3903</td>\n",
       "      <td>403</td>\n",
       "      <td>4306</td>\n",
       "    </tr>\n",
       "    <tr>\n",
       "      <th>получение образования</th>\n",
       "      <td>3643</td>\n",
       "      <td>370</td>\n",
       "      <td>4013</td>\n",
       "    </tr>\n",
       "    <tr>\n",
       "      <th>проведение свадьбы</th>\n",
       "      <td>2138</td>\n",
       "      <td>186</td>\n",
       "      <td>2324</td>\n",
       "    </tr>\n",
       "  </tbody>\n",
       "</table>\n",
       "</div>"
      ],
      "text/plain": [
       "debt                          0    1  total\n",
       "purpose_category                           \n",
       "операции с недвижимостью  10029  782  10811\n",
       "операции с автомобилем     3903  403   4306\n",
       "получение образования      3643  370   4013\n",
       "проведение свадьбы         2138  186   2324"
      ]
     },
     "execution_count": 62,
     "metadata": {},
     "output_type": "execute_result"
    }
   ],
   "source": [
    "# Определение количества просрочек в зависимости от уровня дохода\n",
    "borrowers_purpose_pivot = \\\n",
    "    borrowers.pivot_table(index='purpose_category', columns='debt',\n",
    "                          values='total_income', aggfunc='count')\n",
    "# Добавление столбца 'total'\n",
    "borrowers_purpose_pivot['total'] = borrowers_purpose_pivot[1] + borrowers_purpose_pivot[0]\n",
    "# Сортировка таблицы \n",
    "borrowers_purpose_pivot.sort_values(1, ascending=False)"
   ]
  },
  {
   "cell_type": "markdown",
   "id": "e9f6f7ad",
   "metadata": {},
   "source": [
    "В полученной таблице наблюдается ситуация, похожая на рассмотренные выше случаи. Однако разброс значений по разным категориям не столь велик, что затрудняет анализ.\n",
    "\n",
    "Добавим в таблицу столбец `'percent'`, отражающий процентное отношение количества клиентов, имеющих задолженность, к общему количеству клиентов, относящихся к заданной категории цели кредита. Результат отсортируем по убыванию значений в столбце `'percent'`:"
   ]
  },
  {
   "cell_type": "code",
   "execution_count": 63,
   "id": "8e5beb60",
   "metadata": {},
   "outputs": [
    {
     "data": {
      "text/html": [
       "<div>\n",
       "<style scoped>\n",
       "    .dataframe tbody tr th:only-of-type {\n",
       "        vertical-align: middle;\n",
       "    }\n",
       "\n",
       "    .dataframe tbody tr th {\n",
       "        vertical-align: top;\n",
       "    }\n",
       "\n",
       "    .dataframe thead th {\n",
       "        text-align: right;\n",
       "    }\n",
       "</style>\n",
       "<table border=\"1\" class=\"dataframe\">\n",
       "  <thead>\n",
       "    <tr style=\"text-align: right;\">\n",
       "      <th>debt</th>\n",
       "      <th>0</th>\n",
       "      <th>1</th>\n",
       "      <th>total</th>\n",
       "      <th>percent</th>\n",
       "    </tr>\n",
       "    <tr>\n",
       "      <th>purpose_category</th>\n",
       "      <th></th>\n",
       "      <th></th>\n",
       "      <th></th>\n",
       "      <th></th>\n",
       "    </tr>\n",
       "  </thead>\n",
       "  <tbody>\n",
       "    <tr>\n",
       "      <th>операции с автомобилем</th>\n",
       "      <td>3903</td>\n",
       "      <td>403</td>\n",
       "      <td>4306</td>\n",
       "      <td>9.36</td>\n",
       "    </tr>\n",
       "    <tr>\n",
       "      <th>получение образования</th>\n",
       "      <td>3643</td>\n",
       "      <td>370</td>\n",
       "      <td>4013</td>\n",
       "      <td>9.22</td>\n",
       "    </tr>\n",
       "    <tr>\n",
       "      <th>проведение свадьбы</th>\n",
       "      <td>2138</td>\n",
       "      <td>186</td>\n",
       "      <td>2324</td>\n",
       "      <td>8.00</td>\n",
       "    </tr>\n",
       "    <tr>\n",
       "      <th>операции с недвижимостью</th>\n",
       "      <td>10029</td>\n",
       "      <td>782</td>\n",
       "      <td>10811</td>\n",
       "      <td>7.23</td>\n",
       "    </tr>\n",
       "  </tbody>\n",
       "</table>\n",
       "</div>"
      ],
      "text/plain": [
       "debt                          0    1  total  percent\n",
       "purpose_category                                    \n",
       "операции с автомобилем     3903  403   4306     9.36\n",
       "получение образования      3643  370   4013     9.22\n",
       "проведение свадьбы         2138  186   2324     8.00\n",
       "операции с недвижимостью  10029  782  10811     7.23"
      ]
     },
     "execution_count": 63,
     "metadata": {},
     "output_type": "execute_result"
    }
   ],
   "source": [
    "# Добавление столбца 'percent'\n",
    "borrowers_purpose_pivot['percent'] = round(borrowers_purpose_pivot[1] * 100 / \\\n",
    "                                     borrowers_purpose_pivot['total'], 2)\n",
    "# Сортировка таблицы \n",
    "borrowers_purpose_pivot.sort_values('percent', ascending=False)"
   ]
  },
  {
   "cell_type": "markdown",
   "id": "ab32de0e",
   "metadata": {},
   "source": [
    "Теперь картина прояснилась. Больше всего просрочек происходит по автокредитам и кредитам на образование. Более всего дисциплинированы клиенты, приобретающие недвижимость. Клиенты, взявшие потребкредиты на проведение свадьбы занимают вторую позицию по дисциплинированности.\n",
    "\n",
    "**Вывод**\n",
    "\n",
    "Гипотеза о том, что существует зависимость между целью кредита и его возвратом в срок, подтвердилась. При этом отмечено, что на имеющихся данных затруднительно делать выводы по подкатегориям цели кредитования (например, по различным видам недвижимости или образования). Для устранения этих затруднений необходима дополнительная работа по очистке данных с привлечением специалистов клиентского отдела банка."
   ]
  },
  {
   "cell_type": "markdown",
   "id": "0e931655",
   "metadata": {},
   "source": [
    "## Выводы исследования\n",
    "\n",
    "Мы проверили четыре гипотезы и установили:\n",
    "\n",
    "***1. Количество детей влияет на возврат кредита в срок.***\n",
    "\n",
    "Гипотеза подтвердилась частично. Бездетные клиенты допускают меньше задолженностей, чем имеющие детей.\n",
    "\n",
    "Нулевое количество задолженностей для клиентов с 5 детьми можно считать спорным ввиду малой выборки заёмщиков данной категории, представленной в данных.\n",
    "\n",
    "Наиболее дисциплинированными являются клиенты банка, у которых по 3 ребёнка. В остальном, с ростом количества детей незначительно увеличивается процент задолженностей.\n",
    "\n",
    "***2. Между семейным положением и возвратом кредита в срок существует зависимость.***\n",
    "\n",
    "Гипотеза полностью подтвердилась.\n",
    "\n",
    "Меньше всего просрочек допускают овдовевшие клиенты, больше всего - холостые или живущие гражданским браком. Разведенные и семейные клиенты имеют среднюю платёжную дисциплину.\n",
    "\n",
    "***3. Уровень дохода влияет на возврат кредита в срок.***\n",
    "\n",
    "Гипотеза полностью подтвердилась.\n",
    "\n",
    "Худший результат оказался ожидаемым - наиболее бедные клиенты (до 30 тасяч) чаще допускают просрочки. А вот категория наиболее богатых заёмщиков (свыше 1 миллиона) а также \"средний класс\" (50-200тысяч) показали себя не самыми дисциплинированными плательщиками. Лидерами рейтинга платёжной дисциплины являются клиенты с доходом 30-50 тысяч, за ними следуют клиенты доходом \"выше среднего\" (от 200 тысяч до миллиона).\n",
    "\n",
    "***4. Существует зависимость между целью кредита и его возвратом в срок.***\n",
    "\n",
    "Гипотеза подтвердилась.\n",
    "\n",
    "Больше всего просрочек происходит по автокредитам и кредитам на образование. Наиболее дисциплинированы клиенты, приобретающие недвижимость. Клиенты, взявшие потребкредиты на проведение свадьбы занимают вторую позицию по дисциплинированности.\n",
    "\n",
    "***Замечания***\n",
    "1. Исследование проводилось в предположении, что значением 0 кодируется отсутствие, а значением 1 - наличие задолженности, поскольку документация к данным не содержит информации о соответствии булевых значений в столбце 'debt' фактам наличия и отсутствия задолженности. - *Вниманию инженеров по данным*.\n",
    "\n",
    "2. В ходе исследования отмечено, что на имеющихся данных затруднительно делать выводы по подкатегориям цели кредитования (например, по различным видам недвижимости или образования). Для устранения этих затруднений необходима дополнительная работа по очистке данных с привлечением специалистов клиентского отдела банка. - *Вниманию клиентского отдела*."
   ]
  }
 ],
 "metadata": {
  "ExecuteTimeLog": [
   {
    "duration": 119,
    "start_time": "2022-03-31T13:11:11.058Z"
   },
   {
    "duration": 562,
    "start_time": "2022-03-31T13:50:44.954Z"
   },
   {
    "duration": 15,
    "start_time": "2022-03-31T13:59:55.264Z"
   },
   {
    "duration": 74,
    "start_time": "2022-04-02T12:23:25.541Z"
   },
   {
    "duration": 593,
    "start_time": "2022-04-02T12:24:15.581Z"
   },
   {
    "duration": 26,
    "start_time": "2022-04-02T12:24:16.177Z"
   },
   {
    "duration": 30,
    "start_time": "2022-04-02T12:24:16.205Z"
   },
   {
    "duration": 22,
    "start_time": "2022-04-02T12:24:40.371Z"
   },
   {
    "duration": 13,
    "start_time": "2022-04-02T12:25:06.105Z"
   },
   {
    "duration": 18,
    "start_time": "2022-04-02T12:30:41.249Z"
   },
   {
    "duration": 17,
    "start_time": "2022-04-02T12:42:59.112Z"
   },
   {
    "duration": 16,
    "start_time": "2022-04-02T12:43:57.948Z"
   },
   {
    "duration": 9,
    "start_time": "2022-04-02T12:50:16.641Z"
   },
   {
    "duration": 7,
    "start_time": "2022-04-02T12:51:26.444Z"
   },
   {
    "duration": 8,
    "start_time": "2022-04-02T12:53:41.663Z"
   },
   {
    "duration": 6,
    "start_time": "2022-04-02T12:53:44.331Z"
   },
   {
    "duration": 14,
    "start_time": "2022-04-02T12:57:25.504Z"
   },
   {
    "duration": 9,
    "start_time": "2022-04-02T12:57:50.023Z"
   },
   {
    "duration": 18,
    "start_time": "2022-04-02T12:58:10.005Z"
   },
   {
    "duration": 8,
    "start_time": "2022-04-02T12:58:23.463Z"
   },
   {
    "duration": 9,
    "start_time": "2022-04-02T13:00:08.348Z"
   },
   {
    "duration": 10,
    "start_time": "2022-04-02T13:00:45.638Z"
   },
   {
    "duration": 7,
    "start_time": "2022-04-02T13:01:43.179Z"
   },
   {
    "duration": 7,
    "start_time": "2022-04-02T13:01:57.848Z"
   },
   {
    "duration": 9,
    "start_time": "2022-04-02T13:05:01.359Z"
   },
   {
    "duration": 7,
    "start_time": "2022-04-02T13:05:03.758Z"
   },
   {
    "duration": 25,
    "start_time": "2022-04-02T13:22:18.179Z"
   },
   {
    "duration": 12,
    "start_time": "2022-04-02T13:22:36.598Z"
   },
   {
    "duration": 6,
    "start_time": "2022-04-02T13:57:08.358Z"
   },
   {
    "duration": 11,
    "start_time": "2022-04-02T13:57:23.077Z"
   },
   {
    "duration": 7,
    "start_time": "2022-04-02T13:58:45.987Z"
   },
   {
    "duration": 10,
    "start_time": "2022-04-02T13:59:58.181Z"
   },
   {
    "duration": 6,
    "start_time": "2022-04-02T14:05:33.570Z"
   },
   {
    "duration": 6,
    "start_time": "2022-04-02T14:06:13.736Z"
   },
   {
    "duration": 6,
    "start_time": "2022-04-02T14:06:58.717Z"
   },
   {
    "duration": 8,
    "start_time": "2022-04-02T14:07:16.656Z"
   },
   {
    "duration": 8,
    "start_time": "2022-04-02T14:16:36.824Z"
   },
   {
    "duration": 10,
    "start_time": "2022-04-02T14:17:17.887Z"
   },
   {
    "duration": 7,
    "start_time": "2022-04-02T14:17:50.127Z"
   },
   {
    "duration": 7,
    "start_time": "2022-04-02T14:19:25.964Z"
   },
   {
    "duration": 7,
    "start_time": "2022-04-02T14:19:35.264Z"
   },
   {
    "duration": 6,
    "start_time": "2022-04-02T14:19:40.265Z"
   },
   {
    "duration": 8,
    "start_time": "2022-04-02T14:23:20.221Z"
   },
   {
    "duration": 7,
    "start_time": "2022-04-02T14:23:38.573Z"
   },
   {
    "duration": 6,
    "start_time": "2022-04-02T14:24:01.101Z"
   },
   {
    "duration": 5,
    "start_time": "2022-04-02T14:25:12.169Z"
   },
   {
    "duration": 7,
    "start_time": "2022-04-02T14:25:13.047Z"
   },
   {
    "duration": 6,
    "start_time": "2022-04-02T14:25:13.240Z"
   },
   {
    "duration": 11,
    "start_time": "2022-04-02T14:34:47.338Z"
   },
   {
    "duration": 9,
    "start_time": "2022-04-02T14:37:54.892Z"
   },
   {
    "duration": 8,
    "start_time": "2022-04-02T14:38:18.798Z"
   },
   {
    "duration": 6,
    "start_time": "2022-04-02T14:39:15.010Z"
   },
   {
    "duration": 101,
    "start_time": "2022-04-02T14:41:33.814Z"
   },
   {
    "duration": 22,
    "start_time": "2022-04-02T14:41:33.918Z"
   },
   {
    "duration": 6,
    "start_time": "2022-04-02T14:41:33.942Z"
   },
   {
    "duration": 10,
    "start_time": "2022-04-02T14:41:33.973Z"
   },
   {
    "duration": 13,
    "start_time": "2022-04-02T14:41:33.985Z"
   },
   {
    "duration": 14,
    "start_time": "2022-04-02T14:41:34.001Z"
   },
   {
    "duration": 15,
    "start_time": "2022-04-02T14:41:34.018Z"
   },
   {
    "duration": 42,
    "start_time": "2022-04-02T14:41:34.036Z"
   },
   {
    "duration": 14,
    "start_time": "2022-04-02T14:41:34.086Z"
   },
   {
    "duration": 7,
    "start_time": "2022-04-02T14:41:34.103Z"
   },
   {
    "duration": 14,
    "start_time": "2022-04-02T14:42:34.657Z"
   },
   {
    "duration": 595,
    "start_time": "2022-04-02T14:50:44.294Z"
   },
   {
    "duration": 21,
    "start_time": "2022-04-02T14:50:44.891Z"
   },
   {
    "duration": 116,
    "start_time": "2022-04-02T14:50:44.914Z"
   },
   {
    "duration": 0,
    "start_time": "2022-04-02T14:50:45.034Z"
   },
   {
    "duration": 0,
    "start_time": "2022-04-02T14:50:45.035Z"
   },
   {
    "duration": 0,
    "start_time": "2022-04-02T14:50:45.037Z"
   },
   {
    "duration": 0,
    "start_time": "2022-04-02T14:50:45.039Z"
   },
   {
    "duration": 1,
    "start_time": "2022-04-02T14:50:45.040Z"
   },
   {
    "duration": 0,
    "start_time": "2022-04-02T14:50:45.042Z"
   },
   {
    "duration": 0,
    "start_time": "2022-04-02T14:50:45.044Z"
   },
   {
    "duration": 0,
    "start_time": "2022-04-02T14:50:45.046Z"
   },
   {
    "duration": 0,
    "start_time": "2022-04-02T14:50:45.074Z"
   },
   {
    "duration": 0,
    "start_time": "2022-04-02T14:50:45.075Z"
   },
   {
    "duration": 0,
    "start_time": "2022-04-02T14:50:45.086Z"
   },
   {
    "duration": 0,
    "start_time": "2022-04-02T14:50:45.087Z"
   },
   {
    "duration": 0,
    "start_time": "2022-04-02T14:50:45.089Z"
   },
   {
    "duration": 0,
    "start_time": "2022-04-02T14:50:45.090Z"
   },
   {
    "duration": 0,
    "start_time": "2022-04-02T14:50:45.092Z"
   },
   {
    "duration": 0,
    "start_time": "2022-04-02T14:50:45.094Z"
   },
   {
    "duration": 594,
    "start_time": "2022-04-02T14:51:38.271Z"
   },
   {
    "duration": 24,
    "start_time": "2022-04-02T14:51:38.867Z"
   },
   {
    "duration": 7,
    "start_time": "2022-04-02T14:51:38.894Z"
   },
   {
    "duration": 8,
    "start_time": "2022-04-02T14:51:38.904Z"
   },
   {
    "duration": 8,
    "start_time": "2022-04-02T14:51:38.914Z"
   },
   {
    "duration": 52,
    "start_time": "2022-04-02T14:51:38.924Z"
   },
   {
    "duration": 20,
    "start_time": "2022-04-02T14:51:38.978Z"
   },
   {
    "duration": 6,
    "start_time": "2022-04-02T14:51:39.000Z"
   },
   {
    "duration": 13,
    "start_time": "2022-04-02T14:51:39.008Z"
   },
   {
    "duration": 7,
    "start_time": "2022-04-02T14:51:39.024Z"
   },
   {
    "duration": 53,
    "start_time": "2022-04-02T14:51:39.033Z"
   },
   {
    "duration": 6,
    "start_time": "2022-04-02T14:51:39.089Z"
   },
   {
    "duration": 12,
    "start_time": "2022-04-02T14:51:39.097Z"
   },
   {
    "duration": 8,
    "start_time": "2022-04-02T14:51:39.111Z"
   },
   {
    "duration": 12,
    "start_time": "2022-04-02T14:51:39.121Z"
   },
   {
    "duration": 9,
    "start_time": "2022-04-02T14:51:39.135Z"
   },
   {
    "duration": 32,
    "start_time": "2022-04-02T14:51:39.146Z"
   },
   {
    "duration": 15,
    "start_time": "2022-04-02T14:51:39.186Z"
   },
   {
    "duration": 9,
    "start_time": "2022-04-02T14:51:39.203Z"
   },
   {
    "duration": 6,
    "start_time": "2022-04-02T15:40:05.856Z"
   },
   {
    "duration": 6,
    "start_time": "2022-04-02T15:41:17.759Z"
   },
   {
    "duration": 6,
    "start_time": "2022-04-02T15:41:43.438Z"
   },
   {
    "duration": 659,
    "start_time": "2022-04-02T15:42:04.244Z"
   },
   {
    "duration": 21,
    "start_time": "2022-04-02T15:42:04.906Z"
   },
   {
    "duration": 5,
    "start_time": "2022-04-02T15:42:04.929Z"
   },
   {
    "duration": 38,
    "start_time": "2022-04-02T15:42:04.937Z"
   },
   {
    "duration": 12,
    "start_time": "2022-04-02T15:42:04.980Z"
   },
   {
    "duration": 10,
    "start_time": "2022-04-02T15:42:04.994Z"
   },
   {
    "duration": 7,
    "start_time": "2022-04-02T15:42:05.007Z"
   },
   {
    "duration": 23,
    "start_time": "2022-04-02T15:42:05.017Z"
   },
   {
    "duration": 61,
    "start_time": "2022-04-02T15:42:05.043Z"
   },
   {
    "duration": 7,
    "start_time": "2022-04-02T15:42:05.109Z"
   },
   {
    "duration": 17,
    "start_time": "2022-04-02T15:42:05.118Z"
   },
   {
    "duration": 9,
    "start_time": "2022-04-02T15:42:05.138Z"
   },
   {
    "duration": 13,
    "start_time": "2022-04-02T15:42:05.174Z"
   },
   {
    "duration": 11,
    "start_time": "2022-04-02T15:42:05.189Z"
   },
   {
    "duration": 10,
    "start_time": "2022-04-02T15:42:05.203Z"
   },
   {
    "duration": 10,
    "start_time": "2022-04-02T15:42:05.215Z"
   },
   {
    "duration": 6,
    "start_time": "2022-04-02T15:42:05.228Z"
   },
   {
    "duration": 7,
    "start_time": "2022-04-02T15:42:05.275Z"
   },
   {
    "duration": 13,
    "start_time": "2022-04-02T15:42:05.285Z"
   },
   {
    "duration": 7,
    "start_time": "2022-04-02T15:42:05.300Z"
   },
   {
    "duration": 6,
    "start_time": "2022-04-02T15:42:05.309Z"
   },
   {
    "duration": 5,
    "start_time": "2022-04-02T16:03:43.705Z"
   },
   {
    "duration": 8,
    "start_time": "2022-04-02T16:04:37.991Z"
   },
   {
    "duration": 18,
    "start_time": "2022-04-02T16:08:29.375Z"
   },
   {
    "duration": 612,
    "start_time": "2022-04-02T16:08:39.198Z"
   },
   {
    "duration": 22,
    "start_time": "2022-04-02T16:08:39.813Z"
   },
   {
    "duration": 6,
    "start_time": "2022-04-02T16:08:39.837Z"
   },
   {
    "duration": 46,
    "start_time": "2022-04-02T16:08:39.845Z"
   },
   {
    "duration": 13,
    "start_time": "2022-04-02T16:08:39.895Z"
   },
   {
    "duration": 12,
    "start_time": "2022-04-02T16:08:39.910Z"
   },
   {
    "duration": 13,
    "start_time": "2022-04-02T16:08:39.924Z"
   },
   {
    "duration": 105,
    "start_time": "2022-04-02T16:08:39.939Z"
   },
   {
    "duration": 0,
    "start_time": "2022-04-02T16:08:40.047Z"
   },
   {
    "duration": 0,
    "start_time": "2022-04-02T16:08:40.049Z"
   },
   {
    "duration": 0,
    "start_time": "2022-04-02T16:08:40.050Z"
   },
   {
    "duration": 0,
    "start_time": "2022-04-02T16:08:40.052Z"
   },
   {
    "duration": 0,
    "start_time": "2022-04-02T16:08:40.054Z"
   },
   {
    "duration": 0,
    "start_time": "2022-04-02T16:08:40.076Z"
   },
   {
    "duration": 0,
    "start_time": "2022-04-02T16:08:40.078Z"
   },
   {
    "duration": 0,
    "start_time": "2022-04-02T16:08:40.080Z"
   },
   {
    "duration": 0,
    "start_time": "2022-04-02T16:08:40.084Z"
   },
   {
    "duration": 0,
    "start_time": "2022-04-02T16:08:40.085Z"
   },
   {
    "duration": 0,
    "start_time": "2022-04-02T16:08:40.090Z"
   },
   {
    "duration": 0,
    "start_time": "2022-04-02T16:08:40.092Z"
   },
   {
    "duration": 0,
    "start_time": "2022-04-02T16:08:40.093Z"
   },
   {
    "duration": 10,
    "start_time": "2022-04-02T16:08:58.892Z"
   },
   {
    "duration": 7,
    "start_time": "2022-04-02T16:09:05.032Z"
   },
   {
    "duration": 625,
    "start_time": "2022-04-02T16:09:20.471Z"
   },
   {
    "duration": 22,
    "start_time": "2022-04-02T16:09:21.099Z"
   },
   {
    "duration": 20,
    "start_time": "2022-04-02T16:09:21.124Z"
   },
   {
    "duration": 21,
    "start_time": "2022-04-02T16:09:21.147Z"
   },
   {
    "duration": 24,
    "start_time": "2022-04-02T16:09:21.170Z"
   },
   {
    "duration": 26,
    "start_time": "2022-04-02T16:09:21.197Z"
   },
   {
    "duration": 25,
    "start_time": "2022-04-02T16:09:21.225Z"
   },
   {
    "duration": 46,
    "start_time": "2022-04-02T16:09:21.252Z"
   },
   {
    "duration": 38,
    "start_time": "2022-04-02T16:09:21.300Z"
   },
   {
    "duration": 32,
    "start_time": "2022-04-02T16:09:21.341Z"
   },
   {
    "duration": 9,
    "start_time": "2022-04-02T16:09:21.376Z"
   },
   {
    "duration": 15,
    "start_time": "2022-04-02T16:09:21.389Z"
   },
   {
    "duration": 13,
    "start_time": "2022-04-02T16:09:21.407Z"
   },
   {
    "duration": 12,
    "start_time": "2022-04-02T16:09:21.422Z"
   },
   {
    "duration": 17,
    "start_time": "2022-04-02T16:09:21.436Z"
   },
   {
    "duration": 41,
    "start_time": "2022-04-02T16:09:21.455Z"
   },
   {
    "duration": 12,
    "start_time": "2022-04-02T16:09:21.498Z"
   },
   {
    "duration": 21,
    "start_time": "2022-04-02T16:09:21.513Z"
   },
   {
    "duration": 22,
    "start_time": "2022-04-02T16:09:21.536Z"
   },
   {
    "duration": 35,
    "start_time": "2022-04-02T16:09:21.561Z"
   },
   {
    "duration": 13,
    "start_time": "2022-04-02T16:09:21.598Z"
   },
   {
    "duration": 7,
    "start_time": "2022-04-02T16:11:05.187Z"
   },
   {
    "duration": 6,
    "start_time": "2022-04-02T16:11:25.221Z"
   },
   {
    "duration": 595,
    "start_time": "2022-04-02T16:11:33.595Z"
   },
   {
    "duration": 21,
    "start_time": "2022-04-02T16:11:34.193Z"
   },
   {
    "duration": 6,
    "start_time": "2022-04-02T16:11:34.216Z"
   },
   {
    "duration": 6,
    "start_time": "2022-04-02T16:11:34.225Z"
   },
   {
    "duration": 45,
    "start_time": "2022-04-02T16:11:34.234Z"
   },
   {
    "duration": 13,
    "start_time": "2022-04-02T16:11:34.281Z"
   },
   {
    "duration": 6,
    "start_time": "2022-04-02T16:11:34.296Z"
   },
   {
    "duration": 12,
    "start_time": "2022-04-02T16:11:34.304Z"
   },
   {
    "duration": 13,
    "start_time": "2022-04-02T16:11:34.318Z"
   },
   {
    "duration": 6,
    "start_time": "2022-04-02T16:11:34.335Z"
   },
   {
    "duration": 11,
    "start_time": "2022-04-02T16:11:34.378Z"
   },
   {
    "duration": 10,
    "start_time": "2022-04-02T16:11:34.391Z"
   },
   {
    "duration": 7,
    "start_time": "2022-04-02T16:11:34.403Z"
   },
   {
    "duration": 9,
    "start_time": "2022-04-02T16:11:34.412Z"
   },
   {
    "duration": 57,
    "start_time": "2022-04-02T16:11:34.423Z"
   },
   {
    "duration": 13,
    "start_time": "2022-04-02T16:11:34.483Z"
   },
   {
    "duration": 9,
    "start_time": "2022-04-02T16:11:34.499Z"
   },
   {
    "duration": 7,
    "start_time": "2022-04-02T16:11:34.510Z"
   },
   {
    "duration": 6,
    "start_time": "2022-04-02T16:11:34.519Z"
   },
   {
    "duration": 54,
    "start_time": "2022-04-02T16:11:34.527Z"
   },
   {
    "duration": 6,
    "start_time": "2022-04-02T16:11:34.584Z"
   },
   {
    "duration": 6,
    "start_time": "2022-04-02T16:16:01.325Z"
   },
   {
    "duration": 101,
    "start_time": "2022-04-02T16:16:09.028Z"
   },
   {
    "duration": 20,
    "start_time": "2022-04-02T16:16:09.132Z"
   },
   {
    "duration": 26,
    "start_time": "2022-04-02T16:16:09.155Z"
   },
   {
    "duration": 22,
    "start_time": "2022-04-02T16:16:09.183Z"
   },
   {
    "duration": 38,
    "start_time": "2022-04-02T16:16:09.209Z"
   },
   {
    "duration": 14,
    "start_time": "2022-04-02T16:16:09.249Z"
   },
   {
    "duration": 29,
    "start_time": "2022-04-02T16:16:09.265Z"
   },
   {
    "duration": 17,
    "start_time": "2022-04-02T16:16:09.297Z"
   },
   {
    "duration": 26,
    "start_time": "2022-04-02T16:16:09.317Z"
   },
   {
    "duration": 12,
    "start_time": "2022-04-02T16:16:09.345Z"
   },
   {
    "duration": 6,
    "start_time": "2022-04-02T16:16:31.737Z"
   },
   {
    "duration": 8,
    "start_time": "2022-04-02T16:17:06.687Z"
   },
   {
    "duration": 89,
    "start_time": "2022-04-02T16:17:14.653Z"
   },
   {
    "duration": 35,
    "start_time": "2022-04-02T16:17:14.745Z"
   },
   {
    "duration": 8,
    "start_time": "2022-04-02T16:17:14.783Z"
   },
   {
    "duration": 23,
    "start_time": "2022-04-02T16:17:14.793Z"
   },
   {
    "duration": 10,
    "start_time": "2022-04-02T16:17:14.820Z"
   },
   {
    "duration": 19,
    "start_time": "2022-04-02T16:17:14.832Z"
   },
   {
    "duration": 40,
    "start_time": "2022-04-02T16:17:14.854Z"
   },
   {
    "duration": 7,
    "start_time": "2022-04-02T16:17:14.896Z"
   },
   {
    "duration": 27,
    "start_time": "2022-04-02T16:17:14.905Z"
   },
   {
    "duration": 27,
    "start_time": "2022-04-02T16:17:14.934Z"
   },
   {
    "duration": 83,
    "start_time": "2022-04-02T16:20:12.726Z"
   },
   {
    "duration": 21,
    "start_time": "2022-04-02T16:20:12.812Z"
   },
   {
    "duration": 7,
    "start_time": "2022-04-02T16:20:12.835Z"
   },
   {
    "duration": 38,
    "start_time": "2022-04-02T16:20:12.843Z"
   },
   {
    "duration": 12,
    "start_time": "2022-04-02T16:20:12.884Z"
   },
   {
    "duration": 9,
    "start_time": "2022-04-02T16:20:12.899Z"
   },
   {
    "duration": 6,
    "start_time": "2022-04-02T16:20:12.910Z"
   },
   {
    "duration": 6,
    "start_time": "2022-04-02T16:20:12.919Z"
   },
   {
    "duration": 18,
    "start_time": "2022-04-02T16:20:12.927Z"
   },
   {
    "duration": 32,
    "start_time": "2022-04-02T16:20:12.947Z"
   },
   {
    "duration": 16,
    "start_time": "2022-04-02T16:20:12.981Z"
   },
   {
    "duration": 86,
    "start_time": "2022-04-02T16:21:07.435Z"
   },
   {
    "duration": 21,
    "start_time": "2022-04-02T16:21:07.525Z"
   },
   {
    "duration": 26,
    "start_time": "2022-04-02T16:21:07.549Z"
   },
   {
    "duration": 16,
    "start_time": "2022-04-02T16:21:07.578Z"
   },
   {
    "duration": 7,
    "start_time": "2022-04-02T16:21:07.598Z"
   },
   {
    "duration": 6,
    "start_time": "2022-04-02T16:21:07.608Z"
   },
   {
    "duration": 6,
    "start_time": "2022-04-02T16:21:07.617Z"
   },
   {
    "duration": 60,
    "start_time": "2022-04-02T16:21:07.626Z"
   },
   {
    "duration": 13,
    "start_time": "2022-04-02T16:21:07.689Z"
   },
   {
    "duration": 7,
    "start_time": "2022-04-02T16:21:07.704Z"
   },
   {
    "duration": 11,
    "start_time": "2022-04-02T16:21:07.713Z"
   },
   {
    "duration": 7,
    "start_time": "2022-04-02T16:21:07.726Z"
   },
   {
    "duration": 103,
    "start_time": "2022-04-02T16:36:10.143Z"
   },
   {
    "duration": 30,
    "start_time": "2022-04-02T16:36:10.248Z"
   },
   {
    "duration": 6,
    "start_time": "2022-04-02T16:36:10.283Z"
   },
   {
    "duration": 8,
    "start_time": "2022-04-02T16:36:10.291Z"
   },
   {
    "duration": 9,
    "start_time": "2022-04-02T16:36:10.302Z"
   },
   {
    "duration": 12,
    "start_time": "2022-04-02T16:36:10.313Z"
   },
   {
    "duration": 8,
    "start_time": "2022-04-02T16:36:10.328Z"
   },
   {
    "duration": 40,
    "start_time": "2022-04-02T16:36:10.338Z"
   },
   {
    "duration": 23,
    "start_time": "2022-04-02T16:36:10.381Z"
   },
   {
    "duration": 7,
    "start_time": "2022-04-02T16:36:10.406Z"
   },
   {
    "duration": 11,
    "start_time": "2022-04-02T16:36:10.415Z"
   },
   {
    "duration": 7,
    "start_time": "2022-04-02T16:36:10.428Z"
   },
   {
    "duration": 99,
    "start_time": "2022-04-02T16:44:43.534Z"
   },
   {
    "duration": 38,
    "start_time": "2022-04-02T16:44:43.636Z"
   },
   {
    "duration": 10,
    "start_time": "2022-04-02T16:44:43.679Z"
   },
   {
    "duration": 7,
    "start_time": "2022-04-02T16:44:43.693Z"
   },
   {
    "duration": 8,
    "start_time": "2022-04-02T16:44:43.702Z"
   },
   {
    "duration": 7,
    "start_time": "2022-04-02T16:44:43.712Z"
   },
   {
    "duration": 5,
    "start_time": "2022-04-02T16:44:43.722Z"
   },
   {
    "duration": 46,
    "start_time": "2022-04-02T16:44:43.729Z"
   },
   {
    "duration": 27,
    "start_time": "2022-04-02T16:44:43.778Z"
   },
   {
    "duration": 6,
    "start_time": "2022-04-02T16:44:43.809Z"
   },
   {
    "duration": 14,
    "start_time": "2022-04-02T16:44:43.817Z"
   },
   {
    "duration": 7,
    "start_time": "2022-04-02T16:44:43.833Z"
   },
   {
    "duration": 11,
    "start_time": "2022-04-02T16:44:43.874Z"
   },
   {
    "duration": 588,
    "start_time": "2022-04-03T06:43:10.054Z"
   },
   {
    "duration": 20,
    "start_time": "2022-04-03T06:43:23.506Z"
   },
   {
    "duration": 6,
    "start_time": "2022-04-03T06:44:01.903Z"
   },
   {
    "duration": 6,
    "start_time": "2022-04-03T06:44:06.934Z"
   },
   {
    "duration": 6,
    "start_time": "2022-04-03T06:44:13.077Z"
   },
   {
    "duration": 6,
    "start_time": "2022-04-03T06:47:29.466Z"
   },
   {
    "duration": 6,
    "start_time": "2022-04-03T06:47:37.638Z"
   },
   {
    "duration": 7,
    "start_time": "2022-04-03T06:48:27.187Z"
   },
   {
    "duration": 15,
    "start_time": "2022-04-03T06:49:00.948Z"
   },
   {
    "duration": 7,
    "start_time": "2022-04-03T06:49:37.129Z"
   },
   {
    "duration": 10,
    "start_time": "2022-04-03T06:50:10.208Z"
   },
   {
    "duration": 8,
    "start_time": "2022-04-03T06:54:51.198Z"
   },
   {
    "duration": 625,
    "start_time": "2022-04-03T18:39:57.440Z"
   },
   {
    "duration": 28,
    "start_time": "2022-04-03T18:39:58.068Z"
   },
   {
    "duration": 6,
    "start_time": "2022-04-03T18:39:58.098Z"
   },
   {
    "duration": 6,
    "start_time": "2022-04-03T18:39:58.106Z"
   },
   {
    "duration": 7,
    "start_time": "2022-04-03T18:39:58.115Z"
   },
   {
    "duration": 53,
    "start_time": "2022-04-03T18:39:58.124Z"
   },
   {
    "duration": 7,
    "start_time": "2022-04-03T18:39:58.180Z"
   },
   {
    "duration": 8,
    "start_time": "2022-04-03T18:39:58.189Z"
   },
   {
    "duration": 12,
    "start_time": "2022-04-03T18:39:58.199Z"
   },
   {
    "duration": 6,
    "start_time": "2022-04-03T18:39:58.213Z"
   },
   {
    "duration": 21,
    "start_time": "2022-04-03T18:39:58.222Z"
   },
   {
    "duration": 10,
    "start_time": "2022-04-03T18:39:58.283Z"
   },
   {
    "duration": 9,
    "start_time": "2022-04-03T18:39:58.296Z"
   },
   {
    "duration": 19,
    "start_time": "2022-04-03T18:54:39.423Z"
   },
   {
    "duration": 103,
    "start_time": "2022-04-03T19:33:00.672Z"
   },
   {
    "duration": 11,
    "start_time": "2022-04-03T19:33:20.655Z"
   },
   {
    "duration": 20,
    "start_time": "2022-04-03T19:34:55.511Z"
   },
   {
    "duration": 8,
    "start_time": "2022-04-03T19:36:03.530Z"
   },
   {
    "duration": 91,
    "start_time": "2022-04-03T19:36:11.734Z"
   },
   {
    "duration": 19,
    "start_time": "2022-04-03T19:36:11.828Z"
   },
   {
    "duration": 6,
    "start_time": "2022-04-03T19:36:11.848Z"
   },
   {
    "duration": 6,
    "start_time": "2022-04-03T19:36:11.883Z"
   },
   {
    "duration": 6,
    "start_time": "2022-04-03T19:36:11.893Z"
   },
   {
    "duration": 5,
    "start_time": "2022-04-03T19:36:11.901Z"
   },
   {
    "duration": 5,
    "start_time": "2022-04-03T19:36:11.908Z"
   },
   {
    "duration": 6,
    "start_time": "2022-04-03T19:36:11.915Z"
   },
   {
    "duration": 60,
    "start_time": "2022-04-03T19:36:11.923Z"
   },
   {
    "duration": 11,
    "start_time": "2022-04-03T19:36:11.986Z"
   },
   {
    "duration": 11,
    "start_time": "2022-04-03T19:36:12.000Z"
   },
   {
    "duration": 8,
    "start_time": "2022-04-03T19:36:12.013Z"
   },
   {
    "duration": 9,
    "start_time": "2022-04-03T19:36:12.023Z"
   },
   {
    "duration": 21,
    "start_time": "2022-04-03T19:36:12.076Z"
   },
   {
    "duration": 7,
    "start_time": "2022-04-03T19:36:24.555Z"
   },
   {
    "duration": 21,
    "start_time": "2022-04-03T19:39:52.753Z"
   },
   {
    "duration": 8,
    "start_time": "2022-04-03T19:41:19.234Z"
   },
   {
    "duration": 25,
    "start_time": "2022-04-03T19:43:49.953Z"
   },
   {
    "duration": 8,
    "start_time": "2022-04-03T19:50:28.720Z"
   },
   {
    "duration": 102,
    "start_time": "2022-04-03T19:51:50.120Z"
   },
   {
    "duration": 27,
    "start_time": "2022-04-03T19:51:55.478Z"
   },
   {
    "duration": 96,
    "start_time": "2022-04-03T21:04:01.209Z"
   },
   {
    "duration": 14,
    "start_time": "2022-04-03T21:04:38.870Z"
   },
   {
    "duration": 4,
    "start_time": "2022-04-03T21:05:04.027Z"
   },
   {
    "duration": 45,
    "start_time": "2022-04-03T21:05:07.210Z"
   },
   {
    "duration": 20,
    "start_time": "2022-04-03T21:08:40.767Z"
   },
   {
    "duration": 107,
    "start_time": "2022-04-03T21:10:00.515Z"
   },
   {
    "duration": 31,
    "start_time": "2022-04-03T21:11:11.788Z"
   },
   {
    "duration": 102,
    "start_time": "2022-04-03T21:16:06.388Z"
   },
   {
    "duration": 19,
    "start_time": "2022-04-03T21:16:06.493Z"
   },
   {
    "duration": 9,
    "start_time": "2022-04-03T21:16:06.514Z"
   },
   {
    "duration": 6,
    "start_time": "2022-04-03T21:16:06.525Z"
   },
   {
    "duration": 5,
    "start_time": "2022-04-03T21:16:06.534Z"
   },
   {
    "duration": 6,
    "start_time": "2022-04-03T21:16:06.574Z"
   },
   {
    "duration": 6,
    "start_time": "2022-04-03T21:16:06.582Z"
   },
   {
    "duration": 6,
    "start_time": "2022-04-03T21:16:06.590Z"
   },
   {
    "duration": 13,
    "start_time": "2022-04-03T21:16:06.598Z"
   },
   {
    "duration": 62,
    "start_time": "2022-04-03T21:16:06.613Z"
   },
   {
    "duration": 9,
    "start_time": "2022-04-03T21:16:06.677Z"
   },
   {
    "duration": 8,
    "start_time": "2022-04-03T21:16:06.688Z"
   },
   {
    "duration": 9,
    "start_time": "2022-04-03T21:16:06.698Z"
   },
   {
    "duration": 20,
    "start_time": "2022-04-03T21:16:06.710Z"
   },
   {
    "duration": 45,
    "start_time": "2022-04-03T21:16:06.732Z"
   },
   {
    "duration": 21,
    "start_time": "2022-04-03T21:16:06.779Z"
   },
   {
    "duration": 7,
    "start_time": "2022-04-03T21:16:06.803Z"
   },
   {
    "duration": 25,
    "start_time": "2022-04-03T21:16:06.812Z"
   },
   {
    "duration": 23,
    "start_time": "2022-04-03T21:16:06.873Z"
   },
   {
    "duration": 4,
    "start_time": "2022-04-03T21:16:06.898Z"
   },
   {
    "duration": 71,
    "start_time": "2022-04-03T21:16:06.904Z"
   },
   {
    "duration": 19,
    "start_time": "2022-04-03T21:16:06.977Z"
   },
   {
    "duration": 17,
    "start_time": "2022-04-03T21:16:06.999Z"
   },
   {
    "duration": 1537,
    "start_time": "2022-04-03T21:34:57.989Z"
   },
   {
    "duration": 97,
    "start_time": "2022-04-03T21:35:25.866Z"
   },
   {
    "duration": 17,
    "start_time": "2022-04-03T21:35:45.026Z"
   },
   {
    "duration": 17,
    "start_time": "2022-04-03T21:36:54.167Z"
   },
   {
    "duration": 18,
    "start_time": "2022-04-03T21:37:19.466Z"
   },
   {
    "duration": 17,
    "start_time": "2022-04-03T21:39:55.847Z"
   },
   {
    "duration": 18,
    "start_time": "2022-04-03T21:40:03.025Z"
   },
   {
    "duration": 24,
    "start_time": "2022-04-03T21:41:31.744Z"
   },
   {
    "duration": 17,
    "start_time": "2022-04-03T21:42:37.186Z"
   },
   {
    "duration": 17,
    "start_time": "2022-04-03T21:45:29.746Z"
   },
   {
    "duration": 16,
    "start_time": "2022-04-03T21:45:49.429Z"
   },
   {
    "duration": 95,
    "start_time": "2022-04-03T21:47:54.587Z"
   },
   {
    "duration": 20,
    "start_time": "2022-04-03T21:47:54.684Z"
   },
   {
    "duration": 7,
    "start_time": "2022-04-03T21:47:54.706Z"
   },
   {
    "duration": 8,
    "start_time": "2022-04-03T21:47:54.714Z"
   },
   {
    "duration": 6,
    "start_time": "2022-04-03T21:47:54.726Z"
   },
   {
    "duration": 44,
    "start_time": "2022-04-03T21:47:54.734Z"
   },
   {
    "duration": 5,
    "start_time": "2022-04-03T21:47:54.780Z"
   },
   {
    "duration": 7,
    "start_time": "2022-04-03T21:47:54.787Z"
   },
   {
    "duration": 14,
    "start_time": "2022-04-03T21:47:54.796Z"
   },
   {
    "duration": 6,
    "start_time": "2022-04-03T21:47:54.812Z"
   },
   {
    "duration": 57,
    "start_time": "2022-04-03T21:47:54.820Z"
   },
   {
    "duration": 7,
    "start_time": "2022-04-03T21:47:54.879Z"
   },
   {
    "duration": 7,
    "start_time": "2022-04-03T21:47:54.888Z"
   },
   {
    "duration": 18,
    "start_time": "2022-04-03T21:47:54.899Z"
   },
   {
    "duration": 6,
    "start_time": "2022-04-03T21:47:54.919Z"
   },
   {
    "duration": 19,
    "start_time": "2022-04-03T21:47:54.974Z"
   },
   {
    "duration": 6,
    "start_time": "2022-04-03T21:47:54.996Z"
   },
   {
    "duration": 24,
    "start_time": "2022-04-03T21:47:55.004Z"
   },
   {
    "duration": 54,
    "start_time": "2022-04-03T21:47:55.031Z"
   },
   {
    "duration": 4,
    "start_time": "2022-04-03T21:47:55.087Z"
   },
   {
    "duration": 44,
    "start_time": "2022-04-03T21:47:55.092Z"
   },
   {
    "duration": 44,
    "start_time": "2022-04-03T21:47:55.138Z"
   },
   {
    "duration": 18,
    "start_time": "2022-04-03T21:47:55.183Z"
   },
   {
    "duration": 18,
    "start_time": "2022-04-03T21:47:55.203Z"
   },
   {
    "duration": 14,
    "start_time": "2022-04-03T21:47:55.223Z"
   },
   {
    "duration": 19,
    "start_time": "2022-04-03T21:52:08.927Z"
   },
   {
    "duration": 17,
    "start_time": "2022-04-03T21:52:28.666Z"
   },
   {
    "duration": 112,
    "start_time": "2022-04-03T21:54:57.506Z"
   },
   {
    "duration": 21,
    "start_time": "2022-04-03T21:54:57.621Z"
   },
   {
    "duration": 5,
    "start_time": "2022-04-03T21:54:57.644Z"
   },
   {
    "duration": 6,
    "start_time": "2022-04-03T21:54:57.674Z"
   },
   {
    "duration": 7,
    "start_time": "2022-04-03T21:54:57.684Z"
   },
   {
    "duration": 6,
    "start_time": "2022-04-03T21:54:57.693Z"
   },
   {
    "duration": 7,
    "start_time": "2022-04-03T21:54:57.702Z"
   },
   {
    "duration": 8,
    "start_time": "2022-04-03T21:54:57.711Z"
   },
   {
    "duration": 66,
    "start_time": "2022-04-03T21:54:57.722Z"
   },
   {
    "duration": 9,
    "start_time": "2022-04-03T21:54:57.791Z"
   },
   {
    "duration": 16,
    "start_time": "2022-04-03T21:54:57.802Z"
   },
   {
    "duration": 10,
    "start_time": "2022-04-03T21:54:57.820Z"
   },
   {
    "duration": 46,
    "start_time": "2022-04-03T21:54:57.832Z"
   },
   {
    "duration": 21,
    "start_time": "2022-04-03T21:54:57.883Z"
   },
   {
    "duration": 9,
    "start_time": "2022-04-03T21:54:57.906Z"
   },
   {
    "duration": 59,
    "start_time": "2022-04-03T21:54:57.917Z"
   },
   {
    "duration": 9,
    "start_time": "2022-04-03T21:54:57.979Z"
   },
   {
    "duration": 25,
    "start_time": "2022-04-03T21:54:57.990Z"
   },
   {
    "duration": 58,
    "start_time": "2022-04-03T21:54:58.017Z"
   },
   {
    "duration": 4,
    "start_time": "2022-04-03T21:54:58.077Z"
   },
   {
    "duration": 55,
    "start_time": "2022-04-03T21:54:58.083Z"
   },
   {
    "duration": 40,
    "start_time": "2022-04-03T21:54:58.140Z"
   },
   {
    "duration": 18,
    "start_time": "2022-04-03T21:54:58.183Z"
   },
   {
    "duration": 18,
    "start_time": "2022-04-03T21:54:58.203Z"
   },
   {
    "duration": 14,
    "start_time": "2022-04-03T21:54:58.223Z"
   },
   {
    "duration": 17,
    "start_time": "2022-04-03T21:54:58.273Z"
   },
   {
    "duration": 94,
    "start_time": "2022-04-03T22:23:53.196Z"
   },
   {
    "duration": 21,
    "start_time": "2022-04-03T22:23:53.292Z"
   },
   {
    "duration": 5,
    "start_time": "2022-04-03T22:23:53.315Z"
   },
   {
    "duration": 11,
    "start_time": "2022-04-03T22:23:53.322Z"
   },
   {
    "duration": 39,
    "start_time": "2022-04-03T22:23:53.336Z"
   },
   {
    "duration": 6,
    "start_time": "2022-04-03T22:23:53.378Z"
   },
   {
    "duration": 5,
    "start_time": "2022-04-03T22:23:53.386Z"
   },
   {
    "duration": 7,
    "start_time": "2022-04-03T22:23:53.393Z"
   },
   {
    "duration": 14,
    "start_time": "2022-04-03T22:23:53.402Z"
   },
   {
    "duration": 7,
    "start_time": "2022-04-03T22:23:53.418Z"
   },
   {
    "duration": 8,
    "start_time": "2022-04-03T22:23:53.474Z"
   },
   {
    "duration": 7,
    "start_time": "2022-04-03T22:23:53.484Z"
   },
   {
    "duration": 13,
    "start_time": "2022-04-03T22:23:53.494Z"
   },
   {
    "duration": 20,
    "start_time": "2022-04-03T22:23:53.511Z"
   },
   {
    "duration": 42,
    "start_time": "2022-04-03T22:23:53.533Z"
   },
   {
    "duration": 22,
    "start_time": "2022-04-03T22:23:53.577Z"
   },
   {
    "duration": 10,
    "start_time": "2022-04-03T22:23:53.601Z"
   },
   {
    "duration": 23,
    "start_time": "2022-04-03T22:23:53.613Z"
   },
   {
    "duration": 54,
    "start_time": "2022-04-03T22:23:53.638Z"
   },
   {
    "duration": 5,
    "start_time": "2022-04-03T22:23:53.694Z"
   },
   {
    "duration": 44,
    "start_time": "2022-04-03T22:23:53.701Z"
   },
   {
    "duration": 43,
    "start_time": "2022-04-03T22:23:53.746Z"
   },
   {
    "duration": 17,
    "start_time": "2022-04-03T22:23:53.792Z"
   },
   {
    "duration": 17,
    "start_time": "2022-04-03T22:23:53.811Z"
   },
   {
    "duration": 53,
    "start_time": "2022-04-03T22:23:53.830Z"
   },
   {
    "duration": 16,
    "start_time": "2022-04-03T22:23:53.885Z"
   },
   {
    "duration": 95,
    "start_time": "2022-04-03T22:26:25.530Z"
   },
   {
    "duration": 20,
    "start_time": "2022-04-03T22:26:25.628Z"
   },
   {
    "duration": 5,
    "start_time": "2022-04-03T22:26:25.673Z"
   },
   {
    "duration": 7,
    "start_time": "2022-04-03T22:26:25.681Z"
   },
   {
    "duration": 7,
    "start_time": "2022-04-03T22:26:25.690Z"
   },
   {
    "duration": 6,
    "start_time": "2022-04-03T22:26:25.699Z"
   },
   {
    "duration": 4,
    "start_time": "2022-04-03T22:26:25.708Z"
   },
   {
    "duration": 9,
    "start_time": "2022-04-03T22:26:25.714Z"
   },
   {
    "duration": 58,
    "start_time": "2022-04-03T22:26:25.725Z"
   },
   {
    "duration": 6,
    "start_time": "2022-04-03T22:26:25.787Z"
   },
   {
    "duration": 8,
    "start_time": "2022-04-03T22:26:25.795Z"
   },
   {
    "duration": 7,
    "start_time": "2022-04-03T22:26:25.806Z"
   },
   {
    "duration": 11,
    "start_time": "2022-04-03T22:26:25.814Z"
   },
   {
    "duration": 66,
    "start_time": "2022-04-03T22:26:25.827Z"
   },
   {
    "duration": 8,
    "start_time": "2022-04-03T22:26:25.894Z"
   },
   {
    "duration": 21,
    "start_time": "2022-04-03T22:26:25.904Z"
   },
   {
    "duration": 7,
    "start_time": "2022-04-03T22:26:25.927Z"
   },
   {
    "duration": 62,
    "start_time": "2022-04-03T22:26:25.936Z"
   },
   {
    "duration": 24,
    "start_time": "2022-04-03T22:26:26.000Z"
   },
   {
    "duration": 4,
    "start_time": "2022-04-03T22:26:26.026Z"
   },
   {
    "duration": 77,
    "start_time": "2022-04-03T22:26:26.032Z"
   },
   {
    "duration": 18,
    "start_time": "2022-04-03T22:26:26.111Z"
   },
   {
    "duration": 20,
    "start_time": "2022-04-03T22:26:26.131Z"
   },
   {
    "duration": 34,
    "start_time": "2022-04-03T22:26:26.153Z"
   },
   {
    "duration": 14,
    "start_time": "2022-04-03T22:26:26.190Z"
   },
   {
    "duration": 16,
    "start_time": "2022-04-03T22:26:26.206Z"
   },
   {
    "duration": 538,
    "start_time": "2022-04-04T12:40:01.626Z"
   },
   {
    "duration": 16,
    "start_time": "2022-04-04T12:40:02.166Z"
   },
   {
    "duration": 7,
    "start_time": "2022-04-04T12:40:02.184Z"
   },
   {
    "duration": 10,
    "start_time": "2022-04-04T12:40:02.193Z"
   },
   {
    "duration": 27,
    "start_time": "2022-04-04T12:40:02.205Z"
   },
   {
    "duration": 4,
    "start_time": "2022-04-04T12:40:02.234Z"
   },
   {
    "duration": 17,
    "start_time": "2022-04-04T12:40:02.240Z"
   },
   {
    "duration": 8,
    "start_time": "2022-04-04T12:40:02.259Z"
   },
   {
    "duration": 13,
    "start_time": "2022-04-04T12:40:02.269Z"
   },
   {
    "duration": 14,
    "start_time": "2022-04-04T12:40:02.283Z"
   },
   {
    "duration": 16,
    "start_time": "2022-04-04T12:40:02.299Z"
   },
   {
    "duration": 10,
    "start_time": "2022-04-04T12:40:02.331Z"
   },
   {
    "duration": 9,
    "start_time": "2022-04-04T12:40:02.343Z"
   },
   {
    "duration": 16,
    "start_time": "2022-04-04T12:40:02.356Z"
   },
   {
    "duration": 7,
    "start_time": "2022-04-04T12:40:02.375Z"
   },
   {
    "duration": 55,
    "start_time": "2022-04-04T12:40:02.384Z"
   },
   {
    "duration": 11,
    "start_time": "2022-04-04T12:40:02.441Z"
   },
   {
    "duration": 25,
    "start_time": "2022-04-04T12:40:02.454Z"
   },
   {
    "duration": 27,
    "start_time": "2022-04-04T12:40:02.482Z"
   },
   {
    "duration": 21,
    "start_time": "2022-04-04T12:40:02.512Z"
   },
   {
    "duration": 36,
    "start_time": "2022-04-04T12:40:02.535Z"
   },
   {
    "duration": 18,
    "start_time": "2022-04-04T12:40:02.573Z"
   },
   {
    "duration": 39,
    "start_time": "2022-04-04T12:40:02.593Z"
   },
   {
    "duration": 16,
    "start_time": "2022-04-04T12:40:02.634Z"
   },
   {
    "duration": 20,
    "start_time": "2022-04-04T12:40:02.651Z"
   },
   {
    "duration": 14,
    "start_time": "2022-04-04T12:40:02.673Z"
   },
   {
    "duration": 67,
    "start_time": "2022-04-04T13:07:15.337Z"
   },
   {
    "duration": 4,
    "start_time": "2022-04-04T13:07:24.798Z"
   },
   {
    "duration": 4,
    "start_time": "2022-04-04T13:07:27.584Z"
   },
   {
    "duration": 18,
    "start_time": "2022-04-04T13:12:40.533Z"
   },
   {
    "duration": 84,
    "start_time": "2022-04-04T13:15:26.958Z"
   },
   {
    "duration": 16,
    "start_time": "2022-04-04T13:15:27.044Z"
   },
   {
    "duration": 6,
    "start_time": "2022-04-04T13:15:27.061Z"
   },
   {
    "duration": 14,
    "start_time": "2022-04-04T13:15:27.069Z"
   },
   {
    "duration": 11,
    "start_time": "2022-04-04T13:15:27.085Z"
   },
   {
    "duration": 9,
    "start_time": "2022-04-04T13:15:27.098Z"
   },
   {
    "duration": 26,
    "start_time": "2022-04-04T13:15:27.108Z"
   },
   {
    "duration": 12,
    "start_time": "2022-04-04T13:15:27.136Z"
   },
   {
    "duration": 14,
    "start_time": "2022-04-04T13:15:27.150Z"
   },
   {
    "duration": 7,
    "start_time": "2022-04-04T13:15:27.166Z"
   },
   {
    "duration": 9,
    "start_time": "2022-04-04T13:15:27.176Z"
   },
   {
    "duration": 12,
    "start_time": "2022-04-04T13:15:27.187Z"
   },
   {
    "duration": 34,
    "start_time": "2022-04-04T13:15:27.201Z"
   },
   {
    "duration": 19,
    "start_time": "2022-04-04T13:15:27.238Z"
   },
   {
    "duration": 5,
    "start_time": "2022-04-04T13:15:27.259Z"
   },
   {
    "duration": 29,
    "start_time": "2022-04-04T13:15:27.266Z"
   },
   {
    "duration": 6,
    "start_time": "2022-04-04T13:15:27.296Z"
   },
   {
    "duration": 57,
    "start_time": "2022-04-04T13:15:27.303Z"
   },
   {
    "duration": 20,
    "start_time": "2022-04-04T13:15:27.362Z"
   },
   {
    "duration": 3,
    "start_time": "2022-04-04T13:15:27.384Z"
   },
   {
    "duration": 73,
    "start_time": "2022-04-04T13:15:27.389Z"
   },
   {
    "duration": 16,
    "start_time": "2022-04-04T13:15:27.463Z"
   },
   {
    "duration": 16,
    "start_time": "2022-04-04T13:15:27.481Z"
   },
   {
    "duration": 35,
    "start_time": "2022-04-04T13:15:27.499Z"
   },
   {
    "duration": 14,
    "start_time": "2022-04-04T13:15:27.536Z"
   },
   {
    "duration": 17,
    "start_time": "2022-04-04T13:15:27.552Z"
   },
   {
    "duration": 5,
    "start_time": "2022-04-04T13:15:27.571Z"
   },
   {
    "duration": 8,
    "start_time": "2022-04-04T13:15:27.578Z"
   },
   {
    "duration": 53,
    "start_time": "2022-04-04T13:15:27.588Z"
   },
   {
    "duration": 5,
    "start_time": "2022-04-04T14:06:53.963Z"
   },
   {
    "duration": 83,
    "start_time": "2022-04-04T14:10:48.952Z"
   },
   {
    "duration": 16,
    "start_time": "2022-04-04T14:10:49.037Z"
   },
   {
    "duration": 5,
    "start_time": "2022-04-04T14:10:49.054Z"
   },
   {
    "duration": 7,
    "start_time": "2022-04-04T14:10:49.060Z"
   },
   {
    "duration": 8,
    "start_time": "2022-04-04T14:10:49.069Z"
   },
   {
    "duration": 8,
    "start_time": "2022-04-04T14:10:49.078Z"
   },
   {
    "duration": 6,
    "start_time": "2022-04-04T14:10:49.088Z"
   },
   {
    "duration": 37,
    "start_time": "2022-04-04T14:10:49.095Z"
   },
   {
    "duration": 11,
    "start_time": "2022-04-04T14:10:49.133Z"
   },
   {
    "duration": 8,
    "start_time": "2022-04-04T14:10:49.145Z"
   },
   {
    "duration": 10,
    "start_time": "2022-04-04T14:10:49.155Z"
   },
   {
    "duration": 6,
    "start_time": "2022-04-04T14:10:49.166Z"
   },
   {
    "duration": 8,
    "start_time": "2022-04-04T14:10:49.174Z"
   },
   {
    "duration": 18,
    "start_time": "2022-04-04T14:10:49.185Z"
   },
   {
    "duration": 6,
    "start_time": "2022-04-04T14:10:49.231Z"
   },
   {
    "duration": 20,
    "start_time": "2022-04-04T14:10:49.239Z"
   },
   {
    "duration": 9,
    "start_time": "2022-04-04T14:10:49.261Z"
   },
   {
    "duration": 21,
    "start_time": "2022-04-04T14:10:49.271Z"
   },
   {
    "duration": 48,
    "start_time": "2022-04-04T14:10:49.293Z"
   },
   {
    "duration": 4,
    "start_time": "2022-04-04T14:10:49.343Z"
   },
   {
    "duration": 40,
    "start_time": "2022-04-04T14:10:49.348Z"
   },
   {
    "duration": 17,
    "start_time": "2022-04-04T14:10:49.389Z"
   },
   {
    "duration": 15,
    "start_time": "2022-04-04T14:10:49.432Z"
   },
   {
    "duration": 16,
    "start_time": "2022-04-04T14:10:49.448Z"
   },
   {
    "duration": 12,
    "start_time": "2022-04-04T14:10:49.465Z"
   },
   {
    "duration": 12,
    "start_time": "2022-04-04T14:10:49.479Z"
   },
   {
    "duration": 38,
    "start_time": "2022-04-04T14:10:49.493Z"
   },
   {
    "duration": 10,
    "start_time": "2022-04-04T14:10:49.533Z"
   },
   {
    "duration": 27,
    "start_time": "2022-04-04T14:10:49.545Z"
   },
   {
    "duration": 4,
    "start_time": "2022-04-04T14:10:49.574Z"
   },
   {
    "duration": 164,
    "start_time": "2022-04-04T14:10:49.580Z"
   },
   {
    "duration": 0,
    "start_time": "2022-04-04T14:10:49.746Z"
   },
   {
    "duration": 83,
    "start_time": "2022-04-04T14:11:08.509Z"
   },
   {
    "duration": 38,
    "start_time": "2022-04-04T14:11:08.594Z"
   },
   {
    "duration": 4,
    "start_time": "2022-04-04T14:11:08.634Z"
   },
   {
    "duration": 7,
    "start_time": "2022-04-04T14:11:08.640Z"
   },
   {
    "duration": 7,
    "start_time": "2022-04-04T14:11:08.648Z"
   },
   {
    "duration": 7,
    "start_time": "2022-04-04T14:11:08.656Z"
   },
   {
    "duration": 7,
    "start_time": "2022-04-04T14:11:08.664Z"
   },
   {
    "duration": 7,
    "start_time": "2022-04-04T14:11:08.672Z"
   },
   {
    "duration": 12,
    "start_time": "2022-04-04T14:11:08.681Z"
   },
   {
    "duration": 6,
    "start_time": "2022-04-04T14:11:08.731Z"
   },
   {
    "duration": 12,
    "start_time": "2022-04-04T14:11:08.739Z"
   },
   {
    "duration": 8,
    "start_time": "2022-04-04T14:11:08.753Z"
   },
   {
    "duration": 8,
    "start_time": "2022-04-04T14:11:08.763Z"
   },
   {
    "duration": 14,
    "start_time": "2022-04-04T14:11:08.773Z"
   },
   {
    "duration": 5,
    "start_time": "2022-04-04T14:11:08.789Z"
   },
   {
    "duration": 48,
    "start_time": "2022-04-04T14:11:08.795Z"
   },
   {
    "duration": 5,
    "start_time": "2022-04-04T14:11:08.845Z"
   },
   {
    "duration": 22,
    "start_time": "2022-04-04T14:11:08.851Z"
   },
   {
    "duration": 18,
    "start_time": "2022-04-04T14:11:08.875Z"
   },
   {
    "duration": 4,
    "start_time": "2022-04-04T14:11:08.894Z"
   },
   {
    "duration": 63,
    "start_time": "2022-04-04T14:11:08.899Z"
   },
   {
    "duration": 16,
    "start_time": "2022-04-04T14:11:08.964Z"
   },
   {
    "duration": 15,
    "start_time": "2022-04-04T14:11:08.982Z"
   },
   {
    "duration": 42,
    "start_time": "2022-04-04T14:11:08.998Z"
   },
   {
    "duration": 12,
    "start_time": "2022-04-04T14:11:09.042Z"
   },
   {
    "duration": 11,
    "start_time": "2022-04-04T14:11:09.056Z"
   },
   {
    "duration": 6,
    "start_time": "2022-04-04T14:11:09.069Z"
   },
   {
    "duration": 5,
    "start_time": "2022-04-04T14:11:09.078Z"
   },
   {
    "duration": 22,
    "start_time": "2022-04-04T14:11:09.085Z"
   },
   {
    "duration": 4,
    "start_time": "2022-04-04T14:11:09.133Z"
   },
   {
    "duration": 9,
    "start_time": "2022-04-04T14:11:09.139Z"
   },
   {
    "duration": 4,
    "start_time": "2022-04-04T14:11:39.094Z"
   },
   {
    "duration": 5,
    "start_time": "2022-04-04T14:13:47.074Z"
   },
   {
    "duration": 5,
    "start_time": "2022-04-04T14:14:00.049Z"
   },
   {
    "duration": 84,
    "start_time": "2022-04-04T14:14:58.655Z"
   },
   {
    "duration": 17,
    "start_time": "2022-04-04T14:14:58.742Z"
   },
   {
    "duration": 4,
    "start_time": "2022-04-04T14:14:58.761Z"
   },
   {
    "duration": 9,
    "start_time": "2022-04-04T14:14:58.766Z"
   },
   {
    "duration": 6,
    "start_time": "2022-04-04T14:14:58.777Z"
   },
   {
    "duration": 7,
    "start_time": "2022-04-04T14:14:58.784Z"
   },
   {
    "duration": 6,
    "start_time": "2022-04-04T14:14:58.792Z"
   },
   {
    "duration": 32,
    "start_time": "2022-04-04T14:14:58.800Z"
   },
   {
    "duration": 10,
    "start_time": "2022-04-04T14:14:58.834Z"
   },
   {
    "duration": 5,
    "start_time": "2022-04-04T14:14:58.846Z"
   },
   {
    "duration": 10,
    "start_time": "2022-04-04T14:14:58.852Z"
   },
   {
    "duration": 6,
    "start_time": "2022-04-04T14:14:58.863Z"
   },
   {
    "duration": 9,
    "start_time": "2022-04-04T14:14:58.871Z"
   },
   {
    "duration": 51,
    "start_time": "2022-04-04T14:14:58.883Z"
   },
   {
    "duration": 6,
    "start_time": "2022-04-04T14:14:58.935Z"
   },
   {
    "duration": 18,
    "start_time": "2022-04-04T14:14:58.942Z"
   },
   {
    "duration": 7,
    "start_time": "2022-04-04T14:14:58.962Z"
   },
   {
    "duration": 20,
    "start_time": "2022-04-04T14:14:58.971Z"
   },
   {
    "duration": 48,
    "start_time": "2022-04-04T14:14:58.993Z"
   },
   {
    "duration": 3,
    "start_time": "2022-04-04T14:14:59.043Z"
   },
   {
    "duration": 36,
    "start_time": "2022-04-04T14:14:59.048Z"
   },
   {
    "duration": 16,
    "start_time": "2022-04-04T14:14:59.085Z"
   },
   {
    "duration": 39,
    "start_time": "2022-04-04T14:14:59.103Z"
   },
   {
    "duration": 14,
    "start_time": "2022-04-04T14:14:59.144Z"
   },
   {
    "duration": 12,
    "start_time": "2022-04-04T14:14:59.160Z"
   },
   {
    "duration": 12,
    "start_time": "2022-04-04T14:14:59.174Z"
   },
   {
    "duration": 5,
    "start_time": "2022-04-04T14:14:59.188Z"
   },
   {
    "duration": 40,
    "start_time": "2022-04-04T14:14:59.194Z"
   },
   {
    "duration": 21,
    "start_time": "2022-04-04T14:14:59.235Z"
   },
   {
    "duration": 4,
    "start_time": "2022-04-04T14:14:59.258Z"
   },
   {
    "duration": 9,
    "start_time": "2022-04-04T14:14:59.264Z"
   },
   {
    "duration": 27,
    "start_time": "2022-04-04T14:14:59.274Z"
   },
   {
    "duration": 15,
    "start_time": "2022-04-04T14:22:31.494Z"
   },
   {
    "duration": 79,
    "start_time": "2022-04-04T14:25:25.290Z"
   },
   {
    "duration": 17,
    "start_time": "2022-04-04T14:25:25.371Z"
   },
   {
    "duration": 5,
    "start_time": "2022-04-04T14:25:25.390Z"
   },
   {
    "duration": 10,
    "start_time": "2022-04-04T14:25:25.397Z"
   },
   {
    "duration": 27,
    "start_time": "2022-04-04T14:25:25.408Z"
   },
   {
    "duration": 9,
    "start_time": "2022-04-04T14:25:25.437Z"
   },
   {
    "duration": 12,
    "start_time": "2022-04-04T14:25:25.447Z"
   },
   {
    "duration": 7,
    "start_time": "2022-04-04T14:25:25.460Z"
   },
   {
    "duration": 11,
    "start_time": "2022-04-04T14:25:25.469Z"
   },
   {
    "duration": 6,
    "start_time": "2022-04-04T14:25:25.483Z"
   },
   {
    "duration": 10,
    "start_time": "2022-04-04T14:25:25.491Z"
   },
   {
    "duration": 7,
    "start_time": "2022-04-04T14:25:25.532Z"
   },
   {
    "duration": 13,
    "start_time": "2022-04-04T14:25:25.541Z"
   },
   {
    "duration": 18,
    "start_time": "2022-04-04T14:25:25.556Z"
   },
   {
    "duration": 5,
    "start_time": "2022-04-04T14:25:25.576Z"
   },
   {
    "duration": 20,
    "start_time": "2022-04-04T14:25:25.583Z"
   },
   {
    "duration": 31,
    "start_time": "2022-04-04T14:25:25.605Z"
   },
   {
    "duration": 20,
    "start_time": "2022-04-04T14:25:25.638Z"
   },
   {
    "duration": 20,
    "start_time": "2022-04-04T14:25:25.660Z"
   },
   {
    "duration": 4,
    "start_time": "2022-04-04T14:25:25.682Z"
   },
   {
    "duration": 68,
    "start_time": "2022-04-04T14:25:25.688Z"
   },
   {
    "duration": 17,
    "start_time": "2022-04-04T14:25:25.758Z"
   },
   {
    "duration": 17,
    "start_time": "2022-04-04T14:25:25.777Z"
   },
   {
    "duration": 40,
    "start_time": "2022-04-04T14:25:25.796Z"
   },
   {
    "duration": 13,
    "start_time": "2022-04-04T14:25:25.837Z"
   },
   {
    "duration": 13,
    "start_time": "2022-04-04T14:25:25.851Z"
   },
   {
    "duration": 4,
    "start_time": "2022-04-04T14:25:25.866Z"
   },
   {
    "duration": 6,
    "start_time": "2022-04-04T14:25:25.873Z"
   },
   {
    "duration": 53,
    "start_time": "2022-04-04T14:25:25.880Z"
   },
   {
    "duration": 4,
    "start_time": "2022-04-04T14:25:25.935Z"
   },
   {
    "duration": 11,
    "start_time": "2022-04-04T14:25:25.941Z"
   },
   {
    "duration": 21,
    "start_time": "2022-04-04T14:25:25.954Z"
   },
   {
    "duration": 16,
    "start_time": "2022-04-04T14:38:48.135Z"
   },
   {
    "duration": 6,
    "start_time": "2022-04-04T14:40:19.750Z"
   },
   {
    "duration": 4,
    "start_time": "2022-04-04T14:53:41.115Z"
   },
   {
    "duration": 7,
    "start_time": "2022-04-04T14:58:11.322Z"
   },
   {
    "duration": 6,
    "start_time": "2022-04-04T14:58:39.892Z"
   },
   {
    "duration": 6,
    "start_time": "2022-04-04T15:03:38.034Z"
   },
   {
    "duration": 11,
    "start_time": "2022-04-04T15:07:14.741Z"
   },
   {
    "duration": 72,
    "start_time": "2022-04-04T15:07:49.725Z"
   },
   {
    "duration": 15,
    "start_time": "2022-04-04T15:07:49.799Z"
   },
   {
    "duration": 6,
    "start_time": "2022-04-04T15:07:49.815Z"
   },
   {
    "duration": 3,
    "start_time": "2022-04-04T15:07:49.832Z"
   },
   {
    "duration": 8,
    "start_time": "2022-04-04T15:07:49.838Z"
   },
   {
    "duration": 7,
    "start_time": "2022-04-04T15:07:49.847Z"
   },
   {
    "duration": 11,
    "start_time": "2022-04-04T15:07:49.856Z"
   },
   {
    "duration": 13,
    "start_time": "2022-04-04T15:07:49.869Z"
   },
   {
    "duration": 7,
    "start_time": "2022-04-04T15:07:49.884Z"
   },
   {
    "duration": 7,
    "start_time": "2022-04-04T15:07:49.893Z"
   },
   {
    "duration": 11,
    "start_time": "2022-04-04T15:07:57.065Z"
   },
   {
    "duration": 16,
    "start_time": "2022-04-04T15:10:03.623Z"
   },
   {
    "duration": 7,
    "start_time": "2022-04-04T15:11:00.208Z"
   },
   {
    "duration": 8,
    "start_time": "2022-04-04T15:12:11.122Z"
   },
   {
    "duration": 4,
    "start_time": "2022-04-04T15:14:33.276Z"
   },
   {
    "duration": 6,
    "start_time": "2022-04-04T15:15:45.697Z"
   },
   {
    "duration": 8,
    "start_time": "2022-04-04T15:15:52.948Z"
   },
   {
    "duration": 7,
    "start_time": "2022-04-04T15:15:58.969Z"
   },
   {
    "duration": 6,
    "start_time": "2022-04-04T15:19:08.098Z"
   },
   {
    "duration": 83,
    "start_time": "2022-04-04T15:24:44.278Z"
   },
   {
    "duration": 15,
    "start_time": "2022-04-04T15:24:44.363Z"
   },
   {
    "duration": 5,
    "start_time": "2022-04-04T15:24:44.380Z"
   },
   {
    "duration": 9,
    "start_time": "2022-04-04T15:24:44.386Z"
   },
   {
    "duration": 12,
    "start_time": "2022-04-04T15:24:44.398Z"
   },
   {
    "duration": 5,
    "start_time": "2022-04-04T15:24:44.432Z"
   },
   {
    "duration": 7,
    "start_time": "2022-04-04T15:24:44.438Z"
   },
   {
    "duration": 7,
    "start_time": "2022-04-04T15:24:44.447Z"
   },
   {
    "duration": 9,
    "start_time": "2022-04-04T15:24:44.456Z"
   },
   {
    "duration": 7,
    "start_time": "2022-04-04T15:24:44.467Z"
   },
   {
    "duration": 9,
    "start_time": "2022-04-04T15:24:44.475Z"
   },
   {
    "duration": 8,
    "start_time": "2022-04-04T15:24:44.486Z"
   },
   {
    "duration": 37,
    "start_time": "2022-04-04T15:24:44.495Z"
   },
   {
    "duration": 6,
    "start_time": "2022-04-04T15:26:15.218Z"
   },
   {
    "duration": 6,
    "start_time": "2022-04-04T15:27:18.538Z"
   },
   {
    "duration": 6,
    "start_time": "2022-04-04T15:27:54.978Z"
   },
   {
    "duration": 7,
    "start_time": "2022-04-04T15:49:41.793Z"
   },
   {
    "duration": 16,
    "start_time": "2022-04-04T15:52:10.334Z"
   },
   {
    "duration": 5,
    "start_time": "2022-04-04T15:53:35.838Z"
   },
   {
    "duration": 79,
    "start_time": "2022-04-04T16:03:18.533Z"
   },
   {
    "duration": 16,
    "start_time": "2022-04-04T16:03:18.614Z"
   },
   {
    "duration": 4,
    "start_time": "2022-04-04T16:03:18.632Z"
   },
   {
    "duration": 12,
    "start_time": "2022-04-04T16:03:18.638Z"
   },
   {
    "duration": 11,
    "start_time": "2022-04-04T16:03:18.653Z"
   },
   {
    "duration": 7,
    "start_time": "2022-04-04T16:03:18.665Z"
   },
   {
    "duration": 5,
    "start_time": "2022-04-04T16:03:18.674Z"
   },
   {
    "duration": 7,
    "start_time": "2022-04-04T16:03:18.681Z"
   },
   {
    "duration": 12,
    "start_time": "2022-04-04T16:03:18.689Z"
   },
   {
    "duration": 30,
    "start_time": "2022-04-04T16:03:18.703Z"
   },
   {
    "duration": 10,
    "start_time": "2022-04-04T16:03:18.735Z"
   },
   {
    "duration": 6,
    "start_time": "2022-04-04T16:03:18.747Z"
   },
   {
    "duration": 6,
    "start_time": "2022-04-04T16:03:18.754Z"
   },
   {
    "duration": 7,
    "start_time": "2022-04-04T16:03:18.763Z"
   },
   {
    "duration": 11,
    "start_time": "2022-04-04T16:03:18.771Z"
   },
   {
    "duration": 18,
    "start_time": "2022-04-04T16:03:18.783Z"
   },
   {
    "duration": 7,
    "start_time": "2022-04-04T16:03:18.831Z"
   },
   {
    "duration": 669,
    "start_time": "2022-04-04T16:05:56.496Z"
   },
   {
    "duration": 12,
    "start_time": "2022-04-04T16:07:35.950Z"
   },
   {
    "duration": 197,
    "start_time": "2022-04-04T16:08:05.435Z"
   },
   {
    "duration": 1914,
    "start_time": "2022-04-04T16:08:10.790Z"
   },
   {
    "duration": 1676,
    "start_time": "2022-04-04T16:14:09.814Z"
   },
   {
    "duration": 6,
    "start_time": "2022-04-04T16:15:00.496Z"
   },
   {
    "duration": 7,
    "start_time": "2022-04-04T16:15:12.523Z"
   },
   {
    "duration": 9,
    "start_time": "2022-04-04T16:15:20.535Z"
   },
   {
    "duration": 9,
    "start_time": "2022-04-04T16:16:52.132Z"
   },
   {
    "duration": 11,
    "start_time": "2022-04-04T16:18:36.283Z"
   },
   {
    "duration": 14,
    "start_time": "2022-04-04T16:19:34.151Z"
   },
   {
    "duration": 21,
    "start_time": "2022-04-04T16:19:57.352Z"
   },
   {
    "duration": 14,
    "start_time": "2022-04-04T16:22:43.629Z"
   },
   {
    "duration": 12,
    "start_time": "2022-04-04T16:31:25.612Z"
   },
   {
    "duration": 69,
    "start_time": "2022-04-04T16:31:38.653Z"
   },
   {
    "duration": 54,
    "start_time": "2022-04-04T16:31:38.724Z"
   },
   {
    "duration": 4,
    "start_time": "2022-04-04T16:31:38.780Z"
   },
   {
    "duration": 14,
    "start_time": "2022-04-04T16:31:38.786Z"
   },
   {
    "duration": 10,
    "start_time": "2022-04-04T16:31:38.802Z"
   },
   {
    "duration": 8,
    "start_time": "2022-04-04T16:31:38.813Z"
   },
   {
    "duration": 4,
    "start_time": "2022-04-04T16:31:38.831Z"
   },
   {
    "duration": 7,
    "start_time": "2022-04-04T16:31:38.837Z"
   },
   {
    "duration": 10,
    "start_time": "2022-04-04T16:31:38.846Z"
   },
   {
    "duration": 6,
    "start_time": "2022-04-04T16:31:38.858Z"
   },
   {
    "duration": 10,
    "start_time": "2022-04-04T16:31:38.866Z"
   },
   {
    "duration": 6,
    "start_time": "2022-04-04T16:31:38.878Z"
   },
   {
    "duration": 7,
    "start_time": "2022-04-04T16:31:38.885Z"
   },
   {
    "duration": 44,
    "start_time": "2022-04-04T16:31:38.895Z"
   },
   {
    "duration": 7,
    "start_time": "2022-04-04T16:31:38.941Z"
   },
   {
    "duration": 24,
    "start_time": "2022-04-04T16:31:38.950Z"
   },
   {
    "duration": 6,
    "start_time": "2022-04-04T16:31:38.975Z"
   },
   {
    "duration": 14,
    "start_time": "2022-04-04T16:31:38.983Z"
   },
   {
    "duration": 38,
    "start_time": "2022-04-04T16:31:38.999Z"
   },
   {
    "duration": 70,
    "start_time": "2022-04-04T16:32:30.071Z"
   },
   {
    "duration": 16,
    "start_time": "2022-04-04T16:32:30.143Z"
   },
   {
    "duration": 9,
    "start_time": "2022-04-04T16:32:30.160Z"
   },
   {
    "duration": 23,
    "start_time": "2022-04-04T16:32:30.170Z"
   },
   {
    "duration": 9,
    "start_time": "2022-04-04T16:32:30.196Z"
   },
   {
    "duration": 9,
    "start_time": "2022-04-04T16:32:30.207Z"
   },
   {
    "duration": 27,
    "start_time": "2022-04-04T16:32:30.217Z"
   },
   {
    "duration": 14,
    "start_time": "2022-04-04T16:32:30.246Z"
   },
   {
    "duration": 8,
    "start_time": "2022-04-04T16:32:30.261Z"
   },
   {
    "duration": 9,
    "start_time": "2022-04-04T16:32:30.271Z"
   },
   {
    "duration": 23,
    "start_time": "2022-04-04T16:32:30.282Z"
   },
   {
    "duration": 10,
    "start_time": "2022-04-04T16:32:30.307Z"
   },
   {
    "duration": 6,
    "start_time": "2022-04-04T16:32:30.319Z"
   },
   {
    "duration": 17,
    "start_time": "2022-04-04T16:32:30.327Z"
   },
   {
    "duration": 12,
    "start_time": "2022-04-04T16:32:30.345Z"
   },
   {
    "duration": 26,
    "start_time": "2022-04-04T16:32:30.359Z"
   },
   {
    "duration": 23,
    "start_time": "2022-04-04T16:32:30.387Z"
   },
   {
    "duration": 27,
    "start_time": "2022-04-04T16:32:30.411Z"
   },
   {
    "duration": 25,
    "start_time": "2022-04-04T16:32:30.439Z"
   },
   {
    "duration": 6,
    "start_time": "2022-04-04T16:33:08.370Z"
   },
   {
    "duration": 71,
    "start_time": "2022-04-04T16:34:57.469Z"
   },
   {
    "duration": 17,
    "start_time": "2022-04-04T16:34:57.543Z"
   },
   {
    "duration": 5,
    "start_time": "2022-04-04T16:34:57.562Z"
   },
   {
    "duration": 8,
    "start_time": "2022-04-04T16:34:57.570Z"
   },
   {
    "duration": 7,
    "start_time": "2022-04-04T16:34:57.580Z"
   },
   {
    "duration": 8,
    "start_time": "2022-04-04T16:34:57.589Z"
   },
   {
    "duration": 34,
    "start_time": "2022-04-04T16:34:57.598Z"
   },
   {
    "duration": 8,
    "start_time": "2022-04-04T16:34:57.635Z"
   },
   {
    "duration": 7,
    "start_time": "2022-04-04T16:34:57.645Z"
   },
   {
    "duration": 7,
    "start_time": "2022-04-04T16:34:57.655Z"
   },
   {
    "duration": 9,
    "start_time": "2022-04-04T16:34:57.664Z"
   },
   {
    "duration": 7,
    "start_time": "2022-04-04T16:34:57.675Z"
   },
   {
    "duration": 49,
    "start_time": "2022-04-04T16:34:57.684Z"
   },
   {
    "duration": 7,
    "start_time": "2022-04-04T16:34:57.735Z"
   },
   {
    "duration": 6,
    "start_time": "2022-04-04T16:34:57.744Z"
   },
   {
    "duration": 18,
    "start_time": "2022-04-04T16:34:57.752Z"
   },
   {
    "duration": 7,
    "start_time": "2022-04-04T16:34:57.772Z"
   },
   {
    "duration": 53,
    "start_time": "2022-04-04T16:34:57.780Z"
   },
   {
    "duration": 13,
    "start_time": "2022-04-04T16:34:57.835Z"
   },
   {
    "duration": 8,
    "start_time": "2022-04-04T16:34:57.850Z"
   },
   {
    "duration": 12,
    "start_time": "2022-04-04T16:34:57.860Z"
   },
   {
    "duration": 10,
    "start_time": "2022-04-04T16:34:57.874Z"
   },
   {
    "duration": 9,
    "start_time": "2022-04-04T16:34:57.886Z"
   },
   {
    "duration": 38,
    "start_time": "2022-04-04T16:34:57.897Z"
   },
   {
    "duration": 16,
    "start_time": "2022-04-04T16:34:57.937Z"
   },
   {
    "duration": 18,
    "start_time": "2022-04-04T16:34:57.954Z"
   },
   {
    "duration": 82,
    "start_time": "2022-04-04T16:39:15.737Z"
   },
   {
    "duration": 15,
    "start_time": "2022-04-04T16:39:15.821Z"
   },
   {
    "duration": 12,
    "start_time": "2022-04-04T16:39:15.838Z"
   },
   {
    "duration": 14,
    "start_time": "2022-04-04T16:39:15.852Z"
   },
   {
    "duration": 16,
    "start_time": "2022-04-04T16:39:15.869Z"
   },
   {
    "duration": 19,
    "start_time": "2022-04-04T16:39:15.887Z"
   },
   {
    "duration": 10,
    "start_time": "2022-04-04T16:39:15.908Z"
   },
   {
    "duration": 12,
    "start_time": "2022-04-04T16:39:15.920Z"
   },
   {
    "duration": 15,
    "start_time": "2022-04-04T16:39:15.934Z"
   },
   {
    "duration": 11,
    "start_time": "2022-04-04T16:39:15.951Z"
   },
   {
    "duration": 16,
    "start_time": "2022-04-04T16:39:15.965Z"
   },
   {
    "duration": 11,
    "start_time": "2022-04-04T16:39:15.983Z"
   },
   {
    "duration": 11,
    "start_time": "2022-04-04T16:39:15.996Z"
   },
   {
    "duration": 20,
    "start_time": "2022-04-04T16:39:16.010Z"
   },
   {
    "duration": 20,
    "start_time": "2022-04-04T16:39:16.032Z"
   },
   {
    "duration": 22,
    "start_time": "2022-04-04T16:39:16.054Z"
   },
   {
    "duration": 19,
    "start_time": "2022-04-04T16:39:16.078Z"
   },
   {
    "duration": 17,
    "start_time": "2022-04-04T16:39:16.099Z"
   },
   {
    "duration": 17,
    "start_time": "2022-04-04T16:39:16.119Z"
   },
   {
    "duration": 12,
    "start_time": "2022-04-04T16:39:16.138Z"
   },
   {
    "duration": 15,
    "start_time": "2022-04-04T16:39:16.153Z"
   },
   {
    "duration": 8,
    "start_time": "2022-04-04T16:39:16.170Z"
   },
   {
    "duration": 13,
    "start_time": "2022-04-04T16:39:16.180Z"
   },
   {
    "duration": 9,
    "start_time": "2022-04-04T16:39:16.195Z"
   },
   {
    "duration": 31,
    "start_time": "2022-04-04T16:39:16.206Z"
   },
   {
    "duration": 24,
    "start_time": "2022-04-04T16:39:16.240Z"
   },
   {
    "duration": 7,
    "start_time": "2022-04-04T16:41:11.680Z"
   },
   {
    "duration": 74,
    "start_time": "2022-04-04T16:42:30.645Z"
   },
   {
    "duration": 18,
    "start_time": "2022-04-04T16:42:30.722Z"
   },
   {
    "duration": 5,
    "start_time": "2022-04-04T16:42:30.741Z"
   },
   {
    "duration": 15,
    "start_time": "2022-04-04T16:42:30.748Z"
   },
   {
    "duration": 8,
    "start_time": "2022-04-04T16:42:30.765Z"
   },
   {
    "duration": 32,
    "start_time": "2022-04-04T16:42:30.775Z"
   },
   {
    "duration": 11,
    "start_time": "2022-04-04T16:42:30.809Z"
   },
   {
    "duration": 21,
    "start_time": "2022-04-04T16:42:30.821Z"
   },
   {
    "duration": 14,
    "start_time": "2022-04-04T16:42:30.843Z"
   },
   {
    "duration": 13,
    "start_time": "2022-04-04T16:42:30.859Z"
   },
   {
    "duration": 15,
    "start_time": "2022-04-04T16:42:30.874Z"
   },
   {
    "duration": 22,
    "start_time": "2022-04-04T16:42:30.891Z"
   },
   {
    "duration": 11,
    "start_time": "2022-04-04T16:42:30.914Z"
   },
   {
    "duration": 16,
    "start_time": "2022-04-04T16:42:30.929Z"
   },
   {
    "duration": 19,
    "start_time": "2022-04-04T16:42:30.946Z"
   },
   {
    "duration": 24,
    "start_time": "2022-04-04T16:42:30.967Z"
   },
   {
    "duration": 9,
    "start_time": "2022-04-04T16:42:30.992Z"
   },
   {
    "duration": 17,
    "start_time": "2022-04-04T16:42:31.003Z"
   },
   {
    "duration": 22,
    "start_time": "2022-04-04T16:42:31.022Z"
   },
   {
    "duration": 17,
    "start_time": "2022-04-04T16:42:31.045Z"
   },
   {
    "duration": 39,
    "start_time": "2022-04-04T16:42:31.063Z"
   },
   {
    "duration": 26,
    "start_time": "2022-04-04T16:42:31.103Z"
   },
   {
    "duration": 30,
    "start_time": "2022-04-04T16:42:31.131Z"
   },
   {
    "duration": 16,
    "start_time": "2022-04-04T16:42:31.163Z"
   },
   {
    "duration": 10,
    "start_time": "2022-04-04T16:42:31.181Z"
   },
   {
    "duration": 17,
    "start_time": "2022-04-04T16:42:31.193Z"
   },
   {
    "duration": 11,
    "start_time": "2022-04-04T16:42:31.211Z"
   },
   {
    "duration": 13,
    "start_time": "2022-04-04T16:42:31.224Z"
   },
   {
    "duration": 27,
    "start_time": "2022-04-04T16:42:31.239Z"
   },
   {
    "duration": 34,
    "start_time": "2022-04-04T16:42:31.268Z"
   },
   {
    "duration": 4,
    "start_time": "2022-04-04T16:42:31.304Z"
   },
   {
    "duration": 44,
    "start_time": "2022-04-04T16:42:31.310Z"
   },
   {
    "duration": 17,
    "start_time": "2022-04-04T16:42:31.357Z"
   },
   {
    "duration": 21,
    "start_time": "2022-04-04T16:42:31.376Z"
   },
   {
    "duration": 18,
    "start_time": "2022-04-04T16:42:31.399Z"
   },
   {
    "duration": 23,
    "start_time": "2022-04-04T16:42:31.419Z"
   },
   {
    "duration": 17,
    "start_time": "2022-04-04T16:42:31.444Z"
   },
   {
    "duration": 8,
    "start_time": "2022-04-04T16:42:31.463Z"
   },
   {
    "duration": 7,
    "start_time": "2022-04-04T16:42:31.473Z"
   },
   {
    "duration": 27,
    "start_time": "2022-04-04T16:42:31.482Z"
   },
   {
    "duration": 4,
    "start_time": "2022-04-04T16:42:31.512Z"
   },
   {
    "duration": 5,
    "start_time": "2022-04-04T16:42:31.531Z"
   },
   {
    "duration": 32,
    "start_time": "2022-04-04T16:42:31.538Z"
   },
   {
    "duration": 7,
    "start_time": "2022-04-04T16:43:43.910Z"
   },
   {
    "duration": 7,
    "start_time": "2022-04-04T17:04:48.954Z"
   },
   {
    "duration": 10,
    "start_time": "2022-04-04T17:09:06.464Z"
   },
   {
    "duration": 1412,
    "start_time": "2022-04-04T17:09:23.715Z"
   },
   {
    "duration": 6,
    "start_time": "2022-04-04T17:09:35.395Z"
   },
   {
    "duration": 6,
    "start_time": "2022-04-04T17:10:09.673Z"
   },
   {
    "duration": 7,
    "start_time": "2022-04-04T17:32:57.165Z"
   },
   {
    "duration": 9,
    "start_time": "2022-04-04T17:39:10.278Z"
   },
   {
    "duration": 191,
    "start_time": "2022-04-04T17:40:36.525Z"
   },
   {
    "duration": 20,
    "start_time": "2022-04-04T17:43:58.441Z"
   },
   {
    "duration": 22,
    "start_time": "2022-04-04T17:44:23.848Z"
   },
   {
    "duration": 16,
    "start_time": "2022-04-04T17:45:30.079Z"
   },
   {
    "duration": 7,
    "start_time": "2022-04-04T17:57:20.534Z"
   },
   {
    "duration": 6,
    "start_time": "2022-04-04T17:57:58.148Z"
   },
   {
    "duration": 7,
    "start_time": "2022-04-04T17:58:15.770Z"
   },
   {
    "duration": 17,
    "start_time": "2022-04-04T17:58:41.439Z"
   },
   {
    "duration": 10,
    "start_time": "2022-04-04T17:58:58.779Z"
   },
   {
    "duration": 8,
    "start_time": "2022-04-04T17:59:27.851Z"
   },
   {
    "duration": 16,
    "start_time": "2022-04-04T18:12:51.417Z"
   },
   {
    "duration": 18,
    "start_time": "2022-04-04T18:23:36.472Z"
   },
   {
    "duration": 19,
    "start_time": "2022-04-04T18:24:05.836Z"
   },
   {
    "duration": 34,
    "start_time": "2022-04-04T18:24:55.935Z"
   },
   {
    "duration": 76,
    "start_time": "2022-04-04T18:26:00.853Z"
   },
   {
    "duration": 17,
    "start_time": "2022-04-04T18:26:00.931Z"
   },
   {
    "duration": 21,
    "start_time": "2022-04-04T18:26:00.950Z"
   },
   {
    "duration": 32,
    "start_time": "2022-04-04T18:26:00.973Z"
   },
   {
    "duration": 21,
    "start_time": "2022-04-04T18:26:01.007Z"
   },
   {
    "duration": 19,
    "start_time": "2022-04-04T18:26:01.030Z"
   },
   {
    "duration": 14,
    "start_time": "2022-04-04T18:26:01.052Z"
   },
   {
    "duration": 11,
    "start_time": "2022-04-04T18:26:01.068Z"
   },
   {
    "duration": 16,
    "start_time": "2022-04-04T18:26:01.081Z"
   },
   {
    "duration": 8,
    "start_time": "2022-04-04T18:26:01.099Z"
   },
   {
    "duration": 25,
    "start_time": "2022-04-04T18:26:01.110Z"
   },
   {
    "duration": 9,
    "start_time": "2022-04-04T18:26:01.137Z"
   },
   {
    "duration": 8,
    "start_time": "2022-04-04T18:26:01.149Z"
   },
   {
    "duration": 7,
    "start_time": "2022-04-04T18:26:01.163Z"
   },
   {
    "duration": 18,
    "start_time": "2022-04-04T18:26:01.172Z"
   },
   {
    "duration": 46,
    "start_time": "2022-04-04T18:26:01.192Z"
   },
   {
    "duration": 6,
    "start_time": "2022-04-04T18:26:01.240Z"
   },
   {
    "duration": 26,
    "start_time": "2022-04-04T18:26:01.248Z"
   },
   {
    "duration": 32,
    "start_time": "2022-04-04T18:26:01.276Z"
   },
   {
    "duration": 11,
    "start_time": "2022-04-04T18:26:01.310Z"
   },
   {
    "duration": 16,
    "start_time": "2022-04-04T18:26:01.322Z"
   },
   {
    "duration": 13,
    "start_time": "2022-04-04T18:26:01.339Z"
   },
   {
    "duration": 10,
    "start_time": "2022-04-04T18:26:01.354Z"
   },
   {
    "duration": 6,
    "start_time": "2022-04-04T18:26:01.365Z"
   },
   {
    "duration": 14,
    "start_time": "2022-04-04T18:26:01.373Z"
   },
   {
    "duration": 23,
    "start_time": "2022-04-04T18:26:01.389Z"
   },
   {
    "duration": 49,
    "start_time": "2022-04-04T18:26:01.415Z"
   },
   {
    "duration": 6,
    "start_time": "2022-04-04T18:26:01.466Z"
   },
   {
    "duration": 13,
    "start_time": "2022-04-04T18:26:01.473Z"
   },
   {
    "duration": 46,
    "start_time": "2022-04-04T18:26:01.488Z"
   },
   {
    "duration": 18,
    "start_time": "2022-04-04T18:26:01.536Z"
   },
   {
    "duration": 5,
    "start_time": "2022-04-04T18:26:01.556Z"
   },
   {
    "duration": 53,
    "start_time": "2022-04-04T18:26:01.563Z"
   },
   {
    "duration": 25,
    "start_time": "2022-04-04T18:26:01.618Z"
   },
   {
    "duration": 16,
    "start_time": "2022-04-04T18:26:01.645Z"
   },
   {
    "duration": 23,
    "start_time": "2022-04-04T18:26:01.663Z"
   },
   {
    "duration": 27,
    "start_time": "2022-04-04T18:26:01.688Z"
   },
   {
    "duration": 25,
    "start_time": "2022-04-04T18:26:01.717Z"
   },
   {
    "duration": 8,
    "start_time": "2022-04-04T18:26:01.744Z"
   },
   {
    "duration": 15,
    "start_time": "2022-04-04T18:26:01.754Z"
   },
   {
    "duration": 41,
    "start_time": "2022-04-04T18:26:01.773Z"
   },
   {
    "duration": 35,
    "start_time": "2022-04-04T18:26:01.816Z"
   },
   {
    "duration": 16,
    "start_time": "2022-04-04T18:26:01.853Z"
   },
   {
    "duration": 43,
    "start_time": "2022-04-04T18:26:01.872Z"
   },
   {
    "duration": 14,
    "start_time": "2022-04-04T18:51:31.214Z"
   },
   {
    "duration": 17,
    "start_time": "2022-04-04T18:52:07.517Z"
   },
   {
    "duration": 11,
    "start_time": "2022-04-04T18:57:59.642Z"
   },
   {
    "duration": 10,
    "start_time": "2022-04-04T18:59:01.348Z"
   },
   {
    "duration": 8,
    "start_time": "2022-04-04T18:59:51.489Z"
   },
   {
    "duration": 9,
    "start_time": "2022-04-04T18:59:58.254Z"
   },
   {
    "duration": 2035,
    "start_time": "2022-04-04T19:02:16.893Z"
   },
   {
    "duration": 18,
    "start_time": "2022-04-04T19:02:58.951Z"
   },
   {
    "duration": 5,
    "start_time": "2022-04-04T19:03:49.391Z"
   },
   {
    "duration": 11,
    "start_time": "2022-04-04T19:04:00.108Z"
   },
   {
    "duration": 10,
    "start_time": "2022-04-04T19:04:36.911Z"
   },
   {
    "duration": 177,
    "start_time": "2022-04-04T19:04:55.797Z"
   },
   {
    "duration": 12,
    "start_time": "2022-04-04T19:05:01.632Z"
   },
   {
    "duration": 11,
    "start_time": "2022-04-04T19:05:15.532Z"
   },
   {
    "duration": 174,
    "start_time": "2022-04-04T19:08:02.605Z"
   },
   {
    "duration": 26,
    "start_time": "2022-04-04T19:08:51.045Z"
   },
   {
    "duration": 19,
    "start_time": "2022-04-04T19:09:02.296Z"
   },
   {
    "duration": 19,
    "start_time": "2022-04-04T19:10:04.263Z"
   },
   {
    "duration": 19,
    "start_time": "2022-04-04T19:10:34.302Z"
   },
   {
    "duration": 161,
    "start_time": "2022-04-04T19:11:23.304Z"
   },
   {
    "duration": 20,
    "start_time": "2022-04-04T19:11:29.862Z"
   },
   {
    "duration": 10,
    "start_time": "2022-04-04T19:13:20.250Z"
   },
   {
    "duration": 19,
    "start_time": "2022-04-04T19:16:43.302Z"
   },
   {
    "duration": 9,
    "start_time": "2022-04-04T19:17:33.422Z"
   },
   {
    "duration": 10,
    "start_time": "2022-04-04T19:20:26.470Z"
   },
   {
    "duration": 10,
    "start_time": "2022-04-04T19:21:11.262Z"
   },
   {
    "duration": 13,
    "start_time": "2022-04-04T19:22:40.181Z"
   },
   {
    "duration": 72,
    "start_time": "2022-04-05T06:32:15.168Z"
   },
   {
    "duration": 601,
    "start_time": "2022-04-05T06:32:22.115Z"
   },
   {
    "duration": 22,
    "start_time": "2022-04-05T06:32:22.719Z"
   },
   {
    "duration": 32,
    "start_time": "2022-04-05T06:32:22.744Z"
   },
   {
    "duration": 8,
    "start_time": "2022-04-05T06:32:22.779Z"
   },
   {
    "duration": 9,
    "start_time": "2022-04-05T06:32:22.789Z"
   },
   {
    "duration": 6,
    "start_time": "2022-04-05T06:32:22.800Z"
   },
   {
    "duration": 6,
    "start_time": "2022-04-05T06:32:22.808Z"
   },
   {
    "duration": 6,
    "start_time": "2022-04-05T06:32:22.817Z"
   },
   {
    "duration": 53,
    "start_time": "2022-04-05T06:32:22.825Z"
   },
   {
    "duration": 9,
    "start_time": "2022-04-05T06:32:22.882Z"
   },
   {
    "duration": 18,
    "start_time": "2022-04-05T06:32:22.893Z"
   },
   {
    "duration": 9,
    "start_time": "2022-04-05T06:32:22.914Z"
   },
   {
    "duration": 49,
    "start_time": "2022-04-05T06:32:22.926Z"
   },
   {
    "duration": 9,
    "start_time": "2022-04-05T06:32:22.978Z"
   },
   {
    "duration": 7,
    "start_time": "2022-04-05T06:32:22.990Z"
   },
   {
    "duration": 24,
    "start_time": "2022-04-05T06:32:22.999Z"
   },
   {
    "duration": 50,
    "start_time": "2022-04-05T06:32:23.025Z"
   },
   {
    "duration": 19,
    "start_time": "2022-04-05T06:32:23.077Z"
   },
   {
    "duration": 21,
    "start_time": "2022-04-05T06:32:23.098Z"
   },
   {
    "duration": 8,
    "start_time": "2022-04-05T06:32:23.122Z"
   },
   {
    "duration": 47,
    "start_time": "2022-04-05T06:32:23.132Z"
   },
   {
    "duration": 7,
    "start_time": "2022-04-05T06:32:23.181Z"
   },
   {
    "duration": 8,
    "start_time": "2022-04-05T06:32:23.190Z"
   },
   {
    "duration": 8,
    "start_time": "2022-04-05T06:32:23.200Z"
   },
   {
    "duration": 12,
    "start_time": "2022-04-05T06:32:23.211Z"
   },
   {
    "duration": 60,
    "start_time": "2022-04-05T06:32:23.225Z"
   },
   {
    "duration": 51,
    "start_time": "2022-04-05T06:32:23.287Z"
   },
   {
    "duration": 31,
    "start_time": "2022-04-05T06:32:23.343Z"
   },
   {
    "duration": 7,
    "start_time": "2022-04-05T06:32:23.376Z"
   },
   {
    "duration": 29,
    "start_time": "2022-04-05T06:32:23.385Z"
   },
   {
    "duration": 23,
    "start_time": "2022-04-05T06:32:23.416Z"
   },
   {
    "duration": 34,
    "start_time": "2022-04-05T06:32:23.441Z"
   },
   {
    "duration": 51,
    "start_time": "2022-04-05T06:32:23.478Z"
   },
   {
    "duration": 46,
    "start_time": "2022-04-05T06:32:23.532Z"
   },
   {
    "duration": 22,
    "start_time": "2022-04-05T06:32:23.581Z"
   },
   {
    "duration": 31,
    "start_time": "2022-04-05T06:32:23.605Z"
   },
   {
    "duration": 40,
    "start_time": "2022-04-05T06:32:23.638Z"
   },
   {
    "duration": 16,
    "start_time": "2022-04-05T06:32:23.681Z"
   },
   {
    "duration": 8,
    "start_time": "2022-04-05T06:32:23.700Z"
   },
   {
    "duration": 11,
    "start_time": "2022-04-05T06:32:23.710Z"
   },
   {
    "duration": 63,
    "start_time": "2022-04-05T06:32:23.722Z"
   },
   {
    "duration": 8,
    "start_time": "2022-04-05T06:32:23.787Z"
   },
   {
    "duration": 9,
    "start_time": "2022-04-05T06:32:23.798Z"
   },
   {
    "duration": 29,
    "start_time": "2022-04-05T06:32:23.809Z"
   },
   {
    "duration": 27,
    "start_time": "2022-04-05T06:32:27.179Z"
   },
   {
    "duration": 8,
    "start_time": "2022-04-05T06:42:01.655Z"
   },
   {
    "duration": 20,
    "start_time": "2022-04-05T07:55:47.354Z"
   },
   {
    "duration": 6,
    "start_time": "2022-04-05T08:00:05.521Z"
   },
   {
    "duration": 27,
    "start_time": "2022-04-05T08:00:13.900Z"
   },
   {
    "duration": 27,
    "start_time": "2022-04-05T08:03:31.958Z"
   },
   {
    "duration": 27,
    "start_time": "2022-04-05T08:04:05.368Z"
   },
   {
    "duration": 16,
    "start_time": "2022-04-05T08:08:46.569Z"
   },
   {
    "duration": 83,
    "start_time": "2022-04-05T08:08:55.121Z"
   },
   {
    "duration": 21,
    "start_time": "2022-04-05T08:08:55.207Z"
   },
   {
    "duration": 6,
    "start_time": "2022-04-05T08:08:55.231Z"
   },
   {
    "duration": 6,
    "start_time": "2022-04-05T08:08:55.273Z"
   },
   {
    "duration": 8,
    "start_time": "2022-04-05T08:08:55.282Z"
   },
   {
    "duration": 7,
    "start_time": "2022-04-05T08:08:55.292Z"
   },
   {
    "duration": 8,
    "start_time": "2022-04-05T08:08:55.301Z"
   },
   {
    "duration": 7,
    "start_time": "2022-04-05T08:08:55.311Z"
   },
   {
    "duration": 55,
    "start_time": "2022-04-05T08:08:55.321Z"
   },
   {
    "duration": 7,
    "start_time": "2022-04-05T08:08:55.379Z"
   },
   {
    "duration": 10,
    "start_time": "2022-04-05T08:08:55.388Z"
   },
   {
    "duration": 7,
    "start_time": "2022-04-05T08:08:55.401Z"
   },
   {
    "duration": 7,
    "start_time": "2022-04-05T08:08:55.410Z"
   },
   {
    "duration": 8,
    "start_time": "2022-04-05T08:08:55.473Z"
   },
   {
    "duration": 9,
    "start_time": "2022-04-05T08:08:55.483Z"
   },
   {
    "duration": 21,
    "start_time": "2022-04-05T08:08:55.494Z"
   },
   {
    "duration": 8,
    "start_time": "2022-04-05T08:08:55.517Z"
   },
   {
    "duration": 59,
    "start_time": "2022-04-05T08:08:55.527Z"
   },
   {
    "duration": 14,
    "start_time": "2022-04-05T08:08:55.588Z"
   },
   {
    "duration": 14,
    "start_time": "2022-04-05T08:08:55.604Z"
   },
   {
    "duration": 18,
    "start_time": "2022-04-05T08:08:55.620Z"
   },
   {
    "duration": 36,
    "start_time": "2022-04-05T08:08:55.640Z"
   },
   {
    "duration": 10,
    "start_time": "2022-04-05T08:08:55.678Z"
   },
   {
    "duration": 7,
    "start_time": "2022-04-05T08:08:55.690Z"
   },
   {
    "duration": 9,
    "start_time": "2022-04-05T08:08:55.699Z"
   },
   {
    "duration": 65,
    "start_time": "2022-04-05T08:08:55.710Z"
   },
   {
    "duration": 47,
    "start_time": "2022-04-05T08:08:55.777Z"
   },
   {
    "duration": 7,
    "start_time": "2022-04-05T08:08:55.826Z"
   },
   {
    "duration": 8,
    "start_time": "2022-04-05T08:08:55.835Z"
   },
   {
    "duration": 25,
    "start_time": "2022-04-05T08:08:55.874Z"
   },
   {
    "duration": 24,
    "start_time": "2022-04-05T08:08:55.901Z"
   },
   {
    "duration": 4,
    "start_time": "2022-04-05T08:08:55.928Z"
   },
   {
    "duration": 72,
    "start_time": "2022-04-05T08:08:55.934Z"
   },
   {
    "duration": 20,
    "start_time": "2022-04-05T08:08:56.008Z"
   },
   {
    "duration": 18,
    "start_time": "2022-04-05T08:08:56.030Z"
   },
   {
    "duration": 17,
    "start_time": "2022-04-05T08:08:56.074Z"
   },
   {
    "duration": 16,
    "start_time": "2022-04-05T08:08:56.093Z"
   },
   {
    "duration": 16,
    "start_time": "2022-04-05T08:08:56.111Z"
   },
   {
    "duration": 44,
    "start_time": "2022-04-05T08:08:56.129Z"
   },
   {
    "duration": 6,
    "start_time": "2022-04-05T08:08:56.175Z"
   },
   {
    "duration": 25,
    "start_time": "2022-04-05T08:08:56.186Z"
   },
   {
    "duration": 6,
    "start_time": "2022-04-05T08:08:56.213Z"
   },
   {
    "duration": 9,
    "start_time": "2022-04-05T08:08:56.221Z"
   },
   {
    "duration": 58,
    "start_time": "2022-04-05T08:08:56.232Z"
   },
   {
    "duration": 26,
    "start_time": "2022-04-05T08:08:56.292Z"
   },
   {
    "duration": 8,
    "start_time": "2022-04-05T08:08:56.320Z"
   },
   {
    "duration": 15,
    "start_time": "2022-04-05T08:09:06.090Z"
   },
   {
    "duration": 16,
    "start_time": "2022-04-05T08:13:05.736Z"
   },
   {
    "duration": 15,
    "start_time": "2022-04-05T08:13:41.089Z"
   },
   {
    "duration": 55,
    "start_time": "2022-04-05T08:29:29.533Z"
   },
   {
    "duration": 47,
    "start_time": "2022-04-05T08:39:08.595Z"
   },
   {
    "duration": 14,
    "start_time": "2022-04-05T08:43:28.050Z"
   },
   {
    "duration": 25,
    "start_time": "2022-04-05T08:54:15.949Z"
   },
   {
    "duration": 28,
    "start_time": "2022-04-05T08:56:58.930Z"
   },
   {
    "duration": 19,
    "start_time": "2022-04-05T09:03:17.881Z"
   },
   {
    "duration": 25,
    "start_time": "2022-04-05T09:23:44.773Z"
   },
   {
    "duration": 46,
    "start_time": "2022-04-05T09:34:09.252Z"
   },
   {
    "duration": 36,
    "start_time": "2022-04-05T09:46:40.305Z"
   },
   {
    "duration": 31,
    "start_time": "2022-04-05T09:46:51.075Z"
   },
   {
    "duration": 14,
    "start_time": "2022-04-05T09:53:21.335Z"
   },
   {
    "duration": 118,
    "start_time": "2022-04-05T10:02:36.207Z"
   },
   {
    "duration": 57,
    "start_time": "2022-04-05T10:02:36.329Z"
   },
   {
    "duration": 7,
    "start_time": "2022-04-05T10:02:36.388Z"
   },
   {
    "duration": 7,
    "start_time": "2022-04-05T10:02:36.397Z"
   },
   {
    "duration": 6,
    "start_time": "2022-04-05T10:02:36.407Z"
   },
   {
    "duration": 5,
    "start_time": "2022-04-05T10:02:36.415Z"
   },
   {
    "duration": 6,
    "start_time": "2022-04-05T10:02:36.422Z"
   },
   {
    "duration": 10,
    "start_time": "2022-04-05T10:02:36.474Z"
   },
   {
    "duration": 13,
    "start_time": "2022-04-05T10:02:36.488Z"
   },
   {
    "duration": 7,
    "start_time": "2022-04-05T10:02:36.504Z"
   },
   {
    "duration": 11,
    "start_time": "2022-04-05T10:02:36.513Z"
   },
   {
    "duration": 55,
    "start_time": "2022-04-05T10:02:36.526Z"
   },
   {
    "duration": 9,
    "start_time": "2022-04-05T10:02:36.583Z"
   },
   {
    "duration": 8,
    "start_time": "2022-04-05T10:02:36.598Z"
   },
   {
    "duration": 8,
    "start_time": "2022-04-05T10:02:36.609Z"
   },
   {
    "duration": 63,
    "start_time": "2022-04-05T10:02:36.619Z"
   },
   {
    "duration": 9,
    "start_time": "2022-04-05T10:02:36.684Z"
   },
   {
    "duration": 26,
    "start_time": "2022-04-05T10:02:36.695Z"
   },
   {
    "duration": 20,
    "start_time": "2022-04-05T10:02:36.723Z"
   },
   {
    "duration": 40,
    "start_time": "2022-04-05T10:02:36.746Z"
   },
   {
    "duration": 29,
    "start_time": "2022-04-05T10:02:36.789Z"
   },
   {
    "duration": 11,
    "start_time": "2022-04-05T10:02:36.821Z"
   },
   {
    "duration": 9,
    "start_time": "2022-04-05T10:02:36.834Z"
   },
   {
    "duration": 36,
    "start_time": "2022-04-05T10:02:36.845Z"
   },
   {
    "duration": 19,
    "start_time": "2022-04-05T10:02:36.884Z"
   },
   {
    "duration": 27,
    "start_time": "2022-04-05T10:02:36.905Z"
   },
   {
    "duration": 72,
    "start_time": "2022-04-05T10:02:36.934Z"
   },
   {
    "duration": 7,
    "start_time": "2022-04-05T10:02:37.008Z"
   },
   {
    "duration": 10,
    "start_time": "2022-04-05T10:02:37.017Z"
   },
   {
    "duration": 57,
    "start_time": "2022-04-05T10:02:37.029Z"
   },
   {
    "duration": 29,
    "start_time": "2022-04-05T10:02:37.089Z"
   },
   {
    "duration": 4,
    "start_time": "2022-04-05T10:02:37.120Z"
   },
   {
    "duration": 85,
    "start_time": "2022-04-05T10:02:37.126Z"
   },
   {
    "duration": 21,
    "start_time": "2022-04-05T10:02:37.213Z"
   },
   {
    "duration": 44,
    "start_time": "2022-04-05T10:02:37.236Z"
   },
   {
    "duration": 18,
    "start_time": "2022-04-05T10:02:37.282Z"
   },
   {
    "duration": 20,
    "start_time": "2022-04-05T10:02:37.302Z"
   },
   {
    "duration": 17,
    "start_time": "2022-04-05T10:02:37.325Z"
   },
   {
    "duration": 37,
    "start_time": "2022-04-05T10:02:37.344Z"
   },
   {
    "duration": 15,
    "start_time": "2022-04-05T10:02:37.382Z"
   },
   {
    "duration": 25,
    "start_time": "2022-04-05T10:02:37.403Z"
   },
   {
    "duration": 6,
    "start_time": "2022-04-05T10:02:37.430Z"
   },
   {
    "duration": 45,
    "start_time": "2022-04-05T10:02:37.438Z"
   },
   {
    "duration": 46,
    "start_time": "2022-04-05T10:02:37.485Z"
   },
   {
    "duration": 43,
    "start_time": "2022-04-05T10:02:37.533Z"
   },
   {
    "duration": 13,
    "start_time": "2022-04-05T10:02:37.582Z"
   },
   {
    "duration": 17,
    "start_time": "2022-04-05T10:02:37.597Z"
   },
   {
    "duration": 20,
    "start_time": "2022-04-05T10:02:37.616Z"
   },
   {
    "duration": 82,
    "start_time": "2022-04-05T10:02:37.638Z"
   },
   {
    "duration": 14,
    "start_time": "2022-04-05T10:02:37.723Z"
   },
   {
    "duration": 48,
    "start_time": "2022-04-05T10:02:37.739Z"
   },
   {
    "duration": 15,
    "start_time": "2022-04-05T10:02:37.789Z"
   },
   {
    "duration": 39,
    "start_time": "2022-04-05T10:02:37.806Z"
   },
   {
    "duration": 56,
    "start_time": "2022-04-05T10:02:37.847Z"
   },
   {
    "duration": 14,
    "start_time": "2022-04-05T10:02:37.905Z"
   },
   {
    "duration": 11,
    "start_time": "2022-04-05T10:23:07.676Z"
   },
   {
    "duration": 9,
    "start_time": "2022-04-05T10:23:28.907Z"
   },
   {
    "duration": 180,
    "start_time": "2022-04-05T10:29:10.882Z"
   },
   {
    "duration": 63,
    "start_time": "2022-04-05T10:30:50.938Z"
   },
   {
    "duration": 19,
    "start_time": "2022-04-05T10:31:17.898Z"
   },
   {
    "duration": 160,
    "start_time": "2022-04-05T10:31:29.360Z"
   },
   {
    "duration": 19,
    "start_time": "2022-04-05T10:31:36.701Z"
   },
   {
    "duration": 19,
    "start_time": "2022-04-05T10:31:49.579Z"
   },
   {
    "duration": 86,
    "start_time": "2022-04-05T10:32:10.499Z"
   },
   {
    "duration": 20,
    "start_time": "2022-04-05T10:32:10.588Z"
   },
   {
    "duration": 6,
    "start_time": "2022-04-05T10:32:10.611Z"
   },
   {
    "duration": 11,
    "start_time": "2022-04-05T10:32:10.619Z"
   },
   {
    "duration": 43,
    "start_time": "2022-04-05T10:32:10.634Z"
   },
   {
    "duration": 18,
    "start_time": "2022-04-05T10:32:10.680Z"
   },
   {
    "duration": 5,
    "start_time": "2022-04-05T10:32:10.701Z"
   },
   {
    "duration": 7,
    "start_time": "2022-04-05T10:32:10.709Z"
   },
   {
    "duration": 12,
    "start_time": "2022-04-05T10:32:10.718Z"
   },
   {
    "duration": 50,
    "start_time": "2022-04-05T10:32:10.732Z"
   },
   {
    "duration": 20,
    "start_time": "2022-04-05T10:32:10.785Z"
   },
   {
    "duration": 7,
    "start_time": "2022-04-05T10:32:10.808Z"
   },
   {
    "duration": 8,
    "start_time": "2022-04-05T10:32:10.817Z"
   },
   {
    "duration": 7,
    "start_time": "2022-04-05T10:32:10.829Z"
   },
   {
    "duration": 45,
    "start_time": "2022-04-05T10:32:10.838Z"
   },
   {
    "duration": 24,
    "start_time": "2022-04-05T10:32:10.886Z"
   },
   {
    "duration": 8,
    "start_time": "2022-04-05T10:32:10.912Z"
   },
   {
    "duration": 68,
    "start_time": "2022-04-05T10:32:10.922Z"
   },
   {
    "duration": 17,
    "start_time": "2022-04-05T10:32:10.993Z"
   },
   {
    "duration": 9,
    "start_time": "2022-04-05T10:32:11.012Z"
   },
   {
    "duration": 19,
    "start_time": "2022-04-05T10:32:11.024Z"
   },
   {
    "duration": 41,
    "start_time": "2022-04-05T10:32:11.045Z"
   },
   {
    "duration": 10,
    "start_time": "2022-04-05T10:32:11.091Z"
   },
   {
    "duration": 7,
    "start_time": "2022-04-05T10:32:11.104Z"
   },
   {
    "duration": 11,
    "start_time": "2022-04-05T10:32:11.114Z"
   },
   {
    "duration": 68,
    "start_time": "2022-04-05T10:32:11.128Z"
   },
   {
    "duration": 119,
    "start_time": "2022-04-05T10:32:11.199Z"
   },
   {
    "duration": 9,
    "start_time": "2022-04-05T10:32:11.320Z"
   },
   {
    "duration": 17,
    "start_time": "2022-04-05T10:32:11.331Z"
   },
   {
    "duration": 55,
    "start_time": "2022-04-05T10:32:11.350Z"
   },
   {
    "duration": 23,
    "start_time": "2022-04-05T10:32:11.407Z"
   },
   {
    "duration": 4,
    "start_time": "2022-04-05T10:32:11.433Z"
   },
   {
    "duration": 86,
    "start_time": "2022-04-05T10:32:11.440Z"
   },
   {
    "duration": 20,
    "start_time": "2022-04-05T10:32:11.528Z"
   },
   {
    "duration": 37,
    "start_time": "2022-04-05T10:32:11.550Z"
   },
   {
    "duration": 17,
    "start_time": "2022-04-05T10:32:13.366Z"
   },
   {
    "duration": 8,
    "start_time": "2022-04-05T10:40:01.812Z"
   },
   {
    "duration": 85,
    "start_time": "2022-04-05T10:59:55.375Z"
   },
   {
    "duration": 22,
    "start_time": "2022-04-05T10:59:55.476Z"
   },
   {
    "duration": 251,
    "start_time": "2022-04-05T10:59:55.501Z"
   },
   {
    "duration": 14,
    "start_time": "2022-04-05T10:59:55.754Z"
   },
   {
    "duration": 10,
    "start_time": "2022-04-05T10:59:55.771Z"
   },
   {
    "duration": 6,
    "start_time": "2022-04-05T10:59:55.784Z"
   },
   {
    "duration": 6,
    "start_time": "2022-04-05T10:59:55.793Z"
   },
   {
    "duration": 9,
    "start_time": "2022-04-05T10:59:55.802Z"
   },
   {
    "duration": 7,
    "start_time": "2022-04-05T10:59:55.813Z"
   },
   {
    "duration": 53,
    "start_time": "2022-04-05T10:59:55.822Z"
   },
   {
    "duration": 11,
    "start_time": "2022-04-05T10:59:55.877Z"
   },
   {
    "duration": 7,
    "start_time": "2022-04-05T10:59:55.891Z"
   },
   {
    "duration": 16,
    "start_time": "2022-04-05T10:59:55.901Z"
   },
   {
    "duration": 11,
    "start_time": "2022-04-05T10:59:55.923Z"
   },
   {
    "duration": 44,
    "start_time": "2022-04-05T10:59:55.936Z"
   },
   {
    "duration": 24,
    "start_time": "2022-04-05T10:59:55.982Z"
   },
   {
    "duration": 11,
    "start_time": "2022-04-05T10:59:56.008Z"
   },
   {
    "duration": 18,
    "start_time": "2022-04-05T10:59:56.021Z"
   },
   {
    "duration": 43,
    "start_time": "2022-04-05T10:59:56.041Z"
   },
   {
    "duration": 8,
    "start_time": "2022-04-05T10:59:56.086Z"
   },
   {
    "duration": 12,
    "start_time": "2022-04-05T10:59:56.096Z"
   },
   {
    "duration": 7,
    "start_time": "2022-04-05T10:59:56.110Z"
   },
   {
    "duration": 9,
    "start_time": "2022-04-05T10:59:56.119Z"
   },
   {
    "duration": 9,
    "start_time": "2022-04-05T10:59:56.174Z"
   },
   {
    "duration": 8,
    "start_time": "2022-04-05T10:59:56.185Z"
   },
   {
    "duration": 18,
    "start_time": "2022-04-05T10:59:56.195Z"
   },
   {
    "duration": 80,
    "start_time": "2022-04-05T10:59:56.215Z"
   },
   {
    "duration": 7,
    "start_time": "2022-04-05T10:59:56.297Z"
   },
   {
    "duration": 10,
    "start_time": "2022-04-05T10:59:56.306Z"
   },
   {
    "duration": 24,
    "start_time": "2022-04-05T10:59:56.318Z"
   },
   {
    "duration": 50,
    "start_time": "2022-04-05T10:59:56.344Z"
   },
   {
    "duration": 5,
    "start_time": "2022-04-05T10:59:56.396Z"
   },
   {
    "duration": 43,
    "start_time": "2022-04-05T10:59:56.403Z"
   },
   {
    "duration": 21,
    "start_time": "2022-04-05T10:59:56.474Z"
   },
   {
    "duration": 19,
    "start_time": "2022-04-05T10:59:56.497Z"
   },
   {
    "duration": 16,
    "start_time": "2022-04-05T10:59:56.518Z"
   },
   {
    "duration": 49,
    "start_time": "2022-04-05T10:59:56.536Z"
   },
   {
    "duration": 15,
    "start_time": "2022-04-05T10:59:56.587Z"
   },
   {
    "duration": 8,
    "start_time": "2022-04-05T10:59:56.604Z"
   },
   {
    "duration": 7,
    "start_time": "2022-04-05T10:59:56.614Z"
   },
   {
    "duration": 60,
    "start_time": "2022-04-05T10:59:56.626Z"
   },
   {
    "duration": 6,
    "start_time": "2022-04-05T10:59:56.688Z"
   },
   {
    "duration": 18,
    "start_time": "2022-04-05T10:59:56.696Z"
   },
   {
    "duration": 27,
    "start_time": "2022-04-05T10:59:56.716Z"
   },
   {
    "duration": 45,
    "start_time": "2022-04-05T10:59:56.745Z"
   },
   {
    "duration": 8,
    "start_time": "2022-04-05T10:59:56.792Z"
   },
   {
    "duration": 16,
    "start_time": "2022-04-05T10:59:56.802Z"
   },
   {
    "duration": 54,
    "start_time": "2022-04-05T10:59:56.821Z"
   },
   {
    "duration": 44,
    "start_time": "2022-04-05T10:59:56.878Z"
   },
   {
    "duration": 14,
    "start_time": "2022-04-05T10:59:56.925Z"
   },
   {
    "duration": 58,
    "start_time": "2022-04-05T10:59:56.942Z"
   },
   {
    "duration": 14,
    "start_time": "2022-04-05T10:59:57.003Z"
   },
   {
    "duration": 70,
    "start_time": "2022-04-05T10:59:57.019Z"
   },
   {
    "duration": 26,
    "start_time": "2022-04-05T10:59:57.092Z"
   },
   {
    "duration": 13,
    "start_time": "2022-04-05T10:59:57.120Z"
   },
   {
    "duration": 635,
    "start_time": "2022-04-05T12:16:38.448Z"
   },
   {
    "duration": 23,
    "start_time": "2022-04-05T12:16:39.086Z"
   },
   {
    "duration": 6,
    "start_time": "2022-04-05T12:16:39.111Z"
   },
   {
    "duration": 7,
    "start_time": "2022-04-05T12:16:39.119Z"
   },
   {
    "duration": 10,
    "start_time": "2022-04-05T12:16:39.128Z"
   },
   {
    "duration": 5,
    "start_time": "2022-04-05T12:16:39.174Z"
   },
   {
    "duration": 10,
    "start_time": "2022-04-05T12:16:39.181Z"
   },
   {
    "duration": 7,
    "start_time": "2022-04-05T12:16:39.193Z"
   },
   {
    "duration": 8,
    "start_time": "2022-04-05T12:16:39.202Z"
   },
   {
    "duration": 6,
    "start_time": "2022-04-05T12:16:39.212Z"
   },
   {
    "duration": 56,
    "start_time": "2022-04-05T12:16:39.220Z"
   },
   {
    "duration": 8,
    "start_time": "2022-04-05T12:16:39.278Z"
   },
   {
    "duration": 7,
    "start_time": "2022-04-05T12:16:39.288Z"
   },
   {
    "duration": 7,
    "start_time": "2022-04-05T12:16:39.300Z"
   },
   {
    "duration": 10,
    "start_time": "2022-04-05T12:16:39.310Z"
   },
   {
    "duration": 60,
    "start_time": "2022-04-05T12:16:39.322Z"
   },
   {
    "duration": 8,
    "start_time": "2022-04-05T12:16:39.384Z"
   },
   {
    "duration": 18,
    "start_time": "2022-04-05T12:16:39.395Z"
   },
   {
    "duration": 14,
    "start_time": "2022-04-05T12:16:39.415Z"
   },
   {
    "duration": 44,
    "start_time": "2022-04-05T12:16:39.431Z"
   },
   {
    "duration": 19,
    "start_time": "2022-04-05T12:16:39.477Z"
   },
   {
    "duration": 7,
    "start_time": "2022-04-05T12:16:39.499Z"
   },
   {
    "duration": 10,
    "start_time": "2022-04-05T12:16:39.508Z"
   },
   {
    "duration": 8,
    "start_time": "2022-04-05T12:16:39.520Z"
   },
   {
    "duration": 46,
    "start_time": "2022-04-05T12:16:39.530Z"
   },
   {
    "duration": 21,
    "start_time": "2022-04-05T12:16:39.579Z"
   },
   {
    "duration": 75,
    "start_time": "2022-04-05T12:16:39.602Z"
   },
   {
    "duration": 8,
    "start_time": "2022-04-05T12:16:39.679Z"
   },
   {
    "duration": 10,
    "start_time": "2022-04-05T12:16:39.689Z"
   },
   {
    "duration": 26,
    "start_time": "2022-04-05T12:16:39.702Z"
   },
   {
    "duration": 63,
    "start_time": "2022-04-05T12:16:39.730Z"
   },
   {
    "duration": 6,
    "start_time": "2022-04-05T12:16:39.796Z"
   },
   {
    "duration": 73,
    "start_time": "2022-04-05T12:16:39.804Z"
   },
   {
    "duration": 19,
    "start_time": "2022-04-05T12:16:39.880Z"
   },
   {
    "duration": 19,
    "start_time": "2022-04-05T12:16:39.902Z"
   },
   {
    "duration": 16,
    "start_time": "2022-04-05T12:16:39.923Z"
   },
   {
    "duration": 17,
    "start_time": "2022-04-05T12:16:39.974Z"
   },
   {
    "duration": 17,
    "start_time": "2022-04-05T12:16:39.993Z"
   },
   {
    "duration": 9,
    "start_time": "2022-04-05T12:16:40.013Z"
   },
   {
    "duration": 11,
    "start_time": "2022-04-05T12:16:40.024Z"
   },
   {
    "duration": 25,
    "start_time": "2022-04-05T12:16:40.080Z"
   },
   {
    "duration": 6,
    "start_time": "2022-04-05T12:16:40.107Z"
   },
   {
    "duration": 8,
    "start_time": "2022-04-05T12:16:40.116Z"
   },
   {
    "duration": 61,
    "start_time": "2022-04-05T12:16:40.127Z"
   },
   {
    "duration": 26,
    "start_time": "2022-04-05T12:16:40.190Z"
   },
   {
    "duration": 8,
    "start_time": "2022-04-05T12:16:40.218Z"
   },
   {
    "duration": 47,
    "start_time": "2022-04-05T12:16:40.228Z"
   },
   {
    "duration": 17,
    "start_time": "2022-04-05T12:16:40.277Z"
   },
   {
    "duration": 47,
    "start_time": "2022-04-05T12:16:40.296Z"
   },
   {
    "duration": 34,
    "start_time": "2022-04-05T12:16:40.345Z"
   },
   {
    "duration": 28,
    "start_time": "2022-04-05T12:16:40.381Z"
   },
   {
    "duration": 13,
    "start_time": "2022-04-05T12:16:40.411Z"
   },
   {
    "duration": 72,
    "start_time": "2022-04-05T12:16:40.426Z"
   },
   {
    "duration": 27,
    "start_time": "2022-04-05T12:16:40.500Z"
   },
   {
    "duration": 13,
    "start_time": "2022-04-05T12:16:40.529Z"
   },
   {
    "duration": 83,
    "start_time": "2022-04-05T13:03:30.355Z"
   },
   {
    "duration": 45,
    "start_time": "2022-04-05T13:03:30.440Z"
   },
   {
    "duration": 24,
    "start_time": "2022-04-05T13:03:30.488Z"
   },
   {
    "duration": 25,
    "start_time": "2022-04-05T13:03:30.514Z"
   },
   {
    "duration": 12,
    "start_time": "2022-04-05T13:03:30.543Z"
   },
   {
    "duration": 23,
    "start_time": "2022-04-05T13:03:30.557Z"
   },
   {
    "duration": 12,
    "start_time": "2022-04-05T13:03:30.582Z"
   },
   {
    "duration": 10,
    "start_time": "2022-04-05T13:03:30.596Z"
   },
   {
    "duration": 7,
    "start_time": "2022-04-05T13:03:30.609Z"
   },
   {
    "duration": 7,
    "start_time": "2022-04-05T13:03:30.619Z"
   },
   {
    "duration": 51,
    "start_time": "2022-04-05T13:03:30.629Z"
   },
   {
    "duration": 24,
    "start_time": "2022-04-05T13:03:30.682Z"
   },
   {
    "duration": 10,
    "start_time": "2022-04-05T13:03:30.709Z"
   },
   {
    "duration": 10,
    "start_time": "2022-04-05T13:03:30.728Z"
   },
   {
    "duration": 44,
    "start_time": "2022-04-05T13:03:30.740Z"
   },
   {
    "duration": 36,
    "start_time": "2022-04-05T13:03:30.787Z"
   },
   {
    "duration": 9,
    "start_time": "2022-04-05T13:03:30.825Z"
   },
   {
    "duration": 50,
    "start_time": "2022-04-05T13:03:30.836Z"
   },
   {
    "duration": 20,
    "start_time": "2022-04-05T13:03:30.888Z"
   },
   {
    "duration": 28,
    "start_time": "2022-04-05T13:03:30.911Z"
   },
   {
    "duration": 34,
    "start_time": "2022-04-05T13:03:30.941Z"
   },
   {
    "duration": 16,
    "start_time": "2022-04-05T13:03:30.977Z"
   },
   {
    "duration": 11,
    "start_time": "2022-04-05T13:03:30.995Z"
   },
   {
    "duration": 9,
    "start_time": "2022-04-05T13:03:31.009Z"
   },
   {
    "duration": 11,
    "start_time": "2022-04-05T13:03:31.021Z"
   },
   {
    "duration": 22,
    "start_time": "2022-04-05T13:03:31.075Z"
   },
   {
    "duration": 75,
    "start_time": "2022-04-05T13:03:31.099Z"
   },
   {
    "duration": 7,
    "start_time": "2022-04-05T13:03:31.176Z"
   },
   {
    "duration": 10,
    "start_time": "2022-04-05T13:03:31.186Z"
   },
   {
    "duration": 27,
    "start_time": "2022-04-05T13:03:31.198Z"
   },
   {
    "duration": 60,
    "start_time": "2022-04-05T13:03:31.228Z"
   },
   {
    "duration": 5,
    "start_time": "2022-04-05T13:03:31.291Z"
   },
   {
    "duration": 94,
    "start_time": "2022-04-05T13:03:31.299Z"
   },
   {
    "duration": 32,
    "start_time": "2022-04-05T13:03:31.396Z"
   },
   {
    "duration": 52,
    "start_time": "2022-04-05T13:03:31.431Z"
   },
   {
    "duration": 25,
    "start_time": "2022-04-05T13:03:31.486Z"
   },
   {
    "duration": 18,
    "start_time": "2022-04-05T13:03:31.514Z"
   },
   {
    "duration": 46,
    "start_time": "2022-04-05T13:03:31.535Z"
   },
   {
    "duration": 6,
    "start_time": "2022-04-05T13:03:31.584Z"
   },
   {
    "duration": 11,
    "start_time": "2022-04-05T13:03:31.593Z"
   },
   {
    "duration": 64,
    "start_time": "2022-04-05T13:03:31.610Z"
   },
   {
    "duration": 9,
    "start_time": "2022-04-05T13:03:31.677Z"
   },
   {
    "duration": 14,
    "start_time": "2022-04-05T13:03:31.689Z"
   },
   {
    "duration": 33,
    "start_time": "2022-04-05T13:03:31.705Z"
   },
   {
    "duration": 50,
    "start_time": "2022-04-05T13:03:31.739Z"
   },
   {
    "duration": 9,
    "start_time": "2022-04-05T13:03:31.791Z"
   },
   {
    "duration": 25,
    "start_time": "2022-04-05T13:03:31.802Z"
   },
   {
    "duration": 29,
    "start_time": "2022-04-05T13:03:31.829Z"
   },
   {
    "duration": 48,
    "start_time": "2022-04-05T13:03:31.874Z"
   },
   {
    "duration": 15,
    "start_time": "2022-04-05T13:03:31.924Z"
   },
   {
    "duration": 60,
    "start_time": "2022-04-05T13:03:31.941Z"
   },
   {
    "duration": 15,
    "start_time": "2022-04-05T13:03:32.003Z"
   },
   {
    "duration": 84,
    "start_time": "2022-04-05T13:03:32.021Z"
   },
   {
    "duration": 34,
    "start_time": "2022-04-05T13:03:32.107Z"
   },
   {
    "duration": 37,
    "start_time": "2022-04-05T13:03:32.144Z"
   },
   {
    "duration": 103,
    "start_time": "2022-04-05T13:04:20.075Z"
   },
   {
    "duration": 19,
    "start_time": "2022-04-05T13:04:20.181Z"
   },
   {
    "duration": 6,
    "start_time": "2022-04-05T13:04:20.202Z"
   },
   {
    "duration": 8,
    "start_time": "2022-04-05T13:04:20.210Z"
   },
   {
    "duration": 54,
    "start_time": "2022-04-05T13:04:20.222Z"
   },
   {
    "duration": 15,
    "start_time": "2022-04-05T13:04:20.278Z"
   },
   {
    "duration": 9,
    "start_time": "2022-04-05T13:04:20.295Z"
   },
   {
    "duration": 8,
    "start_time": "2022-04-05T13:04:20.306Z"
   },
   {
    "duration": 11,
    "start_time": "2022-04-05T13:04:20.317Z"
   },
   {
    "duration": 9,
    "start_time": "2022-04-05T13:04:20.330Z"
   },
   {
    "duration": 41,
    "start_time": "2022-04-05T13:04:20.341Z"
   },
   {
    "duration": 8,
    "start_time": "2022-04-05T13:04:20.385Z"
   },
   {
    "duration": 7,
    "start_time": "2022-04-05T13:04:20.395Z"
   },
   {
    "duration": 9,
    "start_time": "2022-04-05T13:04:20.407Z"
   },
   {
    "duration": 11,
    "start_time": "2022-04-05T13:04:20.418Z"
   },
   {
    "duration": 25,
    "start_time": "2022-04-05T13:04:20.473Z"
   },
   {
    "duration": 9,
    "start_time": "2022-04-05T13:04:20.501Z"
   },
   {
    "duration": 20,
    "start_time": "2022-04-05T13:04:20.513Z"
   },
   {
    "duration": 15,
    "start_time": "2022-04-05T13:04:20.574Z"
   },
   {
    "duration": 10,
    "start_time": "2022-04-05T13:04:20.591Z"
   },
   {
    "duration": 28,
    "start_time": "2022-04-05T13:04:20.604Z"
   },
   {
    "duration": 10,
    "start_time": "2022-04-05T13:04:20.635Z"
   },
   {
    "duration": 12,
    "start_time": "2022-04-05T13:04:20.675Z"
   },
   {
    "duration": 7,
    "start_time": "2022-04-05T13:04:20.690Z"
   },
   {
    "duration": 10,
    "start_time": "2022-04-05T13:04:20.699Z"
   },
   {
    "duration": 19,
    "start_time": "2022-04-05T13:04:20.711Z"
   },
   {
    "duration": 51,
    "start_time": "2022-04-05T13:04:20.773Z"
   },
   {
    "duration": 7,
    "start_time": "2022-04-05T13:04:20.827Z"
   },
   {
    "duration": 38,
    "start_time": "2022-04-05T13:04:20.837Z"
   },
   {
    "duration": 24,
    "start_time": "2022-04-05T13:04:20.878Z"
   },
   {
    "duration": 28,
    "start_time": "2022-04-05T13:04:20.904Z"
   },
   {
    "duration": 4,
    "start_time": "2022-04-05T13:04:20.935Z"
   },
   {
    "duration": 73,
    "start_time": "2022-04-05T13:04:20.941Z"
   },
   {
    "duration": 20,
    "start_time": "2022-04-05T13:04:21.016Z"
   },
   {
    "duration": 44,
    "start_time": "2022-04-05T13:04:21.038Z"
   },
   {
    "duration": 16,
    "start_time": "2022-04-05T13:04:21.084Z"
   },
   {
    "duration": 15,
    "start_time": "2022-04-05T13:04:21.103Z"
   },
   {
    "duration": 17,
    "start_time": "2022-04-05T13:04:21.120Z"
   },
   {
    "duration": 6,
    "start_time": "2022-04-05T13:04:21.175Z"
   },
   {
    "duration": 14,
    "start_time": "2022-04-05T13:04:21.183Z"
   },
   {
    "duration": 28,
    "start_time": "2022-04-05T13:04:21.203Z"
   },
   {
    "duration": 8,
    "start_time": "2022-04-05T13:04:21.233Z"
   },
   {
    "duration": 38,
    "start_time": "2022-04-05T13:04:21.243Z"
   },
   {
    "duration": 26,
    "start_time": "2022-04-05T13:04:21.283Z"
   },
   {
    "duration": 25,
    "start_time": "2022-04-05T13:04:21.311Z"
   },
   {
    "duration": 41,
    "start_time": "2022-04-05T13:04:21.338Z"
   },
   {
    "duration": 16,
    "start_time": "2022-04-05T13:04:21.382Z"
   },
   {
    "duration": 16,
    "start_time": "2022-04-05T13:04:21.401Z"
   },
   {
    "duration": 80,
    "start_time": "2022-04-05T13:04:21.419Z"
   },
   {
    "duration": 15,
    "start_time": "2022-04-05T13:04:21.502Z"
   },
   {
    "duration": 55,
    "start_time": "2022-04-05T13:04:21.520Z"
   },
   {
    "duration": 14,
    "start_time": "2022-04-05T13:04:21.578Z"
   },
   {
    "duration": 40,
    "start_time": "2022-04-05T13:04:21.595Z"
   },
   {
    "duration": 77,
    "start_time": "2022-04-05T13:04:21.638Z"
   },
   {
    "duration": 20,
    "start_time": "2022-04-05T13:04:21.718Z"
   },
   {
    "duration": 46,
    "start_time": "2022-04-16T07:50:23.358Z"
   },
   {
    "duration": 528,
    "start_time": "2022-04-16T07:50:29.359Z"
   },
   {
    "duration": 16,
    "start_time": "2022-04-16T07:50:29.890Z"
   },
   {
    "duration": 4,
    "start_time": "2022-04-16T07:50:29.908Z"
   },
   {
    "duration": 13,
    "start_time": "2022-04-16T07:50:29.914Z"
   },
   {
    "duration": 6,
    "start_time": "2022-04-16T07:50:29.930Z"
   },
   {
    "duration": 6,
    "start_time": "2022-04-16T07:50:29.940Z"
   },
   {
    "duration": 27,
    "start_time": "2022-04-16T07:50:29.948Z"
   },
   {
    "duration": 4793,
    "start_time": "2022-04-16T07:50:29.977Z"
   },
   {
    "duration": 7,
    "start_time": "2022-04-16T07:50:34.772Z"
   },
   {
    "duration": 11,
    "start_time": "2022-04-16T07:50:34.781Z"
   },
   {
    "duration": 7,
    "start_time": "2022-04-16T07:50:34.793Z"
   },
   {
    "duration": 6,
    "start_time": "2022-04-16T07:50:34.802Z"
   },
   {
    "duration": 7,
    "start_time": "2022-04-16T07:50:34.809Z"
   },
   {
    "duration": 22,
    "start_time": "2022-04-16T07:50:34.819Z"
   },
   {
    "duration": 7,
    "start_time": "2022-04-16T07:50:34.874Z"
   },
   {
    "duration": 16,
    "start_time": "2022-04-16T07:50:34.883Z"
   },
   {
    "duration": 11,
    "start_time": "2022-04-16T07:50:34.901Z"
   },
   {
    "duration": 7,
    "start_time": "2022-04-16T07:50:34.913Z"
   },
   {
    "duration": 5,
    "start_time": "2022-04-16T07:50:34.921Z"
   },
   {
    "duration": 10,
    "start_time": "2022-04-16T07:50:34.927Z"
   },
   {
    "duration": 275,
    "start_time": "2022-04-16T07:50:34.938Z"
   },
   {
    "duration": 6,
    "start_time": "2022-04-16T07:50:35.214Z"
   },
   {
    "duration": 5,
    "start_time": "2022-04-16T07:50:35.222Z"
   },
   {
    "duration": 386,
    "start_time": "2022-04-16T07:50:35.228Z"
   },
   {
    "duration": 7,
    "start_time": "2022-04-16T07:50:35.615Z"
   },
   {
    "duration": 6,
    "start_time": "2022-04-16T07:50:35.623Z"
   },
   {
    "duration": 9,
    "start_time": "2022-04-16T07:50:35.630Z"
   },
   {
    "duration": 33,
    "start_time": "2022-04-16T07:50:35.641Z"
   },
   {
    "duration": 5,
    "start_time": "2022-04-16T07:50:35.676Z"
   },
   {
    "duration": 7,
    "start_time": "2022-04-16T07:50:35.683Z"
   },
   {
    "duration": 75,
    "start_time": "2022-04-16T07:54:44.458Z"
   },
   {
    "duration": 14,
    "start_time": "2022-04-16T07:54:44.535Z"
   },
   {
    "duration": 22,
    "start_time": "2022-04-16T07:54:44.551Z"
   },
   {
    "duration": 4,
    "start_time": "2022-04-16T07:54:44.574Z"
   },
   {
    "duration": 6,
    "start_time": "2022-04-16T07:54:44.580Z"
   },
   {
    "duration": 6,
    "start_time": "2022-04-16T07:54:44.588Z"
   },
   {
    "duration": 4,
    "start_time": "2022-04-16T07:54:44.595Z"
   },
   {
    "duration": 3528,
    "start_time": "2022-04-16T07:54:44.601Z"
   },
   {
    "duration": 6,
    "start_time": "2022-04-16T07:54:48.131Z"
   },
   {
    "duration": 9,
    "start_time": "2022-04-16T07:54:48.139Z"
   },
   {
    "duration": 8,
    "start_time": "2022-04-16T07:54:48.149Z"
   },
   {
    "duration": 6,
    "start_time": "2022-04-16T07:54:48.173Z"
   },
   {
    "duration": 12,
    "start_time": "2022-04-16T07:54:48.181Z"
   },
   {
    "duration": 16,
    "start_time": "2022-04-16T07:54:48.196Z"
   },
   {
    "duration": 9,
    "start_time": "2022-04-16T07:54:48.214Z"
   },
   {
    "duration": 15,
    "start_time": "2022-04-16T07:54:48.225Z"
   },
   {
    "duration": 38,
    "start_time": "2022-04-16T07:54:48.242Z"
   },
   {
    "duration": 6,
    "start_time": "2022-04-16T07:54:48.281Z"
   },
   {
    "duration": 16,
    "start_time": "2022-04-16T07:54:48.289Z"
   },
   {
    "duration": 11,
    "start_time": "2022-04-16T07:54:48.306Z"
   },
   {
    "duration": 243,
    "start_time": "2022-04-16T07:54:48.319Z"
   },
   {
    "duration": 10,
    "start_time": "2022-04-16T07:54:48.564Z"
   },
   {
    "duration": 6,
    "start_time": "2022-04-16T07:54:48.575Z"
   },
   {
    "duration": 371,
    "start_time": "2022-04-16T07:54:48.583Z"
   },
   {
    "duration": 6,
    "start_time": "2022-04-16T07:54:48.956Z"
   },
   {
    "duration": 14,
    "start_time": "2022-04-16T07:54:48.963Z"
   },
   {
    "duration": 18,
    "start_time": "2022-04-16T07:54:48.979Z"
   },
   {
    "duration": 11,
    "start_time": "2022-04-16T07:54:48.998Z"
   },
   {
    "duration": 23,
    "start_time": "2022-04-16T07:54:49.010Z"
   },
   {
    "duration": 45,
    "start_time": "2022-04-16T07:54:49.035Z"
   },
   {
    "duration": 8,
    "start_time": "2022-04-16T08:08:17.241Z"
   },
   {
    "duration": 8,
    "start_time": "2022-04-16T08:09:12.977Z"
   },
   {
    "duration": 8,
    "start_time": "2022-04-16T08:09:23.516Z"
   },
   {
    "duration": 442,
    "start_time": "2022-04-16T08:14:02.907Z"
   },
   {
    "duration": 15,
    "start_time": "2022-04-16T08:14:03.351Z"
   },
   {
    "duration": 8,
    "start_time": "2022-04-16T08:14:03.367Z"
   },
   {
    "duration": 6,
    "start_time": "2022-04-16T08:14:03.377Z"
   },
   {
    "duration": 5,
    "start_time": "2022-04-16T08:14:03.385Z"
   },
   {
    "duration": 7,
    "start_time": "2022-04-16T08:14:03.391Z"
   },
   {
    "duration": 5,
    "start_time": "2022-04-16T08:14:03.399Z"
   },
   {
    "duration": 4195,
    "start_time": "2022-04-16T08:14:03.406Z"
   },
   {
    "duration": 7,
    "start_time": "2022-04-16T08:14:07.603Z"
   },
   {
    "duration": 6,
    "start_time": "2022-04-16T08:14:07.612Z"
   },
   {
    "duration": 6,
    "start_time": "2022-04-16T08:14:07.620Z"
   },
   {
    "duration": 6,
    "start_time": "2022-04-16T08:14:07.628Z"
   },
   {
    "duration": 38,
    "start_time": "2022-04-16T08:14:07.636Z"
   },
   {
    "duration": 16,
    "start_time": "2022-04-16T08:14:07.677Z"
   },
   {
    "duration": 11,
    "start_time": "2022-04-16T08:14:07.695Z"
   },
   {
    "duration": 17,
    "start_time": "2022-04-16T08:14:07.708Z"
   },
   {
    "duration": 11,
    "start_time": "2022-04-16T08:14:07.726Z"
   },
   {
    "duration": 8,
    "start_time": "2022-04-16T08:14:07.738Z"
   },
   {
    "duration": 5,
    "start_time": "2022-04-16T08:14:07.773Z"
   },
   {
    "duration": 22,
    "start_time": "2022-04-16T08:14:07.779Z"
   },
   {
    "duration": 239,
    "start_time": "2022-04-16T08:14:07.803Z"
   },
   {
    "duration": 6,
    "start_time": "2022-04-16T08:14:08.044Z"
   },
   {
    "duration": 22,
    "start_time": "2022-04-16T08:14:08.052Z"
   },
   {
    "duration": 356,
    "start_time": "2022-04-16T08:14:08.076Z"
   },
   {
    "duration": 5,
    "start_time": "2022-04-16T08:14:08.434Z"
   },
   {
    "duration": 21,
    "start_time": "2022-04-16T08:14:08.441Z"
   },
   {
    "duration": 39,
    "start_time": "2022-04-16T08:14:08.464Z"
   },
   {
    "duration": 21,
    "start_time": "2022-04-16T08:14:08.505Z"
   },
   {
    "duration": 26,
    "start_time": "2022-04-16T08:14:08.528Z"
   },
   {
    "duration": 26,
    "start_time": "2022-04-16T08:14:08.556Z"
   },
   {
    "duration": 1908,
    "start_time": "2022-04-16T08:15:44.186Z"
   },
   {
    "duration": 11,
    "start_time": "2022-04-16T08:20:34.286Z"
   },
   {
    "duration": 11,
    "start_time": "2022-04-16T08:21:11.673Z"
   },
   {
    "duration": 1748,
    "start_time": "2022-04-16T08:25:42.338Z"
   },
   {
    "duration": 2077,
    "start_time": "2022-04-16T08:27:06.517Z"
   },
   {
    "duration": 1750,
    "start_time": "2022-04-16T08:27:39.725Z"
   },
   {
    "duration": 19,
    "start_time": "2022-04-16T08:30:32.142Z"
   },
   {
    "duration": 22,
    "start_time": "2022-04-16T08:31:02.185Z"
   },
   {
    "duration": 12,
    "start_time": "2022-04-16T08:33:06.745Z"
   },
   {
    "duration": 196,
    "start_time": "2022-04-16T08:33:40.898Z"
   },
   {
    "duration": 13,
    "start_time": "2022-04-16T08:41:55.097Z"
   },
   {
    "duration": 199,
    "start_time": "2022-04-16T08:46:01.604Z"
   },
   {
    "duration": 188,
    "start_time": "2022-04-16T08:46:12.472Z"
   },
   {
    "duration": 506,
    "start_time": "2022-04-16T08:46:30.655Z"
   },
   {
    "duration": 14,
    "start_time": "2022-04-16T08:46:31.163Z"
   },
   {
    "duration": 4,
    "start_time": "2022-04-16T08:46:31.179Z"
   },
   {
    "duration": 9,
    "start_time": "2022-04-16T08:46:31.186Z"
   },
   {
    "duration": 13,
    "start_time": "2022-04-16T08:46:31.197Z"
   },
   {
    "duration": 6,
    "start_time": "2022-04-16T08:46:31.212Z"
   },
   {
    "duration": 7,
    "start_time": "2022-04-16T08:46:31.219Z"
   },
   {
    "duration": 4373,
    "start_time": "2022-04-16T08:46:31.227Z"
   },
   {
    "duration": 7,
    "start_time": "2022-04-16T08:46:35.602Z"
   },
   {
    "duration": 14,
    "start_time": "2022-04-16T08:46:35.610Z"
   },
   {
    "duration": 14,
    "start_time": "2022-04-16T08:46:35.626Z"
   },
   {
    "duration": 13,
    "start_time": "2022-04-16T08:46:35.642Z"
   },
   {
    "duration": 15,
    "start_time": "2022-04-16T08:46:35.659Z"
   },
   {
    "duration": 24,
    "start_time": "2022-04-16T08:46:35.676Z"
   },
   {
    "duration": 5,
    "start_time": "2022-04-16T08:46:35.702Z"
   },
   {
    "duration": 15,
    "start_time": "2022-04-16T08:46:35.709Z"
   },
   {
    "duration": 10,
    "start_time": "2022-04-16T08:46:35.725Z"
   },
   {
    "duration": 39,
    "start_time": "2022-04-16T08:46:35.737Z"
   },
   {
    "duration": 4,
    "start_time": "2022-04-16T08:46:35.778Z"
   },
   {
    "duration": 11,
    "start_time": "2022-04-16T08:46:35.783Z"
   },
   {
    "duration": 246,
    "start_time": "2022-04-16T08:46:35.795Z"
   },
   {
    "duration": 6,
    "start_time": "2022-04-16T08:46:36.044Z"
   },
   {
    "duration": 20,
    "start_time": "2022-04-16T08:46:36.052Z"
   },
   {
    "duration": 351,
    "start_time": "2022-04-16T08:46:36.074Z"
   },
   {
    "duration": 7,
    "start_time": "2022-04-16T08:46:36.426Z"
   },
   {
    "duration": 6,
    "start_time": "2022-04-16T08:46:36.434Z"
   },
   {
    "duration": 33,
    "start_time": "2022-04-16T08:46:36.442Z"
   },
   {
    "duration": 11,
    "start_time": "2022-04-16T08:46:36.477Z"
   },
   {
    "duration": 6,
    "start_time": "2022-04-16T08:46:36.490Z"
   },
   {
    "duration": 13,
    "start_time": "2022-04-16T08:46:36.498Z"
   },
   {
    "duration": 214,
    "start_time": "2022-04-16T08:46:36.513Z"
   },
   {
    "duration": 11,
    "start_time": "2022-04-16T08:51:24.133Z"
   },
   {
    "duration": 490,
    "start_time": "2022-04-16T08:51:50.230Z"
   },
   {
    "duration": 16,
    "start_time": "2022-04-16T08:51:50.722Z"
   },
   {
    "duration": 4,
    "start_time": "2022-04-16T08:51:50.739Z"
   },
   {
    "duration": 6,
    "start_time": "2022-04-16T08:51:50.745Z"
   },
   {
    "duration": 21,
    "start_time": "2022-04-16T08:51:50.753Z"
   },
   {
    "duration": 5,
    "start_time": "2022-04-16T08:51:50.775Z"
   },
   {
    "duration": 10,
    "start_time": "2022-04-16T08:51:50.781Z"
   },
   {
    "duration": 4160,
    "start_time": "2022-04-16T08:51:50.793Z"
   },
   {
    "duration": 6,
    "start_time": "2022-04-16T08:51:54.955Z"
   },
   {
    "duration": 15,
    "start_time": "2022-04-16T08:51:54.963Z"
   },
   {
    "duration": 8,
    "start_time": "2022-04-16T08:51:54.980Z"
   },
   {
    "duration": 7,
    "start_time": "2022-04-16T08:51:54.990Z"
   },
   {
    "duration": 9,
    "start_time": "2022-04-16T08:51:54.999Z"
   },
   {
    "duration": 20,
    "start_time": "2022-04-16T08:51:55.011Z"
   },
   {
    "duration": 9,
    "start_time": "2022-04-16T08:51:55.033Z"
   },
   {
    "duration": 38,
    "start_time": "2022-04-16T08:51:55.044Z"
   },
   {
    "duration": 11,
    "start_time": "2022-04-16T08:51:55.084Z"
   },
   {
    "duration": 9,
    "start_time": "2022-04-16T08:51:55.097Z"
   },
   {
    "duration": 13,
    "start_time": "2022-04-16T08:51:55.108Z"
   },
   {
    "duration": 10,
    "start_time": "2022-04-16T08:51:55.123Z"
   },
   {
    "duration": 255,
    "start_time": "2022-04-16T08:51:55.135Z"
   },
   {
    "duration": 7,
    "start_time": "2022-04-16T08:51:55.392Z"
   },
   {
    "duration": 6,
    "start_time": "2022-04-16T08:51:55.401Z"
   },
   {
    "duration": 410,
    "start_time": "2022-04-16T08:51:55.409Z"
   },
   {
    "duration": 6,
    "start_time": "2022-04-16T08:51:55.821Z"
   },
   {
    "duration": 8,
    "start_time": "2022-04-16T08:51:55.829Z"
   },
   {
    "duration": 15,
    "start_time": "2022-04-16T08:51:55.838Z"
   },
   {
    "duration": 29,
    "start_time": "2022-04-16T08:51:55.854Z"
   },
   {
    "duration": 7,
    "start_time": "2022-04-16T08:51:55.885Z"
   },
   {
    "duration": 14,
    "start_time": "2022-04-16T08:51:55.894Z"
   },
   {
    "duration": 6,
    "start_time": "2022-04-16T08:54:02.161Z"
   },
   {
    "duration": 7,
    "start_time": "2022-04-16T08:56:28.425Z"
   },
   {
    "duration": 67,
    "start_time": "2022-04-16T09:16:36.849Z"
   },
   {
    "duration": 18,
    "start_time": "2022-04-16T09:16:36.918Z"
   },
   {
    "duration": 11,
    "start_time": "2022-04-16T09:16:36.938Z"
   },
   {
    "duration": 12,
    "start_time": "2022-04-16T09:16:36.951Z"
   },
   {
    "duration": 5,
    "start_time": "2022-04-16T09:16:36.974Z"
   },
   {
    "duration": 21,
    "start_time": "2022-04-16T09:16:36.981Z"
   },
   {
    "duration": 18,
    "start_time": "2022-04-16T09:16:37.004Z"
   },
   {
    "duration": 3675,
    "start_time": "2022-04-16T09:16:37.024Z"
   },
   {
    "duration": 7,
    "start_time": "2022-04-16T09:16:40.701Z"
   },
   {
    "duration": 9,
    "start_time": "2022-04-16T09:16:40.710Z"
   },
   {
    "duration": 6,
    "start_time": "2022-04-16T09:16:40.720Z"
   },
   {
    "duration": 12,
    "start_time": "2022-04-16T09:16:40.728Z"
   },
   {
    "duration": 17,
    "start_time": "2022-04-16T09:16:40.741Z"
   },
   {
    "duration": 16,
    "start_time": "2022-04-16T09:16:40.774Z"
   },
   {
    "duration": 7,
    "start_time": "2022-04-16T09:16:40.792Z"
   },
   {
    "duration": 15,
    "start_time": "2022-04-16T09:16:40.800Z"
   },
   {
    "duration": 10,
    "start_time": "2022-04-16T09:16:40.817Z"
   },
   {
    "duration": 6,
    "start_time": "2022-04-16T09:16:40.829Z"
   },
   {
    "duration": 38,
    "start_time": "2022-04-16T09:16:40.837Z"
   },
   {
    "duration": 8,
    "start_time": "2022-04-16T09:16:40.877Z"
   },
   {
    "duration": 245,
    "start_time": "2022-04-16T09:16:40.886Z"
   },
   {
    "duration": 6,
    "start_time": "2022-04-16T09:16:41.133Z"
   },
   {
    "duration": 10,
    "start_time": "2022-04-16T09:16:41.141Z"
   },
   {
    "duration": 375,
    "start_time": "2022-04-16T09:16:41.152Z"
   },
   {
    "duration": 6,
    "start_time": "2022-04-16T09:16:41.529Z"
   },
   {
    "duration": 9,
    "start_time": "2022-04-16T09:16:41.536Z"
   },
   {
    "duration": 11,
    "start_time": "2022-04-16T09:16:41.547Z"
   },
   {
    "duration": 13,
    "start_time": "2022-04-16T09:16:41.573Z"
   },
   {
    "duration": 7,
    "start_time": "2022-04-16T09:16:41.588Z"
   },
   {
    "duration": 8,
    "start_time": "2022-04-16T09:16:41.596Z"
   },
   {
    "duration": 300,
    "start_time": "2022-04-16T09:16:41.605Z"
   },
   {
    "duration": 202,
    "start_time": "2022-04-16T09:16:41.907Z"
   },
   {
    "duration": 237,
    "start_time": "2022-04-16T09:16:48.697Z"
   },
   {
    "duration": 94,
    "start_time": "2022-04-16T09:37:16.654Z"
   },
   {
    "duration": 65,
    "start_time": "2022-04-16T09:37:23.244Z"
   },
   {
    "duration": 14,
    "start_time": "2022-04-16T09:37:23.311Z"
   },
   {
    "duration": 5,
    "start_time": "2022-04-16T09:37:23.327Z"
   },
   {
    "duration": 8,
    "start_time": "2022-04-16T09:37:23.335Z"
   },
   {
    "duration": 30,
    "start_time": "2022-04-16T09:37:23.344Z"
   },
   {
    "duration": 5,
    "start_time": "2022-04-16T09:37:23.376Z"
   },
   {
    "duration": 5,
    "start_time": "2022-04-16T09:37:23.383Z"
   },
   {
    "duration": 3558,
    "start_time": "2022-04-16T09:37:23.390Z"
   },
   {
    "duration": 7,
    "start_time": "2022-04-16T09:37:26.951Z"
   },
   {
    "duration": 6,
    "start_time": "2022-04-16T09:37:26.973Z"
   },
   {
    "duration": 6,
    "start_time": "2022-04-16T09:37:26.980Z"
   },
   {
    "duration": 9,
    "start_time": "2022-04-16T09:37:26.988Z"
   },
   {
    "duration": 8,
    "start_time": "2022-04-16T09:37:26.998Z"
   },
   {
    "duration": 16,
    "start_time": "2022-04-16T09:37:27.007Z"
   },
   {
    "duration": 5,
    "start_time": "2022-04-16T09:37:27.025Z"
   },
   {
    "duration": 51,
    "start_time": "2022-04-16T09:37:27.031Z"
   },
   {
    "duration": 10,
    "start_time": "2022-04-16T09:37:27.083Z"
   },
   {
    "duration": 5,
    "start_time": "2022-04-16T09:37:27.095Z"
   },
   {
    "duration": 5,
    "start_time": "2022-04-16T09:37:27.101Z"
   },
   {
    "duration": 7,
    "start_time": "2022-04-16T09:37:27.107Z"
   },
   {
    "duration": 267,
    "start_time": "2022-04-16T09:37:27.115Z"
   },
   {
    "duration": 6,
    "start_time": "2022-04-16T09:37:27.383Z"
   },
   {
    "duration": 7,
    "start_time": "2022-04-16T09:37:27.390Z"
   },
   {
    "duration": 365,
    "start_time": "2022-04-16T09:37:27.398Z"
   },
   {
    "duration": 13,
    "start_time": "2022-04-16T09:37:27.764Z"
   },
   {
    "duration": 6,
    "start_time": "2022-04-16T09:37:27.778Z"
   },
   {
    "duration": 14,
    "start_time": "2022-04-16T09:37:27.785Z"
   },
   {
    "duration": 15,
    "start_time": "2022-04-16T09:37:27.803Z"
   },
   {
    "duration": 14,
    "start_time": "2022-04-16T09:37:27.820Z"
   },
   {
    "duration": 10,
    "start_time": "2022-04-16T09:37:27.835Z"
   },
   {
    "duration": 40,
    "start_time": "2022-04-16T09:37:27.846Z"
   },
   {
    "duration": 205,
    "start_time": "2022-04-16T09:37:27.887Z"
   },
   {
    "duration": 250,
    "start_time": "2022-04-16T09:37:28.093Z"
   },
   {
    "duration": 14,
    "start_time": "2022-04-16T09:37:28.345Z"
   },
   {
    "duration": 44,
    "start_time": "2022-04-16T09:37:28.360Z"
   },
   {
    "duration": 5,
    "start_time": "2022-04-16T09:37:28.406Z"
   },
   {
    "duration": 11,
    "start_time": "2022-04-16T09:37:28.413Z"
   },
   {
    "duration": 24,
    "start_time": "2022-04-16T09:37:28.426Z"
   },
   {
    "duration": 38,
    "start_time": "2022-04-16T09:37:28.451Z"
   },
   {
    "duration": 5,
    "start_time": "2022-04-16T09:37:28.491Z"
   },
   {
    "duration": 32,
    "start_time": "2022-04-16T09:37:28.498Z"
   },
   {
    "duration": 15,
    "start_time": "2022-04-16T09:37:28.531Z"
   },
   {
    "duration": 39,
    "start_time": "2022-04-16T09:37:28.547Z"
   },
   {
    "duration": 12,
    "start_time": "2022-04-16T09:37:28.588Z"
   },
   {
    "duration": 11,
    "start_time": "2022-04-16T09:37:28.602Z"
   },
   {
    "duration": 18,
    "start_time": "2022-04-16T09:37:28.614Z"
   },
   {
    "duration": 12,
    "start_time": "2022-04-16T09:37:28.633Z"
   },
   {
    "duration": 28,
    "start_time": "2022-04-16T09:37:28.646Z"
   },
   {
    "duration": 20,
    "start_time": "2022-04-16T09:37:28.676Z"
   },
   {
    "duration": 4,
    "start_time": "2022-04-16T09:37:28.698Z"
   },
   {
    "duration": 19,
    "start_time": "2022-04-16T09:37:28.703Z"
   },
   {
    "duration": 23,
    "start_time": "2022-04-16T09:37:28.724Z"
   },
   {
    "duration": 25,
    "start_time": "2022-04-16T09:37:28.749Z"
   },
   {
    "duration": 7,
    "start_time": "2022-04-16T09:37:28.775Z"
   },
   {
    "duration": 12,
    "start_time": "2022-04-16T09:37:28.784Z"
   },
   {
    "duration": 13,
    "start_time": "2022-04-16T09:37:33.292Z"
   },
   {
    "duration": 9,
    "start_time": "2022-04-16T09:39:02.961Z"
   },
   {
    "duration": 72,
    "start_time": "2022-04-16T09:39:14.399Z"
   },
   {
    "duration": 16,
    "start_time": "2022-04-16T09:39:14.473Z"
   },
   {
    "duration": 4,
    "start_time": "2022-04-16T09:39:14.491Z"
   },
   {
    "duration": 9,
    "start_time": "2022-04-16T09:39:14.497Z"
   },
   {
    "duration": 5,
    "start_time": "2022-04-16T09:39:14.508Z"
   },
   {
    "duration": 9,
    "start_time": "2022-04-16T09:39:14.515Z"
   },
   {
    "duration": 6,
    "start_time": "2022-04-16T09:39:14.526Z"
   },
   {
    "duration": 4065,
    "start_time": "2022-04-16T09:39:14.533Z"
   },
   {
    "duration": 6,
    "start_time": "2022-04-16T09:39:18.600Z"
   },
   {
    "duration": 8,
    "start_time": "2022-04-16T09:39:18.608Z"
   },
   {
    "duration": 5,
    "start_time": "2022-04-16T09:39:18.618Z"
   },
   {
    "duration": 6,
    "start_time": "2022-04-16T09:39:18.625Z"
   },
   {
    "duration": 6,
    "start_time": "2022-04-16T09:39:18.633Z"
   },
   {
    "duration": 15,
    "start_time": "2022-04-16T09:39:18.673Z"
   },
   {
    "duration": 5,
    "start_time": "2022-04-16T09:39:18.690Z"
   },
   {
    "duration": 17,
    "start_time": "2022-04-16T09:39:18.697Z"
   },
   {
    "duration": 10,
    "start_time": "2022-04-16T09:39:18.716Z"
   },
   {
    "duration": 6,
    "start_time": "2022-04-16T09:39:18.727Z"
   },
   {
    "duration": 38,
    "start_time": "2022-04-16T09:39:18.735Z"
   },
   {
    "duration": 6,
    "start_time": "2022-04-16T09:39:18.775Z"
   },
   {
    "duration": 268,
    "start_time": "2022-04-16T09:39:18.783Z"
   },
   {
    "duration": 7,
    "start_time": "2022-04-16T09:39:19.052Z"
   },
   {
    "duration": 15,
    "start_time": "2022-04-16T09:39:19.061Z"
   },
   {
    "duration": 355,
    "start_time": "2022-04-16T09:39:19.078Z"
   },
   {
    "duration": 5,
    "start_time": "2022-04-16T09:39:19.435Z"
   },
   {
    "duration": 5,
    "start_time": "2022-04-16T09:39:19.442Z"
   },
   {
    "duration": 27,
    "start_time": "2022-04-16T09:39:19.449Z"
   },
   {
    "duration": 13,
    "start_time": "2022-04-16T09:39:19.478Z"
   },
   {
    "duration": 6,
    "start_time": "2022-04-16T09:39:19.492Z"
   },
   {
    "duration": 6,
    "start_time": "2022-04-16T09:39:19.500Z"
   },
   {
    "duration": 12,
    "start_time": "2022-04-16T09:39:19.507Z"
   },
   {
    "duration": 232,
    "start_time": "2022-04-16T09:39:19.520Z"
   },
   {
    "duration": 248,
    "start_time": "2022-04-16T09:39:19.754Z"
   },
   {
    "duration": 14,
    "start_time": "2022-04-16T09:39:20.004Z"
   },
   {
    "duration": 56,
    "start_time": "2022-04-16T09:39:20.020Z"
   },
   {
    "duration": 5,
    "start_time": "2022-04-16T09:39:20.078Z"
   },
   {
    "duration": 6,
    "start_time": "2022-04-16T09:39:20.085Z"
   },
   {
    "duration": 18,
    "start_time": "2022-04-16T09:39:20.093Z"
   },
   {
    "duration": 18,
    "start_time": "2022-04-16T09:39:20.112Z"
   },
   {
    "duration": 7,
    "start_time": "2022-04-16T09:39:20.131Z"
   },
   {
    "duration": 34,
    "start_time": "2022-04-16T09:39:20.175Z"
   },
   {
    "duration": 14,
    "start_time": "2022-04-16T09:39:20.211Z"
   },
   {
    "duration": 14,
    "start_time": "2022-04-16T09:39:20.227Z"
   },
   {
    "duration": 39,
    "start_time": "2022-04-16T09:39:20.243Z"
   },
   {
    "duration": 11,
    "start_time": "2022-04-16T09:39:20.284Z"
   },
   {
    "duration": 18,
    "start_time": "2022-04-16T09:39:20.296Z"
   },
   {
    "duration": 4,
    "start_time": "2022-04-16T09:39:20.316Z"
   },
   {
    "duration": 6,
    "start_time": "2022-04-16T09:39:20.322Z"
   },
   {
    "duration": 45,
    "start_time": "2022-04-16T09:39:20.329Z"
   },
   {
    "duration": 5,
    "start_time": "2022-04-16T09:39:20.376Z"
   },
   {
    "duration": 11,
    "start_time": "2022-04-16T09:39:20.382Z"
   },
   {
    "duration": 19,
    "start_time": "2022-04-16T09:39:20.395Z"
   },
   {
    "duration": 21,
    "start_time": "2022-04-16T09:39:20.416Z"
   },
   {
    "duration": 34,
    "start_time": "2022-04-16T09:39:20.439Z"
   },
   {
    "duration": 12,
    "start_time": "2022-04-16T09:39:20.475Z"
   },
   {
    "duration": 13,
    "start_time": "2022-04-16T09:39:20.489Z"
   },
   {
    "duration": 34,
    "start_time": "2022-04-16T09:39:20.504Z"
   },
   {
    "duration": 11,
    "start_time": "2022-04-16T09:39:23.801Z"
   },
   {
    "duration": 65,
    "start_time": "2022-04-16T09:39:51.940Z"
   },
   {
    "duration": 16,
    "start_time": "2022-04-16T09:39:52.007Z"
   },
   {
    "duration": 4,
    "start_time": "2022-04-16T09:39:52.025Z"
   },
   {
    "duration": 8,
    "start_time": "2022-04-16T09:39:52.031Z"
   },
   {
    "duration": 34,
    "start_time": "2022-04-16T09:39:52.041Z"
   },
   {
    "duration": 13,
    "start_time": "2022-04-16T09:39:52.077Z"
   },
   {
    "duration": 5,
    "start_time": "2022-04-16T09:39:52.092Z"
   },
   {
    "duration": 3687,
    "start_time": "2022-04-16T09:39:52.099Z"
   },
   {
    "duration": 7,
    "start_time": "2022-04-16T09:39:55.788Z"
   },
   {
    "duration": 6,
    "start_time": "2022-04-16T09:39:55.796Z"
   },
   {
    "duration": 5,
    "start_time": "2022-04-16T09:39:55.804Z"
   },
   {
    "duration": 17,
    "start_time": "2022-04-16T09:39:55.811Z"
   },
   {
    "duration": 10,
    "start_time": "2022-04-16T09:39:55.830Z"
   },
   {
    "duration": 41,
    "start_time": "2022-04-16T09:39:55.843Z"
   },
   {
    "duration": 5,
    "start_time": "2022-04-16T09:39:55.886Z"
   },
   {
    "duration": 16,
    "start_time": "2022-04-16T09:39:55.893Z"
   },
   {
    "duration": 11,
    "start_time": "2022-04-16T09:39:55.911Z"
   },
   {
    "duration": 8,
    "start_time": "2022-04-16T09:39:55.924Z"
   },
   {
    "duration": 4,
    "start_time": "2022-04-16T09:39:55.934Z"
   },
   {
    "duration": 37,
    "start_time": "2022-04-16T09:39:55.940Z"
   },
   {
    "duration": 253,
    "start_time": "2022-04-16T09:39:55.979Z"
   },
   {
    "duration": 6,
    "start_time": "2022-04-16T09:39:56.234Z"
   },
   {
    "duration": 6,
    "start_time": "2022-04-16T09:39:56.241Z"
   },
   {
    "duration": 373,
    "start_time": "2022-04-16T09:39:56.248Z"
   },
   {
    "duration": 6,
    "start_time": "2022-04-16T09:39:56.622Z"
   },
   {
    "duration": 5,
    "start_time": "2022-04-16T09:39:56.630Z"
   },
   {
    "duration": 9,
    "start_time": "2022-04-16T09:39:56.636Z"
   },
   {
    "duration": 34,
    "start_time": "2022-04-16T09:39:56.647Z"
   },
   {
    "duration": 5,
    "start_time": "2022-04-16T09:39:56.683Z"
   },
   {
    "duration": 8,
    "start_time": "2022-04-16T09:39:56.690Z"
   },
   {
    "duration": 13,
    "start_time": "2022-04-16T09:39:56.700Z"
   },
   {
    "duration": 225,
    "start_time": "2022-04-16T09:39:56.715Z"
   },
   {
    "duration": 255,
    "start_time": "2022-04-16T09:39:56.942Z"
   },
   {
    "duration": 13,
    "start_time": "2022-04-16T09:39:57.199Z"
   },
   {
    "duration": 32,
    "start_time": "2022-04-16T09:39:57.214Z"
   },
   {
    "duration": 26,
    "start_time": "2022-04-16T09:39:57.248Z"
   },
   {
    "duration": 7,
    "start_time": "2022-04-16T09:39:57.276Z"
   },
   {
    "duration": 20,
    "start_time": "2022-04-16T09:39:57.284Z"
   },
   {
    "duration": 17,
    "start_time": "2022-04-16T09:39:57.306Z"
   },
   {
    "duration": 3,
    "start_time": "2022-04-16T09:39:57.325Z"
   },
   {
    "duration": 61,
    "start_time": "2022-04-16T09:39:57.333Z"
   },
   {
    "duration": 16,
    "start_time": "2022-04-16T09:39:57.396Z"
   },
   {
    "duration": 15,
    "start_time": "2022-04-16T09:39:57.413Z"
   },
   {
    "duration": 12,
    "start_time": "2022-04-16T09:39:57.430Z"
   },
   {
    "duration": 39,
    "start_time": "2022-04-16T09:39:57.444Z"
   },
   {
    "duration": 11,
    "start_time": "2022-04-16T09:39:57.484Z"
   },
   {
    "duration": 6,
    "start_time": "2022-04-16T09:39:57.496Z"
   },
   {
    "duration": 8,
    "start_time": "2022-04-16T09:39:57.503Z"
   },
   {
    "duration": 20,
    "start_time": "2022-04-16T09:39:57.513Z"
   },
   {
    "duration": 4,
    "start_time": "2022-04-16T09:39:57.535Z"
   },
   {
    "duration": 5,
    "start_time": "2022-04-16T09:39:57.574Z"
   },
   {
    "duration": 21,
    "start_time": "2022-04-16T09:39:57.581Z"
   },
   {
    "duration": 21,
    "start_time": "2022-04-16T09:39:57.604Z"
   },
   {
    "duration": 6,
    "start_time": "2022-04-16T09:39:57.628Z"
   },
   {
    "duration": 41,
    "start_time": "2022-04-16T09:39:57.636Z"
   },
   {
    "duration": 13,
    "start_time": "2022-04-16T09:39:57.679Z"
   },
   {
    "duration": 31,
    "start_time": "2022-04-16T09:39:57.694Z"
   },
   {
    "duration": 10,
    "start_time": "2022-04-16T09:39:57.726Z"
   },
   {
    "duration": 45,
    "start_time": "2022-04-16T09:39:57.737Z"
   },
   {
    "duration": 11,
    "start_time": "2022-04-16T09:40:01.128Z"
   },
   {
    "duration": 545,
    "start_time": "2022-04-16T09:40:44.753Z"
   },
   {
    "duration": 15,
    "start_time": "2022-04-16T09:40:45.300Z"
   },
   {
    "duration": 4,
    "start_time": "2022-04-16T09:40:45.317Z"
   },
   {
    "duration": 5,
    "start_time": "2022-04-16T09:40:45.323Z"
   },
   {
    "duration": 5,
    "start_time": "2022-04-16T09:40:45.330Z"
   },
   {
    "duration": 5,
    "start_time": "2022-04-16T09:40:45.336Z"
   },
   {
    "duration": 31,
    "start_time": "2022-04-16T09:40:45.343Z"
   },
   {
    "duration": 4226,
    "start_time": "2022-04-16T09:40:45.376Z"
   },
   {
    "duration": 7,
    "start_time": "2022-04-16T09:40:49.604Z"
   },
   {
    "duration": 12,
    "start_time": "2022-04-16T09:40:49.613Z"
   },
   {
    "duration": 23,
    "start_time": "2022-04-16T09:40:49.627Z"
   },
   {
    "duration": 9,
    "start_time": "2022-04-16T09:40:49.651Z"
   },
   {
    "duration": 12,
    "start_time": "2022-04-16T09:40:49.662Z"
   },
   {
    "duration": 15,
    "start_time": "2022-04-16T09:40:49.677Z"
   },
   {
    "duration": 7,
    "start_time": "2022-04-16T09:40:49.694Z"
   },
   {
    "duration": 17,
    "start_time": "2022-04-16T09:40:49.702Z"
   },
   {
    "duration": 25,
    "start_time": "2022-04-16T09:40:49.721Z"
   },
   {
    "duration": 18,
    "start_time": "2022-04-16T09:40:49.748Z"
   },
   {
    "duration": 10,
    "start_time": "2022-04-16T09:40:49.768Z"
   },
   {
    "duration": 12,
    "start_time": "2022-04-16T09:40:49.779Z"
   },
   {
    "duration": 254,
    "start_time": "2022-04-16T09:40:49.793Z"
   },
   {
    "duration": 7,
    "start_time": "2022-04-16T09:40:50.049Z"
   },
   {
    "duration": 21,
    "start_time": "2022-04-16T09:40:50.058Z"
   },
   {
    "duration": 358,
    "start_time": "2022-04-16T09:40:50.081Z"
   },
   {
    "duration": 5,
    "start_time": "2022-04-16T09:40:50.441Z"
   },
   {
    "duration": 22,
    "start_time": "2022-04-16T09:40:50.448Z"
   },
   {
    "duration": 34,
    "start_time": "2022-04-16T09:40:50.472Z"
   },
   {
    "duration": 25,
    "start_time": "2022-04-16T09:40:50.508Z"
   },
   {
    "duration": 6,
    "start_time": "2022-04-16T09:40:50.535Z"
   },
   {
    "duration": 7,
    "start_time": "2022-04-16T09:40:50.543Z"
   },
   {
    "duration": 12,
    "start_time": "2022-04-16T09:40:50.551Z"
   },
   {
    "duration": 200,
    "start_time": "2022-04-16T09:40:50.565Z"
   },
   {
    "duration": 257,
    "start_time": "2022-04-16T09:40:50.767Z"
   },
   {
    "duration": 14,
    "start_time": "2022-04-16T09:40:51.026Z"
   },
   {
    "duration": 53,
    "start_time": "2022-04-16T09:40:51.041Z"
   },
   {
    "duration": 6,
    "start_time": "2022-04-16T09:40:51.096Z"
   },
   {
    "duration": 7,
    "start_time": "2022-04-16T09:40:51.103Z"
   },
   {
    "duration": 19,
    "start_time": "2022-04-16T09:40:51.111Z"
   },
   {
    "duration": 47,
    "start_time": "2022-04-16T09:40:51.131Z"
   },
   {
    "duration": 4,
    "start_time": "2022-04-16T09:40:51.180Z"
   },
   {
    "duration": 31,
    "start_time": "2022-04-16T09:40:51.188Z"
   },
   {
    "duration": 15,
    "start_time": "2022-04-16T09:40:51.221Z"
   },
   {
    "duration": 44,
    "start_time": "2022-04-16T09:40:51.238Z"
   },
   {
    "duration": 13,
    "start_time": "2022-04-16T09:40:51.283Z"
   },
   {
    "duration": 12,
    "start_time": "2022-04-16T09:40:51.297Z"
   },
   {
    "duration": 12,
    "start_time": "2022-04-16T09:40:51.311Z"
   },
   {
    "duration": 4,
    "start_time": "2022-04-16T09:40:51.325Z"
   },
   {
    "duration": 6,
    "start_time": "2022-04-16T09:40:51.331Z"
   },
   {
    "duration": 46,
    "start_time": "2022-04-16T09:40:51.339Z"
   },
   {
    "duration": 4,
    "start_time": "2022-04-16T09:40:51.387Z"
   },
   {
    "duration": 9,
    "start_time": "2022-04-16T09:40:51.393Z"
   },
   {
    "duration": 23,
    "start_time": "2022-04-16T09:40:51.404Z"
   },
   {
    "duration": 21,
    "start_time": "2022-04-16T09:40:51.429Z"
   },
   {
    "duration": 26,
    "start_time": "2022-04-16T09:40:51.452Z"
   },
   {
    "duration": 11,
    "start_time": "2022-04-16T09:40:51.481Z"
   },
   {
    "duration": 13,
    "start_time": "2022-04-16T09:40:51.494Z"
   },
   {
    "duration": 34,
    "start_time": "2022-04-16T09:40:51.509Z"
   },
   {
    "duration": 10,
    "start_time": "2022-04-16T09:40:51.573Z"
   },
   {
    "duration": 18,
    "start_time": "2022-04-16T09:40:51.586Z"
   },
   {
    "duration": 10,
    "start_time": "2022-04-16T09:40:51.606Z"
   },
   {
    "duration": 27,
    "start_time": "2022-04-16T09:40:51.617Z"
   },
   {
    "duration": 22,
    "start_time": "2022-04-16T09:40:51.672Z"
   },
   {
    "duration": 10,
    "start_time": "2022-04-16T09:40:51.696Z"
   },
   {
    "duration": 521,
    "start_time": "2022-04-16T09:41:41.783Z"
   },
   {
    "duration": 15,
    "start_time": "2022-04-16T09:41:42.306Z"
   },
   {
    "duration": 6,
    "start_time": "2022-04-16T09:41:42.322Z"
   },
   {
    "duration": 17,
    "start_time": "2022-04-16T09:41:42.330Z"
   },
   {
    "duration": 7,
    "start_time": "2022-04-16T09:41:42.349Z"
   },
   {
    "duration": 7,
    "start_time": "2022-04-16T09:41:42.358Z"
   },
   {
    "duration": 4,
    "start_time": "2022-04-16T09:41:42.373Z"
   },
   {
    "duration": 4287,
    "start_time": "2022-04-16T09:41:42.379Z"
   },
   {
    "duration": 8,
    "start_time": "2022-04-16T09:41:46.668Z"
   },
   {
    "duration": 7,
    "start_time": "2022-04-16T09:41:46.680Z"
   },
   {
    "duration": 5,
    "start_time": "2022-04-16T09:41:46.689Z"
   },
   {
    "duration": 6,
    "start_time": "2022-04-16T09:41:46.696Z"
   },
   {
    "duration": 6,
    "start_time": "2022-04-16T09:41:46.704Z"
   },
   {
    "duration": 16,
    "start_time": "2022-04-16T09:41:46.712Z"
   },
   {
    "duration": 49,
    "start_time": "2022-04-16T09:41:46.729Z"
   },
   {
    "duration": 18,
    "start_time": "2022-04-16T09:41:46.780Z"
   },
   {
    "duration": 12,
    "start_time": "2022-04-16T09:41:46.799Z"
   },
   {
    "duration": 10,
    "start_time": "2022-04-16T09:41:46.812Z"
   },
   {
    "duration": 5,
    "start_time": "2022-04-16T09:41:46.823Z"
   },
   {
    "duration": 9,
    "start_time": "2022-04-16T09:41:46.829Z"
   },
   {
    "duration": 270,
    "start_time": "2022-04-16T09:41:46.840Z"
   },
   {
    "duration": 7,
    "start_time": "2022-04-16T09:41:47.111Z"
   },
   {
    "duration": 8,
    "start_time": "2022-04-16T09:41:47.119Z"
   },
   {
    "duration": 421,
    "start_time": "2022-04-16T09:41:47.128Z"
   },
   {
    "duration": 6,
    "start_time": "2022-04-16T09:41:47.551Z"
   },
   {
    "duration": 16,
    "start_time": "2022-04-16T09:41:47.558Z"
   },
   {
    "duration": 10,
    "start_time": "2022-04-16T09:41:47.575Z"
   },
   {
    "duration": 15,
    "start_time": "2022-04-16T09:41:47.589Z"
   },
   {
    "duration": 10,
    "start_time": "2022-04-16T09:41:47.606Z"
   },
   {
    "duration": 7,
    "start_time": "2022-04-16T09:41:47.618Z"
   },
   {
    "duration": 50,
    "start_time": "2022-04-16T09:41:47.628Z"
   },
   {
    "duration": 208,
    "start_time": "2022-04-16T09:41:47.680Z"
   },
   {
    "duration": 242,
    "start_time": "2022-04-16T09:41:47.890Z"
   },
   {
    "duration": 13,
    "start_time": "2022-04-16T09:41:48.134Z"
   },
   {
    "duration": 51,
    "start_time": "2022-04-16T09:41:48.149Z"
   },
   {
    "duration": 6,
    "start_time": "2022-04-16T09:41:48.201Z"
   },
   {
    "duration": 7,
    "start_time": "2022-04-16T09:41:48.209Z"
   },
   {
    "duration": 19,
    "start_time": "2022-04-16T09:41:48.218Z"
   },
   {
    "duration": 42,
    "start_time": "2022-04-16T09:41:48.238Z"
   },
   {
    "duration": 4,
    "start_time": "2022-04-16T09:41:48.282Z"
   },
   {
    "duration": 35,
    "start_time": "2022-04-16T09:41:48.288Z"
   },
   {
    "duration": 15,
    "start_time": "2022-04-16T09:41:48.324Z"
   },
   {
    "duration": 39,
    "start_time": "2022-04-16T09:41:48.341Z"
   },
   {
    "duration": 18,
    "start_time": "2022-04-16T09:41:48.382Z"
   },
   {
    "duration": 13,
    "start_time": "2022-04-16T09:41:48.401Z"
   },
   {
    "duration": 14,
    "start_time": "2022-04-16T09:41:48.415Z"
   },
   {
    "duration": 4,
    "start_time": "2022-04-16T09:41:48.431Z"
   },
   {
    "duration": 37,
    "start_time": "2022-04-16T09:41:48.437Z"
   },
   {
    "duration": 17,
    "start_time": "2022-04-16T09:41:48.476Z"
   },
   {
    "duration": 6,
    "start_time": "2022-04-16T09:41:48.495Z"
   },
   {
    "duration": 13,
    "start_time": "2022-04-16T09:41:48.502Z"
   },
   {
    "duration": 27,
    "start_time": "2022-04-16T09:41:48.516Z"
   },
   {
    "duration": 39,
    "start_time": "2022-04-16T09:41:48.545Z"
   },
   {
    "duration": 6,
    "start_time": "2022-04-16T09:41:48.586Z"
   },
   {
    "duration": 11,
    "start_time": "2022-04-16T09:41:48.594Z"
   },
   {
    "duration": 16,
    "start_time": "2022-04-16T09:41:48.607Z"
   },
   {
    "duration": 62,
    "start_time": "2022-04-16T09:41:48.625Z"
   },
   {
    "duration": 10,
    "start_time": "2022-04-16T09:41:48.688Z"
   },
   {
    "duration": 21,
    "start_time": "2022-04-16T09:41:48.700Z"
   },
   {
    "duration": 10,
    "start_time": "2022-04-16T09:41:48.723Z"
   },
   {
    "duration": 56,
    "start_time": "2022-04-16T09:41:48.735Z"
   },
   {
    "duration": 20,
    "start_time": "2022-04-16T09:41:48.793Z"
   },
   {
    "duration": 10,
    "start_time": "2022-04-16T09:41:48.814Z"
   },
   {
    "duration": 563,
    "start_time": "2022-04-16T10:01:01.153Z"
   },
   {
    "duration": 17,
    "start_time": "2022-04-16T10:01:01.719Z"
   },
   {
    "duration": 5,
    "start_time": "2022-04-16T10:01:01.739Z"
   },
   {
    "duration": 28,
    "start_time": "2022-04-16T10:01:01.747Z"
   },
   {
    "duration": 5,
    "start_time": "2022-04-16T10:01:01.778Z"
   },
   {
    "duration": 9,
    "start_time": "2022-04-16T10:01:01.784Z"
   },
   {
    "duration": 9,
    "start_time": "2022-04-16T10:01:01.794Z"
   },
   {
    "duration": 4567,
    "start_time": "2022-04-16T10:01:01.805Z"
   },
   {
    "duration": 9,
    "start_time": "2022-04-16T10:01:06.374Z"
   },
   {
    "duration": 10,
    "start_time": "2022-04-16T10:01:06.387Z"
   },
   {
    "duration": 8,
    "start_time": "2022-04-16T10:01:06.399Z"
   },
   {
    "duration": 6,
    "start_time": "2022-04-16T10:01:06.409Z"
   },
   {
    "duration": 5,
    "start_time": "2022-04-16T10:01:06.417Z"
   },
   {
    "duration": 50,
    "start_time": "2022-04-16T10:01:06.424Z"
   },
   {
    "duration": 6,
    "start_time": "2022-04-16T10:01:06.476Z"
   },
   {
    "duration": 15,
    "start_time": "2022-04-16T10:01:06.484Z"
   },
   {
    "duration": 11,
    "start_time": "2022-04-16T10:01:06.501Z"
   },
   {
    "duration": 10,
    "start_time": "2022-04-16T10:01:06.514Z"
   },
   {
    "duration": 5,
    "start_time": "2022-04-16T10:01:06.526Z"
   },
   {
    "duration": 9,
    "start_time": "2022-04-16T10:01:06.533Z"
   },
   {
    "duration": 251,
    "start_time": "2022-04-16T10:01:06.574Z"
   },
   {
    "duration": 7,
    "start_time": "2022-04-16T10:01:06.827Z"
   },
   {
    "duration": 6,
    "start_time": "2022-04-16T10:01:06.836Z"
   },
   {
    "duration": 404,
    "start_time": "2022-04-16T10:01:06.844Z"
   },
   {
    "duration": 6,
    "start_time": "2022-04-16T10:01:07.250Z"
   },
   {
    "duration": 16,
    "start_time": "2022-04-16T10:01:07.258Z"
   },
   {
    "duration": 12,
    "start_time": "2022-04-16T10:01:07.276Z"
   },
   {
    "duration": 11,
    "start_time": "2022-04-16T10:01:07.292Z"
   },
   {
    "duration": 8,
    "start_time": "2022-04-16T10:01:07.304Z"
   },
   {
    "duration": 12,
    "start_time": "2022-04-16T10:01:07.314Z"
   },
   {
    "duration": 45,
    "start_time": "2022-04-16T10:01:07.328Z"
   },
   {
    "duration": 204,
    "start_time": "2022-04-16T10:01:07.375Z"
   },
   {
    "duration": 248,
    "start_time": "2022-04-16T10:01:07.581Z"
   },
   {
    "duration": 14,
    "start_time": "2022-04-16T10:01:07.831Z"
   },
   {
    "duration": 55,
    "start_time": "2022-04-16T10:01:07.846Z"
   },
   {
    "duration": 6,
    "start_time": "2022-04-16T10:01:07.903Z"
   },
   {
    "duration": 7,
    "start_time": "2022-04-16T10:01:07.911Z"
   },
   {
    "duration": 18,
    "start_time": "2022-04-16T10:01:07.920Z"
   },
   {
    "duration": 42,
    "start_time": "2022-04-16T10:01:07.940Z"
   },
   {
    "duration": 4,
    "start_time": "2022-04-16T10:01:07.983Z"
   },
   {
    "duration": 34,
    "start_time": "2022-04-16T10:01:07.988Z"
   },
   {
    "duration": 15,
    "start_time": "2022-04-16T10:01:08.023Z"
   },
   {
    "duration": 43,
    "start_time": "2022-04-16T10:01:08.040Z"
   },
   {
    "duration": 12,
    "start_time": "2022-04-16T10:01:08.085Z"
   },
   {
    "duration": 11,
    "start_time": "2022-04-16T10:01:08.099Z"
   },
   {
    "duration": 12,
    "start_time": "2022-04-16T10:01:08.112Z"
   },
   {
    "duration": 5,
    "start_time": "2022-04-16T10:01:08.126Z"
   },
   {
    "duration": 41,
    "start_time": "2022-04-16T10:01:08.133Z"
   },
   {
    "duration": 22,
    "start_time": "2022-04-16T10:01:08.177Z"
   },
   {
    "duration": 4,
    "start_time": "2022-04-16T10:01:08.201Z"
   },
   {
    "duration": 11,
    "start_time": "2022-04-16T10:01:08.206Z"
   },
   {
    "duration": 21,
    "start_time": "2022-04-16T10:01:08.219Z"
   },
   {
    "duration": 41,
    "start_time": "2022-04-16T10:01:08.242Z"
   },
   {
    "duration": 8,
    "start_time": "2022-04-16T10:01:08.284Z"
   },
   {
    "duration": 15,
    "start_time": "2022-04-16T10:01:08.293Z"
   },
   {
    "duration": 14,
    "start_time": "2022-04-16T10:01:08.310Z"
   },
   {
    "duration": 58,
    "start_time": "2022-04-16T10:01:08.326Z"
   },
   {
    "duration": 11,
    "start_time": "2022-04-16T10:01:08.385Z"
   },
   {
    "duration": 24,
    "start_time": "2022-04-16T10:01:08.397Z"
   },
   {
    "duration": 11,
    "start_time": "2022-04-16T10:01:08.422Z"
   },
   {
    "duration": 52,
    "start_time": "2022-04-16T10:01:08.434Z"
   },
   {
    "duration": 21,
    "start_time": "2022-04-16T10:01:08.489Z"
   },
   {
    "duration": 10,
    "start_time": "2022-04-16T10:01:08.512Z"
   }
  ],
  "kernelspec": {
   "display_name": "Python 3 (ipykernel)",
   "language": "python",
   "name": "python3"
  },
  "language_info": {
   "codemirror_mode": {
    "name": "ipython",
    "version": 3
   },
   "file_extension": ".py",
   "mimetype": "text/x-python",
   "name": "python",
   "nbconvert_exporter": "python",
   "pygments_lexer": "ipython3",
   "version": "3.9.12"
  },
  "toc": {
   "base_numbering": 1,
   "nav_menu": {
    "height": "318px",
    "width": "504px"
   },
   "number_sections": true,
   "sideBar": true,
   "skip_h1_title": true,
   "title_cell": "Содержание",
   "title_sidebar": "Содержание",
   "toc_cell": true,
   "toc_position": {},
   "toc_section_display": true,
   "toc_window_display": false
  },
  "varInspector": {
   "cols": {
    "lenName": 16,
    "lenType": 16,
    "lenVar": 40
   },
   "kernels_config": {
    "python": {
     "delete_cmd_postfix": "",
     "delete_cmd_prefix": "del ",
     "library": "var_list.py",
     "varRefreshCmd": "print(var_dic_list())"
    },
    "r": {
     "delete_cmd_postfix": ") ",
     "delete_cmd_prefix": "rm(",
     "library": "var_list.r",
     "varRefreshCmd": "cat(var_dic_list()) "
    }
   },
   "types_to_exclude": [
    "module",
    "function",
    "builtin_function_or_method",
    "instance",
    "_Feature"
   ],
   "window_display": false
  }
 },
 "nbformat": 4,
 "nbformat_minor": 5
}
