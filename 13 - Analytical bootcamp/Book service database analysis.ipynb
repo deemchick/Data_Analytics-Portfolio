{
 "cells": [
  {
   "cell_type": "markdown",
   "id": "ba14a33e",
   "metadata": {},
   "source": [
    "# Анализ базы данных книжного сервиса"
   ]
  },
  {
   "cell_type": "markdown",
   "id": "16ea5730",
   "metadata": {},
   "source": [
    "---"
   ]
  },
  {
   "cell_type": "markdown",
   "id": "16aee724",
   "metadata": {
    "toc": true
   },
   "source": [
    "<h1>Содержание<span class=\"tocSkip\"></span></h1>\n",
    "<div class=\"toc\"><ul class=\"toc-item\"><li><span><a href=\"#Библиотеки,-используемые-в-исследовании\" data-toc-modified-id=\"Библиотеки,-используемые-в-исследовании-1\"><span class=\"toc-item-num\">1&nbsp;&nbsp;</span>Библиотеки, используемые в исследовании</a></span></li><li><span><a href=\"#Загрузка-и-обзор-данных\" data-toc-modified-id=\"Загрузка-и-обзор-данных-2\"><span class=\"toc-item-num\">2&nbsp;&nbsp;</span>Загрузка и обзор данных</a></span><ul class=\"toc-item\"><li><span><a href=\"#Установка-соединения-с-базой-данных\" data-toc-modified-id=\"Установка-соединения-с-базой-данных-2.1\"><span class=\"toc-item-num\">2.1&nbsp;&nbsp;</span>Установка соединения с базой данных</a></span></li><li><span><a href=\"#Обзор-таблицы-books\" data-toc-modified-id=\"Обзор-таблицы-books-2.2\"><span class=\"toc-item-num\">2.2&nbsp;&nbsp;</span>Обзор таблицы <code>books</code></a></span></li><li><span><a href=\"#Обзор-таблицы-authors\" data-toc-modified-id=\"Обзор-таблицы-authors-2.3\"><span class=\"toc-item-num\">2.3&nbsp;&nbsp;</span>Обзор таблицы <code>authors</code></a></span></li><li><span><a href=\"#Обзор-таблицы-publishers\" data-toc-modified-id=\"Обзор-таблицы-publishers-2.4\"><span class=\"toc-item-num\">2.4&nbsp;&nbsp;</span>Обзор таблицы <code>publishers</code></a></span></li><li><span><a href=\"#Обзор-таблицы-ratings\" data-toc-modified-id=\"Обзор-таблицы-ratings-2.5\"><span class=\"toc-item-num\">2.5&nbsp;&nbsp;</span>Обзор таблицы <code>ratings</code></a></span></li><li><span><a href=\"#Обзор-таблицы-reviews\" data-toc-modified-id=\"Обзор-таблицы-reviews-2.6\"><span class=\"toc-item-num\">2.6&nbsp;&nbsp;</span>Обзор таблицы <code>reviews</code></a></span></li></ul></li><li><span><a href=\"#Ответы-на-вопросы-исследования\" data-toc-modified-id=\"Ответы-на-вопросы-исследования-3\"><span class=\"toc-item-num\">3&nbsp;&nbsp;</span>Ответы на вопросы исследования</a></span><ul class=\"toc-item\"><li><span><a href=\"#Сколько-книг-вышло-после-1-января-2000-года\" data-toc-modified-id=\"Сколько-книг-вышло-после-1-января-2000-года-3.1\"><span class=\"toc-item-num\">3.1&nbsp;&nbsp;</span>Сколько книг вышло после 1 января 2000 года</a></span></li><li><span><a href=\"#Для-каждой-книги-посчитать-количество-обзоров-и-среднюю-оценку;\" data-toc-modified-id=\"Для-каждой-книги-посчитать-количество-обзоров-и-среднюю-оценку;-3.2\"><span class=\"toc-item-num\">3.2&nbsp;&nbsp;</span>Для каждой книги посчитать количество обзоров и среднюю оценку;</a></span></li><li><span><a href=\"#Определить-издательство,-которое-выпустило-наибольшее-число-книг-толще-50-страниц-(исключит-из-анализа-брошюры);\" data-toc-modified-id=\"Определить-издательство,-которое-выпустило-наибольшее-число-книг-толще-50-страниц-(исключит-из-анализа-брошюры);-3.3\"><span class=\"toc-item-num\">3.3&nbsp;&nbsp;</span>Определить издательство, которое выпустило наибольшее число книг толще 50 страниц (исключит из анализа брошюры);</a></span></li><li><span><a href=\"#Определить-автора-с-самой-высокой-средней-оценкой-книг-(учитывать-только-книги-с-50-и-более-оценками);\" data-toc-modified-id=\"Определить-автора-с-самой-высокой-средней-оценкой-книг-(учитывать-только-книги-с-50-и-более-оценками);-3.4\"><span class=\"toc-item-num\">3.4&nbsp;&nbsp;</span>Определить автора с самой высокой средней оценкой книг (учитывать только книги с 50 и более оценками);</a></span></li><li><span><a href=\"#Посчитать-среднее-количество-обзоров-от-пользователей,-которые-поставили-больше-50-оценок.\" data-toc-modified-id=\"Посчитать-среднее-количество-обзоров-от-пользователей,-которые-поставили-больше-50-оценок.-3.5\"><span class=\"toc-item-num\">3.5&nbsp;&nbsp;</span>Посчитать среднее количество обзоров от пользователей, которые поставили больше 50 оценок.</a></span></li></ul></li><li><span><a href=\"#Выводы\" data-toc-modified-id=\"Выводы-4\"><span class=\"toc-item-num\">4&nbsp;&nbsp;</span>Выводы</a></span></li></ul></div>"
   ]
  },
  {
   "cell_type": "markdown",
   "id": "ef30907f",
   "metadata": {},
   "source": [
    "---"
   ]
  },
  {
   "cell_type": "markdown",
   "id": "e5db6549",
   "metadata": {},
   "source": [
    "В условиях коронавирусных ограничений возросла популярность чтения. Наш стартап разрабатывает инновационное приложение для любителей чтения.\n",
    "\n",
    "**Цель исследования:** сформулировать ценностное предложение для нового продукта.\n",
    "\n",
    "**Задачи исследования:** проанализировать базу данных крупного сервиса для чтения книг по подписке и ответить на основные вопросы:\n",
    "- сколько книг вышло после 1 января 2000 года;\n",
    "- для каждой книги посчитать количество обзоров и среднюю оценку;\n",
    "- определить издательство, которое выпустило наибольшее число книг толще 50 страниц (исключит из анализа брошюры);\n",
    "- определить автора с самой высокой средней оценкой книг (учитывать только книги с 50 и более оценками);\n",
    "- посчитать среднее количество обзоров от пользователей, которые поставили больше 50 оценок.\n",
    "\n",
    "**Примерный план исследования:**\n",
    "- исследовать таблицы, вывести первые строки;\n",
    "- выполнить SQL-запросы, результаты которых отвечают на вопросы исследования;\n",
    "- сделать выводы."
   ]
  },
  {
   "cell_type": "markdown",
   "id": "2bef1cd7",
   "metadata": {},
   "source": [
    "---"
   ]
  },
  {
   "cell_type": "markdown",
   "id": "12a183ca",
   "metadata": {},
   "source": [
    "## Библиотеки, используемые в исследовании"
   ]
  },
  {
   "cell_type": "code",
   "execution_count": 1,
   "id": "f334c853",
   "metadata": {
    "ExecuteTime": {
     "end_time": "2022-09-17T08:04:43.507734Z",
     "start_time": "2022-09-17T08:04:41.578004Z"
    }
   },
   "outputs": [],
   "source": [
    "import pandas as pd\n",
    "from sqlalchemy import create_engine"
   ]
  },
  {
   "cell_type": "markdown",
   "id": "90ee140a",
   "metadata": {},
   "source": [
    "---"
   ]
  },
  {
   "cell_type": "markdown",
   "id": "1eba4cf3",
   "metadata": {},
   "source": [
    "## Загрузка и обзор данных"
   ]
  },
  {
   "cell_type": "code",
   "execution_count": 2,
   "id": "44d4477a",
   "metadata": {
    "ExecuteTime": {
     "end_time": "2022-09-17T08:04:43.539727Z",
     "start_time": "2022-09-17T08:04:43.512727Z"
    },
    "code_folding": [
     9
    ]
   },
   "outputs": [],
   "source": [
    "# определение функции обзора данных\n",
    "# ===============================================\n",
    "# на вход подаётся датафрейм df\n",
    "# на выходе:\n",
    "#     - 10 случайных строк df\n",
    "#     - информация df.info()\n",
    "#     - количество явных дубликатов в строках df\n",
    "#     - процент пропусков данных в столбцах df\n",
    "# ===============================================\n",
    "def data_observe(df):\n",
    "    row_num = 5    # количество отображаемых строк таблицы\n",
    "    \n",
    "    print('Размерность данных (row, col):', df.shape)\n",
    "    print('============================\\n')\n",
    "    \n",
    "    print('Произвольные строки таблицы:')\n",
    "    print('============================')\n",
    "    if len(df) >= row_num:\n",
    "        display(df.sample(row_num))\n",
    "    else:\n",
    "        display(df)\n",
    "\n",
    "    print('\\nИнформация о таблице:')\n",
    "    print('=====================')\n",
    "    df.info()\n",
    "    \n",
    "    print('\\nКоличество явных дубликатов в таблице:')\n",
    "    print('======================================')\n",
    "    print(df.duplicated().sum())\n",
    "    \n",
    "    print('\\nПроцент пропусков в столбцах:')\n",
    "    print('=============================')\n",
    "    display(pd.DataFrame(\n",
    "                round((df.isna().mean()*100),2), columns=['NaNs, %'])\n",
    "                .sort_values(by='NaNs, %', ascending=False\n",
    "            )\n",
    "        .style.format('{:.2f}')\n",
    "        .background_gradient('coolwarm')\n",
    "    )"
   ]
  },
  {
   "cell_type": "markdown",
   "id": "255f28b9",
   "metadata": {},
   "source": [
    "### Установка соединения с базой данных"
   ]
  },
  {
   "cell_type": "code",
   "execution_count": 3,
   "id": "ae2bb7b8",
   "metadata": {
    "ExecuteTime": {
     "end_time": "2022-09-17T08:04:43.681250Z",
     "start_time": "2022-09-17T08:04:43.550727Z"
    }
   },
   "outputs": [],
   "source": [
    "# устанавливаем параметры\n",
    "db_config = {'user': 'user',           # имя пользователя\n",
    "             'pwd': 'slHke57#2',               # пароль\n",
    "             'host': 'book.service.net',\n",
    "             'port': 6432,                          # порт подключения\n",
    "             'db': 'books-db'} # название базы данных\n",
    "\n",
    "connection_string = 'postgresql://{}:{}@{}:{}/{}'.format(db_config['user'],\n",
    "                                                         db_config['pwd'],\n",
    "                                                         db_config['host'],\n",
    "                                                         db_config['port'],\n",
    "                                                         db_config['db'])\n",
    "# сохраняем коннектор\n",
    "engine = create_engine(connection_string, connect_args={'sslmode':'require'})"
   ]
  },
  {
   "cell_type": "markdown",
   "id": "5a318ca2",
   "metadata": {},
   "source": [
    "### Обзор таблицы `books`"
   ]
  },
  {
   "cell_type": "markdown",
   "id": "6fbd642d",
   "metadata": {},
   "source": [
    "Познакомимся с данными таблицы `books`:"
   ]
  },
  {
   "cell_type": "code",
   "execution_count": 4,
   "id": "18dcff16",
   "metadata": {
    "ExecuteTime": {
     "end_time": "2022-09-17T08:04:44.452325Z",
     "start_time": "2022-09-17T08:04:43.686253Z"
    }
   },
   "outputs": [
    {
     "data": {
      "text/html": [
       "<div>\n",
       "<style scoped>\n",
       "    .dataframe tbody tr th:only-of-type {\n",
       "        vertical-align: middle;\n",
       "    }\n",
       "\n",
       "    .dataframe tbody tr th {\n",
       "        vertical-align: top;\n",
       "    }\n",
       "\n",
       "    .dataframe thead th {\n",
       "        text-align: right;\n",
       "    }\n",
       "</style>\n",
       "<table border=\"1\" class=\"dataframe\">\n",
       "  <thead>\n",
       "    <tr style=\"text-align: right;\">\n",
       "      <th></th>\n",
       "      <th>book_id</th>\n",
       "      <th>author_id</th>\n",
       "      <th>title</th>\n",
       "      <th>num_pages</th>\n",
       "      <th>publication_date</th>\n",
       "      <th>publisher_id</th>\n",
       "    </tr>\n",
       "  </thead>\n",
       "  <tbody>\n",
       "    <tr>\n",
       "      <th>0</th>\n",
       "      <td>1</td>\n",
       "      <td>546</td>\n",
       "      <td>'Salem's Lot</td>\n",
       "      <td>594</td>\n",
       "      <td>2005-11-01</td>\n",
       "      <td>93</td>\n",
       "    </tr>\n",
       "    <tr>\n",
       "      <th>1</th>\n",
       "      <td>2</td>\n",
       "      <td>465</td>\n",
       "      <td>1 000 Places to See Before You Die</td>\n",
       "      <td>992</td>\n",
       "      <td>2003-05-22</td>\n",
       "      <td>336</td>\n",
       "    </tr>\n",
       "    <tr>\n",
       "      <th>2</th>\n",
       "      <td>3</td>\n",
       "      <td>407</td>\n",
       "      <td>13 Little Blue Envelopes (Little Blue Envelope...</td>\n",
       "      <td>322</td>\n",
       "      <td>2010-12-21</td>\n",
       "      <td>135</td>\n",
       "    </tr>\n",
       "    <tr>\n",
       "      <th>3</th>\n",
       "      <td>4</td>\n",
       "      <td>82</td>\n",
       "      <td>1491: New Revelations of the Americas Before C...</td>\n",
       "      <td>541</td>\n",
       "      <td>2006-10-10</td>\n",
       "      <td>309</td>\n",
       "    </tr>\n",
       "    <tr>\n",
       "      <th>4</th>\n",
       "      <td>5</td>\n",
       "      <td>125</td>\n",
       "      <td>1776</td>\n",
       "      <td>386</td>\n",
       "      <td>2006-07-04</td>\n",
       "      <td>268</td>\n",
       "    </tr>\n",
       "    <tr>\n",
       "      <th>5</th>\n",
       "      <td>6</td>\n",
       "      <td>257</td>\n",
       "      <td>1st to Die (Women's Murder Club  #1)</td>\n",
       "      <td>424</td>\n",
       "      <td>2005-05-20</td>\n",
       "      <td>116</td>\n",
       "    </tr>\n",
       "    <tr>\n",
       "      <th>6</th>\n",
       "      <td>7</td>\n",
       "      <td>258</td>\n",
       "      <td>2nd Chance (Women's Murder Club  #2)</td>\n",
       "      <td>400</td>\n",
       "      <td>2005-05-20</td>\n",
       "      <td>116</td>\n",
       "    </tr>\n",
       "    <tr>\n",
       "      <th>7</th>\n",
       "      <td>8</td>\n",
       "      <td>260</td>\n",
       "      <td>4th of July (Women's Murder Club  #4)</td>\n",
       "      <td>448</td>\n",
       "      <td>2006-06-01</td>\n",
       "      <td>318</td>\n",
       "    </tr>\n",
       "    <tr>\n",
       "      <th>8</th>\n",
       "      <td>9</td>\n",
       "      <td>563</td>\n",
       "      <td>A Beautiful Mind</td>\n",
       "      <td>461</td>\n",
       "      <td>2002-02-04</td>\n",
       "      <td>104</td>\n",
       "    </tr>\n",
       "    <tr>\n",
       "      <th>9</th>\n",
       "      <td>10</td>\n",
       "      <td>445</td>\n",
       "      <td>A Bend in the Road</td>\n",
       "      <td>341</td>\n",
       "      <td>2005-04-01</td>\n",
       "      <td>116</td>\n",
       "    </tr>\n",
       "  </tbody>\n",
       "</table>\n",
       "</div>"
      ],
      "text/plain": [
       "   book_id  author_id                                              title  \\\n",
       "0        1        546                                       'Salem's Lot   \n",
       "1        2        465                 1 000 Places to See Before You Die   \n",
       "2        3        407  13 Little Blue Envelopes (Little Blue Envelope...   \n",
       "3        4         82  1491: New Revelations of the Americas Before C...   \n",
       "4        5        125                                               1776   \n",
       "5        6        257               1st to Die (Women's Murder Club  #1)   \n",
       "6        7        258               2nd Chance (Women's Murder Club  #2)   \n",
       "7        8        260              4th of July (Women's Murder Club  #4)   \n",
       "8        9        563                                   A Beautiful Mind   \n",
       "9       10        445                                 A Bend in the Road   \n",
       "\n",
       "   num_pages publication_date  publisher_id  \n",
       "0        594       2005-11-01            93  \n",
       "1        992       2003-05-22           336  \n",
       "2        322       2010-12-21           135  \n",
       "3        541       2006-10-10           309  \n",
       "4        386       2006-07-04           268  \n",
       "5        424       2005-05-20           116  \n",
       "6        400       2005-05-20           116  \n",
       "7        448       2006-06-01           318  \n",
       "8        461       2002-02-04           104  \n",
       "9        341       2005-04-01           116  "
      ]
     },
     "execution_count": 4,
     "metadata": {},
     "output_type": "execute_result"
    }
   ],
   "source": [
    "# выведем первые 10 строк таблицы\n",
    "query = '''\n",
    "SELECT *\n",
    "FROM books\n",
    "LIMIT 10\n",
    "'''\n",
    "\n",
    "pd.io.sql.read_sql(query, con = engine) "
   ]
  },
  {
   "cell_type": "markdown",
   "id": "b2287027",
   "metadata": {},
   "source": [
    "Согласно описанию данных, таблица содержит данные о книгах:\n",
    "- `book_id` — идентификатор книги;\n",
    "- `author_id` — идентификатор автора;\n",
    "- `title` — название книги;\n",
    "- `num_pages` — количество страниц;\n",
    "- `publication_date` — дата публикации книги;\n",
    "- `publisher_id` — идентификатор издателя."
   ]
  },
  {
   "cell_type": "markdown",
   "id": "0aadd0d1",
   "metadata": {},
   "source": [
    "### Обзор таблицы `authors`"
   ]
  },
  {
   "cell_type": "markdown",
   "id": "3c224de3",
   "metadata": {},
   "source": [
    "Познакомимся с данными таблицы `authors`:"
   ]
  },
  {
   "cell_type": "code",
   "execution_count": 5,
   "id": "7fce6b19",
   "metadata": {
    "ExecuteTime": {
     "end_time": "2022-09-17T08:04:44.674148Z",
     "start_time": "2022-09-17T08:04:44.457299Z"
    }
   },
   "outputs": [
    {
     "data": {
      "text/html": [
       "<div>\n",
       "<style scoped>\n",
       "    .dataframe tbody tr th:only-of-type {\n",
       "        vertical-align: middle;\n",
       "    }\n",
       "\n",
       "    .dataframe tbody tr th {\n",
       "        vertical-align: top;\n",
       "    }\n",
       "\n",
       "    .dataframe thead th {\n",
       "        text-align: right;\n",
       "    }\n",
       "</style>\n",
       "<table border=\"1\" class=\"dataframe\">\n",
       "  <thead>\n",
       "    <tr style=\"text-align: right;\">\n",
       "      <th></th>\n",
       "      <th>author_id</th>\n",
       "      <th>author</th>\n",
       "    </tr>\n",
       "  </thead>\n",
       "  <tbody>\n",
       "    <tr>\n",
       "      <th>0</th>\n",
       "      <td>1</td>\n",
       "      <td>A.S. Byatt</td>\n",
       "    </tr>\n",
       "    <tr>\n",
       "      <th>1</th>\n",
       "      <td>2</td>\n",
       "      <td>Aesop/Laura Harris/Laura Gibbs</td>\n",
       "    </tr>\n",
       "    <tr>\n",
       "      <th>2</th>\n",
       "      <td>3</td>\n",
       "      <td>Agatha Christie</td>\n",
       "    </tr>\n",
       "    <tr>\n",
       "      <th>3</th>\n",
       "      <td>4</td>\n",
       "      <td>Alan Brennert</td>\n",
       "    </tr>\n",
       "    <tr>\n",
       "      <th>4</th>\n",
       "      <td>5</td>\n",
       "      <td>Alan Moore/David   Lloyd</td>\n",
       "    </tr>\n",
       "    <tr>\n",
       "      <th>5</th>\n",
       "      <td>6</td>\n",
       "      <td>Alan Paton</td>\n",
       "    </tr>\n",
       "    <tr>\n",
       "      <th>6</th>\n",
       "      <td>7</td>\n",
       "      <td>Albert Camus/Justin O'Brien</td>\n",
       "    </tr>\n",
       "    <tr>\n",
       "      <th>7</th>\n",
       "      <td>8</td>\n",
       "      <td>Aldous Huxley</td>\n",
       "    </tr>\n",
       "    <tr>\n",
       "      <th>8</th>\n",
       "      <td>9</td>\n",
       "      <td>Aldous Huxley/Christopher Hitchens</td>\n",
       "    </tr>\n",
       "    <tr>\n",
       "      <th>9</th>\n",
       "      <td>10</td>\n",
       "      <td>Aleksandr Solzhenitsyn/H.T. Willetts</td>\n",
       "    </tr>\n",
       "  </tbody>\n",
       "</table>\n",
       "</div>"
      ],
      "text/plain": [
       "   author_id                                author\n",
       "0          1                            A.S. Byatt\n",
       "1          2        Aesop/Laura Harris/Laura Gibbs\n",
       "2          3                       Agatha Christie\n",
       "3          4                         Alan Brennert\n",
       "4          5              Alan Moore/David   Lloyd\n",
       "5          6                            Alan Paton\n",
       "6          7           Albert Camus/Justin O'Brien\n",
       "7          8                         Aldous Huxley\n",
       "8          9    Aldous Huxley/Christopher Hitchens\n",
       "9         10  Aleksandr Solzhenitsyn/H.T. Willetts"
      ]
     },
     "execution_count": 5,
     "metadata": {},
     "output_type": "execute_result"
    }
   ],
   "source": [
    "# выведем первые 10 строк таблицы\n",
    "query = '''\n",
    "SELECT *\n",
    "FROM authors\n",
    "LIMIT 10\n",
    "'''\n",
    "\n",
    "pd.io.sql.read_sql(query, con = engine) "
   ]
  },
  {
   "cell_type": "markdown",
   "id": "a2e309ff",
   "metadata": {},
   "source": [
    "Согласно описанию данных, таблица содержит данные об авторах:\n",
    "- `author_id` — идентификатор автора;\n",
    "- `author` — имя автора."
   ]
  },
  {
   "cell_type": "markdown",
   "id": "2270fa41",
   "metadata": {},
   "source": [
    "### Обзор таблицы `publishers`"
   ]
  },
  {
   "cell_type": "markdown",
   "id": "0431f81b",
   "metadata": {},
   "source": [
    "Познакомимся с данными таблицы `publishers`:"
   ]
  },
  {
   "cell_type": "code",
   "execution_count": 6,
   "id": "4625df4f",
   "metadata": {
    "ExecuteTime": {
     "end_time": "2022-09-17T08:04:44.878192Z",
     "start_time": "2022-09-17T08:04:44.679152Z"
    }
   },
   "outputs": [
    {
     "data": {
      "text/html": [
       "<div>\n",
       "<style scoped>\n",
       "    .dataframe tbody tr th:only-of-type {\n",
       "        vertical-align: middle;\n",
       "    }\n",
       "\n",
       "    .dataframe tbody tr th {\n",
       "        vertical-align: top;\n",
       "    }\n",
       "\n",
       "    .dataframe thead th {\n",
       "        text-align: right;\n",
       "    }\n",
       "</style>\n",
       "<table border=\"1\" class=\"dataframe\">\n",
       "  <thead>\n",
       "    <tr style=\"text-align: right;\">\n",
       "      <th></th>\n",
       "      <th>publisher_id</th>\n",
       "      <th>publisher</th>\n",
       "    </tr>\n",
       "  </thead>\n",
       "  <tbody>\n",
       "    <tr>\n",
       "      <th>0</th>\n",
       "      <td>1</td>\n",
       "      <td>Ace</td>\n",
       "    </tr>\n",
       "    <tr>\n",
       "      <th>1</th>\n",
       "      <td>2</td>\n",
       "      <td>Ace Book</td>\n",
       "    </tr>\n",
       "    <tr>\n",
       "      <th>2</th>\n",
       "      <td>3</td>\n",
       "      <td>Ace Books</td>\n",
       "    </tr>\n",
       "    <tr>\n",
       "      <th>3</th>\n",
       "      <td>4</td>\n",
       "      <td>Ace Hardcover</td>\n",
       "    </tr>\n",
       "    <tr>\n",
       "      <th>4</th>\n",
       "      <td>5</td>\n",
       "      <td>Addison Wesley Publishing Company</td>\n",
       "    </tr>\n",
       "    <tr>\n",
       "      <th>5</th>\n",
       "      <td>6</td>\n",
       "      <td>Aladdin</td>\n",
       "    </tr>\n",
       "    <tr>\n",
       "      <th>6</th>\n",
       "      <td>7</td>\n",
       "      <td>Aladdin Paperbacks</td>\n",
       "    </tr>\n",
       "    <tr>\n",
       "      <th>7</th>\n",
       "      <td>8</td>\n",
       "      <td>Albin Michel</td>\n",
       "    </tr>\n",
       "    <tr>\n",
       "      <th>8</th>\n",
       "      <td>9</td>\n",
       "      <td>Alfred A. Knopf</td>\n",
       "    </tr>\n",
       "    <tr>\n",
       "      <th>9</th>\n",
       "      <td>10</td>\n",
       "      <td>Alfred A. Knopf Books for Young Readers</td>\n",
       "    </tr>\n",
       "  </tbody>\n",
       "</table>\n",
       "</div>"
      ],
      "text/plain": [
       "   publisher_id                                publisher\n",
       "0             1                                      Ace\n",
       "1             2                                 Ace Book\n",
       "2             3                                Ace Books\n",
       "3             4                            Ace Hardcover\n",
       "4             5        Addison Wesley Publishing Company\n",
       "5             6                                  Aladdin\n",
       "6             7                       Aladdin Paperbacks\n",
       "7             8                             Albin Michel\n",
       "8             9                          Alfred A. Knopf\n",
       "9            10  Alfred A. Knopf Books for Young Readers"
      ]
     },
     "execution_count": 6,
     "metadata": {},
     "output_type": "execute_result"
    }
   ],
   "source": [
    "# выведем первые 10 строк таблицы\n",
    "query = '''\n",
    "SELECT *\n",
    "FROM publishers\n",
    "LIMIT 10\n",
    "'''\n",
    "\n",
    "pd.io.sql.read_sql(query, con = engine) "
   ]
  },
  {
   "cell_type": "markdown",
   "id": "3b6be084",
   "metadata": {},
   "source": [
    "Согласно описанию данных, таблица содержит данные об издательствах:\n",
    "- `publisher_id` — идентификатор издательства;\n",
    "- `publisher` — название издательства."
   ]
  },
  {
   "cell_type": "markdown",
   "id": "3eaac529",
   "metadata": {},
   "source": [
    "### Обзор таблицы `ratings`"
   ]
  },
  {
   "cell_type": "markdown",
   "id": "fdd4ade0",
   "metadata": {},
   "source": [
    "Познакомимся с данными таблицы `ratings`:"
   ]
  },
  {
   "cell_type": "code",
   "execution_count": 7,
   "id": "318df18c",
   "metadata": {
    "ExecuteTime": {
     "end_time": "2022-09-17T08:04:45.068269Z",
     "start_time": "2022-09-17T08:04:44.882187Z"
    }
   },
   "outputs": [
    {
     "data": {
      "text/html": [
       "<div>\n",
       "<style scoped>\n",
       "    .dataframe tbody tr th:only-of-type {\n",
       "        vertical-align: middle;\n",
       "    }\n",
       "\n",
       "    .dataframe tbody tr th {\n",
       "        vertical-align: top;\n",
       "    }\n",
       "\n",
       "    .dataframe thead th {\n",
       "        text-align: right;\n",
       "    }\n",
       "</style>\n",
       "<table border=\"1\" class=\"dataframe\">\n",
       "  <thead>\n",
       "    <tr style=\"text-align: right;\">\n",
       "      <th></th>\n",
       "      <th>rating_id</th>\n",
       "      <th>book_id</th>\n",
       "      <th>username</th>\n",
       "      <th>rating</th>\n",
       "    </tr>\n",
       "  </thead>\n",
       "  <tbody>\n",
       "    <tr>\n",
       "      <th>0</th>\n",
       "      <td>1</td>\n",
       "      <td>1</td>\n",
       "      <td>ryanfranco</td>\n",
       "      <td>4</td>\n",
       "    </tr>\n",
       "    <tr>\n",
       "      <th>1</th>\n",
       "      <td>2</td>\n",
       "      <td>1</td>\n",
       "      <td>grantpatricia</td>\n",
       "      <td>2</td>\n",
       "    </tr>\n",
       "    <tr>\n",
       "      <th>2</th>\n",
       "      <td>3</td>\n",
       "      <td>1</td>\n",
       "      <td>brandtandrea</td>\n",
       "      <td>5</td>\n",
       "    </tr>\n",
       "    <tr>\n",
       "      <th>3</th>\n",
       "      <td>4</td>\n",
       "      <td>2</td>\n",
       "      <td>lorichen</td>\n",
       "      <td>3</td>\n",
       "    </tr>\n",
       "    <tr>\n",
       "      <th>4</th>\n",
       "      <td>5</td>\n",
       "      <td>2</td>\n",
       "      <td>mariokeller</td>\n",
       "      <td>2</td>\n",
       "    </tr>\n",
       "    <tr>\n",
       "      <th>5</th>\n",
       "      <td>6</td>\n",
       "      <td>3</td>\n",
       "      <td>johnsonamanda</td>\n",
       "      <td>4</td>\n",
       "    </tr>\n",
       "    <tr>\n",
       "      <th>6</th>\n",
       "      <td>7</td>\n",
       "      <td>3</td>\n",
       "      <td>scotttamara</td>\n",
       "      <td>5</td>\n",
       "    </tr>\n",
       "    <tr>\n",
       "      <th>7</th>\n",
       "      <td>8</td>\n",
       "      <td>3</td>\n",
       "      <td>lesliegibbs</td>\n",
       "      <td>5</td>\n",
       "    </tr>\n",
       "    <tr>\n",
       "      <th>8</th>\n",
       "      <td>9</td>\n",
       "      <td>4</td>\n",
       "      <td>abbottjames</td>\n",
       "      <td>5</td>\n",
       "    </tr>\n",
       "    <tr>\n",
       "      <th>9</th>\n",
       "      <td>10</td>\n",
       "      <td>4</td>\n",
       "      <td>valenciaanne</td>\n",
       "      <td>4</td>\n",
       "    </tr>\n",
       "  </tbody>\n",
       "</table>\n",
       "</div>"
      ],
      "text/plain": [
       "   rating_id  book_id       username  rating\n",
       "0          1        1     ryanfranco       4\n",
       "1          2        1  grantpatricia       2\n",
       "2          3        1   brandtandrea       5\n",
       "3          4        2       lorichen       3\n",
       "4          5        2    mariokeller       2\n",
       "5          6        3  johnsonamanda       4\n",
       "6          7        3    scotttamara       5\n",
       "7          8        3    lesliegibbs       5\n",
       "8          9        4    abbottjames       5\n",
       "9         10        4   valenciaanne       4"
      ]
     },
     "execution_count": 7,
     "metadata": {},
     "output_type": "execute_result"
    }
   ],
   "source": [
    "# выведем первые 10 строк таблицы\n",
    "query = '''\n",
    "SELECT *\n",
    "FROM ratings\n",
    "LIMIT 10\n",
    "'''\n",
    "\n",
    "pd.io.sql.read_sql(query, con = engine) "
   ]
  },
  {
   "cell_type": "markdown",
   "id": "6419b91c",
   "metadata": {},
   "source": [
    "Согласно описанию данных, таблица содержит данные о пользовательских оценках книг:\n",
    "- `rating_id` — идентификатор оценки;\n",
    "- `book_id` — идентификатор книги;\n",
    "- `username` — имя пользователя, оставившего оценку;\n",
    "- `rating` — оценка книги."
   ]
  },
  {
   "cell_type": "markdown",
   "id": "5da5e8bf",
   "metadata": {},
   "source": [
    "### Обзор таблицы `reviews`"
   ]
  },
  {
   "cell_type": "markdown",
   "id": "ddec67c0",
   "metadata": {},
   "source": [
    "Познакомимся с данными таблицы `reviews`:"
   ]
  },
  {
   "cell_type": "code",
   "execution_count": 8,
   "id": "d79542a9",
   "metadata": {
    "ExecuteTime": {
     "end_time": "2022-09-17T08:04:45.305837Z",
     "start_time": "2022-09-17T08:04:45.080268Z"
    }
   },
   "outputs": [
    {
     "data": {
      "text/html": [
       "<div>\n",
       "<style scoped>\n",
       "    .dataframe tbody tr th:only-of-type {\n",
       "        vertical-align: middle;\n",
       "    }\n",
       "\n",
       "    .dataframe tbody tr th {\n",
       "        vertical-align: top;\n",
       "    }\n",
       "\n",
       "    .dataframe thead th {\n",
       "        text-align: right;\n",
       "    }\n",
       "</style>\n",
       "<table border=\"1\" class=\"dataframe\">\n",
       "  <thead>\n",
       "    <tr style=\"text-align: right;\">\n",
       "      <th></th>\n",
       "      <th>review_id</th>\n",
       "      <th>book_id</th>\n",
       "      <th>username</th>\n",
       "      <th>text</th>\n",
       "    </tr>\n",
       "  </thead>\n",
       "  <tbody>\n",
       "    <tr>\n",
       "      <th>0</th>\n",
       "      <td>1</td>\n",
       "      <td>1</td>\n",
       "      <td>brandtandrea</td>\n",
       "      <td>Mention society tell send professor analysis. ...</td>\n",
       "    </tr>\n",
       "    <tr>\n",
       "      <th>1</th>\n",
       "      <td>2</td>\n",
       "      <td>1</td>\n",
       "      <td>ryanfranco</td>\n",
       "      <td>Foot glass pretty audience hit themselves. Amo...</td>\n",
       "    </tr>\n",
       "    <tr>\n",
       "      <th>2</th>\n",
       "      <td>3</td>\n",
       "      <td>2</td>\n",
       "      <td>lorichen</td>\n",
       "      <td>Listen treat keep worry. Miss husband tax but ...</td>\n",
       "    </tr>\n",
       "    <tr>\n",
       "      <th>3</th>\n",
       "      <td>4</td>\n",
       "      <td>3</td>\n",
       "      <td>johnsonamanda</td>\n",
       "      <td>Finally month interesting blue could nature cu...</td>\n",
       "    </tr>\n",
       "    <tr>\n",
       "      <th>4</th>\n",
       "      <td>5</td>\n",
       "      <td>3</td>\n",
       "      <td>scotttamara</td>\n",
       "      <td>Nation purpose heavy give wait song will. List...</td>\n",
       "    </tr>\n",
       "    <tr>\n",
       "      <th>5</th>\n",
       "      <td>6</td>\n",
       "      <td>3</td>\n",
       "      <td>lesliegibbs</td>\n",
       "      <td>Analysis no several cause international.</td>\n",
       "    </tr>\n",
       "    <tr>\n",
       "      <th>6</th>\n",
       "      <td>7</td>\n",
       "      <td>4</td>\n",
       "      <td>valenciaanne</td>\n",
       "      <td>One there cost another. Say type save. With pe...</td>\n",
       "    </tr>\n",
       "    <tr>\n",
       "      <th>7</th>\n",
       "      <td>8</td>\n",
       "      <td>4</td>\n",
       "      <td>abbottjames</td>\n",
       "      <td>Within enough mother. There at system full rec...</td>\n",
       "    </tr>\n",
       "    <tr>\n",
       "      <th>8</th>\n",
       "      <td>9</td>\n",
       "      <td>5</td>\n",
       "      <td>npowers</td>\n",
       "      <td>Thank now focus realize economy focus fly. Ite...</td>\n",
       "    </tr>\n",
       "    <tr>\n",
       "      <th>9</th>\n",
       "      <td>10</td>\n",
       "      <td>5</td>\n",
       "      <td>staylor</td>\n",
       "      <td>Game push lot reduce where remember. Including...</td>\n",
       "    </tr>\n",
       "  </tbody>\n",
       "</table>\n",
       "</div>"
      ],
      "text/plain": [
       "   review_id  book_id       username  \\\n",
       "0          1        1   brandtandrea   \n",
       "1          2        1     ryanfranco   \n",
       "2          3        2       lorichen   \n",
       "3          4        3  johnsonamanda   \n",
       "4          5        3    scotttamara   \n",
       "5          6        3    lesliegibbs   \n",
       "6          7        4   valenciaanne   \n",
       "7          8        4    abbottjames   \n",
       "8          9        5        npowers   \n",
       "9         10        5        staylor   \n",
       "\n",
       "                                                text  \n",
       "0  Mention society tell send professor analysis. ...  \n",
       "1  Foot glass pretty audience hit themselves. Amo...  \n",
       "2  Listen treat keep worry. Miss husband tax but ...  \n",
       "3  Finally month interesting blue could nature cu...  \n",
       "4  Nation purpose heavy give wait song will. List...  \n",
       "5           Analysis no several cause international.  \n",
       "6  One there cost another. Say type save. With pe...  \n",
       "7  Within enough mother. There at system full rec...  \n",
       "8  Thank now focus realize economy focus fly. Ite...  \n",
       "9  Game push lot reduce where remember. Including...  "
      ]
     },
     "execution_count": 8,
     "metadata": {},
     "output_type": "execute_result"
    }
   ],
   "source": [
    "# выведем первые 10 строк таблицы\n",
    "query = '''\n",
    "SELECT *\n",
    "FROM reviews\n",
    "LIMIT 10\n",
    "'''\n",
    "\n",
    "pd.io.sql.read_sql(query, con = engine) "
   ]
  },
  {
   "cell_type": "markdown",
   "id": "9333d280",
   "metadata": {},
   "source": [
    "Согласно описанию данных, таблица содержит данные о пользовательских обзорах на книги:\n",
    "- `review_id` — идентификатор обзора;\n",
    "- `book_id` — идентификатор книги;\n",
    "- `username` — имя пользователя, написавшего обзор;\n",
    "- `text` — текст обзора."
   ]
  },
  {
   "cell_type": "markdown",
   "id": "343d4345",
   "metadata": {},
   "source": [
    "---"
   ]
  },
  {
   "cell_type": "markdown",
   "id": "d3bfb81b",
   "metadata": {},
   "source": [
    "## Ответы на вопросы исследования"
   ]
  },
  {
   "cell_type": "markdown",
   "id": "1239361c",
   "metadata": {},
   "source": [
    "### Сколько книг вышло после 1 января 2000 года\n"
   ]
  },
  {
   "cell_type": "code",
   "execution_count": 9,
   "id": "0b62d0fe",
   "metadata": {
    "ExecuteTime": {
     "end_time": "2022-09-17T08:04:45.509399Z",
     "start_time": "2022-09-17T08:04:45.313810Z"
    }
   },
   "outputs": [
    {
     "data": {
      "text/html": [
       "<div>\n",
       "<style scoped>\n",
       "    .dataframe tbody tr th:only-of-type {\n",
       "        vertical-align: middle;\n",
       "    }\n",
       "\n",
       "    .dataframe tbody tr th {\n",
       "        vertical-align: top;\n",
       "    }\n",
       "\n",
       "    .dataframe thead th {\n",
       "        text-align: right;\n",
       "    }\n",
       "</style>\n",
       "<table border=\"1\" class=\"dataframe\">\n",
       "  <thead>\n",
       "    <tr style=\"text-align: right;\">\n",
       "      <th></th>\n",
       "      <th>count</th>\n",
       "    </tr>\n",
       "  </thead>\n",
       "  <tbody>\n",
       "    <tr>\n",
       "      <th>0</th>\n",
       "      <td>819</td>\n",
       "    </tr>\n",
       "  </tbody>\n",
       "</table>\n",
       "</div>"
      ],
      "text/plain": [
       "   count\n",
       "0    819"
      ]
     },
     "execution_count": 9,
     "metadata": {},
     "output_type": "execute_result"
    }
   ],
   "source": [
    "# составим запрос\n",
    "query = '''\n",
    "SELECT COUNT(book_id)\n",
    "FROM books\n",
    "WHERE publication_date > '2000-01-01'\n",
    "'''\n",
    "\n",
    "# выполним запрос\n",
    "pd.io.sql.read_sql(query, con = engine) "
   ]
  },
  {
   "cell_type": "markdown",
   "id": "33fd13f8",
   "metadata": {},
   "source": [
    "После 1 января 2000 года вышло 819 книг."
   ]
  },
  {
   "cell_type": "markdown",
   "id": "ef388722",
   "metadata": {},
   "source": [
    "### Для каждой книги посчитать количество обзоров и среднюю оценку;"
   ]
  },
  {
   "cell_type": "code",
   "execution_count": 10,
   "id": "08a0a4aa",
   "metadata": {
    "ExecuteTime": {
     "end_time": "2022-09-17T08:04:45.967265Z",
     "start_time": "2022-09-17T08:04:45.519400Z"
    }
   },
   "outputs": [
    {
     "data": {
      "text/html": [
       "<div>\n",
       "<style scoped>\n",
       "    .dataframe tbody tr th:only-of-type {\n",
       "        vertical-align: middle;\n",
       "    }\n",
       "\n",
       "    .dataframe tbody tr th {\n",
       "        vertical-align: top;\n",
       "    }\n",
       "\n",
       "    .dataframe thead th {\n",
       "        text-align: right;\n",
       "    }\n",
       "</style>\n",
       "<table border=\"1\" class=\"dataframe\">\n",
       "  <thead>\n",
       "    <tr style=\"text-align: right;\">\n",
       "      <th></th>\n",
       "      <th>book_id</th>\n",
       "      <th>title</th>\n",
       "      <th>review_count</th>\n",
       "      <th>avg_rating</th>\n",
       "    </tr>\n",
       "  </thead>\n",
       "  <tbody>\n",
       "    <tr>\n",
       "      <th>0</th>\n",
       "      <td>652</td>\n",
       "      <td>The Body in the Library (Miss Marple  #3)</td>\n",
       "      <td>2.0</td>\n",
       "      <td>4.500000</td>\n",
       "    </tr>\n",
       "    <tr>\n",
       "      <th>1</th>\n",
       "      <td>273</td>\n",
       "      <td>Galápagos</td>\n",
       "      <td>2.0</td>\n",
       "      <td>4.500000</td>\n",
       "    </tr>\n",
       "    <tr>\n",
       "      <th>2</th>\n",
       "      <td>51</td>\n",
       "      <td>A Tree Grows in Brooklyn</td>\n",
       "      <td>5.0</td>\n",
       "      <td>4.250000</td>\n",
       "    </tr>\n",
       "    <tr>\n",
       "      <th>3</th>\n",
       "      <td>951</td>\n",
       "      <td>Undaunted Courage: The Pioneering First Missio...</td>\n",
       "      <td>2.0</td>\n",
       "      <td>4.000000</td>\n",
       "    </tr>\n",
       "    <tr>\n",
       "      <th>4</th>\n",
       "      <td>839</td>\n",
       "      <td>The Prophet</td>\n",
       "      <td>4.0</td>\n",
       "      <td>4.285714</td>\n",
       "    </tr>\n",
       "    <tr>\n",
       "      <th>...</th>\n",
       "      <td>...</td>\n",
       "      <td>...</td>\n",
       "      <td>...</td>\n",
       "      <td>...</td>\n",
       "    </tr>\n",
       "    <tr>\n",
       "      <th>995</th>\n",
       "      <td>672</td>\n",
       "      <td>The Cat in the Hat and Other Dr. Seuss Favorites</td>\n",
       "      <td>NaN</td>\n",
       "      <td>5.000000</td>\n",
       "    </tr>\n",
       "    <tr>\n",
       "      <th>996</th>\n",
       "      <td>83</td>\n",
       "      <td>Anne Rice's The Vampire Lestat: A Graphic Novel</td>\n",
       "      <td>NaN</td>\n",
       "      <td>3.666667</td>\n",
       "    </tr>\n",
       "    <tr>\n",
       "      <th>997</th>\n",
       "      <td>221</td>\n",
       "      <td>Essential Tales and Poems</td>\n",
       "      <td>NaN</td>\n",
       "      <td>4.000000</td>\n",
       "    </tr>\n",
       "    <tr>\n",
       "      <th>998</th>\n",
       "      <td>387</td>\n",
       "      <td>Leonardo's Notebooks</td>\n",
       "      <td>NaN</td>\n",
       "      <td>4.000000</td>\n",
       "    </tr>\n",
       "    <tr>\n",
       "      <th>999</th>\n",
       "      <td>808</td>\n",
       "      <td>The Natural Way to Draw</td>\n",
       "      <td>NaN</td>\n",
       "      <td>3.000000</td>\n",
       "    </tr>\n",
       "  </tbody>\n",
       "</table>\n",
       "<p>1000 rows × 4 columns</p>\n",
       "</div>"
      ],
      "text/plain": [
       "     book_id                                              title  review_count  \\\n",
       "0        652          The Body in the Library (Miss Marple  #3)           2.0   \n",
       "1        273                                          Galápagos           2.0   \n",
       "2         51                           A Tree Grows in Brooklyn           5.0   \n",
       "3        951  Undaunted Courage: The Pioneering First Missio...           2.0   \n",
       "4        839                                        The Prophet           4.0   \n",
       "..       ...                                                ...           ...   \n",
       "995      672   The Cat in the Hat and Other Dr. Seuss Favorites           NaN   \n",
       "996       83    Anne Rice's The Vampire Lestat: A Graphic Novel           NaN   \n",
       "997      221                          Essential Tales and Poems           NaN   \n",
       "998      387                               Leonardo's Notebooks           NaN   \n",
       "999      808                            The Natural Way to Draw           NaN   \n",
       "\n",
       "     avg_rating  \n",
       "0      4.500000  \n",
       "1      4.500000  \n",
       "2      4.250000  \n",
       "3      4.000000  \n",
       "4      4.285714  \n",
       "..          ...  \n",
       "995    5.000000  \n",
       "996    3.666667  \n",
       "997    4.000000  \n",
       "998    4.000000  \n",
       "999    3.000000  \n",
       "\n",
       "[1000 rows x 4 columns]"
      ]
     },
     "execution_count": 10,
     "metadata": {},
     "output_type": "execute_result"
    }
   ],
   "source": [
    "# составим запрос\n",
    "query = '''\n",
    "WITH\n",
    "books_review_counts AS\n",
    "  (SELECT book_id,\n",
    "          COUNT(review_id) AS review_count\n",
    "   FROM reviews\n",
    "   GROUP BY book_id),\n",
    " \n",
    "books_ratings AS \n",
    "  (SELECT book_id,\n",
    "          AVG(rating) AS avg_rating\n",
    "   FROM ratings\n",
    "   GROUP BY book_id)\n",
    "\n",
    "SELECT b.book_id,\n",
    "        b.title,\n",
    "        rc.review_count,\n",
    "        br.avg_rating\n",
    "FROM books AS b\n",
    "LEFT JOIN books_review_counts AS rc ON b.book_id = rc.book_id\n",
    "LEFT JOIN books_ratings AS br ON b.book_id = br.book_id\n",
    "'''\n",
    "\n",
    "# выполним запрос\n",
    "pd.io.sql.read_sql(query, con = engine) "
   ]
  },
  {
   "cell_type": "markdown",
   "id": "9e89cb28",
   "metadata": {},
   "source": [
    "Мы посчитали количество обзоров и средний рейтинг для каждой книги. Отметим, что не обо всех книгах читатели оставили отзывы."
   ]
  },
  {
   "cell_type": "markdown",
   "id": "8e66f7a4",
   "metadata": {},
   "source": [
    "### Определить издательство, которое выпустило наибольшее число книг толще 50 страниц (исключит из анализа брошюры);"
   ]
  },
  {
   "cell_type": "code",
   "execution_count": 11,
   "id": "f09107ab",
   "metadata": {
    "ExecuteTime": {
     "end_time": "2022-09-17T08:04:46.220183Z",
     "start_time": "2022-09-17T08:04:45.971251Z"
    }
   },
   "outputs": [
    {
     "data": {
      "text/html": [
       "<div>\n",
       "<style scoped>\n",
       "    .dataframe tbody tr th:only-of-type {\n",
       "        vertical-align: middle;\n",
       "    }\n",
       "\n",
       "    .dataframe tbody tr th {\n",
       "        vertical-align: top;\n",
       "    }\n",
       "\n",
       "    .dataframe thead th {\n",
       "        text-align: right;\n",
       "    }\n",
       "</style>\n",
       "<table border=\"1\" class=\"dataframe\">\n",
       "  <thead>\n",
       "    <tr style=\"text-align: right;\">\n",
       "      <th></th>\n",
       "      <th>publisher</th>\n",
       "      <th>books_published</th>\n",
       "    </tr>\n",
       "  </thead>\n",
       "  <tbody>\n",
       "    <tr>\n",
       "      <th>0</th>\n",
       "      <td>Penguin Books</td>\n",
       "      <td>42</td>\n",
       "    </tr>\n",
       "  </tbody>\n",
       "</table>\n",
       "</div>"
      ],
      "text/plain": [
       "       publisher  books_published\n",
       "0  Penguin Books               42"
      ]
     },
     "execution_count": 11,
     "metadata": {},
     "output_type": "execute_result"
    }
   ],
   "source": [
    "# составим запрос\n",
    "query = '''\n",
    "WITH\n",
    "books_50_publishers AS\n",
    "  (SELECT publisher_id,\n",
    "          COUNT(book_id) AS books_published\n",
    "   FROM books\n",
    "   WHERE num_pages > 50\n",
    "   GROUP BY publisher_id)\n",
    "\n",
    "SELECT p.publisher,\n",
    "       bp.books_published\n",
    "FROM publishers AS p\n",
    "INNER JOIN books_50_publishers AS bp ON p.publisher_id = bp.publisher_id\n",
    "ORDER BY books_published DESC\n",
    "LIMIT 1\n",
    "'''\n",
    "\n",
    "# выполним запрос\n",
    "pd.io.sql.read_sql(query, con = engine) "
   ]
  },
  {
   "cell_type": "markdown",
   "id": "23553d63",
   "metadata": {},
   "source": [
    "Больше всего книг, содержащих более 50 страниц, выпустило издательство *Penguin Books*."
   ]
  },
  {
   "cell_type": "markdown",
   "id": "e4c54652",
   "metadata": {},
   "source": [
    "### Определить автора с самой высокой средней оценкой книг (учитывать только книги с 50 и более оценками);"
   ]
  },
  {
   "cell_type": "code",
   "execution_count": 12,
   "id": "eacbc097",
   "metadata": {
    "ExecuteTime": {
     "end_time": "2022-09-17T08:04:46.459041Z",
     "start_time": "2022-09-17T08:04:46.229136Z"
    }
   },
   "outputs": [
    {
     "data": {
      "text/html": [
       "<div>\n",
       "<style scoped>\n",
       "    .dataframe tbody tr th:only-of-type {\n",
       "        vertical-align: middle;\n",
       "    }\n",
       "\n",
       "    .dataframe tbody tr th {\n",
       "        vertical-align: top;\n",
       "    }\n",
       "\n",
       "    .dataframe thead th {\n",
       "        text-align: right;\n",
       "    }\n",
       "</style>\n",
       "<table border=\"1\" class=\"dataframe\">\n",
       "  <thead>\n",
       "    <tr style=\"text-align: right;\">\n",
       "      <th></th>\n",
       "      <th>author</th>\n",
       "      <th>avg_rating</th>\n",
       "    </tr>\n",
       "  </thead>\n",
       "  <tbody>\n",
       "    <tr>\n",
       "      <th>0</th>\n",
       "      <td>J.K. Rowling/Mary GrandPré</td>\n",
       "      <td>4.283844</td>\n",
       "    </tr>\n",
       "  </tbody>\n",
       "</table>\n",
       "</div>"
      ],
      "text/plain": [
       "                       author  avg_rating\n",
       "0  J.K. Rowling/Mary GrandPré    4.283844"
      ]
     },
     "execution_count": 12,
     "metadata": {},
     "output_type": "execute_result"
    }
   ],
   "source": [
    "# составим запрос\n",
    "query = '''\n",
    "WITH\n",
    "-- посчитаем оценки для книг и выберем с >= 50 оценок\n",
    "fifty_rating_books AS\n",
    "  (SELECT book_id\n",
    "   FROM ratings\n",
    "   GROUP BY book_id\n",
    "   HAVING COUNT(rating_id) >= 50),\n",
    "\n",
    "-- посчитаем средние оценки выбранных книг\n",
    "selected_books_ratings AS\n",
    "  (SELECT book_id,\n",
    "          AVG(rating) AS avg_rating\n",
    "   FROM ratings\n",
    "   WHERE book_id IN (SELECT * FROM fifty_rating_books)\n",
    "   GROUP BY book_id)\n",
    "\n",
    "SELECT a.author,\n",
    "        AVG(sbr.avg_rating) AS avg_rating\n",
    "FROM selected_books_ratings AS sbr\n",
    "LEFT JOIN books AS b ON sbr.book_id = b.book_id\n",
    "LEFT JOIN authors AS a ON a.author_id = b.author_id\n",
    "GROUP BY a.author\n",
    "ORDER BY avg_rating DESC\n",
    "LIMIT 1\n",
    "'''\n",
    "\n",
    "# выполним запрос\n",
    "pd.io.sql.read_sql(query, con = engine) "
   ]
  },
  {
   "cell_type": "markdown",
   "id": "50675085",
   "metadata": {},
   "source": [
    "Авторами с самой высокой средней оценкой книг является писательский дуэт *J.K. Rowling / Mary GrandPré*."
   ]
  },
  {
   "cell_type": "markdown",
   "id": "9878dca7",
   "metadata": {},
   "source": [
    "### Посчитать среднее количество обзоров от пользователей, которые поставили больше 50 оценок."
   ]
  },
  {
   "cell_type": "code",
   "execution_count": 13,
   "id": "f4a6f137",
   "metadata": {
    "ExecuteTime": {
     "end_time": "2022-09-17T08:04:46.677012Z",
     "start_time": "2022-09-17T08:04:46.467039Z"
    }
   },
   "outputs": [
    {
     "data": {
      "text/html": [
       "<div>\n",
       "<style scoped>\n",
       "    .dataframe tbody tr th:only-of-type {\n",
       "        vertical-align: middle;\n",
       "    }\n",
       "\n",
       "    .dataframe tbody tr th {\n",
       "        vertical-align: top;\n",
       "    }\n",
       "\n",
       "    .dataframe thead th {\n",
       "        text-align: right;\n",
       "    }\n",
       "</style>\n",
       "<table border=\"1\" class=\"dataframe\">\n",
       "  <thead>\n",
       "    <tr style=\"text-align: right;\">\n",
       "      <th></th>\n",
       "      <th>avg</th>\n",
       "    </tr>\n",
       "  </thead>\n",
       "  <tbody>\n",
       "    <tr>\n",
       "      <th>0</th>\n",
       "      <td>24.333333</td>\n",
       "    </tr>\n",
       "  </tbody>\n",
       "</table>\n",
       "</div>"
      ],
      "text/plain": [
       "         avg\n",
       "0  24.333333"
      ]
     },
     "execution_count": 13,
     "metadata": {},
     "output_type": "execute_result"
    }
   ],
   "source": [
    "# составим запрос\n",
    "query = '''\n",
    "WITH\n",
    "-- посчитаем количество оценок для каждого пользователя и выберем > 50\n",
    "fifty_rating_users AS\n",
    "(SELECT username\n",
    "FROM ratings\n",
    "GROUP BY username\n",
    "HAVING COUNT(rating_id) > 50),\n",
    "\n",
    "--посчитаем количество обзоров у выделенных пользователей\n",
    "review_counts AS\n",
    "(SELECT username,\n",
    "        COUNT(review_id)\n",
    "FROM reviews\n",
    "WHERE username IN (SELECT * FROM fifty_rating_users)\n",
    "GROUP BY username)\n",
    "\n",
    "SELECT AVG(count)\n",
    "FROM review_counts\n",
    "'''\n",
    "\n",
    "# выполним запрос\n",
    "pd.io.sql.read_sql(query, con = engine) "
   ]
  },
  {
   "cell_type": "markdown",
   "id": "a7f6ec98",
   "metadata": {},
   "source": [
    "Читатели, поставившие более 50 оценок, пишут в среднем по 24 обзора (отзыва)."
   ]
  },
  {
   "cell_type": "markdown",
   "id": "0830cefd",
   "metadata": {},
   "source": [
    "## Выводы"
   ]
  },
  {
   "cell_type": "markdown",
   "id": "c473cbc8",
   "metadata": {},
   "source": [
    "Основываясь на изучении базы данных книжного сервиса, для нового продукта целесообразно, в первую очередь, использовать книги, изданные после 2000 года издательством *Penguin Books*, имеющие не менее 24 отзывов в базе. Особое внимание следует обратить на произведения писательского дуэта *J.K. Rowling / Mary GrandPré*."
   ]
  }
 ],
 "metadata": {
  "kernelspec": {
   "display_name": "da_practicum_env",
   "language": "python",
   "name": "da_practicum_env"
  },
  "language_info": {
   "codemirror_mode": {
    "name": "ipython",
    "version": 3
   },
   "file_extension": ".py",
   "mimetype": "text/x-python",
   "name": "python",
   "nbconvert_exporter": "python",
   "pygments_lexer": "ipython3",
   "version": "3.9.12"
  },
  "toc": {
   "base_numbering": 1,
   "nav_menu": {},
   "number_sections": true,
   "sideBar": true,
   "skip_h1_title": true,
   "title_cell": "Содержание",
   "title_sidebar": "Содержание",
   "toc_cell": true,
   "toc_position": {
    "height": "calc(100% - 180px)",
    "left": "10px",
    "top": "150px",
    "width": "304.475px"
   },
   "toc_section_display": true,
   "toc_window_display": true
  },
  "varInspector": {
   "cols": {
    "lenName": 16,
    "lenType": 16,
    "lenVar": 40
   },
   "kernels_config": {
    "python": {
     "delete_cmd_postfix": "",
     "delete_cmd_prefix": "del ",
     "library": "var_list.py",
     "varRefreshCmd": "print(var_dic_list())"
    },
    "r": {
     "delete_cmd_postfix": ") ",
     "delete_cmd_prefix": "rm(",
     "library": "var_list.r",
     "varRefreshCmd": "cat(var_dic_list()) "
    }
   },
   "types_to_exclude": [
    "module",
    "function",
    "builtin_function_or_method",
    "instance",
    "_Feature"
   ],
   "window_display": false
  }
 },
 "nbformat": 4,
 "nbformat_minor": 5
}
